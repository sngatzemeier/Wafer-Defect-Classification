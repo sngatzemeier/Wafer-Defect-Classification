{
 "cells": [
  {
   "cell_type": "markdown",
   "id": "suitable-jersey",
   "metadata": {},
   "source": [
    "# EDA Notebook\n",
    "Import the data and take a look at different values.  Some information about the data. "
   ]
  },
  {
   "cell_type": "code",
   "execution_count": 134,
   "id": "administrative-carry",
   "metadata": {},
   "outputs": [],
   "source": [
    "# Import Libaries\n",
    "from mpl_toolkits.mplot3d import Axes3D\n",
    "from sklearn.preprocessing import StandardScaler\n",
    "import matplotlib.pyplot as plt # plotting\n",
    "%matplotlib inline\n",
    "plt.style.use('ggplot')\n",
    "from matplotlib import colors\n",
    "from matplotlib import gridspec\n",
    "from matplotlib.ticker import StrMethodFormatter\n",
    "import numpy as np # linear algebra\n",
    "import os # accessing directory structure\n",
    "import pandas as pd # data processing, CSV file I/O (e.g. pd.read_csv)"
   ]
  },
  {
   "cell_type": "markdown",
   "id": "private-league",
   "metadata": {},
   "source": [
    "### Import 38,000 wafers with defect lables\n",
    "To maintain the balance between the various patterns of data, generative adversarial networks were used to generate some wafer maps to maintain the balance of the number of samples among the patterns. \n",
    "\n",
    "Mixed-type wafer map defect dataset can be used to identify mixed-type wafer map defect and assist the research on the causes of defects in the wafer manufacturing process.\n",
    "\n",
    "MixedWM38 Dataset(WaferMap) has more than 38000 wafer maps, including 1 normal pattern, 8 single defect patterns, and 29 mixed defect patterns, a total of 38 defect patterns."
   ]
  },
  {
   "cell_type": "code",
   "execution_count": 91,
   "id": "legal-converter",
   "metadata": {},
   "outputs": [
    {
     "name": "stdout",
     "output_type": "stream",
     "text": [
      "['arr_0', 'arr_1']\n"
     ]
    }
   ],
   "source": [
    "data = np.load('Wafer_Map_Datasets.npz')\n",
    "# Could be better if we load from the web or use the LFS modue in Git\n",
    "#data = np.load('https://drive.google.com/u/0/uc?id=1WBBFiYq-U9xYK83bk37COH6dHsXvLba5&export=download')\n",
    "\n",
    "print(data.files)"
   ]
  },
  {
   "cell_type": "markdown",
   "id": "objective-coaching",
   "metadata": {},
   "source": [
    "\n",
    "## About the Data\n",
    "[‘arr_0’]: Defect data of mixed-type wafer map, 0 means blank spot, 1 represents normal die that passed the electrical test, and 2 represents broken die that failed the electrical test. The data(ndarray) shape is (52, 52).\n",
    "\n",
    "[‘arr_1’]: Mixed-type wafer map defect label, using one-hot encoding, a total of 8 dimensions, corresponding to the 8 basic types of wafer map defects (C2-C9)."
   ]
  },
  {
   "cell_type": "code",
   "execution_count": 92,
   "id": "institutional-height",
   "metadata": {},
   "outputs": [],
   "source": [
    "# Build NP Arrays with wafer maps and defect lables\n",
    "wafer_maps = data['arr_0']\n",
    "defect_labels = data['arr_1']"
   ]
  },
  {
   "cell_type": "code",
   "execution_count": 93,
   "id": "exact-property",
   "metadata": {},
   "outputs": [
    {
     "name": "stdout",
     "output_type": "stream",
     "text": [
      "(38015, 52, 52)\n",
      "(38015, 8)\n"
     ]
    }
   ],
   "source": [
    "# Check out size and shape.  38,015 records\n",
    "print(wafer_maps.shape)\n",
    "print(defect_labels.shape)"
   ]
  },
  {
   "cell_type": "code",
   "execution_count": 113,
   "id": "imperial-sleeping",
   "metadata": {},
   "outputs": [
    {
     "data": {
      "image/png": "[encoded data removed]",
      "text/plain": [
       "<Figure size 360x360 with 25 Axes>"
      ]
     },
     "metadata": {},
     "output_type": "display_data"
    }
   ],
   "source": [
    "# Plot first 25 wafer maps\n",
    "# Note: There are 25 wafers in a lot, so would be good to build a tool \n",
    "# that displays all wafer maps by lot\n",
    "\n",
    "ax_cnt = 5\n",
    "\n",
    "fig, axs = plt.subplots(ax_cnt, ax_cnt, figsize=(ax_cnt, ax_cnt))\n",
    "\n",
    "# make a color map of fixed colors - blue passing die, yellow failing die\n",
    "cmap = colors.ListedColormap(['white', 'blue', 'yellow'])\n",
    "  \n",
    "# Nested for loops to loop through all digits and number of examples input for ploting\n",
    "for i in range(ax_cnt**2):\n",
    "    # imshow to plot image in axs i,j loaction in plot\n",
    "    axs[i%ax_cnt,int(i/ax_cnt)].imshow(wafer_maps[i], interpolation='none', cmap=cmap)\n",
    "    axs[i%ax_cnt,int(i/ax_cnt)].axis('off') \n"
   ]
  },
  {
   "cell_type": "markdown",
   "id": "trained-rwanda",
   "metadata": {},
   "source": [
    "## How to turn wafer map data into best format for spacial defect signature recognition\n",
    "- Leave as NP array - can we leave as 52x52 - should be able to, we did for digit recognition - go back to 207 HW1\n",
    "- Turn into images and use YOLO\n",
    "- Train on each of the defect classifiers and merge output\n",
    "- Train on all classifers at same time"
   ]
  },
  {
   "cell_type": "markdown",
   "id": "featured-marshall",
   "metadata": {},
   "source": [
    "### Take a look at the labels\n",
    "There are 38 types in the mixed-type wafer map defect dataset, including 1 normal type, 8 single defect types, and 29 mixed-type defect types.\n",
    "\n",
    "#### Single Defect Types:\n",
    "- Normal (N)-      [0 0 0 0 0 0 0 0]\n",
    "- Center (C) -     [1 0 0 0 0 0 0 0]\n",
    "- Donut (D) -      [0 1 0 0 0 0 0 0]\n",
    "- Edge-Loc (EL) -  [0 0 1 0 0 0 0 0]\n",
    "- Edge_Ring (ER) - [0 0 0 1 0 0 0 0]\n",
    "- Loc (L) -        [0 0 0 0 1 0 0 0]\n",
    "- Near_Full (NF) - [0 0 0 0 0 1 0 0]\n",
    "- Scratch (S) -    [0 0 0 0 0 0 1 0]\n",
    "- Random(R) -      [0 0 0 0 0 0 0 1]\n",
    "\n",
    "See data description for more details and combinations.  \n",
    "\n",
    "##### Next Steps\n",
    "- Need to build some translations tables by convert digits in NP array into true categories, like the Cxx categories in .pdf.\n",
    "- Then those labels can be use for training\n",
    "- Can be done two ways:\n",
    "    1. Train on all 38 mixed wafer types \n",
    "    2. Train on each defect type individually and then merge per wafer\n",
    "- Once labels are created then perform some EDA to look for problems and data balance\n",
    "- After that is done then can randomly break data set into training and test data and start w/ a few simple models"
   ]
  },
  {
   "cell_type": "code",
   "execution_count": 95,
   "id": "subsequent-bench",
   "metadata": {},
   "outputs": [],
   "source": [
    "# Build Text Labels for ploting\n",
    "text_labels = []\n",
    "for label in defect_labels:\n",
    "    string = \"\"\n",
    "    if label[0] == 1:\n",
    "        string += 'C'\n",
    "    if label[1] == 1:\n",
    "        string += 'D'\n",
    "    if label[2] == 1:\n",
    "        string += 'EL'\n",
    "    if label[3] == 1:\n",
    "        string += 'ER'\n",
    "    if label[4] == 1:\n",
    "        string += 'L'\n",
    "    if label[5] == 1:\n",
    "        string += 'NF'\n",
    "    if label[6] == 1:\n",
    "        string += 'S'\n",
    "    if label[7] == 1:\n",
    "        string += 'R'\n",
    "    if string == \"\":\n",
    "        string = 'N'\n",
    "    text_labels.append(string)\n",
    "    \n",
    "       \n",
    "# Get unique labels\n",
    "# unique, counts = np.unique(defect_labels, return_counts=True)\n",
    "\n",
    "# result = np.column_stack((unique, counts)) \n",
    "# print (result)"
   ]
  },
  {
   "cell_type": "code",
   "execution_count": 96,
   "id": "above-delicious",
   "metadata": {},
   "outputs": [
    {
     "data": {
      "image/png": "[encoded data removed]",
      "text/plain": [
       "<Figure size 1800x1080 with 1 Axes>"
      ]
     },
     "metadata": {},
     "output_type": "display_data"
    }
   ],
   "source": [
    "uni_pattern = np.unique(text_labels, return_counts=True)\n",
    "plt.figure(figsize=(25, 15))\n",
    "plt.bar(uni_pattern[0],uni_pattern[1], color = 'green', alpha=0.9)\n",
    "plt.xlabel(\"Wafer Classification Type\")\n",
    "plt.ylabel(\"Wafer Count\")\n",
    "plt.title(\"Data Set Wafer Classification counts\")\n",
    "plt.show()\n"
   ]
  },
  {
   "cell_type": "markdown",
   "id": "rotary-firewall",
   "metadata": {},
   "source": [
    "### Issues with Dataset\n",
    "We know that in the real work that 'N' wafer would constitue < 90% of the wafers.  We also know that having an equal amount of each data type would not be the case either.  So we need to potentially use a GAN to generate data.\n",
    "\n",
    "---------------------------\n",
    "\n"
   ]
  },
  {
   "cell_type": "markdown",
   "id": "empty-direction",
   "metadata": {},
   "source": [
    "### Additional Dataset\n",
    "Option to leverage the other dataset found here: https://www.kaggle.com/shawon10/wafer-defect-classification-by-deep-learning/data\n",
    "\n",
    "Lets explore this dataset some.  Note: Code below is leveraged from Kaggle Notebook associated with this dataset."
   ]
  },
  {
   "cell_type": "code",
   "execution_count": 97,
   "id": "offensive-donor",
   "metadata": {},
   "outputs": [
    {
     "name": "stdout",
     "output_type": "stream",
     "text": [
      "<class 'pandas.core.frame.DataFrame'>\n",
      "RangeIndex: 811457 entries, 0 to 811456\n",
      "Data columns (total 6 columns):\n",
      " #   Column          Non-Null Count   Dtype  \n",
      "---  ------          --------------   -----  \n",
      " 0   waferMap        811457 non-null  object \n",
      " 1   dieSize         811457 non-null  float64\n",
      " 2   lotName         811457 non-null  object \n",
      " 3   waferIndex      811457 non-null  float64\n",
      " 4   trianTestLabel  811457 non-null  object \n",
      " 5   failureType     811457 non-null  object \n",
      "dtypes: float64(2), object(4)\n",
      "memory usage: 37.1+ MB\n"
     ]
    }
   ],
   "source": [
    "df=pd.read_pickle(\"LSWMD.pkl\")\n",
    "df.info()"
   ]
  },
  {
   "cell_type": "code",
   "execution_count": 98,
   "id": "boring-developer",
   "metadata": {},
   "outputs": [
    {
     "data": {
      "text/html": [
       "<div>\n",
       "<style scoped>\n",
       "    .dataframe tbody tr th:only-of-type {\n",
       "        vertical-align: middle;\n",
       "    }\n",
       "\n",
       "    .dataframe tbody tr th {\n",
       "        vertical-align: top;\n",
       "    }\n",
       "\n",
       "    .dataframe thead th {\n",
       "        text-align: right;\n",
       "    }\n",
       "</style>\n",
       "<table border=\"1\" class=\"dataframe\">\n",
       "  <thead>\n",
       "    <tr style=\"text-align: right;\">\n",
       "      <th></th>\n",
       "      <th>waferMap</th>\n",
       "      <th>dieSize</th>\n",
       "      <th>lotName</th>\n",
       "      <th>waferIndex</th>\n",
       "      <th>trianTestLabel</th>\n",
       "      <th>failureType</th>\n",
       "    </tr>\n",
       "  </thead>\n",
       "  <tbody>\n",
       "    <tr>\n",
       "      <th>811452</th>\n",
       "      <td>[[0, 0, 0, 0, 0, 0, 0, 0, 0, 0, 0, 1, 2, 1, 1,...</td>\n",
       "      <td>600.0</td>\n",
       "      <td>lot47542</td>\n",
       "      <td>23.0</td>\n",
       "      <td>[[Test]]</td>\n",
       "      <td>[[Edge-Ring]]</td>\n",
       "    </tr>\n",
       "    <tr>\n",
       "      <th>811453</th>\n",
       "      <td>[[0, 0, 0, 0, 0, 0, 0, 0, 0, 0, 0, 2, 2, 1, 1,...</td>\n",
       "      <td>600.0</td>\n",
       "      <td>lot47542</td>\n",
       "      <td>24.0</td>\n",
       "      <td>[[Test]]</td>\n",
       "      <td>[[Edge-Loc]]</td>\n",
       "    </tr>\n",
       "    <tr>\n",
       "      <th>811454</th>\n",
       "      <td>[[0, 0, 0, 0, 0, 0, 0, 0, 0, 0, 0, 1, 2, 1, 1,...</td>\n",
       "      <td>600.0</td>\n",
       "      <td>lot47542</td>\n",
       "      <td>25.0</td>\n",
       "      <td>[[Test]]</td>\n",
       "      <td>[[Edge-Ring]]</td>\n",
       "    </tr>\n",
       "    <tr>\n",
       "      <th>811455</th>\n",
       "      <td>[[0, 0, 0, 0, 0, 0, 0, 0, 0, 0, 0, 1, 1, 1, 1,...</td>\n",
       "      <td>600.0</td>\n",
       "      <td>lot47543</td>\n",
       "      <td>1.0</td>\n",
       "      <td>[]</td>\n",
       "      <td>[]</td>\n",
       "    </tr>\n",
       "    <tr>\n",
       "      <th>811456</th>\n",
       "      <td>[[0, 0, 0, 0, 0, 0, 0, 0, 0, 0, 0, 1, 2, 1, 1,...</td>\n",
       "      <td>600.0</td>\n",
       "      <td>lot47543</td>\n",
       "      <td>2.0</td>\n",
       "      <td>[]</td>\n",
       "      <td>[]</td>\n",
       "    </tr>\n",
       "  </tbody>\n",
       "</table>\n",
       "</div>"
      ],
      "text/plain": [
       "                                                 waferMap  dieSize   lotName  \\\n",
       "811452  [[0, 0, 0, 0, 0, 0, 0, 0, 0, 0, 0, 1, 2, 1, 1,...    600.0  lot47542   \n",
       "811453  [[0, 0, 0, 0, 0, 0, 0, 0, 0, 0, 0, 2, 2, 1, 1,...    600.0  lot47542   \n",
       "811454  [[0, 0, 0, 0, 0, 0, 0, 0, 0, 0, 0, 1, 2, 1, 1,...    600.0  lot47542   \n",
       "811455  [[0, 0, 0, 0, 0, 0, 0, 0, 0, 0, 0, 1, 1, 1, 1,...    600.0  lot47543   \n",
       "811456  [[0, 0, 0, 0, 0, 0, 0, 0, 0, 0, 0, 1, 2, 1, 1,...    600.0  lot47543   \n",
       "\n",
       "        waferIndex trianTestLabel    failureType  \n",
       "811452        23.0       [[Test]]  [[Edge-Ring]]  \n",
       "811453        24.0       [[Test]]   [[Edge-Loc]]  \n",
       "811454        25.0       [[Test]]  [[Edge-Ring]]  \n",
       "811455         1.0             []             []  \n",
       "811456         2.0             []             []  "
      ]
     },
     "execution_count": 98,
     "metadata": {},
     "output_type": "execute_result"
    }
   ],
   "source": [
    "df.tail()"
   ]
  },
  {
   "cell_type": "code",
   "execution_count": 99,
   "id": "agricultural-bench",
   "metadata": {},
   "outputs": [
    {
     "name": "stderr",
     "output_type": "stream",
     "text": [
      "C:\\Users\\scott\\Anaconda3\\lib\\site-packages\\pandas\\core\\internals\\managers.py:1911: FutureWarning: elementwise comparison failed; returning scalar instead, but in the future will perform elementwise comparison\n",
      "  op = lambda x: operator.eq(x, b)\n"
     ]
    }
   ],
   "source": [
    "df['failureNum']=df.failureType\n",
    "df['trainTestNum']=df.trianTestLabel\n",
    "mapping_type={'Center':0,'Donut':1,'Edge-Loc':2,'Edge-Ring':3,'Loc':4,'Random':5,'Scratch':6,'Near-full':7,'none':8}\n",
    "mapping_traintest={'Training':0,'Test':1}\n",
    "df=df.replace({'failureNum':mapping_type, 'trainTestNum':mapping_traintest})"
   ]
  },
  {
   "cell_type": "code",
   "execution_count": 100,
   "id": "responsible-compensation",
   "metadata": {},
   "outputs": [
    {
     "data": {
      "text/plain": [
       "811457"
      ]
     },
     "execution_count": 100,
     "metadata": {},
     "output_type": "execute_result"
    }
   ],
   "source": [
    "tol_wafers = df.shape[0]\n",
    "tol_wafers"
   ]
  },
  {
   "cell_type": "code",
   "execution_count": 101,
   "id": "seven-place",
   "metadata": {},
   "outputs": [
    {
     "data": {
      "text/plain": [
       "(172950, 25519, 147431)"
      ]
     },
     "execution_count": 101,
     "metadata": {},
     "output_type": "execute_result"
    }
   ],
   "source": [
    "df_withlabel = df[(df['failureNum']>=0) & (df['failureNum']<=8)]\n",
    "df_withlabel =df_withlabel.reset_index()\n",
    "df_withpattern = df[(df['failureNum']>=0) & (df['failureNum']<=7)]\n",
    "df_withpattern = df_withpattern.reset_index()\n",
    "df_nonpattern = df[(df['failureNum']==8)]\n",
    "df_withlabel.shape[0], df_withpattern.shape[0], df_nonpattern.shape[0]"
   ]
  },
  {
   "cell_type": "code",
   "execution_count": 114,
   "id": "nearby-comment",
   "metadata": {},
   "outputs": [
    {
     "name": "stderr",
     "output_type": "stream",
     "text": [
      "C:\\Users\\scott\\Anaconda3\\lib\\site-packages\\ipykernel_launcher.py:18: UserWarning: FixedFormatter should only be used together with FixedLocator\n"
     ]
    },
    {
     "data": {
      "image/png": "[encoded data removed]",
      "text/plain": [
       "<Figure size 1440x324 with 2 Axes>"
      ]
     },
     "metadata": {},
     "output_type": "display_data"
    }
   ],
   "source": [
    "fig = plt.figure(figsize=(20, 4.5)) \n",
    "gs = gridspec.GridSpec(1, 2, width_ratios=[1, 2.5]) \n",
    "ax1 = plt.subplot(gs[0])\n",
    "ax2 = plt.subplot(gs[1])\n",
    "\n",
    "no_wafers=[tol_wafers-df_withlabel.shape[0], df_withpattern.shape[0], df_nonpattern.shape[0]]\n",
    "\n",
    "p_colors = ['blue', 'green', 'red']\n",
    "explode = (0.1, 0, 0)  # explode 1st slice\n",
    "labels = ['no-label','label and pattern','label and non-pattern']\n",
    "ax1.pie(no_wafers, explode=explode, labels=labels, colors=p_colors, autopct='%1.1f%%', shadow=True, startangle=140)\n",
    "\n",
    "uni_pattern=np.unique(df_withpattern.failureNum, return_counts=True)\n",
    "labels2 = ['','Center','Donut','Edge-Loc','Edge-Ring','Loc','Random','Scratch','Near-full']\n",
    "ax2.bar(uni_pattern[0],uni_pattern[1]/df_withpattern.shape[0], color='green', align='center', alpha=0.9)\n",
    "ax2.set_title(\"failure type frequency\")\n",
    "ax2.set_ylabel(\"% of pattern wafers\")\n",
    "ax2.set_xticklabels(labels2)\n",
    "\n",
    "plt.show()"
   ]
  },
  {
   "cell_type": "markdown",
   "id": "choice-purchase",
   "metadata": {},
   "source": [
    "--------------------------------------\n",
    "### Realistic Dataset\n",
    "- Different products are running, making it more challenging training\n",
    "- Failure types don't all match\n",
    "- Includes Lot ID which should have common defect patterns and can be leverage in our GUI for displays\n",
    "- This is more of what we'd expect with a real fab dataset where 80% of the wafers are random."
   ]
  },
  {
   "cell_type": "code",
   "execution_count": 103,
   "id": "looking-acrylic",
   "metadata": {},
   "outputs": [
    {
     "data": {
      "text/html": [
       "<div>\n",
       "<style scoped>\n",
       "    .dataframe tbody tr th:only-of-type {\n",
       "        vertical-align: middle;\n",
       "    }\n",
       "\n",
       "    .dataframe tbody tr th {\n",
       "        vertical-align: top;\n",
       "    }\n",
       "\n",
       "    .dataframe thead th {\n",
       "        text-align: right;\n",
       "    }\n",
       "</style>\n",
       "<table border=\"1\" class=\"dataframe\">\n",
       "  <thead>\n",
       "    <tr style=\"text-align: right;\">\n",
       "      <th></th>\n",
       "      <th>waferMap</th>\n",
       "      <th>dieSize</th>\n",
       "      <th>lotName</th>\n",
       "      <th>waferIndex</th>\n",
       "      <th>trianTestLabel</th>\n",
       "      <th>failureType</th>\n",
       "      <th>failureNum</th>\n",
       "      <th>trainTestNum</th>\n",
       "    </tr>\n",
       "  </thead>\n",
       "  <tbody>\n",
       "    <tr>\n",
       "      <th>0</th>\n",
       "      <td>[[0, 0, 0, 0, 0, 0, 0, 0, 0, 0, 0, 0, 0, 0, 0,...</td>\n",
       "      <td>1683.0</td>\n",
       "      <td>lot1</td>\n",
       "      <td>1.0</td>\n",
       "      <td>[[Training]]</td>\n",
       "      <td>[[none]]</td>\n",
       "      <td>8</td>\n",
       "      <td>0</td>\n",
       "    </tr>\n",
       "    <tr>\n",
       "      <th>1</th>\n",
       "      <td>[[0, 0, 0, 0, 0, 0, 0, 0, 0, 0, 0, 0, 0, 0, 0,...</td>\n",
       "      <td>1683.0</td>\n",
       "      <td>lot1</td>\n",
       "      <td>2.0</td>\n",
       "      <td>[[Training]]</td>\n",
       "      <td>[[none]]</td>\n",
       "      <td>8</td>\n",
       "      <td>0</td>\n",
       "    </tr>\n",
       "    <tr>\n",
       "      <th>2</th>\n",
       "      <td>[[0, 0, 0, 0, 0, 0, 0, 0, 0, 0, 0, 0, 0, 0, 0,...</td>\n",
       "      <td>1683.0</td>\n",
       "      <td>lot1</td>\n",
       "      <td>3.0</td>\n",
       "      <td>[[Training]]</td>\n",
       "      <td>[[none]]</td>\n",
       "      <td>8</td>\n",
       "      <td>0</td>\n",
       "    </tr>\n",
       "    <tr>\n",
       "      <th>3</th>\n",
       "      <td>[[0, 0, 0, 0, 0, 0, 0, 0, 0, 0, 0, 0, 0, 0, 0,...</td>\n",
       "      <td>1683.0</td>\n",
       "      <td>lot1</td>\n",
       "      <td>4.0</td>\n",
       "      <td>[[Training]]</td>\n",
       "      <td>[[none]]</td>\n",
       "      <td>8</td>\n",
       "      <td>0</td>\n",
       "    </tr>\n",
       "    <tr>\n",
       "      <th>4</th>\n",
       "      <td>[[0, 0, 0, 0, 0, 0, 0, 0, 0, 0, 0, 0, 0, 0, 0,...</td>\n",
       "      <td>1683.0</td>\n",
       "      <td>lot1</td>\n",
       "      <td>5.0</td>\n",
       "      <td>[[Training]]</td>\n",
       "      <td>[[none]]</td>\n",
       "      <td>8</td>\n",
       "      <td>0</td>\n",
       "    </tr>\n",
       "  </tbody>\n",
       "</table>\n",
       "</div>"
      ],
      "text/plain": [
       "                                            waferMap  dieSize lotName  \\\n",
       "0  [[0, 0, 0, 0, 0, 0, 0, 0, 0, 0, 0, 0, 0, 0, 0,...   1683.0    lot1   \n",
       "1  [[0, 0, 0, 0, 0, 0, 0, 0, 0, 0, 0, 0, 0, 0, 0,...   1683.0    lot1   \n",
       "2  [[0, 0, 0, 0, 0, 0, 0, 0, 0, 0, 0, 0, 0, 0, 0,...   1683.0    lot1   \n",
       "3  [[0, 0, 0, 0, 0, 0, 0, 0, 0, 0, 0, 0, 0, 0, 0,...   1683.0    lot1   \n",
       "4  [[0, 0, 0, 0, 0, 0, 0, 0, 0, 0, 0, 0, 0, 0, 0,...   1683.0    lot1   \n",
       "\n",
       "   waferIndex trianTestLabel failureType failureNum trainTestNum  \n",
       "0         1.0   [[Training]]    [[none]]          8            0  \n",
       "1         2.0   [[Training]]    [[none]]          8            0  \n",
       "2         3.0   [[Training]]    [[none]]          8            0  \n",
       "3         4.0   [[Training]]    [[none]]          8            0  \n",
       "4         5.0   [[Training]]    [[none]]          8            0  "
      ]
     },
     "execution_count": 103,
     "metadata": {},
     "output_type": "execute_result"
    }
   ],
   "source": [
    "df.head()"
   ]
  },
  {
   "cell_type": "code",
   "execution_count": 107,
   "id": "animal-handy",
   "metadata": {},
   "outputs": [
    {
     "data": {
      "text/plain": [
       "array([[0, 0, 0, ..., 0, 0, 0],\n",
       "       [0, 0, 0, ..., 0, 0, 0],\n",
       "       [0, 0, 0, ..., 0, 0, 0],\n",
       "       ...,\n",
       "       [0, 0, 0, ..., 0, 0, 0],\n",
       "       [0, 0, 0, ..., 0, 0, 0],\n",
       "       [0, 0, 0, ..., 0, 0, 0]], dtype=uint8)"
      ]
     },
     "execution_count": 107,
     "metadata": {},
     "output_type": "execute_result"
    }
   ],
   "source": [
    "df.waferMap[0]\n"
   ]
  },
  {
   "cell_type": "code",
   "execution_count": 137,
   "id": "higher-presence",
   "metadata": {},
   "outputs": [
    {
     "name": "stdout",
     "output_type": "stream",
     "text": [
      "Lot Names:\n",
      " 0             lot1\n",
      "1             lot1\n",
      "2             lot1\n",
      "3             lot1\n",
      "4             lot1\n",
      "            ...   \n",
      "811452    lot47542\n",
      "811453    lot47542\n",
      "811454    lot47542\n",
      "811455    lot47543\n",
      "811456    lot47543\n",
      "Name: lotName, Length: 811457, dtype: object\n"
     ]
    }
   ],
   "source": [
    "# Lets look at lotName\n",
    "print('Lot Names:\\n', df['lotName'])"
   ]
  },
  {
   "cell_type": "code",
   "execution_count": 136,
   "id": "green-warren",
   "metadata": {},
   "outputs": [
    {
     "data": {
      "image/png": "[encoded data removed]",
      "text/plain": [
       "<Figure size 864x576 with 1 Axes>"
      ]
     },
     "metadata": {},
     "output_type": "display_data"
    }
   ],
   "source": [
    "ax = df.hist(column='dieSize', bins=25, grid=False, figsize=(12,8), color='#86bf91', zorder=2, rwidth=0.9)\n",
    "\n",
    "ax = ax[0]\n",
    "for x in ax:\n",
    "\n",
    "    # Despine\n",
    "    x.spines['right'].set_visible(False)\n",
    "    x.spines['top'].set_visible(False)\n",
    "    x.spines['left'].set_visible(False)\n",
    "\n",
    "    # Switch off ticks\n",
    "    x.tick_params(axis=\"both\", which=\"both\", bottom=\"off\", top=\"off\", labelbottom=\"on\", left=\"off\", right=\"off\", labelleft=\"on\")\n",
    "\n",
    "    # Draw horizontal axis lines\n",
    "    vals = x.get_yticks()\n",
    "    for tick in vals:\n",
    "        x.axhline(y=tick, linestyle='dashed', alpha=0.4, color='#eeeeee', zorder=1)\n",
    "\n",
    "    # Remove title\n",
    "    x.set_title(\"\")\n",
    "\n",
    "    # Set x-axis label\n",
    "    x.set_xlabel(\"Die Size\", labelpad=20, weight='bold', size=12)\n",
    "\n",
    "    # Set y-axis label\n",
    "    x.set_ylabel(\"Count\", labelpad=20, weight='bold', size=12)\n",
    "\n",
    "    # Format y-axis label\n",
    "    x.yaxis.set_major_formatter(StrMethodFormatter('{x:,g}'))"
   ]
  },
  {
   "cell_type": "code",
   "execution_count": 151,
   "id": "ambient-magnitude",
   "metadata": {},
   "outputs": [
    {
     "name": "stdout",
     "output_type": "stream",
     "text": [
      "Enter Lot ID for display maps. Valid Lot ID range from 'lot1'-'lot47543': lot50\n",
      "Lot ID Selected:  lot50\n"
     ]
    },
    {
     "data": {
      "image/png": "[encoded data removed]",
      "text/plain": [
       "<Figure size 1080x1080 with 25 Axes>"
      ]
     },
     "metadata": {},
     "output_type": "display_data"
    }
   ],
   "source": [
    "# Plot 25 wafer maps from selected lot\n",
    "# Lots are from lot1-lot47543\n",
    "# Note: There are 25 wafers in a lot, so would be good to build a tool \n",
    "# that displays all wafer maps by lot\n",
    "\n",
    "lot = input(\"Enter Lot ID for display maps. Valid Lot ID range from 'lot1'-'lot47543': \")\n",
    "\n",
    "print('Lot ID Selected: ', lot)\n",
    "\n",
    "# selecting rows based on condition\n",
    "lot_df = df[df['lotName'] == lot]\n",
    "\n",
    "ax_cnt = 5\n",
    "\n",
    "#fig, axs = plt.subplots(ax_cnt, ax_cnt, figsize=(ax_cnt, ax_cnt))\n",
    "fig, axs = plt.subplots(ax_cnt, ax_cnt, figsize=(15, 15))\n",
    "\n",
    "\n",
    "# make a color map of fixed colors - blue passing die, yellow failing die\n",
    "cmap = colors.ListedColormap(['white', 'blue', 'yellow'])\n",
    "  \n",
    "# Nested for loops to loop through all digits and number of examples input for ploting\n",
    "for i in range(ax_cnt**2):\n",
    "    # imshow to plot image in axs i,j loaction in plot\n",
    "    axs[i%ax_cnt,int(i/ax_cnt)].imshow(df.waferMap[i], interpolation='none', cmap=cmap)\n",
    "    axs[i%ax_cnt,int(i/ax_cnt)].axis('off') "
   ]
  }
 ],
 "metadata": {
  "kernelspec": {
   "display_name": "Python 3",
   "language": "python",
   "name": "python3"
  },
  "language_info": {
   "codemirror_mode": {
    "name": "ipython",
    "version": 3
   },
   "file_extension": ".py",
   "mimetype": "text/x-python",
   "name": "python",
   "nbconvert_exporter": "python",
   "pygments_lexer": "ipython3",
   "version": "3.7.3"
  }
 },
 "nbformat": 4,
 "nbformat_minor": 5
}
