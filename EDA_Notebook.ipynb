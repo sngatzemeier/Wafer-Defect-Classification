{
 "cells": [
  {
   "cell_type": "markdown",
   "id": "suitable-jersey",
   "metadata": {},
   "source": [
    "# EDA Notebook\n",
    "Import the data and take a look at different values.  Some information about the data. "
   ]
  },
  {
   "cell_type": "code",
   "execution_count": 1,
   "id": "administrative-carry",
   "metadata": {},
   "outputs": [],
   "source": [
    "# Import Libaries\n",
    "from mpl_toolkits.mplot3d import Axes3D\n",
    "from sklearn.preprocessing import StandardScaler\n",
    "import matplotlib.pyplot as plt # plotting\n",
    "from matplotlib import colors\n",
    "import numpy as np # linear algebra\n",
    "import os # accessing directory structure\n",
    "import pandas as pd # data processing, CSV file I/O (e.g. pd.read_csv)"
   ]
  },
  {
   "cell_type": "markdown",
   "id": "private-league",
   "metadata": {},
   "source": [
    "### Import 38,000 wafers with defect lables\n",
    "To maintain the balance between the various patterns of data, generative adversarial networks were used to generate some wafer maps to maintain the balance of the number of samples among the patterns. \n",
    "\n",
    "Mixed-type wafer map defect dataset can be used to identify mixed-type wafer map defect and assist the research on the causes of defects in the wafer manufacturing process.\n",
    "\n",
    "MixedWM38 Dataset(WaferMap) has more than 38000 wafer maps, including 1 normal pattern, 8 single defect patterns, and 29 mixed defect patterns, a total of 38 defect patterns."
   ]
  },
  {
   "cell_type": "code",
   "execution_count": 3,
   "id": "legal-converter",
   "metadata": {},
   "outputs": [
    {
     "ename": "OSError",
     "evalue": "[Errno 22] Invalid argument: 'https://drive.google.com/u/0/uc?id=1WBBFiYq-U9xYK83bk37COH6dHsXvLba5&export=download'",
     "output_type": "error",
     "traceback": [
      "\u001b[1;31m---------------------------------------------------------------------------\u001b[0m",
      "\u001b[1;31mOSError\u001b[0m                                   Traceback (most recent call last)",
      "\u001b[1;32m<ipython-input-3-11dbc62c6c3b>\u001b[0m in \u001b[0;36m<module>\u001b[1;34m\u001b[0m\n\u001b[0;32m      1\u001b[0m \u001b[1;31m#data = np.load('Wafer_Map_Datasets.npz')\u001b[0m\u001b[1;33m\u001b[0m\u001b[1;33m\u001b[0m\u001b[1;33m\u001b[0m\u001b[0m\n\u001b[1;32m----> 2\u001b[1;33m \u001b[0mdata\u001b[0m \u001b[1;33m=\u001b[0m \u001b[0mnp\u001b[0m\u001b[1;33m.\u001b[0m\u001b[0mload\u001b[0m\u001b[1;33m(\u001b[0m\u001b[1;34m'https://drive.google.com/u/0/uc?id=1WBBFiYq-U9xYK83bk37COH6dHsXvLba5&export=download'\u001b[0m\u001b[1;33m)\u001b[0m\u001b[1;33m\u001b[0m\u001b[1;33m\u001b[0m\u001b[0m\n\u001b[0m\u001b[0;32m      3\u001b[0m \u001b[1;33m\u001b[0m\u001b[0m\n\u001b[0;32m      4\u001b[0m \u001b[0mprint\u001b[0m\u001b[1;33m(\u001b[0m\u001b[0mdata\u001b[0m\u001b[1;33m.\u001b[0m\u001b[0mfiles\u001b[0m\u001b[1;33m)\u001b[0m\u001b[1;33m\u001b[0m\u001b[1;33m\u001b[0m\u001b[0m\n",
      "\u001b[1;32m~\\Anaconda3\\lib\\site-packages\\numpy\\lib\\npyio.py\u001b[0m in \u001b[0;36mload\u001b[1;34m(file, mmap_mode, allow_pickle, fix_imports, encoding)\u001b[0m\n\u001b[0;32m    414\u001b[0m             \u001b[0mown_fid\u001b[0m \u001b[1;33m=\u001b[0m \u001b[1;32mFalse\u001b[0m\u001b[1;33m\u001b[0m\u001b[1;33m\u001b[0m\u001b[0m\n\u001b[0;32m    415\u001b[0m         \u001b[1;32melse\u001b[0m\u001b[1;33m:\u001b[0m\u001b[1;33m\u001b[0m\u001b[1;33m\u001b[0m\u001b[0m\n\u001b[1;32m--> 416\u001b[1;33m             \u001b[0mfid\u001b[0m \u001b[1;33m=\u001b[0m \u001b[0mstack\u001b[0m\u001b[1;33m.\u001b[0m\u001b[0menter_context\u001b[0m\u001b[1;33m(\u001b[0m\u001b[0mopen\u001b[0m\u001b[1;33m(\u001b[0m\u001b[0mos_fspath\u001b[0m\u001b[1;33m(\u001b[0m\u001b[0mfile\u001b[0m\u001b[1;33m)\u001b[0m\u001b[1;33m,\u001b[0m \u001b[1;34m\"rb\"\u001b[0m\u001b[1;33m)\u001b[0m\u001b[1;33m)\u001b[0m\u001b[1;33m\u001b[0m\u001b[1;33m\u001b[0m\u001b[0m\n\u001b[0m\u001b[0;32m    417\u001b[0m             \u001b[0mown_fid\u001b[0m \u001b[1;33m=\u001b[0m \u001b[1;32mTrue\u001b[0m\u001b[1;33m\u001b[0m\u001b[1;33m\u001b[0m\u001b[0m\n\u001b[0;32m    418\u001b[0m \u001b[1;33m\u001b[0m\u001b[0m\n",
      "\u001b[1;31mOSError\u001b[0m: [Errno 22] Invalid argument: 'https://drive.google.com/u/0/uc?id=1WBBFiYq-U9xYK83bk37COH6dHsXvLba5&export=download'"
     ]
    }
   ],
   "source": [
    "#data = np.load('Wafer_Map_Datasets.npz')\n",
    "data = np.load('https://drive.google.com/u/0/uc?id=1WBBFiYq-U9xYK83bk37COH6dHsXvLba5&export=download')\n",
    "\n",
    "print(data.files)"
   ]
  },
  {
   "cell_type": "markdown",
   "id": "objective-coaching",
   "metadata": {},
   "source": [
    "\n",
    "## About the Data\n",
    "[‘arr_0’]: Defect data of mixed-type wafer map, 0 means blank spot, 1 represents normal die that passed the electrical test, and 2 represents broken die that failed the electrical test. The data(ndarray) shape is (52, 52).\n",
    "\n",
    "[‘arr_1’]: Mixed-type wafer map defect label, using one-hot encoding, a total of 8 dimensions, corresponding to the 8 basic types of wafer map defects (C2-C9)."
   ]
  },
  {
   "cell_type": "code",
   "execution_count": null,
   "id": "institutional-height",
   "metadata": {},
   "outputs": [],
   "source": [
    "# Build NP Arrays with wafer maps and defect lables\n",
    "wafer_maps = data['arr_0']\n",
    "defect_labels = data['arr_1']"
   ]
  },
  {
   "cell_type": "code",
   "execution_count": null,
   "id": "exact-property",
   "metadata": {},
   "outputs": [],
   "source": [
    "# Check out size and shape.  38,015 records\n",
    "print(wafer_maps.shape)\n",
    "print(defect_labels.shape)"
   ]
  },
  {
   "cell_type": "code",
   "execution_count": null,
   "id": "imperial-sleeping",
   "metadata": {},
   "outputs": [],
   "source": [
    "# Plot first 100 wafer maps\n",
    "ax_cnt = 10\n",
    "\n",
    "fig, axs = plt.subplots(ax_cnt, ax_cnt, figsize=(ax_cnt, ax_cnt))\n",
    "\n",
    "# make a color map of fixed colors - blue passing die, yellow failing die\n",
    "cmap = colors.ListedColormap(['white', 'blue', 'yellow'])\n",
    "  \n",
    "# Nested for loops to loop through all digits and number of examples input for ploting\n",
    "for i in range(ax_cnt**2):\n",
    "    # imshow to plot image in axs i,j loaction in plot\n",
    "    axs[i%ax_cnt,int(i/ax_cnt)].imshow(wafer_maps[i], interpolation='none', cmap=cmap)\n",
    "    axs[i%ax_cnt,int(i/ax_cnt)].axis('off') \n"
   ]
  },
  {
   "cell_type": "markdown",
   "id": "trained-rwanda",
   "metadata": {},
   "source": [
    "## How to turn wafer map data into best format for spacial defect signature recognition\n",
    "- Leave as NP array - can we leave as 52x52 - should be able to, we did for digit recognition - go back to 207 HW1\n",
    "- Turn into images and use YOLO\n",
    "- Train on each of the defect classifiers and merge output\n",
    "- Train on all classifers at same time"
   ]
  },
  {
   "cell_type": "markdown",
   "id": "featured-marshall",
   "metadata": {},
   "source": [
    "### Take a look at the labels\n",
    "There are 38 types in the mixed-type wafer map defect dataset, including 1 normal type, 8 single defect types, and 29 mixed-type defect types.\n",
    "\n",
    "#### Single Defect Types:\n",
    "- Normal -         [0 0 0 0 0 0 0 0]\n",
    "- Center(C) -      [1 0 0 0 0 0 0 0]\n",
    "- Donut (D) -      [0 1 0 0 0 0 0 0]\n",
    "- Edge-Loc (EL) -  [0 0 1 0 0 0 0 0]\n",
    "- Edge_Ring (ER) - [0 0 0 1 0 0 0 0]\n",
    "- Loc (L) -        [0 0 0 0 1 0 0 0]\n",
    "- Near_Full (NF) - [0 0 0 0 0 1 0 0]\n",
    "- Scratch (S) -    [0 0 0 0 0 0 1 0]\n",
    "- Random(R) -      [0 0 0 0 0 0 0 1]\n",
    "\n",
    "See data description for more details and combinations.  \n",
    "\n",
    "##### Next Steps\n",
    "- Need to build some translations tables by convert digits in NP array into true categories, like the Cxx categories in .pdg.\n",
    "- Then those labels can be use for training\n",
    "- Once labels are created then perform some EDA to look for problems and data balance\n",
    "- After that is done then can randomly break data set into training and test data and start w/ a few simple models"
   ]
  },
  {
   "cell_type": "code",
   "execution_count": null,
   "id": "subsequent-bench",
   "metadata": {},
   "outputs": [],
   "source": [
    "\n",
    "\n",
    "# Get unique labels\n",
    "unique, counts = np.unique(defect_labels, return_counts=True)\n",
    "\n",
    "result = np.column_stack((unique, counts)) \n",
    "print (result)"
   ]
  }
 ],
 "metadata": {
  "kernelspec": {
   "display_name": "Python 3",
   "language": "python",
   "name": "python3"
  },
  "language_info": {
   "codemirror_mode": {
    "name": "ipython",
    "version": 3
   },
   "file_extension": ".py",
   "mimetype": "text/x-python",
   "name": "python",
   "nbconvert_exporter": "python",
   "pygments_lexer": "ipython3",
   "version": "3.7.3"
  }
 },
 "nbformat": 4,
 "nbformat_minor": 5
}
