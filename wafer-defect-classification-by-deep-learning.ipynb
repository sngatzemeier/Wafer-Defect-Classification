{
 "cells": [
  {
   "cell_type": "code",
   "execution_count": 1,
   "metadata": {
    "_cell_guid": "b1076dfc-b9ad-4769-8c92-a6c4dae69d19",
    "_uuid": "8f2839f25d086af736a60e9eeb907d3b93b6e0e5"
   },
   "outputs": [],
   "source": [
    "# This Python 3 environment comes with many helpful analytics libraries installed\n",
    "# It is defined by the kaggle/python docker image: https://github.com/kaggle/docker-python\n",
    "# For example, here's several helpful packages to load in \n",
    "\n",
    "import numpy as np # linear algebra\n",
    "import pandas as pd # data processing, CSV file I/O (e.g. pd.read_csv)\n",
    "\n",
    "# Input data files are available in the \"../input/\" directory.\n",
    "# For example, running this (by clicking run or pressing Shift+Enter) will list all files under the input directory\n",
    "\n",
    "import os\n",
    "for dirname, _, filenames in os.walk('/kaggle/input'):\n",
    "    for filename in filenames:\n",
    "        print(os.path.join(dirname, filename))\n",
    "\n",
    "# Any results you write to the current directory are saved as output."
   ]
  },
  {
   "cell_type": "code",
   "execution_count": 43,
   "metadata": {
    "_cell_guid": "79c7e3d0-c299-4dcb-8224-4455121ee9b0",
    "_uuid": "d629ff2d2480ee46fbb7e2d37f6b5fab8052498a"
   },
   "outputs": [
    {
     "name": "stdout",
     "output_type": "stream",
     "text": [
      "Requirement already satisfied: tensorflow in c:\\users\\scott\\anaconda3\\lib\\site-packages (2.8.0)\n",
      "Requirement already satisfied: libclang>=9.0.1 in c:\\users\\scott\\anaconda3\\lib\\site-packages (from tensorflow) (13.0.0)\n",
      "Requirement already satisfied: absl-py>=0.4.0 in c:\\users\\scott\\anaconda3\\lib\\site-packages (from tensorflow) (1.0.0)\n",
      "Requirement already satisfied: wrapt>=1.11.0 in c:\\users\\scott\\anaconda3\\lib\\site-packages (from tensorflow) (1.13.3)\n",
      "Requirement already satisfied: flatbuffers>=1.12 in c:\\users\\scott\\anaconda3\\lib\\site-packages (from tensorflow) (2.0)\n",
      "Requirement already satisfied: numpy>=1.20 in c:\\users\\scott\\anaconda3\\lib\\site-packages (from tensorflow) (1.21.2)\n",
      "Requirement already satisfied: astunparse>=1.6.0 in c:\\users\\scott\\anaconda3\\lib\\site-packages (from tensorflow) (1.6.3)\n",
      "Requirement already satisfied: tensorboard<2.9,>=2.8 in c:\\users\\scott\\anaconda3\\lib\\site-packages (from tensorflow) (2.8.0)\n",
      "Requirement already satisfied: grpcio<2.0,>=1.24.3 in c:\\users\\scott\\anaconda3\\lib\\site-packages (from tensorflow) (1.43.0)\n",
      "Requirement already satisfied: typing-extensions>=3.6.6 in c:\\users\\scott\\anaconda3\\lib\\site-packages (from tensorflow) (3.10.0.2)\n",
      "Requirement already satisfied: google-pasta>=0.1.1 in c:\\users\\scott\\anaconda3\\lib\\site-packages (from tensorflow) (0.2.0)\n",
      "Requirement already satisfied: opt-einsum>=2.3.2 in c:\\users\\scott\\anaconda3\\lib\\site-packages (from tensorflow) (3.3.0)\n",
      "Requirement already satisfied: keras<2.9,>=2.8.0rc0 in c:\\users\\scott\\anaconda3\\lib\\site-packages (from tensorflow) (2.8.0)\n",
      "Requirement already satisfied: setuptools in c:\\users\\scott\\anaconda3\\lib\\site-packages (from tensorflow) (58.0.4)\n",
      "Requirement already satisfied: tf-estimator-nightly==2.8.0.dev2021122109 in c:\\users\\scott\\anaconda3\\lib\\site-packages (from tensorflow) (2.8.0.dev2021122109)\n",
      "Requirement already satisfied: protobuf>=3.9.2 in c:\\users\\scott\\anaconda3\\lib\\site-packages (from tensorflow) (3.19.4)\n",
      "Requirement already satisfied: six>=1.12.0 in c:\\users\\scott\\anaconda3\\lib\\site-packages (from tensorflow) (1.16.0)\n",
      "Requirement already satisfied: termcolor>=1.1.0 in c:\\users\\scott\\anaconda3\\lib\\site-packages (from tensorflow) (1.1.0)\n",
      "Requirement already satisfied: gast>=0.2.1 in c:\\users\\scott\\anaconda3\\lib\\site-packages (from tensorflow) (0.5.3)\n",
      "Requirement already satisfied: keras-preprocessing>=1.1.1 in c:\\users\\scott\\anaconda3\\lib\\site-packages (from tensorflow) (1.1.2)\n",
      "Requirement already satisfied: tensorflow-io-gcs-filesystem>=0.23.1 in c:\\users\\scott\\anaconda3\\lib\\site-packages (from tensorflow) (0.24.0)\n",
      "Requirement already satisfied: h5py>=2.9.0 in c:\\users\\scott\\anaconda3\\lib\\site-packages (from tensorflow) (2.10.0)\n",
      "Requirement already satisfied: wheel<1.0,>=0.23.0 in c:\\users\\scott\\anaconda3\\lib\\site-packages (from astunparse>=1.6.0->tensorflow) (0.37.1)\n",
      "Requirement already satisfied: google-auth-oauthlib<0.5,>=0.4.1 in c:\\users\\scott\\anaconda3\\lib\\site-packages (from tensorboard<2.9,>=2.8->tensorflow) (0.4.6)\n",
      "Requirement already satisfied: requests<3,>=2.21.0 in c:\\users\\scott\\anaconda3\\lib\\site-packages (from tensorboard<2.9,>=2.8->tensorflow) (2.27.1)\n",
      "Requirement already satisfied: tensorboard-data-server<0.7.0,>=0.6.0 in c:\\users\\scott\\anaconda3\\lib\\site-packages (from tensorboard<2.9,>=2.8->tensorflow) (0.6.1)\n",
      "Requirement already satisfied: google-auth<3,>=1.6.3 in c:\\users\\scott\\anaconda3\\lib\\site-packages (from tensorboard<2.9,>=2.8->tensorflow) (2.6.0)\n",
      "Requirement already satisfied: markdown>=2.6.8 in c:\\users\\scott\\anaconda3\\lib\\site-packages (from tensorboard<2.9,>=2.8->tensorflow) (3.3.6)\n",
      "Requirement already satisfied: tensorboard-plugin-wit>=1.6.0 in c:\\users\\scott\\anaconda3\\lib\\site-packages (from tensorboard<2.9,>=2.8->tensorflow) (1.8.1)\n",
      "Requirement already satisfied: werkzeug>=0.11.15 in c:\\users\\scott\\anaconda3\\lib\\site-packages (from tensorboard<2.9,>=2.8->tensorflow) (2.0.2)\n",
      "Requirement already satisfied: cachetools<6.0,>=2.0.0 in c:\\users\\scott\\anaconda3\\lib\\site-packages (from google-auth<3,>=1.6.3->tensorboard<2.9,>=2.8->tensorflow) (5.0.0)\n",
      "Requirement already satisfied: pyasn1-modules>=0.2.1 in c:\\users\\scott\\anaconda3\\lib\\site-packages (from google-auth<3,>=1.6.3->tensorboard<2.9,>=2.8->tensorflow) (0.2.8)\n",
      "Requirement already satisfied: rsa<5,>=3.1.4 in c:\\users\\scott\\anaconda3\\lib\\site-packages (from google-auth<3,>=1.6.3->tensorboard<2.9,>=2.8->tensorflow) (4.8)\n",
      "Requirement already satisfied: requests-oauthlib>=0.7.0 in c:\\users\\scott\\anaconda3\\lib\\site-packages (from google-auth-oauthlib<0.5,>=0.4.1->tensorboard<2.9,>=2.8->tensorflow) (1.3.1)\n",
      "Requirement already satisfied: importlib-metadata>=4.4 in c:\\users\\scott\\anaconda3\\lib\\site-packages (from markdown>=2.6.8->tensorboard<2.9,>=2.8->tensorflow) (4.8.2)\n",
      "Requirement already satisfied: zipp>=0.5 in c:\\users\\scott\\anaconda3\\lib\\site-packages (from importlib-metadata>=4.4->markdown>=2.6.8->tensorboard<2.9,>=2.8->tensorflow) (3.7.0)\n",
      "Requirement already satisfied: pyasn1<0.5.0,>=0.4.6 in c:\\users\\scott\\anaconda3\\lib\\site-packages (from pyasn1-modules>=0.2.1->google-auth<3,>=1.6.3->tensorboard<2.9,>=2.8->tensorflow) (0.4.8)\n",
      "Requirement already satisfied: certifi>=2017.4.17 in c:\\users\\scott\\anaconda3\\lib\\site-packages (from requests<3,>=2.21.0->tensorboard<2.9,>=2.8->tensorflow) (2021.10.8)\n",
      "Requirement already satisfied: idna<4,>=2.5 in c:\\users\\scott\\anaconda3\\lib\\site-packages (from requests<3,>=2.21.0->tensorboard<2.9,>=2.8->tensorflow) (3.3)\n",
      "Requirement already satisfied: charset-normalizer~=2.0.0 in c:\\users\\scott\\anaconda3\\lib\\site-packages (from requests<3,>=2.21.0->tensorboard<2.9,>=2.8->tensorflow) (2.0.4)\n",
      "Requirement already satisfied: urllib3<1.27,>=1.21.1 in c:\\users\\scott\\anaconda3\\lib\\site-packages (from requests<3,>=2.21.0->tensorboard<2.9,>=2.8->tensorflow) (1.26.8)\n",
      "Requirement already satisfied: oauthlib>=3.0.0 in c:\\users\\scott\\anaconda3\\lib\\site-packages (from requests-oauthlib>=0.7.0->google-auth-oauthlib<0.5,>=0.4.1->tensorboard<2.9,>=2.8->tensorflow) (3.2.0)\n"
     ]
    }
   ],
   "source": [
    "import os\n",
    "from os.path import join\n",
    "\n",
    "import numpy as np\n",
    "import pandas as pd\n",
    "\n",
    "!pip install tensorflow\n",
    "import tensorflow as tf\n",
    "import keras\n",
    "from keras import layers, Input, models\n",
    "# from keras.utils import to_categorical\n",
    "from tensorflow.keras.utils import to_categorical\n",
    "from keras.wrappers.scikit_learn import KerasClassifier \n",
    "from sklearn.model_selection import KFold \n",
    "from sklearn.model_selection import cross_val_score\n",
    "\n",
    "from sklearn.model_selection import train_test_split\n",
    "\n",
    "import matplotlib.pyplot as plt\n",
    "\n",
    "datapath = join('data', 'wafer')\n",
    "\n",
    "# print(os.listdir(\"../input\"))\n",
    "import warnings\n",
    "warnings.filterwarnings(\"ignore\")"
   ]
  },
  {
   "cell_type": "code",
   "execution_count": 6,
   "metadata": {},
   "outputs": [
    {
     "name": "stdout",
     "output_type": "stream",
     "text": [
      "<class 'pandas.core.frame.DataFrame'>\n",
      "RangeIndex: 811457 entries, 0 to 811456\n",
      "Data columns (total 6 columns):\n",
      " #   Column          Non-Null Count   Dtype  \n",
      "---  ------          --------------   -----  \n",
      " 0   waferMap        811457 non-null  object \n",
      " 1   dieSize         811457 non-null  float64\n",
      " 2   lotName         811457 non-null  object \n",
      " 3   waferIndex      811457 non-null  float64\n",
      " 4   trianTestLabel  811457 non-null  object \n",
      " 5   failureType     811457 non-null  object \n",
      "dtypes: float64(2), object(4)\n",
      "memory usage: 37.1+ MB\n"
     ]
    }
   ],
   "source": [
    "df=pd.read_pickle(\"LSWMD.pkl\")\n",
    "df.info()"
   ]
  },
  {
   "cell_type": "code",
   "execution_count": 7,
   "metadata": {},
   "outputs": [
    {
     "data": {
      "text/html": [
       "<div>\n",
       "<style scoped>\n",
       "    .dataframe tbody tr th:only-of-type {\n",
       "        vertical-align: middle;\n",
       "    }\n",
       "\n",
       "    .dataframe tbody tr th {\n",
       "        vertical-align: top;\n",
       "    }\n",
       "\n",
       "    .dataframe thead th {\n",
       "        text-align: right;\n",
       "    }\n",
       "</style>\n",
       "<table border=\"1\" class=\"dataframe\">\n",
       "  <thead>\n",
       "    <tr style=\"text-align: right;\">\n",
       "      <th></th>\n",
       "      <th>waferMap</th>\n",
       "      <th>dieSize</th>\n",
       "      <th>lotName</th>\n",
       "      <th>waferIndex</th>\n",
       "      <th>trianTestLabel</th>\n",
       "      <th>failureType</th>\n",
       "    </tr>\n",
       "  </thead>\n",
       "  <tbody>\n",
       "    <tr>\n",
       "      <th>811452</th>\n",
       "      <td>[[0, 0, 0, 0, 0, 0, 0, 0, 0, 0, 0, 1, 2, 1, 1,...</td>\n",
       "      <td>600.0</td>\n",
       "      <td>lot47542</td>\n",
       "      <td>23.0</td>\n",
       "      <td>[[Test]]</td>\n",
       "      <td>[[Edge-Ring]]</td>\n",
       "    </tr>\n",
       "    <tr>\n",
       "      <th>811453</th>\n",
       "      <td>[[0, 0, 0, 0, 0, 0, 0, 0, 0, 0, 0, 2, 2, 1, 1,...</td>\n",
       "      <td>600.0</td>\n",
       "      <td>lot47542</td>\n",
       "      <td>24.0</td>\n",
       "      <td>[[Test]]</td>\n",
       "      <td>[[Edge-Loc]]</td>\n",
       "    </tr>\n",
       "    <tr>\n",
       "      <th>811454</th>\n",
       "      <td>[[0, 0, 0, 0, 0, 0, 0, 0, 0, 0, 0, 1, 2, 1, 1,...</td>\n",
       "      <td>600.0</td>\n",
       "      <td>lot47542</td>\n",
       "      <td>25.0</td>\n",
       "      <td>[[Test]]</td>\n",
       "      <td>[[Edge-Ring]]</td>\n",
       "    </tr>\n",
       "    <tr>\n",
       "      <th>811455</th>\n",
       "      <td>[[0, 0, 0, 0, 0, 0, 0, 0, 0, 0, 0, 1, 1, 1, 1,...</td>\n",
       "      <td>600.0</td>\n",
       "      <td>lot47543</td>\n",
       "      <td>1.0</td>\n",
       "      <td>[]</td>\n",
       "      <td>[]</td>\n",
       "    </tr>\n",
       "    <tr>\n",
       "      <th>811456</th>\n",
       "      <td>[[0, 0, 0, 0, 0, 0, 0, 0, 0, 0, 0, 1, 2, 1, 1,...</td>\n",
       "      <td>600.0</td>\n",
       "      <td>lot47543</td>\n",
       "      <td>2.0</td>\n",
       "      <td>[]</td>\n",
       "      <td>[]</td>\n",
       "    </tr>\n",
       "  </tbody>\n",
       "</table>\n",
       "</div>"
      ],
      "text/plain": [
       "                                                 waferMap  dieSize   lotName  \\\n",
       "811452  [[0, 0, 0, 0, 0, 0, 0, 0, 0, 0, 0, 1, 2, 1, 1,...    600.0  lot47542   \n",
       "811453  [[0, 0, 0, 0, 0, 0, 0, 0, 0, 0, 0, 2, 2, 1, 1,...    600.0  lot47542   \n",
       "811454  [[0, 0, 0, 0, 0, 0, 0, 0, 0, 0, 0, 1, 2, 1, 1,...    600.0  lot47542   \n",
       "811455  [[0, 0, 0, 0, 0, 0, 0, 0, 0, 0, 0, 1, 1, 1, 1,...    600.0  lot47543   \n",
       "811456  [[0, 0, 0, 0, 0, 0, 0, 0, 0, 0, 0, 1, 2, 1, 1,...    600.0  lot47543   \n",
       "\n",
       "        waferIndex trianTestLabel    failureType  \n",
       "811452        23.0       [[Test]]  [[Edge-Ring]]  \n",
       "811453        24.0       [[Test]]   [[Edge-Loc]]  \n",
       "811454        25.0       [[Test]]  [[Edge-Ring]]  \n",
       "811455         1.0             []             []  \n",
       "811456         2.0             []             []  "
      ]
     },
     "execution_count": 7,
     "metadata": {},
     "output_type": "execute_result"
    }
   ],
   "source": [
    "df.tail()"
   ]
  },
  {
   "cell_type": "code",
   "execution_count": 8,
   "metadata": {},
   "outputs": [],
   "source": [
    "df = df.drop(['waferIndex'], axis = 1)"
   ]
  },
  {
   "cell_type": "code",
   "execution_count": 9,
   "metadata": {},
   "outputs": [
    {
     "data": {
      "text/html": [
       "<div>\n",
       "<style scoped>\n",
       "    .dataframe tbody tr th:only-of-type {\n",
       "        vertical-align: middle;\n",
       "    }\n",
       "\n",
       "    .dataframe tbody tr th {\n",
       "        vertical-align: top;\n",
       "    }\n",
       "\n",
       "    .dataframe thead th {\n",
       "        text-align: right;\n",
       "    }\n",
       "</style>\n",
       "<table border=\"1\" class=\"dataframe\">\n",
       "  <thead>\n",
       "    <tr style=\"text-align: right;\">\n",
       "      <th></th>\n",
       "      <th>waferMap</th>\n",
       "      <th>dieSize</th>\n",
       "      <th>lotName</th>\n",
       "      <th>trianTestLabel</th>\n",
       "      <th>failureType</th>\n",
       "      <th>waferMapDim</th>\n",
       "    </tr>\n",
       "  </thead>\n",
       "  <tbody>\n",
       "    <tr>\n",
       "      <th>639856</th>\n",
       "      <td>[[0, 0, 0, 0, 0, 0, 0, 0, 0, 0, 2, 2, 1, 1, 2,...</td>\n",
       "      <td>533.0</td>\n",
       "      <td>lot40335</td>\n",
       "      <td>[[Test]]</td>\n",
       "      <td>[[none]]</td>\n",
       "      <td>(26, 26)</td>\n",
       "    </tr>\n",
       "    <tr>\n",
       "      <th>390228</th>\n",
       "      <td>[[0, 0, 0, 0, 0, 0, 0, 0, 0, 0, 0, 0, 0, 0, 0,...</td>\n",
       "      <td>4423.0</td>\n",
       "      <td>lot23427</td>\n",
       "      <td>[]</td>\n",
       "      <td>[]</td>\n",
       "      <td>(74, 76)</td>\n",
       "    </tr>\n",
       "    <tr>\n",
       "      <th>104515</th>\n",
       "      <td>[[0, 0, 0, 0, 0, 0, 0, 0, 0, 0, 0, 0, 0, 0, 1,...</td>\n",
       "      <td>1264.0</td>\n",
       "      <td>lot7146</td>\n",
       "      <td>[]</td>\n",
       "      <td>[]</td>\n",
       "      <td>(41, 39)</td>\n",
       "    </tr>\n",
       "    <tr>\n",
       "      <th>642095</th>\n",
       "      <td>[[0, 0, 0, 0, 0, 0, 0, 0, 0, 0, 1, 2, 1, 1, 1,...</td>\n",
       "      <td>533.0</td>\n",
       "      <td>lot40425</td>\n",
       "      <td>[[Test]]</td>\n",
       "      <td>[[none]]</td>\n",
       "      <td>(26, 26)</td>\n",
       "    </tr>\n",
       "    <tr>\n",
       "      <th>778190</th>\n",
       "      <td>[[0, 0, 0, 0, 0, 0, 0, 0, 0, 0, 0, 0, 0, 0, 0,...</td>\n",
       "      <td>1414.0</td>\n",
       "      <td>lot46192</td>\n",
       "      <td>[[Test]]</td>\n",
       "      <td>[[none]]</td>\n",
       "      <td>(42, 44)</td>\n",
       "    </tr>\n",
       "  </tbody>\n",
       "</table>\n",
       "</div>"
      ],
      "text/plain": [
       "                                                 waferMap  dieSize   lotName  \\\n",
       "639856  [[0, 0, 0, 0, 0, 0, 0, 0, 0, 0, 2, 2, 1, 1, 2,...    533.0  lot40335   \n",
       "390228  [[0, 0, 0, 0, 0, 0, 0, 0, 0, 0, 0, 0, 0, 0, 0,...   4423.0  lot23427   \n",
       "104515  [[0, 0, 0, 0, 0, 0, 0, 0, 0, 0, 0, 0, 0, 0, 1,...   1264.0   lot7146   \n",
       "642095  [[0, 0, 0, 0, 0, 0, 0, 0, 0, 0, 1, 2, 1, 1, 1,...    533.0  lot40425   \n",
       "778190  [[0, 0, 0, 0, 0, 0, 0, 0, 0, 0, 0, 0, 0, 0, 0,...   1414.0  lot46192   \n",
       "\n",
       "       trianTestLabel failureType waferMapDim  \n",
       "639856       [[Test]]    [[none]]    (26, 26)  \n",
       "390228             []          []    (74, 76)  \n",
       "104515             []          []    (41, 39)  \n",
       "642095       [[Test]]    [[none]]    (26, 26)  \n",
       "778190       [[Test]]    [[none]]    (42, 44)  "
      ]
     },
     "execution_count": 9,
     "metadata": {},
     "output_type": "execute_result"
    }
   ],
   "source": [
    "def find_dim(x):\n",
    "    dim0=np.size(x,axis=0)\n",
    "    dim1=np.size(x,axis=1)\n",
    "    return dim0,dim1\n",
    "df['waferMapDim']=df.waferMap.apply(find_dim)\n",
    "df.sample(5)"
   ]
  },
  {
   "cell_type": "code",
   "execution_count": 10,
   "metadata": {},
   "outputs": [
    {
     "name": "stderr",
     "output_type": "stream",
     "text": [
      "C:\\Users\\scott\\Anaconda3\\lib\\site-packages\\pandas\\core\\array_algos\\replace.py:84: FutureWarning: elementwise comparison failed; returning scalar instead, but in the future will perform elementwise comparison\n",
      "  op = lambda x: operator.eq(x, b)\n"
     ]
    }
   ],
   "source": [
    "df['failureNum']=df.failureType\n",
    "df['trainTestNum']=df.trianTestLabel\n",
    "mapping_type={'Center':0,'Donut':1,'Edge-Loc':2,'Edge-Ring':3,'Loc':4,'Random':5,'Scratch':6,'Near-full':7,'none':8}\n",
    "mapping_traintest={'Training':0,'Test':1}\n",
    "df=df.replace({'failureNum':mapping_type, 'trainTestNum':mapping_traintest})"
   ]
  },
  {
   "cell_type": "code",
   "execution_count": 11,
   "metadata": {},
   "outputs": [
    {
     "data": {
      "text/plain": [
       "811457"
      ]
     },
     "execution_count": 11,
     "metadata": {},
     "output_type": "execute_result"
    }
   ],
   "source": [
    "tol_wafers = df.shape[0]\n",
    "tol_wafers"
   ]
  },
  {
   "cell_type": "code",
   "execution_count": 12,
   "metadata": {},
   "outputs": [
    {
     "data": {
      "text/plain": [
       "(172950, 25519, 147431)"
      ]
     },
     "execution_count": 12,
     "metadata": {},
     "output_type": "execute_result"
    }
   ],
   "source": [
    "df_withlabel = df[(df['failureNum']>=0) & (df['failureNum']<=8)]\n",
    "df_withlabel =df_withlabel.reset_index()\n",
    "df_withpattern = df[(df['failureNum']>=0) & (df['failureNum']<=7)]\n",
    "df_withpattern = df_withpattern.reset_index()\n",
    "df_nonpattern = df[(df['failureNum']==8)]\n",
    "df_withlabel.shape[0], df_withpattern.shape[0], df_nonpattern.shape[0]"
   ]
  },
  {
   "cell_type": "code",
   "execution_count": 13,
   "metadata": {},
   "outputs": [
    {
     "name": "stderr",
     "output_type": "stream",
     "text": [
      "C:\\Users\\scott\\Anaconda3\\lib\\site-packages\\ipykernel_launcher.py:22: UserWarning: FixedFormatter should only be used together with FixedLocator\n"
     ]
    },
    {
     "data": {
      "image/png": "[encoded data removed]",
      "text/plain": [
       "<Figure size 1440x324 with 2 Axes>"
      ]
     },
     "metadata": {
      "needs_background": "light"
     },
     "output_type": "display_data"
    }
   ],
   "source": [
    "import matplotlib.pyplot as plt\n",
    "%matplotlib inline\n",
    "\n",
    "from matplotlib import gridspec\n",
    "fig = plt.figure(figsize=(20, 4.5)) \n",
    "gs = gridspec.GridSpec(1, 2, width_ratios=[1, 2.5]) \n",
    "ax1 = plt.subplot(gs[0])\n",
    "ax2 = plt.subplot(gs[1])\n",
    "\n",
    "no_wafers=[tol_wafers-df_withlabel.shape[0], df_withpattern.shape[0], df_nonpattern.shape[0]]\n",
    "\n",
    "colors = ['blue', 'green', 'red']\n",
    "explode = (0.1, 0, 0)  # explode 1st slice\n",
    "labels = ['no-label','label and pattern','label and non-pattern']\n",
    "ax1.pie(no_wafers, explode=explode, labels=labels, colors=colors, autopct='%1.1f%%', shadow=True, startangle=140)\n",
    "\n",
    "uni_pattern=np.unique(df_withpattern.failureNum, return_counts=True)\n",
    "labels2 = ['','Center','Donut','Edge-Loc','Edge-Ring','Loc','Random','Scratch','Near-full']\n",
    "ax2.bar(uni_pattern[0],uni_pattern[1]/df_withpattern.shape[0], color='green', align='center', alpha=0.9)\n",
    "ax2.set_title(\"failure type frequency\")\n",
    "ax2.set_ylabel(\"% of pattern wafers\")\n",
    "ax2.set_xticklabels(labels2)\n",
    "\n",
    "plt.show()"
   ]
  },
  {
   "cell_type": "code",
   "execution_count": 14,
   "metadata": {},
   "outputs": [],
   "source": [
    "sub_df = df.loc[df['waferMapDim'] == (26, 26)]\n",
    "sub_wafer = sub_df['waferMap'].values\n",
    "\n",
    "sw = np.ones((1, 26, 26))\n",
    "label = list()\n",
    "\n",
    "for i in range(len(sub_df)):\n",
    "    # skip null label\n",
    "    if len(sub_df.iloc[i,:]['failureType']) == 0:\n",
    "        continue\n",
    "    sw = np.concatenate((sw, sub_df.iloc[i,:]['waferMap'].reshape(1, 26, 26)))\n",
    "    label.append(sub_df.iloc[i,:]['failureType'][0][0])"
   ]
  },
  {
   "cell_type": "code",
   "execution_count": 15,
   "metadata": {},
   "outputs": [],
   "source": [
    "x = sw[1:]\n",
    "y = np.array(label).reshape((-1,1))"
   ]
  },
  {
   "cell_type": "code",
   "execution_count": 16,
   "metadata": {},
   "outputs": [
    {
     "name": "stdout",
     "output_type": "stream",
     "text": [
      "x shape : (14366, 26, 26), y shape : (14366, 1)\n"
     ]
    }
   ],
   "source": [
    "print('x shape : {}, y shape : {}'.format(x.shape, y.shape))"
   ]
  },
  {
   "cell_type": "code",
   "execution_count": 17,
   "metadata": {},
   "outputs": [
    {
     "data": {
      "image/png": "[encoded data removed]",
      "text/plain": [
       "<Figure size 432x288 with 1 Axes>"
      ]
     },
     "metadata": {
      "needs_background": "light"
     },
     "output_type": "display_data"
    },
    {
     "name": "stdout",
     "output_type": "stream",
     "text": [
      "Faulty case : ['none'] \n"
     ]
    }
   ],
   "source": [
    "# plot 1st data\n",
    "plt.imshow(x[2040])\n",
    "plt.show()\n",
    "\n",
    "# check faulty case\n",
    "print('Faulty case : {} '.format(y[2040]))"
   ]
  },
  {
   "cell_type": "code",
   "execution_count": 18,
   "metadata": {},
   "outputs": [],
   "source": [
    "x = x.reshape((-1, 26, 26, 1))"
   ]
  },
  {
   "cell_type": "code",
   "execution_count": 19,
   "metadata": {},
   "outputs": [
    {
     "name": "stdout",
     "output_type": "stream",
     "text": [
      "Faulty case list : ['Center' 'Donut' 'Edge-Loc' 'Edge-Ring' 'Loc' 'Near-full' 'Random'\n",
      " 'Scratch' 'none']\n"
     ]
    }
   ],
   "source": [
    "faulty_case = np.unique(y)\n",
    "print('Faulty case list : {}'.format(faulty_case))"
   ]
  },
  {
   "cell_type": "code",
   "execution_count": 20,
   "metadata": {},
   "outputs": [
    {
     "name": "stdout",
     "output_type": "stream",
     "text": [
      "Center : 90\n",
      "Donut : 1\n",
      "Edge-Loc : 296\n",
      "Edge-Ring : 31\n",
      "Loc : 297\n",
      "Near-full : 16\n",
      "Random : 74\n",
      "Scratch : 72\n",
      "none : 13489\n"
     ]
    }
   ],
   "source": [
    "for f in faulty_case :\n",
    "    print('{} : {}'.format(f, len(y[y==f])))"
   ]
  },
  {
   "cell_type": "code",
   "execution_count": 21,
   "metadata": {},
   "outputs": [],
   "source": [
    "new_x = np.zeros((len(x), 26, 26, 3))\n",
    "\n",
    "for w in range(len(x)):\n",
    "    for i in range(26):\n",
    "        for j in range(26):\n",
    "            new_x[w, i, j, int(x[w, i, j])] = 1"
   ]
  },
  {
   "cell_type": "code",
   "execution_count": 22,
   "metadata": {},
   "outputs": [
    {
     "data": {
      "text/plain": [
       "(14366, 26, 26, 3)"
      ]
     },
     "execution_count": 22,
     "metadata": {},
     "output_type": "execute_result"
    }
   ],
   "source": [
    "new_x.shape"
   ]
  },
  {
   "cell_type": "code",
   "execution_count": 23,
   "metadata": {},
   "outputs": [],
   "source": [
    "# Encoder\n",
    "input_shape = (26, 26, 3)\n",
    "input_tensor = Input(input_shape)\n",
    "encode = layers.Conv2D(64, (3,3), padding='same', activation='relu')(input_tensor)\n",
    "\n",
    "latent_vector = layers.MaxPool2D()(encode)\n",
    "\n",
    "# Decoder\n",
    "decode_layer_1 = layers.Conv2DTranspose(64, (3,3), padding='same', activation='relu')\n",
    "decode_layer_2 = layers.UpSampling2D()\n",
    "output_tensor = layers.Conv2DTranspose(3, (3,3), padding='same', activation='sigmoid')\n",
    "\n",
    "# connect decoder layers\n",
    "decode = decode_layer_1(latent_vector)\n",
    "decode = decode_layer_2(decode)\n",
    "\n",
    "ae = models.Model(input_tensor, output_tensor(decode))\n",
    "ae.compile(optimizer = 'Adam',\n",
    "              loss = 'mse',\n",
    "             )"
   ]
  },
  {
   "cell_type": "code",
   "execution_count": 24,
   "metadata": {},
   "outputs": [],
   "source": [
    "epoch=30\n",
    "batch_size=1024"
   ]
  },
  {
   "cell_type": "code",
   "execution_count": 25,
   "metadata": {},
   "outputs": [
    {
     "name": "stdout",
     "output_type": "stream",
     "text": [
      "Epoch 1/30\n",
      "15/15 - 14s - loss: 0.1611 - 14s/epoch - 947ms/step\n",
      "Epoch 2/30\n",
      "15/15 - 14s - loss: 0.0982 - 14s/epoch - 906ms/step\n",
      "Epoch 3/30\n",
      "15/15 - 14s - loss: 0.0868 - 14s/epoch - 908ms/step\n",
      "Epoch 4/30\n",
      "15/15 - 14s - loss: 0.0756 - 14s/epoch - 922ms/step\n",
      "Epoch 5/30\n",
      "15/15 - 14s - loss: 0.0658 - 14s/epoch - 928ms/step\n",
      "Epoch 6/30\n",
      "15/15 - 14s - loss: 0.0579 - 14s/epoch - 935ms/step\n",
      "Epoch 7/30\n",
      "15/15 - 14s - loss: 0.0511 - 14s/epoch - 949ms/step\n",
      "Epoch 8/30\n",
      "15/15 - 14s - loss: 0.0451 - 14s/epoch - 958ms/step\n",
      "Epoch 9/30\n",
      "15/15 - 15s - loss: 0.0396 - 15s/epoch - 971ms/step\n",
      "Epoch 10/30\n",
      "15/15 - 15s - loss: 0.0346 - 15s/epoch - 973ms/step\n",
      "Epoch 11/30\n",
      "15/15 - 15s - loss: 0.0305 - 15s/epoch - 987ms/step\n",
      "Epoch 12/30\n",
      "15/15 - 15s - loss: 0.0271 - 15s/epoch - 997ms/step\n",
      "Epoch 13/30\n",
      "15/15 - 15s - loss: 0.0244 - 15s/epoch - 972ms/step\n",
      "Epoch 14/30\n",
      "15/15 - 14s - loss: 0.0222 - 14s/epoch - 910ms/step\n",
      "Epoch 15/30\n",
      "15/15 - 14s - loss: 0.0204 - 14s/epoch - 919ms/step\n",
      "Epoch 16/30\n",
      "15/15 - 14s - loss: 0.0188 - 14s/epoch - 932ms/step\n",
      "Epoch 17/30\n",
      "15/15 - 14s - loss: 0.0174 - 14s/epoch - 963ms/step\n",
      "Epoch 18/30\n",
      "15/15 - 14s - loss: 0.0162 - 14s/epoch - 901ms/step\n",
      "Epoch 19/30\n",
      "15/15 - 14s - loss: 0.0151 - 14s/epoch - 966ms/step\n",
      "Epoch 20/30\n",
      "15/15 - 14s - loss: 0.0141 - 14s/epoch - 949ms/step\n",
      "Epoch 21/30\n",
      "15/15 - 14s - loss: 0.0133 - 14s/epoch - 961ms/step\n",
      "Epoch 22/30\n",
      "15/15 - 14s - loss: 0.0125 - 14s/epoch - 925ms/step\n",
      "Epoch 23/30\n",
      "15/15 - 14s - loss: 0.0118 - 14s/epoch - 955ms/step\n",
      "Epoch 24/30\n",
      "15/15 - 14s - loss: 0.0111 - 14s/epoch - 907ms/step\n",
      "Epoch 25/30\n",
      "15/15 - 14s - loss: 0.0105 - 14s/epoch - 919ms/step\n",
      "Epoch 26/30\n",
      "15/15 - 14s - loss: 0.0100 - 14s/epoch - 934ms/step\n",
      "Epoch 27/30\n",
      "15/15 - 14s - loss: 0.0094 - 14s/epoch - 932ms/step\n",
      "Epoch 28/30\n",
      "15/15 - 14s - loss: 0.0090 - 14s/epoch - 907ms/step\n",
      "Epoch 29/30\n",
      "15/15 - 13s - loss: 0.0085 - 13s/epoch - 893ms/step\n",
      "Epoch 30/30\n",
      "15/15 - 14s - loss: 0.0081 - 14s/epoch - 921ms/step\n"
     ]
    },
    {
     "data": {
      "text/plain": [
       "<keras.callbacks.History at 0x2cec7abf9b0>"
      ]
     },
     "execution_count": 25,
     "metadata": {},
     "output_type": "execute_result"
    }
   ],
   "source": [
    "# start train\n",
    "ae.fit(new_x, new_x,\n",
    "       batch_size=batch_size,\n",
    "       epochs=epoch,\n",
    "       verbose=2)"
   ]
  },
  {
   "cell_type": "code",
   "execution_count": 26,
   "metadata": {},
   "outputs": [],
   "source": [
    "encoder = models.Model(input_tensor, latent_vector)"
   ]
  },
  {
   "cell_type": "code",
   "execution_count": 27,
   "metadata": {},
   "outputs": [],
   "source": [
    "decoder_input = Input((13, 13, 64))\n",
    "decode = decode_layer_1(decoder_input)\n",
    "decode = decode_layer_2(decode)\n",
    "\n",
    "decoder = models.Model(decoder_input, output_tensor(decode))"
   ]
  },
  {
   "cell_type": "code",
   "execution_count": 28,
   "metadata": {},
   "outputs": [],
   "source": [
    "# Encode original faulty wafer\n",
    "encoded_x = encoder.predict(new_x)"
   ]
  },
  {
   "cell_type": "code",
   "execution_count": 29,
   "metadata": {},
   "outputs": [],
   "source": [
    "# Add noise to encoded latent faulty wafers vector.\n",
    "noised_encoded_x = encoded_x + np.random.normal(loc=0, scale=0.1, size = (len(encoded_x), 13, 13, 64))"
   ]
  },
  {
   "cell_type": "code",
   "execution_count": 30,
   "metadata": {},
   "outputs": [
    {
     "data": {
      "text/plain": [
       "<matplotlib.image.AxesImage at 0x2cecaf74828>"
      ]
     },
     "execution_count": 30,
     "metadata": {},
     "output_type": "execute_result"
    },
    {
     "data": {
      "image/png": "[encoded data removed]",
      "text/plain": [
       "<Figure size 432x288 with 1 Axes>"
      ]
     },
     "metadata": {
      "needs_background": "light"
     },
     "output_type": "display_data"
    }
   ],
   "source": [
    "# check original faulty wafer data\n",
    "plt.imshow(np.argmax(new_x[3], axis=2))"
   ]
  },
  {
   "cell_type": "code",
   "execution_count": 31,
   "metadata": {},
   "outputs": [
    {
     "data": {
      "text/plain": [
       "<matplotlib.image.AxesImage at 0x2cecab1da90>"
      ]
     },
     "execution_count": 31,
     "metadata": {},
     "output_type": "execute_result"
    },
    {
     "data": {
      "image/png": "[encoded data removed]",
      "text/plain": [
       "<Figure size 432x288 with 1 Axes>"
      ]
     },
     "metadata": {
      "needs_background": "light"
     },
     "output_type": "display_data"
    }
   ],
   "source": [
    "# check new noised faulty wafer data\n",
    "noised_gen_x = np.argmax(decoder.predict(noised_encoded_x), axis=3)\n",
    "plt.imshow(noised_gen_x[3])"
   ]
  },
  {
   "cell_type": "code",
   "execution_count": 32,
   "metadata": {},
   "outputs": [],
   "source": [
    "# augment function define\n",
    "def gen_data(wafer, label):\n",
    "    # Encode input wafer\n",
    "    encoded_x = encoder.predict(wafer)\n",
    "    \n",
    "    # dummy array for collecting noised wafer\n",
    "    gen_x = np.zeros((1, 26, 26, 3))\n",
    "    \n",
    "    # Make wafer until total # of wafer to 2000\n",
    "    for i in range((2000//len(wafer)) + 1):\n",
    "        noised_encoded_x = encoded_x + np.random.normal(loc=0, scale=0.1, size = (len(encoded_x), 13, 13, 64)) \n",
    "        noised_gen_x = decoder.predict(noised_encoded_x)\n",
    "        gen_x = np.concatenate((gen_x, noised_gen_x), axis=0)\n",
    "    # also make label vector with same length\n",
    "    gen_y = np.full((len(gen_x), 1), label)\n",
    "    \n",
    "    # return date without 1st dummy data.\n",
    "    return gen_x[1:], gen_y[1:]"
   ]
  },
  {
   "cell_type": "code",
   "execution_count": 33,
   "metadata": {},
   "outputs": [],
   "source": [
    "# Augmentation for all faulty case.\n",
    "for f in faulty_case : \n",
    "    # skip none case\n",
    "    if f == 'none' : \n",
    "        continue\n",
    "    \n",
    "    gen_x, gen_y = gen_data(new_x[np.where(y==f)[0]], f)\n",
    "    new_x = np.concatenate((new_x, gen_x), axis=0)\n",
    "    y = np.concatenate((y, gen_y))"
   ]
  },
  {
   "cell_type": "code",
   "execution_count": 34,
   "metadata": {},
   "outputs": [
    {
     "name": "stdout",
     "output_type": "stream",
     "text": [
      "After Generate new_x shape : (30707, 26, 26, 3), new_y shape : (30707, 1)\n"
     ]
    }
   ],
   "source": [
    "print('After Generate new_x shape : {}, new_y shape : {}'.format(new_x.shape, y.shape))"
   ]
  },
  {
   "cell_type": "code",
   "execution_count": 35,
   "metadata": {},
   "outputs": [
    {
     "name": "stdout",
     "output_type": "stream",
     "text": [
      "Center : 2160\n",
      "Donut : 2002\n",
      "Edge-Loc : 2368\n",
      "Edge-Ring : 2046\n",
      "Loc : 2376\n",
      "Near-full : 2032\n",
      "Random : 2146\n",
      "Scratch : 2088\n",
      "none : 13489\n"
     ]
    }
   ],
   "source": [
    "for f in faulty_case :\n",
    "    print('{} : {}'.format(f, len(y[y==f])))"
   ]
  },
  {
   "cell_type": "code",
   "execution_count": 36,
   "metadata": {},
   "outputs": [],
   "source": [
    "none_idx = np.where(y=='none')[0][np.random.choice(len(np.where(y=='none')[0]), size=11000, replace=False)]"
   ]
  },
  {
   "cell_type": "code",
   "execution_count": 37,
   "metadata": {},
   "outputs": [],
   "source": [
    "new_x = np.delete(new_x, none_idx, axis=0)\n",
    "new_y = np.delete(y, none_idx, axis=0)"
   ]
  },
  {
   "cell_type": "code",
   "execution_count": 38,
   "metadata": {},
   "outputs": [
    {
     "name": "stdout",
     "output_type": "stream",
     "text": [
      "After Delete \"none\" class new_x shape : (19707, 26, 26, 3), new_y shape : (19707, 1)\n"
     ]
    }
   ],
   "source": [
    "print('After Delete \"none\" class new_x shape : {}, new_y shape : {}'.format(new_x.shape, new_y.shape))"
   ]
  },
  {
   "cell_type": "code",
   "execution_count": 39,
   "metadata": {},
   "outputs": [
    {
     "name": "stdout",
     "output_type": "stream",
     "text": [
      "Center : 2160\n",
      "Donut : 2002\n",
      "Edge-Loc : 2368\n",
      "Edge-Ring : 2046\n",
      "Loc : 2376\n",
      "Near-full : 2032\n",
      "Random : 2146\n",
      "Scratch : 2088\n",
      "none : 2489\n"
     ]
    }
   ],
   "source": [
    "for f in faulty_case :\n",
    "    print('{} : {}'.format(f, len(new_y[new_y==f])))"
   ]
  },
  {
   "cell_type": "code",
   "execution_count": 44,
   "metadata": {},
   "outputs": [],
   "source": [
    "for i, l in enumerate(faulty_case):\n",
    "    new_y[new_y==l] = i\n",
    "    \n",
    "# one-hot-encoding\n",
    "new_y = to_categorical(new_y)"
   ]
  },
  {
   "cell_type": "code",
   "execution_count": 45,
   "metadata": {},
   "outputs": [
    {
     "data": {
      "text/plain": [
       "(705, 26, 26, 3)"
      ]
     },
     "execution_count": 45,
     "metadata": {},
     "output_type": "execute_result"
    }
   ],
   "source": [
    "new_X=new_x[0:19000]\n",
    "new_Y=new_y[0:19000]\n",
    "test_x=new_x[19001:19706]\n",
    "test_y=new_y[19001:19706]\n",
    "test_x.shape"
   ]
  },
  {
   "cell_type": "code",
   "execution_count": 46,
   "metadata": {},
   "outputs": [],
   "source": [
    "x_train, x_test, y_train, y_test = train_test_split(new_X, new_Y,\n",
    "                                                    test_size=0.33,\n",
    "                                                    random_state=2019)"
   ]
  },
  {
   "cell_type": "code",
   "execution_count": 47,
   "metadata": {},
   "outputs": [
    {
     "name": "stdout",
     "output_type": "stream",
     "text": [
      "Train x : (12730, 26, 26, 3), y : (12730, 9)\n",
      "Test x: (6270, 26, 26, 3), y : (6270, 9)\n"
     ]
    }
   ],
   "source": [
    "print('Train x : {}, y : {}'.format(x_train.shape, y_train.shape))\n",
    "print('Test x: {}, y : {}'.format(x_test.shape, y_test.shape))"
   ]
  },
  {
   "cell_type": "code",
   "execution_count": 48,
   "metadata": {},
   "outputs": [],
   "source": [
    "def create_model():\n",
    "    input_shape = (26, 26, 3)\n",
    "    input_tensor = Input(input_shape)\n",
    "\n",
    "    conv_1 = layers.Conv2D(16, (3,3), activation='relu', padding='same')(input_tensor)\n",
    "    conv_2 = layers.Conv2D(64, (3,3), activation='relu', padding='same')(conv_1)\n",
    "    conv_3 = layers.Conv2D(128, (3,3), activation='relu', padding='same')(conv_2)\n",
    "\n",
    "    flat = layers.Flatten()(conv_3)\n",
    "\n",
    "    dense_1 = layers.Dense(512, activation='relu')(flat)\n",
    "    dense_2 = layers.Dense(128, activation='relu')(dense_1)\n",
    "    output_tensor = layers.Dense(9, activation='softmax')(dense_2)\n",
    "\n",
    "    model = models.Model(input_tensor, output_tensor)\n",
    "    model.compile(optimizer='Adam',\n",
    "                 loss='categorical_crossentropy',\n",
    "                 metrics=['accuracy'])\n",
    "\n",
    "    return model"
   ]
  },
  {
   "cell_type": "code",
   "execution_count": 49,
   "metadata": {},
   "outputs": [
    {
     "name": "stdout",
     "output_type": "stream",
     "text": [
      "Epoch 1/30\n",
      "9/9 - 27s - loss: 1.7039 - accuracy: 0.3948 - 27s/epoch - 3s/step\n",
      "Epoch 2/30\n",
      "9/9 - 30s - loss: 0.7066 - accuracy: 0.7477 - 30s/epoch - 3s/step\n",
      "Epoch 3/30\n",
      "9/9 - 30s - loss: 0.4398 - accuracy: 0.8576 - 30s/epoch - 3s/step\n",
      "Epoch 4/30\n",
      "9/9 - 31s - loss: 0.2578 - accuracy: 0.9096 - 31s/epoch - 3s/step\n",
      "Epoch 5/30\n",
      "9/9 - 32s - loss: 0.1330 - accuracy: 0.9624 - 32s/epoch - 4s/step\n",
      "Epoch 6/30\n",
      "9/9 - 33s - loss: 0.0618 - accuracy: 0.9853 - 33s/epoch - 4s/step\n",
      "Epoch 7/30\n",
      "9/9 - 34s - loss: 0.0418 - accuracy: 0.9896 - 34s/epoch - 4s/step\n",
      "Epoch 8/30\n",
      "9/9 - 36s - loss: 0.0282 - accuracy: 0.9935 - 36s/epoch - 4s/step\n",
      "Epoch 9/30\n",
      "9/9 - 38s - loss: 0.0171 - accuracy: 0.9971 - 38s/epoch - 4s/step\n",
      "Epoch 10/30\n",
      "9/9 - 41s - loss: 0.0110 - accuracy: 0.9981 - 41s/epoch - 5s/step\n",
      "Epoch 11/30\n",
      "9/9 - 44s - loss: 0.0074 - accuracy: 0.9989 - 44s/epoch - 5s/step\n",
      "Epoch 12/30\n",
      "9/9 - 48s - loss: 0.0066 - accuracy: 0.9985 - 48s/epoch - 5s/step\n",
      "Epoch 13/30\n",
      "9/9 - 52s - loss: 0.0061 - accuracy: 0.9980 - 52s/epoch - 6s/step\n",
      "Epoch 14/30\n",
      "9/9 - 48s - loss: 0.0077 - accuracy: 0.9988 - 48s/epoch - 5s/step\n",
      "Epoch 15/30\n",
      "9/9 - 51s - loss: 0.0049 - accuracy: 0.9989 - 51s/epoch - 6s/step\n",
      "Epoch 16/30\n",
      "9/9 - 54s - loss: 0.0060 - accuracy: 0.9982 - 54s/epoch - 6s/step\n",
      "Epoch 17/30\n",
      "9/9 - 47s - loss: 0.0109 - accuracy: 0.9986 - 47s/epoch - 5s/step\n",
      "Epoch 18/30\n",
      "9/9 - 46s - loss: 0.0092 - accuracy: 0.9980 - 46s/epoch - 5s/step\n",
      "Epoch 19/30\n",
      "9/9 - 45s - loss: 0.0074 - accuracy: 0.9988 - 45s/epoch - 5s/step\n",
      "Epoch 20/30\n",
      "9/9 - 47s - loss: 0.0055 - accuracy: 0.9988 - 47s/epoch - 5s/step\n",
      "Epoch 21/30\n",
      "9/9 - 45s - loss: 0.0045 - accuracy: 0.9991 - 45s/epoch - 5s/step\n",
      "Epoch 22/30\n",
      "9/9 - 41s - loss: 0.0064 - accuracy: 0.9991 - 41s/epoch - 5s/step\n",
      "Epoch 23/30\n",
      "9/9 - 46s - loss: 0.0047 - accuracy: 0.9989 - 46s/epoch - 5s/step\n",
      "Epoch 24/30\n",
      "9/9 - 41s - loss: 0.0039 - accuracy: 0.9989 - 41s/epoch - 5s/step\n",
      "Epoch 25/30\n",
      "9/9 - 41s - loss: 0.0031 - accuracy: 0.9995 - 41s/epoch - 5s/step\n",
      "Epoch 26/30\n",
      "9/9 - 42s - loss: 0.0040 - accuracy: 0.9989 - 42s/epoch - 5s/step\n",
      "Epoch 27/30\n",
      "9/9 - 43s - loss: 0.0052 - accuracy: 0.9988 - 43s/epoch - 5s/step\n",
      "Epoch 28/30\n",
      "9/9 - 44s - loss: 0.0051 - accuracy: 0.9992 - 44s/epoch - 5s/step\n",
      "Epoch 29/30\n",
      "9/9 - 43s - loss: 0.0051 - accuracy: 0.9984 - 43s/epoch - 5s/step\n",
      "Epoch 30/30\n",
      "9/9 - 43s - loss: 0.0041 - accuracy: 0.9991 - 43s/epoch - 5s/step\n",
      "5/5 - 7s - loss: 0.0191 - accuracy: 0.9941 - 7s/epoch - 1s/step\n",
      "Epoch 1/30\n",
      "9/9 - 42s - loss: 2.7358 - accuracy: 0.2645 - 42s/epoch - 5s/step\n",
      "Epoch 2/30\n",
      "9/9 - 41s - loss: 1.0906 - accuracy: 0.6055 - 41s/epoch - 5s/step\n",
      "Epoch 3/30\n",
      "9/9 - 41s - loss: 0.7615 - accuracy: 0.7192 - 41s/epoch - 5s/step\n",
      "Epoch 4/30\n",
      "9/9 - 42s - loss: 0.5494 - accuracy: 0.8260 - 42s/epoch - 5s/step\n",
      "Epoch 5/30\n",
      "9/9 - 41s - loss: 0.3784 - accuracy: 0.8773 - 41s/epoch - 5s/step\n",
      "Epoch 6/30\n",
      "9/9 - 41s - loss: 0.2627 - accuracy: 0.9145 - 41s/epoch - 5s/step\n",
      "Epoch 7/30\n",
      "9/9 - 40s - loss: 0.1733 - accuracy: 0.9493 - 40s/epoch - 4s/step\n",
      "Epoch 8/30\n",
      "9/9 - 41s - loss: 0.1180 - accuracy: 0.9685 - 41s/epoch - 5s/step\n",
      "Epoch 9/30\n",
      "9/9 - 41s - loss: 0.0671 - accuracy: 0.9867 - 41s/epoch - 5s/step\n",
      "Epoch 10/30\n",
      "9/9 - 41s - loss: 0.0492 - accuracy: 0.9886 - 41s/epoch - 5s/step\n",
      "Epoch 11/30\n",
      "9/9 - 41s - loss: 0.0332 - accuracy: 0.9934 - 41s/epoch - 5s/step\n",
      "Epoch 12/30\n",
      "9/9 - 41s - loss: 0.0201 - accuracy: 0.9967 - 41s/epoch - 5s/step\n",
      "Epoch 13/30\n",
      "9/9 - 41s - loss: 0.0153 - accuracy: 0.9976 - 41s/epoch - 5s/step\n",
      "Epoch 14/30\n",
      "9/9 - 41s - loss: 0.0107 - accuracy: 0.9991 - 41s/epoch - 5s/step\n",
      "Epoch 15/30\n",
      "9/9 - 41s - loss: 0.0084 - accuracy: 0.9987 - 41s/epoch - 5s/step\n",
      "Epoch 16/30\n",
      "9/9 - 41s - loss: 0.0131 - accuracy: 0.9969 - 41s/epoch - 5s/step\n",
      "Epoch 17/30\n",
      "9/9 - 42s - loss: 0.0098 - accuracy: 0.9985 - 42s/epoch - 5s/step\n",
      "Epoch 18/30\n",
      "9/9 - 42s - loss: 0.0085 - accuracy: 0.9988 - 42s/epoch - 5s/step\n",
      "Epoch 19/30\n",
      "9/9 - 41s - loss: 0.0083 - accuracy: 0.9988 - 41s/epoch - 5s/step\n",
      "Epoch 20/30\n",
      "9/9 - 43s - loss: 0.0090 - accuracy: 0.9984 - 43s/epoch - 5s/step\n",
      "Epoch 21/30\n",
      "9/9 - 40s - loss: 0.0065 - accuracy: 0.9984 - 40s/epoch - 4s/step\n",
      "Epoch 22/30\n",
      "9/9 - 41s - loss: 0.0049 - accuracy: 0.9987 - 41s/epoch - 5s/step\n",
      "Epoch 23/30\n",
      "9/9 - 42s - loss: 0.0069 - accuracy: 0.9984 - 42s/epoch - 5s/step\n",
      "Epoch 24/30\n",
      "9/9 - 43s - loss: 0.0056 - accuracy: 0.9987 - 43s/epoch - 5s/step\n",
      "Epoch 25/30\n",
      "9/9 - 43s - loss: 0.0048 - accuracy: 0.9989 - 43s/epoch - 5s/step\n",
      "Epoch 26/30\n",
      "9/9 - 41s - loss: 0.0052 - accuracy: 0.9988 - 41s/epoch - 5s/step\n",
      "Epoch 27/30\n",
      "9/9 - 42s - loss: 0.0034 - accuracy: 0.9992 - 42s/epoch - 5s/step\n",
      "Epoch 28/30\n",
      "9/9 - 41s - loss: 0.0046 - accuracy: 0.9988 - 41s/epoch - 5s/step\n",
      "Epoch 29/30\n",
      "9/9 - 41s - loss: 0.0072 - accuracy: 0.9986 - 41s/epoch - 5s/step\n",
      "Epoch 30/30\n",
      "9/9 - 41s - loss: 0.0070 - accuracy: 0.9989 - 41s/epoch - 5s/step\n",
      "5/5 - 6s - loss: 0.0319 - accuracy: 0.9889 - 6s/epoch - 1s/step\n",
      "Epoch 1/30\n",
      "9/9 - 43s - loss: 2.1673 - accuracy: 0.2857 - 43s/epoch - 5s/step\n",
      "Epoch 2/30\n",
      "9/9 - 45s - loss: 1.0754 - accuracy: 0.6377 - 45s/epoch - 5s/step\n",
      "Epoch 3/30\n",
      "9/9 - 41s - loss: 0.6304 - accuracy: 0.7787 - 41s/epoch - 5s/step\n",
      "Epoch 4/30\n",
      "9/9 - 42s - loss: 0.3644 - accuracy: 0.8750 - 42s/epoch - 5s/step\n",
      "Epoch 5/30\n",
      "9/9 - 42s - loss: 0.2144 - accuracy: 0.9278 - 42s/epoch - 5s/step\n",
      "Epoch 6/30\n",
      "9/9 - 41s - loss: 0.1082 - accuracy: 0.9729 - 41s/epoch - 5s/step\n",
      "Epoch 7/30\n",
      "9/9 - 43s - loss: 0.0585 - accuracy: 0.9862 - 43s/epoch - 5s/step\n",
      "Epoch 8/30\n",
      "9/9 - 43s - loss: 0.0283 - accuracy: 0.9939 - 43s/epoch - 5s/step\n",
      "Epoch 9/30\n",
      "9/9 - 42s - loss: 0.0183 - accuracy: 0.9965 - 42s/epoch - 5s/step\n",
      "Epoch 10/30\n",
      "9/9 - 41s - loss: 0.0127 - accuracy: 0.9978 - 41s/epoch - 5s/step\n",
      "Epoch 11/30\n",
      "9/9 - 42s - loss: 0.0100 - accuracy: 0.9982 - 42s/epoch - 5s/step\n",
      "Epoch 12/30\n",
      "9/9 - 42s - loss: 0.0075 - accuracy: 0.9985 - 42s/epoch - 5s/step\n",
      "Epoch 13/30\n",
      "9/9 - 41s - loss: 0.0101 - accuracy: 0.9982 - 41s/epoch - 5s/step\n",
      "Epoch 14/30\n",
      "9/9 - 42s - loss: 0.0095 - accuracy: 0.9984 - 42s/epoch - 5s/step\n",
      "Epoch 15/30\n",
      "9/9 - 42s - loss: 0.0065 - accuracy: 0.9980 - 42s/epoch - 5s/step\n",
      "Epoch 16/30\n",
      "9/9 - 42s - loss: 0.0062 - accuracy: 0.9986 - 42s/epoch - 5s/step\n",
      "Epoch 17/30\n",
      "9/9 - 42s - loss: 0.0061 - accuracy: 0.9984 - 42s/epoch - 5s/step\n",
      "Epoch 18/30\n",
      "9/9 - 42s - loss: 0.0110 - accuracy: 0.9969 - 42s/epoch - 5s/step\n",
      "Epoch 19/30\n",
      "9/9 - 42s - loss: 0.0096 - accuracy: 0.9981 - 42s/epoch - 5s/step\n",
      "Epoch 20/30\n",
      "9/9 - 41s - loss: 0.0083 - accuracy: 0.9979 - 41s/epoch - 5s/step\n",
      "Epoch 21/30\n",
      "9/9 - 41s - loss: 0.0050 - accuracy: 0.9988 - 41s/epoch - 5s/step\n",
      "Epoch 22/30\n",
      "9/9 - 41s - loss: 0.0048 - accuracy: 0.9985 - 41s/epoch - 5s/step\n",
      "Epoch 23/30\n",
      "9/9 - 42s - loss: 0.0071 - accuracy: 0.9986 - 42s/epoch - 5s/step\n",
      "Epoch 24/30\n",
      "9/9 - 43s - loss: 0.0067 - accuracy: 0.9986 - 43s/epoch - 5s/step\n",
      "Epoch 25/30\n",
      "9/9 - 42s - loss: 0.0079 - accuracy: 0.9984 - 42s/epoch - 5s/step\n",
      "Epoch 26/30\n",
      "9/9 - 41s - loss: 0.0055 - accuracy: 0.9991 - 41s/epoch - 5s/step\n",
      "Epoch 27/30\n",
      "9/9 - 42s - loss: 0.0039 - accuracy: 0.9991 - 42s/epoch - 5s/step\n",
      "Epoch 28/30\n",
      "9/9 - 42s - loss: 0.0062 - accuracy: 0.9987 - 42s/epoch - 5s/step\n",
      "Epoch 29/30\n",
      "9/9 - 42s - loss: 0.0086 - accuracy: 0.9976 - 42s/epoch - 5s/step\n",
      "Epoch 30/30\n",
      "9/9 - 42s - loss: 0.0054 - accuracy: 0.9988 - 42s/epoch - 5s/step\n",
      "5/5 - 6s - loss: 0.0368 - accuracy: 0.9927 - 6s/epoch - 1s/step\n",
      "Simple CNN Cross validation score : 0.9919\n"
     ]
    }
   ],
   "source": [
    "model = KerasClassifier(build_fn=create_model, epochs=30, batch_size=1024, verbose=2) \n",
    "# 3-Fold Crossvalidation\n",
    "kfold = KFold(n_splits=3, shuffle=True, random_state=2019) \n",
    "results = cross_val_score(model, x_train, y_train, cv=kfold)\n",
    "# Check 3-fold model's mean accuracy\n",
    "print('Simple CNN Cross validation score : {:.4f}'.format(np.mean(results)))"
   ]
  },
  {
   "cell_type": "code",
   "execution_count": 50,
   "metadata": {},
   "outputs": [
    {
     "name": "stdout",
     "output_type": "stream",
     "text": [
      "Epoch 1/30\n",
      "13/13 - 72s - loss: 1.5349 - accuracy: 0.4471 - val_loss: 0.8051 - val_accuracy: 0.7144 - 72s/epoch - 6s/step\n",
      "Epoch 2/30\n",
      "13/13 - 72s - loss: 0.5200 - accuracy: 0.8332 - val_loss: 0.3384 - val_accuracy: 0.8796 - 72s/epoch - 6s/step\n",
      "Epoch 3/30\n",
      "13/13 - 72s - loss: 0.1874 - accuracy: 0.9408 - val_loss: 0.1536 - val_accuracy: 0.9531 - 72s/epoch - 6s/step\n",
      "Epoch 4/30\n",
      "13/13 - 72s - loss: 0.0685 - accuracy: 0.9833 - val_loss: 0.0524 - val_accuracy: 0.9876 - 72s/epoch - 6s/step\n",
      "Epoch 5/30\n",
      "13/13 - 72s - loss: 0.0238 - accuracy: 0.9962 - val_loss: 0.0406 - val_accuracy: 0.9909 - 72s/epoch - 6s/step\n",
      "Epoch 6/30\n",
      "13/13 - 72s - loss: 0.0176 - accuracy: 0.9970 - val_loss: 0.0434 - val_accuracy: 0.9892 - 72s/epoch - 6s/step\n",
      "Epoch 7/30\n",
      "13/13 - 73s - loss: 0.0117 - accuracy: 0.9978 - val_loss: 0.0244 - val_accuracy: 0.9939 - 73s/epoch - 6s/step\n",
      "Epoch 8/30\n",
      "13/13 - 73s - loss: 0.0111 - accuracy: 0.9980 - val_loss: 0.0430 - val_accuracy: 0.9900 - 73s/epoch - 6s/step\n",
      "Epoch 9/30\n",
      "13/13 - 73s - loss: 0.0094 - accuracy: 0.9979 - val_loss: 0.0316 - val_accuracy: 0.9914 - 73s/epoch - 6s/step\n",
      "Epoch 10/30\n",
      "13/13 - 73s - loss: 0.0079 - accuracy: 0.9986 - val_loss: 0.0272 - val_accuracy: 0.9933 - 73s/epoch - 6s/step\n",
      "Epoch 11/30\n",
      "13/13 - 73s - loss: 0.0057 - accuracy: 0.9989 - val_loss: 0.0240 - val_accuracy: 0.9939 - 73s/epoch - 6s/step\n",
      "Epoch 12/30\n",
      "13/13 - 73s - loss: 0.0053 - accuracy: 0.9986 - val_loss: 0.0337 - val_accuracy: 0.9927 - 73s/epoch - 6s/step\n",
      "Epoch 13/30\n",
      "13/13 - 71s - loss: 0.0063 - accuracy: 0.9987 - val_loss: 0.0368 - val_accuracy: 0.9923 - 71s/epoch - 5s/step\n",
      "Epoch 14/30\n",
      "13/13 - 71s - loss: 0.0074 - accuracy: 0.9987 - val_loss: 0.0399 - val_accuracy: 0.9911 - 71s/epoch - 5s/step\n",
      "Epoch 15/30\n",
      "13/13 - 72s - loss: 0.0066 - accuracy: 0.9987 - val_loss: 0.0235 - val_accuracy: 0.9957 - 72s/epoch - 6s/step\n",
      "Epoch 16/30\n",
      "13/13 - 72s - loss: 0.0044 - accuracy: 0.9986 - val_loss: 0.0213 - val_accuracy: 0.9951 - 72s/epoch - 6s/step\n",
      "Epoch 17/30\n",
      "13/13 - 71s - loss: 0.0061 - accuracy: 0.9985 - val_loss: 0.0250 - val_accuracy: 0.9946 - 71s/epoch - 5s/step\n",
      "Epoch 18/30\n",
      "13/13 - 72s - loss: 0.0041 - accuracy: 0.9987 - val_loss: 0.0246 - val_accuracy: 0.9930 - 72s/epoch - 6s/step\n",
      "Epoch 19/30\n",
      "13/13 - 72s - loss: 0.0039 - accuracy: 0.9988 - val_loss: 0.0259 - val_accuracy: 0.9941 - 72s/epoch - 6s/step\n",
      "Epoch 20/30\n",
      "13/13 - 72s - loss: 0.0073 - accuracy: 0.9984 - val_loss: 0.0213 - val_accuracy: 0.9939 - 72s/epoch - 6s/step\n",
      "Epoch 21/30\n",
      "13/13 - 71s - loss: 0.0057 - accuracy: 0.9985 - val_loss: 0.0294 - val_accuracy: 0.9933 - 71s/epoch - 5s/step\n",
      "Epoch 22/30\n",
      "13/13 - 74s - loss: 0.0036 - accuracy: 0.9990 - val_loss: 0.0209 - val_accuracy: 0.9935 - 74s/epoch - 6s/step\n",
      "Epoch 23/30\n",
      "13/13 - 73s - loss: 0.0064 - accuracy: 0.9981 - val_loss: 0.0358 - val_accuracy: 0.9901 - 73s/epoch - 6s/step\n",
      "Epoch 24/30\n",
      "13/13 - 71s - loss: 0.0091 - accuracy: 0.9986 - val_loss: 0.0257 - val_accuracy: 0.9944 - 71s/epoch - 5s/step\n",
      "Epoch 25/30\n",
      "13/13 - 71s - loss: 0.0060 - accuracy: 0.9989 - val_loss: 0.0204 - val_accuracy: 0.9952 - 71s/epoch - 5s/step\n",
      "Epoch 26/30\n",
      "13/13 - 72s - loss: 0.0040 - accuracy: 0.9991 - val_loss: 0.0251 - val_accuracy: 0.9947 - 72s/epoch - 6s/step\n",
      "Epoch 27/30\n",
      "13/13 - 72s - loss: 0.0024 - accuracy: 0.9992 - val_loss: 0.0203 - val_accuracy: 0.9944 - 72s/epoch - 6s/step\n",
      "Epoch 28/30\n",
      "13/13 - 72s - loss: 0.0053 - accuracy: 0.9987 - val_loss: 0.0397 - val_accuracy: 0.9931 - 72s/epoch - 6s/step\n",
      "Epoch 29/30\n",
      "13/13 - 78s - loss: 0.0050 - accuracy: 0.9989 - val_loss: 0.0241 - val_accuracy: 0.9955 - 78s/epoch - 6s/step\n",
      "Epoch 30/30\n",
      "13/13 - 75s - loss: 0.0057 - accuracy: 0.9989 - val_loss: 0.0198 - val_accuracy: 0.9952 - 75s/epoch - 6s/step\n"
     ]
    }
   ],
   "source": [
    "history = model.fit(x_train, y_train,\n",
    "         validation_data=[x_test, y_test],\n",
    "         epochs=epoch,\n",
    "         batch_size=batch_size,\n",
    "         )"
   ]
  },
  {
   "cell_type": "code",
   "execution_count": 51,
   "metadata": {},
   "outputs": [
    {
     "name": "stdout",
     "output_type": "stream",
     "text": [
      "7/7 - 10s - loss: 0.0198 - accuracy: 0.9952 - 10s/epoch - 1s/step\n",
      "Testing Accuracy: 0.9952152967453003\n"
     ]
    }
   ],
   "source": [
    "score = model.score(x_test, y_test)\n",
    "#print('Test Loss:', score[0])\n",
    "#print('Test accuracy:', score[1])\n",
    "print('Testing Accuracy:',score)"
   ]
  },
  {
   "cell_type": "code",
   "execution_count": 59,
   "metadata": {},
   "outputs": [
    {
     "name": "stdout",
     "output_type": "stream",
     "text": [
      "dict_keys(['loss', 'accuracy', 'val_loss', 'val_accuracy'])\n"
     ]
    }
   ],
   "source": [
    "print(history.history.keys())"
   ]
  },
  {
   "cell_type": "code",
   "execution_count": 60,
   "metadata": {},
   "outputs": [
    {
     "data": {
      "image/png": "[encoded data removed]",
      "text/plain": [
       "<Figure size 432x288 with 1 Axes>"
      ]
     },
     "metadata": {
      "needs_background": "light"
     },
     "output_type": "display_data"
    },
    {
     "data": {
      "image/png": "[encoded data removed]",
      "text/plain": [
       "<Figure size 432x288 with 1 Axes>"
      ]
     },
     "metadata": {
      "needs_background": "light"
     },
     "output_type": "display_data"
    }
   ],
   "source": [
    "# accuracy plot \n",
    "plt.plot(history.history['accuracy'])\n",
    "plt.plot(history.history['val_accuracy'])\n",
    "plt.title('model accuracy')\n",
    "plt.ylabel('accuracy')\n",
    "plt.xlabel('epoch')\n",
    "plt.legend(['train', 'test'], loc='upper left')\n",
    "plt.show()\n",
    "\n",
    "# loss plot\n",
    "plt.plot(history.history['loss'])\n",
    "plt.plot(history.history['val_loss'])\n",
    "plt.title('model loss')\n",
    "plt.ylabel('loss')\n",
    "plt.xlabel('epoch')\n",
    "plt.legend(['train', 'test'], loc='upper left')\n",
    "plt.show()"
   ]
  }
 ],
 "metadata": {
  "kernelspec": {
   "display_name": "Python 3 (ipykernel)",
   "language": "python",
   "name": "python3"
  },
  "language_info": {
   "codemirror_mode": {
    "name": "ipython",
    "version": 3
   },
   "file_extension": ".py",
   "mimetype": "text/x-python",
   "name": "python",
   "nbconvert_exporter": "python",
   "pygments_lexer": "ipython3",
   "version": "3.7.3"
  }
 },
 "nbformat": 4,
 "nbformat_minor": 4
}
