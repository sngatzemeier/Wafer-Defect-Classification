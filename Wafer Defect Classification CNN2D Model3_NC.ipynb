{
 "cells": [
  {
   "cell_type": "markdown",
   "metadata": {},
   "source": [
    "This code is written to ingest WM811K dataset and get trained on defect patterns and be able to distinguish and group wafers into two groups - defect pattern vs no pattern. Data has some added data points to rebalance class and has much better accuracy.\n",
    "\n",
    "Sources:\n",
    "1. Keras Wafer Classification 2D: TEEEADY https://www.kaggle.com/teeeady/keras-wafer-classification-cnn2d\n"
   ]
  },
  {
   "cell_type": "code",
   "execution_count": 4,
   "metadata": {},
   "outputs": [
    {
     "name": "stdout",
     "output_type": "stream",
     "text": [
      "Requirement already satisfied: tensorflow in /Users/nagachandrasekaran/opt/anaconda3/lib/python3.8/site-packages (2.8.0)\n",
      "Requirement already satisfied: setuptools in /Users/nagachandrasekaran/opt/anaconda3/lib/python3.8/site-packages (from tensorflow) (49.2.0.post20200714)\n",
      "Requirement already satisfied: absl-py>=0.4.0 in /Users/nagachandrasekaran/opt/anaconda3/lib/python3.8/site-packages (from tensorflow) (1.0.0)\n",
      "Requirement already satisfied: opt-einsum>=2.3.2 in /Users/nagachandrasekaran/opt/anaconda3/lib/python3.8/site-packages (from tensorflow) (3.3.0)\n",
      "Requirement already satisfied: tf-estimator-nightly==2.8.0.dev2021122109 in /Users/nagachandrasekaran/opt/anaconda3/lib/python3.8/site-packages (from tensorflow) (2.8.0.dev2021122109)\n",
      "Requirement already satisfied: tensorflow-io-gcs-filesystem>=0.23.1 in /Users/nagachandrasekaran/opt/anaconda3/lib/python3.8/site-packages (from tensorflow) (0.24.0)\n",
      "Requirement already satisfied: google-pasta>=0.1.1 in /Users/nagachandrasekaran/opt/anaconda3/lib/python3.8/site-packages (from tensorflow) (0.2.0)\n",
      "Requirement already satisfied: gast>=0.2.1 in /Users/nagachandrasekaran/opt/anaconda3/lib/python3.8/site-packages (from tensorflow) (0.5.3)\n",
      "Requirement already satisfied: protobuf>=3.9.2 in /Users/nagachandrasekaran/opt/anaconda3/lib/python3.8/site-packages (from tensorflow) (3.19.4)\n",
      "Requirement already satisfied: keras-preprocessing>=1.1.1 in /Users/nagachandrasekaran/opt/anaconda3/lib/python3.8/site-packages (from tensorflow) (1.1.2)\n",
      "Requirement already satisfied: h5py>=2.9.0 in /Users/nagachandrasekaran/opt/anaconda3/lib/python3.8/site-packages (from tensorflow) (2.10.0)\n",
      "Requirement already satisfied: numpy>=1.20 in /Users/nagachandrasekaran/opt/anaconda3/lib/python3.8/site-packages (from tensorflow) (1.22.2)\n",
      "Requirement already satisfied: keras<2.9,>=2.8.0rc0 in /Users/nagachandrasekaran/opt/anaconda3/lib/python3.8/site-packages (from tensorflow) (2.8.0)\n",
      "Requirement already satisfied: wrapt>=1.11.0 in /Users/nagachandrasekaran/opt/anaconda3/lib/python3.8/site-packages (from tensorflow) (1.11.2)\n",
      "Requirement already satisfied: termcolor>=1.1.0 in /Users/nagachandrasekaran/opt/anaconda3/lib/python3.8/site-packages (from tensorflow) (1.1.0)\n",
      "Requirement already satisfied: tensorboard<2.9,>=2.8 in /Users/nagachandrasekaran/opt/anaconda3/lib/python3.8/site-packages (from tensorflow) (2.8.0)\n",
      "Requirement already satisfied: astunparse>=1.6.0 in /Users/nagachandrasekaran/opt/anaconda3/lib/python3.8/site-packages (from tensorflow) (1.6.3)\n",
      "Requirement already satisfied: libclang>=9.0.1 in /Users/nagachandrasekaran/opt/anaconda3/lib/python3.8/site-packages (from tensorflow) (13.0.0)\n",
      "Requirement already satisfied: grpcio<2.0,>=1.24.3 in /Users/nagachandrasekaran/opt/anaconda3/lib/python3.8/site-packages (from tensorflow) (1.43.0)\n",
      "Requirement already satisfied: typing-extensions>=3.6.6 in /Users/nagachandrasekaran/opt/anaconda3/lib/python3.8/site-packages (from tensorflow) (3.7.4.2)\n",
      "Requirement already satisfied: flatbuffers>=1.12 in /Users/nagachandrasekaran/opt/anaconda3/lib/python3.8/site-packages (from tensorflow) (2.0)\n",
      "Requirement already satisfied: six>=1.12.0 in /Users/nagachandrasekaran/opt/anaconda3/lib/python3.8/site-packages (from tensorflow) (1.15.0)\n",
      "Requirement already satisfied: tensorboard-data-server<0.7.0,>=0.6.0 in /Users/nagachandrasekaran/opt/anaconda3/lib/python3.8/site-packages (from tensorboard<2.9,>=2.8->tensorflow) (0.6.1)\n",
      "Requirement already satisfied: werkzeug>=0.11.15 in /Users/nagachandrasekaran/opt/anaconda3/lib/python3.8/site-packages (from tensorboard<2.9,>=2.8->tensorflow) (1.0.1)\n",
      "Requirement already satisfied: markdown>=2.6.8 in /Users/nagachandrasekaran/opt/anaconda3/lib/python3.8/site-packages (from tensorboard<2.9,>=2.8->tensorflow) (3.3.6)\n",
      "Requirement already satisfied: requests<3,>=2.21.0 in /Users/nagachandrasekaran/opt/anaconda3/lib/python3.8/site-packages (from tensorboard<2.9,>=2.8->tensorflow) (2.24.0)\n",
      "Requirement already satisfied: tensorboard-plugin-wit>=1.6.0 in /Users/nagachandrasekaran/opt/anaconda3/lib/python3.8/site-packages (from tensorboard<2.9,>=2.8->tensorflow) (1.8.1)\n",
      "Requirement already satisfied: wheel>=0.26 in /Users/nagachandrasekaran/opt/anaconda3/lib/python3.8/site-packages (from tensorboard<2.9,>=2.8->tensorflow) (0.34.2)\n",
      "Requirement already satisfied: google-auth<3,>=1.6.3 in /Users/nagachandrasekaran/opt/anaconda3/lib/python3.8/site-packages (from tensorboard<2.9,>=2.8->tensorflow) (2.6.0)\n",
      "Requirement already satisfied: google-auth-oauthlib<0.5,>=0.4.1 in /Users/nagachandrasekaran/opt/anaconda3/lib/python3.8/site-packages (from tensorboard<2.9,>=2.8->tensorflow) (0.4.6)\n",
      "Requirement already satisfied: importlib-metadata>=4.4; python_version < \"3.10\" in /Users/nagachandrasekaran/opt/anaconda3/lib/python3.8/site-packages (from markdown>=2.6.8->tensorboard<2.9,>=2.8->tensorflow) (4.10.1)\n",
      "Requirement already satisfied: certifi>=2017.4.17 in /Users/nagachandrasekaran/opt/anaconda3/lib/python3.8/site-packages (from requests<3,>=2.21.0->tensorboard<2.9,>=2.8->tensorflow) (2020.6.20)\n",
      "Requirement already satisfied: idna<3,>=2.5 in /Users/nagachandrasekaran/opt/anaconda3/lib/python3.8/site-packages (from requests<3,>=2.21.0->tensorboard<2.9,>=2.8->tensorflow) (2.10)\n",
      "Requirement already satisfied: urllib3!=1.25.0,!=1.25.1,<1.26,>=1.21.1 in /Users/nagachandrasekaran/opt/anaconda3/lib/python3.8/site-packages (from requests<3,>=2.21.0->tensorboard<2.9,>=2.8->tensorflow) (1.25.9)\n",
      "Requirement already satisfied: chardet<4,>=3.0.2 in /Users/nagachandrasekaran/opt/anaconda3/lib/python3.8/site-packages (from requests<3,>=2.21.0->tensorboard<2.9,>=2.8->tensorflow) (3.0.4)\n",
      "Requirement already satisfied: pyasn1-modules>=0.2.1 in /Users/nagachandrasekaran/opt/anaconda3/lib/python3.8/site-packages (from google-auth<3,>=1.6.3->tensorboard<2.9,>=2.8->tensorflow) (0.2.8)\n",
      "Requirement already satisfied: rsa<5,>=3.1.4; python_version >= \"3.6\" in /Users/nagachandrasekaran/opt/anaconda3/lib/python3.8/site-packages (from google-auth<3,>=1.6.3->tensorboard<2.9,>=2.8->tensorflow) (4.8)\n",
      "Requirement already satisfied: cachetools<6.0,>=2.0.0 in /Users/nagachandrasekaran/opt/anaconda3/lib/python3.8/site-packages (from google-auth<3,>=1.6.3->tensorboard<2.9,>=2.8->tensorflow) (5.0.0)\n",
      "Requirement already satisfied: requests-oauthlib>=0.7.0 in /Users/nagachandrasekaran/opt/anaconda3/lib/python3.8/site-packages (from google-auth-oauthlib<0.5,>=0.4.1->tensorboard<2.9,>=2.8->tensorflow) (1.3.1)\n",
      "Requirement already satisfied: zipp>=0.5 in /Users/nagachandrasekaran/opt/anaconda3/lib/python3.8/site-packages (from importlib-metadata>=4.4; python_version < \"3.10\"->markdown>=2.6.8->tensorboard<2.9,>=2.8->tensorflow) (3.1.0)\n",
      "Requirement already satisfied: pyasn1<0.5.0,>=0.4.6 in /Users/nagachandrasekaran/opt/anaconda3/lib/python3.8/site-packages (from pyasn1-modules>=0.2.1->google-auth<3,>=1.6.3->tensorboard<2.9,>=2.8->tensorflow) (0.4.8)\n",
      "Requirement already satisfied: oauthlib>=3.0.0 in /Users/nagachandrasekaran/opt/anaconda3/lib/python3.8/site-packages (from requests-oauthlib>=0.7.0->google-auth-oauthlib<0.5,>=0.4.1->tensorboard<2.9,>=2.8->tensorflow) (3.2.0)\n"
     ]
    }
   ],
   "source": [
    "import os\n",
    "from os.path import join\n",
    "\n",
    "import numpy as np\n",
    "import pandas as pd\n",
    "import matplotlib.pyplot as plt\n",
    "import random\n",
    "import warnings\n",
    "\n",
    "!pip install tensorflow\n",
    "import tensorflow as tf\n",
    "import keras\n",
    "from keras import layers, Input, models\n",
    "from tensorflow.keras.utils import to_categorical\n",
    "from keras.wrappers.scikit_learn import KerasClassifier \n",
    "from sklearn.model_selection import KFold \n",
    "from sklearn.model_selection import cross_val_score\n",
    "from sklearn.model_selection import train_test_split\n",
    "\n",
    "from tensorflow.keras import datasets, layers, models, losses\n",
    "\n",
    "# Import modeling libraries.\n",
    "import sklearn as sk\n",
    "#sklearn.__version__\n",
    "from sklearn.pipeline import Pipeline\n",
    "from sklearn.datasets import fetch_openml\n",
    "from sklearn.neighbors import KNeighborsClassifier\n",
    "from sklearn.metrics import confusion_matrix\n",
    "from sklearn.linear_model import LinearRegression\n",
    "from sklearn.naive_bayes import BernoulliNB\n",
    "from sklearn.naive_bayes import MultinomialNB\n",
    "from sklearn.naive_bayes import GaussianNB\n",
    "from sklearn.model_selection import GridSearchCV\n",
    "from sklearn.metrics import classification_report\n",
    "from sklearn.neural_network import MLPClassifier\n",
    "from sklearn.metrics import plot_confusion_matrix\n",
    "from sklearn import metrics\n",
    "from sklearn.metrics import classification_report\n",
    "from sklearn.preprocessing import StandardScaler\n",
    "from skimage.transform import resize as sk_resize\n",
    "\n",
    "datapath = join('data', 'wafer')\n",
    "\n",
    "warnings.filterwarnings(\"ignore\")"
   ]
  },
  {
   "cell_type": "code",
   "execution_count": 5,
   "metadata": {},
   "outputs": [
    {
     "name": "stdout",
     "output_type": "stream",
     "text": [
      "<class 'pandas.core.frame.DataFrame'>\n",
      "RangeIndex: 811457 entries, 0 to 811456\n",
      "Data columns (total 6 columns):\n",
      " #   Column          Non-Null Count   Dtype  \n",
      "---  ------          --------------   -----  \n",
      " 0   waferMap        811457 non-null  object \n",
      " 1   dieSize         811457 non-null  float64\n",
      " 2   lotName         811457 non-null  object \n",
      " 3   waferIndex      811457 non-null  float64\n",
      " 4   trianTestLabel  811457 non-null  object \n",
      " 5   failureType     811457 non-null  object \n",
      "dtypes: float64(2), object(4)\n",
      "memory usage: 37.1+ MB\n"
     ]
    },
    {
     "data": {
      "text/html": [
       "<div>\n",
       "<style scoped>\n",
       "    .dataframe tbody tr th:only-of-type {\n",
       "        vertical-align: middle;\n",
       "    }\n",
       "\n",
       "    .dataframe tbody tr th {\n",
       "        vertical-align: top;\n",
       "    }\n",
       "\n",
       "    .dataframe thead th {\n",
       "        text-align: right;\n",
       "    }\n",
       "</style>\n",
       "<table border=\"1\" class=\"dataframe\">\n",
       "  <thead>\n",
       "    <tr style=\"text-align: right;\">\n",
       "      <th></th>\n",
       "      <th>waferMap</th>\n",
       "      <th>dieSize</th>\n",
       "      <th>lotName</th>\n",
       "      <th>waferIndex</th>\n",
       "      <th>trianTestLabel</th>\n",
       "      <th>failureType</th>\n",
       "    </tr>\n",
       "  </thead>\n",
       "  <tbody>\n",
       "    <tr>\n",
       "      <th>466678</th>\n",
       "      <td>[[0, 0, 0, 0, 0, 0, 0, 0, 0, 0, 0, 0, 1, 1, 2,...</td>\n",
       "      <td>712.0</td>\n",
       "      <td>lot28697</td>\n",
       "      <td>6.0</td>\n",
       "      <td>[]</td>\n",
       "      <td>[]</td>\n",
       "    </tr>\n",
       "    <tr>\n",
       "      <th>436484</th>\n",
       "      <td>[[0, 0, 0, 0, 0, 0, 0, 0, 0, 0, 0, 0, 0, 0, 0,...</td>\n",
       "      <td>1507.0</td>\n",
       "      <td>lot26406</td>\n",
       "      <td>23.0</td>\n",
       "      <td>[]</td>\n",
       "      <td>[]</td>\n",
       "    </tr>\n",
       "    <tr>\n",
       "      <th>396292</th>\n",
       "      <td>[[0, 0, 0, 0, 0, 0, 0, 0, 0, 0, 0, 0, 0, 0, 0,...</td>\n",
       "      <td>3777.0</td>\n",
       "      <td>lot23711</td>\n",
       "      <td>25.0</td>\n",
       "      <td>[]</td>\n",
       "      <td>[]</td>\n",
       "    </tr>\n",
       "    <tr>\n",
       "      <th>176966</th>\n",
       "      <td>[[0, 0, 0, 0, 0, 0, 0, 0, 0, 0, 0, 0, 0, 0, 0,...</td>\n",
       "      <td>2393.0</td>\n",
       "      <td>lot11316</td>\n",
       "      <td>21.0</td>\n",
       "      <td>[]</td>\n",
       "      <td>[]</td>\n",
       "    </tr>\n",
       "    <tr>\n",
       "      <th>724144</th>\n",
       "      <td>[[0, 0, 0, 0, 0, 0, 0, 0, 0, 0, 1, 1, 1, 1, 1,...</td>\n",
       "      <td>518.0</td>\n",
       "      <td>lot43996</td>\n",
       "      <td>14.0</td>\n",
       "      <td>[[Test]]</td>\n",
       "      <td>[[none]]</td>\n",
       "    </tr>\n",
       "  </tbody>\n",
       "</table>\n",
       "</div>"
      ],
      "text/plain": [
       "                                                 waferMap  dieSize   lotName  \\\n",
       "466678  [[0, 0, 0, 0, 0, 0, 0, 0, 0, 0, 0, 0, 1, 1, 2,...    712.0  lot28697   \n",
       "436484  [[0, 0, 0, 0, 0, 0, 0, 0, 0, 0, 0, 0, 0, 0, 0,...   1507.0  lot26406   \n",
       "396292  [[0, 0, 0, 0, 0, 0, 0, 0, 0, 0, 0, 0, 0, 0, 0,...   3777.0  lot23711   \n",
       "176966  [[0, 0, 0, 0, 0, 0, 0, 0, 0, 0, 0, 0, 0, 0, 0,...   2393.0  lot11316   \n",
       "724144  [[0, 0, 0, 0, 0, 0, 0, 0, 0, 0, 1, 1, 1, 1, 1,...    518.0  lot43996   \n",
       "\n",
       "        waferIndex trianTestLabel failureType  \n",
       "466678         6.0             []          []  \n",
       "436484        23.0             []          []  \n",
       "396292        25.0             []          []  \n",
       "176966        21.0             []          []  \n",
       "724144        14.0       [[Test]]    [[none]]  "
      ]
     },
     "execution_count": 5,
     "metadata": {},
     "output_type": "execute_result"
    }
   ],
   "source": [
    "# Read the full data file that is stored locally. Look at information and data details\n",
    "\n",
    "df=pd.read_pickle(\"LSWMD.pkl\")\n",
    "df.info()\n",
    "df.sample(5)"
   ]
  },
  {
   "cell_type": "code",
   "execution_count": 19,
   "metadata": {},
   "outputs": [],
   "source": [
    "#Data Pre-Processing\n",
    "\n",
    "# image size drop\n",
    "def find_dim(x):\n",
    "    dim0=np.size(x,axis=0)\n",
    "    dim1=np.size(x,axis=1)\n",
    "    return dim0,dim1\n",
    "\n",
    "# Data preprocessing process\n",
    "def __Inputdf__(Height, Width):\n",
    "    sub_df = df.loc[df['waferMapDim'] == (Height, Width)]\n",
    "    sw = np.ones((1,  Height, Width))\n",
    "    label = list()\n",
    "\n",
    "    for i in range(len(sub_df)):\n",
    "        if len(sub_df.iloc[i, :]['failureType']) == 0:\n",
    "            continue\n",
    "        sw = np.concatenate((sw, sub_df.iloc[i,:]['waferMap'].reshape(1, Height, Width)))\n",
    "        label.append(sub_df.iloc[i, :]['failureType'][0][0])\n",
    "    \n",
    "    x = sw[1:]\n",
    "    y = np.array(label).reshape((-1,1))\n",
    "    \n",
    "    #add channel\n",
    "    x = x.reshape((-1, Height, Width, 1))\n",
    "    new_x = np.zeros((len(x), Height, Width, 3))\n",
    "\n",
    "    for w in range(len(x)):\n",
    "        for i in range(Height):\n",
    "            for j in range(Width):\n",
    "                new_x[w, i, j, int(x[w, i, j])] = 1\n",
    "    return new_x, y\n",
    "\n",
    "# Two ways to Scaling\n",
    "def __InputTf1__(new_x):\n",
    "    new_result = tf.compat.v1.image.resize(new_x, (26,26),\n",
    "                                           method=tf.image.ResizeMethod.NEAREST_NEIGHBOR, \n",
    "                                           align_corners=True,\n",
    "                                           preserve_aspect_ratio=False, name=None)\n",
    "    return new_result\n",
    "\n",
    "def __InputTf2__(new_x):\n",
    "    new_result = tf.keras.preprocessing.image.smart_resize(new_x, (26,26),\n",
    "                                                           interpolation = 'nearest')\n",
    "    return new_result\n",
    "\n",
    "# augment function define\n",
    "def gen_data(wafer, label):\n",
    "    # Encode input wafer\n",
    "    encoded_x = encoder.predict(wafer)\n",
    "    \n",
    "    # dummy array for collecting noised wafer\n",
    "    gen_x = np.zeros((1, 26, 26, 3))\n",
    "    \n",
    "    # Make wafer until total # of wafer to 2000\n",
    "    for i in range((2000//len(wafer)) + 1):\n",
    "        noised_encoded_x = encoded_x + np.random.normal(loc=0, scale=0.1, size = (len(encoded_x), 13, 13, 64)) \n",
    "        noised_gen_x = decoder.predict(noised_encoded_x)\n",
    "        gen_x = np.concatenate((gen_x, noised_gen_x), axis=0)\n",
    "    # also make label vector with same length\n",
    "    gen_y = np.full((len(gen_x), 1), label)\n",
    "    \n",
    "    # return date without 1st dummy data.\n",
    "    return gen_x[1:], gen_y[1:]\n",
    "\n",
    " # Saving and loading new_x and new_y variables\n",
    "def save_new_x(new_x):\n",
    "    f = open(\"./save_new_x.csv\", \"w\")\n",
    "    for w in range(len(new_x)):\n",
    "        for i in range(26):\n",
    "            for j in range(26):\n",
    "                for o in range(3):\n",
    "                    f.write(str(new_x[w][i][j][o]))\n",
    "                \n",
    "    f.close()\n",
    "    return \n",
    "\n",
    "#Save it as a csv file and take it out again to learn because of the lack of maximum memory inside Kaggle.  "
   ]
  },
  {
   "cell_type": "code",
   "execution_count": 14,
   "metadata": {},
   "outputs": [
    {
     "data": {
      "text/html": [
       "<div>\n",
       "<style scoped>\n",
       "    .dataframe tbody tr th:only-of-type {\n",
       "        vertical-align: middle;\n",
       "    }\n",
       "\n",
       "    .dataframe tbody tr th {\n",
       "        vertical-align: top;\n",
       "    }\n",
       "\n",
       "    .dataframe thead th {\n",
       "        text-align: right;\n",
       "    }\n",
       "</style>\n",
       "<table border=\"1\" class=\"dataframe\">\n",
       "  <thead>\n",
       "    <tr style=\"text-align: right;\">\n",
       "      <th></th>\n",
       "      <th>waferMap</th>\n",
       "      <th>dieSize</th>\n",
       "      <th>lotName</th>\n",
       "      <th>trianTestLabel</th>\n",
       "      <th>failureType</th>\n",
       "      <th>waferMapDim</th>\n",
       "    </tr>\n",
       "  </thead>\n",
       "  <tbody>\n",
       "    <tr>\n",
       "      <th>105067</th>\n",
       "      <td>[[0, 0, 0, 0, 0, 0, 0, 0, 0, 0, 0, 0, 0, 0, 2,...</td>\n",
       "      <td>1109.0</td>\n",
       "      <td>lot7173</td>\n",
       "      <td>[]</td>\n",
       "      <td>[]</td>\n",
       "      <td>(39, 37)</td>\n",
       "    </tr>\n",
       "    <tr>\n",
       "      <th>165823</th>\n",
       "      <td>[[0, 0, 0, 0, 0, 0, 0, 0, 0, 0, 1, 1, 1, 1, 1,...</td>\n",
       "      <td>533.0</td>\n",
       "      <td>lot10598</td>\n",
       "      <td>[]</td>\n",
       "      <td>[]</td>\n",
       "      <td>(26, 26)</td>\n",
       "    </tr>\n",
       "    <tr>\n",
       "      <th>800454</th>\n",
       "      <td>[[0, 0, 0, 0, 0, 0, 0, 0, 0, 0, 0, 1, 2, 2, 2,...</td>\n",
       "      <td>562.0</td>\n",
       "      <td>lot47093</td>\n",
       "      <td>[[Test]]</td>\n",
       "      <td>[[none]]</td>\n",
       "      <td>(29, 26)</td>\n",
       "    </tr>\n",
       "    <tr>\n",
       "      <th>167674</th>\n",
       "      <td>[[0, 0, 0, 0, 0, 0, 0, 0, 0, 0, 0, 0, 0, 0, 0,...</td>\n",
       "      <td>572.0</td>\n",
       "      <td>lot10681</td>\n",
       "      <td>[]</td>\n",
       "      <td>[]</td>\n",
       "      <td>(22, 35)</td>\n",
       "    </tr>\n",
       "    <tr>\n",
       "      <th>290364</th>\n",
       "      <td>[[0, 0, 0, 0, 0, 0, 0, 0, 0, 0, 0, 0, 0, 0, 0,...</td>\n",
       "      <td>5139.0</td>\n",
       "      <td>lot17782</td>\n",
       "      <td>[]</td>\n",
       "      <td>[]</td>\n",
       "      <td>(81, 81)</td>\n",
       "    </tr>\n",
       "  </tbody>\n",
       "</table>\n",
       "</div>"
      ],
      "text/plain": [
       "                                                 waferMap  dieSize   lotName  \\\n",
       "105067  [[0, 0, 0, 0, 0, 0, 0, 0, 0, 0, 0, 0, 0, 0, 2,...   1109.0   lot7173   \n",
       "165823  [[0, 0, 0, 0, 0, 0, 0, 0, 0, 0, 1, 1, 1, 1, 1,...    533.0  lot10598   \n",
       "800454  [[0, 0, 0, 0, 0, 0, 0, 0, 0, 0, 0, 1, 2, 2, 2,...    562.0  lot47093   \n",
       "167674  [[0, 0, 0, 0, 0, 0, 0, 0, 0, 0, 0, 0, 0, 0, 0,...    572.0  lot10681   \n",
       "290364  [[0, 0, 0, 0, 0, 0, 0, 0, 0, 0, 0, 0, 0, 0, 0,...   5139.0  lot17782   \n",
       "\n",
       "       trianTestLabel failureType waferMapDim  \n",
       "105067             []          []    (39, 37)  \n",
       "165823             []          []    (26, 26)  \n",
       "800454       [[Test]]    [[none]]    (29, 26)  \n",
       "167674             []          []    (22, 35)  \n",
       "290364             []          []    (81, 81)  "
      ]
     },
     "execution_count": 14,
     "metadata": {},
     "output_type": "execute_result"
    }
   ],
   "source": [
    "#We do not need wafer index in our model. Dropping it\n",
    "df = df.drop(['waferIndex'], axis = 1)\n",
    "\n",
    "#Since wafer maps have different data lengths, find dimensions\n",
    "df['waferMapDim']=df.waferMap.apply(find_dim)\n",
    "df.sample(5)"
   ]
  },
  {
   "cell_type": "markdown",
   "metadata": {},
   "source": [
    "Get sub wafer with resolution.\n",
    "\n",
    "Wafer is resized to have (26, 26) resolution. rearrange wafer nd-array with faulty case label. some wafer has null label, skip it. First, let's create two types of resolution data by combining them."
   ]
  },
  {
   "cell_type": "code",
   "execution_count": 20,
   "metadata": {},
   "outputs": [
    {
     "name": "stdout",
     "output_type": "stream",
     "text": [
      "CPU times: user 9min 51s, sys: 10min 22s, total: 20min 14s\n",
      "Wall time: 20min 19s\n"
     ]
    }
   ],
   "source": [
    "%%time\n",
    "new_x1, y1 = __Inputdf__(26, 26)\n",
    "new_x2, y2 = __Inputdf__(25, 27)"
   ]
  },
  {
   "cell_type": "code",
   "execution_count": 22,
   "metadata": {},
   "outputs": [],
   "source": [
    "#Resized using Compat.V1 Pre-processing method¶\n",
    "\n",
    "new_Tf1_1 = __InputTf1__(new_x1)\n",
    "new_Tf2_1 = __InputTf1__(new_x2)"
   ]
  },
  {
   "cell_type": "code",
   "execution_count": 23,
   "metadata": {},
   "outputs": [],
   "source": [
    "# y = y1 + y2\n",
    "y = np.concatenate((y1, y2), axis=0)\n",
    "# new_x = new_x1 + new_x2\n",
    "new_x= tf.concat([new_Tf1_1, new_Tf2_1], 0)"
   ]
  },
  {
   "cell_type": "code",
   "execution_count": 24,
   "metadata": {},
   "outputs": [],
   "source": [
    "# Using random sampling as a y array to put the none value into the none_idx variable\n",
    "none_idx = np.where(y=='none')[0][np.random.choice(len(np.where(y=='none')[0]), size=11000, replace=False)]\n",
    "\n",
    "# delete the none value\n",
    "new_x = np.delete(new_x, none_idx, axis=0)\n",
    "new_y = np.delete(y, none_idx, axis=0)\n",
    "\n",
    "faulty_case = np.unique(y)\n",
    "# make string label data to numerical data\n",
    "for i, l in enumerate(faulty_case):\n",
    "    new_y[new_y==l] = i\n",
    "    \n",
    "# one-hot-encoding\n",
    "new_y = to_categorical(new_y)"
   ]
  },
  {
   "cell_type": "code",
   "execution_count": 25,
   "metadata": {},
   "outputs": [],
   "source": [
    "# split data train, test\n",
    "x_train, x_test, y_train, y_test = train_test_split(new_x,new_y,test_size=0.33,random_state=2021)"
   ]
  },
  {
   "cell_type": "code",
   "execution_count": 26,
   "metadata": {},
   "outputs": [
    {
     "name": "stdout",
     "output_type": "stream",
     "text": [
      "Train x : (14838, 26, 26, 3), y : (14838, 9)\n",
      "Test x: (7309, 26, 26, 3), y : (7309, 9)\n"
     ]
    }
   ],
   "source": [
    "print('Train x : {}, y : {}'.format(x_train.shape, y_train.shape))\n",
    "print('Test x: {}, y : {}'.format(x_test.shape, y_test.shape))"
   ]
  },
  {
   "cell_type": "code",
   "execution_count": 32,
   "metadata": {},
   "outputs": [],
   "source": [
    "# parameter\n",
    "epoch=10\n",
    "batch_size=1024"
   ]
  },
  {
   "cell_type": "code",
   "execution_count": 33,
   "metadata": {},
   "outputs": [],
   "source": [
    "def create_model():\n",
    "    input_shape = (26, 26, 3)\n",
    "    input_tensor = Input(input_shape)\n",
    "\n",
    "    conv_1 = layers.Conv2D(16, (3,3), activation='relu', padding='same')(input_tensor)\n",
    "\n",
    "    flat = layers.Flatten()(conv_1)\n",
    "\n",
    "    dense_1 = layers.Dense(16, activation='relu')(flat)\n",
    "    output_tensor = layers.Dense(9, activation='softmax')(dense_1)\n",
    "\n",
    "    model = models.Model(input_tensor, output_tensor)\n",
    "    model.compile(optimizer='Adam',loss='categorical_crossentropy',metrics=['accuracy'])\n",
    "\n",
    "    return model"
   ]
  },
  {
   "cell_type": "code",
   "execution_count": 34,
   "metadata": {},
   "outputs": [
    {
     "name": "stdout",
     "output_type": "stream",
     "text": [
      "Epoch 1/5\n",
      "5/5 - 1s - loss: 1.1934 - accuracy: 0.6629 - 811ms/epoch - 162ms/step\n",
      "Epoch 2/5\n",
      "5/5 - 0s - loss: 0.6207 - accuracy: 0.8291 - 453ms/epoch - 91ms/step\n",
      "Epoch 3/5\n",
      "5/5 - 0s - loss: 0.5589 - accuracy: 0.8303 - 452ms/epoch - 90ms/step\n",
      "Epoch 4/5\n",
      "5/5 - 0s - loss: 0.4872 - accuracy: 0.8382 - 458ms/epoch - 92ms/step\n",
      "Epoch 5/5\n",
      "5/5 - 0s - loss: 0.4234 - accuracy: 0.9164 - 464ms/epoch - 93ms/step\n",
      "3/3 - 0s - loss: 0.4510 - accuracy: 0.9234 - 244ms/epoch - 81ms/step\n",
      "Epoch 1/5\n",
      "5/5 - 1s - loss: 1.1455 - accuracy: 0.6680 - 801ms/epoch - 160ms/step\n",
      "Epoch 2/5\n",
      "5/5 - 0s - loss: 0.7389 - accuracy: 0.8267 - 472ms/epoch - 94ms/step\n",
      "Epoch 3/5\n",
      "5/5 - 0s - loss: 0.5691 - accuracy: 0.8275 - 477ms/epoch - 95ms/step\n",
      "Epoch 4/5\n",
      "5/5 - 0s - loss: 0.4703 - accuracy: 0.8619 - 468ms/epoch - 94ms/step\n",
      "Epoch 5/5\n",
      "5/5 - 0s - loss: 0.4239 - accuracy: 0.8964 - 454ms/epoch - 91ms/step\n",
      "3/3 - 0s - loss: 0.3870 - accuracy: 0.8995 - 206ms/epoch - 69ms/step\n",
      "Epoch 1/5\n",
      "5/5 - 1s - loss: 1.3747 - accuracy: 0.6577 - 1s/epoch - 210ms/step\n",
      "Epoch 2/5\n",
      "5/5 - 0s - loss: 0.9353 - accuracy: 0.8244 - 479ms/epoch - 96ms/step\n",
      "Epoch 3/5\n",
      "5/5 - 1s - loss: 0.8148 - accuracy: 0.8252 - 524ms/epoch - 105ms/step\n",
      "Epoch 4/5\n",
      "5/5 - 1s - loss: 0.6978 - accuracy: 0.8248 - 517ms/epoch - 103ms/step\n",
      "Epoch 5/5\n",
      "5/5 - 0s - loss: 0.6136 - accuracy: 0.8253 - 471ms/epoch - 94ms/step\n",
      "3/3 - 0s - loss: 0.5360 - accuracy: 0.8453 - 218ms/epoch - 73ms/step\n",
      "Simple CNN Cross validation score : 0.8894\n"
     ]
    }
   ],
   "source": [
    "# Make keras model to sklearn classifier.\n",
    "model = KerasClassifier(build_fn=create_model, epochs=5, batch_size=2048, verbose=2) \n",
    "# 3-Fold Crossvalidation\n",
    "kfold = KFold(n_splits=3, shuffle=True, random_state=2019) \n",
    "results = cross_val_score(model, x_train, y_train, cv=kfold)\n",
    "# Check 3-fold model's mean accuracy\n",
    "print('Simple CNN Cross validation score : {:.4f}'.format(np.mean(results)))"
   ]
  },
  {
   "cell_type": "code",
   "execution_count": 35,
   "metadata": {},
   "outputs": [
    {
     "name": "stdout",
     "output_type": "stream",
     "text": [
      "Epoch 1/10\n",
      "WARNING:tensorflow:5 out of the last 50 calls to <function Model.make_test_function.<locals>.test_function at 0x7ff4d7d34310> triggered tf.function retracing. Tracing is expensive and the excessive number of tracings could be due to (1) creating @tf.function repeatedly in a loop, (2) passing tensors with different shapes, (3) passing Python objects instead of tensors. For (1), please define your @tf.function outside of the loop. For (2), @tf.function has experimental_relax_shapes=True option that relaxes argument shapes that can avoid unnecessary retracing. For (3), please refer to https://www.tensorflow.org/guide/function#controlling_retracing and https://www.tensorflow.org/api_docs/python/tf/function for  more details.\n",
      "15/15 - 1s - loss: 0.7746 - accuracy: 0.8147 - val_loss: 0.5290 - val_accuracy: 0.8353 - 1s/epoch - 96ms/step\n",
      "Epoch 2/10\n",
      "15/15 - 1s - loss: 0.4589 - accuracy: 0.8924 - val_loss: 0.3722 - val_accuracy: 0.9278 - 1s/epoch - 68ms/step\n",
      "Epoch 3/10\n",
      "15/15 - 1s - loss: 0.3475 - accuracy: 0.9282 - val_loss: 0.3135 - val_accuracy: 0.9302 - 997ms/epoch - 66ms/step\n",
      "Epoch 4/10\n",
      "15/15 - 1s - loss: 0.3041 - accuracy: 0.9287 - val_loss: 0.2879 - val_accuracy: 0.9304 - 990ms/epoch - 66ms/step\n",
      "Epoch 5/10\n",
      "15/15 - 1s - loss: 0.2806 - accuracy: 0.9292 - val_loss: 0.2696 - val_accuracy: 0.9305 - 978ms/epoch - 65ms/step\n",
      "Epoch 6/10\n",
      "15/15 - 1s - loss: 0.2593 - accuracy: 0.9297 - val_loss: 0.2551 - val_accuracy: 0.9309 - 993ms/epoch - 66ms/step\n",
      "Epoch 7/10\n",
      "15/15 - 1s - loss: 0.2417 - accuracy: 0.9310 - val_loss: 0.2429 - val_accuracy: 0.9320 - 1s/epoch - 67ms/step\n",
      "Epoch 8/10\n",
      "15/15 - 1s - loss: 0.2243 - accuracy: 0.9320 - val_loss: 0.2337 - val_accuracy: 0.9345 - 989ms/epoch - 66ms/step\n",
      "Epoch 9/10\n",
      "15/15 - 1s - loss: 0.2121 - accuracy: 0.9350 - val_loss: 0.2220 - val_accuracy: 0.9358 - 977ms/epoch - 65ms/step\n",
      "Epoch 10/10\n",
      "15/15 - 1s - loss: 0.1960 - accuracy: 0.9391 - val_loss: 0.2160 - val_accuracy: 0.9408 - 999ms/epoch - 67ms/step\n"
     ]
    }
   ],
   "source": [
    "history = model.fit(x_train, y_train,validation_data=(x_test, y_test),epochs=epoch,batch_size=batch_size)"
   ]
  },
  {
   "cell_type": "code",
   "execution_count": 36,
   "metadata": {},
   "outputs": [
    {
     "data": {
      "image/png": "[encoded data removed]",
      "text/plain": [
       "<Figure size 432x288 with 1 Axes>"
      ]
     },
     "metadata": {
      "needs_background": "light"
     },
     "output_type": "display_data"
    },
    {
     "data": {
      "image/png": "[encoded data removed]",
      "text/plain": [
       "<Figure size 432x288 with 1 Axes>"
      ]
     },
     "metadata": {
      "needs_background": "light"
     },
     "output_type": "display_data"
    }
   ],
   "source": [
    "# accuracy plot \n",
    "plt.plot(history.history['accuracy'])\n",
    "plt.plot(history.history['val_accuracy'])\n",
    "plt.title('model accuracy')\n",
    "plt.ylabel('accuracy')\n",
    "plt.xlabel('epoch')\n",
    "plt.legend(['train', 'test'], loc='upper left')\n",
    "plt.show()\n",
    "\n",
    "# loss plot\n",
    "plt.plot(history.history['loss'])\n",
    "plt.plot(history.history['val_loss'])\n",
    "plt.title('model loss')\n",
    "plt.ylabel('loss')\n",
    "plt.xlabel('epoch')\n",
    "plt.legend(['train', 'test'], loc='upper left')\n",
    "plt.show()"
   ]
  },
  {
   "cell_type": "code",
   "execution_count": null,
   "metadata": {},
   "outputs": [],
   "source": []
  }
 ],
 "metadata": {
  "kernelspec": {
   "display_name": "Python 3",
   "language": "python",
   "name": "python3"
  },
  "language_info": {
   "codemirror_mode": {
    "name": "ipython",
    "version": 3
   },
   "file_extension": ".py",
   "mimetype": "text/x-python",
   "name": "python",
   "nbconvert_exporter": "python",
   "pygments_lexer": "ipython3",
   "version": "3.8.3"
  }
 },
 "nbformat": 4,
 "nbformat_minor": 4
}
