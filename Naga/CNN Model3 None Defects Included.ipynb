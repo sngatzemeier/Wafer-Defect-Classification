{
 "cells": [
  {
   "cell_type": "markdown",
   "metadata": {},
   "source": [
    "# CNN Model 3\n",
    "## Selected images with patterns and 3% None defect pattern data included. All images resized to 42x42. Accuracy of 0.32 achieved. No data augmentation done.\n",
    "\n",
    "This code is written to ingest WM811K dataset and get trained on defect patterns and be able to distinguish and group wafers into two groups - defect pattern vs no pattern. Data was resized to 60x60. Runs existing data defect patterns without any additional data added to rebalance class. \n",
    "\n",
    "Sources:\n",
    "1. Wafer defect classification by deep learning code: Ashadullah Shawon: https://www.kaggle.com/shawon10/wafer-defect-classification-by-deep-learning\n",
    "2. Defect detection in wafer maps: Paul Bassaler: https://www.kaggle.com/paulbassaler/defect-detection-in-wafer-bin-maps\n"
   ]
  },
  {
   "cell_type": "code",
   "execution_count": 1,
   "metadata": {},
   "outputs": [
    {
     "name": "stdout",
     "output_type": "stream",
     "text": [
      "Requirement already satisfied: tensorflow in /Users/nagachandrasekaran/opt/anaconda3/lib/python3.8/site-packages (2.8.0)\n",
      "Requirement already satisfied: numpy>=1.20 in /Users/nagachandrasekaran/opt/anaconda3/lib/python3.8/site-packages (from tensorflow) (1.22.2)\n",
      "Requirement already satisfied: six>=1.12.0 in /Users/nagachandrasekaran/opt/anaconda3/lib/python3.8/site-packages (from tensorflow) (1.15.0)\n",
      "Requirement already satisfied: opt-einsum>=2.3.2 in /Users/nagachandrasekaran/opt/anaconda3/lib/python3.8/site-packages (from tensorflow) (3.3.0)\n",
      "Requirement already satisfied: wrapt>=1.11.0 in /Users/nagachandrasekaran/opt/anaconda3/lib/python3.8/site-packages (from tensorflow) (1.11.2)\n",
      "Requirement already satisfied: tensorflow-io-gcs-filesystem>=0.23.1 in /Users/nagachandrasekaran/opt/anaconda3/lib/python3.8/site-packages (from tensorflow) (0.24.0)\n",
      "Requirement already satisfied: typing-extensions>=3.6.6 in /Users/nagachandrasekaran/opt/anaconda3/lib/python3.8/site-packages (from tensorflow) (3.7.4.2)\n",
      "Requirement already satisfied: keras<2.9,>=2.8.0rc0 in /Users/nagachandrasekaran/opt/anaconda3/lib/python3.8/site-packages (from tensorflow) (2.8.0)\n",
      "Requirement already satisfied: google-pasta>=0.1.1 in /Users/nagachandrasekaran/opt/anaconda3/lib/python3.8/site-packages (from tensorflow) (0.2.0)\n",
      "Requirement already satisfied: keras-preprocessing>=1.1.1 in /Users/nagachandrasekaran/opt/anaconda3/lib/python3.8/site-packages (from tensorflow) (1.1.2)\n",
      "Requirement already satisfied: astunparse>=1.6.0 in /Users/nagachandrasekaran/opt/anaconda3/lib/python3.8/site-packages (from tensorflow) (1.6.3)\n",
      "Requirement already satisfied: libclang>=9.0.1 in /Users/nagachandrasekaran/opt/anaconda3/lib/python3.8/site-packages (from tensorflow) (13.0.0)\n",
      "Requirement already satisfied: setuptools in /Users/nagachandrasekaran/opt/anaconda3/lib/python3.8/site-packages (from tensorflow) (49.2.0.post20200714)\n",
      "Requirement already satisfied: tf-estimator-nightly==2.8.0.dev2021122109 in /Users/nagachandrasekaran/opt/anaconda3/lib/python3.8/site-packages (from tensorflow) (2.8.0.dev2021122109)\n",
      "Requirement already satisfied: flatbuffers>=1.12 in /Users/nagachandrasekaran/opt/anaconda3/lib/python3.8/site-packages (from tensorflow) (2.0)\n",
      "Requirement already satisfied: h5py>=2.9.0 in /Users/nagachandrasekaran/opt/anaconda3/lib/python3.8/site-packages (from tensorflow) (2.10.0)\n",
      "Requirement already satisfied: grpcio<2.0,>=1.24.3 in /Users/nagachandrasekaran/opt/anaconda3/lib/python3.8/site-packages (from tensorflow) (1.43.0)\n",
      "Requirement already satisfied: tensorboard<2.9,>=2.8 in /Users/nagachandrasekaran/opt/anaconda3/lib/python3.8/site-packages (from tensorflow) (2.8.0)\n",
      "Requirement already satisfied: gast>=0.2.1 in /Users/nagachandrasekaran/opt/anaconda3/lib/python3.8/site-packages (from tensorflow) (0.5.3)\n",
      "Requirement already satisfied: absl-py>=0.4.0 in /Users/nagachandrasekaran/opt/anaconda3/lib/python3.8/site-packages (from tensorflow) (1.0.0)\n",
      "Requirement already satisfied: protobuf>=3.9.2 in /Users/nagachandrasekaran/opt/anaconda3/lib/python3.8/site-packages (from tensorflow) (3.19.4)\n",
      "Requirement already satisfied: termcolor>=1.1.0 in /Users/nagachandrasekaran/opt/anaconda3/lib/python3.8/site-packages (from tensorflow) (1.1.0)\n",
      "Requirement already satisfied: wheel<1.0,>=0.23.0 in /Users/nagachandrasekaran/opt/anaconda3/lib/python3.8/site-packages (from astunparse>=1.6.0->tensorflow) (0.34.2)\n",
      "Requirement already satisfied: tensorboard-plugin-wit>=1.6.0 in /Users/nagachandrasekaran/opt/anaconda3/lib/python3.8/site-packages (from tensorboard<2.9,>=2.8->tensorflow) (1.8.1)\n",
      "Requirement already satisfied: requests<3,>=2.21.0 in /Users/nagachandrasekaran/opt/anaconda3/lib/python3.8/site-packages (from tensorboard<2.9,>=2.8->tensorflow) (2.24.0)\n",
      "Requirement already satisfied: werkzeug>=0.11.15 in /Users/nagachandrasekaran/opt/anaconda3/lib/python3.8/site-packages (from tensorboard<2.9,>=2.8->tensorflow) (1.0.1)\n",
      "Requirement already satisfied: tensorboard-data-server<0.7.0,>=0.6.0 in /Users/nagachandrasekaran/opt/anaconda3/lib/python3.8/site-packages (from tensorboard<2.9,>=2.8->tensorflow) (0.6.1)\n",
      "Requirement already satisfied: markdown>=2.6.8 in /Users/nagachandrasekaran/opt/anaconda3/lib/python3.8/site-packages (from tensorboard<2.9,>=2.8->tensorflow) (3.3.6)\n",
      "Requirement already satisfied: google-auth-oauthlib<0.5,>=0.4.1 in /Users/nagachandrasekaran/opt/anaconda3/lib/python3.8/site-packages (from tensorboard<2.9,>=2.8->tensorflow) (0.4.6)\n",
      "Requirement already satisfied: google-auth<3,>=1.6.3 in /Users/nagachandrasekaran/opt/anaconda3/lib/python3.8/site-packages (from tensorboard<2.9,>=2.8->tensorflow) (2.6.0)\n",
      "Requirement already satisfied: urllib3!=1.25.0,!=1.25.1,<1.26,>=1.21.1 in /Users/nagachandrasekaran/opt/anaconda3/lib/python3.8/site-packages (from requests<3,>=2.21.0->tensorboard<2.9,>=2.8->tensorflow) (1.25.9)\n",
      "Requirement already satisfied: idna<3,>=2.5 in /Users/nagachandrasekaran/opt/anaconda3/lib/python3.8/site-packages (from requests<3,>=2.21.0->tensorboard<2.9,>=2.8->tensorflow) (2.10)\n",
      "Requirement already satisfied: chardet<4,>=3.0.2 in /Users/nagachandrasekaran/opt/anaconda3/lib/python3.8/site-packages (from requests<3,>=2.21.0->tensorboard<2.9,>=2.8->tensorflow) (3.0.4)\n",
      "Requirement already satisfied: certifi>=2017.4.17 in /Users/nagachandrasekaran/opt/anaconda3/lib/python3.8/site-packages (from requests<3,>=2.21.0->tensorboard<2.9,>=2.8->tensorflow) (2020.6.20)\n",
      "Requirement already satisfied: importlib-metadata>=4.4; python_version < \"3.10\" in /Users/nagachandrasekaran/opt/anaconda3/lib/python3.8/site-packages (from markdown>=2.6.8->tensorboard<2.9,>=2.8->tensorflow) (4.10.1)\n",
      "Requirement already satisfied: requests-oauthlib>=0.7.0 in /Users/nagachandrasekaran/opt/anaconda3/lib/python3.8/site-packages (from google-auth-oauthlib<0.5,>=0.4.1->tensorboard<2.9,>=2.8->tensorflow) (1.3.1)\n",
      "Requirement already satisfied: pyasn1-modules>=0.2.1 in /Users/nagachandrasekaran/opt/anaconda3/lib/python3.8/site-packages (from google-auth<3,>=1.6.3->tensorboard<2.9,>=2.8->tensorflow) (0.2.8)\n",
      "Requirement already satisfied: rsa<5,>=3.1.4; python_version >= \"3.6\" in /Users/nagachandrasekaran/opt/anaconda3/lib/python3.8/site-packages (from google-auth<3,>=1.6.3->tensorboard<2.9,>=2.8->tensorflow) (4.8)\n",
      "Requirement already satisfied: cachetools<6.0,>=2.0.0 in /Users/nagachandrasekaran/opt/anaconda3/lib/python3.8/site-packages (from google-auth<3,>=1.6.3->tensorboard<2.9,>=2.8->tensorflow) (5.0.0)\n",
      "Requirement already satisfied: zipp>=0.5 in /Users/nagachandrasekaran/opt/anaconda3/lib/python3.8/site-packages (from importlib-metadata>=4.4; python_version < \"3.10\"->markdown>=2.6.8->tensorboard<2.9,>=2.8->tensorflow) (3.1.0)\n",
      "Requirement already satisfied: oauthlib>=3.0.0 in /Users/nagachandrasekaran/opt/anaconda3/lib/python3.8/site-packages (from requests-oauthlib>=0.7.0->google-auth-oauthlib<0.5,>=0.4.1->tensorboard<2.9,>=2.8->tensorflow) (3.2.0)\n",
      "Requirement already satisfied: pyasn1<0.5.0,>=0.4.6 in /Users/nagachandrasekaran/opt/anaconda3/lib/python3.8/site-packages (from pyasn1-modules>=0.2.1->google-auth<3,>=1.6.3->tensorboard<2.9,>=2.8->tensorflow) (0.4.8)\n"
     ]
    }
   ],
   "source": [
    "import os\n",
    "from os.path import join\n",
    "\n",
    "import numpy as np\n",
    "import pandas as pd\n",
    "import matplotlib.pyplot as plt\n",
    "import random\n",
    "\n",
    "!pip install tensorflow\n",
    "import tensorflow as tf\n",
    "import keras\n",
    "from keras import layers, Input, models\n",
    "from tensorflow.keras.utils import to_categorical\n",
    "from keras.wrappers.scikit_learn import KerasClassifier \n",
    "from sklearn.model_selection import KFold \n",
    "from sklearn.model_selection import cross_val_score\n",
    "from sklearn.model_selection import train_test_split\n",
    "\n",
    "# Import modeling libraries.\n",
    "import sklearn as sk\n",
    "#sklearn.__version__\n",
    "from sklearn.pipeline import Pipeline\n",
    "from sklearn.datasets import fetch_openml\n",
    "from sklearn.neighbors import KNeighborsClassifier\n",
    "from sklearn.metrics import confusion_matrix\n",
    "from sklearn.linear_model import LinearRegression\n",
    "from sklearn.naive_bayes import BernoulliNB\n",
    "from sklearn.naive_bayes import MultinomialNB\n",
    "from sklearn.naive_bayes import GaussianNB\n",
    "from sklearn.model_selection import GridSearchCV\n",
    "from sklearn.metrics import classification_report\n",
    "from sklearn.neural_network import MLPClassifier\n",
    "from sklearn.metrics import plot_confusion_matrix\n",
    "from sklearn import metrics\n",
    "from sklearn.metrics import classification_report\n",
    "from sklearn.preprocessing import StandardScaler\n",
    "from skimage.transform import resize as sk_resize\n",
    "\n",
    "import warnings\n",
    "warnings.filterwarnings(\"ignore\")"
   ]
  },
  {
   "cell_type": "code",
   "execution_count": 2,
   "metadata": {},
   "outputs": [
    {
     "name": "stdout",
     "output_type": "stream",
     "text": [
      "<class 'pandas.core.frame.DataFrame'>\n",
      "RangeIndex: 811457 entries, 0 to 811456\n",
      "Data columns (total 6 columns):\n",
      " #   Column          Non-Null Count   Dtype  \n",
      "---  ------          --------------   -----  \n",
      " 0   waferMap        811457 non-null  object \n",
      " 1   dieSize         811457 non-null  float64\n",
      " 2   lotName         811457 non-null  object \n",
      " 3   waferIndex      811457 non-null  float64\n",
      " 4   trianTestLabel  811457 non-null  object \n",
      " 5   failureType     811457 non-null  object \n",
      "dtypes: float64(2), object(4)\n",
      "memory usage: 37.1+ MB\n"
     ]
    },
    {
     "data": {
      "text/html": [
       "<div>\n",
       "<style scoped>\n",
       "    .dataframe tbody tr th:only-of-type {\n",
       "        vertical-align: middle;\n",
       "    }\n",
       "\n",
       "    .dataframe tbody tr th {\n",
       "        vertical-align: top;\n",
       "    }\n",
       "\n",
       "    .dataframe thead th {\n",
       "        text-align: right;\n",
       "    }\n",
       "</style>\n",
       "<table border=\"1\" class=\"dataframe\">\n",
       "  <thead>\n",
       "    <tr style=\"text-align: right;\">\n",
       "      <th></th>\n",
       "      <th>waferMap</th>\n",
       "      <th>dieSize</th>\n",
       "      <th>lotName</th>\n",
       "      <th>waferIndex</th>\n",
       "      <th>trianTestLabel</th>\n",
       "      <th>failureType</th>\n",
       "    </tr>\n",
       "  </thead>\n",
       "  <tbody>\n",
       "    <tr>\n",
       "      <th>151806</th>\n",
       "      <td>[[0, 0, 0, 0, 0, 0, 0, 0, 0, 0, 0, 0, 0, 0, 0,...</td>\n",
       "      <td>3532.0</td>\n",
       "      <td>lot9813</td>\n",
       "      <td>14.0</td>\n",
       "      <td>[]</td>\n",
       "      <td>[]</td>\n",
       "    </tr>\n",
       "    <tr>\n",
       "      <th>529092</th>\n",
       "      <td>[[0, 0, 0, 0, 0, 0, 0, 0, 0, 0, 0, 2, 1, 1, 1,...</td>\n",
       "      <td>515.0</td>\n",
       "      <td>lot33123</td>\n",
       "      <td>22.0</td>\n",
       "      <td>[]</td>\n",
       "      <td>[]</td>\n",
       "    </tr>\n",
       "    <tr>\n",
       "      <th>540316</th>\n",
       "      <td>[[0, 0, 0, 0, 0, 0, 0, 0, 0, 0, 1, 1, 1, 1, 1,...</td>\n",
       "      <td>686.0</td>\n",
       "      <td>lot33738</td>\n",
       "      <td>12.0</td>\n",
       "      <td>[]</td>\n",
       "      <td>[]</td>\n",
       "    </tr>\n",
       "    <tr>\n",
       "      <th>421881</th>\n",
       "      <td>[[0, 0, 0, 0, 0, 0, 0, 0, 0, 0, 0, 0, 0, 2, 1,...</td>\n",
       "      <td>723.0</td>\n",
       "      <td>lot25329</td>\n",
       "      <td>4.0</td>\n",
       "      <td>[]</td>\n",
       "      <td>[]</td>\n",
       "    </tr>\n",
       "    <tr>\n",
       "      <th>535708</th>\n",
       "      <td>[[0, 0, 0, 0, 0, 0, 0, 0, 0, 0, 0, 0, 1, 1, 1,...</td>\n",
       "      <td>710.0</td>\n",
       "      <td>lot33474</td>\n",
       "      <td>14.0</td>\n",
       "      <td>[]</td>\n",
       "      <td>[]</td>\n",
       "    </tr>\n",
       "  </tbody>\n",
       "</table>\n",
       "</div>"
      ],
      "text/plain": [
       "                                                 waferMap  dieSize   lotName  \\\n",
       "151806  [[0, 0, 0, 0, 0, 0, 0, 0, 0, 0, 0, 0, 0, 0, 0,...   3532.0   lot9813   \n",
       "529092  [[0, 0, 0, 0, 0, 0, 0, 0, 0, 0, 0, 2, 1, 1, 1,...    515.0  lot33123   \n",
       "540316  [[0, 0, 0, 0, 0, 0, 0, 0, 0, 0, 1, 1, 1, 1, 1,...    686.0  lot33738   \n",
       "421881  [[0, 0, 0, 0, 0, 0, 0, 0, 0, 0, 0, 0, 0, 2, 1,...    723.0  lot25329   \n",
       "535708  [[0, 0, 0, 0, 0, 0, 0, 0, 0, 0, 0, 0, 1, 1, 1,...    710.0  lot33474   \n",
       "\n",
       "        waferIndex trianTestLabel failureType  \n",
       "151806        14.0             []          []  \n",
       "529092        22.0             []          []  \n",
       "540316        12.0             []          []  \n",
       "421881         4.0             []          []  \n",
       "535708        14.0             []          []  "
      ]
     },
     "execution_count": 2,
     "metadata": {},
     "output_type": "execute_result"
    }
   ],
   "source": [
    "# Read the full data file that is stored locally. Look at information and data details\n",
    "\n",
    "df=pd.read_pickle(\"LSWMD.pkl\")\n",
    "df.info()\n",
    "df.sample(5)"
   ]
  },
  {
   "cell_type": "code",
   "execution_count": 3,
   "metadata": {},
   "outputs": [
    {
     "name": "stdout",
     "output_type": "stream",
     "text": [
      "Number of unique die size values\n",
      " 710.0     66961\n",
      "515.0     45725\n",
      "712.0     42572\n",
      "1513.0    39322\n",
      "776.0     29513\n",
      "Name: dieSize, dtype: int64\n",
      "\n",
      "Sample of unique dies dize values [1683. 2460.  533. ...  551.  554.  550.]\n",
      "Dies size value that occurs the most 710.0\n"
     ]
    }
   ],
   "source": [
    "# From the dataset we have wafers with different die size and count. Look at details.\n",
    "print(\"Number of unique die size values\\n\", df['dieSize'].value_counts().head())\n",
    "print(\"\\nSample of unique dies dize values\", pd.unique(df['dieSize']))\n",
    "print(\"Dies size value that occurs the most\", df['dieSize'].value_counts().idxmax())"
   ]
  },
  {
   "cell_type": "code",
   "execution_count": 4,
   "metadata": {},
   "outputs": [
    {
     "name": "stdout",
     "output_type": "stream",
     "text": [
      "Die size dimension in descending order\n",
      " (32, 29)    108687\n",
      "(25, 27)     64083\n",
      "(49, 39)     39323\n",
      "(26, 26)     30078\n",
      "(30, 34)     29513\n",
      "             ...  \n",
      "(43, 41)         1\n",
      "(49, 67)         1\n",
      "(26, 44)         1\n",
      "(88, 62)         1\n",
      "(54, 64)         1\n",
      "Name: waferMapDim, Length: 632, dtype: int64\n",
      "Die size dimension in descending order\n",
      " (42, 42)    811457\n",
      "Name: resize_waferMapDim, dtype: int64\n"
     ]
    }
   ],
   "source": [
    "# Measuring the wafer map dimensions and adding a column called waferMapDim\n",
    "# waferMap value is a numpy array with 0, 1, 2 values. 0-no data, 1-pure pixel die, 2-defect die\n",
    "# Each die is represented by a pixel value. So, size of this waferMap array is different\n",
    "\n",
    "# This function was used to find the original wafer image dimensions and sort them\n",
    "def find_dim(x):\n",
    "    dim0=np.size(x,axis=0)\n",
    "    dim1=np.size(x,axis=1)\n",
    "    return dim0,dim1\n",
    "\n",
    "df['waferMapDim']=df.waferMap.apply(find_dim)\n",
    "print(\"Die size dimension in descending order\\n\", df['waferMapDim'].value_counts().sort_values(ascending=False))\n",
    "\n",
    "# Build function to resize images. Resizing to 28x28\n",
    "x_dim = 42\n",
    "y_dim = 42\n",
    "\n",
    "def resize_wafers(row):\n",
    "    base_map = row['waferMap']\n",
    "    resize_map = sk_resize(base_map*1024,[x_dim,y_dim], anti_aliasing=True)\n",
    "    return resize_map\n",
    "\n",
    "df['resize_waferMap'] = df.apply (lambda row: resize_wafers(row), axis=1)\n",
    "\n",
    "# With resized images to 42x42, we can get all images to be same and keep sample size high\n",
    "df['resize_waferMapDim']=df.resize_waferMap.apply(find_dim)\n",
    "print(\"Die size dimension in descending order\\n\", df['resize_waferMapDim'].value_counts().sort_values(ascending=False))"
   ]
  },
  {
   "cell_type": "code",
   "execution_count": 5,
   "metadata": {},
   "outputs": [
    {
     "data": {
      "text/html": [
       "<div>\n",
       "<style scoped>\n",
       "    .dataframe tbody tr th:only-of-type {\n",
       "        vertical-align: middle;\n",
       "    }\n",
       "\n",
       "    .dataframe tbody tr th {\n",
       "        vertical-align: top;\n",
       "    }\n",
       "\n",
       "    .dataframe thead th {\n",
       "        text-align: right;\n",
       "    }\n",
       "</style>\n",
       "<table border=\"1\" class=\"dataframe\">\n",
       "  <thead>\n",
       "    <tr style=\"text-align: right;\">\n",
       "      <th></th>\n",
       "      <th>waferMap</th>\n",
       "      <th>dieSize</th>\n",
       "      <th>lotName</th>\n",
       "      <th>waferIndex</th>\n",
       "      <th>trianTestLabel</th>\n",
       "      <th>failureType</th>\n",
       "      <th>waferMapDim</th>\n",
       "      <th>resize_waferMap</th>\n",
       "      <th>resize_waferMapDim</th>\n",
       "      <th>failureNum</th>\n",
       "      <th>trainTestNum</th>\n",
       "    </tr>\n",
       "  </thead>\n",
       "  <tbody>\n",
       "    <tr>\n",
       "      <th>731566</th>\n",
       "      <td>[[0, 0, 0, 0, 0, 0, 0, 0, 0, 0, 0, 0, 2, 1, 1,...</td>\n",
       "      <td>741.0</td>\n",
       "      <td>lot44298</td>\n",
       "      <td>18.0</td>\n",
       "      <td>[]</td>\n",
       "      <td>[]</td>\n",
       "      <td>(33, 29)</td>\n",
       "      <td>[[0.0, 0.0, 0.0, 0.0, 0.0, 0.0, 0.0, 0.0, 0.0,...</td>\n",
       "      <td>(42, 42)</td>\n",
       "      <td>[]</td>\n",
       "      <td>[]</td>\n",
       "    </tr>\n",
       "    <tr>\n",
       "      <th>145810</th>\n",
       "      <td>[[0, 0, 0, 0, 0, 0, 0, 0, 0, 0, 0, 0, 0, 0, 2,...</td>\n",
       "      <td>712.0</td>\n",
       "      <td>lot9380</td>\n",
       "      <td>7.0</td>\n",
       "      <td>[]</td>\n",
       "      <td>[]</td>\n",
       "      <td>(30, 31)</td>\n",
       "      <td>[[0.0, 0.0, 0.0, 0.0, 0.0, 0.0, 0.0, 0.0, 0.0,...</td>\n",
       "      <td>(42, 42)</td>\n",
       "      <td>[]</td>\n",
       "      <td>[]</td>\n",
       "    </tr>\n",
       "    <tr>\n",
       "      <th>481829</th>\n",
       "      <td>[[0, 0, 0, 0, 0, 0, 0, 0, 0, 0, 0, 0, 0, 2, 2,...</td>\n",
       "      <td>796.0</td>\n",
       "      <td>lot29856</td>\n",
       "      <td>13.0</td>\n",
       "      <td>[]</td>\n",
       "      <td>[]</td>\n",
       "      <td>(31, 33)</td>\n",
       "      <td>[[0.0, 0.0, 0.0, 0.0, 0.0, 0.0, 0.0, 0.0, 0.0,...</td>\n",
       "      <td>(42, 42)</td>\n",
       "      <td>[]</td>\n",
       "      <td>[]</td>\n",
       "    </tr>\n",
       "    <tr>\n",
       "      <th>82599</th>\n",
       "      <td>[[0, 0, 0, 0, 0, 0, 0, 0, 0, 0, 0, 0, 0, 0, 0,...</td>\n",
       "      <td>1801.0</td>\n",
       "      <td>lot5909</td>\n",
       "      <td>6.0</td>\n",
       "      <td>[]</td>\n",
       "      <td>[]</td>\n",
       "      <td>(56, 41)</td>\n",
       "      <td>[[0.0, 0.0, 0.0, 0.0, 0.0, 0.0, 0.0, 0.0, 0.0,...</td>\n",
       "      <td>(42, 42)</td>\n",
       "      <td>[]</td>\n",
       "      <td>[]</td>\n",
       "    </tr>\n",
       "    <tr>\n",
       "      <th>368232</th>\n",
       "      <td>[[0, 0, 0, 0, 0, 0, 0, 0, 0, 0, 0, 0, 1, 1, 2,...</td>\n",
       "      <td>592.0</td>\n",
       "      <td>lot22003</td>\n",
       "      <td>21.0</td>\n",
       "      <td>[]</td>\n",
       "      <td>[]</td>\n",
       "      <td>(29, 27)</td>\n",
       "      <td>[[0.0, 0.0, 0.0, 0.0, 0.0, 0.0, 0.0, 0.0, 0.0,...</td>\n",
       "      <td>(42, 42)</td>\n",
       "      <td>[]</td>\n",
       "      <td>[]</td>\n",
       "    </tr>\n",
       "  </tbody>\n",
       "</table>\n",
       "</div>"
      ],
      "text/plain": [
       "                                                 waferMap  dieSize   lotName  \\\n",
       "731566  [[0, 0, 0, 0, 0, 0, 0, 0, 0, 0, 0, 0, 2, 1, 1,...    741.0  lot44298   \n",
       "145810  [[0, 0, 0, 0, 0, 0, 0, 0, 0, 0, 0, 0, 0, 0, 2,...    712.0   lot9380   \n",
       "481829  [[0, 0, 0, 0, 0, 0, 0, 0, 0, 0, 0, 0, 0, 2, 2,...    796.0  lot29856   \n",
       "82599   [[0, 0, 0, 0, 0, 0, 0, 0, 0, 0, 0, 0, 0, 0, 0,...   1801.0   lot5909   \n",
       "368232  [[0, 0, 0, 0, 0, 0, 0, 0, 0, 0, 0, 0, 1, 1, 2,...    592.0  lot22003   \n",
       "\n",
       "        waferIndex trianTestLabel failureType waferMapDim  \\\n",
       "731566        18.0             []          []    (33, 29)   \n",
       "145810         7.0             []          []    (30, 31)   \n",
       "481829        13.0             []          []    (31, 33)   \n",
       "82599          6.0             []          []    (56, 41)   \n",
       "368232        21.0             []          []    (29, 27)   \n",
       "\n",
       "                                          resize_waferMap resize_waferMapDim  \\\n",
       "731566  [[0.0, 0.0, 0.0, 0.0, 0.0, 0.0, 0.0, 0.0, 0.0,...           (42, 42)   \n",
       "145810  [[0.0, 0.0, 0.0, 0.0, 0.0, 0.0, 0.0, 0.0, 0.0,...           (42, 42)   \n",
       "481829  [[0.0, 0.0, 0.0, 0.0, 0.0, 0.0, 0.0, 0.0, 0.0,...           (42, 42)   \n",
       "82599   [[0.0, 0.0, 0.0, 0.0, 0.0, 0.0, 0.0, 0.0, 0.0,...           (42, 42)   \n",
       "368232  [[0.0, 0.0, 0.0, 0.0, 0.0, 0.0, 0.0, 0.0, 0.0,...           (42, 42)   \n",
       "\n",
       "       failureNum trainTestNum  \n",
       "731566         []           []  \n",
       "145810         []           []  \n",
       "481829         []           []  \n",
       "82599          []           []  \n",
       "368232         []           []  "
      ]
     },
     "execution_count": 5,
     "metadata": {},
     "output_type": "execute_result"
    }
   ],
   "source": [
    "# Re-arranging the data. Creating nuerical values for failure type and train/test type\n",
    "\n",
    "df['failureNum']=df.failureType\n",
    "df['trainTestNum']=df.trianTestLabel\n",
    "mapping_type={'Center':0,'Donut':1,'Edge-Loc':2,'Edge-Ring':3,'Loc':4,'Random':5,'Scratch':6,'Near-full':7,'none':8}\n",
    "mapping_traintest={'Training':0,'Test':1}\n",
    "df=df.replace({'failureNum':mapping_type, 'trainTestNum':mapping_traintest})\n",
    "\n",
    "df.sample(5)"
   ]
  },
  {
   "cell_type": "code",
   "execution_count": 6,
   "metadata": {},
   "outputs": [
    {
     "name": "stdout",
     "output_type": "stream",
     "text": [
      "Wafers with label 172950\n",
      "Wafers with defect patterns 25519\n",
      "Wafers without defect patterns 147431\n"
     ]
    }
   ],
   "source": [
    "# Split the database into three buckets: Wafers with labels, Wafers with pattern defect, Wafers without patterns\n",
    "\n",
    "#Wafers with labels are wafers that have some defect label provided. This includes \"none\" category as well\n",
    "df_withlabel = df[(df['failureNum']>=0) & (df['failureNum']<=8)]\n",
    "df_withlabel = df_withlabel.reset_index()\n",
    "#Wafers with pattern are wafers that have some pattern. None is excluded\n",
    "df_withpattern = df[(df['failureNum']>=0) & (df['failureNum']<=7)]\n",
    "df_withpattern = df_withpattern.reset_index()\n",
    "#Wafers with label but no defect patterns. None category\n",
    "df_nonpattern = df[(df['failureNum']==8)]\n",
    "print(\"Wafers with label\", df_withlabel.shape[0])\n",
    "print(\"Wafers with defect patterns\", df_withpattern.shape[0])\n",
    "print(\"Wafers without defect patterns\", df_nonpattern.shape[0])"
   ]
  },
  {
   "cell_type": "markdown",
   "metadata": {},
   "source": [
    "We have a significant number of wafers without labels from the total 811K wafers. For wafers with labels, maority of wafers have no defect pattern. So, most of this data can be thrown out and we can go with a smaller subset of data for our analysis."
   ]
  },
  {
   "cell_type": "code",
   "execution_count": 7,
   "metadata": {},
   "outputs": [
    {
     "name": "stdout",
     "output_type": "stream",
     "text": [
      "(29950, 42, 42) (29950, 1)\n"
     ]
    }
   ],
   "source": [
    "# If we use full dataframe df, there are too many unlabeled values\n",
    "# Even if we eliminate unlabeled values, we still have lot of none defects (147431). \n",
    "# Remove 90% of \"none defects\" () and throw away unlabeled values \n",
    "\n",
    "N=143000 #97% of 147431 data points. Throw this away at random\n",
    "#Select labeled data and throw away 97% of none defects at random. Create smaller dataframe\n",
    "sub_df = df_withlabel.drop(df_withlabel[df_withlabel['failureNum'].eq(8)].sample(N).index)\n",
    "#sub_df = df_withpattern.loc[df_withpattern['waferMapDim'] == (26, 26)]\n",
    "#sub_df = df_withpattern\n",
    "\n",
    "Imlist = np.ones((1, 42, 42))\n",
    "label = []\n",
    "\n",
    "for i in range(len(sub_df)):\n",
    "    # Remove data without any labels\n",
    "    if len(sub_df.iloc[i,:]['failureType']) == 0:\n",
    "        continue\n",
    "    Imlist = np.concatenate((Imlist, sub_df.iloc[i,:]['resize_waferMap'].reshape(1, 42, 42)))\n",
    "    label.append(sub_df.iloc[i,:]['failureType'][0][0])\n",
    "    \n",
    "#The first elemet in Imlist is just composed with ones, so it isn't intersesting, let's remove it\n",
    "Imlist=Imlist[1:]\n",
    "label=np.array(label).reshape((-1,1)) #Column of labels\n",
    "\n",
    "#We have all the values of the pixels: 0.0 is for the exterior ofthe wafer map\n",
    "#2.0 is for the local impure pixel and 1.0 is for a pure pixel of the wafer map\n",
    "\n",
    "print(np.shape(Imlist),np.shape(label))"
   ]
  },
  {
   "cell_type": "code",
   "execution_count": 8,
   "metadata": {},
   "outputs": [
    {
     "name": "stdout",
     "output_type": "stream",
     "text": [
      "(29950, 42, 42, 1) 29950\n",
      "New_Imlist shape (29950, 42, 42, 3)\n"
     ]
    }
   ],
   "source": [
    "# Imlist is a numpy array with wafermap entries. Each entry has 28 rows and 28 columns\n",
    "# We now turn all this data into a single column of data\n",
    "# Each pixel value of each image is now separate and we can use it separately to process deep learning\n",
    "Imlist_redo=Imlist.reshape((-1,42,42,1)) \n",
    "print(np.shape(Imlist_redo), len(Imlist_redo))\n",
    "\n",
    "# In order to process deep learning, we have to use data composed by 1 only. In other words we have to\n",
    "# change the data of 0-blank, 1-clean diw, 2- defect die into a data set composed of 1 only. We have to\n",
    "# transform the dataset into a sequence of 1s for deep learning.\n",
    "# for 0.0 we will use [1, 0, 0]\n",
    "# for 1.0 we will use [0, 1, 0]\n",
    "# for 2.0 we will use [0, 0, 1]\n",
    "\n",
    "new_Imlist = np.zeros((len(Imlist_redo), 42, 42, 3)) \n",
    "\n",
    "for w in range(len(Imlist_redo)):\n",
    "    for i in range(42):\n",
    "        for j in range(42):\n",
    "            new_Imlist[w, i, j, int(Imlist_redo[w, i, j])] = 1\n",
    "\n",
    "print(\"New_Imlist shape\", np.shape(new_Imlist))"
   ]
  },
  {
   "cell_type": "markdown",
   "metadata": {},
   "source": [
    "new_Imlist is the final image list. It has 29950 images. Each image has a 28x28 pixel value. Each pixel has a x3 value. [1,0,0] representing 0, which is blank data. [0, 1, 0] represents a clean die. [0, 0, 1] represents a defective die. For this data set, we have all defects and none defect pattern wafers as well. Below we can see the distribution of data. Near-full has lowest data set followed by donut and random."
   ]
  },
  {
   "cell_type": "code",
   "execution_count": 9,
   "metadata": {},
   "outputs": [],
   "source": [
    "#Keep processed data separately to avoid repeated running\n",
    "new_Imlist_original = new_Imlist\n",
    "label_original = label"
   ]
  },
  {
   "cell_type": "code",
   "execution_count": 10,
   "metadata": {},
   "outputs": [
    {
     "name": "stdout",
     "output_type": "stream",
     "text": [
      "Center : 4294\n",
      "Donut : 555\n",
      "Edge-Loc : 5189\n",
      "Edge-Ring : 9680\n",
      "Loc : 3593\n",
      "Near-full : 149\n",
      "Random : 866\n",
      "Scratch : 1193\n",
      "none : 4431\n",
      "(29950, 42, 42, 3) (29950, 1)\n"
     ]
    }
   ],
   "source": [
    "#Now we can see the shape of our lists, just to now how big is our dataset\n",
    "for l in np.unique(label) :\n",
    "    print('{} : {}'.format(l, len(label[label==l])))\n",
    "print(np.shape(new_Imlist), np.shape(label))"
   ]
  },
  {
   "cell_type": "code",
   "execution_count": 11,
   "metadata": {},
   "outputs": [
    {
     "name": "stdout",
     "output_type": "stream",
     "text": [
      "(20066, 42, 42, 3) (9884, 42, 42, 3) (20066, 9) (9884, 9)\n"
     ]
    }
   ],
   "source": [
    "#In order to process the test, we need a matrix of labels\n",
    "for i, l in enumerate(np.unique(label)):\n",
    "    label[label==l] = i\n",
    "    \n",
    "label = tf.keras.utils.to_categorical(label)\n",
    "\n",
    "#Now we know this information, we can lower the heavyness of the dataset, because it is too huge\n",
    "#new_IMLIST=new_Imlist[0:25000]\n",
    "#new_LABEL=label[0:25000]\n",
    "#test_Imlist=new_Imlist[25001:29950]\n",
    "#test_label=label[25001:29950]\n",
    "#print(np.shape(new_LABEL))\n",
    "\n",
    "im_train, im_test, label_train, label_test = train_test_split(new_Imlist, label, test_size=0.33, random_state=42)\n",
    "print(np.shape(im_train),np.shape(im_test),np.shape(label_train),np.shape(label_test))"
   ]
  },
  {
   "cell_type": "markdown",
   "metadata": {},
   "source": [
    "A Convolutional based Encoder-Decoder Neural Network is an encoder-decoder neural network that consists of a encoder neural network and a decoder neural network in which one or both are convolutional neural networks. \n",
    "\n",
    "An encoder is a network that takes the input, and output a feature map/vector/tensor. These feature vector hold the information, the features, that represents the input. The decoder is again a network (usually the same network structure as encoder but in opposite orientation) that takes the feature vector from the encoder, and gives the best closest match to the actual input or intended output.\n",
    "\n",
    "Once trained, the encoder will gives feature vector for input that can be use by decoder to construct the input with the features that matter the most to make the reconstructed input recognizable as the actual input."
   ]
  },
  {
   "cell_type": "code",
   "execution_count": 12,
   "metadata": {},
   "outputs": [],
   "source": [
    "# Stochastic gradient descent is an iterative learning algorithm that uses a training dataset to update a model.\n",
    "# The batch size is a hyperparameter of gradient descent that controls the number of training samples to work \n",
    "# through before the model’s internal parameters are updated.The number of epochs is a hyperparameter of gradient \n",
    "# descent that controls the number of complete passes through the training dataset.\n",
    "\n",
    "# One epoch is when entire dataset is passed forward and backward through network once\n",
    "# But instead we train the dataset into different batches and pass it through\n",
    "# If 2000 data samples, divide into 500 batch size, it will take 4 iterations to run 1 epoch\n",
    "epoch=10\n",
    "batch_size=5000\n",
    "\n",
    "input_shape = (42, 42, 3)\n",
    "input_tensor = Input(input_shape)\n",
    "\n",
    "'''\n",
    "Set up the encode layer. Relu activation function, in this case, just keep the values we are convoluting, \n",
    "and it let us do the same for the output tensor created.\n",
    "'''\n",
    "encode = layers.Conv2D(64, (3,3), padding='same', activation='relu')(input_tensor)\n",
    "\n",
    "'''\n",
    "Now that the encoder is settled, we have to code the latent vector, which is the last part of the encoder, and \n",
    "it aims to encapsulate the information for all input elements in order to help the decoder make accurate \n",
    "predictions. It acts as the initial hidden state of the decoder part of the model.\n",
    "'''\n",
    "\n",
    "#Only the highest value of a region is kept.Max pooling is keeping the most activated pixels (ones with the highest \n",
    "#values) and discards the rest.\n",
    "\n",
    "latent_vector = layers.MaxPool2D()(encode)\n",
    "encoder = models.Model(input_tensor, latent_vector)\n",
    "\n",
    "'''\n",
    "And now the decoder, and then connecting all the layers, to finally have the predicted output tensor. A stack of \n",
    "several recurrent units where each predicts an outputEach recurrent unit accepts a hidden state from the previous \n",
    "unit and produces and output as well as its own hidden state.\n",
    "'''\n",
    "\n",
    "#It is the transposed convolution layer, so the inverse step as the encoder\n",
    "decode_layer_1 = layers.Conv2DTranspose(64, (3,3), padding='same', activation='relu') \n",
    "\n",
    "#Repeats the rows and columns of the data by size[0] and size[1] respectively.\n",
    "decode_layer_2 = layers.UpSampling2D() \n",
    "output_tensor = layers.Conv2DTranspose(3, (3,3), padding='same', activation='sigmoid')\n",
    "\n",
    "#After having regarding the shape I needed for the start of the decoder, I have to define it.\n",
    "decoder_input = Input((21, 21, 64)) #decoder input was 13, 13, 64 for 26x26\n",
    "decode = decode_layer_1(decoder_input)\n",
    "decode = decode_layer_2(decode)\n",
    "\n",
    "decoder = models.Model(decoder_input, output_tensor(decode))\n",
    "\n",
    "#Now we have all the model, let's prepare the dataset, with normal wafers, and noised wafers, so that we will have some \n",
    "#data to make the machine predict their label\n",
    "\n",
    "encoded_Im = encoder.predict(new_Imlist)\n",
    "noised_encoded_Im = encoded_Im + np.random.normal(loc=0, scale=0.1, size = (len(encoded_Im), 21, 21, 64))\n",
    "# original code was 13, 13, 64 instead of 30, 30, 64 representing 26x26"
   ]
  },
  {
   "cell_type": "markdown",
   "metadata": {},
   "source": [
    "We can see that this classification is not uniform and it creates a biased distribution of defect types in the dataset. We also do not have sufficient data that has labels and defect patterns. Once we remove unlabeled data and the wafers without defect patterns, we have only 877 entries."
   ]
  },
  {
   "cell_type": "code",
   "execution_count": 13,
   "metadata": {},
   "outputs": [],
   "source": [
    "#Let's now create the real model we will use for the CNN test\n",
    "def create_model():\n",
    "    input_shape = (42, 42, 3)\n",
    "    input_tensor = Input(input_shape)\n",
    "\n",
    "    conv_1 = layers.Conv2D(16, (3,3), activation='relu', padding='same')(input_tensor)\n",
    "    conv_2 = layers.Conv2D(64, (3,3), activation='relu', padding='same')(conv_1)\n",
    "    conv_3 = layers.Conv2D(128, (3,3), activation='relu', padding='same')(conv_2)\n",
    "\n",
    "    flat = layers.Flatten()(conv_3)\n",
    "\n",
    "    dense_1 = layers.Dense(512, activation='relu')(flat)\n",
    "    dense_2 = layers.Dense(128, activation='relu')(dense_1)\n",
    "    output_tensor = layers.Dense(9, activation='softmax')(dense_2)\n",
    "\n",
    "    model = models.Model(input_tensor, output_tensor)\n",
    "    model.compile(optimizer='Adam',\n",
    "                 loss='categorical_crossentropy',\n",
    "                 metrics=['accuracy'])\n",
    "\n",
    "    return model"
   ]
  },
  {
   "cell_type": "code",
   "execution_count": 14,
   "metadata": {},
   "outputs": [
    {
     "name": "stdout",
     "output_type": "stream",
     "text": [
      "Epoch 1/10\n",
      "3/3 - 75s - loss: 4.1343 - accuracy: 0.1444 - 75s/epoch - 25s/step\n",
      "Epoch 2/10\n",
      "3/3 - 65s - loss: 3.3715 - accuracy: 0.1653 - 65s/epoch - 22s/step\n",
      "Epoch 3/10\n",
      "3/3 - 62s - loss: 2.0953 - accuracy: 0.2575 - 62s/epoch - 21s/step\n",
      "Epoch 4/10\n",
      "3/3 - 61s - loss: 2.0671 - accuracy: 0.3254 - 61s/epoch - 20s/step\n",
      "Epoch 5/10\n",
      "3/3 - 62s - loss: 1.8582 - accuracy: 0.3254 - 62s/epoch - 21s/step\n",
      "Epoch 6/10\n",
      "3/3 - 61s - loss: 1.8886 - accuracy: 0.2694 - 61s/epoch - 20s/step\n",
      "Epoch 7/10\n",
      "3/3 - 61s - loss: 1.8286 - accuracy: 0.3254 - 61s/epoch - 20s/step\n",
      "Epoch 8/10\n",
      "3/3 - 1466s - loss: 1.8311 - accuracy: 0.3254 - 1466s/epoch - 489s/step\n",
      "Epoch 9/10\n",
      "3/3 - 63s - loss: 1.8255 - accuracy: 0.3254 - 63s/epoch - 21s/step\n",
      "Epoch 10/10\n",
      "3/3 - 64s - loss: 1.8224 - accuracy: 0.3254 - 64s/epoch - 21s/step\n",
      "2/2 - 8s - loss: 1.8177 - accuracy: 0.3177 - 8s/epoch - 4s/step\n",
      "Epoch 1/10\n",
      "3/3 - 59s - loss: 6.0322 - accuracy: 0.1725 - 59s/epoch - 20s/step\n",
      "Epoch 2/10\n",
      "3/3 - 58s - loss: 3.1062 - accuracy: 0.1503 - 58s/epoch - 19s/step\n",
      "Epoch 3/10\n",
      "3/3 - 57s - loss: 2.0448 - accuracy: 0.3237 - 57s/epoch - 19s/step\n",
      "Epoch 4/10\n",
      "3/3 - 58s - loss: 1.8893 - accuracy: 0.3237 - 58s/epoch - 19s/step\n",
      "Epoch 5/10\n",
      "3/3 - 58s - loss: 1.8391 - accuracy: 0.3237 - 58s/epoch - 19s/step\n",
      "Epoch 6/10\n",
      "3/3 - 58s - loss: 1.8220 - accuracy: 0.3237 - 58s/epoch - 19s/step\n",
      "Epoch 7/10\n",
      "3/3 - 57s - loss: 1.8196 - accuracy: 0.3237 - 57s/epoch - 19s/step\n",
      "Epoch 8/10\n",
      "3/3 - 57s - loss: 1.8186 - accuracy: 0.3237 - 57s/epoch - 19s/step\n",
      "Epoch 9/10\n",
      "3/3 - 59s - loss: 1.8176 - accuracy: 0.3237 - 59s/epoch - 20s/step\n",
      "Epoch 10/10\n",
      "3/3 - 61s - loss: 1.8162 - accuracy: 0.3237 - 61s/epoch - 20s/step\n",
      "2/2 - 8s - loss: 1.8250 - accuracy: 0.3211 - 8s/epoch - 4s/step\n",
      "Epoch 1/10\n",
      "3/3 - 193s - loss: 5.1877 - accuracy: 0.2071 - 193s/epoch - 64s/step\n",
      "Epoch 2/10\n",
      "3/3 - 718s - loss: 3.2250 - accuracy: 0.1510 - 718s/epoch - 239s/step\n",
      "Epoch 3/10\n",
      "3/3 - 1949s - loss: 2.1129 - accuracy: 0.3194 - 1949s/epoch - 650s/step\n",
      "Epoch 4/10\n",
      "3/3 - 227s - loss: 1.9545 - accuracy: 0.3194 - 227s/epoch - 76s/step\n",
      "Epoch 5/10\n",
      "3/3 - 220s - loss: 1.8737 - accuracy: 0.3194 - 220s/epoch - 73s/step\n",
      "Epoch 6/10\n",
      "3/3 - 218s - loss: 1.8356 - accuracy: 0.3194 - 218s/epoch - 73s/step\n",
      "Epoch 7/10\n",
      "3/3 - 219s - loss: 1.8290 - accuracy: 0.3194 - 219s/epoch - 73s/step\n",
      "Epoch 8/10\n",
      "3/3 - 219s - loss: 1.8246 - accuracy: 0.3194 - 219s/epoch - 73s/step\n",
      "Epoch 9/10\n",
      "3/3 - 337s - loss: 1.8233 - accuracy: 0.3194 - 337s/epoch - 112s/step\n",
      "Epoch 10/10\n",
      "3/3 - 60s - loss: 1.8219 - accuracy: 0.3194 - 60s/epoch - 20s/step\n",
      "2/2 - 8s - loss: 1.8124 - accuracy: 0.3297 - 8s/epoch - 4s/step\n",
      "[0.31768575 0.32112423 0.32969499]\n",
      "training accuracy =  0.32283498843510944\n"
     ]
    }
   ],
   "source": [
    "model = KerasClassifier(build_fn=create_model, epochs=epoch, batch_size=batch_size, verbose=2) \n",
    "# 3-Fold Crossvalidation\n",
    "kfold = KFold(n_splits=3, shuffle=True, random_state=42) \n",
    "results = cross_val_score(model, im_train, label_train, cv=kfold)\n",
    "print(results)\n",
    "print(\"training accuracy = \", np.mean(results))"
   ]
  },
  {
   "cell_type": "code",
   "execution_count": 15,
   "metadata": {},
   "outputs": [
    {
     "name": "stdout",
     "output_type": "stream",
     "text": [
      "Epoch 1/10\n",
      "5/5 - 103s - loss: 9.8158 - accuracy: 0.2370 - val_loss: 1.9053 - val_accuracy: 0.3240 - 103s/epoch - 21s/step\n",
      "Epoch 2/10\n",
      "5/5 - 100s - loss: 1.9536 - accuracy: 0.3228 - val_loss: 2.0347 - val_accuracy: 0.3240 - 100s/epoch - 20s/step\n",
      "Epoch 3/10\n",
      "5/5 - 99s - loss: 1.9555 - accuracy: 0.3228 - val_loss: 1.8364 - val_accuracy: 0.3240 - 99s/epoch - 20s/step\n",
      "Epoch 4/10\n",
      "5/5 - 99s - loss: 1.8531 - accuracy: 0.3228 - val_loss: 1.8230 - val_accuracy: 0.3240 - 99s/epoch - 20s/step\n",
      "Epoch 5/10\n",
      "5/5 - 99s - loss: 1.8311 - accuracy: 0.3228 - val_loss: 1.8284 - val_accuracy: 0.3240 - 99s/epoch - 20s/step\n",
      "Epoch 6/10\n",
      "5/5 - 99s - loss: 1.8286 - accuracy: 0.3228 - val_loss: 1.8212 - val_accuracy: 0.3240 - 99s/epoch - 20s/step\n",
      "Epoch 7/10\n",
      "5/5 - 98s - loss: 1.8232 - accuracy: 0.3228 - val_loss: 1.8185 - val_accuracy: 0.3240 - 98s/epoch - 20s/step\n",
      "Epoch 8/10\n",
      "5/5 - 101s - loss: 1.8230 - accuracy: 0.3228 - val_loss: 1.8197 - val_accuracy: 0.3240 - 101s/epoch - 20s/step\n",
      "Epoch 9/10\n",
      "5/5 - 99s - loss: 1.8226 - accuracy: 0.3228 - val_loss: 1.8140 - val_accuracy: 0.3240 - 99s/epoch - 20s/step\n",
      "Epoch 10/10\n",
      "5/5 - 98s - loss: 1.8218 - accuracy: 0.3228 - val_loss: 1.8188 - val_accuracy: 0.3240 - 98s/epoch - 20s/step\n"
     ]
    }
   ],
   "source": [
    "#Now we have done the training is done, let's validate the learning with the test dataset\n",
    "history = model.fit(im_train, label_train, epochs=epoch, batch_size=batch_size, validation_data=(im_test, label_test))"
   ]
  },
  {
   "cell_type": "code",
   "execution_count": 16,
   "metadata": {},
   "outputs": [
    {
     "name": "stdout",
     "output_type": "stream",
     "text": [
      "2/2 - 12s - loss: 1.8188 - accuracy: 0.3240 - 12s/epoch - 6s/step\n",
      "Testing Accuracy: 0.3239579200744629\n"
     ]
    }
   ],
   "source": [
    "#And finally let's see what is the testing accuracy\n",
    "\n",
    "score = model.score(im_test, label_test)\n",
    "print('Testing Accuracy:',score)"
   ]
  },
  {
   "cell_type": "code",
   "execution_count": 17,
   "metadata": {},
   "outputs": [
    {
     "data": {
      "image/png": "[encoded data removed]",
      "text/plain": [
       "<Figure size 432x288 with 1 Axes>"
      ]
     },
     "metadata": {
      "needs_background": "light"
     },
     "output_type": "display_data"
    },
    {
     "data": {
      "image/png": "[encoded data removed]",
      "text/plain": [
       "<Figure size 432x288 with 1 Axes>"
      ]
     },
     "metadata": {
      "needs_background": "light"
     },
     "output_type": "display_data"
    }
   ],
   "source": [
    "#Let's now plot the differnces in the losses and the accuracies between the training and the test\n",
    "plt.plot(history.history['accuracy'])\n",
    "plt.plot(history.history['val_accuracy'])\n",
    "plt.title('model accuracy')\n",
    "plt.ylabel('accuracy')\n",
    "plt.xlabel('epoch')\n",
    "plt.legend(['train', 'test'], loc='upper left')\n",
    "plt.show()\n",
    "\n",
    "plt.plot(history.history['loss'])\n",
    "plt.plot(history.history['val_loss'])\n",
    "plt.title('model loss')\n",
    "plt.ylabel('loss')\n",
    "plt.xlabel('epoch')\n",
    "plt.legend(['train', 'test'], loc='upper left')\n",
    "plt.show()"
   ]
  },
  {
   "cell_type": "code",
   "execution_count": null,
   "metadata": {},
   "outputs": [],
   "source": []
  }
 ],
 "metadata": {
  "kernelspec": {
   "display_name": "Python 3",
   "language": "python",
   "name": "python3"
  },
  "language_info": {
   "codemirror_mode": {
    "name": "ipython",
    "version": 3
   },
   "file_extension": ".py",
   "mimetype": "text/x-python",
   "name": "python",
   "nbconvert_exporter": "python",
   "pygments_lexer": "ipython3",
   "version": "3.8.3"
  }
 },
 "nbformat": 4,
 "nbformat_minor": 4
}
