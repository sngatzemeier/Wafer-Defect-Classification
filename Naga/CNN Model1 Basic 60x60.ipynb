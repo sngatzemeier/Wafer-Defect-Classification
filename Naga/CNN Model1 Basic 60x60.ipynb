{
 "cells": [
  {
   "cell_type": "markdown",
   "metadata": {},
   "source": [
    "# CNN Model 1\n",
    "## Runs with images having defect patterns only. None excluded. All images resized to 60x60. No data augmentation performed. Achieved accuracy of 0.43\n",
    "\n",
    "Sources:\n",
    "1. Wafer defect classification by deep learning code: Ashadullah Shawon: https://www.kaggle.com/shawon10/wafer-defect-classification-by-deep-learning\n",
    "2. Defect detection in wafer maps: Paul Bassaler: https://www.kaggle.com/paulbassaler/defect-detection-in-wafer-bin-maps\n"
   ]
  },
  {
   "cell_type": "code",
   "execution_count": 111,
   "metadata": {},
   "outputs": [
    {
     "name": "stdout",
     "output_type": "stream",
     "text": [
      "Requirement already satisfied: tensorflow in /Users/nagachandrasekaran/opt/anaconda3/lib/python3.8/site-packages (2.8.0)\n",
      "Requirement already satisfied: libclang>=9.0.1 in /Users/nagachandrasekaran/opt/anaconda3/lib/python3.8/site-packages (from tensorflow) (13.0.0)\n",
      "Requirement already satisfied: flatbuffers>=1.12 in /Users/nagachandrasekaran/opt/anaconda3/lib/python3.8/site-packages (from tensorflow) (2.0)\n",
      "Requirement already satisfied: protobuf>=3.9.2 in /Users/nagachandrasekaran/opt/anaconda3/lib/python3.8/site-packages (from tensorflow) (3.19.4)\n",
      "Requirement already satisfied: h5py>=2.9.0 in /Users/nagachandrasekaran/opt/anaconda3/lib/python3.8/site-packages (from tensorflow) (2.10.0)\n",
      "Requirement already satisfied: astunparse>=1.6.0 in /Users/nagachandrasekaran/opt/anaconda3/lib/python3.8/site-packages (from tensorflow) (1.6.3)\n",
      "Requirement already satisfied: tf-estimator-nightly==2.8.0.dev2021122109 in /Users/nagachandrasekaran/opt/anaconda3/lib/python3.8/site-packages (from tensorflow) (2.8.0.dev2021122109)\n",
      "Requirement already satisfied: tensorflow-io-gcs-filesystem>=0.23.1 in /Users/nagachandrasekaran/opt/anaconda3/lib/python3.8/site-packages (from tensorflow) (0.24.0)\n",
      "Requirement already satisfied: termcolor>=1.1.0 in /Users/nagachandrasekaran/opt/anaconda3/lib/python3.8/site-packages (from tensorflow) (1.1.0)\n",
      "Requirement already satisfied: absl-py>=0.4.0 in /Users/nagachandrasekaran/opt/anaconda3/lib/python3.8/site-packages (from tensorflow) (1.0.0)\n",
      "Requirement already satisfied: gast>=0.2.1 in /Users/nagachandrasekaran/opt/anaconda3/lib/python3.8/site-packages (from tensorflow) (0.5.3)\n",
      "Requirement already satisfied: numpy>=1.20 in /Users/nagachandrasekaran/opt/anaconda3/lib/python3.8/site-packages (from tensorflow) (1.22.2)\n",
      "Requirement already satisfied: opt-einsum>=2.3.2 in /Users/nagachandrasekaran/opt/anaconda3/lib/python3.8/site-packages (from tensorflow) (3.3.0)\n",
      "Requirement already satisfied: typing-extensions>=3.6.6 in /Users/nagachandrasekaran/opt/anaconda3/lib/python3.8/site-packages (from tensorflow) (3.7.4.2)\n",
      "Requirement already satisfied: wrapt>=1.11.0 in /Users/nagachandrasekaran/opt/anaconda3/lib/python3.8/site-packages (from tensorflow) (1.11.2)\n",
      "Requirement already satisfied: keras-preprocessing>=1.1.1 in /Users/nagachandrasekaran/opt/anaconda3/lib/python3.8/site-packages (from tensorflow) (1.1.2)\n",
      "Requirement already satisfied: google-pasta>=0.1.1 in /Users/nagachandrasekaran/opt/anaconda3/lib/python3.8/site-packages (from tensorflow) (0.2.0)\n",
      "Requirement already satisfied: setuptools in /Users/nagachandrasekaran/opt/anaconda3/lib/python3.8/site-packages (from tensorflow) (49.2.0.post20200714)\n",
      "Requirement already satisfied: six>=1.12.0 in /Users/nagachandrasekaran/opt/anaconda3/lib/python3.8/site-packages (from tensorflow) (1.15.0)\n",
      "Requirement already satisfied: tensorboard<2.9,>=2.8 in /Users/nagachandrasekaran/opt/anaconda3/lib/python3.8/site-packages (from tensorflow) (2.8.0)\n",
      "Requirement already satisfied: grpcio<2.0,>=1.24.3 in /Users/nagachandrasekaran/opt/anaconda3/lib/python3.8/site-packages (from tensorflow) (1.43.0)\n",
      "Requirement already satisfied: keras<2.9,>=2.8.0rc0 in /Users/nagachandrasekaran/opt/anaconda3/lib/python3.8/site-packages (from tensorflow) (2.8.0)\n",
      "Requirement already satisfied: wheel<1.0,>=0.23.0 in /Users/nagachandrasekaran/opt/anaconda3/lib/python3.8/site-packages (from astunparse>=1.6.0->tensorflow) (0.34.2)\n",
      "Requirement already satisfied: werkzeug>=0.11.15 in /Users/nagachandrasekaran/opt/anaconda3/lib/python3.8/site-packages (from tensorboard<2.9,>=2.8->tensorflow) (1.0.1)\n",
      "Requirement already satisfied: requests<3,>=2.21.0 in /Users/nagachandrasekaran/opt/anaconda3/lib/python3.8/site-packages (from tensorboard<2.9,>=2.8->tensorflow) (2.24.0)\n",
      "Requirement already satisfied: google-auth-oauthlib<0.5,>=0.4.1 in /Users/nagachandrasekaran/opt/anaconda3/lib/python3.8/site-packages (from tensorboard<2.9,>=2.8->tensorflow) (0.4.6)\n",
      "Requirement already satisfied: markdown>=2.6.8 in /Users/nagachandrasekaran/opt/anaconda3/lib/python3.8/site-packages (from tensorboard<2.9,>=2.8->tensorflow) (3.3.6)\n",
      "Requirement already satisfied: google-auth<3,>=1.6.3 in /Users/nagachandrasekaran/opt/anaconda3/lib/python3.8/site-packages (from tensorboard<2.9,>=2.8->tensorflow) (2.6.0)\n",
      "Requirement already satisfied: tensorboard-plugin-wit>=1.6.0 in /Users/nagachandrasekaran/opt/anaconda3/lib/python3.8/site-packages (from tensorboard<2.9,>=2.8->tensorflow) (1.8.1)\n",
      "Requirement already satisfied: tensorboard-data-server<0.7.0,>=0.6.0 in /Users/nagachandrasekaran/opt/anaconda3/lib/python3.8/site-packages (from tensorboard<2.9,>=2.8->tensorflow) (0.6.1)\n",
      "Requirement already satisfied: urllib3!=1.25.0,!=1.25.1,<1.26,>=1.21.1 in /Users/nagachandrasekaran/opt/anaconda3/lib/python3.8/site-packages (from requests<3,>=2.21.0->tensorboard<2.9,>=2.8->tensorflow) (1.25.9)\n",
      "Requirement already satisfied: certifi>=2017.4.17 in /Users/nagachandrasekaran/opt/anaconda3/lib/python3.8/site-packages (from requests<3,>=2.21.0->tensorboard<2.9,>=2.8->tensorflow) (2020.6.20)\n",
      "Requirement already satisfied: chardet<4,>=3.0.2 in /Users/nagachandrasekaran/opt/anaconda3/lib/python3.8/site-packages (from requests<3,>=2.21.0->tensorboard<2.9,>=2.8->tensorflow) (3.0.4)\n",
      "Requirement already satisfied: idna<3,>=2.5 in /Users/nagachandrasekaran/opt/anaconda3/lib/python3.8/site-packages (from requests<3,>=2.21.0->tensorboard<2.9,>=2.8->tensorflow) (2.10)\n",
      "Requirement already satisfied: requests-oauthlib>=0.7.0 in /Users/nagachandrasekaran/opt/anaconda3/lib/python3.8/site-packages (from google-auth-oauthlib<0.5,>=0.4.1->tensorboard<2.9,>=2.8->tensorflow) (1.3.1)\n",
      "Requirement already satisfied: importlib-metadata>=4.4; python_version < \"3.10\" in /Users/nagachandrasekaran/opt/anaconda3/lib/python3.8/site-packages (from markdown>=2.6.8->tensorboard<2.9,>=2.8->tensorflow) (4.10.1)\n",
      "Requirement already satisfied: cachetools<6.0,>=2.0.0 in /Users/nagachandrasekaran/opt/anaconda3/lib/python3.8/site-packages (from google-auth<3,>=1.6.3->tensorboard<2.9,>=2.8->tensorflow) (5.0.0)\n",
      "Requirement already satisfied: rsa<5,>=3.1.4; python_version >= \"3.6\" in /Users/nagachandrasekaran/opt/anaconda3/lib/python3.8/site-packages (from google-auth<3,>=1.6.3->tensorboard<2.9,>=2.8->tensorflow) (4.8)\n",
      "Requirement already satisfied: pyasn1-modules>=0.2.1 in /Users/nagachandrasekaran/opt/anaconda3/lib/python3.8/site-packages (from google-auth<3,>=1.6.3->tensorboard<2.9,>=2.8->tensorflow) (0.2.8)\n",
      "Requirement already satisfied: oauthlib>=3.0.0 in /Users/nagachandrasekaran/opt/anaconda3/lib/python3.8/site-packages (from requests-oauthlib>=0.7.0->google-auth-oauthlib<0.5,>=0.4.1->tensorboard<2.9,>=2.8->tensorflow) (3.2.0)\n",
      "Requirement already satisfied: zipp>=0.5 in /Users/nagachandrasekaran/opt/anaconda3/lib/python3.8/site-packages (from importlib-metadata>=4.4; python_version < \"3.10\"->markdown>=2.6.8->tensorboard<2.9,>=2.8->tensorflow) (3.1.0)\n",
      "Requirement already satisfied: pyasn1>=0.1.3 in /Users/nagachandrasekaran/opt/anaconda3/lib/python3.8/site-packages (from rsa<5,>=3.1.4; python_version >= \"3.6\"->google-auth<3,>=1.6.3->tensorboard<2.9,>=2.8->tensorflow) (0.4.8)\n"
     ]
    }
   ],
   "source": [
    "import os\n",
    "from os.path import join\n",
    "\n",
    "import numpy as np\n",
    "import pandas as pd\n",
    "import matplotlib.pyplot as plt\n",
    "import random\n",
    "\n",
    "!pip install tensorflow\n",
    "import tensorflow as tf\n",
    "import keras\n",
    "from keras import layers, Input, models\n",
    "from tensorflow.keras.utils import to_categorical\n",
    "from keras.wrappers.scikit_learn import KerasClassifier \n",
    "from sklearn.model_selection import KFold \n",
    "from sklearn.model_selection import cross_val_score\n",
    "from sklearn.model_selection import train_test_split\n",
    "\n",
    "# Import modeling libraries.\n",
    "import sklearn as sk\n",
    "#sklearn.__version__\n",
    "from sklearn.pipeline import Pipeline\n",
    "from sklearn.datasets import fetch_openml\n",
    "from sklearn.neighbors import KNeighborsClassifier\n",
    "from sklearn.metrics import confusion_matrix\n",
    "from sklearn.linear_model import LinearRegression\n",
    "from sklearn.naive_bayes import BernoulliNB\n",
    "from sklearn.naive_bayes import MultinomialNB\n",
    "from sklearn.naive_bayes import GaussianNB\n",
    "from sklearn.model_selection import GridSearchCV\n",
    "from sklearn.metrics import classification_report\n",
    "from sklearn.neural_network import MLPClassifier\n",
    "from sklearn.metrics import plot_confusion_matrix\n",
    "from sklearn import metrics\n",
    "from sklearn.metrics import classification_report\n",
    "from sklearn.preprocessing import StandardScaler\n",
    "from skimage.transform import resize as sk_resize\n",
    "\n",
    "import warnings\n",
    "warnings.filterwarnings(\"ignore\")"
   ]
  },
  {
   "cell_type": "code",
   "execution_count": 125,
   "metadata": {},
   "outputs": [
    {
     "name": "stdout",
     "output_type": "stream",
     "text": [
      "<class 'pandas.core.frame.DataFrame'>\n",
      "RangeIndex: 811457 entries, 0 to 811456\n",
      "Data columns (total 6 columns):\n",
      " #   Column          Non-Null Count   Dtype  \n",
      "---  ------          --------------   -----  \n",
      " 0   waferMap        811457 non-null  object \n",
      " 1   dieSize         811457 non-null  float64\n",
      " 2   lotName         811457 non-null  object \n",
      " 3   waferIndex      811457 non-null  float64\n",
      " 4   trianTestLabel  811457 non-null  object \n",
      " 5   failureType     811457 non-null  object \n",
      "dtypes: float64(2), object(4)\n",
      "memory usage: 37.1+ MB\n"
     ]
    },
    {
     "data": {
      "text/html": [
       "<div>\n",
       "<style scoped>\n",
       "    .dataframe tbody tr th:only-of-type {\n",
       "        vertical-align: middle;\n",
       "    }\n",
       "\n",
       "    .dataframe tbody tr th {\n",
       "        vertical-align: top;\n",
       "    }\n",
       "\n",
       "    .dataframe thead th {\n",
       "        text-align: right;\n",
       "    }\n",
       "</style>\n",
       "<table border=\"1\" class=\"dataframe\">\n",
       "  <thead>\n",
       "    <tr style=\"text-align: right;\">\n",
       "      <th></th>\n",
       "      <th>waferMap</th>\n",
       "      <th>dieSize</th>\n",
       "      <th>lotName</th>\n",
       "      <th>waferIndex</th>\n",
       "      <th>trianTestLabel</th>\n",
       "      <th>failureType</th>\n",
       "    </tr>\n",
       "  </thead>\n",
       "  <tbody>\n",
       "    <tr>\n",
       "      <th>506082</th>\n",
       "      <td>[[0, 0, 0, 0, 0, 0, 0, 0, 0, 0, 0, 0, 1, 2, 2,...</td>\n",
       "      <td>710.0</td>\n",
       "      <td>lot31449</td>\n",
       "      <td>2.0</td>\n",
       "      <td>[]</td>\n",
       "      <td>[]</td>\n",
       "    </tr>\n",
       "    <tr>\n",
       "      <th>784165</th>\n",
       "      <td>[[0, 0, 0, 0, 0, 0, 0, 0, 0, 0, 0, 0, 0, 0, 0,...</td>\n",
       "      <td>1414.0</td>\n",
       "      <td>lot46434</td>\n",
       "      <td>7.0</td>\n",
       "      <td>[[Test]]</td>\n",
       "      <td>[[none]]</td>\n",
       "    </tr>\n",
       "    <tr>\n",
       "      <th>121849</th>\n",
       "      <td>[[0, 0, 0, 0, 0, 0, 0, 0, 0, 0, 0, 0, 0, 0, 0,...</td>\n",
       "      <td>776.0</td>\n",
       "      <td>lot8137</td>\n",
       "      <td>6.0</td>\n",
       "      <td>[]</td>\n",
       "      <td>[]</td>\n",
       "    </tr>\n",
       "    <tr>\n",
       "      <th>523097</th>\n",
       "      <td>[[0, 0, 0, 0, 0, 0, 0, 0, 0, 0, 0, 1, 1, 1, 1,...</td>\n",
       "      <td>515.0</td>\n",
       "      <td>lot32723</td>\n",
       "      <td>14.0</td>\n",
       "      <td>[]</td>\n",
       "      <td>[]</td>\n",
       "    </tr>\n",
       "    <tr>\n",
       "      <th>784238</th>\n",
       "      <td>[[0, 0, 0, 0, 0, 0, 0, 0, 0, 0, 0, 0, 0, 0, 0,...</td>\n",
       "      <td>1089.0</td>\n",
       "      <td>lot46437</td>\n",
       "      <td>21.0</td>\n",
       "      <td>[[Test]]</td>\n",
       "      <td>[[none]]</td>\n",
       "    </tr>\n",
       "  </tbody>\n",
       "</table>\n",
       "</div>"
      ],
      "text/plain": [
       "                                                 waferMap  dieSize   lotName  \\\n",
       "506082  [[0, 0, 0, 0, 0, 0, 0, 0, 0, 0, 0, 0, 1, 2, 2,...    710.0  lot31449   \n",
       "784165  [[0, 0, 0, 0, 0, 0, 0, 0, 0, 0, 0, 0, 0, 0, 0,...   1414.0  lot46434   \n",
       "121849  [[0, 0, 0, 0, 0, 0, 0, 0, 0, 0, 0, 0, 0, 0, 0,...    776.0   lot8137   \n",
       "523097  [[0, 0, 0, 0, 0, 0, 0, 0, 0, 0, 0, 1, 1, 1, 1,...    515.0  lot32723   \n",
       "784238  [[0, 0, 0, 0, 0, 0, 0, 0, 0, 0, 0, 0, 0, 0, 0,...   1089.0  lot46437   \n",
       "\n",
       "        waferIndex trianTestLabel failureType  \n",
       "506082         2.0             []          []  \n",
       "784165         7.0       [[Test]]    [[none]]  \n",
       "121849         6.0             []          []  \n",
       "523097        14.0             []          []  \n",
       "784238        21.0       [[Test]]    [[none]]  "
      ]
     },
     "execution_count": 125,
     "metadata": {},
     "output_type": "execute_result"
    }
   ],
   "source": [
    "# Read the full data file that is stored locally. Look at information and data details\n",
    "\n",
    "df=pd.read_pickle(\"LSWMD.pkl\")\n",
    "df.info()\n",
    "df.sample(5)"
   ]
  },
  {
   "cell_type": "code",
   "execution_count": 126,
   "metadata": {},
   "outputs": [
    {
     "name": "stdout",
     "output_type": "stream",
     "text": [
      "Number of unique die size values\n",
      " 710.0     66961\n",
      "515.0     45725\n",
      "712.0     42572\n",
      "1513.0    39322\n",
      "776.0     29513\n",
      "Name: dieSize, dtype: int64\n",
      "\n",
      "Sample of unique dies dize values [1683. 2460.  533. ...  551.  554.  550.]\n",
      "Dies size value that occurs the most 710.0\n"
     ]
    }
   ],
   "source": [
    "# From the dataset we have wafers with different die size and count. Look at details.\n",
    "print(\"Number of unique die size values\\n\", df['dieSize'].value_counts().head())\n",
    "print(\"\\nSample of unique dies dize values\", pd.unique(df['dieSize']))\n",
    "print(\"Dies size value that occurs the most\", df['dieSize'].value_counts().idxmax())"
   ]
  },
  {
   "cell_type": "code",
   "execution_count": 127,
   "metadata": {},
   "outputs": [],
   "source": [
    "# Build function to resize images\n",
    "\n",
    "x_dim = 60\n",
    "y_dim = 60\n",
    "\n",
    "def resize_wafers(row):\n",
    "    base_map = row['waferMap']\n",
    "    resize_map = sk_resize(base_map*1024,[x_dim,y_dim], anti_aliasing=True)\n",
    "    return resize_map\n",
    "\n",
    "df['resize_waferMap'] = df.apply (lambda row: resize_wafers(row), axis=1)"
   ]
  },
  {
   "cell_type": "code",
   "execution_count": 128,
   "metadata": {},
   "outputs": [
    {
     "name": "stdout",
     "output_type": "stream",
     "text": [
      "Die size dimension in descending order\n",
      " (32, 29)    108687\n",
      "(25, 27)     64083\n",
      "(49, 39)     39323\n",
      "(26, 26)     30078\n",
      "(30, 34)     29513\n",
      "             ...  \n",
      "(43, 41)         1\n",
      "(49, 67)         1\n",
      "(26, 44)         1\n",
      "(88, 62)         1\n",
      "(54, 64)         1\n",
      "Name: waferMapDim, Length: 632, dtype: int64\n",
      "Die size dimension in descending order\n",
      " (60, 60)    811457\n",
      "Name: resize_waferMapDim, dtype: int64\n"
     ]
    },
    {
     "data": {
      "text/html": [
       "<div>\n",
       "<style scoped>\n",
       "    .dataframe tbody tr th:only-of-type {\n",
       "        vertical-align: middle;\n",
       "    }\n",
       "\n",
       "    .dataframe tbody tr th {\n",
       "        vertical-align: top;\n",
       "    }\n",
       "\n",
       "    .dataframe thead th {\n",
       "        text-align: right;\n",
       "    }\n",
       "</style>\n",
       "<table border=\"1\" class=\"dataframe\">\n",
       "  <thead>\n",
       "    <tr style=\"text-align: right;\">\n",
       "      <th></th>\n",
       "      <th>waferMap</th>\n",
       "      <th>dieSize</th>\n",
       "      <th>lotName</th>\n",
       "      <th>waferIndex</th>\n",
       "      <th>trianTestLabel</th>\n",
       "      <th>failureType</th>\n",
       "      <th>resize_waferMap</th>\n",
       "      <th>failureNum</th>\n",
       "      <th>trainTestNum</th>\n",
       "      <th>waferMapDim</th>\n",
       "      <th>resize_waferMapDim</th>\n",
       "    </tr>\n",
       "  </thead>\n",
       "  <tbody>\n",
       "    <tr>\n",
       "      <th>436670</th>\n",
       "      <td>[[0, 0, 0, 0, 0, 0, 0, 0, 0, 0, 0, 0, 0, 0, 0,...</td>\n",
       "      <td>3777.0</td>\n",
       "      <td>lot26414</td>\n",
       "      <td>10.0</td>\n",
       "      <td>[]</td>\n",
       "      <td>[]</td>\n",
       "      <td>[[0.0, 0.0, 0.0, 0.0, 0.0, 0.0, 0.0, 0.0, 0.0,...</td>\n",
       "      <td>[]</td>\n",
       "      <td>[]</td>\n",
       "      <td>(63, 76)</td>\n",
       "      <td>(60, 60)</td>\n",
       "    </tr>\n",
       "    <tr>\n",
       "      <th>235429</th>\n",
       "      <td>[[0, 0, 0, 0, 0, 0, 0, 0, 0, 0, 0, 0, 0, 0, 0,...</td>\n",
       "      <td>5633.0</td>\n",
       "      <td>lot14724</td>\n",
       "      <td>19.0</td>\n",
       "      <td>[]</td>\n",
       "      <td>[]</td>\n",
       "      <td>[[0.0, 0.0, 0.0, 0.0, 0.0, 0.0, 0.0, 0.0, 0.0,...</td>\n",
       "      <td>[]</td>\n",
       "      <td>[]</td>\n",
       "      <td>(88, 81)</td>\n",
       "      <td>(60, 60)</td>\n",
       "    </tr>\n",
       "    <tr>\n",
       "      <th>498779</th>\n",
       "      <td>[[0, 0, 0, 0, 0, 0, 0, 0, 0, 0, 0, 0, 0, 0, 0,...</td>\n",
       "      <td>1513.0</td>\n",
       "      <td>lot31048</td>\n",
       "      <td>22.0</td>\n",
       "      <td>[]</td>\n",
       "      <td>[]</td>\n",
       "      <td>[[0.0, 0.0, 0.0, 0.0, 0.0, 0.0, 0.0, 0.0, 0.0,...</td>\n",
       "      <td>[]</td>\n",
       "      <td>[]</td>\n",
       "      <td>(49, 39)</td>\n",
       "      <td>(60, 60)</td>\n",
       "    </tr>\n",
       "    <tr>\n",
       "      <th>534219</th>\n",
       "      <td>[[0, 0, 0, 0, 0, 0, 0, 0, 0, 0, 0, 0, 2, 1, 2,...</td>\n",
       "      <td>710.0</td>\n",
       "      <td>lot33390</td>\n",
       "      <td>3.0</td>\n",
       "      <td>[]</td>\n",
       "      <td>[]</td>\n",
       "      <td>[[0.0, 0.0, 0.0, 0.0, 0.0, 0.0, 0.0, 0.0, 0.0,...</td>\n",
       "      <td>[]</td>\n",
       "      <td>[]</td>\n",
       "      <td>(32, 29)</td>\n",
       "      <td>(60, 60)</td>\n",
       "    </tr>\n",
       "    <tr>\n",
       "      <th>581191</th>\n",
       "      <td>[[0, 0, 0, 0, 0, 0, 0, 0, 0, 0, 0, 0, 2, 1, 1,...</td>\n",
       "      <td>846.0</td>\n",
       "      <td>lot36292</td>\n",
       "      <td>15.0</td>\n",
       "      <td>[]</td>\n",
       "      <td>[]</td>\n",
       "      <td>[[0.0, 0.0, 0.0, 0.0, 0.0, 0.0, 0.0, 0.0, 0.0,...</td>\n",
       "      <td>[]</td>\n",
       "      <td>[]</td>\n",
       "      <td>(33, 33)</td>\n",
       "      <td>(60, 60)</td>\n",
       "    </tr>\n",
       "  </tbody>\n",
       "</table>\n",
       "</div>"
      ],
      "text/plain": [
       "                                                 waferMap  dieSize   lotName  \\\n",
       "436670  [[0, 0, 0, 0, 0, 0, 0, 0, 0, 0, 0, 0, 0, 0, 0,...   3777.0  lot26414   \n",
       "235429  [[0, 0, 0, 0, 0, 0, 0, 0, 0, 0, 0, 0, 0, 0, 0,...   5633.0  lot14724   \n",
       "498779  [[0, 0, 0, 0, 0, 0, 0, 0, 0, 0, 0, 0, 0, 0, 0,...   1513.0  lot31048   \n",
       "534219  [[0, 0, 0, 0, 0, 0, 0, 0, 0, 0, 0, 0, 2, 1, 2,...    710.0  lot33390   \n",
       "581191  [[0, 0, 0, 0, 0, 0, 0, 0, 0, 0, 0, 0, 2, 1, 1,...    846.0  lot36292   \n",
       "\n",
       "        waferIndex trianTestLabel failureType  \\\n",
       "436670        10.0             []          []   \n",
       "235429        19.0             []          []   \n",
       "498779        22.0             []          []   \n",
       "534219         3.0             []          []   \n",
       "581191        15.0             []          []   \n",
       "\n",
       "                                          resize_waferMap failureNum  \\\n",
       "436670  [[0.0, 0.0, 0.0, 0.0, 0.0, 0.0, 0.0, 0.0, 0.0,...         []   \n",
       "235429  [[0.0, 0.0, 0.0, 0.0, 0.0, 0.0, 0.0, 0.0, 0.0,...         []   \n",
       "498779  [[0.0, 0.0, 0.0, 0.0, 0.0, 0.0, 0.0, 0.0, 0.0,...         []   \n",
       "534219  [[0.0, 0.0, 0.0, 0.0, 0.0, 0.0, 0.0, 0.0, 0.0,...         []   \n",
       "581191  [[0.0, 0.0, 0.0, 0.0, 0.0, 0.0, 0.0, 0.0, 0.0,...         []   \n",
       "\n",
       "       trainTestNum waferMapDim resize_waferMapDim  \n",
       "436670           []    (63, 76)           (60, 60)  \n",
       "235429           []    (88, 81)           (60, 60)  \n",
       "498779           []    (49, 39)           (60, 60)  \n",
       "534219           []    (32, 29)           (60, 60)  \n",
       "581191           []    (33, 33)           (60, 60)  "
      ]
     },
     "execution_count": 128,
     "metadata": {},
     "output_type": "execute_result"
    }
   ],
   "source": [
    "# Re-arranging the data. Creating nuerical values for failure type and train/test type\n",
    "# Also measuring the wafer map dimensions and adding a column\n",
    "# waferMap value is a numpy array with 0, 1, 2 values. 0-no data, 1-pure pixel die, 2-defect die\n",
    "# Each die is represented by a pixel value. So, size of this waferMap array is different\n",
    "\n",
    "df['failureNum']=df.failureType\n",
    "df['trainTestNum']=df.trianTestLabel\n",
    "mapping_type={'Center':0,'Donut':1,'Edge-Loc':2,'Edge-Ring':3,'Loc':4,'Random':5,'Scratch':6,'Near-full':7,'none':8}\n",
    "mapping_traintest={'Training':0,'Test':1}\n",
    "df=df.replace({'failureNum':mapping_type, 'trainTestNum':mapping_traintest})\n",
    "\n",
    "# Originally, we did not resize the images and selected images with 26x26\n",
    "# This function was used to find the original wafer image dimensions and sort them\n",
    "def find_dim(x):\n",
    "    dim0=np.size(x,axis=0)\n",
    "    dim1=np.size(x,axis=1)\n",
    "    return dim0,dim1\n",
    "\n",
    "df['waferMapDim']=df.waferMap.apply(find_dim)\n",
    "print(\"Die size dimension in descending order\\n\", df['waferMapDim'].value_counts().sort_values(ascending=False))\n",
    "\n",
    "# With resized images to 60x60, we can get all images to be same and keep sample size high\n",
    "df['resize_waferMapDim']=df.resize_waferMap.apply(find_dim)\n",
    "print(\"Die size dimension in descending order\\n\", df['resize_waferMapDim'].value_counts().sort_values(ascending=False))\n",
    "\n",
    "df.sample(5)"
   ]
  },
  {
   "cell_type": "code",
   "execution_count": 129,
   "metadata": {},
   "outputs": [
    {
     "name": "stdout",
     "output_type": "stream",
     "text": [
      "Wafers with label 172950\n",
      "Wafers with defect patterns 25519\n",
      "Wafers without defect patterns 147431\n"
     ]
    }
   ],
   "source": [
    "# Split the database into three buckets: Wafers with labels, Wafers with pattern defect, Wafers without patterns\n",
    "\n",
    "df_withlabel = df[(df['failureNum']>=0) & (df['failureNum']<=8)]\n",
    "df_withlabel = df_withlabel.reset_index()\n",
    "df_withpattern = df[(df['failureNum']>=0) & (df['failureNum']<=7)]\n",
    "df_withpattern = df_withpattern.reset_index()\n",
    "df_nonpattern = df[(df['failureNum']==8)]\n",
    "print(\"Wafers with label\", df_withlabel.shape[0])\n",
    "print(\"Wafers with defect patterns\", df_withpattern.shape[0])\n",
    "print(\"Wafers without defect patterns\", df_nonpattern.shape[0])"
   ]
  },
  {
   "cell_type": "code",
   "execution_count": 130,
   "metadata": {},
   "outputs": [
    {
     "data": {
      "image/png": "[encoded data removed]",
      "text/plain": [
       "<Figure size 1080x360 with 1 Axes>"
      ]
     },
     "metadata": {
      "needs_background": "light"
     },
     "output_type": "display_data"
    }
   ],
   "source": [
    "fig = plt.figure(figsize=(15, 5))\n",
    "axe=plt.subplot(1,1,1)\n",
    "\n",
    "uni_pattern=np.unique(df_withpattern.failureNum, return_counts=True)\n",
    "labels = ['Center','Donut','Edge-Loc','Edge-Ring','Loc','Random','Scratch','Near-full', 'None']\n",
    "axe.bar(uni_pattern[0],uni_pattern[1], color='blue', align='center', alpha=0.9)\n",
    "axe.set_title(\"number  of failure types in wafer maps\")\n",
    "axe.set_ylabel(\"number of pattern wafers\")\n",
    "axe.set_xticklabels(labels)\n",
    "\n",
    "plt.show()"
   ]
  },
  {
   "cell_type": "code",
   "execution_count": 131,
   "metadata": {},
   "outputs": [
    {
     "name": "stdout",
     "output_type": "stream",
     "text": [
      "(25519, 60, 60) (25519, 1)\n"
     ]
    }
   ],
   "source": [
    "# We need a precise shape for the wafer maps we will use, it has to be a square\n",
    "# Choose a shape and then we have to create a list of images which are in this shape\n",
    "# Create a correspoinding list with their associated failure types\n",
    "\n",
    "# If we use full dataframe df, there are too many unlabeled values\n",
    "# Even if we eliminate unlabeled values, we still have lot of none defects. Remove them\n",
    "# Use df_withpattern only\n",
    "# Choose 26x26 as the image dimension. Creating a smaller df\n",
    "\n",
    "#sub_df = df_withpattern.loc[df_withpattern['waferMapDim'] == (26, 26)]\n",
    "sub_df = df_withpattern\n",
    "\n",
    "Imlist = np.ones((1, 60, 60)) #originally 60 was 26\n",
    "label = []\n",
    "\n",
    "for i in range(len(sub_df)):\n",
    "    # Remove data without any labels\n",
    "    if len(sub_df.iloc[i,:]['failureType']) == 0:\n",
    "        continue\n",
    "    Imlist = np.concatenate((Imlist, sub_df.iloc[i,:]['resize_waferMap'].reshape(1, 60, 60))) #replaced 26 with 60\n",
    "    label.append(sub_df.iloc[i,:]['failureType'][0][0])\n",
    "    \n",
    "#The first elemet in Imlist is just composed with ones, so it isn't intersesting, let's remove it\n",
    "Imlist=Imlist[1:]\n",
    "label=np.array(label).reshape((-1,1)) #Column of labels\n",
    "\n",
    "#We have all the values of the pixels: 0.0 is for the exterior ofthe wafer map\n",
    "#2.0 is for the local impure pixel and 1.0 is for a pure pixel of the wafer map\n",
    "\n",
    "print(np.shape(Imlist),np.shape(label))"
   ]
  },
  {
   "cell_type": "code",
   "execution_count": 133,
   "metadata": {},
   "outputs": [
    {
     "name": "stdout",
     "output_type": "stream",
     "text": [
      "label assiociated with wafer 6096 ['Center']\n",
      "label assiociated with wafer 14896 ['Edge-Loc']\n",
      "label assiociated with wafer 3740 ['Edge-Ring']\n",
      "label assiociated with wafer 18449 ['Edge-Loc']\n",
      "label assiociated with wafer 8250 ['Center']\n"
     ]
    },
    {
     "data": {
      "image/png": "[encoded data removed]",
      "text/plain": [
       "<Figure size 432x288 with 5 Axes>"
      ]
     },
     "metadata": {
      "needs_background": "light"
     },
     "output_type": "display_data"
    }
   ],
   "source": [
    "f, axarr = plt.subplots(1,5)\n",
    "\n",
    "for k in range(5):\n",
    "    j = random.randint(0,25519)\n",
    "    axarr[k].imshow(Imlist[j])\n",
    "    print(\"label assiociated with wafer %s\" % j,label[j])\n",
    "plt.show()"
   ]
  },
  {
   "cell_type": "code",
   "execution_count": 132,
   "metadata": {},
   "outputs": [
    {
     "name": "stdout",
     "output_type": "stream",
     "text": [
      "(25519, 60, 60, 1) 25519\n",
      "New_Imlist shape (25519, 60, 60, 3)\n",
      "[[1. 0. 0.]\n",
      " [1. 0. 0.]\n",
      " [1. 0. 0.]\n",
      " [1. 0. 0.]\n",
      " [1. 0. 0.]\n",
      " [1. 0. 0.]\n",
      " [1. 0. 0.]\n",
      " [1. 0. 0.]\n",
      " [1. 0. 0.]\n",
      " [1. 0. 0.]\n",
      " [1. 0. 0.]\n",
      " [1. 0. 0.]\n",
      " [1. 0. 0.]\n",
      " [1. 0. 0.]\n",
      " [1. 0. 0.]\n",
      " [1. 0. 0.]\n",
      " [1. 0. 0.]\n",
      " [1. 0. 0.]\n",
      " [1. 0. 0.]\n",
      " [1. 0. 0.]\n",
      " [1. 0. 0.]\n",
      " [1. 0. 0.]\n",
      " [1. 0. 0.]\n",
      " [1. 0. 0.]\n",
      " [1. 0. 0.]\n",
      " [1. 0. 0.]\n",
      " [1. 0. 0.]\n",
      " [1. 0. 0.]\n",
      " [1. 0. 0.]\n",
      " [1. 0. 0.]\n",
      " [1. 0. 0.]\n",
      " [1. 0. 0.]\n",
      " [1. 0. 0.]\n",
      " [1. 0. 0.]\n",
      " [1. 0. 0.]\n",
      " [1. 0. 0.]\n",
      " [1. 0. 0.]\n",
      " [1. 0. 0.]\n",
      " [1. 0. 0.]\n",
      " [1. 0. 0.]\n",
      " [1. 0. 0.]\n",
      " [1. 0. 0.]\n",
      " [1. 0. 0.]\n",
      " [1. 0. 0.]\n",
      " [1. 0. 0.]\n",
      " [1. 0. 0.]\n",
      " [1. 0. 0.]\n",
      " [1. 0. 0.]\n",
      " [1. 0. 0.]\n",
      " [1. 0. 0.]\n",
      " [1. 0. 0.]\n",
      " [1. 0. 0.]\n",
      " [1. 0. 0.]\n",
      " [1. 0. 0.]\n",
      " [1. 0. 0.]\n",
      " [1. 0. 0.]\n",
      " [1. 0. 0.]\n",
      " [1. 0. 0.]\n",
      " [1. 0. 0.]\n",
      " [1. 0. 0.]]\n"
     ]
    }
   ],
   "source": [
    "# Imlist is a numpy array with 14366 entries. Each entry has 26 rows and 26 columns\n",
    "# We now turn all this data into a single column of data\n",
    "# Each pixel value of each image is now separate and we can use it separately to process deep learning\n",
    "Imlist_redo=Imlist.reshape((-1,60,60,1)) #Was 26x26 originally\n",
    "print(np.shape(Imlist_redo), len(Imlist_redo))\n",
    "\n",
    "# In order to process deep learning, we have to use data composed by 1 only. In other words we have to\n",
    "# change the data of 0-blank, 1-clean diw, 2- defect die into a data set composed of 1 only. We have to\n",
    "# transform the dataset into a sequence of 1s for deep learning.\n",
    "# for 0.0 we will use [1, 0, 0]\n",
    "# for 1.0 we will use [0, 1, 0]\n",
    "# for 2.0 we will use [0, 0, 1]\n",
    "\n",
    "new_Imlist = np.zeros((len(Imlist_redo), 60, 60, 3)) #was 26x26 instead of 60x60\n",
    "\n",
    "for w in range(len(Imlist_redo)):\n",
    "    for i in range(60):\n",
    "        for j in range(60):\n",
    "            new_Imlist[w, i, j, int(Imlist_redo[w, i, j])] = 1\n",
    "\n",
    "print(\"New_Imlist shape\", np.shape(new_Imlist))\n",
    "print(new_Imlist[0][1])"
   ]
  },
  {
   "cell_type": "markdown",
   "metadata": {},
   "source": [
    "A Convolutional based Encoder-Decoder Neural Network is an encoder-decoder neural network that consists of a encoder neural network and a decoder neural network in which one or both are convolutional neural networks. \n",
    "\n",
    "An encoder is a network that takes the input, and output a feature map/vector/tensor. These feature vector hold the information, the features, that represents the input. The decoder is again a network (usually the same network structure as encoder but in opposite orientation) that takes the feature vector from the encoder, and gives the best closest match to the actual input or intended output.\n",
    "\n",
    "Once trained, the encoder will gives feature vector for input that can be use by decoder to construct the input with the features that matter the most to make the reconstructed input recognizable as the actual input."
   ]
  },
  {
   "cell_type": "code",
   "execution_count": 139,
   "metadata": {},
   "outputs": [],
   "source": [
    "# Stochastic gradient descent is an iterative learning algorithm that uses a training dataset to update a model.\n",
    "# The batch size is a hyperparameter of gradient descent that controls the number of training samples to work \n",
    "# through before the model’s internal parameters are updated.The number of epochs is a hyperparameter of gradient \n",
    "# descent that controls the number of complete passes through the training dataset.\n",
    "\n",
    "# One epoch is when entire dataset is passed forward and backward through network once\n",
    "# But instead we train the dataset into different batches and pass it through\n",
    "# If 2000 data samples, divide into 500 batch size, it will take 4 iterations to run 1 epoch\n",
    "epoch=10\n",
    "batch_size=4000\n",
    "\n",
    "input_shape = (60, 60, 3) #Original code was 26 instead of 60x60\n",
    "input_tensor = Input(input_shape)\n",
    "\n",
    "'''\n",
    "Set up the encode layer. Relu activation function, in this case, just keep the values we are convoluting, \n",
    "and it let us do the same for the output tensor created.\n",
    "'''\n",
    "encode = layers.Conv2D(64, (3,3), padding='same', activation='relu')(input_tensor)\n",
    "\n",
    "'''\n",
    "Now that the encoder is settled, we have to code the latent vector, which is the last part of the encoder, and \n",
    "it aims to encapsulate the information for all input elements in order to help the decoder make accurate \n",
    "predictions. It acts as the initial hidden state of the decoder part of the model.\n",
    "'''\n",
    "\n",
    "#Only the highest value of a region is kept.Max pooling is keeping the most activated pixels (ones with the highest \n",
    "#values) and discards the rest.\n",
    "\n",
    "latent_vector = layers.MaxPool2D()(encode)\n",
    "encoder = models.Model(input_tensor, latent_vector)\n",
    "\n",
    "'''\n",
    "And now the decoder, and then connecting all the layers, to finally have the predicted output tensor. A stack of \n",
    "several recurrent units where each predicts an outputEach recurrent unit accepts a hidden state from the previous \n",
    "unit and produces and output as well as its own hidden state.\n",
    "'''\n",
    "\n",
    "#It is the transposed convolution layer, so the inverse step as the encoder\n",
    "decode_layer_1 = layers.Conv2DTranspose(64, (3,3), padding='same', activation='relu') \n",
    "\n",
    "#Repeats the rows and columns of the data by size[0] and size[1] respectively.\n",
    "decode_layer_2 = layers.UpSampling2D() \n",
    "output_tensor = layers.Conv2DTranspose(3, (3,3), padding='same', activation='sigmoid')\n",
    "\n",
    "#After having regarding the shape I needed for the start of the decoder, I have to define it.\n",
    "decoder_input = Input((30, 30, 64)) #decoder input was 13, 13, 64\n",
    "decode = decode_layer_1(decoder_input)\n",
    "decode = decode_layer_2(decode)\n",
    "\n",
    "decoder = models.Model(decoder_input, output_tensor(decode))\n",
    "\n",
    "#Now we have all the model, let's prepare the dataset, with normal wafers, and noised wafers, so that we will have some \n",
    "#data to make the machine predict their label\n",
    "\n",
    "encoded_Im = encoder.predict(new_Imlist)\n",
    "noised_encoded_Im = encoded_Im + np.random.normal(loc=0, scale=0.1, size = (len(encoded_Im), 30, 30, 64))\n",
    "# original code was 13, 13, 64 instead of 30, 30, 64 representing 26x26"
   ]
  },
  {
   "cell_type": "code",
   "execution_count": 136,
   "metadata": {},
   "outputs": [
    {
     "name": "stdout",
     "output_type": "stream",
     "text": [
      "Center : 4294\n",
      "Donut : 555\n",
      "Edge-Loc : 5189\n",
      "Edge-Ring : 9680\n",
      "Loc : 3593\n",
      "Near-full : 149\n",
      "Random : 866\n",
      "Scratch : 1193\n",
      "(25519, 60, 60, 3) (25519, 1)\n"
     ]
    }
   ],
   "source": [
    "#Now we can see the shape of our lists, just to now how big is our dataset\n",
    "for l in np.unique(label) :\n",
    "    print('{} : {}'.format(l, len(label[label==l])))\n",
    "print(np.shape(new_Imlist), np.shape(label))"
   ]
  },
  {
   "cell_type": "markdown",
   "metadata": {},
   "source": [
    "We can see that this classification is not uniform and it creates a biased distribution of defect types in the dataset. We also do not have sufficient data that has labels and defect patterns. Once we remove unlabeled data and the wafers without defect patterns, we have only 877 entries."
   ]
  },
  {
   "cell_type": "code",
   "execution_count": 143,
   "metadata": {},
   "outputs": [
    {
     "name": "stdout",
     "output_type": "stream",
     "text": [
      "(20000, 8)\n",
      "(13400, 60, 60, 3) (6600, 60, 60, 3) (13400, 8) (6600, 8)\n"
     ]
    }
   ],
   "source": [
    "#In order to process the test, we need a matrix of labels\n",
    "for i, l in enumerate(np.unique(label)):\n",
    "    label[label==l] = i\n",
    "    \n",
    "label = tf.keras.utils.to_categorical(label)\n",
    "\n",
    "#Now we know this information, we can lower the heavyness of the dataset, because it is too huge\n",
    "new_IMLIST=new_Imlist[0:20000]\n",
    "new_LABEL=label[0:20000]\n",
    "test_Imlist=new_Imlist[20001:25519]\n",
    "test_label=label[20001:25519]\n",
    "print(np.shape(new_LABEL))\n",
    "\n",
    "im_train, im_test, label_train, label_test = train_test_split(new_IMLIST, new_LABEL, test_size=0.33, random_state=2019)\n",
    "print(np.shape(im_train),np.shape(im_test),np.shape(label_train),np.shape(label_test))"
   ]
  },
  {
   "cell_type": "code",
   "execution_count": 144,
   "metadata": {},
   "outputs": [],
   "source": [
    "#Let's now create the real model we will use for the CNN test\n",
    "def create_model():\n",
    "    input_shape = (60, 60, 3) #was 26x26x3\n",
    "    input_tensor = Input(input_shape)\n",
    "\n",
    "    conv_1 = layers.Conv2D(16, (3,3), activation='relu', padding='same')(input_tensor)\n",
    "    conv_2 = layers.Conv2D(64, (3,3), activation='relu', padding='same')(conv_1)\n",
    "    conv_3 = layers.Conv2D(128, (3,3), activation='relu', padding='same')(conv_2)\n",
    "\n",
    "    flat = layers.Flatten()(conv_3)\n",
    "\n",
    "    dense_1 = layers.Dense(512, activation='relu')(flat)\n",
    "    dense_2 = layers.Dense(128, activation='relu')(dense_1)\n",
    "    output_tensor = layers.Dense(8, activation='softmax')(dense_2)\n",
    "\n",
    "    model = models.Model(input_tensor, output_tensor)\n",
    "    model.compile(optimizer='Adam',\n",
    "                 loss='categorical_crossentropy',\n",
    "                 metrics=['accuracy'])\n",
    "\n",
    "    return model"
   ]
  },
  {
   "cell_type": "code",
   "execution_count": 146,
   "metadata": {},
   "outputs": [
    {
     "name": "stdout",
     "output_type": "stream",
     "text": [
      "Epoch 1/10\n",
      "3/3 - 114s - loss: 20.7536 - accuracy: 0.4095 - 114s/epoch - 38s/step\n",
      "Epoch 2/10\n",
      "3/3 - 106s - loss: 9.1430 - accuracy: 0.1725 - 106s/epoch - 35s/step\n",
      "Epoch 3/10\n",
      "3/3 - 112s - loss: 1.8487 - accuracy: 0.4332 - 112s/epoch - 37s/step\n",
      "Epoch 4/10\n",
      "3/3 - 107s - loss: 1.6320 - accuracy: 0.4332 - 107s/epoch - 36s/step\n",
      "Epoch 5/10\n",
      "3/3 - 99s - loss: 1.6058 - accuracy: 0.4332 - 99s/epoch - 33s/step\n",
      "Epoch 6/10\n",
      "3/3 - 96s - loss: 1.5951 - accuracy: 0.4332 - 96s/epoch - 32s/step\n",
      "Epoch 7/10\n",
      "3/3 - 97s - loss: 1.5809 - accuracy: 0.4332 - 97s/epoch - 32s/step\n",
      "Epoch 8/10\n",
      "3/3 - 96s - loss: 1.5843 - accuracy: 0.4332 - 96s/epoch - 32s/step\n",
      "Epoch 9/10\n",
      "3/3 - 98s - loss: 1.5866 - accuracy: 0.4332 - 98s/epoch - 33s/step\n",
      "Epoch 10/10\n",
      "3/3 - 91s - loss: 1.5878 - accuracy: 0.4332 - 91s/epoch - 30s/step\n",
      "2/2 - 12s - loss: 1.6015 - accuracy: 0.4303 - 12s/epoch - 6s/step\n",
      "Epoch 1/10\n",
      "3/3 - 109s - loss: 52.0327 - accuracy: 0.2215 - 109s/epoch - 36s/step\n",
      "Epoch 2/10\n",
      "3/3 - 98s - loss: 9.7338 - accuracy: 0.3268 - 98s/epoch - 33s/step\n",
      "Epoch 3/10\n",
      "3/3 - 97s - loss: 2.2027 - accuracy: 0.1518 - 97s/epoch - 32s/step\n",
      "Epoch 4/10\n",
      "3/3 - 98s - loss: 1.9052 - accuracy: 0.4318 - 98s/epoch - 33s/step\n",
      "Epoch 5/10\n",
      "3/3 - 90s - loss: 1.7022 - accuracy: 0.4318 - 90s/epoch - 30s/step\n",
      "Epoch 6/10\n",
      "3/3 - 90s - loss: 1.6013 - accuracy: 0.4318 - 90s/epoch - 30s/step\n",
      "Epoch 7/10\n",
      "3/3 - 95s - loss: 1.6054 - accuracy: 0.4318 - 95s/epoch - 32s/step\n",
      "Epoch 8/10\n",
      "3/3 - 97s - loss: 1.5878 - accuracy: 0.4318 - 97s/epoch - 32s/step\n",
      "Epoch 9/10\n",
      "3/3 - 92s - loss: 1.5808 - accuracy: 0.4318 - 92s/epoch - 31s/step\n",
      "Epoch 10/10\n",
      "3/3 - 94s - loss: 1.5836 - accuracy: 0.4318 - 94s/epoch - 31s/step\n",
      "2/2 - 12s - loss: 1.5779 - accuracy: 0.4332 - 12s/epoch - 6s/step\n",
      "Epoch 1/10\n",
      "3/3 - 105s - loss: 10.6765 - accuracy: 0.3981 - 105s/epoch - 35s/step\n",
      "Epoch 2/10\n",
      "3/3 - 94s - loss: 3.4534 - accuracy: 0.2123 - 94s/epoch - 31s/step\n",
      "Epoch 3/10\n",
      "3/3 - 93s - loss: 1.7743 - accuracy: 0.4317 - 93s/epoch - 31s/step\n",
      "Epoch 4/10\n",
      "3/3 - 89s - loss: 1.6588 - accuracy: 0.4317 - 89s/epoch - 30s/step\n",
      "Epoch 5/10\n",
      "3/3 - 88s - loss: 1.6032 - accuracy: 0.4317 - 88s/epoch - 29s/step\n",
      "Epoch 6/10\n",
      "3/3 - 88s - loss: 1.5926 - accuracy: 0.4317 - 88s/epoch - 29s/step\n",
      "Epoch 7/10\n",
      "3/3 - 88s - loss: 1.5874 - accuracy: 0.4317 - 88s/epoch - 29s/step\n",
      "Epoch 8/10\n",
      "3/3 - 91s - loss: 1.5834 - accuracy: 0.4317 - 91s/epoch - 30s/step\n",
      "Epoch 9/10\n",
      "3/3 - 95s - loss: 1.5832 - accuracy: 0.4317 - 95s/epoch - 32s/step\n",
      "Epoch 10/10\n",
      "3/3 - 93s - loss: 1.5842 - accuracy: 0.4317 - 93s/epoch - 31s/step\n",
      "2/2 - 12s - loss: 1.5683 - accuracy: 0.4333 - 12s/epoch - 6s/step\n",
      "[0.43026641 0.43317664 0.43327361]\n",
      "training accuracy =  0.4322388867537181\n"
     ]
    }
   ],
   "source": [
    "model = KerasClassifier(build_fn=create_model, epochs=10, batch_size=4000, verbose=2) \n",
    "# 3-Fold Crossvalidation\n",
    "kfold = KFold(n_splits=3, shuffle=True, random_state=2019) \n",
    "results = cross_val_score(model, im_train, label_train, cv=kfold)\n",
    "print(results)\n",
    "print(\"training accuracy = \", np.mean(results))"
   ]
  },
  {
   "cell_type": "code",
   "execution_count": 148,
   "metadata": {},
   "outputs": [
    {
     "name": "stdout",
     "output_type": "stream",
     "text": [
      "Epoch 1/10\n",
      "4/4 - 184s - loss: 7.7226 - accuracy: 0.1912 - val_loss: 1.8758 - val_accuracy: 0.1827 - 184s/epoch - 46s/step\n",
      "Epoch 2/10\n",
      "4/4 - 160s - loss: 1.8507 - accuracy: 0.3542 - val_loss: 1.7383 - val_accuracy: 0.4256 - 160s/epoch - 40s/step\n",
      "Epoch 3/10\n",
      "4/4 - 155s - loss: 1.7113 - accuracy: 0.4322 - val_loss: 1.6368 - val_accuracy: 0.4256 - 155s/epoch - 39s/step\n",
      "Epoch 4/10\n",
      "4/4 - 156s - loss: 1.6250 - accuracy: 0.4322 - val_loss: 1.6047 - val_accuracy: 0.4256 - 156s/epoch - 39s/step\n",
      "Epoch 5/10\n",
      "4/4 - 156s - loss: 1.5957 - accuracy: 0.4322 - val_loss: 1.5945 - val_accuracy: 0.4256 - 156s/epoch - 39s/step\n",
      "Epoch 6/10\n",
      "4/4 - 160s - loss: 1.5806 - accuracy: 0.4322 - val_loss: 1.5874 - val_accuracy: 0.4256 - 160s/epoch - 40s/step\n",
      "Epoch 7/10\n",
      "4/4 - 161s - loss: 1.5769 - accuracy: 0.4322 - val_loss: 1.5881 - val_accuracy: 0.4256 - 161s/epoch - 40s/step\n",
      "Epoch 8/10\n",
      "4/4 - 160s - loss: 1.5769 - accuracy: 0.4322 - val_loss: 1.5883 - val_accuracy: 0.4256 - 160s/epoch - 40s/step\n",
      "Epoch 9/10\n",
      "4/4 - 181s - loss: 1.5749 - accuracy: 0.4322 - val_loss: 1.5883 - val_accuracy: 0.4256 - 181s/epoch - 45s/step\n",
      "Epoch 10/10\n",
      "4/4 - 177s - loss: 1.5755 - accuracy: 0.4322 - val_loss: 1.5897 - val_accuracy: 0.4256 - 177s/epoch - 44s/step\n"
     ]
    }
   ],
   "source": [
    "#Now we have done the training is done, let's validate the learning with the test dataset\n",
    "history = model.fit(im_train, label_train, epochs=10, batch_size=4000, validation_data=(im_test, label_test))"
   ]
  },
  {
   "cell_type": "code",
   "execution_count": 149,
   "metadata": {},
   "outputs": [
    {
     "name": "stdout",
     "output_type": "stream",
     "text": [
      "2/2 - 18s - loss: 1.5897 - accuracy: 0.4256 - 18s/epoch - 9s/step\n",
      "Testing Accuracy: 0.4256060719490051\n"
     ]
    }
   ],
   "source": [
    "#And finally let's see what is the testing accuracy\n",
    "\n",
    "score = model.score(im_test, label_test)\n",
    "print('Testing Accuracy:',score)"
   ]
  },
  {
   "cell_type": "code",
   "execution_count": 150,
   "metadata": {},
   "outputs": [
    {
     "data": {
      "image/png": "[encoded data removed]",
      "text/plain": [
       "<Figure size 432x288 with 1 Axes>"
      ]
     },
     "metadata": {
      "needs_background": "light"
     },
     "output_type": "display_data"
    },
    {
     "data": {
      "image/png": "[encoded data removed]",
      "text/plain": [
       "<Figure size 432x288 with 1 Axes>"
      ]
     },
     "metadata": {
      "needs_background": "light"
     },
     "output_type": "display_data"
    }
   ],
   "source": [
    "#Let's now plot the differnces in the losses and the accuracies between the training and the test\n",
    "plt.plot(history.history['accuracy'])\n",
    "plt.plot(history.history['val_accuracy'])\n",
    "plt.title('model accuracy')\n",
    "plt.ylabel('accuracy')\n",
    "plt.xlabel('epoch')\n",
    "plt.legend(['train', 'test'], loc='upper left')\n",
    "plt.show()\n",
    "\n",
    "plt.plot(history.history['loss'])\n",
    "plt.plot(history.history['val_loss'])\n",
    "plt.title('model loss')\n",
    "plt.ylabel('loss')\n",
    "plt.xlabel('epoch')\n",
    "plt.legend(['train', 'test'], loc='upper left')\n",
    "plt.show()"
   ]
  },
  {
   "cell_type": "code",
   "execution_count": null,
   "metadata": {},
   "outputs": [],
   "source": []
  }
 ],
 "metadata": {
  "kernelspec": {
   "display_name": "Python 3",
   "language": "python",
   "name": "python3"
  },
  "language_info": {
   "codemirror_mode": {
    "name": "ipython",
    "version": 3
   },
   "file_extension": ".py",
   "mimetype": "text/x-python",
   "name": "python",
   "nbconvert_exporter": "python",
   "pygments_lexer": "ipython3",
   "version": "3.8.3"
  }
 },
 "nbformat": 4,
 "nbformat_minor": 4
}
