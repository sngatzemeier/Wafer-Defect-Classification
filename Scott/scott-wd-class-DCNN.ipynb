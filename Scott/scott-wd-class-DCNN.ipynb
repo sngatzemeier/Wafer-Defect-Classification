{
 "cells": [
  {
   "cell_type": "code",
   "execution_count": 109,
   "metadata": {
    "_cell_guid": "b1076dfc-b9ad-4769-8c92-a6c4dae69d19",
    "_uuid": "8f2839f25d086af736a60e9eeb907d3b93b6e0e5"
   },
   "outputs": [],
   "source": [
    "# This Python 3 environment comes with many helpful analytics libraries installed\n",
    "# It is defined by the kaggle/python docker image: https://github.com/kaggle/docker-python\n",
    "# For example, here's several helpful packages to load in \n",
    "\n",
    "import numpy as np # linear algebra\n",
    "import pandas as pd # data processing, CSV file I/O (e.g. pd.read_csv)\n",
    "\n",
    "# Input data files are available in the \"../input/\" directory.\n",
    "# For example, running this (by clicking run or pressing Shift+Enter) will list all files under the input directory\n",
    "\n",
    "import os\n",
    "for dirname, _, filenames in os.walk('/kaggle/input'):\n",
    "    for filename in filenames:\n",
    "        print(os.path.join(dirname, filename))\n",
    "\n",
    "# Any results you write to the current directory are saved as output."
   ]
  },
  {
   "cell_type": "code",
   "execution_count": 110,
   "metadata": {
    "_cell_guid": "79c7e3d0-c299-4dcb-8224-4455121ee9b0",
    "_uuid": "d629ff2d2480ee46fbb7e2d37f6b5fab8052498a"
   },
   "outputs": [
    {
     "name": "stdout",
     "output_type": "stream",
     "text": [
      "Requirement already satisfied: tensorflow in c:\\users\\scott\\anaconda3\\lib\\site-packages (2.8.0)\n",
      "Requirement already satisfied: absl-py>=0.4.0 in c:\\users\\scott\\anaconda3\\lib\\site-packages (from tensorflow) (1.0.0)\n",
      "Requirement already satisfied: keras<2.9,>=2.8.0rc0 in c:\\users\\scott\\anaconda3\\lib\\site-packages (from tensorflow) (2.8.0)\n",
      "Requirement already satisfied: protobuf>=3.9.2 in c:\\users\\scott\\anaconda3\\lib\\site-packages (from tensorflow) (3.19.4)\n",
      "Requirement already satisfied: flatbuffers>=1.12 in c:\\users\\scott\\anaconda3\\lib\\site-packages (from tensorflow) (2.0)\n",
      "Requirement already satisfied: tf-estimator-nightly==2.8.0.dev2021122109 in c:\\users\\scott\\anaconda3\\lib\\site-packages (from tensorflow) (2.8.0.dev2021122109)\n",
      "Requirement already satisfied: keras-preprocessing>=1.1.1 in c:\\users\\scott\\anaconda3\\lib\\site-packages (from tensorflow) (1.1.2)\n",
      "Requirement already satisfied: numpy>=1.20 in c:\\users\\scott\\anaconda3\\lib\\site-packages (from tensorflow) (1.21.2)\n",
      "Requirement already satisfied: tensorflow-io-gcs-filesystem>=0.23.1 in c:\\users\\scott\\anaconda3\\lib\\site-packages (from tensorflow) (0.24.0)\n",
      "Requirement already satisfied: setuptools in c:\\users\\scott\\anaconda3\\lib\\site-packages (from tensorflow) (58.0.4)\n",
      "Requirement already satisfied: opt-einsum>=2.3.2 in c:\\users\\scott\\anaconda3\\lib\\site-packages (from tensorflow) (3.3.0)\n",
      "Requirement already satisfied: typing-extensions>=3.6.6 in c:\\users\\scott\\anaconda3\\lib\\site-packages (from tensorflow) (3.10.0.2)\n",
      "Requirement already satisfied: tensorboard<2.9,>=2.8 in c:\\users\\scott\\anaconda3\\lib\\site-packages (from tensorflow) (2.8.0)\n",
      "Requirement already satisfied: termcolor>=1.1.0 in c:\\users\\scott\\anaconda3\\lib\\site-packages (from tensorflow) (1.1.0)\n",
      "Requirement already satisfied: wrapt>=1.11.0 in c:\\users\\scott\\anaconda3\\lib\\site-packages (from tensorflow) (1.13.3)\n",
      "Requirement already satisfied: google-pasta>=0.1.1 in c:\\users\\scott\\anaconda3\\lib\\site-packages (from tensorflow) (0.2.0)\n",
      "Requirement already satisfied: gast>=0.2.1 in c:\\users\\scott\\anaconda3\\lib\\site-packages (from tensorflow) (0.5.3)\n",
      "Requirement already satisfied: grpcio<2.0,>=1.24.3 in c:\\users\\scott\\anaconda3\\lib\\site-packages (from tensorflow) (1.43.0)\n",
      "Requirement already satisfied: libclang>=9.0.1 in c:\\users\\scott\\anaconda3\\lib\\site-packages (from tensorflow) (13.0.0)\n",
      "Requirement already satisfied: six>=1.12.0 in c:\\users\\scott\\anaconda3\\lib\\site-packages (from tensorflow) (1.16.0)\n",
      "Requirement already satisfied: h5py>=2.9.0 in c:\\users\\scott\\anaconda3\\lib\\site-packages (from tensorflow) (2.10.0)\n",
      "Requirement already satisfied: astunparse>=1.6.0 in c:\\users\\scott\\anaconda3\\lib\\site-packages (from tensorflow) (1.6.3)\n",
      "Requirement already satisfied: wheel<1.0,>=0.23.0 in c:\\users\\scott\\anaconda3\\lib\\site-packages (from astunparse>=1.6.0->tensorflow) (0.37.1)\n",
      "Requirement already satisfied: tensorboard-data-server<0.7.0,>=0.6.0 in c:\\users\\scott\\anaconda3\\lib\\site-packages (from tensorboard<2.9,>=2.8->tensorflow) (0.6.1)\n",
      "Requirement already satisfied: werkzeug>=0.11.15 in c:\\users\\scott\\anaconda3\\lib\\site-packages (from tensorboard<2.9,>=2.8->tensorflow) (2.0.2)\n",
      "Requirement already satisfied: markdown>=2.6.8 in c:\\users\\scott\\anaconda3\\lib\\site-packages (from tensorboard<2.9,>=2.8->tensorflow) (3.3.6)\n",
      "Requirement already satisfied: google-auth<3,>=1.6.3 in c:\\users\\scott\\anaconda3\\lib\\site-packages (from tensorboard<2.9,>=2.8->tensorflow) (2.6.0)\n",
      "Requirement already satisfied: tensorboard-plugin-wit>=1.6.0 in c:\\users\\scott\\anaconda3\\lib\\site-packages (from tensorboard<2.9,>=2.8->tensorflow) (1.8.1)\n",
      "Requirement already satisfied: requests<3,>=2.21.0 in c:\\users\\scott\\anaconda3\\lib\\site-packages (from tensorboard<2.9,>=2.8->tensorflow) (2.27.1)\n",
      "Requirement already satisfied: google-auth-oauthlib<0.5,>=0.4.1 in c:\\users\\scott\\anaconda3\\lib\\site-packages (from tensorboard<2.9,>=2.8->tensorflow) (0.4.6)\n",
      "Requirement already satisfied: rsa<5,>=3.1.4 in c:\\users\\scott\\anaconda3\\lib\\site-packages (from google-auth<3,>=1.6.3->tensorboard<2.9,>=2.8->tensorflow) (4.8)\n",
      "Requirement already satisfied: cachetools<6.0,>=2.0.0 in c:\\users\\scott\\anaconda3\\lib\\site-packages (from google-auth<3,>=1.6.3->tensorboard<2.9,>=2.8->tensorflow) (5.0.0)\n",
      "Requirement already satisfied: pyasn1-modules>=0.2.1 in c:\\users\\scott\\anaconda3\\lib\\site-packages (from google-auth<3,>=1.6.3->tensorboard<2.9,>=2.8->tensorflow) (0.2.8)\n",
      "Requirement already satisfied: requests-oauthlib>=0.7.0 in c:\\users\\scott\\anaconda3\\lib\\site-packages (from google-auth-oauthlib<0.5,>=0.4.1->tensorboard<2.9,>=2.8->tensorflow) (1.3.1)\n",
      "Requirement already satisfied: importlib-metadata>=4.4 in c:\\users\\scott\\anaconda3\\lib\\site-packages (from markdown>=2.6.8->tensorboard<2.9,>=2.8->tensorflow) (4.8.2)\n",
      "Requirement already satisfied: zipp>=0.5 in c:\\users\\scott\\anaconda3\\lib\\site-packages (from importlib-metadata>=4.4->markdown>=2.6.8->tensorboard<2.9,>=2.8->tensorflow) (3.7.0)\n",
      "Requirement already satisfied: pyasn1<0.5.0,>=0.4.6 in c:\\users\\scott\\anaconda3\\lib\\site-packages (from pyasn1-modules>=0.2.1->google-auth<3,>=1.6.3->tensorboard<2.9,>=2.8->tensorflow) (0.4.8)\n",
      "Requirement already satisfied: urllib3<1.27,>=1.21.1 in c:\\users\\scott\\anaconda3\\lib\\site-packages (from requests<3,>=2.21.0->tensorboard<2.9,>=2.8->tensorflow) (1.26.8)\n",
      "Requirement already satisfied: certifi>=2017.4.17 in c:\\users\\scott\\anaconda3\\lib\\site-packages (from requests<3,>=2.21.0->tensorboard<2.9,>=2.8->tensorflow) (2021.10.8)\n",
      "Requirement already satisfied: charset-normalizer~=2.0.0 in c:\\users\\scott\\anaconda3\\lib\\site-packages (from requests<3,>=2.21.0->tensorboard<2.9,>=2.8->tensorflow) (2.0.4)\n",
      "Requirement already satisfied: idna<4,>=2.5 in c:\\users\\scott\\anaconda3\\lib\\site-packages (from requests<3,>=2.21.0->tensorboard<2.9,>=2.8->tensorflow) (3.3)\n",
      "Requirement already satisfied: oauthlib>=3.0.0 in c:\\users\\scott\\anaconda3\\lib\\site-packages (from requests-oauthlib>=0.7.0->google-auth-oauthlib<0.5,>=0.4.1->tensorboard<2.9,>=2.8->tensorflow) (3.2.0)\n"
     ]
    }
   ],
   "source": [
    "import os\n",
    "from os.path import join\n",
    "\n",
    "import numpy as np\n",
    "import pandas as pd\n",
    "\n",
    "!pip install tensorflow\n",
    "import tensorflow as tf\n",
    "import keras\n",
    "from keras import layers, Input, models\n",
    "# from keras.utils import to_categorical\n",
    "from tensorflow.keras.utils import to_categorical\n",
    "from keras.wrappers.scikit_learn import KerasClassifier \n",
    "from sklearn.model_selection import KFold \n",
    "from sklearn.model_selection import cross_val_score\n",
    "\n",
    "from sklearn.model_selection import train_test_split\n",
    "\n",
    "import matplotlib.pyplot as plt\n",
    "\n",
    "datapath = join('data', 'wafer')\n",
    "\n",
    "# print(os.listdir(\"../input\"))\n",
    "import warnings\n",
    "warnings.filterwarnings(\"ignore\")"
   ]
  },
  {
   "cell_type": "code",
   "execution_count": 233,
   "metadata": {},
   "outputs": [
    {
     "name": "stdout",
     "output_type": "stream",
     "text": [
      "<class 'pandas.core.frame.DataFrame'>\n",
      "RangeIndex: 811457 entries, 0 to 811456\n",
      "Data columns (total 6 columns):\n",
      " #   Column          Non-Null Count   Dtype  \n",
      "---  ------          --------------   -----  \n",
      " 0   waferMap        811457 non-null  object \n",
      " 1   dieSize         811457 non-null  float64\n",
      " 2   lotName         811457 non-null  object \n",
      " 3   waferIndex      811457 non-null  float64\n",
      " 4   trianTestLabel  811457 non-null  object \n",
      " 5   failureType     811457 non-null  object \n",
      "dtypes: float64(2), object(4)\n",
      "memory usage: 37.1+ MB\n"
     ]
    }
   ],
   "source": [
    "df=pd.read_pickle(\"LSWMD.pkl\")\n",
    "df.info()"
   ]
  },
  {
   "cell_type": "code",
   "execution_count": 234,
   "metadata": {},
   "outputs": [
    {
     "data": {
      "text/html": [
       "<div>\n",
       "<style scoped>\n",
       "    .dataframe tbody tr th:only-of-type {\n",
       "        vertical-align: middle;\n",
       "    }\n",
       "\n",
       "    .dataframe tbody tr th {\n",
       "        vertical-align: top;\n",
       "    }\n",
       "\n",
       "    .dataframe thead th {\n",
       "        text-align: right;\n",
       "    }\n",
       "</style>\n",
       "<table border=\"1\" class=\"dataframe\">\n",
       "  <thead>\n",
       "    <tr style=\"text-align: right;\">\n",
       "      <th></th>\n",
       "      <th>waferMap</th>\n",
       "      <th>dieSize</th>\n",
       "      <th>lotName</th>\n",
       "      <th>waferIndex</th>\n",
       "      <th>trianTestLabel</th>\n",
       "      <th>failureType</th>\n",
       "    </tr>\n",
       "  </thead>\n",
       "  <tbody>\n",
       "    <tr>\n",
       "      <th>811452</th>\n",
       "      <td>[[0, 0, 0, 0, 0, 0, 0, 0, 0, 0, 0, 1, 2, 1, 1,...</td>\n",
       "      <td>600.0</td>\n",
       "      <td>lot47542</td>\n",
       "      <td>23.0</td>\n",
       "      <td>[[Test]]</td>\n",
       "      <td>[[Edge-Ring]]</td>\n",
       "    </tr>\n",
       "    <tr>\n",
       "      <th>811453</th>\n",
       "      <td>[[0, 0, 0, 0, 0, 0, 0, 0, 0, 0, 0, 2, 2, 1, 1,...</td>\n",
       "      <td>600.0</td>\n",
       "      <td>lot47542</td>\n",
       "      <td>24.0</td>\n",
       "      <td>[[Test]]</td>\n",
       "      <td>[[Edge-Loc]]</td>\n",
       "    </tr>\n",
       "    <tr>\n",
       "      <th>811454</th>\n",
       "      <td>[[0, 0, 0, 0, 0, 0, 0, 0, 0, 0, 0, 1, 2, 1, 1,...</td>\n",
       "      <td>600.0</td>\n",
       "      <td>lot47542</td>\n",
       "      <td>25.0</td>\n",
       "      <td>[[Test]]</td>\n",
       "      <td>[[Edge-Ring]]</td>\n",
       "    </tr>\n",
       "    <tr>\n",
       "      <th>811455</th>\n",
       "      <td>[[0, 0, 0, 0, 0, 0, 0, 0, 0, 0, 0, 1, 1, 1, 1,...</td>\n",
       "      <td>600.0</td>\n",
       "      <td>lot47543</td>\n",
       "      <td>1.0</td>\n",
       "      <td>[]</td>\n",
       "      <td>[]</td>\n",
       "    </tr>\n",
       "    <tr>\n",
       "      <th>811456</th>\n",
       "      <td>[[0, 0, 0, 0, 0, 0, 0, 0, 0, 0, 0, 1, 2, 1, 1,...</td>\n",
       "      <td>600.0</td>\n",
       "      <td>lot47543</td>\n",
       "      <td>2.0</td>\n",
       "      <td>[]</td>\n",
       "      <td>[]</td>\n",
       "    </tr>\n",
       "  </tbody>\n",
       "</table>\n",
       "</div>"
      ],
      "text/plain": [
       "                                                 waferMap  dieSize   lotName  \\\n",
       "811452  [[0, 0, 0, 0, 0, 0, 0, 0, 0, 0, 0, 1, 2, 1, 1,...    600.0  lot47542   \n",
       "811453  [[0, 0, 0, 0, 0, 0, 0, 0, 0, 0, 0, 2, 2, 1, 1,...    600.0  lot47542   \n",
       "811454  [[0, 0, 0, 0, 0, 0, 0, 0, 0, 0, 0, 1, 2, 1, 1,...    600.0  lot47542   \n",
       "811455  [[0, 0, 0, 0, 0, 0, 0, 0, 0, 0, 0, 1, 1, 1, 1,...    600.0  lot47543   \n",
       "811456  [[0, 0, 0, 0, 0, 0, 0, 0, 0, 0, 0, 1, 2, 1, 1,...    600.0  lot47543   \n",
       "\n",
       "        waferIndex trianTestLabel    failureType  \n",
       "811452        23.0       [[Test]]  [[Edge-Ring]]  \n",
       "811453        24.0       [[Test]]   [[Edge-Loc]]  \n",
       "811454        25.0       [[Test]]  [[Edge-Ring]]  \n",
       "811455         1.0             []             []  \n",
       "811456         2.0             []             []  "
      ]
     },
     "execution_count": 234,
     "metadata": {},
     "output_type": "execute_result"
    }
   ],
   "source": [
    "df.tail()"
   ]
  },
  {
   "cell_type": "code",
   "execution_count": 235,
   "metadata": {},
   "outputs": [],
   "source": [
    "df = df.drop(['waferIndex'], axis = 1)"
   ]
  },
  {
   "cell_type": "code",
   "execution_count": 236,
   "metadata": {},
   "outputs": [
    {
     "data": {
      "text/html": [
       "<div>\n",
       "<style scoped>\n",
       "    .dataframe tbody tr th:only-of-type {\n",
       "        vertical-align: middle;\n",
       "    }\n",
       "\n",
       "    .dataframe tbody tr th {\n",
       "        vertical-align: top;\n",
       "    }\n",
       "\n",
       "    .dataframe thead th {\n",
       "        text-align: right;\n",
       "    }\n",
       "</style>\n",
       "<table border=\"1\" class=\"dataframe\">\n",
       "  <thead>\n",
       "    <tr style=\"text-align: right;\">\n",
       "      <th></th>\n",
       "      <th>waferMap</th>\n",
       "      <th>dieSize</th>\n",
       "      <th>lotName</th>\n",
       "      <th>trianTestLabel</th>\n",
       "      <th>failureType</th>\n",
       "      <th>waferMapDim</th>\n",
       "    </tr>\n",
       "  </thead>\n",
       "  <tbody>\n",
       "    <tr>\n",
       "      <th>261688</th>\n",
       "      <td>[[0, 0, 0, 0, 0, 0, 0, 0, 0, 0, 0, 0, 0, 0, 0,...</td>\n",
       "      <td>1644.0</td>\n",
       "      <td>lot16183</td>\n",
       "      <td>[]</td>\n",
       "      <td>[]</td>\n",
       "      <td>(44, 48)</td>\n",
       "    </tr>\n",
       "    <tr>\n",
       "      <th>526552</th>\n",
       "      <td>[[0, 0, 0, 0, 0, 0, 0, 0, 0, 0, 0, 1, 2, 1, 2,...</td>\n",
       "      <td>515.0</td>\n",
       "      <td>lot32944</td>\n",
       "      <td>[]</td>\n",
       "      <td>[]</td>\n",
       "      <td>(25, 27)</td>\n",
       "    </tr>\n",
       "    <tr>\n",
       "      <th>144432</th>\n",
       "      <td>[[0, 0, 0, 0, 0, 0, 0, 0, 0, 0, 0, 0, 1, 1, 1,...</td>\n",
       "      <td>710.0</td>\n",
       "      <td>lot9312</td>\n",
       "      <td>[]</td>\n",
       "      <td>[]</td>\n",
       "      <td>(32, 29)</td>\n",
       "    </tr>\n",
       "    <tr>\n",
       "      <th>708901</th>\n",
       "      <td>[[0, 0, 0, 0, 0, 0, 0, 0, 0, 0, 0, 0, 2, 2, 2,...</td>\n",
       "      <td>516.0</td>\n",
       "      <td>lot43382</td>\n",
       "      <td>[[Training]]</td>\n",
       "      <td>[[none]]</td>\n",
       "      <td>(25, 27)</td>\n",
       "    </tr>\n",
       "    <tr>\n",
       "      <th>634820</th>\n",
       "      <td>[[0, 0, 0, 0, 0, 0, 0, 0, 0, 0, 0, 0, 1, 1, 1,...</td>\n",
       "      <td>710.0</td>\n",
       "      <td>lot39968</td>\n",
       "      <td>[]</td>\n",
       "      <td>[]</td>\n",
       "      <td>(32, 29)</td>\n",
       "    </tr>\n",
       "  </tbody>\n",
       "</table>\n",
       "</div>"
      ],
      "text/plain": [
       "                                                 waferMap  dieSize   lotName  \\\n",
       "261688  [[0, 0, 0, 0, 0, 0, 0, 0, 0, 0, 0, 0, 0, 0, 0,...   1644.0  lot16183   \n",
       "526552  [[0, 0, 0, 0, 0, 0, 0, 0, 0, 0, 0, 1, 2, 1, 2,...    515.0  lot32944   \n",
       "144432  [[0, 0, 0, 0, 0, 0, 0, 0, 0, 0, 0, 0, 1, 1, 1,...    710.0   lot9312   \n",
       "708901  [[0, 0, 0, 0, 0, 0, 0, 0, 0, 0, 0, 0, 2, 2, 2,...    516.0  lot43382   \n",
       "634820  [[0, 0, 0, 0, 0, 0, 0, 0, 0, 0, 0, 0, 1, 1, 1,...    710.0  lot39968   \n",
       "\n",
       "       trianTestLabel failureType waferMapDim  \n",
       "261688             []          []    (44, 48)  \n",
       "526552             []          []    (25, 27)  \n",
       "144432             []          []    (32, 29)  \n",
       "708901   [[Training]]    [[none]]    (25, 27)  \n",
       "634820             []          []    (32, 29)  "
      ]
     },
     "execution_count": 236,
     "metadata": {},
     "output_type": "execute_result"
    }
   ],
   "source": [
    "def find_dim(x):\n",
    "    dim0=np.size(x,axis=0)\n",
    "    dim1=np.size(x,axis=1)\n",
    "    return dim0,dim1\n",
    "df['waferMapDim']=df.waferMap.apply(find_dim)\n",
    "df.sample(5)"
   ]
  },
  {
   "cell_type": "code",
   "execution_count": 237,
   "metadata": {},
   "outputs": [],
   "source": [
    "df['failureNum']=df.failureType\n",
    "df['trainTestNum']=df.trianTestLabel\n",
    "mapping_type={'Center':0,'Donut':1,'Edge-Loc':2,'Edge-Ring':3,'Loc':4,'Random':5,'Scratch':6,'Near-full':7,'none':8}\n",
    "mapping_traintest={'Training':0,'Test':1}\n",
    "df=df.replace({'failureNum':mapping_type, 'trainTestNum':mapping_traintest})"
   ]
  },
  {
   "cell_type": "code",
   "execution_count": 238,
   "metadata": {},
   "outputs": [
    {
     "data": {
      "text/plain": [
       "811457"
      ]
     },
     "execution_count": 238,
     "metadata": {},
     "output_type": "execute_result"
    }
   ],
   "source": [
    "tol_wafers = df.shape[0]\n",
    "tol_wafers"
   ]
  },
  {
   "cell_type": "code",
   "execution_count": 239,
   "metadata": {},
   "outputs": [
    {
     "data": {
      "text/plain": [
       "(172950, 25519, 147431)"
      ]
     },
     "execution_count": 239,
     "metadata": {},
     "output_type": "execute_result"
    }
   ],
   "source": [
    "df_withlabel = df[(df['failureNum']>=0) & (df['failureNum']<=8)]\n",
    "df_withlabel =df_withlabel.reset_index()\n",
    "df_withpattern = df[(df['failureNum']>=0) & (df['failureNum']<=7)]\n",
    "df_withpattern = df_withpattern.reset_index()\n",
    "df_nonpattern = df[(df['failureNum']==8)]\n",
    "df_withlabel.shape[0], df_withpattern.shape[0], df_nonpattern.shape[0]"
   ]
  },
  {
   "cell_type": "code",
   "execution_count": 240,
   "metadata": {},
   "outputs": [
    {
     "data": {
      "image/png": "[encoded data removed]",
      "text/plain": [
       "<Figure size 1440x324 with 2 Axes>"
      ]
     },
     "metadata": {
      "needs_background": "light"
     },
     "output_type": "display_data"
    }
   ],
   "source": [
    "import matplotlib.pyplot as plt\n",
    "%matplotlib inline\n",
    "\n",
    "from matplotlib import gridspec\n",
    "fig = plt.figure(figsize=(20, 4.5)) \n",
    "gs = gridspec.GridSpec(1, 2, width_ratios=[1, 2.5]) \n",
    "ax1 = plt.subplot(gs[0])\n",
    "ax2 = plt.subplot(gs[1])\n",
    "\n",
    "no_wafers=[tol_wafers-df_withlabel.shape[0], df_withpattern.shape[0], df_nonpattern.shape[0]]\n",
    "\n",
    "colors = ['blue', 'green', 'red']\n",
    "explode = (0.1, 0, 0)  # explode 1st slice\n",
    "labels = ['no-label','label and pattern','label and non-pattern']\n",
    "ax1.pie(no_wafers, explode=explode, labels=labels, colors=colors, autopct='%1.1f%%', shadow=True, startangle=140)\n",
    "\n",
    "uni_pattern=np.unique(df_withpattern.failureNum, return_counts=True)\n",
    "labels2 = ['','Center','Donut','Edge-Loc','Edge-Ring','Loc','Random','Scratch','Near-full']\n",
    "ax2.bar(uni_pattern[0],uni_pattern[1]/df_withpattern.shape[0], color='green', align='center', alpha=0.9)\n",
    "ax2.set_title(\"failure type frequency\")\n",
    "ax2.set_ylabel(\"% of pattern wafers\")\n",
    "ax2.set_xticklabels(labels2)\n",
    "\n",
    "plt.show()"
   ]
  },
  {
   "cell_type": "code",
   "execution_count": 241,
   "metadata": {},
   "outputs": [],
   "source": [
    "sub_df = df.loc[df['waferMapDim'] == (26, 26)]\n",
    "sub_wafer = sub_df['waferMap'].values\n",
    "\n",
    "sw = np.ones((1, 26, 26))\n",
    "label = list()\n",
    "\n",
    "for i in range(len(sub_df)):\n",
    "    # skip null label\n",
    "    if len(sub_df.iloc[i,:]['failureType']) == 0:\n",
    "        continue\n",
    "    sw = np.concatenate((sw, sub_df.iloc[i,:]['waferMap'].reshape(1, 26, 26)))\n",
    "    label.append(sub_df.iloc[i,:]['failureType'][0][0])"
   ]
  },
  {
   "cell_type": "code",
   "execution_count": 242,
   "metadata": {},
   "outputs": [],
   "source": [
    "x = sw[1:]\n",
    "y = np.array(label).reshape((-1,1))"
   ]
  },
  {
   "cell_type": "code",
   "execution_count": 243,
   "metadata": {},
   "outputs": [
    {
     "name": "stdout",
     "output_type": "stream",
     "text": [
      "[['none']\n",
      " ['none']\n",
      " ['none']\n",
      " ...\n",
      " ['none']\n",
      " ['none']\n",
      " ['none']]\n"
     ]
    }
   ],
   "source": [
    "print(y)"
   ]
  },
  {
   "cell_type": "code",
   "execution_count": 244,
   "metadata": {},
   "outputs": [
    {
     "name": "stdout",
     "output_type": "stream",
     "text": [
      "x shape : (14366, 26, 26), y shape : (14366, 1)\n"
     ]
    }
   ],
   "source": [
    "print('x shape : {}, y shape : {}'.format(x.shape, y.shape))"
   ]
  },
  {
   "cell_type": "code",
   "execution_count": 245,
   "metadata": {},
   "outputs": [
    {
     "data": {
      "image/png": "[encoded data removed]",
      "text/plain": [
       "<Figure size 432x288 with 1 Axes>"
      ]
     },
     "metadata": {
      "needs_background": "light"
     },
     "output_type": "display_data"
    },
    {
     "name": "stdout",
     "output_type": "stream",
     "text": [
      "Faulty case : ['none'] \n"
     ]
    }
   ],
   "source": [
    "# plot 1st data\n",
    "plt.imshow(x[2040])\n",
    "plt.show()\n",
    "\n",
    "# check faulty case\n",
    "print('Faulty case : {} '.format(y[2040]))"
   ]
  },
  {
   "cell_type": "code",
   "execution_count": 246,
   "metadata": {},
   "outputs": [],
   "source": [
    "x = x.reshape((-1, 26, 26, 1))"
   ]
  },
  {
   "cell_type": "code",
   "execution_count": 247,
   "metadata": {},
   "outputs": [
    {
     "name": "stdout",
     "output_type": "stream",
     "text": [
      "Faulty case list : ['Center' 'Donut' 'Edge-Loc' 'Edge-Ring' 'Loc' 'Near-full' 'Random'\n",
      " 'Scratch' 'none']\n"
     ]
    }
   ],
   "source": [
    "faulty_case = np.unique(y)\n",
    "print('Faulty case list : {}'.format(faulty_case))"
   ]
  },
  {
   "cell_type": "code",
   "execution_count": 248,
   "metadata": {},
   "outputs": [
    {
     "name": "stdout",
     "output_type": "stream",
     "text": [
      "Center : 90\n",
      "Donut : 1\n",
      "Edge-Loc : 296\n",
      "Edge-Ring : 31\n",
      "Loc : 297\n",
      "Near-full : 16\n",
      "Random : 74\n",
      "Scratch : 72\n",
      "none : 13489\n"
     ]
    }
   ],
   "source": [
    "for f in faulty_case :\n",
    "    print('{} : {}'.format(f, len(y[y==f])))"
   ]
  },
  {
   "cell_type": "code",
   "execution_count": 249,
   "metadata": {},
   "outputs": [],
   "source": [
    "new_x = np.zeros((len(x), 26, 26, 3))\n",
    "\n",
    "for w in range(len(x)):\n",
    "    for i in range(26):\n",
    "        for j in range(26):\n",
    "            new_x[w, i, j, int(x[w, i, j])] = 1"
   ]
  },
  {
   "cell_type": "code",
   "execution_count": 250,
   "metadata": {},
   "outputs": [
    {
     "data": {
      "text/plain": [
       "(14366, 26, 26, 3)"
      ]
     },
     "execution_count": 250,
     "metadata": {},
     "output_type": "execute_result"
    }
   ],
   "source": [
    "new_x.shape"
   ]
  },
  {
   "cell_type": "code",
   "execution_count": 251,
   "metadata": {},
   "outputs": [],
   "source": [
    "# Encoder\n",
    "input_shape = (26, 26, 3)\n",
    "input_tensor = Input(input_shape)\n",
    "encode = layers.Conv2D(64, (3,3), padding='same', activation='relu')(input_tensor)\n",
    "\n",
    "latent_vector = layers.MaxPool2D()(encode)\n",
    "\n",
    "# Decoder\n",
    "decode_layer_1 = layers.Conv2DTranspose(64, (3,3), padding='same', activation='relu')\n",
    "decode_layer_2 = layers.UpSampling2D()\n",
    "output_tensor = layers.Conv2DTranspose(3, (3,3), padding='same', activation='sigmoid')\n",
    "\n",
    "# connect decoder layers\n",
    "decode = decode_layer_1(latent_vector)\n",
    "decode = decode_layer_2(decode)\n",
    "\n",
    "ae = models.Model(input_tensor, output_tensor(decode))\n",
    "ae.compile(optimizer = 'Adam',\n",
    "              loss = 'mse',\n",
    "             )"
   ]
  },
  {
   "cell_type": "code",
   "execution_count": 252,
   "metadata": {},
   "outputs": [],
   "source": [
    "epoch=30\n",
    "batch_size=1024"
   ]
  },
  {
   "cell_type": "code",
   "execution_count": 253,
   "metadata": {},
   "outputs": [
    {
     "name": "stdout",
     "output_type": "stream",
     "text": [
      "Epoch 1/30\n",
      "15/15 - 13s - loss: 0.1500 - 13s/epoch - 847ms/step\n",
      "Epoch 2/30\n",
      "15/15 - 13s - loss: 0.0926 - 13s/epoch - 847ms/step\n",
      "Epoch 3/30\n",
      "15/15 - 13s - loss: 0.0821 - 13s/epoch - 856ms/step\n",
      "Epoch 4/30\n",
      "15/15 - 13s - loss: 0.0729 - 13s/epoch - 862ms/step\n",
      "Epoch 5/30\n",
      "15/15 - 13s - loss: 0.0643 - 13s/epoch - 853ms/step\n",
      "Epoch 6/30\n",
      "15/15 - 13s - loss: 0.0576 - 13s/epoch - 869ms/step\n",
      "Epoch 7/30\n",
      "15/15 - 13s - loss: 0.0518 - 13s/epoch - 882ms/step\n",
      "Epoch 8/30\n",
      "15/15 - 13s - loss: 0.0467 - 13s/epoch - 885ms/step\n",
      "Epoch 9/30\n",
      "15/15 - 14s - loss: 0.0419 - 14s/epoch - 930ms/step\n",
      "Epoch 10/30\n",
      "15/15 - 14s - loss: 0.0373 - 14s/epoch - 911ms/step\n",
      "Epoch 11/30\n",
      "15/15 - 14s - loss: 0.0333 - 14s/epoch - 928ms/step\n",
      "Epoch 12/30\n",
      "15/15 - 14s - loss: 0.0299 - 14s/epoch - 947ms/step\n",
      "Epoch 13/30\n",
      "15/15 - 15s - loss: 0.0272 - 15s/epoch - 981ms/step\n",
      "Epoch 14/30\n",
      "15/15 - 15s - loss: 0.0248 - 15s/epoch - 999ms/step\n",
      "Epoch 15/30\n",
      "15/15 - 15s - loss: 0.0227 - 15s/epoch - 1s/step\n",
      "Epoch 16/30\n",
      "15/15 - 16s - loss: 0.0209 - 16s/epoch - 1s/step\n",
      "Epoch 17/30\n",
      "15/15 - 16s - loss: 0.0193 - 16s/epoch - 1s/step\n",
      "Epoch 18/30\n",
      "15/15 - 16s - loss: 0.0179 - 16s/epoch - 1s/step\n",
      "Epoch 19/30\n",
      "15/15 - 15s - loss: 0.0167 - 15s/epoch - 1s/step\n",
      "Epoch 20/30\n",
      "15/15 - 15s - loss: 0.0155 - 15s/epoch - 1s/step\n",
      "Epoch 21/30\n",
      "15/15 - 15s - loss: 0.0144 - 15s/epoch - 1s/step\n",
      "Epoch 22/30\n",
      "15/15 - 15s - loss: 0.0134 - 15s/epoch - 1s/step\n",
      "Epoch 23/30\n",
      "15/15 - 15s - loss: 0.0125 - 15s/epoch - 987ms/step\n",
      "Epoch 24/30\n",
      "15/15 - 15s - loss: 0.0116 - 15s/epoch - 991ms/step\n",
      "Epoch 25/30\n",
      "15/15 - 15s - loss: 0.0109 - 15s/epoch - 1s/step\n",
      "Epoch 26/30\n",
      "15/15 - 15s - loss: 0.0102 - 15s/epoch - 975ms/step\n",
      "Epoch 27/30\n",
      "15/15 - 15s - loss: 0.0096 - 15s/epoch - 984ms/step\n",
      "Epoch 28/30\n",
      "15/15 - 15s - loss: 0.0090 - 15s/epoch - 1s/step\n",
      "Epoch 29/30\n",
      "15/15 - 15s - loss: 0.0085 - 15s/epoch - 1s/step\n",
      "Epoch 30/30\n",
      "15/15 - 15s - loss: 0.0080 - 15s/epoch - 1s/step\n"
     ]
    },
    {
     "data": {
      "text/plain": [
       "<keras.callbacks.History at 0x1e52b42af28>"
      ]
     },
     "execution_count": 253,
     "metadata": {},
     "output_type": "execute_result"
    }
   ],
   "source": [
    "# start train\n",
    "ae.fit(new_x, new_x,\n",
    "       batch_size=batch_size,\n",
    "       epochs=epoch,\n",
    "       verbose=2)"
   ]
  },
  {
   "cell_type": "code",
   "execution_count": 254,
   "metadata": {},
   "outputs": [],
   "source": [
    "encoder = models.Model(input_tensor, latent_vector)"
   ]
  },
  {
   "cell_type": "code",
   "execution_count": 255,
   "metadata": {},
   "outputs": [],
   "source": [
    "decoder_input = Input((13, 13, 64))\n",
    "decode = decode_layer_1(decoder_input)\n",
    "decode = decode_layer_2(decode)\n",
    "\n",
    "decoder = models.Model(decoder_input, output_tensor(decode))"
   ]
  },
  {
   "cell_type": "code",
   "execution_count": 256,
   "metadata": {},
   "outputs": [],
   "source": [
    "# Encode original faulty wafer\n",
    "encoded_x = encoder.predict(new_x)"
   ]
  },
  {
   "cell_type": "code",
   "execution_count": 257,
   "metadata": {},
   "outputs": [],
   "source": [
    "# Add noise to encoded latent faulty wafers vector.\n",
    "noised_encoded_x = encoded_x + np.random.normal(loc=0, scale=0.1, size = (len(encoded_x), 13, 13, 64))"
   ]
  },
  {
   "cell_type": "code",
   "execution_count": 258,
   "metadata": {},
   "outputs": [
    {
     "data": {
      "text/plain": [
       "<matplotlib.image.AxesImage at 0x1e68a17c0b8>"
      ]
     },
     "execution_count": 258,
     "metadata": {},
     "output_type": "execute_result"
    },
    {
     "data": {
      "image/png": "[encoded data removed]",
      "text/plain": [
       "<Figure size 432x288 with 1 Axes>"
      ]
     },
     "metadata": {
      "needs_background": "light"
     },
     "output_type": "display_data"
    }
   ],
   "source": [
    "# check original faulty wafer data\n",
    "plt.imshow(np.argmax(new_x[3], axis=2))"
   ]
  },
  {
   "cell_type": "code",
   "execution_count": 259,
   "metadata": {},
   "outputs": [
    {
     "data": {
      "text/plain": [
       "<matplotlib.image.AxesImage at 0x1e52db0aef0>"
      ]
     },
     "execution_count": 259,
     "metadata": {},
     "output_type": "execute_result"
    },
    {
     "data": {
      "image/png": "[encoded data removed]",
      "text/plain": [
       "<Figure size 432x288 with 1 Axes>"
      ]
     },
     "metadata": {
      "needs_background": "light"
     },
     "output_type": "display_data"
    }
   ],
   "source": [
    "# check new noised faulty wafer data\n",
    "#noised_gen_x = np.argmax(decoder.predict(noised_encoded_x), axis=3)\n",
    "plt.imshow(noised_gen_x[3])\n"
   ]
  },
  {
   "cell_type": "code",
   "execution_count": 260,
   "metadata": {},
   "outputs": [],
   "source": [
    "# augment function define\n",
    "def gen_data(wafer, label):\n",
    "    # Encode input wafer\n",
    "    encoded_x = encoder.predict(wafer)\n",
    "    \n",
    "    # dummy array for collecting noised wafer\n",
    "    gen_x = np.zeros((1, 26, 26, 3))\n",
    "    \n",
    "    # Make wafer until total # of wafer to 2000\n",
    "    for i in range((2000//len(wafer)) + 1):\n",
    "        noised_encoded_x = encoded_x + np.random.normal(loc=0, scale=0.1, size = (len(encoded_x), 13, 13, 64)) \n",
    "        noised_gen_x = decoder.predict(noised_encoded_x)\n",
    "        gen_x = np.concatenate((gen_x, noised_gen_x), axis=0)\n",
    "    # also make label vector with same length\n",
    "    gen_y = np.full((len(gen_x), 1), label)\n",
    "    \n",
    "    # return date without 1st dummy data.\n",
    "    return gen_x[1:], gen_y[1:]"
   ]
  },
  {
   "cell_type": "code",
   "execution_count": 261,
   "metadata": {},
   "outputs": [],
   "source": [
    "# Augmentation for all faulty case.\n",
    "for f in faulty_case : \n",
    "    # skip none case\n",
    "    if f == 'none' : \n",
    "        continue\n",
    "    \n",
    "    gen_x, gen_y = gen_data(new_x[np.where(y==f)[0]], f)\n",
    "    new_x = np.concatenate((new_x, gen_x), axis=0)\n",
    "    y = np.concatenate((y, gen_y))"
   ]
  },
  {
   "cell_type": "code",
   "execution_count": 262,
   "metadata": {},
   "outputs": [
    {
     "name": "stdout",
     "output_type": "stream",
     "text": [
      "After Generate new_x shape : (30707, 26, 26, 3), new_y shape : (30707, 1)\n"
     ]
    }
   ],
   "source": [
    "print('After Generate new_x shape : {}, new_y shape : {}'.format(new_x.shape, y.shape))"
   ]
  },
  {
   "cell_type": "code",
   "execution_count": 263,
   "metadata": {},
   "outputs": [
    {
     "name": "stdout",
     "output_type": "stream",
     "text": [
      "Center : 2160\n",
      "Donut : 2002\n",
      "Edge-Loc : 2368\n",
      "Edge-Ring : 2046\n",
      "Loc : 2376\n",
      "Near-full : 2032\n",
      "Random : 2146\n",
      "Scratch : 2088\n",
      "none : 13489\n"
     ]
    }
   ],
   "source": [
    "for f in faulty_case :\n",
    "    print('{} : {}'.format(f, len(y[y==f])))"
   ]
  },
  {
   "cell_type": "code",
   "execution_count": 264,
   "metadata": {},
   "outputs": [],
   "source": [
    "none_idx = np.where(y=='none')[0][np.random.choice(len(np.where(y=='none')[0]), size=11000, replace=False)]"
   ]
  },
  {
   "cell_type": "code",
   "execution_count": 265,
   "metadata": {},
   "outputs": [],
   "source": [
    "new_x = np.delete(new_x, none_idx, axis=0)\n",
    "new_y = np.delete(y, none_idx, axis=0)"
   ]
  },
  {
   "cell_type": "code",
   "execution_count": 266,
   "metadata": {},
   "outputs": [
    {
     "name": "stdout",
     "output_type": "stream",
     "text": [
      "[['none']\n",
      " ['none']\n",
      " ['none']\n",
      " ...\n",
      " ['Scratch']\n",
      " ['Scratch']\n",
      " ['Scratch']]\n"
     ]
    }
   ],
   "source": [
    "print(new_y)"
   ]
  },
  {
   "cell_type": "code",
   "execution_count": 267,
   "metadata": {},
   "outputs": [
    {
     "name": "stdout",
     "output_type": "stream",
     "text": [
      "After Delete \"none\" class new_x shape : (19707, 26, 26, 3), new_y shape : (19707, 1)\n"
     ]
    }
   ],
   "source": [
    "print('After Delete \"none\" class new_x shape : {}, new_y shape : {}'.format(new_x.shape, new_y.shape))"
   ]
  },
  {
   "cell_type": "code",
   "execution_count": 268,
   "metadata": {},
   "outputs": [
    {
     "name": "stdout",
     "output_type": "stream",
     "text": [
      "Center : 2160\n",
      "Donut : 2002\n",
      "Edge-Loc : 2368\n",
      "Edge-Ring : 2046\n",
      "Loc : 2376\n",
      "Near-full : 2032\n",
      "Random : 2146\n",
      "Scratch : 2088\n",
      "none : 2489\n"
     ]
    }
   ],
   "source": [
    "for f in faulty_case :\n",
    "    print('{} : {}'.format(f, len(new_y[new_y==f])))"
   ]
  },
  {
   "cell_type": "code",
   "execution_count": 269,
   "metadata": {},
   "outputs": [],
   "source": [
    "# labels_y = new_y\n",
    "\n",
    "for i, l in enumerate(faulty_case):\n",
    "    new_y[new_y==l] = i\n",
    "    \n",
    "# one-hot-encoding\n",
    "#new_y = to_categorical(new_y)"
   ]
  },
  {
   "cell_type": "code",
   "execution_count": 270,
   "metadata": {},
   "outputs": [
    {
     "data": {
      "text/plain": [
       "(705, 26, 26, 3)"
      ]
     },
     "execution_count": 270,
     "metadata": {},
     "output_type": "execute_result"
    }
   ],
   "source": [
    "new_X=new_x[0:19000]\n",
    "new_Y=new_y[0:19000]\n",
    "test_x=new_x[19001:19706]\n",
    "test_y=new_y[19001:19706]\n",
    "test_x.shape\n",
    "\n",
    "# labels_Y=labels_y[0:19000]\n",
    "# test_labels_y=labels_y[19001:19706]"
   ]
  },
  {
   "cell_type": "code",
   "execution_count": 272,
   "metadata": {},
   "outputs": [],
   "source": [
    "x_train, x_test, y_train, y_test = train_test_split(new_X, new_Y,\n",
    "                                                    test_size=0.33,\n",
    "                                                    random_state=2019)"
   ]
  },
  {
   "cell_type": "code",
   "execution_count": 273,
   "metadata": {},
   "outputs": [],
   "source": [
    "train_labels = y_train\n",
    "test_labels = y_test\n",
    "\n",
    "# one-hot-encoding\n",
    "y_train = to_categorical(y_train)\n",
    "y_test = to_categorical(y_test)"
   ]
  },
  {
   "cell_type": "code",
   "execution_count": 274,
   "metadata": {},
   "outputs": [
    {
     "name": "stdout",
     "output_type": "stream",
     "text": [
      "Train x : (12730, 26, 26, 3), y : (12730, 9)\n",
      "Test x: (6270, 26, 26, 3), y : (6270, 9)\n"
     ]
    }
   ],
   "source": [
    "print('Train x : {}, y : {}'.format(x_train.shape, y_train.shape))\n",
    "print('Test x: {}, y : {}'.format(x_test.shape, y_test.shape))"
   ]
  },
  {
   "cell_type": "code",
   "execution_count": 275,
   "metadata": {},
   "outputs": [],
   "source": [
    "def create_model():\n",
    "    input_shape = (26, 26, 3)\n",
    "    input_tensor = Input(input_shape)\n",
    "\n",
    "    conv_1 = layers.Conv2D(16, (3,3), activation='relu', padding='same')(input_tensor)\n",
    "    conv_2 = layers.Conv2D(64, (3,3), activation='relu', padding='same')(conv_1)\n",
    "    conv_3 = layers.Conv2D(128, (3,3), activation='relu', padding='same')(conv_2)\n",
    "\n",
    "    flat = layers.Flatten()(conv_3)\n",
    "\n",
    "    dense_1 = layers.Dense(512, activation='relu')(flat)\n",
    "    dense_2 = layers.Dense(128, activation='relu')(dense_1)\n",
    "    output_tensor = layers.Dense(9, activation='softmax')(dense_2)\n",
    "\n",
    "    model = models.Model(input_tensor, output_tensor)\n",
    "    model.compile(optimizer='Adam',\n",
    "                 loss='categorical_crossentropy',\n",
    "                 metrics=['accuracy'])\n",
    "\n",
    "    return model"
   ]
  },
  {
   "cell_type": "code",
   "execution_count": 276,
   "metadata": {},
   "outputs": [
    {
     "name": "stdout",
     "output_type": "stream",
     "text": [
      "Epoch 1/30\n",
      "9/9 - 39s - loss: 1.7061 - accuracy: 0.4109 - 39s/epoch - 4s/step\n",
      "Epoch 2/30\n",
      "9/9 - 42s - loss: 0.7074 - accuracy: 0.7363 - 42s/epoch - 5s/step\n",
      "Epoch 3/30\n",
      "9/9 - 45s - loss: 0.4005 - accuracy: 0.8614 - 45s/epoch - 5s/step\n",
      "Epoch 4/30\n",
      "9/9 - 45s - loss: 0.2161 - accuracy: 0.9354 - 45s/epoch - 5s/step\n",
      "Epoch 5/30\n",
      "9/9 - 44s - loss: 0.1092 - accuracy: 0.9718 - 44s/epoch - 5s/step\n",
      "Epoch 6/30\n",
      "9/9 - 45s - loss: 0.0608 - accuracy: 0.9857 - 45s/epoch - 5s/step\n",
      "Epoch 7/30\n",
      "9/9 - 45s - loss: 0.0360 - accuracy: 0.9922 - 45s/epoch - 5s/step\n",
      "Epoch 8/30\n",
      "9/9 - 44s - loss: 1.6351 - accuracy: 0.7891 - 44s/epoch - 5s/step\n",
      "Epoch 9/30\n",
      "9/9 - 44s - loss: 0.4629 - accuracy: 0.8727 - 44s/epoch - 5s/step\n",
      "Epoch 10/30\n",
      "9/9 - 44s - loss: 0.2476 - accuracy: 0.9513 - 44s/epoch - 5s/step\n",
      "Epoch 11/30\n",
      "9/9 - 43s - loss: 0.1073 - accuracy: 0.9817 - 43s/epoch - 5s/step\n",
      "Epoch 12/30\n",
      "9/9 - 44s - loss: 0.0486 - accuracy: 0.9918 - 44s/epoch - 5s/step\n",
      "Epoch 13/30\n",
      "9/9 - 44s - loss: 0.0282 - accuracy: 0.9961 - 44s/epoch - 5s/step\n",
      "Epoch 14/30\n",
      "9/9 - 44s - loss: 0.0208 - accuracy: 0.9965 - 44s/epoch - 5s/step\n",
      "Epoch 15/30\n",
      "9/9 - 44s - loss: 0.0205 - accuracy: 0.9956 - 44s/epoch - 5s/step\n",
      "Epoch 16/30\n",
      "9/9 - 45s - loss: 0.0172 - accuracy: 0.9971 - 45s/epoch - 5s/step\n",
      "Epoch 17/30\n",
      "9/9 - 44s - loss: 0.0133 - accuracy: 0.9978 - 44s/epoch - 5s/step\n",
      "Epoch 18/30\n",
      "9/9 - 45s - loss: 0.0103 - accuracy: 0.9982 - 45s/epoch - 5s/step\n",
      "Epoch 19/30\n",
      "9/9 - 44s - loss: 0.0083 - accuracy: 0.9986 - 44s/epoch - 5s/step\n",
      "Epoch 20/30\n",
      "9/9 - 44s - loss: 0.0060 - accuracy: 0.9988 - 44s/epoch - 5s/step\n",
      "Epoch 21/30\n",
      "9/9 - 44s - loss: 0.0054 - accuracy: 0.9988 - 44s/epoch - 5s/step\n",
      "Epoch 22/30\n",
      "9/9 - 44s - loss: 0.0072 - accuracy: 0.9988 - 44s/epoch - 5s/step\n",
      "Epoch 23/30\n",
      "9/9 - 44s - loss: 0.0069 - accuracy: 0.9986 - 44s/epoch - 5s/step\n",
      "Epoch 24/30\n",
      "9/9 - 43s - loss: 0.0050 - accuracy: 0.9987 - 43s/epoch - 5s/step\n",
      "Epoch 25/30\n",
      "9/9 - 44s - loss: 0.0048 - accuracy: 0.9987 - 44s/epoch - 5s/step\n",
      "Epoch 26/30\n",
      "9/9 - 45s - loss: 0.0039 - accuracy: 0.9989 - 45s/epoch - 5s/step\n",
      "Epoch 27/30\n",
      "9/9 - 45s - loss: 0.0043 - accuracy: 0.9988 - 45s/epoch - 5s/step\n",
      "Epoch 28/30\n",
      "9/9 - 43s - loss: 0.0045 - accuracy: 0.9991 - 43s/epoch - 5s/step\n",
      "Epoch 29/30\n",
      "9/9 - 44s - loss: 0.0040 - accuracy: 0.9989 - 44s/epoch - 5s/step\n",
      "Epoch 30/30\n",
      "9/9 - 43s - loss: 0.0047 - accuracy: 0.9989 - 43s/epoch - 5s/step\n",
      "5/5 - 7s - loss: 0.0252 - accuracy: 0.9908 - 7s/epoch - 1s/step\n",
      "Epoch 1/30\n",
      "9/9 - 44s - loss: 2.2011 - accuracy: 0.3379 - 44s/epoch - 5s/step\n",
      "Epoch 2/30\n",
      "9/9 - 44s - loss: 0.9885 - accuracy: 0.6612 - 44s/epoch - 5s/step\n",
      "Epoch 3/30\n",
      "9/9 - 44s - loss: 0.7684 - accuracy: 0.7391 - 44s/epoch - 5s/step\n",
      "Epoch 4/30\n",
      "9/9 - 43s - loss: 0.5710 - accuracy: 0.8201 - 43s/epoch - 5s/step\n",
      "Epoch 5/30\n",
      "9/9 - 43s - loss: 0.3633 - accuracy: 0.8987 - 43s/epoch - 5s/step\n",
      "Epoch 6/30\n",
      "9/9 - 46s - loss: 0.2257 - accuracy: 0.9328 - 46s/epoch - 5s/step\n",
      "Epoch 7/30\n",
      "9/9 - 43s - loss: 0.1326 - accuracy: 0.9663 - 43s/epoch - 5s/step\n",
      "Epoch 8/30\n",
      "9/9 - 44s - loss: 0.0863 - accuracy: 0.9799 - 44s/epoch - 5s/step\n",
      "Epoch 9/30\n",
      "9/9 - 44s - loss: 0.0537 - accuracy: 0.9895 - 44s/epoch - 5s/step\n",
      "Epoch 10/30\n",
      "9/9 - 44s - loss: 0.0371 - accuracy: 0.9921 - 44s/epoch - 5s/step\n",
      "Epoch 11/30\n",
      "9/9 - 45s - loss: 0.0247 - accuracy: 0.9958 - 45s/epoch - 5s/step\n",
      "Epoch 12/30\n",
      "9/9 - 44s - loss: 0.0210 - accuracy: 0.9961 - 44s/epoch - 5s/step\n",
      "Epoch 13/30\n",
      "9/9 - 43s - loss: 0.0139 - accuracy: 0.9979 - 43s/epoch - 5s/step\n",
      "Epoch 14/30\n",
      "9/9 - 44s - loss: 0.0116 - accuracy: 0.9982 - 44s/epoch - 5s/step\n",
      "Epoch 15/30\n",
      "9/9 - 44s - loss: 0.0096 - accuracy: 0.9979 - 44s/epoch - 5s/step\n",
      "Epoch 16/30\n",
      "9/9 - 44s - loss: 0.0095 - accuracy: 0.9982 - 44s/epoch - 5s/step\n",
      "Epoch 17/30\n",
      "9/9 - 45s - loss: 0.0093 - accuracy: 0.9986 - 45s/epoch - 5s/step\n",
      "Epoch 18/30\n",
      "9/9 - 44s - loss: 0.0070 - accuracy: 0.9987 - 44s/epoch - 5s/step\n",
      "Epoch 19/30\n",
      "9/9 - 43s - loss: 0.0060 - accuracy: 0.9986 - 43s/epoch - 5s/step\n",
      "Epoch 20/30\n",
      "9/9 - 44s - loss: 0.0053 - accuracy: 0.9991 - 44s/epoch - 5s/step\n",
      "Epoch 21/30\n",
      "9/9 - 44s - loss: 0.0049 - accuracy: 0.9991 - 44s/epoch - 5s/step\n",
      "Epoch 22/30\n",
      "9/9 - 44s - loss: 0.0051 - accuracy: 0.9989 - 44s/epoch - 5s/step\n",
      "Epoch 23/30\n",
      "9/9 - 45s - loss: 0.0044 - accuracy: 0.9988 - 45s/epoch - 5s/step\n",
      "Epoch 24/30\n",
      "9/9 - 45s - loss: 0.0063 - accuracy: 0.9988 - 45s/epoch - 5s/step\n",
      "Epoch 25/30\n",
      "9/9 - 44s - loss: 0.0054 - accuracy: 0.9992 - 44s/epoch - 5s/step\n",
      "Epoch 26/30\n",
      "9/9 - 44s - loss: 0.0051 - accuracy: 0.9987 - 44s/epoch - 5s/step\n",
      "Epoch 27/30\n",
      "9/9 - 44s - loss: 0.0060 - accuracy: 0.9985 - 44s/epoch - 5s/step\n",
      "Epoch 28/30\n",
      "9/9 - 44s - loss: 0.0061 - accuracy: 0.9992 - 44s/epoch - 5s/step\n",
      "Epoch 29/30\n",
      "9/9 - 47s - loss: 0.0054 - accuracy: 0.9987 - 47s/epoch - 5s/step\n",
      "Epoch 30/30\n",
      "9/9 - 46s - loss: 0.0050 - accuracy: 0.9991 - 46s/epoch - 5s/step\n",
      "5/5 - 7s - loss: 0.0216 - accuracy: 0.9934 - 7s/epoch - 1s/step\n",
      "Epoch 1/30\n",
      "9/9 - 49s - loss: 2.2210 - accuracy: 0.3349 - 49s/epoch - 5s/step\n",
      "Epoch 2/30\n",
      "9/9 - 46s - loss: 0.8878 - accuracy: 0.6743 - 46s/epoch - 5s/step\n",
      "Epoch 3/30\n",
      "9/9 - 44s - loss: 0.5371 - accuracy: 0.8078 - 44s/epoch - 5s/step\n",
      "Epoch 4/30\n",
      "9/9 - 46s - loss: 0.3128 - accuracy: 0.8950 - 46s/epoch - 5s/step\n",
      "Epoch 5/30\n",
      "9/9 - 48s - loss: 0.1840 - accuracy: 0.9418 - 48s/epoch - 5s/step\n",
      "Epoch 6/30\n",
      "9/9 - 46s - loss: 0.1041 - accuracy: 0.9717 - 46s/epoch - 5s/step\n",
      "Epoch 7/30\n",
      "9/9 - 47s - loss: 0.0765 - accuracy: 0.9769 - 47s/epoch - 5s/step\n",
      "Epoch 8/30\n",
      "9/9 - 47s - loss: 0.0387 - accuracy: 0.9922 - 47s/epoch - 5s/step\n",
      "Epoch 9/30\n",
      "9/9 - 46s - loss: 0.0224 - accuracy: 0.9959 - 46s/epoch - 5s/step\n",
      "Epoch 10/30\n",
      "9/9 - 47s - loss: 0.0132 - accuracy: 0.9978 - 47s/epoch - 5s/step\n",
      "Epoch 11/30\n",
      "9/9 - 44s - loss: 0.0106 - accuracy: 0.9981 - 44s/epoch - 5s/step\n",
      "Epoch 12/30\n",
      "9/9 - 44s - loss: 0.0147 - accuracy: 0.9971 - 44s/epoch - 5s/step\n",
      "Epoch 13/30\n",
      "9/9 - 45s - loss: 0.0086 - accuracy: 0.9982 - 45s/epoch - 5s/step\n",
      "Epoch 14/30\n",
      "9/9 - 54s - loss: 0.0088 - accuracy: 0.9980 - 54s/epoch - 6s/step\n",
      "Epoch 15/30\n",
      "9/9 - 50s - loss: 0.0081 - accuracy: 0.9982 - 50s/epoch - 6s/step\n",
      "Epoch 16/30\n",
      "9/9 - 45s - loss: 0.0132 - accuracy: 0.9972 - 45s/epoch - 5s/step\n",
      "Epoch 17/30\n",
      "9/9 - 43s - loss: 4.1582 - accuracy: 0.7142 - 43s/epoch - 5s/step\n",
      "Epoch 18/30\n",
      "9/9 - 44s - loss: 1.0891 - accuracy: 0.6114 - 44s/epoch - 5s/step\n",
      "Epoch 19/30\n",
      "9/9 - 43s - loss: 0.7234 - accuracy: 0.7392 - 43s/epoch - 5s/step\n",
      "Epoch 20/30\n",
      "9/9 - 44s - loss: 0.3473 - accuracy: 0.8942 - 44s/epoch - 5s/step\n",
      "Epoch 21/30\n",
      "9/9 - 44s - loss: 0.1817 - accuracy: 0.9470 - 44s/epoch - 5s/step\n",
      "Epoch 22/30\n",
      "9/9 - 43s - loss: 0.1021 - accuracy: 0.9723 - 43s/epoch - 5s/step\n",
      "Epoch 23/30\n",
      "9/9 - 44s - loss: 0.0598 - accuracy: 0.9876 - 44s/epoch - 5s/step\n",
      "Epoch 24/30\n",
      "9/9 - 43s - loss: 0.0414 - accuracy: 0.9909 - 43s/epoch - 5s/step\n",
      "Epoch 25/30\n",
      "9/9 - 44s - loss: 0.0363 - accuracy: 0.9935 - 44s/epoch - 5s/step\n",
      "Epoch 26/30\n",
      "9/9 - 44s - loss: 0.0193 - accuracy: 0.9967 - 44s/epoch - 5s/step\n",
      "Epoch 27/30\n",
      "9/9 - 47s - loss: 0.0149 - accuracy: 0.9978 - 47s/epoch - 5s/step\n",
      "Epoch 28/30\n",
      "9/9 - 43s - loss: 0.0126 - accuracy: 0.9980 - 43s/epoch - 5s/step\n",
      "Epoch 29/30\n",
      "9/9 - 44s - loss: 0.0093 - accuracy: 0.9981 - 44s/epoch - 5s/step\n",
      "Epoch 30/30\n",
      "9/9 - 49s - loss: 0.0093 - accuracy: 0.9979 - 49s/epoch - 5s/step\n",
      "5/5 - 8s - loss: 0.0271 - accuracy: 0.9934 - 8s/epoch - 2s/step\n",
      "Simple CNN Cross validation score : 0.9925\n"
     ]
    }
   ],
   "source": [
    "model = KerasClassifier(build_fn=create_model, epochs=epoch, batch_size=1024, verbose=2) \n",
    "# 3-Fold Crossvalidation\n",
    "kfold = KFold(n_splits=3, shuffle=True, random_state=2019) \n",
    "results = cross_val_score(model, x_train, y_train, cv=kfold)\n",
    "# Check 3-fold model's mean accuracy\n",
    "print('Simple CNN Cross validation score : {:.4f}'.format(np.mean(results)))"
   ]
  },
  {
   "cell_type": "code",
   "execution_count": 277,
   "metadata": {},
   "outputs": [],
   "source": [
    "#results"
   ]
  },
  {
   "cell_type": "code",
   "execution_count": 278,
   "metadata": {},
   "outputs": [
    {
     "name": "stdout",
     "output_type": "stream",
     "text": [
      "<keras.wrappers.scikit_learn.KerasClassifier object at 0x000001E5C4018F28>\n"
     ]
    }
   ],
   "source": [
    "print(model)"
   ]
  },
  {
   "cell_type": "code",
   "execution_count": 279,
   "metadata": {},
   "outputs": [
    {
     "name": "stdout",
     "output_type": "stream",
     "text": [
      "Epoch 1/30\n",
      "13/13 - 96s - loss: 1.6848 - accuracy: 0.4515 - val_loss: 0.8892 - val_accuracy: 0.6780 - 96s/epoch - 7s/step\n",
      "Epoch 2/30\n",
      "13/13 - 96s - loss: 0.8423 - accuracy: 0.6850 - val_loss: 0.6524 - val_accuracy: 0.7935 - 96s/epoch - 7s/step\n",
      "Epoch 3/30\n",
      "13/13 - 94s - loss: 0.5493 - accuracy: 0.8163 - val_loss: 0.4123 - val_accuracy: 0.8687 - 94s/epoch - 7s/step\n",
      "Epoch 4/30\n",
      "13/13 - 93s - loss: 0.2719 - accuracy: 0.9145 - val_loss: 0.1862 - val_accuracy: 0.9478 - 93s/epoch - 7s/step\n",
      "Epoch 5/30\n",
      "13/13 - 92s - loss: 0.1165 - accuracy: 0.9687 - val_loss: 0.0898 - val_accuracy: 0.9737 - 92s/epoch - 7s/step\n",
      "Epoch 6/30\n",
      "13/13 - 100s - loss: 0.0557 - accuracy: 0.9865 - val_loss: 0.0981 - val_accuracy: 0.9713 - 100s/epoch - 8s/step\n",
      "Epoch 7/30\n",
      "13/13 - 99s - loss: 0.0427 - accuracy: 0.9891 - val_loss: 0.0300 - val_accuracy: 0.9923 - 99s/epoch - 8s/step\n",
      "Epoch 8/30\n",
      "13/13 - 98s - loss: 0.0197 - accuracy: 0.9962 - val_loss: 0.0251 - val_accuracy: 0.9933 - 98s/epoch - 8s/step\n",
      "Epoch 9/30\n",
      "13/13 - 89s - loss: 0.0116 - accuracy: 0.9978 - val_loss: 0.0211 - val_accuracy: 0.9931 - 89s/epoch - 7s/step\n",
      "Epoch 10/30\n",
      "13/13 - 98s - loss: 0.0099 - accuracy: 0.9981 - val_loss: 0.0222 - val_accuracy: 0.9931 - 98s/epoch - 8s/step\n",
      "Epoch 11/30\n",
      "13/13 - 113s - loss: 0.0070 - accuracy: 0.9985 - val_loss: 0.0249 - val_accuracy: 0.9911 - 113s/epoch - 9s/step\n",
      "Epoch 12/30\n",
      "13/13 - 89s - loss: 0.0119 - accuracy: 0.9976 - val_loss: 0.0217 - val_accuracy: 0.9938 - 89s/epoch - 7s/step\n",
      "Epoch 13/30\n",
      "13/13 - 82s - loss: 0.0071 - accuracy: 0.9987 - val_loss: 0.0191 - val_accuracy: 0.9933 - 82s/epoch - 6s/step\n",
      "Epoch 14/30\n",
      "13/13 - 82s - loss: 0.0055 - accuracy: 0.9987 - val_loss: 0.0354 - val_accuracy: 0.9927 - 82s/epoch - 6s/step\n",
      "Epoch 15/30\n",
      "13/13 - 82s - loss: 0.0114 - accuracy: 0.9984 - val_loss: 0.0229 - val_accuracy: 0.9938 - 82s/epoch - 6s/step\n",
      "Epoch 16/30\n",
      "13/13 - 82s - loss: 0.0070 - accuracy: 0.9989 - val_loss: 0.0203 - val_accuracy: 0.9938 - 82s/epoch - 6s/step\n",
      "Epoch 17/30\n",
      "13/13 - 82s - loss: 0.0058 - accuracy: 0.9987 - val_loss: 0.0182 - val_accuracy: 0.9922 - 82s/epoch - 6s/step\n",
      "Epoch 18/30\n",
      "13/13 - 82s - loss: 0.0048 - accuracy: 0.9989 - val_loss: 0.0212 - val_accuracy: 0.9933 - 82s/epoch - 6s/step\n",
      "Epoch 19/30\n",
      "13/13 - 82s - loss: 0.0069 - accuracy: 0.9980 - val_loss: 0.0201 - val_accuracy: 0.9931 - 82s/epoch - 6s/step\n",
      "Epoch 20/30\n",
      "13/13 - 79s - loss: 0.0056 - accuracy: 0.9987 - val_loss: 0.0348 - val_accuracy: 0.9904 - 79s/epoch - 6s/step\n",
      "Epoch 21/30\n",
      "13/13 - 82s - loss: 0.0080 - accuracy: 0.9982 - val_loss: 0.0235 - val_accuracy: 0.9927 - 82s/epoch - 6s/step\n",
      "Epoch 22/30\n",
      "13/13 - 124s - loss: 0.0052 - accuracy: 0.9990 - val_loss: 0.0229 - val_accuracy: 0.9941 - 124s/epoch - 10s/step\n",
      "Epoch 23/30\n",
      "13/13 - 123s - loss: 0.0054 - accuracy: 0.9987 - val_loss: 0.0226 - val_accuracy: 0.9930 - 123s/epoch - 9s/step\n",
      "Epoch 24/30\n",
      "13/13 - 129s - loss: 0.0045 - accuracy: 0.9982 - val_loss: 0.0247 - val_accuracy: 0.9928 - 129s/epoch - 10s/step\n",
      "Epoch 25/30\n",
      "13/13 - 159s - loss: 0.0062 - accuracy: 0.9989 - val_loss: 0.0270 - val_accuracy: 0.9923 - 159s/epoch - 12s/step\n",
      "Epoch 26/30\n",
      "13/13 - 137s - loss: 0.0047 - accuracy: 0.9990 - val_loss: 0.0222 - val_accuracy: 0.9935 - 137s/epoch - 11s/step\n",
      "Epoch 27/30\n",
      "13/13 - 130s - loss: 0.0038 - accuracy: 0.9993 - val_loss: 0.0230 - val_accuracy: 0.9941 - 130s/epoch - 10s/step\n",
      "Epoch 28/30\n",
      "13/13 - 130s - loss: 0.0037 - accuracy: 0.9990 - val_loss: 0.0263 - val_accuracy: 0.9941 - 130s/epoch - 10s/step\n",
      "Epoch 29/30\n",
      "13/13 - 104s - loss: 0.0050 - accuracy: 0.9987 - val_loss: 0.0216 - val_accuracy: 0.9920 - 104s/epoch - 8s/step\n",
      "Epoch 30/30\n",
      "13/13 - 100s - loss: 0.0038 - accuracy: 0.9989 - val_loss: 0.0200 - val_accuracy: 0.9914 - 100s/epoch - 8s/step\n"
     ]
    }
   ],
   "source": [
    "history = model.fit(x_train, y_train,\n",
    "         validation_data=[x_test, y_test],\n",
    "         epochs=epoch,\n",
    "         batch_size=batch_size,\n",
    "         )"
   ]
  },
  {
   "cell_type": "code",
   "execution_count": 280,
   "metadata": {},
   "outputs": [
    {
     "name": "stdout",
     "output_type": "stream",
     "text": [
      "7/7 - 11s - loss: 0.0200 - accuracy: 0.9914 - 11s/epoch - 2s/step\n",
      "Testing Accuracy: 0.9913875460624695\n"
     ]
    }
   ],
   "source": [
    "score = model.score(x_test, y_test)\n",
    "#print('Test Loss:', score[0])\n",
    "#print('Test accuracy:', score[1])\n",
    "print('Testing Accuracy:',score)"
   ]
  },
  {
   "cell_type": "code",
   "execution_count": 281,
   "metadata": {},
   "outputs": [
    {
     "name": "stdout",
     "output_type": "stream",
     "text": [
      "dict_keys(['loss', 'accuracy', 'val_loss', 'val_accuracy'])\n"
     ]
    }
   ],
   "source": [
    "print(history.history.keys())"
   ]
  },
  {
   "cell_type": "code",
   "execution_count": 282,
   "metadata": {},
   "outputs": [
    {
     "data": {
      "image/png": "[encoded data removed]",
      "text/plain": [
       "<Figure size 432x288 with 1 Axes>"
      ]
     },
     "metadata": {
      "needs_background": "light"
     },
     "output_type": "display_data"
    },
    {
     "data": {
      "image/png": "[encoded data removed]",
      "text/plain": [
       "<Figure size 432x288 with 1 Axes>"
      ]
     },
     "metadata": {
      "needs_background": "light"
     },
     "output_type": "display_data"
    }
   ],
   "source": [
    "# accuracy plot \n",
    "plt.plot(history.history['accuracy'])\n",
    "plt.plot(history.history['val_accuracy'])\n",
    "plt.title('model accuracy')\n",
    "plt.ylabel('accuracy')\n",
    "plt.xlabel('epoch')\n",
    "plt.legend(['train', 'test'], loc='upper left')\n",
    "plt.show()\n",
    "\n",
    "# loss plot\n",
    "plt.plot(history.history['loss'])\n",
    "plt.plot(history.history['val_loss'])\n",
    "plt.title('model loss')\n",
    "plt.ylabel('loss')\n",
    "plt.xlabel('epoch')\n",
    "plt.legend(['train', 'test'], loc='upper left')\n",
    "plt.show()"
   ]
  },
  {
   "cell_type": "code",
   "execution_count": 283,
   "metadata": {},
   "outputs": [],
   "source": [
    "# generate predictions for model analysis\n",
    "y_pred = model.predict(x_test)\n",
    "#y_pred = np.argmax(y_pred, axis=1)"
   ]
  },
  {
   "cell_type": "code",
   "execution_count": 284,
   "metadata": {},
   "outputs": [
    {
     "name": "stdout",
     "output_type": "stream",
     "text": [
      "<class 'numpy.int32'>\n"
     ]
    }
   ],
   "source": [
    "print(type(y_pred[0]))"
   ]
  },
  {
   "cell_type": "code",
   "execution_count": 289,
   "metadata": {},
   "outputs": [],
   "source": [
    "# Center : 2160\n",
    "# Donut : 2002\n",
    "# Edge-Loc : 2368\n",
    "# Edge-Ring : 2046\n",
    "# Loc : 2376\n",
    "# Near-full : 2032\n",
    "# Random : 2146\n",
    "# Scratch : 2088\n",
    "# none : 2489\n",
    "\n",
    "from sklearn.metrics import confusion_matrix\n",
    "\n",
    "def plot_confusion_matrix(y_test, y_pred, mode='classify', normalize=True, figsize=(7,5)):\n",
    "    \"\"\"Helper function for plotting confusion matrix of model results\n",
    "       Modes: detect, classify\"\"\"\n",
    "    \n",
    "    if mode == 'classify':\n",
    "        defects = ['C', 'D', 'EL', 'ER', 'L', 'NF', 'R', 'S', 'N']\n",
    "    elif mode == 'detect':\n",
    "        defects = ['None', 'Defect']\n",
    "    \n",
    "    fig, ax = plt.subplots(figsize=figsize)\n",
    "    \n",
    "    if normalize:\n",
    "        cm = confusion_matrix(y_test, y_pred, normalize='true')\n",
    "        f = sns.heatmap(cm, annot=True, xticklabels=defects, yticklabels=defects)\n",
    "    \n",
    "    else:\n",
    "        cm = confusion_matrix(y_test, y_pred, normalize=None)\n",
    "        f = sns.heatmap(cm, annot=True, xticklabels=defects, yticklabels=defects, fmt='d')\n",
    "        \n",
    "    f.set(xlabel='Predicted Label', ylabel='True Label')"
   ]
  },
  {
   "cell_type": "code",
   "execution_count": 290,
   "metadata": {},
   "outputs": [
    {
     "name": "stdout",
     "output_type": "stream",
     "text": [
      "[6 0 1 ... 1 6 2]\n"
     ]
    }
   ],
   "source": [
    "# print(test_labels[0][0])\n",
    "\n",
    "# print(type(test_labels[0][0].astype(np.int)))\n",
    "\n",
    "temp = []\n",
    "\n",
    "for i in test_labels:\n",
    "    temp.append(i[0].astype(np.int))\n",
    "\n",
    "test_lables_int = np.array(temp)\n",
    "# test_labels_int = np.array([])\n",
    "\n",
    "# #int_test_labels = test_labels[0].astype(np.int)\n",
    "print(test_lables_int)"
   ]
  },
  {
   "cell_type": "code",
   "execution_count": 291,
   "metadata": {},
   "outputs": [
    {
     "data": {
      "application/javascript": [
       "\n",
       "        if (window._pyforest_update_imports_cell) { window._pyforest_update_imports_cell('import seaborn as sns'); }\n",
       "    "
      ],
      "text/plain": [
       "<IPython.core.display.Javascript object>"
      ]
     },
     "metadata": {},
     "output_type": "display_data"
    },
    {
     "data": {
      "image/png": "[encoded data removed]",
      "text/plain": [
       "<Figure size 504x360 with 2 Axes>"
      ]
     },
     "metadata": {
      "needs_background": "light"
     },
     "output_type": "display_data"
    }
   ],
   "source": [
    "# plot confusion matrix\n",
    "plot_confusion_matrix(test_lables_int, y_pred, normalize=True)"
   ]
  },
  {
   "cell_type": "code",
   "execution_count": 292,
   "metadata": {},
   "outputs": [
    {
     "data": {
      "application/javascript": [
       "\n",
       "        if (window._pyforest_update_imports_cell) { window._pyforest_update_imports_cell('import seaborn as sns'); }\n",
       "    "
      ],
      "text/plain": [
       "<IPython.core.display.Javascript object>"
      ]
     },
     "metadata": {},
     "output_type": "display_data"
    },
    {
     "data": {
      "image/png": "[encoded data removed]",
      "text/plain": [
       "<Figure size 504x360 with 2 Axes>"
      ]
     },
     "metadata": {
      "needs_background": "light"
     },
     "output_type": "display_data"
    }
   ],
   "source": [
    "plot_confusion_matrix(test_lables_int, y_pred, normalize=False)"
   ]
  },
  {
   "cell_type": "code",
   "execution_count": null,
   "metadata": {},
   "outputs": [],
   "source": []
  }
 ],
 "metadata": {
  "kernelspec": {
   "display_name": "Python 3 (ipykernel)",
   "language": "python",
   "name": "python3"
  },
  "language_info": {
   "codemirror_mode": {
    "name": "ipython",
    "version": 3
   },
   "file_extension": ".py",
   "mimetype": "text/x-python",
   "name": "python",
   "nbconvert_exporter": "python",
   "pygments_lexer": "ipython3",
   "version": "3.7.3"
  }
 },
 "nbformat": 4,
 "nbformat_minor": 4
}
