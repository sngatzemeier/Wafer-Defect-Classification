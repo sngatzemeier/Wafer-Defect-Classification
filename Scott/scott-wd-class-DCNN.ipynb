{
 "cells": [
  {
   "cell_type": "code",
   "execution_count": 1,
   "metadata": {
    "_cell_guid": "b1076dfc-b9ad-4769-8c92-a6c4dae69d19",
    "_uuid": "8f2839f25d086af736a60e9eeb907d3b93b6e0e5"
   },
   "outputs": [],
   "source": [
    "# This Python 3 environment comes with many helpful analytics libraries installed\n",
    "# It is defined by the kaggle/python docker image: https://github.com/kaggle/docker-python\n",
    "# For example, here's several helpful packages to load in \n",
    "\n",
    "import numpy as np # linear algebra\n",
    "import pandas as pd # data processing, CSV file I/O (e.g. pd.read_csv)\n",
    "\n",
    "# Input data files are available in the \"../input/\" directory.\n",
    "# For example, running this (by clicking run or pressing Shift+Enter) will list all files under the input directory\n",
    "\n",
    "import os\n",
    "for dirname, _, filenames in os.walk('/kaggle/input'):\n",
    "    for filename in filenames:\n",
    "        print(os.path.join(dirname, filename))\n",
    "\n",
    "# Any results you write to the current directory are saved as output."
   ]
  },
  {
   "cell_type": "code",
   "execution_count": 2,
   "metadata": {
    "_cell_guid": "79c7e3d0-c299-4dcb-8224-4455121ee9b0",
    "_uuid": "d629ff2d2480ee46fbb7e2d37f6b5fab8052498a"
   },
   "outputs": [
    {
     "name": "stdout",
     "output_type": "stream",
     "text": [
      "Requirement already satisfied: tensorflow in c:\\users\\scott\\anaconda3\\lib\\site-packages (2.8.0)\n",
      "Requirement already satisfied: gast>=0.2.1 in c:\\users\\scott\\anaconda3\\lib\\site-packages (from tensorflow) (0.5.3)\n",
      "Requirement already satisfied: tf-estimator-nightly==2.8.0.dev2021122109 in c:\\users\\scott\\anaconda3\\lib\\site-packages (from tensorflow) (2.8.0.dev2021122109)\n",
      "Requirement already satisfied: grpcio<2.0,>=1.24.3 in c:\\users\\scott\\anaconda3\\lib\\site-packages (from tensorflow) (1.43.0)\n",
      "Requirement already satisfied: keras-preprocessing>=1.1.1 in c:\\users\\scott\\anaconda3\\lib\\site-packages (from tensorflow) (1.1.2)\n",
      "Requirement already satisfied: protobuf>=3.9.2 in c:\\users\\scott\\anaconda3\\lib\\site-packages (from tensorflow) (3.19.4)\n",
      "Requirement already satisfied: six>=1.12.0 in c:\\users\\scott\\anaconda3\\lib\\site-packages (from tensorflow) (1.16.0)\n",
      "Requirement already satisfied: wrapt>=1.11.0 in c:\\users\\scott\\anaconda3\\lib\\site-packages (from tensorflow) (1.13.3)\n",
      "Requirement already satisfied: setuptools in c:\\users\\scott\\anaconda3\\lib\\site-packages (from tensorflow) (58.0.4)\n",
      "Requirement already satisfied: numpy>=1.20 in c:\\users\\scott\\anaconda3\\lib\\site-packages (from tensorflow) (1.21.2)\n",
      "Requirement already satisfied: typing-extensions>=3.6.6 in c:\\users\\scott\\anaconda3\\lib\\site-packages (from tensorflow) (3.10.0.2)\n",
      "Requirement already satisfied: tensorboard<2.9,>=2.8 in c:\\users\\scott\\anaconda3\\lib\\site-packages (from tensorflow) (2.8.0)\n",
      "Requirement already satisfied: keras<2.9,>=2.8.0rc0 in c:\\users\\scott\\anaconda3\\lib\\site-packages (from tensorflow) (2.8.0)\n",
      "Requirement already satisfied: opt-einsum>=2.3.2 in c:\\users\\scott\\anaconda3\\lib\\site-packages (from tensorflow) (3.3.0)\n",
      "Requirement already satisfied: google-pasta>=0.1.1 in c:\\users\\scott\\anaconda3\\lib\\site-packages (from tensorflow) (0.2.0)\n",
      "Requirement already satisfied: astunparse>=1.6.0 in c:\\users\\scott\\anaconda3\\lib\\site-packages (from tensorflow) (1.6.3)\n",
      "Requirement already satisfied: termcolor>=1.1.0 in c:\\users\\scott\\anaconda3\\lib\\site-packages (from tensorflow) (1.1.0)\n",
      "Requirement already satisfied: h5py>=2.9.0 in c:\\users\\scott\\anaconda3\\lib\\site-packages (from tensorflow) (2.10.0)\n",
      "Requirement already satisfied: libclang>=9.0.1 in c:\\users\\scott\\anaconda3\\lib\\site-packages (from tensorflow) (13.0.0)\n",
      "Requirement already satisfied: tensorflow-io-gcs-filesystem>=0.23.1 in c:\\users\\scott\\anaconda3\\lib\\site-packages (from tensorflow) (0.24.0)\n",
      "Requirement already satisfied: absl-py>=0.4.0 in c:\\users\\scott\\anaconda3\\lib\\site-packages (from tensorflow) (1.0.0)\n",
      "Requirement already satisfied: flatbuffers>=1.12 in c:\\users\\scott\\anaconda3\\lib\\site-packages (from tensorflow) (2.0)\n",
      "Requirement already satisfied: wheel<1.0,>=0.23.0 in c:\\users\\scott\\anaconda3\\lib\\site-packages (from astunparse>=1.6.0->tensorflow) (0.37.1)\n",
      "Requirement already satisfied: tensorboard-plugin-wit>=1.6.0 in c:\\users\\scott\\anaconda3\\lib\\site-packages (from tensorboard<2.9,>=2.8->tensorflow) (1.8.1)\n",
      "Requirement already satisfied: requests<3,>=2.21.0 in c:\\users\\scott\\anaconda3\\lib\\site-packages (from tensorboard<2.9,>=2.8->tensorflow) (2.27.1)\n",
      "Requirement already satisfied: markdown>=2.6.8 in c:\\users\\scott\\anaconda3\\lib\\site-packages (from tensorboard<2.9,>=2.8->tensorflow) (3.3.6)\n",
      "Requirement already satisfied: tensorboard-data-server<0.7.0,>=0.6.0 in c:\\users\\scott\\anaconda3\\lib\\site-packages (from tensorboard<2.9,>=2.8->tensorflow) (0.6.1)\n",
      "Requirement already satisfied: google-auth<3,>=1.6.3 in c:\\users\\scott\\anaconda3\\lib\\site-packages (from tensorboard<2.9,>=2.8->tensorflow) (2.6.0)\n",
      "Requirement already satisfied: google-auth-oauthlib<0.5,>=0.4.1 in c:\\users\\scott\\anaconda3\\lib\\site-packages (from tensorboard<2.9,>=2.8->tensorflow) (0.4.6)\n",
      "Requirement already satisfied: werkzeug>=0.11.15 in c:\\users\\scott\\anaconda3\\lib\\site-packages (from tensorboard<2.9,>=2.8->tensorflow) (2.0.2)\n",
      "Requirement already satisfied: pyasn1-modules>=0.2.1 in c:\\users\\scott\\anaconda3\\lib\\site-packages (from google-auth<3,>=1.6.3->tensorboard<2.9,>=2.8->tensorflow) (0.2.8)\n",
      "Requirement already satisfied: cachetools<6.0,>=2.0.0 in c:\\users\\scott\\anaconda3\\lib\\site-packages (from google-auth<3,>=1.6.3->tensorboard<2.9,>=2.8->tensorflow) (5.0.0)\n",
      "Requirement already satisfied: rsa<5,>=3.1.4 in c:\\users\\scott\\anaconda3\\lib\\site-packages (from google-auth<3,>=1.6.3->tensorboard<2.9,>=2.8->tensorflow) (4.8)\n",
      "Requirement already satisfied: requests-oauthlib>=0.7.0 in c:\\users\\scott\\anaconda3\\lib\\site-packages (from google-auth-oauthlib<0.5,>=0.4.1->tensorboard<2.9,>=2.8->tensorflow) (1.3.1)\n",
      "Requirement already satisfied: importlib-metadata>=4.4 in c:\\users\\scott\\anaconda3\\lib\\site-packages (from markdown>=2.6.8->tensorboard<2.9,>=2.8->tensorflow) (4.8.2)\n",
      "Requirement already satisfied: zipp>=0.5 in c:\\users\\scott\\anaconda3\\lib\\site-packages (from importlib-metadata>=4.4->markdown>=2.6.8->tensorboard<2.9,>=2.8->tensorflow) (3.7.0)\n",
      "Requirement already satisfied: pyasn1<0.5.0,>=0.4.6 in c:\\users\\scott\\anaconda3\\lib\\site-packages (from pyasn1-modules>=0.2.1->google-auth<3,>=1.6.3->tensorboard<2.9,>=2.8->tensorflow) (0.4.8)\n",
      "Requirement already satisfied: charset-normalizer~=2.0.0 in c:\\users\\scott\\anaconda3\\lib\\site-packages (from requests<3,>=2.21.0->tensorboard<2.9,>=2.8->tensorflow) (2.0.4)\n",
      "Requirement already satisfied: urllib3<1.27,>=1.21.1 in c:\\users\\scott\\anaconda3\\lib\\site-packages (from requests<3,>=2.21.0->tensorboard<2.9,>=2.8->tensorflow) (1.26.8)\n",
      "Requirement already satisfied: certifi>=2017.4.17 in c:\\users\\scott\\anaconda3\\lib\\site-packages (from requests<3,>=2.21.0->tensorboard<2.9,>=2.8->tensorflow) (2021.10.8)\n",
      "Requirement already satisfied: idna<4,>=2.5 in c:\\users\\scott\\anaconda3\\lib\\site-packages (from requests<3,>=2.21.0->tensorboard<2.9,>=2.8->tensorflow) (3.3)\n",
      "Requirement already satisfied: oauthlib>=3.0.0 in c:\\users\\scott\\anaconda3\\lib\\site-packages (from requests-oauthlib>=0.7.0->google-auth-oauthlib<0.5,>=0.4.1->tensorboard<2.9,>=2.8->tensorflow) (3.2.0)\n"
     ]
    }
   ],
   "source": [
    "import os\n",
    "from os.path import join\n",
    "\n",
    "import numpy as np\n",
    "import pandas as pd\n",
    "\n",
    "!pip install tensorflow\n",
    "import tensorflow as tf\n",
    "import keras\n",
    "from keras import layers, Input, models\n",
    "# from keras.utils import to_categorical\n",
    "from tensorflow.keras.utils import to_categorical\n",
    "from keras.wrappers.scikit_learn import KerasClassifier \n",
    "from sklearn.model_selection import KFold \n",
    "from sklearn.model_selection import cross_val_score\n",
    "\n",
    "from sklearn.model_selection import train_test_split\n",
    "\n",
    "import matplotlib.pyplot as plt\n",
    "\n",
    "datapath = join('data', 'wafer')\n",
    "\n",
    "# print(os.listdir(\"../input\"))\n",
    "import warnings\n",
    "warnings.filterwarnings(\"ignore\")"
   ]
  },
  {
   "cell_type": "code",
   "execution_count": 5,
   "metadata": {},
   "outputs": [
    {
     "name": "stdout",
     "output_type": "stream",
     "text": [
      "<class 'pandas.core.frame.DataFrame'>\n",
      "RangeIndex: 811457 entries, 0 to 811456\n",
      "Data columns (total 6 columns):\n",
      " #   Column          Non-Null Count   Dtype  \n",
      "---  ------          --------------   -----  \n",
      " 0   waferMap        811457 non-null  object \n",
      " 1   dieSize         811457 non-null  float64\n",
      " 2   lotName         811457 non-null  object \n",
      " 3   waferIndex      811457 non-null  float64\n",
      " 4   trianTestLabel  811457 non-null  object \n",
      " 5   failureType     811457 non-null  object \n",
      "dtypes: float64(2), object(4)\n",
      "memory usage: 37.1+ MB\n"
     ]
    }
   ],
   "source": [
    "df=pd.read_pickle(\"LSWMD.pkl\")\n",
    "df.info()"
   ]
  },
  {
   "cell_type": "code",
   "execution_count": 6,
   "metadata": {},
   "outputs": [
    {
     "data": {
      "text/html": [
       "<div>\n",
       "<style scoped>\n",
       "    .dataframe tbody tr th:only-of-type {\n",
       "        vertical-align: middle;\n",
       "    }\n",
       "\n",
       "    .dataframe tbody tr th {\n",
       "        vertical-align: top;\n",
       "    }\n",
       "\n",
       "    .dataframe thead th {\n",
       "        text-align: right;\n",
       "    }\n",
       "</style>\n",
       "<table border=\"1\" class=\"dataframe\">\n",
       "  <thead>\n",
       "    <tr style=\"text-align: right;\">\n",
       "      <th></th>\n",
       "      <th>waferMap</th>\n",
       "      <th>dieSize</th>\n",
       "      <th>lotName</th>\n",
       "      <th>waferIndex</th>\n",
       "      <th>trianTestLabel</th>\n",
       "      <th>failureType</th>\n",
       "    </tr>\n",
       "  </thead>\n",
       "  <tbody>\n",
       "    <tr>\n",
       "      <th>811452</th>\n",
       "      <td>[[0, 0, 0, 0, 0, 0, 0, 0, 0, 0, 0, 1, 2, 1, 1,...</td>\n",
       "      <td>600.0</td>\n",
       "      <td>lot47542</td>\n",
       "      <td>23.0</td>\n",
       "      <td>[[Test]]</td>\n",
       "      <td>[[Edge-Ring]]</td>\n",
       "    </tr>\n",
       "    <tr>\n",
       "      <th>811453</th>\n",
       "      <td>[[0, 0, 0, 0, 0, 0, 0, 0, 0, 0, 0, 2, 2, 1, 1,...</td>\n",
       "      <td>600.0</td>\n",
       "      <td>lot47542</td>\n",
       "      <td>24.0</td>\n",
       "      <td>[[Test]]</td>\n",
       "      <td>[[Edge-Loc]]</td>\n",
       "    </tr>\n",
       "    <tr>\n",
       "      <th>811454</th>\n",
       "      <td>[[0, 0, 0, 0, 0, 0, 0, 0, 0, 0, 0, 1, 2, 1, 1,...</td>\n",
       "      <td>600.0</td>\n",
       "      <td>lot47542</td>\n",
       "      <td>25.0</td>\n",
       "      <td>[[Test]]</td>\n",
       "      <td>[[Edge-Ring]]</td>\n",
       "    </tr>\n",
       "    <tr>\n",
       "      <th>811455</th>\n",
       "      <td>[[0, 0, 0, 0, 0, 0, 0, 0, 0, 0, 0, 1, 1, 1, 1,...</td>\n",
       "      <td>600.0</td>\n",
       "      <td>lot47543</td>\n",
       "      <td>1.0</td>\n",
       "      <td>[]</td>\n",
       "      <td>[]</td>\n",
       "    </tr>\n",
       "    <tr>\n",
       "      <th>811456</th>\n",
       "      <td>[[0, 0, 0, 0, 0, 0, 0, 0, 0, 0, 0, 1, 2, 1, 1,...</td>\n",
       "      <td>600.0</td>\n",
       "      <td>lot47543</td>\n",
       "      <td>2.0</td>\n",
       "      <td>[]</td>\n",
       "      <td>[]</td>\n",
       "    </tr>\n",
       "  </tbody>\n",
       "</table>\n",
       "</div>"
      ],
      "text/plain": [
       "                                                 waferMap  dieSize   lotName  \\\n",
       "811452  [[0, 0, 0, 0, 0, 0, 0, 0, 0, 0, 0, 1, 2, 1, 1,...    600.0  lot47542   \n",
       "811453  [[0, 0, 0, 0, 0, 0, 0, 0, 0, 0, 0, 2, 2, 1, 1,...    600.0  lot47542   \n",
       "811454  [[0, 0, 0, 0, 0, 0, 0, 0, 0, 0, 0, 1, 2, 1, 1,...    600.0  lot47542   \n",
       "811455  [[0, 0, 0, 0, 0, 0, 0, 0, 0, 0, 0, 1, 1, 1, 1,...    600.0  lot47543   \n",
       "811456  [[0, 0, 0, 0, 0, 0, 0, 0, 0, 0, 0, 1, 2, 1, 1,...    600.0  lot47543   \n",
       "\n",
       "        waferIndex trianTestLabel    failureType  \n",
       "811452        23.0       [[Test]]  [[Edge-Ring]]  \n",
       "811453        24.0       [[Test]]   [[Edge-Loc]]  \n",
       "811454        25.0       [[Test]]  [[Edge-Ring]]  \n",
       "811455         1.0             []             []  \n",
       "811456         2.0             []             []  "
      ]
     },
     "execution_count": 6,
     "metadata": {},
     "output_type": "execute_result"
    }
   ],
   "source": [
    "df.tail()"
   ]
  },
  {
   "cell_type": "code",
   "execution_count": 7,
   "metadata": {},
   "outputs": [],
   "source": [
    "df = df.drop(['waferIndex'], axis = 1)"
   ]
  },
  {
   "cell_type": "code",
   "execution_count": 8,
   "metadata": {},
   "outputs": [
    {
     "data": {
      "text/html": [
       "<div>\n",
       "<style scoped>\n",
       "    .dataframe tbody tr th:only-of-type {\n",
       "        vertical-align: middle;\n",
       "    }\n",
       "\n",
       "    .dataframe tbody tr th {\n",
       "        vertical-align: top;\n",
       "    }\n",
       "\n",
       "    .dataframe thead th {\n",
       "        text-align: right;\n",
       "    }\n",
       "</style>\n",
       "<table border=\"1\" class=\"dataframe\">\n",
       "  <thead>\n",
       "    <tr style=\"text-align: right;\">\n",
       "      <th></th>\n",
       "      <th>waferMap</th>\n",
       "      <th>dieSize</th>\n",
       "      <th>lotName</th>\n",
       "      <th>trianTestLabel</th>\n",
       "      <th>failureType</th>\n",
       "      <th>waferMapDim</th>\n",
       "    </tr>\n",
       "  </thead>\n",
       "  <tbody>\n",
       "    <tr>\n",
       "      <th>103120</th>\n",
       "      <td>[[0, 0, 0, 0, 0, 0, 0, 0, 0, 0, 0, 0, 0, 0, 0,...</td>\n",
       "      <td>1507.0</td>\n",
       "      <td>lot7078</td>\n",
       "      <td>[]</td>\n",
       "      <td>[]</td>\n",
       "      <td>(44, 44)</td>\n",
       "    </tr>\n",
       "    <tr>\n",
       "      <th>55779</th>\n",
       "      <td>[[0, 0, 0, 0, 0, 0, 0, 0, 0, 0, 0, 0, 1, 1, 1,...</td>\n",
       "      <td>710.0</td>\n",
       "      <td>lot4492</td>\n",
       "      <td>[]</td>\n",
       "      <td>[]</td>\n",
       "      <td>(32, 29)</td>\n",
       "    </tr>\n",
       "    <tr>\n",
       "      <th>137955</th>\n",
       "      <td>[[0, 0, 0, 0, 0, 0, 0, 0, 0, 0, 0, 0, 0, 0, 0,...</td>\n",
       "      <td>2393.0</td>\n",
       "      <td>lot8991</td>\n",
       "      <td>[]</td>\n",
       "      <td>[]</td>\n",
       "      <td>(52, 59)</td>\n",
       "    </tr>\n",
       "    <tr>\n",
       "      <th>328009</th>\n",
       "      <td>[[0, 0, 0, 0, 0, 0, 0, 0, 0, 0, 0, 0, 0, 0, 0,...</td>\n",
       "      <td>1724.0</td>\n",
       "      <td>lot19774</td>\n",
       "      <td>[]</td>\n",
       "      <td>[]</td>\n",
       "      <td>(50, 43)</td>\n",
       "    </tr>\n",
       "    <tr>\n",
       "      <th>748489</th>\n",
       "      <td>[[0, 0, 0, 0, 0, 0, 0, 0, 0, 0, 2, 1, 2, 1, 1,...</td>\n",
       "      <td>518.0</td>\n",
       "      <td>lot44984</td>\n",
       "      <td>[[Training]]</td>\n",
       "      <td>[[none]]</td>\n",
       "      <td>(27, 25)</td>\n",
       "    </tr>\n",
       "  </tbody>\n",
       "</table>\n",
       "</div>"
      ],
      "text/plain": [
       "                                                 waferMap  dieSize   lotName  \\\n",
       "103120  [[0, 0, 0, 0, 0, 0, 0, 0, 0, 0, 0, 0, 0, 0, 0,...   1507.0   lot7078   \n",
       "55779   [[0, 0, 0, 0, 0, 0, 0, 0, 0, 0, 0, 0, 1, 1, 1,...    710.0   lot4492   \n",
       "137955  [[0, 0, 0, 0, 0, 0, 0, 0, 0, 0, 0, 0, 0, 0, 0,...   2393.0   lot8991   \n",
       "328009  [[0, 0, 0, 0, 0, 0, 0, 0, 0, 0, 0, 0, 0, 0, 0,...   1724.0  lot19774   \n",
       "748489  [[0, 0, 0, 0, 0, 0, 0, 0, 0, 0, 2, 1, 2, 1, 1,...    518.0  lot44984   \n",
       "\n",
       "       trianTestLabel failureType waferMapDim  \n",
       "103120             []          []    (44, 44)  \n",
       "55779              []          []    (32, 29)  \n",
       "137955             []          []    (52, 59)  \n",
       "328009             []          []    (50, 43)  \n",
       "748489   [[Training]]    [[none]]    (27, 25)  "
      ]
     },
     "execution_count": 8,
     "metadata": {},
     "output_type": "execute_result"
    }
   ],
   "source": [
    "def find_dim(x):\n",
    "    dim0=np.size(x,axis=0)\n",
    "    dim1=np.size(x,axis=1)\n",
    "    return dim0,dim1\n",
    "df['waferMapDim']=df.waferMap.apply(find_dim)\n",
    "df.sample(5)"
   ]
  },
  {
   "cell_type": "code",
   "execution_count": 9,
   "metadata": {},
   "outputs": [],
   "source": [
    "df['failureNum']=df.failureType\n",
    "df['trainTestNum']=df.trianTestLabel\n",
    "mapping_type={'Center':0,'Donut':1,'Edge-Loc':2,'Edge-Ring':3,'Loc':4,'Random':5,'Scratch':6,'Near-full':7,'none':8}\n",
    "mapping_traintest={'Training':0,'Test':1}\n",
    "df=df.replace({'failureNum':mapping_type, 'trainTestNum':mapping_traintest})"
   ]
  },
  {
   "cell_type": "code",
   "execution_count": 10,
   "metadata": {},
   "outputs": [
    {
     "data": {
      "text/plain": [
       "811457"
      ]
     },
     "execution_count": 10,
     "metadata": {},
     "output_type": "execute_result"
    }
   ],
   "source": [
    "tol_wafers = df.shape[0]\n",
    "tol_wafers"
   ]
  },
  {
   "cell_type": "code",
   "execution_count": 11,
   "metadata": {},
   "outputs": [
    {
     "data": {
      "text/plain": [
       "(172950, 25519, 147431)"
      ]
     },
     "execution_count": 11,
     "metadata": {},
     "output_type": "execute_result"
    }
   ],
   "source": [
    "df_withlabel = df[(df['failureNum']>=0) & (df['failureNum']<=8)]\n",
    "df_withlabel =df_withlabel.reset_index()\n",
    "df_withpattern = df[(df['failureNum']>=0) & (df['failureNum']<=7)]\n",
    "df_withpattern = df_withpattern.reset_index()\n",
    "df_nonpattern = df[(df['failureNum']==8)]\n",
    "df_withlabel.shape[0], df_withpattern.shape[0], df_nonpattern.shape[0]"
   ]
  },
  {
   "cell_type": "code",
   "execution_count": 12,
   "metadata": {},
   "outputs": [
    {
     "data": {
      "image/png": "[encoded data removed]",
      "text/plain": [
       "<Figure size 1440x324 with 2 Axes>"
      ]
     },
     "metadata": {
      "needs_background": "light"
     },
     "output_type": "display_data"
    }
   ],
   "source": [
    "import matplotlib.pyplot as plt\n",
    "%matplotlib inline\n",
    "\n",
    "from matplotlib import gridspec\n",
    "fig = plt.figure(figsize=(20, 4.5)) \n",
    "gs = gridspec.GridSpec(1, 2, width_ratios=[1, 2.5]) \n",
    "ax1 = plt.subplot(gs[0])\n",
    "ax2 = plt.subplot(gs[1])\n",
    "\n",
    "no_wafers=[tol_wafers-df_withlabel.shape[0], df_withpattern.shape[0], df_nonpattern.shape[0]]\n",
    "\n",
    "colors = ['blue', 'green', 'red']\n",
    "explode = (0.1, 0, 0)  # explode 1st slice\n",
    "labels = ['no-label','label and pattern','label and non-pattern']\n",
    "ax1.pie(no_wafers, explode=explode, labels=labels, colors=colors, autopct='%1.1f%%', shadow=True, startangle=140)\n",
    "\n",
    "uni_pattern=np.unique(df_withpattern.failureNum, return_counts=True)\n",
    "labels2 = ['','Center','Donut','Edge-Loc','Edge-Ring','Loc','Random','Scratch','Near-full']\n",
    "ax2.bar(uni_pattern[0],uni_pattern[1]/df_withpattern.shape[0], color='green', align='center', alpha=0.9)\n",
    "ax2.set_title(\"failure type frequency\")\n",
    "ax2.set_ylabel(\"% of pattern wafers\")\n",
    "ax2.set_xticklabels(labels2)\n",
    "\n",
    "plt.show()"
   ]
  },
  {
   "cell_type": "code",
   "execution_count": 13,
   "metadata": {},
   "outputs": [],
   "source": [
    "sub_df = df.loc[df['waferMapDim'] == (26, 26)]\n",
    "sub_wafer = sub_df['waferMap'].values\n",
    "\n",
    "sw = np.ones((1, 26, 26))\n",
    "label = list()\n",
    "\n",
    "for i in range(len(sub_df)):\n",
    "    # skip null label\n",
    "    if len(sub_df.iloc[i,:]['failureType']) == 0:\n",
    "        continue\n",
    "    sw = np.concatenate((sw, sub_df.iloc[i,:]['waferMap'].reshape(1, 26, 26)))\n",
    "    label.append(sub_df.iloc[i,:]['failureType'][0][0])"
   ]
  },
  {
   "cell_type": "code",
   "execution_count": 14,
   "metadata": {},
   "outputs": [],
   "source": [
    "x = sw[1:]\n",
    "y = np.array(label).reshape((-1,1))"
   ]
  },
  {
   "cell_type": "code",
   "execution_count": 15,
   "metadata": {},
   "outputs": [
    {
     "name": "stdout",
     "output_type": "stream",
     "text": [
      "x shape : (14366, 26, 26), y shape : (14366, 1)\n"
     ]
    }
   ],
   "source": [
    "print('x shape : {}, y shape : {}'.format(x.shape, y.shape))"
   ]
  },
  {
   "cell_type": "code",
   "execution_count": 16,
   "metadata": {},
   "outputs": [
    {
     "data": {
      "image/png": "[encoded data removed]",
      "text/plain": [
       "<Figure size 432x288 with 1 Axes>"
      ]
     },
     "metadata": {
      "needs_background": "light"
     },
     "output_type": "display_data"
    },
    {
     "name": "stdout",
     "output_type": "stream",
     "text": [
      "Faulty case : ['none'] \n"
     ]
    }
   ],
   "source": [
    "# plot 1st data\n",
    "plt.imshow(x[2040])\n",
    "plt.show()\n",
    "\n",
    "# check faulty case\n",
    "print('Faulty case : {} '.format(y[2040]))"
   ]
  },
  {
   "cell_type": "code",
   "execution_count": 17,
   "metadata": {},
   "outputs": [],
   "source": [
    "x = x.reshape((-1, 26, 26, 1))"
   ]
  },
  {
   "cell_type": "code",
   "execution_count": 18,
   "metadata": {},
   "outputs": [
    {
     "name": "stdout",
     "output_type": "stream",
     "text": [
      "Faulty case list : ['Center' 'Donut' 'Edge-Loc' 'Edge-Ring' 'Loc' 'Near-full' 'Random'\n",
      " 'Scratch' 'none']\n"
     ]
    }
   ],
   "source": [
    "faulty_case = np.unique(y)\n",
    "print('Faulty case list : {}'.format(faulty_case))"
   ]
  },
  {
   "cell_type": "code",
   "execution_count": 19,
   "metadata": {},
   "outputs": [
    {
     "name": "stdout",
     "output_type": "stream",
     "text": [
      "Center : 90\n",
      "Donut : 1\n",
      "Edge-Loc : 296\n",
      "Edge-Ring : 31\n",
      "Loc : 297\n",
      "Near-full : 16\n",
      "Random : 74\n",
      "Scratch : 72\n",
      "none : 13489\n"
     ]
    }
   ],
   "source": [
    "for f in faulty_case :\n",
    "    print('{} : {}'.format(f, len(y[y==f])))"
   ]
  },
  {
   "cell_type": "code",
   "execution_count": 20,
   "metadata": {},
   "outputs": [],
   "source": [
    "new_x = np.zeros((len(x), 26, 26, 3))\n",
    "\n",
    "for w in range(len(x)):\n",
    "    for i in range(26):\n",
    "        for j in range(26):\n",
    "            new_x[w, i, j, int(x[w, i, j])] = 1"
   ]
  },
  {
   "cell_type": "code",
   "execution_count": 21,
   "metadata": {},
   "outputs": [
    {
     "data": {
      "text/plain": [
       "(14366, 26, 26, 3)"
      ]
     },
     "execution_count": 21,
     "metadata": {},
     "output_type": "execute_result"
    }
   ],
   "source": [
    "new_x.shape"
   ]
  },
  {
   "cell_type": "code",
   "execution_count": 22,
   "metadata": {},
   "outputs": [],
   "source": [
    "# Encoder\n",
    "input_shape = (26, 26, 3)\n",
    "input_tensor = Input(input_shape)\n",
    "encode = layers.Conv2D(64, (3,3), padding='same', activation='relu')(input_tensor)\n",
    "\n",
    "latent_vector = layers.MaxPool2D()(encode)\n",
    "\n",
    "# Decoder\n",
    "decode_layer_1 = layers.Conv2DTranspose(64, (3,3), padding='same', activation='relu')\n",
    "decode_layer_2 = layers.UpSampling2D()\n",
    "output_tensor = layers.Conv2DTranspose(3, (3,3), padding='same', activation='sigmoid')\n",
    "\n",
    "# connect decoder layers\n",
    "decode = decode_layer_1(latent_vector)\n",
    "decode = decode_layer_2(decode)\n",
    "\n",
    "ae = models.Model(input_tensor, output_tensor(decode))\n",
    "ae.compile(optimizer = 'Adam',\n",
    "              loss = 'mse',\n",
    "             )"
   ]
  },
  {
   "cell_type": "code",
   "execution_count": 23,
   "metadata": {},
   "outputs": [],
   "source": [
    "epoch=30\n",
    "batch_size=1024"
   ]
  },
  {
   "cell_type": "code",
   "execution_count": 24,
   "metadata": {},
   "outputs": [
    {
     "name": "stdout",
     "output_type": "stream",
     "text": [
      "Epoch 1/30\n",
      "15/15 - 13s - loss: 0.1461 - 13s/epoch - 840ms/step\n",
      "Epoch 2/30\n",
      "15/15 - 12s - loss: 0.0945 - 12s/epoch - 820ms/step\n",
      "Epoch 3/30\n",
      "15/15 - 13s - loss: 0.0833 - 13s/epoch - 841ms/step\n",
      "Epoch 4/30\n",
      "15/15 - 12s - loss: 0.0723 - 12s/epoch - 822ms/step\n",
      "Epoch 5/30\n",
      "15/15 - 12s - loss: 0.0632 - 12s/epoch - 824ms/step\n",
      "Epoch 6/30\n",
      "15/15 - 13s - loss: 0.0566 - 13s/epoch - 840ms/step\n",
      "Epoch 7/30\n",
      "15/15 - 12s - loss: 0.0510 - 12s/epoch - 828ms/step\n",
      "Epoch 8/30\n",
      "15/15 - 12s - loss: 0.0459 - 12s/epoch - 829ms/step\n",
      "Epoch 9/30\n",
      "15/15 - 13s - loss: 0.0409 - 13s/epoch - 899ms/step\n",
      "Epoch 10/30\n",
      "15/15 - 13s - loss: 0.0362 - 13s/epoch - 867ms/step\n",
      "Epoch 11/30\n",
      "15/15 - 13s - loss: 0.0321 - 13s/epoch - 856ms/step\n",
      "Epoch 12/30\n",
      "15/15 - 13s - loss: 0.0286 - 13s/epoch - 887ms/step\n",
      "Epoch 13/30\n",
      "15/15 - 14s - loss: 0.0258 - 14s/epoch - 911ms/step\n",
      "Epoch 14/30\n",
      "15/15 - 14s - loss: 0.0234 - 14s/epoch - 919ms/step\n",
      "Epoch 15/30\n",
      "15/15 - 14s - loss: 0.0213 - 14s/epoch - 942ms/step\n",
      "Epoch 16/30\n",
      "15/15 - 14s - loss: 0.0196 - 14s/epoch - 902ms/step\n",
      "Epoch 17/30\n",
      "15/15 - 13s - loss: 0.0181 - 13s/epoch - 880ms/step\n",
      "Epoch 18/30\n",
      "15/15 - 13s - loss: 0.0168 - 13s/epoch - 895ms/step\n",
      "Epoch 19/30\n",
      "15/15 - 13s - loss: 0.0156 - 13s/epoch - 865ms/step\n",
      "Epoch 20/30\n",
      "15/15 - 13s - loss: 0.0145 - 13s/epoch - 887ms/step\n",
      "Epoch 21/30\n",
      "15/15 - 13s - loss: 0.0136 - 13s/epoch - 874ms/step\n",
      "Epoch 22/30\n",
      "15/15 - 13s - loss: 0.0128 - 13s/epoch - 873ms/step\n",
      "Epoch 23/30\n",
      "15/15 - 13s - loss: 0.0120 - 13s/epoch - 898ms/step\n",
      "Epoch 24/30\n",
      "15/15 - 15s - loss: 0.0113 - 15s/epoch - 968ms/step\n",
      "Epoch 25/30\n",
      "15/15 - 13s - loss: 0.0107 - 13s/epoch - 891ms/step\n",
      "Epoch 26/30\n",
      "15/15 - 13s - loss: 0.0101 - 13s/epoch - 893ms/step\n",
      "Epoch 27/30\n",
      "15/15 - 13s - loss: 0.0095 - 13s/epoch - 878ms/step\n",
      "Epoch 28/30\n",
      "15/15 - 13s - loss: 0.0090 - 13s/epoch - 893ms/step\n",
      "Epoch 29/30\n",
      "15/15 - 13s - loss: 0.0086 - 13s/epoch - 889ms/step\n",
      "Epoch 30/30\n",
      "15/15 - 13s - loss: 0.0082 - 13s/epoch - 845ms/step\n"
     ]
    },
    {
     "data": {
      "text/plain": [
       "<keras.callbacks.History at 0x203a7d85160>"
      ]
     },
     "execution_count": 24,
     "metadata": {},
     "output_type": "execute_result"
    }
   ],
   "source": [
    "# start train\n",
    "ae.fit(new_x, new_x,\n",
    "       batch_size=batch_size,\n",
    "       epochs=epoch,\n",
    "       verbose=2)"
   ]
  },
  {
   "cell_type": "code",
   "execution_count": 25,
   "metadata": {},
   "outputs": [],
   "source": [
    "encoder = models.Model(input_tensor, latent_vector)"
   ]
  },
  {
   "cell_type": "code",
   "execution_count": 26,
   "metadata": {},
   "outputs": [],
   "source": [
    "decoder_input = Input((13, 13, 64))\n",
    "decode = decode_layer_1(decoder_input)\n",
    "decode = decode_layer_2(decode)\n",
    "\n",
    "decoder = models.Model(decoder_input, output_tensor(decode))"
   ]
  },
  {
   "cell_type": "code",
   "execution_count": 27,
   "metadata": {},
   "outputs": [],
   "source": [
    "# Encode original faulty wafer\n",
    "encoded_x = encoder.predict(new_x)"
   ]
  },
  {
   "cell_type": "code",
   "execution_count": 28,
   "metadata": {},
   "outputs": [],
   "source": [
    "# Add noise to encoded latent faulty wafers vector.\n",
    "noised_encoded_x = encoded_x + np.random.normal(loc=0, scale=0.1, size = (len(encoded_x), 13, 13, 64))"
   ]
  },
  {
   "cell_type": "code",
   "execution_count": 29,
   "metadata": {},
   "outputs": [
    {
     "data": {
      "text/plain": [
       "<matplotlib.image.AxesImage at 0x203a8add240>"
      ]
     },
     "execution_count": 29,
     "metadata": {},
     "output_type": "execute_result"
    },
    {
     "data": {
      "image/png": "[encoded data removed]",
      "text/plain": [
       "<Figure size 432x288 with 1 Axes>"
      ]
     },
     "metadata": {
      "needs_background": "light"
     },
     "output_type": "display_data"
    }
   ],
   "source": [
    "# check original faulty wafer data\n",
    "plt.imshow(np.argmax(new_x[3], axis=2))"
   ]
  },
  {
   "cell_type": "code",
   "execution_count": 30,
   "metadata": {},
   "outputs": [
    {
     "data": {
      "text/plain": [
       "<matplotlib.image.AxesImage at 0x203a8391dd8>"
      ]
     },
     "execution_count": 30,
     "metadata": {},
     "output_type": "execute_result"
    },
    {
     "data": {
      "image/png": "[encoded data removed]",
      "text/plain": [
       "<Figure size 432x288 with 1 Axes>"
      ]
     },
     "metadata": {
      "needs_background": "light"
     },
     "output_type": "display_data"
    }
   ],
   "source": [
    "# check new noised faulty wafer data\n",
    "noised_gen_x = np.argmax(decoder.predict(noised_encoded_x), axis=3)\n",
    "plt.imshow(noised_gen_x[3])"
   ]
  },
  {
   "cell_type": "code",
   "execution_count": 31,
   "metadata": {},
   "outputs": [],
   "source": [
    "# augment function define\n",
    "def gen_data(wafer, label):\n",
    "    # Encode input wafer\n",
    "    encoded_x = encoder.predict(wafer)\n",
    "    \n",
    "    # dummy array for collecting noised wafer\n",
    "    gen_x = np.zeros((1, 26, 26, 3))\n",
    "    \n",
    "    # Make wafer until total # of wafer to 2000\n",
    "    for i in range((2000//len(wafer)) + 1):\n",
    "        noised_encoded_x = encoded_x + np.random.normal(loc=0, scale=0.1, size = (len(encoded_x), 13, 13, 64)) \n",
    "        noised_gen_x = decoder.predict(noised_encoded_x)\n",
    "        gen_x = np.concatenate((gen_x, noised_gen_x), axis=0)\n",
    "    # also make label vector with same length\n",
    "    gen_y = np.full((len(gen_x), 1), label)\n",
    "    \n",
    "    # return date without 1st dummy data.\n",
    "    return gen_x[1:], gen_y[1:]"
   ]
  },
  {
   "cell_type": "code",
   "execution_count": 32,
   "metadata": {},
   "outputs": [],
   "source": [
    "# Augmentation for all faulty case.\n",
    "for f in faulty_case : \n",
    "    # skip none case\n",
    "    if f == 'none' : \n",
    "        continue\n",
    "    \n",
    "    gen_x, gen_y = gen_data(new_x[np.where(y==f)[0]], f)\n",
    "    new_x = np.concatenate((new_x, gen_x), axis=0)\n",
    "    y = np.concatenate((y, gen_y))"
   ]
  },
  {
   "cell_type": "code",
   "execution_count": 33,
   "metadata": {},
   "outputs": [
    {
     "name": "stdout",
     "output_type": "stream",
     "text": [
      "After Generate new_x shape : (30707, 26, 26, 3), new_y shape : (30707, 1)\n"
     ]
    }
   ],
   "source": [
    "print('After Generate new_x shape : {}, new_y shape : {}'.format(new_x.shape, y.shape))"
   ]
  },
  {
   "cell_type": "code",
   "execution_count": 34,
   "metadata": {},
   "outputs": [
    {
     "name": "stdout",
     "output_type": "stream",
     "text": [
      "Center : 2160\n",
      "Donut : 2002\n",
      "Edge-Loc : 2368\n",
      "Edge-Ring : 2046\n",
      "Loc : 2376\n",
      "Near-full : 2032\n",
      "Random : 2146\n",
      "Scratch : 2088\n",
      "none : 13489\n"
     ]
    }
   ],
   "source": [
    "for f in faulty_case :\n",
    "    print('{} : {}'.format(f, len(y[y==f])))"
   ]
  },
  {
   "cell_type": "code",
   "execution_count": 35,
   "metadata": {},
   "outputs": [],
   "source": [
    "none_idx = np.where(y=='none')[0][np.random.choice(len(np.where(y=='none')[0]), size=11000, replace=False)]"
   ]
  },
  {
   "cell_type": "code",
   "execution_count": 36,
   "metadata": {},
   "outputs": [],
   "source": [
    "new_x = np.delete(new_x, none_idx, axis=0)\n",
    "new_y = np.delete(y, none_idx, axis=0)"
   ]
  },
  {
   "cell_type": "code",
   "execution_count": 37,
   "metadata": {},
   "outputs": [
    {
     "name": "stdout",
     "output_type": "stream",
     "text": [
      "After Delete \"none\" class new_x shape : (19707, 26, 26, 3), new_y shape : (19707, 1)\n"
     ]
    }
   ],
   "source": [
    "print('After Delete \"none\" class new_x shape : {}, new_y shape : {}'.format(new_x.shape, new_y.shape))"
   ]
  },
  {
   "cell_type": "code",
   "execution_count": 38,
   "metadata": {},
   "outputs": [
    {
     "name": "stdout",
     "output_type": "stream",
     "text": [
      "Center : 2160\n",
      "Donut : 2002\n",
      "Edge-Loc : 2368\n",
      "Edge-Ring : 2046\n",
      "Loc : 2376\n",
      "Near-full : 2032\n",
      "Random : 2146\n",
      "Scratch : 2088\n",
      "none : 2489\n"
     ]
    }
   ],
   "source": [
    "for f in faulty_case :\n",
    "    print('{} : {}'.format(f, len(new_y[new_y==f])))"
   ]
  },
  {
   "cell_type": "code",
   "execution_count": 39,
   "metadata": {},
   "outputs": [],
   "source": [
    "for i, l in enumerate(faulty_case):\n",
    "    new_y[new_y==l] = i\n",
    "    \n",
    "# one-hot-encoding\n",
    "new_y = to_categorical(new_y)"
   ]
  },
  {
   "cell_type": "code",
   "execution_count": 40,
   "metadata": {},
   "outputs": [
    {
     "data": {
      "text/plain": [
       "(705, 26, 26, 3)"
      ]
     },
     "execution_count": 40,
     "metadata": {},
     "output_type": "execute_result"
    }
   ],
   "source": [
    "new_X=new_x[0:19000]\n",
    "new_Y=new_y[0:19000]\n",
    "test_x=new_x[19001:19706]\n",
    "test_y=new_y[19001:19706]\n",
    "test_x.shape"
   ]
  },
  {
   "cell_type": "code",
   "execution_count": 41,
   "metadata": {},
   "outputs": [],
   "source": [
    "x_train, x_test, y_train, y_test = train_test_split(new_X, new_Y,\n",
    "                                                    test_size=0.33,\n",
    "                                                    random_state=2019)"
   ]
  },
  {
   "cell_type": "code",
   "execution_count": 42,
   "metadata": {},
   "outputs": [
    {
     "name": "stdout",
     "output_type": "stream",
     "text": [
      "Train x : (12730, 26, 26, 3), y : (12730, 9)\n",
      "Test x: (6270, 26, 26, 3), y : (6270, 9)\n"
     ]
    }
   ],
   "source": [
    "print('Train x : {}, y : {}'.format(x_train.shape, y_train.shape))\n",
    "print('Test x: {}, y : {}'.format(x_test.shape, y_test.shape))"
   ]
  },
  {
   "cell_type": "code",
   "execution_count": 43,
   "metadata": {},
   "outputs": [],
   "source": [
    "def create_model():\n",
    "    input_shape = (26, 26, 3)\n",
    "    input_tensor = Input(input_shape)\n",
    "\n",
    "    conv_1 = layers.Conv2D(16, (3,3), activation='relu', padding='same')(input_tensor)\n",
    "    conv_2 = layers.Conv2D(64, (3,3), activation='relu', padding='same')(conv_1)\n",
    "    conv_3 = layers.Conv2D(128, (3,3), activation='relu', padding='same')(conv_2)\n",
    "\n",
    "    flat = layers.Flatten()(conv_3)\n",
    "\n",
    "    dense_1 = layers.Dense(512, activation='relu')(flat)\n",
    "    dense_2 = layers.Dense(128, activation='relu')(dense_1)\n",
    "    output_tensor = layers.Dense(9, activation='softmax')(dense_2)\n",
    "\n",
    "    model = models.Model(input_tensor, output_tensor)\n",
    "    model.compile(optimizer='Adam',\n",
    "                 loss='categorical_crossentropy',\n",
    "                 metrics=['accuracy'])\n",
    "\n",
    "    return model"
   ]
  },
  {
   "cell_type": "code",
   "execution_count": 44,
   "metadata": {},
   "outputs": [
    {
     "name": "stdout",
     "output_type": "stream",
     "text": [
      "Epoch 1/30\n",
      "9/9 - 36s - loss: 1.9874 - accuracy: 0.3767 - 36s/epoch - 4s/step\n",
      "Epoch 2/30\n",
      "9/9 - 35s - loss: 0.8226 - accuracy: 0.6989 - 35s/epoch - 4s/step\n",
      "Epoch 3/30\n",
      "9/9 - 38s - loss: 0.4981 - accuracy: 0.8136 - 38s/epoch - 4s/step\n",
      "Epoch 4/30\n",
      "9/9 - 37s - loss: 0.3408 - accuracy: 0.8876 - 37s/epoch - 4s/step\n",
      "Epoch 5/30\n",
      "9/9 - 38s - loss: 0.3953 - accuracy: 0.9075 - 38s/epoch - 4s/step\n",
      "Epoch 6/30\n",
      "9/9 - 41s - loss: 0.2017 - accuracy: 0.9404 - 41s/epoch - 5s/step\n",
      "Epoch 7/30\n",
      "9/9 - 40s - loss: 0.1194 - accuracy: 0.9664 - 40s/epoch - 4s/step\n",
      "Epoch 8/30\n",
      "9/9 - 40s - loss: 0.0673 - accuracy: 0.9867 - 40s/epoch - 4s/step\n",
      "Epoch 9/30\n",
      "9/9 - 39s - loss: 0.0338 - accuracy: 0.9945 - 39s/epoch - 4s/step\n",
      "Epoch 10/30\n",
      "9/9 - 41s - loss: 0.0233 - accuracy: 0.9958 - 41s/epoch - 5s/step\n",
      "Epoch 11/30\n",
      "9/9 - 39s - loss: 0.0206 - accuracy: 0.9948 - 39s/epoch - 4s/step\n",
      "Epoch 12/30\n",
      "9/9 - 38s - loss: 0.0157 - accuracy: 0.9968 - 38s/epoch - 4s/step\n",
      "Epoch 13/30\n",
      "9/9 - 38s - loss: 0.0118 - accuracy: 0.9973 - 38s/epoch - 4s/step\n",
      "Epoch 14/30\n",
      "9/9 - 38s - loss: 0.0099 - accuracy: 0.9975 - 38s/epoch - 4s/step\n",
      "Epoch 15/30\n",
      "9/9 - 40s - loss: 0.0139 - accuracy: 0.9969 - 40s/epoch - 4s/step\n",
      "Epoch 16/30\n",
      "9/9 - 37s - loss: 0.0100 - accuracy: 0.9984 - 37s/epoch - 4s/step\n",
      "Epoch 17/30\n",
      "9/9 - 36s - loss: 0.0078 - accuracy: 0.9986 - 36s/epoch - 4s/step\n",
      "Epoch 18/30\n",
      "9/9 - 36s - loss: 0.0063 - accuracy: 0.9989 - 36s/epoch - 4s/step\n",
      "Epoch 19/30\n",
      "9/9 - 36s - loss: 0.0048 - accuracy: 0.9989 - 36s/epoch - 4s/step\n",
      "Epoch 20/30\n",
      "9/9 - 37s - loss: 0.0047 - accuracy: 0.9989 - 37s/epoch - 4s/step\n",
      "Epoch 21/30\n",
      "9/9 - 35s - loss: 0.0046 - accuracy: 0.9988 - 35s/epoch - 4s/step\n",
      "Epoch 22/30\n",
      "9/9 - 37s - loss: 0.0054 - accuracy: 0.9988 - 37s/epoch - 4s/step\n",
      "Epoch 23/30\n",
      "9/9 - 38s - loss: 0.0049 - accuracy: 0.9987 - 38s/epoch - 4s/step\n",
      "Epoch 24/30\n",
      "9/9 - 38s - loss: 0.0043 - accuracy: 0.9988 - 38s/epoch - 4s/step\n",
      "Epoch 25/30\n",
      "9/9 - 38s - loss: 0.0032 - accuracy: 0.9992 - 38s/epoch - 4s/step\n",
      "Epoch 26/30\n",
      "9/9 - 38s - loss: 0.0034 - accuracy: 0.9989 - 38s/epoch - 4s/step\n",
      "Epoch 27/30\n",
      "9/9 - 36s - loss: 0.0031 - accuracy: 0.9991 - 36s/epoch - 4s/step\n",
      "Epoch 28/30\n",
      "9/9 - 37s - loss: 0.0038 - accuracy: 0.9988 - 37s/epoch - 4s/step\n",
      "Epoch 29/30\n",
      "9/9 - 36s - loss: 0.0029 - accuracy: 0.9994 - 36s/epoch - 4s/step\n",
      "Epoch 30/30\n",
      "9/9 - 38s - loss: 0.0030 - accuracy: 0.9989 - 38s/epoch - 4s/step\n",
      "5/5 - 6s - loss: 0.0274 - accuracy: 0.9903 - 6s/epoch - 1s/step\n",
      "Epoch 1/30\n",
      "9/9 - 39s - loss: 2.2890 - accuracy: 0.2655 - 39s/epoch - 4s/step\n",
      "Epoch 2/30\n",
      "9/9 - 38s - loss: 1.0507 - accuracy: 0.6318 - 38s/epoch - 4s/step\n",
      "Epoch 3/30\n",
      "9/9 - 38s - loss: 0.7352 - accuracy: 0.7593 - 38s/epoch - 4s/step\n",
      "Epoch 4/30\n",
      "9/9 - 38s - loss: 0.4995 - accuracy: 0.8406 - 38s/epoch - 4s/step\n",
      "Epoch 5/30\n",
      "9/9 - 37s - loss: 0.3029 - accuracy: 0.9170 - 37s/epoch - 4s/step\n",
      "Epoch 6/30\n",
      "9/9 - 39s - loss: 0.1646 - accuracy: 0.9542 - 39s/epoch - 4s/step\n",
      "Epoch 7/30\n",
      "9/9 - 38s - loss: 0.0866 - accuracy: 0.9774 - 38s/epoch - 4s/step\n",
      "Epoch 8/30\n",
      "9/9 - 38s - loss: 0.0456 - accuracy: 0.9905 - 38s/epoch - 4s/step\n",
      "Epoch 9/30\n",
      "9/9 - 38s - loss: 0.0321 - accuracy: 0.9939 - 38s/epoch - 4s/step\n",
      "Epoch 10/30\n",
      "9/9 - 38s - loss: 0.0175 - accuracy: 0.9978 - 38s/epoch - 4s/step\n",
      "Epoch 11/30\n",
      "9/9 - 38s - loss: 0.0105 - accuracy: 0.9984 - 38s/epoch - 4s/step\n",
      "Epoch 12/30\n",
      "9/9 - 38s - loss: 0.0079 - accuracy: 0.9988 - 38s/epoch - 4s/step\n",
      "Epoch 13/30\n",
      "9/9 - 38s - loss: 0.0070 - accuracy: 0.9984 - 38s/epoch - 4s/step\n",
      "Epoch 14/30\n",
      "9/9 - 37s - loss: 0.0085 - accuracy: 0.9988 - 37s/epoch - 4s/step\n",
      "Epoch 15/30\n",
      "9/9 - 37s - loss: 0.0084 - accuracy: 0.9989 - 37s/epoch - 4s/step\n",
      "Epoch 16/30\n",
      "9/9 - 38s - loss: 0.0073 - accuracy: 0.9986 - 38s/epoch - 4s/step\n",
      "Epoch 17/30\n",
      "9/9 - 38s - loss: 0.0067 - accuracy: 0.9992 - 38s/epoch - 4s/step\n",
      "Epoch 18/30\n",
      "9/9 - 38s - loss: 0.0052 - accuracy: 0.9988 - 38s/epoch - 4s/step\n",
      "Epoch 19/30\n",
      "9/9 - 38s - loss: 0.0063 - accuracy: 0.9985 - 38s/epoch - 4s/step\n",
      "Epoch 20/30\n",
      "9/9 - 38s - loss: 0.0044 - accuracy: 0.9991 - 38s/epoch - 4s/step\n",
      "Epoch 21/30\n",
      "9/9 - 37s - loss: 0.0063 - accuracy: 0.9986 - 37s/epoch - 4s/step\n",
      "Epoch 22/30\n",
      "9/9 - 41s - loss: 0.0043 - accuracy: 0.9988 - 41s/epoch - 5s/step\n",
      "Epoch 23/30\n",
      "9/9 - 39s - loss: 0.0051 - accuracy: 0.9991 - 39s/epoch - 4s/step\n",
      "Epoch 24/30\n",
      "9/9 - 38s - loss: 0.0037 - accuracy: 0.9988 - 38s/epoch - 4s/step\n",
      "Epoch 25/30\n",
      "9/9 - 38s - loss: 0.0071 - accuracy: 0.9985 - 38s/epoch - 4s/step\n",
      "Epoch 26/30\n",
      "9/9 - 39s - loss: 0.0070 - accuracy: 0.9986 - 39s/epoch - 4s/step\n",
      "Epoch 27/30\n",
      "9/9 - 38s - loss: 0.0085 - accuracy: 0.9988 - 38s/epoch - 4s/step\n",
      "Epoch 28/30\n",
      "9/9 - 38s - loss: 0.0053 - accuracy: 0.9988 - 38s/epoch - 4s/step\n",
      "Epoch 29/30\n",
      "9/9 - 38s - loss: 0.0043 - accuracy: 0.9988 - 38s/epoch - 4s/step\n",
      "Epoch 30/30\n",
      "9/9 - 38s - loss: 0.0063 - accuracy: 0.9980 - 38s/epoch - 4s/step\n",
      "5/5 - 6s - loss: 0.0427 - accuracy: 0.9880 - 6s/epoch - 1s/step\n",
      "Epoch 1/30\n",
      "9/9 - 39s - loss: 1.9313 - accuracy: 0.3517 - 39s/epoch - 4s/step\n",
      "Epoch 2/30\n",
      "9/9 - 37s - loss: 0.8530 - accuracy: 0.6830 - 37s/epoch - 4s/step\n",
      "Epoch 3/30\n",
      "9/9 - 38s - loss: 0.7095 - accuracy: 0.7746 - 38s/epoch - 4s/step\n",
      "Epoch 4/30\n",
      "9/9 - 38s - loss: 0.3857 - accuracy: 0.8953 - 38s/epoch - 4s/step\n",
      "Epoch 5/30\n",
      "9/9 - 38s - loss: 0.2161 - accuracy: 0.9434 - 38s/epoch - 4s/step\n",
      "Epoch 6/30\n",
      "9/9 - 38s - loss: 0.1042 - accuracy: 0.9747 - 38s/epoch - 4s/step\n",
      "Epoch 7/30\n",
      "9/9 - 39s - loss: 0.0551 - accuracy: 0.9881 - 39s/epoch - 4s/step\n",
      "Epoch 8/30\n",
      "9/9 - 39s - loss: 0.0367 - accuracy: 0.9912 - 39s/epoch - 4s/step\n",
      "Epoch 9/30\n",
      "9/9 - 38s - loss: 0.0283 - accuracy: 0.9925 - 38s/epoch - 4s/step\n",
      "Epoch 10/30\n",
      "9/9 - 38s - loss: 0.0325 - accuracy: 0.9914 - 38s/epoch - 4s/step\n",
      "Epoch 11/30\n",
      "9/9 - 37s - loss: 0.0203 - accuracy: 0.9954 - 37s/epoch - 4s/step\n",
      "Epoch 12/30\n",
      "9/9 - 38s - loss: 0.0133 - accuracy: 0.9971 - 38s/epoch - 4s/step\n",
      "Epoch 13/30\n",
      "9/9 - 38s - loss: 0.0080 - accuracy: 0.9987 - 38s/epoch - 4s/step\n",
      "Epoch 14/30\n",
      "9/9 - 38s - loss: 0.0070 - accuracy: 0.9986 - 38s/epoch - 4s/step\n",
      "Epoch 15/30\n",
      "9/9 - 38s - loss: 0.0068 - accuracy: 0.9986 - 38s/epoch - 4s/step\n",
      "Epoch 16/30\n",
      "9/9 - 38s - loss: 0.0090 - accuracy: 0.9979 - 38s/epoch - 4s/step\n",
      "Epoch 17/30\n",
      "9/9 - 39s - loss: 0.0073 - accuracy: 0.9984 - 39s/epoch - 4s/step\n",
      "Epoch 18/30\n",
      "9/9 - 39s - loss: 0.0066 - accuracy: 0.9987 - 39s/epoch - 4s/step\n",
      "Epoch 19/30\n",
      "9/9 - 38s - loss: 0.0060 - accuracy: 0.9981 - 38s/epoch - 4s/step\n",
      "Epoch 20/30\n",
      "9/9 - 38s - loss: 0.0054 - accuracy: 0.9981 - 38s/epoch - 4s/step\n",
      "Epoch 21/30\n",
      "9/9 - 38s - loss: 0.0073 - accuracy: 0.9984 - 38s/epoch - 4s/step\n",
      "Epoch 22/30\n",
      "9/9 - 38s - loss: 0.0049 - accuracy: 0.9987 - 38s/epoch - 4s/step\n",
      "Epoch 23/30\n",
      "9/9 - 38s - loss: 0.0044 - accuracy: 0.9986 - 38s/epoch - 4s/step\n",
      "Epoch 24/30\n",
      "9/9 - 38s - loss: 0.0052 - accuracy: 0.9980 - 38s/epoch - 4s/step\n",
      "Epoch 25/30\n",
      "9/9 - 40s - loss: 0.0087 - accuracy: 0.9987 - 40s/epoch - 4s/step\n",
      "Epoch 26/30\n",
      "9/9 - 39s - loss: 0.0049 - accuracy: 0.9986 - 39s/epoch - 4s/step\n",
      "Epoch 27/30\n",
      "9/9 - 40s - loss: 0.0046 - accuracy: 0.9984 - 40s/epoch - 4s/step\n",
      "Epoch 28/30\n",
      "9/9 - 39s - loss: 0.0045 - accuracy: 0.9984 - 39s/epoch - 4s/step\n",
      "Epoch 29/30\n",
      "9/9 - 40s - loss: 0.0032 - accuracy: 0.9991 - 40s/epoch - 4s/step\n",
      "Epoch 30/30\n",
      "9/9 - 41s - loss: 0.0084 - accuracy: 0.9985 - 41s/epoch - 5s/step\n",
      "5/5 - 6s - loss: 0.0281 - accuracy: 0.9922 - 6s/epoch - 1s/step\n",
      "Simple CNN Cross validation score : 0.9902\n"
     ]
    }
   ],
   "source": [
    "model = KerasClassifier(build_fn=create_model, epochs=30, batch_size=1024, verbose=2) \n",
    "# 3-Fold Crossvalidation\n",
    "kfold = KFold(n_splits=3, shuffle=True, random_state=2019) \n",
    "results = cross_val_score(model, x_train, y_train, cv=kfold)\n",
    "# Check 3-fold model's mean accuracy\n",
    "print('Simple CNN Cross validation score : {:.4f}'.format(np.mean(results)))"
   ]
  },
  {
   "cell_type": "code",
   "execution_count": 45,
   "metadata": {},
   "outputs": [],
   "source": [
    "#results"
   ]
  },
  {
   "cell_type": "code",
   "execution_count": 46,
   "metadata": {},
   "outputs": [
    {
     "name": "stdout",
     "output_type": "stream",
     "text": [
      "<keras.wrappers.scikit_learn.KerasClassifier object at 0x00000203CFD17320>\n"
     ]
    }
   ],
   "source": [
    "print(model)"
   ]
  },
  {
   "cell_type": "code",
   "execution_count": 47,
   "metadata": {},
   "outputs": [
    {
     "name": "stdout",
     "output_type": "stream",
     "text": [
      "Epoch 1/30\n",
      "13/13 - 68s - loss: 2.0164 - accuracy: 0.4007 - val_loss: 1.1567 - val_accuracy: 0.5335 - 68s/epoch - 5s/step\n",
      "Epoch 2/30\n",
      "13/13 - 66s - loss: 0.8836 - accuracy: 0.6942 - val_loss: 0.5391 - val_accuracy: 0.8062 - 66s/epoch - 5s/step\n",
      "Epoch 3/30\n",
      "13/13 - 72s - loss: 0.4139 - accuracy: 0.8533 - val_loss: 0.2973 - val_accuracy: 0.9185 - 72s/epoch - 6s/step\n",
      "Epoch 4/30\n",
      "13/13 - 72s - loss: 0.2224 - accuracy: 0.9402 - val_loss: 0.1591 - val_accuracy: 0.9633 - 72s/epoch - 6s/step\n",
      "Epoch 5/30\n",
      "13/13 - 71s - loss: 0.0894 - accuracy: 0.9780 - val_loss: 0.0609 - val_accuracy: 0.9871 - 71s/epoch - 5s/step\n",
      "Epoch 6/30\n",
      "13/13 - 72s - loss: 0.0343 - accuracy: 0.9939 - val_loss: 0.0317 - val_accuracy: 0.9920 - 72s/epoch - 6s/step\n",
      "Epoch 7/30\n",
      "13/13 - 71s - loss: 0.0184 - accuracy: 0.9961 - val_loss: 0.0257 - val_accuracy: 0.9944 - 71s/epoch - 5s/step\n",
      "Epoch 8/30\n",
      "13/13 - 72s - loss: 0.0780 - accuracy: 0.9736 - val_loss: 0.1116 - val_accuracy: 0.9727 - 72s/epoch - 6s/step\n",
      "Epoch 9/30\n",
      "13/13 - 71s - loss: 0.0395 - accuracy: 0.9924 - val_loss: 0.0356 - val_accuracy: 0.9904 - 71s/epoch - 5s/step\n",
      "Epoch 10/30\n",
      "13/13 - 72s - loss: 0.0124 - accuracy: 0.9984 - val_loss: 0.0247 - val_accuracy: 0.9928 - 72s/epoch - 6s/step\n",
      "Epoch 11/30\n",
      "13/13 - 72s - loss: 0.0071 - accuracy: 0.9983 - val_loss: 0.0169 - val_accuracy: 0.9931 - 72s/epoch - 6s/step\n",
      "Epoch 12/30\n",
      "13/13 - 71s - loss: 0.0067 - accuracy: 0.9983 - val_loss: 0.0156 - val_accuracy: 0.9947 - 71s/epoch - 5s/step\n",
      "Epoch 13/30\n",
      "13/13 - 71s - loss: 0.0077 - accuracy: 0.9984 - val_loss: 0.0160 - val_accuracy: 0.9943 - 71s/epoch - 5s/step\n",
      "Epoch 14/30\n",
      "13/13 - 71s - loss: 0.0052 - accuracy: 0.9979 - val_loss: 0.0151 - val_accuracy: 0.9939 - 71s/epoch - 5s/step\n",
      "Epoch 15/30\n",
      "13/13 - 71s - loss: 0.0040 - accuracy: 0.9987 - val_loss: 0.0162 - val_accuracy: 0.9939 - 71s/epoch - 5s/step\n",
      "Epoch 16/30\n",
      "13/13 - 71s - loss: 0.0038 - accuracy: 0.9986 - val_loss: 0.0154 - val_accuracy: 0.9943 - 71s/epoch - 5s/step\n",
      "Epoch 17/30\n",
      "13/13 - 72s - loss: 0.0037 - accuracy: 0.9987 - val_loss: 0.0170 - val_accuracy: 0.9941 - 72s/epoch - 6s/step\n",
      "Epoch 18/30\n",
      "13/13 - 73s - loss: 0.0043 - accuracy: 0.9987 - val_loss: 0.0163 - val_accuracy: 0.9941 - 73s/epoch - 6s/step\n",
      "Epoch 19/30\n",
      "13/13 - 72s - loss: 0.0042 - accuracy: 0.9983 - val_loss: 0.0202 - val_accuracy: 0.9946 - 72s/epoch - 6s/step\n",
      "Epoch 20/30\n",
      "13/13 - 72s - loss: 0.0043 - accuracy: 0.9987 - val_loss: 0.0150 - val_accuracy: 0.9955 - 72s/epoch - 6s/step\n",
      "Epoch 21/30\n",
      "13/13 - 71s - loss: 0.0040 - accuracy: 0.9987 - val_loss: 0.0185 - val_accuracy: 0.9944 - 71s/epoch - 5s/step\n",
      "Epoch 22/30\n",
      "13/13 - 72s - loss: 0.0035 - accuracy: 0.9990 - val_loss: 0.0191 - val_accuracy: 0.9939 - 72s/epoch - 6s/step\n",
      "Epoch 23/30\n",
      "13/13 - 71s - loss: 0.0047 - accuracy: 0.9982 - val_loss: 0.0209 - val_accuracy: 0.9946 - 71s/epoch - 5s/step\n",
      "Epoch 24/30\n",
      "13/13 - 70s - loss: 0.0070 - accuracy: 0.9980 - val_loss: 0.0199 - val_accuracy: 0.9955 - 70s/epoch - 5s/step\n",
      "Epoch 25/30\n",
      "13/13 - 70s - loss: 0.0074 - accuracy: 0.9986 - val_loss: 0.0228 - val_accuracy: 0.9951 - 70s/epoch - 5s/step\n",
      "Epoch 26/30\n",
      "13/13 - 72s - loss: 0.0052 - accuracy: 0.9988 - val_loss: 0.0154 - val_accuracy: 0.9949 - 72s/epoch - 6s/step\n",
      "Epoch 27/30\n",
      "13/13 - 70s - loss: 0.0034 - accuracy: 0.9989 - val_loss: 0.0179 - val_accuracy: 0.9949 - 70s/epoch - 5s/step\n",
      "Epoch 28/30\n",
      "13/13 - 71s - loss: 0.0038 - accuracy: 0.9987 - val_loss: 0.0140 - val_accuracy: 0.9941 - 71s/epoch - 5s/step\n",
      "Epoch 29/30\n",
      "13/13 - 71s - loss: 0.0033 - accuracy: 0.9990 - val_loss: 0.0167 - val_accuracy: 0.9955 - 71s/epoch - 5s/step\n",
      "Epoch 30/30\n",
      "13/13 - 72s - loss: 0.0025 - accuracy: 0.9991 - val_loss: 0.0186 - val_accuracy: 0.9927 - 72s/epoch - 6s/step\n"
     ]
    }
   ],
   "source": [
    "history = model.fit(x_train, y_train,\n",
    "         validation_data=[x_test, y_test],\n",
    "         epochs=epoch,\n",
    "         batch_size=batch_size,\n",
    "         )"
   ]
  },
  {
   "cell_type": "code",
   "execution_count": 48,
   "metadata": {},
   "outputs": [
    {
     "name": "stdout",
     "output_type": "stream",
     "text": [
      "7/7 - 9s - loss: 0.0186 - accuracy: 0.9927 - 9s/epoch - 1s/step\n",
      "Testing Accuracy: 0.9926635026931763\n"
     ]
    }
   ],
   "source": [
    "score = model.score(x_test, y_test)\n",
    "#print('Test Loss:', score[0])\n",
    "#print('Test accuracy:', score[1])\n",
    "print('Testing Accuracy:',score)"
   ]
  },
  {
   "cell_type": "code",
   "execution_count": 49,
   "metadata": {},
   "outputs": [
    {
     "name": "stdout",
     "output_type": "stream",
     "text": [
      "dict_keys(['loss', 'accuracy', 'val_loss', 'val_accuracy'])\n"
     ]
    }
   ],
   "source": [
    "print(history.history.keys())"
   ]
  },
  {
   "cell_type": "code",
   "execution_count": 50,
   "metadata": {},
   "outputs": [
    {
     "data": {
      "image/png": "[encoded data removed]",
      "text/plain": [
       "<Figure size 432x288 with 1 Axes>"
      ]
     },
     "metadata": {
      "needs_background": "light"
     },
     "output_type": "display_data"
    },
    {
     "data": {
      "image/png": "[encoded data removed]",
      "text/plain": [
       "<Figure size 432x288 with 1 Axes>"
      ]
     },
     "metadata": {
      "needs_background": "light"
     },
     "output_type": "display_data"
    }
   ],
   "source": [
    "# accuracy plot \n",
    "plt.plot(history.history['accuracy'])\n",
    "plt.plot(history.history['val_accuracy'])\n",
    "plt.title('model accuracy')\n",
    "plt.ylabel('accuracy')\n",
    "plt.xlabel('epoch')\n",
    "plt.legend(['train', 'test'], loc='upper left')\n",
    "plt.show()\n",
    "\n",
    "# loss plot\n",
    "plt.plot(history.history['loss'])\n",
    "plt.plot(history.history['val_loss'])\n",
    "plt.title('model loss')\n",
    "plt.ylabel('loss')\n",
    "plt.xlabel('epoch')\n",
    "plt.legend(['train', 'test'], loc='upper left')\n",
    "plt.show()"
   ]
  }
 ],
 "metadata": {
  "kernelspec": {
   "display_name": "Python 3 (ipykernel)",
   "language": "python",
   "name": "python3"
  },
  "language_info": {
   "codemirror_mode": {
    "name": "ipython",
    "version": 3
   },
   "file_extension": ".py",
   "mimetype": "text/x-python",
   "name": "python",
   "nbconvert_exporter": "python",
   "pygments_lexer": "ipython3",
   "version": "3.7.3"
  }
 },
 "nbformat": 4,
 "nbformat_minor": 4
}
