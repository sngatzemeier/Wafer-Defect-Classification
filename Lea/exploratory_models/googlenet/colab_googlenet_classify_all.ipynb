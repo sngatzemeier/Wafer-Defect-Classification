{
 "cells": [
  {
   "cell_type": "code",
   "execution_count": 1,
   "metadata": {
    "colab": {
     "base_uri": "https://localhost:8080/"
    },
    "executionInfo": {
     "elapsed": 17709,
     "status": "ok",
     "timestamp": 1645132611467,
     "user": {
      "displayName": "Lea Cleary",
      "photoUrl": "https://lh3.googleusercontent.com/a-/AOh14GgzyTYobr3WBfcW_CbeVl1vthXNBKocBj7_WOpm=s64",
      "userId": "08012892845319420981"
     },
     "user_tz": 300
    },
    "id": "CXt05UtlLUcz",
    "outputId": "b11f0ff9-5b3e-4c8e-96f5-d1554a2330c0"
   },
   "outputs": [
    {
     "name": "stdout",
     "output_type": "stream",
     "text": [
      "Collecting pickle5\n",
      "  Downloading pickle5-0.0.12-cp37-cp37m-manylinux_2_5_x86_64.manylinux1_x86_64.whl (256 kB)\n",
      "\u001b[?25l\r",
      "\u001b[K     |█▎                              | 10 kB 17.8 MB/s eta 0:00:01\r",
      "\u001b[K     |██▋                             | 20 kB 17.7 MB/s eta 0:00:01\r",
      "\u001b[K     |███▉                            | 30 kB 10.0 MB/s eta 0:00:01\r",
      "\u001b[K     |█████▏                          | 40 kB 8.3 MB/s eta 0:00:01\r",
      "\u001b[K     |██████▍                         | 51 kB 4.6 MB/s eta 0:00:01\r",
      "\u001b[K     |███████▊                        | 61 kB 5.4 MB/s eta 0:00:01\r",
      "\u001b[K     |█████████                       | 71 kB 3.7 MB/s eta 0:00:01\r",
      "\u001b[K     |██████████▎                     | 81 kB 4.2 MB/s eta 0:00:01\r",
      "\u001b[K     |███████████▌                    | 92 kB 4.6 MB/s eta 0:00:01\r",
      "\u001b[K     |████████████▉                   | 102 kB 5.0 MB/s eta 0:00:01\r",
      "\u001b[K     |██████████████                  | 112 kB 5.0 MB/s eta 0:00:01\r",
      "\u001b[K     |███████████████▍                | 122 kB 5.0 MB/s eta 0:00:01\r",
      "\u001b[K     |████████████████▋               | 133 kB 5.0 MB/s eta 0:00:01\r",
      "\u001b[K     |██████████████████              | 143 kB 5.0 MB/s eta 0:00:01\r",
      "\u001b[K     |███████████████████▏            | 153 kB 5.0 MB/s eta 0:00:01\r",
      "\u001b[K     |████████████████████▌           | 163 kB 5.0 MB/s eta 0:00:01\r",
      "\u001b[K     |█████████████████████▊          | 174 kB 5.0 MB/s eta 0:00:01\r",
      "\u001b[K     |███████████████████████         | 184 kB 5.0 MB/s eta 0:00:01\r",
      "\u001b[K     |████████████████████████▎       | 194 kB 5.0 MB/s eta 0:00:01\r",
      "\u001b[K     |█████████████████████████▋      | 204 kB 5.0 MB/s eta 0:00:01\r",
      "\u001b[K     |██████████████████████████▉     | 215 kB 5.0 MB/s eta 0:00:01\r",
      "\u001b[K     |████████████████████████████▏   | 225 kB 5.0 MB/s eta 0:00:01\r",
      "\u001b[K     |█████████████████████████████▍  | 235 kB 5.0 MB/s eta 0:00:01\r",
      "\u001b[K     |██████████████████████████████▊ | 245 kB 5.0 MB/s eta 0:00:01\r",
      "\u001b[K     |████████████████████████████████| 256 kB 5.0 MB/s eta 0:00:01\r",
      "\u001b[K     |████████████████████████████████| 256 kB 5.0 MB/s \n",
      "\u001b[?25hInstalling collected packages: pickle5\n",
      "Successfully installed pickle5-0.0.12\n"
     ]
    }
   ],
   "source": [
    "import tensorflow as tf\n",
    "import matplotlib.pyplot as plt\n",
    "from tensorflow.keras import datasets, layers, models, losses, Model\n",
    "\n",
    "import os\n",
    "import numpy as np\n",
    "import pandas as pd\n",
    "!pip install pickle5\n",
    "import pickle5 as pickle\n",
    "from skimage.transform import resize as sk_resize"
   ]
  },
  {
   "cell_type": "code",
   "execution_count": 2,
   "metadata": {
    "colab": {
     "base_uri": "https://localhost:8080/"
    },
    "executionInfo": {
     "elapsed": 17775,
     "status": "ok",
     "timestamp": 1645132629236,
     "user": {
      "displayName": "Lea Cleary",
      "photoUrl": "https://lh3.googleusercontent.com/a-/AOh14GgzyTYobr3WBfcW_CbeVl1vthXNBKocBj7_WOpm=s64",
      "userId": "08012892845319420981"
     },
     "user_tz": 300
    },
    "id": "7yTakVl1L2Iy",
    "outputId": "7a6f5b10-af3b-43e3-cf0c-8e4f1d9291d0"
   },
   "outputs": [
    {
     "name": "stdout",
     "output_type": "stream",
     "text": [
      "Mounted at /content/drive/\n"
     ]
    }
   ],
   "source": [
    "# connect Drive\n",
    "from google.colab import drive\n",
    "drive.mount('/content/drive/')"
   ]
  },
  {
   "cell_type": "code",
   "execution_count": 3,
   "metadata": {
    "colab": {
     "base_uri": "https://localhost:8080/"
    },
    "executionInfo": {
     "elapsed": 5182,
     "status": "ok",
     "timestamp": 1645132634411,
     "user": {
      "displayName": "Lea Cleary",
      "photoUrl": "https://lh3.googleusercontent.com/a-/AOh14GgzyTYobr3WBfcW_CbeVl1vthXNBKocBj7_WOpm=s64",
      "userId": "08012892845319420981"
     },
     "user_tz": 300
    },
    "id": "ihcdTQ1BL37k",
    "outputId": "3552479a-c162-49dd-d2aa-43e97da39ea3"
   },
   "outputs": [
    {
     "name": "stdout",
     "output_type": "stream",
     "text": [
      "Raw data shape: (172950, 11)\n"
     ]
    }
   ],
   "source": [
    "# load data\n",
    "path = '/content/drive/MyDrive/W210/Wafer-Defect-Classification'\n",
    "\n",
    "with open(f'{path}/WM-clean.pkl', \"rb\") as fh:\n",
    "    raw_data = pickle.load(fh)\n",
    "    \n",
    "print(f'Raw data shape: {raw_data.shape}')"
   ]
  },
  {
   "cell_type": "code",
   "execution_count": 4,
   "metadata": {
    "colab": {
     "base_uri": "https://localhost:8080/",
     "height": 224
    },
    "executionInfo": {
     "elapsed": 1052,
     "status": "ok",
     "timestamp": 1645132635458,
     "user": {
      "displayName": "Lea Cleary",
      "photoUrl": "https://lh3.googleusercontent.com/a-/AOh14GgzyTYobr3WBfcW_CbeVl1vthXNBKocBj7_WOpm=s64",
      "userId": "08012892845319420981"
     },
     "user_tz": 300
    },
    "id": "OnGk2hheL6KV",
    "outputId": "8b130bf3-9563-4aea-f3b4-e0ad1a2d3b7b"
   },
   "outputs": [
    {
     "name": "stdout",
     "output_type": "stream",
     "text": [
      "{'none': 0, 'Loc': 1, 'Edge-Loc': 2, 'Center': 3, 'Edge-Ring': 4, 'Scratch': 5, 'Random': 6, 'Near-full': 7, 'Donut': 8}\n"
     ]
    },
    {
     "data": {
      "text/html": [
       "\n",
       "  <div id=\"df-23512fc2-6404-4294-ad88-540a04509932\">\n",
       "    <div class=\"colab-df-container\">\n",
       "      <div>\n",
       "<style scoped>\n",
       "    .dataframe tbody tr th:only-of-type {\n",
       "        vertical-align: middle;\n",
       "    }\n",
       "\n",
       "    .dataframe tbody tr th {\n",
       "        vertical-align: top;\n",
       "    }\n",
       "\n",
       "    .dataframe thead th {\n",
       "        text-align: right;\n",
       "    }\n",
       "</style>\n",
       "<table border=\"1\" class=\"dataframe\">\n",
       "  <thead>\n",
       "    <tr style=\"text-align: right;\">\n",
       "      <th></th>\n",
       "      <th>waferMap</th>\n",
       "      <th>dieSize</th>\n",
       "      <th>lotName</th>\n",
       "      <th>waferIndex</th>\n",
       "      <th>failureType</th>\n",
       "      <th>encoding</th>\n",
       "      <th>x_</th>\n",
       "      <th>y_</th>\n",
       "      <th>shape</th>\n",
       "      <th>labels</th>\n",
       "      <th>dataset</th>\n",
       "      <th>classify_labels</th>\n",
       "    </tr>\n",
       "  </thead>\n",
       "  <tbody>\n",
       "    <tr>\n",
       "      <th>0</th>\n",
       "      <td>[[0, 0, 0, 0, 0, 0, 0, 0, 0, 0, 0, 0, 0, 0, 0,...</td>\n",
       "      <td>1683.0</td>\n",
       "      <td>lot1</td>\n",
       "      <td>1.0</td>\n",
       "      <td>none</td>\n",
       "      <td>1</td>\n",
       "      <td>45</td>\n",
       "      <td>48</td>\n",
       "      <td>(45, 48)</td>\n",
       "      <td>[1.0, 0.0, 0.0, 0.0, 0.0, 0.0, 0.0, 0.0, 0.0]</td>\n",
       "      <td>train</td>\n",
       "      <td>0</td>\n",
       "    </tr>\n",
       "    <tr>\n",
       "      <th>1</th>\n",
       "      <td>[[0, 0, 0, 0, 0, 0, 0, 0, 0, 0, 0, 0, 0, 0, 0,...</td>\n",
       "      <td>1683.0</td>\n",
       "      <td>lot1</td>\n",
       "      <td>2.0</td>\n",
       "      <td>none</td>\n",
       "      <td>1</td>\n",
       "      <td>45</td>\n",
       "      <td>48</td>\n",
       "      <td>(45, 48)</td>\n",
       "      <td>[1.0, 0.0, 0.0, 0.0, 0.0, 0.0, 0.0, 0.0, 0.0]</td>\n",
       "      <td>test</td>\n",
       "      <td>0</td>\n",
       "    </tr>\n",
       "    <tr>\n",
       "      <th>2</th>\n",
       "      <td>[[0, 0, 0, 0, 0, 0, 0, 0, 0, 0, 0, 0, 0, 0, 0,...</td>\n",
       "      <td>1683.0</td>\n",
       "      <td>lot1</td>\n",
       "      <td>3.0</td>\n",
       "      <td>none</td>\n",
       "      <td>1</td>\n",
       "      <td>45</td>\n",
       "      <td>48</td>\n",
       "      <td>(45, 48)</td>\n",
       "      <td>[1.0, 0.0, 0.0, 0.0, 0.0, 0.0, 0.0, 0.0, 0.0]</td>\n",
       "      <td>test</td>\n",
       "      <td>0</td>\n",
       "    </tr>\n",
       "    <tr>\n",
       "      <th>3</th>\n",
       "      <td>[[0, 0, 0, 0, 0, 0, 0, 0, 0, 0, 0, 0, 0, 0, 0,...</td>\n",
       "      <td>1683.0</td>\n",
       "      <td>lot1</td>\n",
       "      <td>4.0</td>\n",
       "      <td>none</td>\n",
       "      <td>1</td>\n",
       "      <td>45</td>\n",
       "      <td>48</td>\n",
       "      <td>(45, 48)</td>\n",
       "      <td>[1.0, 0.0, 0.0, 0.0, 0.0, 0.0, 0.0, 0.0, 0.0]</td>\n",
       "      <td>train</td>\n",
       "      <td>0</td>\n",
       "    </tr>\n",
       "    <tr>\n",
       "      <th>4</th>\n",
       "      <td>[[0, 0, 0, 0, 0, 0, 0, 0, 0, 0, 0, 0, 0, 0, 0,...</td>\n",
       "      <td>1683.0</td>\n",
       "      <td>lot1</td>\n",
       "      <td>5.0</td>\n",
       "      <td>none</td>\n",
       "      <td>1</td>\n",
       "      <td>45</td>\n",
       "      <td>48</td>\n",
       "      <td>(45, 48)</td>\n",
       "      <td>[1.0, 0.0, 0.0, 0.0, 0.0, 0.0, 0.0, 0.0, 0.0]</td>\n",
       "      <td>train</td>\n",
       "      <td>0</td>\n",
       "    </tr>\n",
       "  </tbody>\n",
       "</table>\n",
       "</div>\n",
       "      <button class=\"colab-df-convert\" onclick=\"convertToInteractive('df-23512fc2-6404-4294-ad88-540a04509932')\"\n",
       "              title=\"Convert this dataframe to an interactive table.\"\n",
       "              style=\"display:none;\">\n",
       "        \n",
       "  <svg xmlns=\"http://www.w3.org/2000/svg\" height=\"24px\"viewBox=\"0 0 24 24\"\n",
       "       width=\"24px\">\n",
       "    <path d=\"M0 0h24v24H0V0z\" fill=\"none\"/>\n",
       "    <path d=\"M18.56 5.44l.94 2.06.94-2.06 2.06-.94-2.06-.94-.94-2.06-.94 2.06-2.06.94zm-11 1L8.5 8.5l.94-2.06 2.06-.94-2.06-.94L8.5 2.5l-.94 2.06-2.06.94zm10 10l.94 2.06.94-2.06 2.06-.94-2.06-.94-.94-2.06-.94 2.06-2.06.94z\"/><path d=\"M17.41 7.96l-1.37-1.37c-.4-.4-.92-.59-1.43-.59-.52 0-1.04.2-1.43.59L10.3 9.45l-7.72 7.72c-.78.78-.78 2.05 0 2.83L4 21.41c.39.39.9.59 1.41.59.51 0 1.02-.2 1.41-.59l7.78-7.78 2.81-2.81c.8-.78.8-2.07 0-2.86zM5.41 20L4 18.59l7.72-7.72 1.47 1.35L5.41 20z\"/>\n",
       "  </svg>\n",
       "      </button>\n",
       "      \n",
       "  <style>\n",
       "    .colab-df-container {\n",
       "      display:flex;\n",
       "      flex-wrap:wrap;\n",
       "      gap: 12px;\n",
       "    }\n",
       "\n",
       "    .colab-df-convert {\n",
       "      background-color: #E8F0FE;\n",
       "      border: none;\n",
       "      border-radius: 50%;\n",
       "      cursor: pointer;\n",
       "      display: none;\n",
       "      fill: #1967D2;\n",
       "      height: 32px;\n",
       "      padding: 0 0 0 0;\n",
       "      width: 32px;\n",
       "    }\n",
       "\n",
       "    .colab-df-convert:hover {\n",
       "      background-color: #E2EBFA;\n",
       "      box-shadow: 0px 1px 2px rgba(60, 64, 67, 0.3), 0px 1px 3px 1px rgba(60, 64, 67, 0.15);\n",
       "      fill: #174EA6;\n",
       "    }\n",
       "\n",
       "    [theme=dark] .colab-df-convert {\n",
       "      background-color: #3B4455;\n",
       "      fill: #D2E3FC;\n",
       "    }\n",
       "\n",
       "    [theme=dark] .colab-df-convert:hover {\n",
       "      background-color: #434B5C;\n",
       "      box-shadow: 0px 1px 3px 1px rgba(0, 0, 0, 0.15);\n",
       "      filter: drop-shadow(0px 1px 2px rgba(0, 0, 0, 0.3));\n",
       "      fill: #FFFFFF;\n",
       "    }\n",
       "  </style>\n",
       "\n",
       "      <script>\n",
       "        const buttonEl =\n",
       "          document.querySelector('#df-23512fc2-6404-4294-ad88-540a04509932 button.colab-df-convert');\n",
       "        buttonEl.style.display =\n",
       "          google.colab.kernel.accessAllowed ? 'block' : 'none';\n",
       "\n",
       "        async function convertToInteractive(key) {\n",
       "          const element = document.querySelector('#df-23512fc2-6404-4294-ad88-540a04509932');\n",
       "          const dataTable =\n",
       "            await google.colab.kernel.invokeFunction('convertToInteractive',\n",
       "                                                     [key], {});\n",
       "          if (!dataTable) return;\n",
       "\n",
       "          const docLinkHtml = 'Like what you see? Visit the ' +\n",
       "            '<a target=\"_blank\" href=https://colab.research.google.com/notebooks/data_table.ipynb>data table notebook</a>'\n",
       "            + ' to learn more about interactive tables.';\n",
       "          element.innerHTML = '';\n",
       "          dataTable['output_type'] = 'display_data';\n",
       "          await google.colab.output.renderOutput(dataTable, element);\n",
       "          const docLink = document.createElement('div');\n",
       "          docLink.innerHTML = docLinkHtml;\n",
       "          element.appendChild(docLink);\n",
       "        }\n",
       "      </script>\n",
       "    </div>\n",
       "  </div>\n",
       "  "
      ],
      "text/plain": [
       "                                            waferMap  ...  classify_labels\n",
       "0  [[0, 0, 0, 0, 0, 0, 0, 0, 0, 0, 0, 0, 0, 0, 0,...  ...                0\n",
       "1  [[0, 0, 0, 0, 0, 0, 0, 0, 0, 0, 0, 0, 0, 0, 0,...  ...                0\n",
       "2  [[0, 0, 0, 0, 0, 0, 0, 0, 0, 0, 0, 0, 0, 0, 0,...  ...                0\n",
       "3  [[0, 0, 0, 0, 0, 0, 0, 0, 0, 0, 0, 0, 0, 0, 0,...  ...                0\n",
       "4  [[0, 0, 0, 0, 0, 0, 0, 0, 0, 0, 0, 0, 0, 0, 0,...  ...                0\n",
       "\n",
       "[5 rows x 12 columns]"
      ]
     },
     "execution_count": 4,
     "metadata": {},
     "output_type": "execute_result"
    }
   ],
   "source": [
    "# add classification model labels\n",
    "fail_types = raw_data.failureType.unique()\n",
    "fail_dict = {fail_types[i]:i for i in range(len(fail_types))}\n",
    "print(fail_dict)\n",
    "\n",
    "raw_data['classify_labels'] = raw_data['failureType'].apply(lambda x: fail_dict[x])\n",
    "raw_data.head()"
   ]
  },
  {
   "cell_type": "code",
   "execution_count": 5,
   "metadata": {
    "executionInfo": {
     "elapsed": 229356,
     "status": "ok",
     "timestamp": 1645132864810,
     "user": {
      "displayName": "Lea Cleary",
      "photoUrl": "https://lh3.googleusercontent.com/a-/AOh14GgzyTYobr3WBfcW_CbeVl1vthXNBKocBj7_WOpm=s64",
      "userId": "08012892845319420981"
     },
     "user_tz": 300
    },
    "id": "a_q22x_pL85_"
   },
   "outputs": [],
   "source": [
    "# resize images to 32x32\n",
    "# normalize values to range of [0,1]\n",
    "raw_data['resized_map'] = raw_data.waferMap.apply(lambda x: sk_resize(x/2, [32, 32], order=0, preserve_range=True, anti_aliasing=False))"
   ]
  },
  {
   "cell_type": "code",
   "execution_count": 6,
   "metadata": {
    "colab": {
     "base_uri": "https://localhost:8080/"
    },
    "executionInfo": {
     "elapsed": 143,
     "status": "ok",
     "timestamp": 1645132864943,
     "user": {
      "displayName": "Lea Cleary",
      "photoUrl": "https://lh3.googleusercontent.com/a-/AOh14GgzyTYobr3WBfcW_CbeVl1vthXNBKocBj7_WOpm=s64",
      "userId": "08012892845319420981"
     },
     "user_tz": 300
    },
    "id": "B5W0szSLMAx0",
    "outputId": "aadd1f1f-d3f0-4191-eec2-edf2ffac6a4f"
   },
   "outputs": [
    {
     "name": "stdout",
     "output_type": "stream",
     "text": [
      "Train: 121065\n",
      "Dev: 25942\n",
      "Test: 25943\n"
     ]
    }
   ],
   "source": [
    "# split data into train, dev, and test sets\n",
    "train = raw_data[raw_data.dataset == 'train'].reset_index(drop=True)\n",
    "dev = raw_data[raw_data.dataset == 'dev'].reset_index(drop=True)\n",
    "test = raw_data[raw_data.dataset == 'test'].reset_index(drop=True)\n",
    "print(f\"Train: {len(train)}\")\n",
    "print(f\"Dev: {len(dev)}\")\n",
    "print(f\"Test: {len(test)}\")"
   ]
  },
  {
   "cell_type": "code",
   "execution_count": 7,
   "metadata": {
    "colab": {
     "base_uri": "https://localhost:8080/"
    },
    "executionInfo": {
     "elapsed": 724,
     "status": "ok",
     "timestamp": 1645132865773,
     "user": {
      "displayName": "Lea Cleary",
      "photoUrl": "https://lh3.googleusercontent.com/a-/AOh14GgzyTYobr3WBfcW_CbeVl1vthXNBKocBj7_WOpm=s64",
      "userId": "08012892845319420981"
     },
     "user_tz": 300
    },
    "id": "RI680iu4MC89",
    "outputId": "525e0142-8e7c-4039-8556-506728753008"
   },
   "outputs": [
    {
     "data": {
      "text/plain": [
       "(121065, 32, 32)"
      ]
     },
     "execution_count": 7,
     "metadata": {},
     "output_type": "execute_result"
    }
   ],
   "source": [
    "x_train = np.stack(train['resized_map'])\n",
    "x_val = np.stack(dev['resized_map'])\n",
    "x_test = np.stack(test['resized_map'])\n",
    "x_train.shape"
   ]
  },
  {
   "cell_type": "code",
   "execution_count": 8,
   "metadata": {
    "colab": {
     "base_uri": "https://localhost:8080/"
    },
    "executionInfo": {
     "elapsed": 3527,
     "status": "ok",
     "timestamp": 1645132869397,
     "user": {
      "displayName": "Lea Cleary",
      "photoUrl": "https://lh3.googleusercontent.com/a-/AOh14GgzyTYobr3WBfcW_CbeVl1vthXNBKocBj7_WOpm=s64",
      "userId": "08012892845319420981"
     },
     "user_tz": 300
    },
    "id": "vnSKfJpVMGka",
    "outputId": "b606f84b-deb5-4618-b5cd-70b19ab4db1d"
   },
   "outputs": [
    {
     "data": {
      "text/plain": [
       "TensorShape([121065, 32, 32, 3])"
      ]
     },
     "execution_count": 8,
     "metadata": {},
     "output_type": "execute_result"
    }
   ],
   "source": [
    "# expand tensor and repeat 3 times\n",
    "# images in greyscale, so no channel dimension\n",
    "x_train = tf.expand_dims(x_train, axis=3, name=None)\n",
    "x_val = tf.expand_dims(x_val, axis=3, name=None)\n",
    "x_test = tf.expand_dims(x_test, axis=3, name=None)\n",
    "\n",
    "x_train = tf.repeat(x_train, 3, axis=3)\n",
    "x_val = tf.repeat(x_val, 3, axis=3)\n",
    "x_test = tf.repeat(x_test, 3, axis=3)\n",
    "\n",
    "x_train.shape"
   ]
  },
  {
   "cell_type": "code",
   "execution_count": 9,
   "metadata": {
    "executionInfo": {
     "elapsed": 6,
     "status": "ok",
     "timestamp": 1645132869398,
     "user": {
      "displayName": "Lea Cleary",
      "photoUrl": "https://lh3.googleusercontent.com/a-/AOh14GgzyTYobr3WBfcW_CbeVl1vthXNBKocBj7_WOpm=s64",
      "userId": "08012892845319420981"
     },
     "user_tz": 300
    },
    "id": "BWtyDAx8MTXN"
   },
   "outputs": [],
   "source": [
    "y_train = np.asarray(train['classify_labels'])\n",
    "y_val = np.asarray(dev['classify_labels'])\n",
    "y_test = np.asarray(test['classify_labels'])"
   ]
  },
  {
   "cell_type": "code",
   "execution_count": 10,
   "metadata": {
    "executionInfo": {
     "elapsed": 5,
     "status": "ok",
     "timestamp": 1645132869398,
     "user": {
      "displayName": "Lea Cleary",
      "photoUrl": "https://lh3.googleusercontent.com/a-/AOh14GgzyTYobr3WBfcW_CbeVl1vthXNBKocBj7_WOpm=s64",
      "userId": "08012892845319420981"
     },
     "user_tz": 300
    },
    "id": "6wKcYCdaLcFU"
   },
   "outputs": [],
   "source": [
    "def inception(x,\n",
    "              filters_1x1,\n",
    "              filters_3x3_reduce,\n",
    "              filters_3x3,\n",
    "              filters_5x5_reduce,\n",
    "              filters_5x5,\n",
    "              filters_pool):\n",
    "  path1 = layers.Conv2D(filters_1x1, (1, 1), padding='same', activation='relu')(x)\n",
    "\n",
    "  path2 = layers.Conv2D(filters_3x3_reduce, (1, 1), padding='same', activation='relu')(x)\n",
    "  path2 = layers.Conv2D(filters_3x3, (1, 1), padding='same', activation='relu')(path2)\n",
    "\n",
    "  path3 = layers.Conv2D(filters_5x5_reduce, (1, 1), padding='same', activation='relu')(x)\n",
    "  path3 = layers.Conv2D(filters_5x5, (1, 1), padding='same', activation='relu')(path3)\n",
    "\n",
    "  path4 = layers.MaxPool2D((3, 3), strides=(1, 1), padding='same')(x)\n",
    "  path4 = layers.Conv2D(filters_pool, (1, 1), padding='same', activation='relu')(path4)\n",
    "\n",
    "  return tf.concat([path1, path2, path3, path4], axis=3)"
   ]
  },
  {
   "cell_type": "code",
   "execution_count": 11,
   "metadata": {
    "executionInfo": {
     "elapsed": 1164,
     "status": "ok",
     "timestamp": 1645132870558,
     "user": {
      "displayName": "Lea Cleary",
      "photoUrl": "https://lh3.googleusercontent.com/a-/AOh14GgzyTYobr3WBfcW_CbeVl1vthXNBKocBj7_WOpm=s64",
      "userId": "08012892845319420981"
     },
     "user_tz": 300
    },
    "id": "nDEI1TMtLcHq"
   },
   "outputs": [],
   "source": [
    "inp = layers.Input(shape=(32, 32, 3))\n",
    "input_tensor = layers.experimental.preprocessing.Resizing(224, 224, interpolation=\"bilinear\", input_shape=x_train.shape[1:])(inp)\n",
    "\n",
    "x = layers.Conv2D(64, 7, strides=2, padding='same', activation='relu')(input_tensor)\n",
    "x = layers.MaxPooling2D(3, strides=2)(x)\n",
    "\n",
    "x = layers.Conv2D(64, 1, strides=1, padding='same', activation='relu')(x)\n",
    "x = layers.Conv2D(192, 3, strides=1, padding='same', activation='relu')(x)\n",
    "\n",
    "x = layers.MaxPooling2D(3, strides=2)(x)\n",
    "\n",
    "x = inception(x,\n",
    "              filters_1x1=64,\n",
    "              filters_3x3_reduce=96,\n",
    "              filters_3x3=128,\n",
    "              filters_5x5_reduce=16,\n",
    "              filters_5x5=32,\n",
    "              filters_pool=32)\n",
    "\n",
    "x = inception(x,\n",
    "              filters_1x1=128,\n",
    "              filters_3x3_reduce=128,\n",
    "              filters_3x3=192,\n",
    "              filters_5x5_reduce=32,\n",
    "              filters_5x5=96,\n",
    "              filters_pool=64)\n",
    "\n",
    "x = layers.MaxPooling2D(3, strides=2)(x)\n",
    "\n",
    "x = inception(x,\n",
    "              filters_1x1=192,\n",
    "              filters_3x3_reduce=96,\n",
    "              filters_3x3=208,\n",
    "              filters_5x5_reduce=16,\n",
    "              filters_5x5=48,\n",
    "              filters_pool=64)\n",
    "\n",
    "aux1 = layers.AveragePooling2D((5, 5), strides=3)(x)\n",
    "aux1 = layers.Conv2D(128, 1, padding='same', activation='relu')(aux1)\n",
    "aux1 = layers.Flatten()(aux1)\n",
    "aux1 = layers.Dense(1024, activation='relu')(aux1)\n",
    "aux1 = layers.Dropout(0.7)(aux1)\n",
    "aux1 = layers.Dense(10, activation='softmax')(aux1)\n",
    "\n",
    "x = inception(x,\n",
    "              filters_1x1=160,\n",
    "              filters_3x3_reduce=112,\n",
    "              filters_3x3=224,\n",
    "              filters_5x5_reduce=24,\n",
    "              filters_5x5=64,\n",
    "              filters_pool=64)\n",
    "\n",
    "x = inception(x,\n",
    "              filters_1x1=128,\n",
    "              filters_3x3_reduce=128,\n",
    "              filters_3x3=256,\n",
    "              filters_5x5_reduce=24,\n",
    "              filters_5x5=64,\n",
    "              filters_pool=64)\n",
    "\n",
    "x = inception(x,\n",
    "              filters_1x1=112,\n",
    "              filters_3x3_reduce=144,\n",
    "              filters_3x3=288,\n",
    "              filters_5x5_reduce=32,\n",
    "              filters_5x5=64,\n",
    "              filters_pool=64)\n",
    "\n",
    "aux2 = layers.AveragePooling2D((5, 5), strides=3)(x)\n",
    "aux2 = layers.Conv2D(128, 1, padding='same', activation='relu')(aux2)\n",
    "aux2 = layers.Flatten()(aux2)\n",
    "aux2 = layers.Dense(1024, activation='relu')(aux2)\n",
    "aux2 = layers.Dropout(0.7)(aux2)\n",
    "aux2 = layers.Dense(10, activation='softmax')(aux2)\n",
    "\n",
    "x = inception(x,\n",
    "              filters_1x1=256,\n",
    "              filters_3x3_reduce=160,\n",
    "              filters_3x3=320,\n",
    "              filters_5x5_reduce=32,\n",
    "              filters_5x5=128,\n",
    "              filters_pool=128)\n",
    "\n",
    "x = layers.MaxPooling2D(3, strides=2)(x)\n",
    "\n",
    "x = inception(x,\n",
    "              filters_1x1=256,\n",
    "              filters_3x3_reduce=160,\n",
    "              filters_3x3=320,\n",
    "              filters_5x5_reduce=32,\n",
    "              filters_5x5=128,\n",
    "              filters_pool=128)\n",
    "\n",
    "x = inception(x,\n",
    "              filters_1x1=384,\n",
    "              filters_3x3_reduce=192,\n",
    "              filters_3x3=384,\n",
    "              filters_5x5_reduce=48,\n",
    "              filters_5x5=128,\n",
    "              filters_pool=128)\n",
    "\n",
    "x = layers.GlobalAveragePooling2D()(x)\n",
    "\n",
    "x = layers.Dropout(0.4)(x)\n",
    "out = layers.Dense(9, activation='softmax')(x)"
   ]
  },
  {
   "cell_type": "code",
   "execution_count": 12,
   "metadata": {
    "executionInfo": {
     "elapsed": 5,
     "status": "ok",
     "timestamp": 1645132870559,
     "user": {
      "displayName": "Lea Cleary",
      "photoUrl": "https://lh3.googleusercontent.com/a-/AOh14GgzyTYobr3WBfcW_CbeVl1vthXNBKocBj7_WOpm=s64",
      "userId": "08012892845319420981"
     },
     "user_tz": 300
    },
    "id": "WzIFlLP9LcLQ"
   },
   "outputs": [],
   "source": [
    "model = Model(inputs = inp, outputs = [out, aux1, aux2])"
   ]
  },
  {
   "cell_type": "code",
   "execution_count": 13,
   "metadata": {
    "executionInfo": {
     "elapsed": 4,
     "status": "ok",
     "timestamp": 1645132870559,
     "user": {
      "displayName": "Lea Cleary",
      "photoUrl": "https://lh3.googleusercontent.com/a-/AOh14GgzyTYobr3WBfcW_CbeVl1vthXNBKocBj7_WOpm=s64",
      "userId": "08012892845319420981"
     },
     "user_tz": 300
    },
    "id": "wJjdIxC1aWwO"
   },
   "outputs": [],
   "source": [
    "model.compile(optimizer='adam', loss=[losses.sparse_categorical_crossentropy, losses.sparse_categorical_crossentropy, losses.sparse_categorical_crossentropy], loss_weights=[1, 0.3, 0.3], metrics=['accuracy'])"
   ]
  },
  {
   "cell_type": "code",
   "execution_count": 14,
   "metadata": {
    "colab": {
     "base_uri": "https://localhost:8080/"
    },
    "executionInfo": {
     "elapsed": 7528885,
     "status": "ok",
     "timestamp": 1645140399441,
     "user": {
      "displayName": "Lea Cleary",
      "photoUrl": "https://lh3.googleusercontent.com/a-/AOh14GgzyTYobr3WBfcW_CbeVl1vthXNBKocBj7_WOpm=s64",
      "userId": "08012892845319420981"
     },
     "user_tz": 300
    },
    "id": "VofnKKKoauYX",
    "outputId": "d026fd8d-1dfe-4c3d-8140-55ca20315a1b"
   },
   "outputs": [
    {
     "name": "stdout",
     "output_type": "stream",
     "text": [
      "Epoch 1/10\n",
      "1892/1892 [==============================] - 773s 399ms/step - loss: 0.8170 - dense_4_loss: 0.5109 - dense_1_loss: 0.5089 - dense_3_loss: 0.5112 - dense_4_accuracy: 0.8865 - dense_1_accuracy: 0.8885 - dense_3_accuracy: 0.8883 - val_loss: 0.6849 - val_dense_4_loss: 0.4291 - val_dense_1_loss: 0.4206 - val_dense_3_loss: 0.4320 - val_dense_4_accuracy: 0.9088 - val_dense_1_accuracy: 0.9097 - val_dense_3_accuracy: 0.9080\n",
      "Epoch 2/10\n",
      "1892/1892 [==============================] - 748s 395ms/step - loss: 0.6007 - dense_4_loss: 0.3748 - dense_1_loss: 0.3783 - dense_3_loss: 0.3746 - dense_4_accuracy: 0.9148 - dense_1_accuracy: 0.9154 - dense_3_accuracy: 0.9156 - val_loss: 0.5446 - val_dense_4_loss: 0.3421 - val_dense_1_loss: 0.3419 - val_dense_3_loss: 0.3328 - val_dense_4_accuracy: 0.9181 - val_dense_1_accuracy: 0.9196 - val_dense_3_accuracy: 0.9204\n",
      "Epoch 3/10\n",
      "1892/1892 [==============================] - 746s 394ms/step - loss: 0.5556 - dense_4_loss: 0.3461 - dense_1_loss: 0.3512 - dense_3_loss: 0.3468 - dense_4_accuracy: 0.9183 - dense_1_accuracy: 0.9183 - dense_3_accuracy: 0.9187 - val_loss: 0.5164 - val_dense_4_loss: 0.3224 - val_dense_1_loss: 0.3262 - val_dense_3_loss: 0.3204 - val_dense_4_accuracy: 0.9212 - val_dense_1_accuracy: 0.9212 - val_dense_3_accuracy: 0.9228\n",
      "Epoch 4/10\n",
      "1892/1892 [==============================] - 745s 394ms/step - loss: 0.5201 - dense_4_loss: 0.3232 - dense_1_loss: 0.3295 - dense_3_loss: 0.3269 - dense_4_accuracy: 0.9223 - dense_1_accuracy: 0.9222 - dense_3_accuracy: 0.9225 - val_loss: 0.4804 - val_dense_4_loss: 0.2997 - val_dense_1_loss: 0.3036 - val_dense_3_loss: 0.2989 - val_dense_4_accuracy: 0.9280 - val_dense_1_accuracy: 0.9270 - val_dense_3_accuracy: 0.9287\n",
      "Epoch 5/10\n",
      "1892/1892 [==============================] - 744s 393ms/step - loss: 0.3977 - dense_4_loss: 0.2472 - dense_1_loss: 0.2508 - dense_3_loss: 0.2509 - dense_4_accuracy: 0.9357 - dense_1_accuracy: 0.9361 - dense_3_accuracy: 0.9358 - val_loss: 0.3108 - val_dense_4_loss: 0.1966 - val_dense_1_loss: 0.1943 - val_dense_3_loss: 0.1862 - val_dense_4_accuracy: 0.9449 - val_dense_1_accuracy: 0.9458 - val_dense_3_accuracy: 0.9486\n",
      "Epoch 6/10\n",
      "1892/1892 [==============================] - 744s 393ms/step - loss: 0.2792 - dense_4_loss: 0.1712 - dense_1_loss: 0.1809 - dense_3_loss: 0.1792 - dense_4_accuracy: 0.9512 - dense_1_accuracy: 0.9500 - dense_3_accuracy: 0.9503 - val_loss: 0.2646 - val_dense_4_loss: 0.1629 - val_dense_1_loss: 0.1677 - val_dense_3_loss: 0.1713 - val_dense_4_accuracy: 0.9536 - val_dense_1_accuracy: 0.9535 - val_dense_3_accuracy: 0.9527\n",
      "Epoch 7/10\n",
      "1892/1892 [==============================] - 743s 393ms/step - loss: 0.2457 - dense_4_loss: 0.1501 - dense_1_loss: 0.1610 - dense_3_loss: 0.1576 - dense_4_accuracy: 0.9565 - dense_1_accuracy: 0.9544 - dense_3_accuracy: 0.9548 - val_loss: 0.2405 - val_dense_4_loss: 0.1529 - val_dense_1_loss: 0.1455 - val_dense_3_loss: 0.1465 - val_dense_4_accuracy: 0.9542 - val_dense_1_accuracy: 0.9579 - val_dense_3_accuracy: 0.9576\n",
      "Epoch 8/10\n",
      "1892/1892 [==============================] - 744s 393ms/step - loss: 0.2253 - dense_4_loss: 0.1374 - dense_1_loss: 0.1484 - dense_3_loss: 0.1445 - dense_4_accuracy: 0.9594 - dense_1_accuracy: 0.9577 - dense_3_accuracy: 0.9587 - val_loss: 0.2247 - val_dense_4_loss: 0.1409 - val_dense_1_loss: 0.1378 - val_dense_3_loss: 0.1412 - val_dense_4_accuracy: 0.9578 - val_dense_1_accuracy: 0.9603 - val_dense_3_accuracy: 0.9585\n",
      "Epoch 9/10\n",
      "1892/1892 [==============================] - 745s 394ms/step - loss: 0.2166 - dense_4_loss: 0.1320 - dense_1_loss: 0.1438 - dense_3_loss: 0.1384 - dense_4_accuracy: 0.9607 - dense_1_accuracy: 0.9585 - dense_3_accuracy: 0.9599 - val_loss: 0.2116 - val_dense_4_loss: 0.1319 - val_dense_1_loss: 0.1349 - val_dense_3_loss: 0.1307 - val_dense_4_accuracy: 0.9609 - val_dense_1_accuracy: 0.9603 - val_dense_3_accuracy: 0.9607\n",
      "Epoch 10/10\n",
      "1892/1892 [==============================] - 745s 394ms/step - loss: 0.2057 - dense_4_loss: 0.1257 - dense_1_loss: 0.1356 - dense_3_loss: 0.1309 - dense_4_accuracy: 0.9627 - dense_1_accuracy: 0.9605 - dense_3_accuracy: 0.9618 - val_loss: 0.2124 - val_dense_4_loss: 0.1311 - val_dense_1_loss: 0.1407 - val_dense_3_loss: 0.1302 - val_dense_4_accuracy: 0.9599 - val_dense_1_accuracy: 0.9602 - val_dense_3_accuracy: 0.9603\n"
     ]
    }
   ],
   "source": [
    "history = model.fit(x_train, [y_train, y_train, y_train], validation_data=(x_val, [y_val, y_val, y_val]), batch_size=64, epochs=10)"
   ]
  },
  {
   "cell_type": "code",
   "execution_count": 15,
   "metadata": {
    "colab": {
     "base_uri": "https://localhost:8080/",
     "height": 910
    },
    "executionInfo": {
     "elapsed": 677,
     "status": "ok",
     "timestamp": 1645140400109,
     "user": {
      "displayName": "Lea Cleary",
      "photoUrl": "https://lh3.googleusercontent.com/a-/AOh14GgzyTYobr3WBfcW_CbeVl1vthXNBKocBj7_WOpm=s64",
      "userId": "08012892845319420981"
     },
     "user_tz": 300
    },
    "id": "53UluuOE5TX_",
    "outputId": "ce8952a6-0b5c-4d20-f5a1-e77d8565eeab"
   },
   "outputs": [
    {
     "data": {
      "text/plain": [
       "<matplotlib.legend.Legend at 0x7f31dd708a10>"
      ]
     },
     "execution_count": 15,
     "metadata": {},
     "output_type": "execute_result"
    },
    {
     "data": {
      "image/png": "[encoded data removed]",
      "text/plain": [
       "<Figure size 1080x1080 with 2 Axes>"
      ]
     },
     "metadata": {
      "needs_background": "light"
     },
     "output_type": "display_data"
    }
   ],
   "source": [
    "fig, axs = plt.subplots(2, 1, figsize=(15,15))\n",
    "\n",
    "axs[0].plot(history.history['loss'])\n",
    "axs[0].plot(history.history['val_loss'])\n",
    "axs[0].title.set_text('Training Loss vs Validation Loss')\n",
    "axs[0].set_xlabel('Epochs')\n",
    "axs[0].set_ylabel('Loss')\n",
    "axs[0].legend(['Train','Val'])\n",
    "\n",
    "axs[1].plot(history.history['dense_4_accuracy'])\n",
    "axs[1].plot(history.history['val_dense_4_accuracy'])\n",
    "axs[1].title.set_text('Training Accuracy vs Validation Accuracy')\n",
    "axs[1].set_xlabel('Epochs')\n",
    "axs[1].set_ylabel('Accuracy')\n",
    "axs[1].legend(['Train', 'Val'])"
   ]
  },
  {
   "cell_type": "code",
   "execution_count": 16,
   "metadata": {
    "colab": {
     "base_uri": "https://localhost:8080/"
    },
    "executionInfo": {
     "elapsed": 83193,
     "status": "ok",
     "timestamp": 1645140483298,
     "user": {
      "displayName": "Lea Cleary",
      "photoUrl": "https://lh3.googleusercontent.com/a-/AOh14GgzyTYobr3WBfcW_CbeVl1vthXNBKocBj7_WOpm=s64",
      "userId": "08012892845319420981"
     },
     "user_tz": 300
    },
    "id": "iNbFiTZW5dQ7",
    "outputId": "ed7deb4d-e490-4fad-df54-c790df902473"
   },
   "outputs": [
    {
     "name": "stdout",
     "output_type": "stream",
     "text": [
      "811/811 [==============================] - 62s 74ms/step - loss: 0.2073 - dense_4_loss: 0.1276 - dense_1_loss: 0.1361 - dense_3_loss: 0.1294 - dense_4_accuracy: 0.9625 - dense_1_accuracy: 0.9616 - dense_3_accuracy: 0.9623\n"
     ]
    },
    {
     "data": {
      "text/plain": [
       "[0.20727576315402985,\n",
       " 0.12760962545871735,\n",
       " 0.13611018657684326,\n",
       " 0.12944403290748596,\n",
       " 0.9624946713447571,\n",
       " 0.9616081118583679,\n",
       " 0.9622634053230286]"
      ]
     },
     "execution_count": 16,
     "metadata": {},
     "output_type": "execute_result"
    }
   ],
   "source": [
    "model.evaluate(x_test, y_test)"
   ]
  },
  {
   "cell_type": "code",
   "execution_count": 18,
   "metadata": {
    "executionInfo": {
     "elapsed": 82316,
     "status": "ok",
     "timestamp": 1645142119464,
     "user": {
      "displayName": "Lea Cleary",
      "photoUrl": "https://lh3.googleusercontent.com/a-/AOh14GgzyTYobr3WBfcW_CbeVl1vthXNBKocBj7_WOpm=s64",
      "userId": "08012892845319420981"
     },
     "user_tz": 300
    },
    "id": "XqkkA5GA03CH"
   },
   "outputs": [],
   "source": [
    "y_pred = model.predict(x_test)\n",
    "#y_pred = np.argmax(y_pred, axis=1)"
   ]
  },
  {
   "cell_type": "code",
   "execution_count": 30,
   "metadata": {
    "executionInfo": {
     "elapsed": 114,
     "status": "ok",
     "timestamp": 1645142630001,
     "user": {
      "displayName": "Lea Cleary",
      "photoUrl": "https://lh3.googleusercontent.com/a-/AOh14GgzyTYobr3WBfcW_CbeVl1vthXNBKocBj7_WOpm=s64",
      "userId": "08012892845319420981"
     },
     "user_tz": 300
    },
    "id": "7kkjsbLGHLDL"
   },
   "outputs": [],
   "source": [
    "with open(f'{path}/googlenet_ypred.pickle', \"wb\") as f:\n",
    "    pickle.dump(y_pred, f)"
   ]
  },
  {
   "cell_type": "code",
   "execution_count": null,
   "metadata": {
    "executionInfo": {
     "elapsed": 429,
     "status": "aborted",
     "timestamp": 1645140566795,
     "user": {
      "displayName": "Lea Cleary",
      "photoUrl": "https://lh3.googleusercontent.com/a-/AOh14GgzyTYobr3WBfcW_CbeVl1vthXNBKocBj7_WOpm=s64",
      "userId": "08012892845319420981"
     },
     "user_tz": 300
    },
    "id": "WmjacoOIigln"
   },
   "outputs": [],
   "source": [
    "defects = ['N', 'L', 'EL', 'C', 'ER', 'S', 'R', 'NF', 'D']\n",
    "\n",
    "import seaborn as sns\n",
    "from sklearn.metrics import confusion_matrix\n",
    "\n",
    "cm = confusion_matrix(y_test, y_pred)\n",
    "f = sns.heatmap(cm, annot=True, fmt='d', xticklabels=defects, yticklabels=defects)"
   ]
  },
  {
   "cell_type": "code",
   "execution_count": null,
   "metadata": {
    "executionInfo": {
     "elapsed": 431,
     "status": "aborted",
     "timestamp": 1645140566797,
     "user": {
      "displayName": "Lea Cleary",
      "photoUrl": "https://lh3.googleusercontent.com/a-/AOh14GgzyTYobr3WBfcW_CbeVl1vthXNBKocBj7_WOpm=s64",
      "userId": "08012892845319420981"
     },
     "user_tz": 300
    },
    "id": "ToBgNNlhiifg"
   },
   "outputs": [],
   "source": [
    "cm2 = confusion_matrix(y_test, y_pred, normalize='true')\n",
    "f2 = sns.heatmap(cm2, annot=True, xticklabels=defects, yticklabels=defects)"
   ]
  },
  {
   "cell_type": "code",
   "execution_count": null,
   "metadata": {
    "executionInfo": {
     "elapsed": 434,
     "status": "aborted",
     "timestamp": 1645140566800,
     "user": {
      "displayName": "Lea Cleary",
      "photoUrl": "https://lh3.googleusercontent.com/a-/AOh14GgzyTYobr3WBfcW_CbeVl1vthXNBKocBj7_WOpm=s64",
      "userId": "08012892845319420981"
     },
     "user_tz": 300
    },
    "id": "G2vpBnbaikzB"
   },
   "outputs": [],
   "source": [
    "# baseline accuracy\n",
    "nones = len(train[train.failureType == 'none'])\n",
    "total = len(train)\n",
    "print(f\"Baseline accuracy: {nones/total*100:.2f}%\")"
   ]
  }
 ],
 "metadata": {
  "accelerator": "GPU",
  "colab": {
   "collapsed_sections": [],
   "name": "colab_googlenet_classify_all.ipynb",
   "provenance": [
    {
     "file_id": "https://gist.github.com/mrgrhn/a6ad98dbc81f3ec8f73d39415452de9a#file-googlenet_tensorflow-ipynb",
     "timestamp": 1645042556321
    }
   ]
  },
  "kernelspec": {
   "display_name": "Python 3",
   "language": "python",
   "name": "python3"
  },
  "language_info": {
   "codemirror_mode": {
    "name": "ipython",
    "version": 3
   },
   "file_extension": ".py",
   "mimetype": "text/x-python",
   "name": "python",
   "nbconvert_exporter": "python",
   "pygments_lexer": "ipython3",
   "version": "3.8.3"
  }
 },
 "nbformat": 4,
 "nbformat_minor": 1
}
