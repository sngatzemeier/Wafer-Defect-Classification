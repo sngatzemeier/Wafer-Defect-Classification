{
 "cells": [
  {
   "cell_type": "code",
   "execution_count": 1,
   "metadata": {
    "colab": {
     "base_uri": "https://localhost:8080/"
    },
    "executionInfo": {
     "elapsed": 16090,
     "status": "ok",
     "timestamp": 1645128808686,
     "user": {
      "displayName": "Lea Cleary",
      "photoUrl": "https://lh3.googleusercontent.com/a-/AOh14GgzyTYobr3WBfcW_CbeVl1vthXNBKocBj7_WOpm=s64",
      "userId": "08012892845319420981"
     },
     "user_tz": 300
    },
    "id": "MMcWUHT5-eVD",
    "outputId": "187d60b0-e51d-4212-e2d6-b0a7a627d84d"
   },
   "outputs": [
    {
     "name": "stdout",
     "output_type": "stream",
     "text": [
      "Collecting pickle5\n",
      "  Downloading pickle5-0.0.12-cp37-cp37m-manylinux_2_5_x86_64.manylinux1_x86_64.whl (256 kB)\n",
      "\u001b[?25l\r",
      "\u001b[K     |█▎                              | 10 kB 20.7 MB/s eta 0:00:01\r",
      "\u001b[K     |██▋                             | 20 kB 9.8 MB/s eta 0:00:01\r",
      "\u001b[K     |███▉                            | 30 kB 5.6 MB/s eta 0:00:01\r",
      "\u001b[K     |█████▏                          | 40 kB 4.5 MB/s eta 0:00:01\r",
      "\u001b[K     |██████▍                         | 51 kB 4.1 MB/s eta 0:00:01\r",
      "\u001b[K     |███████▊                        | 61 kB 4.9 MB/s eta 0:00:01\r",
      "\u001b[K     |█████████                       | 71 kB 4.7 MB/s eta 0:00:01\r",
      "\u001b[K     |██████████▎                     | 81 kB 4.8 MB/s eta 0:00:01\r",
      "\u001b[K     |███████████▌                    | 92 kB 5.3 MB/s eta 0:00:01\r",
      "\u001b[K     |████████████▉                   | 102 kB 5.1 MB/s eta 0:00:01\r",
      "\u001b[K     |██████████████                  | 112 kB 5.1 MB/s eta 0:00:01\r",
      "\u001b[K     |███████████████▍                | 122 kB 5.1 MB/s eta 0:00:01\r",
      "\u001b[K     |████████████████▋               | 133 kB 5.1 MB/s eta 0:00:01\r",
      "\u001b[K     |██████████████████              | 143 kB 5.1 MB/s eta 0:00:01\r",
      "\u001b[K     |███████████████████▏            | 153 kB 5.1 MB/s eta 0:00:01\r",
      "\u001b[K     |████████████████████▌           | 163 kB 5.1 MB/s eta 0:00:01\r",
      "\u001b[K     |█████████████████████▊          | 174 kB 5.1 MB/s eta 0:00:01\r",
      "\u001b[K     |███████████████████████         | 184 kB 5.1 MB/s eta 0:00:01\r",
      "\u001b[K     |████████████████████████▎       | 194 kB 5.1 MB/s eta 0:00:01\r",
      "\u001b[K     |█████████████████████████▋      | 204 kB 5.1 MB/s eta 0:00:01\r",
      "\u001b[K     |██████████████████████████▉     | 215 kB 5.1 MB/s eta 0:00:01\r",
      "\u001b[K     |████████████████████████████▏   | 225 kB 5.1 MB/s eta 0:00:01\r",
      "\u001b[K     |█████████████████████████████▍  | 235 kB 5.1 MB/s eta 0:00:01\r",
      "\u001b[K     |██████████████████████████████▊ | 245 kB 5.1 MB/s eta 0:00:01\r",
      "\u001b[K     |████████████████████████████████| 256 kB 5.1 MB/s eta 0:00:01\r",
      "\u001b[K     |████████████████████████████████| 256 kB 5.1 MB/s \n",
      "\u001b[?25hInstalling collected packages: pickle5\n",
      "Successfully installed pickle5-0.0.12\n"
     ]
    }
   ],
   "source": [
    "# import libraries\n",
    "import tensorflow as tf\n",
    "import matplotlib.pyplot as plt\n",
    "from tensorflow.keras import datasets, layers, models, losses\n",
    "\n",
    "import os\n",
    "import numpy as np\n",
    "import pandas as pd\n",
    "!pip install pickle5\n",
    "import pickle5 as pickle\n",
    "from scipy import ndimage\n",
    "from skimage.transform import resize as sk_resize"
   ]
  },
  {
   "cell_type": "code",
   "execution_count": 2,
   "metadata": {
    "colab": {
     "base_uri": "https://localhost:8080/"
    },
    "executionInfo": {
     "elapsed": 17739,
     "status": "ok",
     "timestamp": 1645128826413,
     "user": {
      "displayName": "Lea Cleary",
      "photoUrl": "https://lh3.googleusercontent.com/a-/AOh14GgzyTYobr3WBfcW_CbeVl1vthXNBKocBj7_WOpm=s64",
      "userId": "08012892845319420981"
     },
     "user_tz": 300
    },
    "id": "fgEs_34dj5mz",
    "outputId": "6e3faf7e-9a36-49c7-ade1-5b0e027f8f3a"
   },
   "outputs": [
    {
     "name": "stdout",
     "output_type": "stream",
     "text": [
      "Mounted at /content/drive/\n"
     ]
    }
   ],
   "source": [
    "# connect Drive\n",
    "from google.colab import drive\n",
    "drive.mount('/content/drive/')"
   ]
  },
  {
   "cell_type": "code",
   "execution_count": 3,
   "metadata": {
    "colab": {
     "base_uri": "https://localhost:8080/"
    },
    "executionInfo": {
     "elapsed": 5452,
     "status": "ok",
     "timestamp": 1645128831858,
     "user": {
      "displayName": "Lea Cleary",
      "photoUrl": "https://lh3.googleusercontent.com/a-/AOh14GgzyTYobr3WBfcW_CbeVl1vthXNBKocBj7_WOpm=s64",
      "userId": "08012892845319420981"
     },
     "user_tz": 300
    },
    "id": "qC9z2Ht7k0RL",
    "outputId": "9235c4e6-ecfc-4921-d1ec-f7f3c1c8cdce"
   },
   "outputs": [
    {
     "name": "stdout",
     "output_type": "stream",
     "text": [
      "Raw data shape: (172950, 11)\n"
     ]
    }
   ],
   "source": [
    "# load data\n",
    "path = '/content/drive/MyDrive/W210/Wafer-Defect-Classification'\n",
    "\n",
    "with open(f'{path}/WM-clean.pkl', \"rb\") as fh:\n",
    "    raw_data = pickle.load(fh)\n",
    "    \n",
    "print(f'Raw data shape: {raw_data.shape}')"
   ]
  },
  {
   "cell_type": "code",
   "execution_count": 4,
   "metadata": {
    "colab": {
     "base_uri": "https://localhost:8080/",
     "height": 224
    },
    "executionInfo": {
     "elapsed": 988,
     "status": "ok",
     "timestamp": 1645128832841,
     "user": {
      "displayName": "Lea Cleary",
      "photoUrl": "https://lh3.googleusercontent.com/a-/AOh14GgzyTYobr3WBfcW_CbeVl1vthXNBKocBj7_WOpm=s64",
      "userId": "08012892845319420981"
     },
     "user_tz": 300
    },
    "id": "IEOzCNgvlFlo",
    "outputId": "c1ca2b58-77e6-45df-da6b-82c3d153458e"
   },
   "outputs": [
    {
     "name": "stdout",
     "output_type": "stream",
     "text": [
      "{'none': 0, 'Loc': 1, 'Edge-Loc': 2, 'Center': 3, 'Edge-Ring': 4, 'Scratch': 5, 'Random': 6, 'Near-full': 7, 'Donut': 8}\n"
     ]
    },
    {
     "data": {
      "text/html": [
       "\n",
       "  <div id=\"df-e01c2571-713a-4ded-b801-ebdd2ea5bf59\">\n",
       "    <div class=\"colab-df-container\">\n",
       "      <div>\n",
       "<style scoped>\n",
       "    .dataframe tbody tr th:only-of-type {\n",
       "        vertical-align: middle;\n",
       "    }\n",
       "\n",
       "    .dataframe tbody tr th {\n",
       "        vertical-align: top;\n",
       "    }\n",
       "\n",
       "    .dataframe thead th {\n",
       "        text-align: right;\n",
       "    }\n",
       "</style>\n",
       "<table border=\"1\" class=\"dataframe\">\n",
       "  <thead>\n",
       "    <tr style=\"text-align: right;\">\n",
       "      <th></th>\n",
       "      <th>waferMap</th>\n",
       "      <th>dieSize</th>\n",
       "      <th>lotName</th>\n",
       "      <th>waferIndex</th>\n",
       "      <th>failureType</th>\n",
       "      <th>encoding</th>\n",
       "      <th>x_</th>\n",
       "      <th>y_</th>\n",
       "      <th>shape</th>\n",
       "      <th>labels</th>\n",
       "      <th>dataset</th>\n",
       "      <th>classify_labels</th>\n",
       "    </tr>\n",
       "  </thead>\n",
       "  <tbody>\n",
       "    <tr>\n",
       "      <th>0</th>\n",
       "      <td>[[0, 0, 0, 0, 0, 0, 0, 0, 0, 0, 0, 0, 0, 0, 0,...</td>\n",
       "      <td>1683.0</td>\n",
       "      <td>lot1</td>\n",
       "      <td>1.0</td>\n",
       "      <td>none</td>\n",
       "      <td>1</td>\n",
       "      <td>45</td>\n",
       "      <td>48</td>\n",
       "      <td>(45, 48)</td>\n",
       "      <td>[1.0, 0.0, 0.0, 0.0, 0.0, 0.0, 0.0, 0.0, 0.0]</td>\n",
       "      <td>train</td>\n",
       "      <td>0</td>\n",
       "    </tr>\n",
       "    <tr>\n",
       "      <th>1</th>\n",
       "      <td>[[0, 0, 0, 0, 0, 0, 0, 0, 0, 0, 0, 0, 0, 0, 0,...</td>\n",
       "      <td>1683.0</td>\n",
       "      <td>lot1</td>\n",
       "      <td>2.0</td>\n",
       "      <td>none</td>\n",
       "      <td>1</td>\n",
       "      <td>45</td>\n",
       "      <td>48</td>\n",
       "      <td>(45, 48)</td>\n",
       "      <td>[1.0, 0.0, 0.0, 0.0, 0.0, 0.0, 0.0, 0.0, 0.0]</td>\n",
       "      <td>test</td>\n",
       "      <td>0</td>\n",
       "    </tr>\n",
       "    <tr>\n",
       "      <th>2</th>\n",
       "      <td>[[0, 0, 0, 0, 0, 0, 0, 0, 0, 0, 0, 0, 0, 0, 0,...</td>\n",
       "      <td>1683.0</td>\n",
       "      <td>lot1</td>\n",
       "      <td>3.0</td>\n",
       "      <td>none</td>\n",
       "      <td>1</td>\n",
       "      <td>45</td>\n",
       "      <td>48</td>\n",
       "      <td>(45, 48)</td>\n",
       "      <td>[1.0, 0.0, 0.0, 0.0, 0.0, 0.0, 0.0, 0.0, 0.0]</td>\n",
       "      <td>test</td>\n",
       "      <td>0</td>\n",
       "    </tr>\n",
       "    <tr>\n",
       "      <th>3</th>\n",
       "      <td>[[0, 0, 0, 0, 0, 0, 0, 0, 0, 0, 0, 0, 0, 0, 0,...</td>\n",
       "      <td>1683.0</td>\n",
       "      <td>lot1</td>\n",
       "      <td>4.0</td>\n",
       "      <td>none</td>\n",
       "      <td>1</td>\n",
       "      <td>45</td>\n",
       "      <td>48</td>\n",
       "      <td>(45, 48)</td>\n",
       "      <td>[1.0, 0.0, 0.0, 0.0, 0.0, 0.0, 0.0, 0.0, 0.0]</td>\n",
       "      <td>train</td>\n",
       "      <td>0</td>\n",
       "    </tr>\n",
       "    <tr>\n",
       "      <th>4</th>\n",
       "      <td>[[0, 0, 0, 0, 0, 0, 0, 0, 0, 0, 0, 0, 0, 0, 0,...</td>\n",
       "      <td>1683.0</td>\n",
       "      <td>lot1</td>\n",
       "      <td>5.0</td>\n",
       "      <td>none</td>\n",
       "      <td>1</td>\n",
       "      <td>45</td>\n",
       "      <td>48</td>\n",
       "      <td>(45, 48)</td>\n",
       "      <td>[1.0, 0.0, 0.0, 0.0, 0.0, 0.0, 0.0, 0.0, 0.0]</td>\n",
       "      <td>train</td>\n",
       "      <td>0</td>\n",
       "    </tr>\n",
       "  </tbody>\n",
       "</table>\n",
       "</div>\n",
       "      <button class=\"colab-df-convert\" onclick=\"convertToInteractive('df-e01c2571-713a-4ded-b801-ebdd2ea5bf59')\"\n",
       "              title=\"Convert this dataframe to an interactive table.\"\n",
       "              style=\"display:none;\">\n",
       "        \n",
       "  <svg xmlns=\"http://www.w3.org/2000/svg\" height=\"24px\"viewBox=\"0 0 24 24\"\n",
       "       width=\"24px\">\n",
       "    <path d=\"M0 0h24v24H0V0z\" fill=\"none\"/>\n",
       "    <path d=\"M18.56 5.44l.94 2.06.94-2.06 2.06-.94-2.06-.94-.94-2.06-.94 2.06-2.06.94zm-11 1L8.5 8.5l.94-2.06 2.06-.94-2.06-.94L8.5 2.5l-.94 2.06-2.06.94zm10 10l.94 2.06.94-2.06 2.06-.94-2.06-.94-.94-2.06-.94 2.06-2.06.94z\"/><path d=\"M17.41 7.96l-1.37-1.37c-.4-.4-.92-.59-1.43-.59-.52 0-1.04.2-1.43.59L10.3 9.45l-7.72 7.72c-.78.78-.78 2.05 0 2.83L4 21.41c.39.39.9.59 1.41.59.51 0 1.02-.2 1.41-.59l7.78-7.78 2.81-2.81c.8-.78.8-2.07 0-2.86zM5.41 20L4 18.59l7.72-7.72 1.47 1.35L5.41 20z\"/>\n",
       "  </svg>\n",
       "      </button>\n",
       "      \n",
       "  <style>\n",
       "    .colab-df-container {\n",
       "      display:flex;\n",
       "      flex-wrap:wrap;\n",
       "      gap: 12px;\n",
       "    }\n",
       "\n",
       "    .colab-df-convert {\n",
       "      background-color: #E8F0FE;\n",
       "      border: none;\n",
       "      border-radius: 50%;\n",
       "      cursor: pointer;\n",
       "      display: none;\n",
       "      fill: #1967D2;\n",
       "      height: 32px;\n",
       "      padding: 0 0 0 0;\n",
       "      width: 32px;\n",
       "    }\n",
       "\n",
       "    .colab-df-convert:hover {\n",
       "      background-color: #E2EBFA;\n",
       "      box-shadow: 0px 1px 2px rgba(60, 64, 67, 0.3), 0px 1px 3px 1px rgba(60, 64, 67, 0.15);\n",
       "      fill: #174EA6;\n",
       "    }\n",
       "\n",
       "    [theme=dark] .colab-df-convert {\n",
       "      background-color: #3B4455;\n",
       "      fill: #D2E3FC;\n",
       "    }\n",
       "\n",
       "    [theme=dark] .colab-df-convert:hover {\n",
       "      background-color: #434B5C;\n",
       "      box-shadow: 0px 1px 3px 1px rgba(0, 0, 0, 0.15);\n",
       "      filter: drop-shadow(0px 1px 2px rgba(0, 0, 0, 0.3));\n",
       "      fill: #FFFFFF;\n",
       "    }\n",
       "  </style>\n",
       "\n",
       "      <script>\n",
       "        const buttonEl =\n",
       "          document.querySelector('#df-e01c2571-713a-4ded-b801-ebdd2ea5bf59 button.colab-df-convert');\n",
       "        buttonEl.style.display =\n",
       "          google.colab.kernel.accessAllowed ? 'block' : 'none';\n",
       "\n",
       "        async function convertToInteractive(key) {\n",
       "          const element = document.querySelector('#df-e01c2571-713a-4ded-b801-ebdd2ea5bf59');\n",
       "          const dataTable =\n",
       "            await google.colab.kernel.invokeFunction('convertToInteractive',\n",
       "                                                     [key], {});\n",
       "          if (!dataTable) return;\n",
       "\n",
       "          const docLinkHtml = 'Like what you see? Visit the ' +\n",
       "            '<a target=\"_blank\" href=https://colab.research.google.com/notebooks/data_table.ipynb>data table notebook</a>'\n",
       "            + ' to learn more about interactive tables.';\n",
       "          element.innerHTML = '';\n",
       "          dataTable['output_type'] = 'display_data';\n",
       "          await google.colab.output.renderOutput(dataTable, element);\n",
       "          const docLink = document.createElement('div');\n",
       "          docLink.innerHTML = docLinkHtml;\n",
       "          element.appendChild(docLink);\n",
       "        }\n",
       "      </script>\n",
       "    </div>\n",
       "  </div>\n",
       "  "
      ],
      "text/plain": [
       "                                            waferMap  ...  classify_labels\n",
       "0  [[0, 0, 0, 0, 0, 0, 0, 0, 0, 0, 0, 0, 0, 0, 0,...  ...                0\n",
       "1  [[0, 0, 0, 0, 0, 0, 0, 0, 0, 0, 0, 0, 0, 0, 0,...  ...                0\n",
       "2  [[0, 0, 0, 0, 0, 0, 0, 0, 0, 0, 0, 0, 0, 0, 0,...  ...                0\n",
       "3  [[0, 0, 0, 0, 0, 0, 0, 0, 0, 0, 0, 0, 0, 0, 0,...  ...                0\n",
       "4  [[0, 0, 0, 0, 0, 0, 0, 0, 0, 0, 0, 0, 0, 0, 0,...  ...                0\n",
       "\n",
       "[5 rows x 12 columns]"
      ]
     },
     "execution_count": 4,
     "metadata": {},
     "output_type": "execute_result"
    }
   ],
   "source": [
    "# add classification model labels\n",
    "fail_types = raw_data.failureType.unique()\n",
    "fail_dict = {fail_types[i]:i for i in range(len(fail_types))}\n",
    "print(fail_dict)\n",
    "\n",
    "raw_data['classify_labels'] = raw_data['failureType'].apply(lambda x: fail_dict[x])\n",
    "raw_data.head()"
   ]
  },
  {
   "cell_type": "code",
   "execution_count": 5,
   "metadata": {
    "executionInfo": {
     "elapsed": 56562,
     "status": "ok",
     "timestamp": 1645128889401,
     "user": {
      "displayName": "Lea Cleary",
      "photoUrl": "https://lh3.googleusercontent.com/a-/AOh14GgzyTYobr3WBfcW_CbeVl1vthXNBKocBj7_WOpm=s64",
      "userId": "08012892845319420981"
     },
     "user_tz": 300
    },
    "id": "26I-KjFQGrRN"
   },
   "outputs": [],
   "source": [
    "# apply median filter\n",
    "raw_data['filtered_map'] = raw_data.waferMap.apply(lambda x: ndimage.median_filter(x, size=3))"
   ]
  },
  {
   "cell_type": "code",
   "execution_count": 6,
   "metadata": {
    "executionInfo": {
     "elapsed": 201189,
     "status": "ok",
     "timestamp": 1645129090583,
     "user": {
      "displayName": "Lea Cleary",
      "photoUrl": "https://lh3.googleusercontent.com/a-/AOh14GgzyTYobr3WBfcW_CbeVl1vthXNBKocBj7_WOpm=s64",
      "userId": "08012892845319420981"
     },
     "user_tz": 300
    },
    "id": "O7MCmXCS4Nin"
   },
   "outputs": [],
   "source": [
    "# resize images to 32x32\n",
    "# normalize values to range of [0,1]\n",
    "raw_data['resized_map'] = raw_data.filtered_map.apply(lambda x: sk_resize(x/2, [32, 32], order=0, preserve_range=True, anti_aliasing=False))"
   ]
  },
  {
   "cell_type": "code",
   "execution_count": 7,
   "metadata": {
    "colab": {
     "base_uri": "https://localhost:8080/"
    },
    "executionInfo": {
     "elapsed": 153,
     "status": "ok",
     "timestamp": 1645129090731,
     "user": {
      "displayName": "Lea Cleary",
      "photoUrl": "https://lh3.googleusercontent.com/a-/AOh14GgzyTYobr3WBfcW_CbeVl1vthXNBKocBj7_WOpm=s64",
      "userId": "08012892845319420981"
     },
     "user_tz": 300
    },
    "id": "PLTyT_q9lFaA",
    "outputId": "9aceb5d1-8d81-4622-dd1c-c875f3055199"
   },
   "outputs": [
    {
     "name": "stdout",
     "output_type": "stream",
     "text": [
      "Train: 121065\n",
      "Dev: 25942\n",
      "Test: 25943\n"
     ]
    }
   ],
   "source": [
    "# split data into train, dev, and test sets\n",
    "train = raw_data[raw_data.dataset == 'train'].reset_index(drop=True)\n",
    "dev = raw_data[raw_data.dataset == 'dev'].reset_index(drop=True)\n",
    "test = raw_data[raw_data.dataset == 'test'].reset_index(drop=True)\n",
    "print(f\"Train: {len(train)}\")\n",
    "print(f\"Dev: {len(dev)}\")\n",
    "print(f\"Test: {len(test)}\")"
   ]
  },
  {
   "cell_type": "code",
   "execution_count": 8,
   "metadata": {
    "colab": {
     "base_uri": "https://localhost:8080/"
    },
    "executionInfo": {
     "elapsed": 857,
     "status": "ok",
     "timestamp": 1645129091585,
     "user": {
      "displayName": "Lea Cleary",
      "photoUrl": "https://lh3.googleusercontent.com/a-/AOh14GgzyTYobr3WBfcW_CbeVl1vthXNBKocBj7_WOpm=s64",
      "userId": "08012892845319420981"
     },
     "user_tz": 300
    },
    "id": "poThmiyAoHSi",
    "outputId": "a3e4a2d8-8f2c-477c-93a1-e56381f8dcc0"
   },
   "outputs": [
    {
     "data": {
      "text/plain": [
       "(121065, 32, 32)"
      ]
     },
     "execution_count": 8,
     "metadata": {},
     "output_type": "execute_result"
    }
   ],
   "source": [
    "x_train = np.stack(train['resized_map'])\n",
    "x_val = np.stack(dev['resized_map'])\n",
    "x_test = np.stack(test['resized_map'])\n",
    "x_train.shape"
   ]
  },
  {
   "cell_type": "code",
   "execution_count": 9,
   "metadata": {
    "colab": {
     "base_uri": "https://localhost:8080/"
    },
    "executionInfo": {
     "elapsed": 2921,
     "status": "ok",
     "timestamp": 1645129094503,
     "user": {
      "displayName": "Lea Cleary",
      "photoUrl": "https://lh3.googleusercontent.com/a-/AOh14GgzyTYobr3WBfcW_CbeVl1vthXNBKocBj7_WOpm=s64",
      "userId": "08012892845319420981"
     },
     "user_tz": 300
    },
    "id": "hy_dVa44ZOLk",
    "outputId": "13717b27-c525-4a34-c36a-b9765ba55420"
   },
   "outputs": [
    {
     "data": {
      "text/plain": [
       "TensorShape([121065, 32, 32, 1])"
      ]
     },
     "execution_count": 9,
     "metadata": {},
     "output_type": "execute_result"
    }
   ],
   "source": [
    "# expand tensor and create dummy dimension at axis 3\n",
    "# images in greyscale, so no channel dimension\n",
    "x_train = tf.expand_dims(x_train, axis=3, name=None)\n",
    "x_val = tf.expand_dims(x_val, axis=3, name=None)\n",
    "x_test = tf.expand_dims(x_test, axis=3, name=None)\n",
    "x_train.shape"
   ]
  },
  {
   "cell_type": "code",
   "execution_count": 10,
   "metadata": {
    "executionInfo": {
     "elapsed": 17,
     "status": "ok",
     "timestamp": 1645129094504,
     "user": {
      "displayName": "Lea Cleary",
      "photoUrl": "https://lh3.googleusercontent.com/a-/AOh14GgzyTYobr3WBfcW_CbeVl1vthXNBKocBj7_WOpm=s64",
      "userId": "08012892845319420981"
     },
     "user_tz": 300
    },
    "id": "rIS8zJfn_aDO"
   },
   "outputs": [],
   "source": [
    "y_train = np.asarray(train['classify_labels'])\n",
    "y_val = np.asarray(dev['classify_labels'])\n",
    "y_test = np.asarray(test['classify_labels'])"
   ]
  },
  {
   "cell_type": "code",
   "execution_count": 12,
   "metadata": {
    "colab": {
     "base_uri": "https://localhost:8080/"
    },
    "executionInfo": {
     "elapsed": 795,
     "status": "ok",
     "timestamp": 1645129339021,
     "user": {
      "displayName": "Lea Cleary",
      "photoUrl": "https://lh3.googleusercontent.com/a-/AOh14GgzyTYobr3WBfcW_CbeVl1vthXNBKocBj7_WOpm=s64",
      "userId": "08012892845319420981"
     },
     "user_tz": 300
    },
    "id": "UeaLkOM-XRZA",
    "outputId": "476278c4-49c6-4e3d-c37e-aaa49dd9b835"
   },
   "outputs": [
    {
     "name": "stdout",
     "output_type": "stream",
     "text": [
      "Model: \"sequential\"\n",
      "_________________________________________________________________\n",
      " Layer (type)                Output Shape              Param #   \n",
      "=================================================================\n",
      " conv2d (Conv2D)             (None, 28, 28, 6)         156       \n",
      "                                                                 \n",
      " average_pooling2d (AverageP  (None, 14, 14, 6)        0         \n",
      " ooling2D)                                                       \n",
      "                                                                 \n",
      " activation (Activation)     (None, 14, 14, 6)         0         \n",
      "                                                                 \n",
      " conv2d_1 (Conv2D)           (None, 10, 10, 16)        2416      \n",
      "                                                                 \n",
      " average_pooling2d_1 (Averag  (None, 5, 5, 16)         0         \n",
      " ePooling2D)                                                     \n",
      "                                                                 \n",
      " activation_1 (Activation)   (None, 5, 5, 16)          0         \n",
      "                                                                 \n",
      " conv2d_2 (Conv2D)           (None, 1, 1, 120)         48120     \n",
      "                                                                 \n",
      " flatten (Flatten)           (None, 120)               0         \n",
      "                                                                 \n",
      " dense (Dense)               (None, 84)                10164     \n",
      "                                                                 \n",
      " dense_1 (Dense)             (None, 9)                 765       \n",
      "                                                                 \n",
      "=================================================================\n",
      "Total params: 61,621\n",
      "Trainable params: 61,621\n",
      "Non-trainable params: 0\n",
      "_________________________________________________________________\n"
     ]
    }
   ],
   "source": [
    "model = models.Sequential()\n",
    "model.add(layers.Conv2D(6, 5, activation='tanh', input_shape=x_train.shape[1:]))\n",
    "model.add(layers.AveragePooling2D(2))\n",
    "model.add(layers.Activation('sigmoid'))\n",
    "model.add(layers.Conv2D(16, 5, activation='tanh'))\n",
    "model.add(layers.AveragePooling2D(2))\n",
    "model.add(layers.Activation('sigmoid'))\n",
    "model.add(layers.Conv2D(120, 5, activation='tanh'))\n",
    "model.add(layers.Flatten())\n",
    "model.add(layers.Dense(84, activation='tanh'))\n",
    "model.add(layers.Dense(9, activation='softmax'))\n",
    "model.summary()"
   ]
  },
  {
   "cell_type": "code",
   "execution_count": 13,
   "metadata": {
    "executionInfo": {
     "elapsed": 134,
     "status": "ok",
     "timestamp": 1645129342011,
     "user": {
      "displayName": "Lea Cleary",
      "photoUrl": "https://lh3.googleusercontent.com/a-/AOh14GgzyTYobr3WBfcW_CbeVl1vthXNBKocBj7_WOpm=s64",
      "userId": "08012892845319420981"
     },
     "user_tz": 300
    },
    "id": "pOAJW5ByhYCl"
   },
   "outputs": [],
   "source": [
    "model.compile(optimizer='adam', loss=losses.sparse_categorical_crossentropy, metrics=['accuracy'])"
   ]
  },
  {
   "cell_type": "code",
   "execution_count": 14,
   "metadata": {
    "colab": {
     "base_uri": "https://localhost:8080/"
    },
    "executionInfo": {
     "elapsed": 562952,
     "status": "ok",
     "timestamp": 1645129906246,
     "user": {
      "displayName": "Lea Cleary",
      "photoUrl": "https://lh3.googleusercontent.com/a-/AOh14GgzyTYobr3WBfcW_CbeVl1vthXNBKocBj7_WOpm=s64",
      "userId": "08012892845319420981"
     },
     "user_tz": 300
    },
    "id": "Xv-ml2R6hw_V",
    "outputId": "654c7159-46cc-40c8-e3f7-a7527f742a57"
   },
   "outputs": [
    {
     "name": "stdout",
     "output_type": "stream",
     "text": [
      "Epoch 1/40\n",
      "1892/1892 [==============================] - 23s 7ms/step - loss: 0.6656 - accuracy: 0.8520 - val_loss: 0.6624 - val_accuracy: 0.8524\n",
      "Epoch 2/40\n",
      "1892/1892 [==============================] - 12s 6ms/step - loss: 0.6636 - accuracy: 0.8525 - val_loss: 0.6627 - val_accuracy: 0.8524\n",
      "Epoch 3/40\n",
      "1892/1892 [==============================] - 13s 7ms/step - loss: 0.6434 - accuracy: 0.8553 - val_loss: 0.5429 - val_accuracy: 0.8712\n",
      "Epoch 4/40\n",
      "1892/1892 [==============================] - 13s 7ms/step - loss: 0.4352 - accuracy: 0.8865 - val_loss: 0.3673 - val_accuracy: 0.8969\n",
      "Epoch 5/40\n",
      "1892/1892 [==============================] - 13s 7ms/step - loss: 0.3776 - accuracy: 0.8957 - val_loss: 0.3602 - val_accuracy: 0.8962\n",
      "Epoch 6/40\n",
      "1892/1892 [==============================] - 13s 7ms/step - loss: 0.3700 - accuracy: 0.8967 - val_loss: 0.3488 - val_accuracy: 0.9014\n",
      "Epoch 7/40\n",
      "1892/1892 [==============================] - 12s 6ms/step - loss: 0.3622 - accuracy: 0.8977 - val_loss: 0.3547 - val_accuracy: 0.8994\n",
      "Epoch 8/40\n",
      "1892/1892 [==============================] - 14s 7ms/step - loss: 0.3534 - accuracy: 0.8985 - val_loss: 0.3539 - val_accuracy: 0.8990\n",
      "Epoch 9/40\n",
      "1892/1892 [==============================] - 12s 6ms/step - loss: 0.3498 - accuracy: 0.8997 - val_loss: 0.3361 - val_accuracy: 0.9013\n",
      "Epoch 10/40\n",
      "1892/1892 [==============================] - 12s 6ms/step - loss: 0.3467 - accuracy: 0.9002 - val_loss: 0.3289 - val_accuracy: 0.9034\n",
      "Epoch 11/40\n",
      "1892/1892 [==============================] - 13s 7ms/step - loss: 0.3365 - accuracy: 0.9024 - val_loss: 0.3311 - val_accuracy: 0.9041\n",
      "Epoch 12/40\n",
      "1892/1892 [==============================] - 14s 7ms/step - loss: 0.3339 - accuracy: 0.9032 - val_loss: 0.3505 - val_accuracy: 0.9025\n",
      "Epoch 13/40\n",
      "1892/1892 [==============================] - 13s 7ms/step - loss: 0.3203 - accuracy: 0.9072 - val_loss: 0.3011 - val_accuracy: 0.9127\n",
      "Epoch 14/40\n",
      "1892/1892 [==============================] - 12s 6ms/step - loss: 0.3113 - accuracy: 0.9105 - val_loss: 0.3343 - val_accuracy: 0.9060\n",
      "Epoch 15/40\n",
      "1892/1892 [==============================] - 13s 7ms/step - loss: 0.3036 - accuracy: 0.9129 - val_loss: 0.3144 - val_accuracy: 0.9161\n",
      "Epoch 16/40\n",
      "1892/1892 [==============================] - 12s 6ms/step - loss: 0.2943 - accuracy: 0.9162 - val_loss: 0.3459 - val_accuracy: 0.9053\n",
      "Epoch 17/40\n",
      "1892/1892 [==============================] - 13s 7ms/step - loss: 0.2923 - accuracy: 0.9178 - val_loss: 0.2693 - val_accuracy: 0.9262\n",
      "Epoch 18/40\n",
      "1892/1892 [==============================] - 13s 7ms/step - loss: 0.2814 - accuracy: 0.9209 - val_loss: 0.2961 - val_accuracy: 0.9248\n",
      "Epoch 19/40\n",
      "1892/1892 [==============================] - 13s 7ms/step - loss: 0.2759 - accuracy: 0.9228 - val_loss: 0.2780 - val_accuracy: 0.9215\n",
      "Epoch 20/40\n",
      "1892/1892 [==============================] - 13s 7ms/step - loss: 0.2679 - accuracy: 0.9258 - val_loss: 0.2672 - val_accuracy: 0.9244\n",
      "Epoch 21/40\n",
      "1892/1892 [==============================] - 12s 6ms/step - loss: 0.2635 - accuracy: 0.9275 - val_loss: 0.2659 - val_accuracy: 0.9284\n",
      "Epoch 22/40\n",
      "1892/1892 [==============================] - 12s 6ms/step - loss: 0.2604 - accuracy: 0.9285 - val_loss: 0.2465 - val_accuracy: 0.9335\n",
      "Epoch 23/40\n",
      "1892/1892 [==============================] - 13s 7ms/step - loss: 0.2532 - accuracy: 0.9307 - val_loss: 0.2494 - val_accuracy: 0.9327\n",
      "Epoch 24/40\n",
      "1892/1892 [==============================] - 12s 6ms/step - loss: 0.2519 - accuracy: 0.9306 - val_loss: 0.2415 - val_accuracy: 0.9349\n",
      "Epoch 25/40\n",
      "1892/1892 [==============================] - 13s 7ms/step - loss: 0.2479 - accuracy: 0.9319 - val_loss: 0.2373 - val_accuracy: 0.9363\n",
      "Epoch 26/40\n",
      "1892/1892 [==============================] - 14s 7ms/step - loss: 0.2444 - accuracy: 0.9326 - val_loss: 0.2406 - val_accuracy: 0.9358\n",
      "Epoch 27/40\n",
      "1892/1892 [==============================] - 12s 6ms/step - loss: 0.2421 - accuracy: 0.9339 - val_loss: 0.2290 - val_accuracy: 0.9367\n",
      "Epoch 28/40\n",
      "1892/1892 [==============================] - 12s 6ms/step - loss: 0.2369 - accuracy: 0.9350 - val_loss: 0.2471 - val_accuracy: 0.9368\n",
      "Epoch 29/40\n",
      "1892/1892 [==============================] - 13s 7ms/step - loss: 0.2367 - accuracy: 0.9347 - val_loss: 0.2329 - val_accuracy: 0.9346\n",
      "Epoch 30/40\n",
      "1892/1892 [==============================] - 14s 7ms/step - loss: 0.2336 - accuracy: 0.9353 - val_loss: 0.2338 - val_accuracy: 0.9363\n",
      "Epoch 31/40\n",
      "1892/1892 [==============================] - 13s 7ms/step - loss: 0.2299 - accuracy: 0.9364 - val_loss: 0.2260 - val_accuracy: 0.9368\n",
      "Epoch 32/40\n",
      "1892/1892 [==============================] - 12s 6ms/step - loss: 0.2284 - accuracy: 0.9366 - val_loss: 0.2171 - val_accuracy: 0.9387\n",
      "Epoch 33/40\n",
      "1892/1892 [==============================] - 13s 7ms/step - loss: 0.2266 - accuracy: 0.9373 - val_loss: 0.2157 - val_accuracy: 0.9389\n",
      "Epoch 34/40\n",
      "1892/1892 [==============================] - 12s 7ms/step - loss: 0.2244 - accuracy: 0.9380 - val_loss: 0.2214 - val_accuracy: 0.9384\n",
      "Epoch 35/40\n",
      "1892/1892 [==============================] - 13s 7ms/step - loss: 0.2232 - accuracy: 0.9376 - val_loss: 0.2148 - val_accuracy: 0.9394\n",
      "Epoch 36/40\n",
      "1892/1892 [==============================] - 12s 7ms/step - loss: 0.2208 - accuracy: 0.9385 - val_loss: 0.2271 - val_accuracy: 0.9389\n",
      "Epoch 37/40\n",
      "1892/1892 [==============================] - 13s 7ms/step - loss: 0.2184 - accuracy: 0.9387 - val_loss: 0.2110 - val_accuracy: 0.9404\n",
      "Epoch 38/40\n",
      "1892/1892 [==============================] - 12s 6ms/step - loss: 0.2180 - accuracy: 0.9393 - val_loss: 0.2118 - val_accuracy: 0.9405\n",
      "Epoch 39/40\n",
      "1892/1892 [==============================] - 13s 7ms/step - loss: 0.2164 - accuracy: 0.9394 - val_loss: 0.2219 - val_accuracy: 0.9405\n",
      "Epoch 40/40\n",
      "1892/1892 [==============================] - 12s 6ms/step - loss: 0.2148 - accuracy: 0.9396 - val_loss: 0.2124 - val_accuracy: 0.9404\n"
     ]
    }
   ],
   "source": [
    "history = model.fit(x_train, y_train, batch_size=64, epochs=40, validation_data=(x_val, y_val))"
   ]
  },
  {
   "cell_type": "code",
   "execution_count": 15,
   "metadata": {
    "colab": {
     "base_uri": "https://localhost:8080/",
     "height": 896
    },
    "executionInfo": {
     "elapsed": 673,
     "status": "ok",
     "timestamp": 1645129906913,
     "user": {
      "displayName": "Lea Cleary",
      "photoUrl": "https://lh3.googleusercontent.com/a-/AOh14GgzyTYobr3WBfcW_CbeVl1vthXNBKocBj7_WOpm=s64",
      "userId": "08012892845319420981"
     },
     "user_tz": 300
    },
    "id": "AfX0d7zyocFw",
    "outputId": "e31c8921-e482-486b-c419-8996aeb4c6a7"
   },
   "outputs": [
    {
     "data": {
      "text/plain": [
       "<matplotlib.legend.Legend at 0x7fcb20352950>"
      ]
     },
     "execution_count": 15,
     "metadata": {},
     "output_type": "execute_result"
    },
    {
     "data": {
      "image/png": "[encoded data removed]",
      "text/plain": [
       "<Figure size 1080x1080 with 2 Axes>"
      ]
     },
     "metadata": {
      "needs_background": "light"
     },
     "output_type": "display_data"
    }
   ],
   "source": [
    "fig, axs = plt.subplots(2, 1, figsize=(15,15))\n",
    "\n",
    "axs[0].plot(history.history['loss'])\n",
    "axs[0].plot(history.history['val_loss'])\n",
    "axs[0].title.set_text('Training Loss vs Validation Loss')\n",
    "axs[0].legend(['Train', 'Val'])\n",
    "\n",
    "axs[1].plot(history.history['accuracy'])\n",
    "axs[1].plot(history.history['val_accuracy'])\n",
    "axs[1].title.set_text('Training Accuracy vs Validation Accuracy')\n",
    "axs[1].legend(['Train', 'Val'])\n"
   ]
  },
  {
   "cell_type": "code",
   "execution_count": 16,
   "metadata": {
    "colab": {
     "base_uri": "https://localhost:8080/"
    },
    "executionInfo": {
     "elapsed": 3210,
     "status": "ok",
     "timestamp": 1645129910120,
     "user": {
      "displayName": "Lea Cleary",
      "photoUrl": "https://lh3.googleusercontent.com/a-/AOh14GgzyTYobr3WBfcW_CbeVl1vthXNBKocBj7_WOpm=s64",
      "userId": "08012892845319420981"
     },
     "user_tz": 300
    },
    "id": "iLQqDljamZTV",
    "outputId": "4679bad2-a83e-4b35-d6d6-8a8fcc1af73b"
   },
   "outputs": [
    {
     "name": "stdout",
     "output_type": "stream",
     "text": [
      "811/811 [==============================] - 3s 4ms/step - loss: 0.2181 - accuracy: 0.9386\n"
     ]
    },
    {
     "data": {
      "text/plain": [
       "[0.21805858612060547, 0.9386346936225891]"
      ]
     },
     "execution_count": 16,
     "metadata": {},
     "output_type": "execute_result"
    }
   ],
   "source": [
    "model.evaluate(x_test, y_test)"
   ]
  },
  {
   "cell_type": "code",
   "execution_count": 17,
   "metadata": {
    "executionInfo": {
     "elapsed": 1697,
     "status": "ok",
     "timestamp": 1645129911814,
     "user": {
      "displayName": "Lea Cleary",
      "photoUrl": "https://lh3.googleusercontent.com/a-/AOh14GgzyTYobr3WBfcW_CbeVl1vthXNBKocBj7_WOpm=s64",
      "userId": "08012892845319420981"
     },
     "user_tz": 300
    },
    "id": "_D6kJmUmUHP4"
   },
   "outputs": [],
   "source": [
    "y_pred = model.predict(x_test)\n",
    "y_pred = np.argmax(y_pred, axis=1)"
   ]
  },
  {
   "cell_type": "code",
   "execution_count": 18,
   "metadata": {
    "colab": {
     "base_uri": "https://localhost:8080/",
     "height": 265
    },
    "executionInfo": {
     "elapsed": 916,
     "status": "ok",
     "timestamp": 1645129912727,
     "user": {
      "displayName": "Lea Cleary",
      "photoUrl": "https://lh3.googleusercontent.com/a-/AOh14GgzyTYobr3WBfcW_CbeVl1vthXNBKocBj7_WOpm=s64",
      "userId": "08012892845319420981"
     },
     "user_tz": 300
    },
    "id": "GYea8S0IUHmz",
    "outputId": "c37c0eab-d6fd-42d7-8772-b5145f76f80e"
   },
   "outputs": [
    {
     "data": {
      "image/png": "[encoded data removed]",
      "text/plain": [
       "<Figure size 432x288 with 2 Axes>"
      ]
     },
     "metadata": {
      "needs_background": "light"
     },
     "output_type": "display_data"
    }
   ],
   "source": [
    "defects = ['N', 'L', 'EL', 'C', 'ER', 'S', 'R', 'NF', 'D']\n",
    "\n",
    "import seaborn as sns\n",
    "from sklearn.metrics import confusion_matrix\n",
    "\n",
    "cm = confusion_matrix(y_test, y_pred)\n",
    "f = sns.heatmap(cm, annot=True, fmt='d', xticklabels=defects, yticklabels=defects)"
   ]
  },
  {
   "cell_type": "code",
   "execution_count": 20,
   "metadata": {
    "colab": {
     "base_uri": "https://localhost:8080/",
     "height": 265
    },
    "executionInfo": {
     "elapsed": 672,
     "status": "ok",
     "timestamp": 1645129969843,
     "user": {
      "displayName": "Lea Cleary",
      "photoUrl": "https://lh3.googleusercontent.com/a-/AOh14GgzyTYobr3WBfcW_CbeVl1vthXNBKocBj7_WOpm=s64",
      "userId": "08012892845319420981"
     },
     "user_tz": 300
    },
    "id": "WBjr4bo3UfrI",
    "outputId": "98cfad43-65ab-4e84-e790-ce61e213a4aa"
   },
   "outputs": [
    {
     "data": {
      "image/png": "[encoded data removed]",
      "text/plain": [
       "<Figure size 432x288 with 2 Axes>"
      ]
     },
     "metadata": {
      "needs_background": "light"
     },
     "output_type": "display_data"
    }
   ],
   "source": [
    "cm2 = confusion_matrix(y_test, y_pred, normalize='true')\n",
    "f2 = sns.heatmap(cm2, annot=True, xticklabels=defects, yticklabels=defects)"
   ]
  },
  {
   "cell_type": "code",
   "execution_count": 21,
   "metadata": {
    "colab": {
     "base_uri": "https://localhost:8080/"
    },
    "executionInfo": {
     "elapsed": 162,
     "status": "ok",
     "timestamp": 1645129982220,
     "user": {
      "displayName": "Lea Cleary",
      "photoUrl": "https://lh3.googleusercontent.com/a-/AOh14GgzyTYobr3WBfcW_CbeVl1vthXNBKocBj7_WOpm=s64",
      "userId": "08012892845319420981"
     },
     "user_tz": 300
    },
    "id": "ZcetvGwxUN0A",
    "outputId": "77226b11-735c-4f1a-90b5-872f029c40d2"
   },
   "outputs": [
    {
     "name": "stdout",
     "output_type": "stream",
     "text": [
      "Baseline accuracy: 85.25%\n"
     ]
    }
   ],
   "source": [
    "# baseline accuracy\n",
    "nones = len(train[train.failureType == 'none'])\n",
    "total = len(train)\n",
    "print(f\"Baseline accuracy: {nones/total*100:.2f}%\")"
   ]
  },
  {
   "cell_type": "code",
   "execution_count": null,
   "metadata": {
    "id": "wOn55oIoY196"
   },
   "outputs": [],
   "source": []
  }
 ],
 "metadata": {
  "accelerator": "GPU",
  "colab": {
   "collapsed_sections": [],
   "name": "colab_lenet_classify_all_filter3_2.ipynb",
   "provenance": [
    {
     "file_id": "https://gist.github.com/mrgrhn/c6d2a157ebfc883e462f2d6e2ce2e3ce#file-lenet_tensorflow-ipynb",
     "timestamp": 1645028600895
    }
   ]
  },
  "kernelspec": {
   "display_name": "Python 3",
   "language": "python",
   "name": "python3"
  },
  "language_info": {
   "codemirror_mode": {
    "name": "ipython",
    "version": 3
   },
   "file_extension": ".py",
   "mimetype": "text/x-python",
   "name": "python",
   "nbconvert_exporter": "python",
   "pygments_lexer": "ipython3",
   "version": "3.8.3"
  }
 },
 "nbformat": 4,
 "nbformat_minor": 1
}
