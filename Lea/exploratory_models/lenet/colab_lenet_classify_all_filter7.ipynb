{
 "cells": [
  {
   "cell_type": "code",
   "execution_count": null,
   "metadata": {
    "colab": {
     "base_uri": "https://localhost:8080/"
    },
    "executionInfo": {
     "elapsed": 19035,
     "status": "ok",
     "timestamp": 1645042112471,
     "user": {
      "displayName": "Lea Cleary",
      "photoUrl": "https://lh3.googleusercontent.com/a-/AOh14GgzyTYobr3WBfcW_CbeVl1vthXNBKocBj7_WOpm=s64",
      "userId": "08012892845319420981"
     },
     "user_tz": 300
    },
    "id": "MMcWUHT5-eVD",
    "outputId": "9ccb1066-d4da-4ffa-9ee1-3a5e917e429a"
   },
   "outputs": [
    {
     "name": "stdout",
     "output_type": "stream",
     "text": [
      "Collecting pickle5\n",
      "  Downloading pickle5-0.0.12-cp37-cp37m-manylinux_2_5_x86_64.manylinux1_x86_64.whl (256 kB)\n",
      "\u001b[?25l\r",
      "\u001b[K     |█▎                              | 10 kB 15.7 MB/s eta 0:00:01\r",
      "\u001b[K     |██▋                             | 20 kB 18.3 MB/s eta 0:00:01\r",
      "\u001b[K     |███▉                            | 30 kB 8.0 MB/s eta 0:00:01\r",
      "\u001b[K     |█████▏                          | 40 kB 6.7 MB/s eta 0:00:01\r",
      "\u001b[K     |██████▍                         | 51 kB 5.7 MB/s eta 0:00:01\r",
      "\u001b[K     |███████▊                        | 61 kB 5.9 MB/s eta 0:00:01\r",
      "\u001b[K     |█████████                       | 71 kB 5.7 MB/s eta 0:00:01\r",
      "\u001b[K     |██████████▎                     | 81 kB 6.4 MB/s eta 0:00:01\r",
      "\u001b[K     |███████████▌                    | 92 kB 6.3 MB/s eta 0:00:01\r",
      "\u001b[K     |████████████▉                   | 102 kB 5.6 MB/s eta 0:00:01\r",
      "\u001b[K     |██████████████                  | 112 kB 5.6 MB/s eta 0:00:01\r",
      "\u001b[K     |███████████████▍                | 122 kB 5.6 MB/s eta 0:00:01\r",
      "\u001b[K     |████████████████▋               | 133 kB 5.6 MB/s eta 0:00:01\r",
      "\u001b[K     |██████████████████              | 143 kB 5.6 MB/s eta 0:00:01\r",
      "\u001b[K     |███████████████████▏            | 153 kB 5.6 MB/s eta 0:00:01\r",
      "\u001b[K     |████████████████████▌           | 163 kB 5.6 MB/s eta 0:00:01\r",
      "\u001b[K     |█████████████████████▊          | 174 kB 5.6 MB/s eta 0:00:01\r",
      "\u001b[K     |███████████████████████         | 184 kB 5.6 MB/s eta 0:00:01\r",
      "\u001b[K     |████████████████████████▎       | 194 kB 5.6 MB/s eta 0:00:01\r",
      "\u001b[K     |█████████████████████████▋      | 204 kB 5.6 MB/s eta 0:00:01\r",
      "\u001b[K     |██████████████████████████▉     | 215 kB 5.6 MB/s eta 0:00:01\r",
      "\u001b[K     |████████████████████████████▏   | 225 kB 5.6 MB/s eta 0:00:01\r",
      "\u001b[K     |█████████████████████████████▍  | 235 kB 5.6 MB/s eta 0:00:01\r",
      "\u001b[K     |██████████████████████████████▊ | 245 kB 5.6 MB/s eta 0:00:01\r",
      "\u001b[K     |████████████████████████████████| 256 kB 5.6 MB/s eta 0:00:01\r",
      "\u001b[K     |████████████████████████████████| 256 kB 5.6 MB/s \n",
      "\u001b[?25hInstalling collected packages: pickle5\n",
      "Successfully installed pickle5-0.0.12\n"
     ]
    }
   ],
   "source": [
    "# import libraries\n",
    "import tensorflow as tf\n",
    "import matplotlib.pyplot as plt\n",
    "from tensorflow.keras import datasets, layers, models, losses\n",
    "\n",
    "import os\n",
    "import numpy as np\n",
    "import pandas as pd\n",
    "!pip install pickle5\n",
    "import pickle5 as pickle\n",
    "from scipy import ndimage\n",
    "from skimage.transform import resize as sk_resize"
   ]
  },
  {
   "cell_type": "code",
   "execution_count": null,
   "metadata": {
    "colab": {
     "base_uri": "https://localhost:8080/"
    },
    "executionInfo": {
     "elapsed": 17473,
     "status": "ok",
     "timestamp": 1645042129934,
     "user": {
      "displayName": "Lea Cleary",
      "photoUrl": "https://lh3.googleusercontent.com/a-/AOh14GgzyTYobr3WBfcW_CbeVl1vthXNBKocBj7_WOpm=s64",
      "userId": "08012892845319420981"
     },
     "user_tz": 300
    },
    "id": "fgEs_34dj5mz",
    "outputId": "a94f7423-6059-4e3c-88a1-76b74598353d"
   },
   "outputs": [
    {
     "name": "stdout",
     "output_type": "stream",
     "text": [
      "Mounted at /content/drive/\n"
     ]
    }
   ],
   "source": [
    "# connect Drive\n",
    "from google.colab import drive\n",
    "drive.mount('/content/drive/')"
   ]
  },
  {
   "cell_type": "code",
   "execution_count": null,
   "metadata": {
    "colab": {
     "base_uri": "https://localhost:8080/"
    },
    "executionInfo": {
     "elapsed": 5491,
     "status": "ok",
     "timestamp": 1645042135418,
     "user": {
      "displayName": "Lea Cleary",
      "photoUrl": "https://lh3.googleusercontent.com/a-/AOh14GgzyTYobr3WBfcW_CbeVl1vthXNBKocBj7_WOpm=s64",
      "userId": "08012892845319420981"
     },
     "user_tz": 300
    },
    "id": "qC9z2Ht7k0RL",
    "outputId": "581ac082-2658-425b-d9fd-3e53761b9854"
   },
   "outputs": [
    {
     "name": "stdout",
     "output_type": "stream",
     "text": [
      "Raw data shape: (172950, 11)\n"
     ]
    }
   ],
   "source": [
    "# load data\n",
    "path = '/content/drive/MyDrive/W210/Wafer-Defect-Classification'\n",
    "\n",
    "with open(f'{path}/WM-clean.pkl', \"rb\") as fh:\n",
    "    raw_data = pickle.load(fh)\n",
    "    \n",
    "print(f'Raw data shape: {raw_data.shape}')"
   ]
  },
  {
   "cell_type": "code",
   "execution_count": null,
   "metadata": {
    "colab": {
     "base_uri": "https://localhost:8080/",
     "height": 224
    },
    "executionInfo": {
     "elapsed": 926,
     "status": "ok",
     "timestamp": 1645042136325,
     "user": {
      "displayName": "Lea Cleary",
      "photoUrl": "https://lh3.googleusercontent.com/a-/AOh14GgzyTYobr3WBfcW_CbeVl1vthXNBKocBj7_WOpm=s64",
      "userId": "08012892845319420981"
     },
     "user_tz": 300
    },
    "id": "IEOzCNgvlFlo",
    "outputId": "694863fa-1cea-406e-9841-7a15a72582fd"
   },
   "outputs": [
    {
     "name": "stdout",
     "output_type": "stream",
     "text": [
      "{'none': 0, 'Loc': 1, 'Edge-Loc': 2, 'Center': 3, 'Edge-Ring': 4, 'Scratch': 5, 'Random': 6, 'Near-full': 7, 'Donut': 8}\n"
     ]
    },
    {
     "data": {
      "text/html": [
       "\n",
       "  <div id=\"df-6390f589-c436-4160-a8f6-37a873859936\">\n",
       "    <div class=\"colab-df-container\">\n",
       "      <div>\n",
       "<style scoped>\n",
       "    .dataframe tbody tr th:only-of-type {\n",
       "        vertical-align: middle;\n",
       "    }\n",
       "\n",
       "    .dataframe tbody tr th {\n",
       "        vertical-align: top;\n",
       "    }\n",
       "\n",
       "    .dataframe thead th {\n",
       "        text-align: right;\n",
       "    }\n",
       "</style>\n",
       "<table border=\"1\" class=\"dataframe\">\n",
       "  <thead>\n",
       "    <tr style=\"text-align: right;\">\n",
       "      <th></th>\n",
       "      <th>waferMap</th>\n",
       "      <th>dieSize</th>\n",
       "      <th>lotName</th>\n",
       "      <th>waferIndex</th>\n",
       "      <th>failureType</th>\n",
       "      <th>encoding</th>\n",
       "      <th>x_</th>\n",
       "      <th>y_</th>\n",
       "      <th>shape</th>\n",
       "      <th>labels</th>\n",
       "      <th>dataset</th>\n",
       "      <th>classify_labels</th>\n",
       "    </tr>\n",
       "  </thead>\n",
       "  <tbody>\n",
       "    <tr>\n",
       "      <th>0</th>\n",
       "      <td>[[0, 0, 0, 0, 0, 0, 0, 0, 0, 0, 0, 0, 0, 0, 0,...</td>\n",
       "      <td>1683.0</td>\n",
       "      <td>lot1</td>\n",
       "      <td>1.0</td>\n",
       "      <td>none</td>\n",
       "      <td>1</td>\n",
       "      <td>45</td>\n",
       "      <td>48</td>\n",
       "      <td>(45, 48)</td>\n",
       "      <td>[1.0, 0.0, 0.0, 0.0, 0.0, 0.0, 0.0, 0.0, 0.0]</td>\n",
       "      <td>train</td>\n",
       "      <td>0</td>\n",
       "    </tr>\n",
       "    <tr>\n",
       "      <th>1</th>\n",
       "      <td>[[0, 0, 0, 0, 0, 0, 0, 0, 0, 0, 0, 0, 0, 0, 0,...</td>\n",
       "      <td>1683.0</td>\n",
       "      <td>lot1</td>\n",
       "      <td>2.0</td>\n",
       "      <td>none</td>\n",
       "      <td>1</td>\n",
       "      <td>45</td>\n",
       "      <td>48</td>\n",
       "      <td>(45, 48)</td>\n",
       "      <td>[1.0, 0.0, 0.0, 0.0, 0.0, 0.0, 0.0, 0.0, 0.0]</td>\n",
       "      <td>test</td>\n",
       "      <td>0</td>\n",
       "    </tr>\n",
       "    <tr>\n",
       "      <th>2</th>\n",
       "      <td>[[0, 0, 0, 0, 0, 0, 0, 0, 0, 0, 0, 0, 0, 0, 0,...</td>\n",
       "      <td>1683.0</td>\n",
       "      <td>lot1</td>\n",
       "      <td>3.0</td>\n",
       "      <td>none</td>\n",
       "      <td>1</td>\n",
       "      <td>45</td>\n",
       "      <td>48</td>\n",
       "      <td>(45, 48)</td>\n",
       "      <td>[1.0, 0.0, 0.0, 0.0, 0.0, 0.0, 0.0, 0.0, 0.0]</td>\n",
       "      <td>test</td>\n",
       "      <td>0</td>\n",
       "    </tr>\n",
       "    <tr>\n",
       "      <th>3</th>\n",
       "      <td>[[0, 0, 0, 0, 0, 0, 0, 0, 0, 0, 0, 0, 0, 0, 0,...</td>\n",
       "      <td>1683.0</td>\n",
       "      <td>lot1</td>\n",
       "      <td>4.0</td>\n",
       "      <td>none</td>\n",
       "      <td>1</td>\n",
       "      <td>45</td>\n",
       "      <td>48</td>\n",
       "      <td>(45, 48)</td>\n",
       "      <td>[1.0, 0.0, 0.0, 0.0, 0.0, 0.0, 0.0, 0.0, 0.0]</td>\n",
       "      <td>train</td>\n",
       "      <td>0</td>\n",
       "    </tr>\n",
       "    <tr>\n",
       "      <th>4</th>\n",
       "      <td>[[0, 0, 0, 0, 0, 0, 0, 0, 0, 0, 0, 0, 0, 0, 0,...</td>\n",
       "      <td>1683.0</td>\n",
       "      <td>lot1</td>\n",
       "      <td>5.0</td>\n",
       "      <td>none</td>\n",
       "      <td>1</td>\n",
       "      <td>45</td>\n",
       "      <td>48</td>\n",
       "      <td>(45, 48)</td>\n",
       "      <td>[1.0, 0.0, 0.0, 0.0, 0.0, 0.0, 0.0, 0.0, 0.0]</td>\n",
       "      <td>train</td>\n",
       "      <td>0</td>\n",
       "    </tr>\n",
       "  </tbody>\n",
       "</table>\n",
       "</div>\n",
       "      <button class=\"colab-df-convert\" onclick=\"convertToInteractive('df-6390f589-c436-4160-a8f6-37a873859936')\"\n",
       "              title=\"Convert this dataframe to an interactive table.\"\n",
       "              style=\"display:none;\">\n",
       "        \n",
       "  <svg xmlns=\"http://www.w3.org/2000/svg\" height=\"24px\"viewBox=\"0 0 24 24\"\n",
       "       width=\"24px\">\n",
       "    <path d=\"M0 0h24v24H0V0z\" fill=\"none\"/>\n",
       "    <path d=\"M18.56 5.44l.94 2.06.94-2.06 2.06-.94-2.06-.94-.94-2.06-.94 2.06-2.06.94zm-11 1L8.5 8.5l.94-2.06 2.06-.94-2.06-.94L8.5 2.5l-.94 2.06-2.06.94zm10 10l.94 2.06.94-2.06 2.06-.94-2.06-.94-.94-2.06-.94 2.06-2.06.94z\"/><path d=\"M17.41 7.96l-1.37-1.37c-.4-.4-.92-.59-1.43-.59-.52 0-1.04.2-1.43.59L10.3 9.45l-7.72 7.72c-.78.78-.78 2.05 0 2.83L4 21.41c.39.39.9.59 1.41.59.51 0 1.02-.2 1.41-.59l7.78-7.78 2.81-2.81c.8-.78.8-2.07 0-2.86zM5.41 20L4 18.59l7.72-7.72 1.47 1.35L5.41 20z\"/>\n",
       "  </svg>\n",
       "      </button>\n",
       "      \n",
       "  <style>\n",
       "    .colab-df-container {\n",
       "      display:flex;\n",
       "      flex-wrap:wrap;\n",
       "      gap: 12px;\n",
       "    }\n",
       "\n",
       "    .colab-df-convert {\n",
       "      background-color: #E8F0FE;\n",
       "      border: none;\n",
       "      border-radius: 50%;\n",
       "      cursor: pointer;\n",
       "      display: none;\n",
       "      fill: #1967D2;\n",
       "      height: 32px;\n",
       "      padding: 0 0 0 0;\n",
       "      width: 32px;\n",
       "    }\n",
       "\n",
       "    .colab-df-convert:hover {\n",
       "      background-color: #E2EBFA;\n",
       "      box-shadow: 0px 1px 2px rgba(60, 64, 67, 0.3), 0px 1px 3px 1px rgba(60, 64, 67, 0.15);\n",
       "      fill: #174EA6;\n",
       "    }\n",
       "\n",
       "    [theme=dark] .colab-df-convert {\n",
       "      background-color: #3B4455;\n",
       "      fill: #D2E3FC;\n",
       "    }\n",
       "\n",
       "    [theme=dark] .colab-df-convert:hover {\n",
       "      background-color: #434B5C;\n",
       "      box-shadow: 0px 1px 3px 1px rgba(0, 0, 0, 0.15);\n",
       "      filter: drop-shadow(0px 1px 2px rgba(0, 0, 0, 0.3));\n",
       "      fill: #FFFFFF;\n",
       "    }\n",
       "  </style>\n",
       "\n",
       "      <script>\n",
       "        const buttonEl =\n",
       "          document.querySelector('#df-6390f589-c436-4160-a8f6-37a873859936 button.colab-df-convert');\n",
       "        buttonEl.style.display =\n",
       "          google.colab.kernel.accessAllowed ? 'block' : 'none';\n",
       "\n",
       "        async function convertToInteractive(key) {\n",
       "          const element = document.querySelector('#df-6390f589-c436-4160-a8f6-37a873859936');\n",
       "          const dataTable =\n",
       "            await google.colab.kernel.invokeFunction('convertToInteractive',\n",
       "                                                     [key], {});\n",
       "          if (!dataTable) return;\n",
       "\n",
       "          const docLinkHtml = 'Like what you see? Visit the ' +\n",
       "            '<a target=\"_blank\" href=https://colab.research.google.com/notebooks/data_table.ipynb>data table notebook</a>'\n",
       "            + ' to learn more about interactive tables.';\n",
       "          element.innerHTML = '';\n",
       "          dataTable['output_type'] = 'display_data';\n",
       "          await google.colab.output.renderOutput(dataTable, element);\n",
       "          const docLink = document.createElement('div');\n",
       "          docLink.innerHTML = docLinkHtml;\n",
       "          element.appendChild(docLink);\n",
       "        }\n",
       "      </script>\n",
       "    </div>\n",
       "  </div>\n",
       "  "
      ],
      "text/plain": [
       "                                            waferMap  ...  classify_labels\n",
       "0  [[0, 0, 0, 0, 0, 0, 0, 0, 0, 0, 0, 0, 0, 0, 0,...  ...                0\n",
       "1  [[0, 0, 0, 0, 0, 0, 0, 0, 0, 0, 0, 0, 0, 0, 0,...  ...                0\n",
       "2  [[0, 0, 0, 0, 0, 0, 0, 0, 0, 0, 0, 0, 0, 0, 0,...  ...                0\n",
       "3  [[0, 0, 0, 0, 0, 0, 0, 0, 0, 0, 0, 0, 0, 0, 0,...  ...                0\n",
       "4  [[0, 0, 0, 0, 0, 0, 0, 0, 0, 0, 0, 0, 0, 0, 0,...  ...                0\n",
       "\n",
       "[5 rows x 12 columns]"
      ]
     },
     "execution_count": 4,
     "metadata": {},
     "output_type": "execute_result"
    }
   ],
   "source": [
    "# add classification model labels\n",
    "fail_types = raw_data.failureType.unique()\n",
    "fail_dict = {fail_types[i]:i for i in range(len(fail_types))}\n",
    "print(fail_dict)\n",
    "\n",
    "raw_data['classify_labels'] = raw_data['failureType'].apply(lambda x: fail_dict[x])\n",
    "raw_data.head()"
   ]
  },
  {
   "cell_type": "code",
   "execution_count": null,
   "metadata": {
    "id": "26I-KjFQGrRN"
   },
   "outputs": [],
   "source": [
    "# apply median filter\n",
    "raw_data['filtered_map'] = raw_data.waferMap.apply(lambda x: ndimage.median_filter(x, size=7))"
   ]
  },
  {
   "cell_type": "code",
   "execution_count": null,
   "metadata": {
    "id": "O7MCmXCS4Nin"
   },
   "outputs": [],
   "source": [
    "# resize images to 32x32\n",
    "# normalize values to range of [0,1]\n",
    "raw_data['resized_map'] = raw_data.filtered_map.apply(lambda x: sk_resize(x/2, [32, 32], order=0, preserve_range=True, anti_aliasing=False))"
   ]
  },
  {
   "cell_type": "code",
   "execution_count": null,
   "metadata": {
    "colab": {
     "base_uri": "https://localhost:8080/"
    },
    "executionInfo": {
     "elapsed": 193,
     "status": "ok",
     "timestamp": 1645042441078,
     "user": {
      "displayName": "Lea Cleary",
      "photoUrl": "https://lh3.googleusercontent.com/a-/AOh14GgzyTYobr3WBfcW_CbeVl1vthXNBKocBj7_WOpm=s64",
      "userId": "08012892845319420981"
     },
     "user_tz": 300
    },
    "id": "PLTyT_q9lFaA",
    "outputId": "33f17c18-a55c-47a4-de73-ce942b4c754d"
   },
   "outputs": [
    {
     "name": "stdout",
     "output_type": "stream",
     "text": [
      "Train: 121065\n",
      "Dev: 25942\n",
      "Test: 25943\n"
     ]
    }
   ],
   "source": [
    "# split data into train, dev, and test sets\n",
    "train = raw_data[raw_data.dataset == 'train'].reset_index(drop=True)\n",
    "dev = raw_data[raw_data.dataset == 'dev'].reset_index(drop=True)\n",
    "test = raw_data[raw_data.dataset == 'test'].reset_index(drop=True)\n",
    "print(f\"Train: {len(train)}\")\n",
    "print(f\"Dev: {len(dev)}\")\n",
    "print(f\"Test: {len(test)}\")"
   ]
  },
  {
   "cell_type": "code",
   "execution_count": null,
   "metadata": {
    "colab": {
     "base_uri": "https://localhost:8080/"
    },
    "executionInfo": {
     "elapsed": 826,
     "status": "ok",
     "timestamp": 1645042441902,
     "user": {
      "displayName": "Lea Cleary",
      "photoUrl": "https://lh3.googleusercontent.com/a-/AOh14GgzyTYobr3WBfcW_CbeVl1vthXNBKocBj7_WOpm=s64",
      "userId": "08012892845319420981"
     },
     "user_tz": 300
    },
    "id": "poThmiyAoHSi",
    "outputId": "61587651-2b72-46aa-c568-c09a1b529188"
   },
   "outputs": [
    {
     "data": {
      "text/plain": [
       "(121065, 32, 32)"
      ]
     },
     "execution_count": 8,
     "metadata": {},
     "output_type": "execute_result"
    }
   ],
   "source": [
    "x_train = np.stack(train['resized_map'])\n",
    "x_val = np.stack(dev['resized_map'])\n",
    "x_test = np.stack(test['resized_map'])\n",
    "x_train.shape"
   ]
  },
  {
   "cell_type": "code",
   "execution_count": null,
   "metadata": {
    "colab": {
     "base_uri": "https://localhost:8080/"
    },
    "executionInfo": {
     "elapsed": 2794,
     "status": "ok",
     "timestamp": 1645042444817,
     "user": {
      "displayName": "Lea Cleary",
      "photoUrl": "https://lh3.googleusercontent.com/a-/AOh14GgzyTYobr3WBfcW_CbeVl1vthXNBKocBj7_WOpm=s64",
      "userId": "08012892845319420981"
     },
     "user_tz": 300
    },
    "id": "hy_dVa44ZOLk",
    "outputId": "5875b2f6-a1d7-4008-a713-1544acfdae91"
   },
   "outputs": [
    {
     "data": {
      "text/plain": [
       "TensorShape([121065, 32, 32, 1])"
      ]
     },
     "execution_count": 9,
     "metadata": {},
     "output_type": "execute_result"
    }
   ],
   "source": [
    "# expand tensor and create dummy dimension at axis 3\n",
    "# images in greyscale, so no channel dimension\n",
    "x_train = tf.expand_dims(x_train, axis=3, name=None)\n",
    "x_val = tf.expand_dims(x_val, axis=3, name=None)\n",
    "x_test = tf.expand_dims(x_test, axis=3, name=None)\n",
    "x_train.shape"
   ]
  },
  {
   "cell_type": "code",
   "execution_count": null,
   "metadata": {
    "id": "rIS8zJfn_aDO"
   },
   "outputs": [],
   "source": [
    "y_train = np.asarray(train['classify_labels'])\n",
    "y_val = np.asarray(dev['classify_labels'])\n",
    "y_test = np.asarray(test['classify_labels'])"
   ]
  },
  {
   "cell_type": "code",
   "execution_count": null,
   "metadata": {
    "colab": {
     "base_uri": "https://localhost:8080/"
    },
    "executionInfo": {
     "elapsed": 471,
     "status": "ok",
     "timestamp": 1645042445440,
     "user": {
      "displayName": "Lea Cleary",
      "photoUrl": "https://lh3.googleusercontent.com/a-/AOh14GgzyTYobr3WBfcW_CbeVl1vthXNBKocBj7_WOpm=s64",
      "userId": "08012892845319420981"
     },
     "user_tz": 300
    },
    "id": "UeaLkOM-XRZA",
    "outputId": "b6a7c0a3-b07d-40bd-91b3-a7586e4648e4"
   },
   "outputs": [
    {
     "name": "stdout",
     "output_type": "stream",
     "text": [
      "Model: \"sequential\"\n",
      "_________________________________________________________________\n",
      " Layer (type)                Output Shape              Param #   \n",
      "=================================================================\n",
      " conv2d (Conv2D)             (None, 28, 28, 6)         156       \n",
      "                                                                 \n",
      " average_pooling2d (AverageP  (None, 14, 14, 6)        0         \n",
      " ooling2D)                                                       \n",
      "                                                                 \n",
      " activation (Activation)     (None, 14, 14, 6)         0         \n",
      "                                                                 \n",
      " conv2d_1 (Conv2D)           (None, 10, 10, 16)        2416      \n",
      "                                                                 \n",
      " average_pooling2d_1 (Averag  (None, 5, 5, 16)         0         \n",
      " ePooling2D)                                                     \n",
      "                                                                 \n",
      " activation_1 (Activation)   (None, 5, 5, 16)          0         \n",
      "                                                                 \n",
      " conv2d_2 (Conv2D)           (None, 1, 1, 120)         48120     \n",
      "                                                                 \n",
      " flatten (Flatten)           (None, 120)               0         \n",
      "                                                                 \n",
      " dense (Dense)               (None, 84)                10164     \n",
      "                                                                 \n",
      " dense_1 (Dense)             (None, 10)                850       \n",
      "                                                                 \n",
      "=================================================================\n",
      "Total params: 61,706\n",
      "Trainable params: 61,706\n",
      "Non-trainable params: 0\n",
      "_________________________________________________________________\n"
     ]
    }
   ],
   "source": [
    "model = models.Sequential()\n",
    "model.add(layers.Conv2D(6, 5, activation='tanh', input_shape=x_train.shape[1:]))\n",
    "model.add(layers.AveragePooling2D(2))\n",
    "model.add(layers.Activation('sigmoid'))\n",
    "model.add(layers.Conv2D(16, 5, activation='tanh'))\n",
    "model.add(layers.AveragePooling2D(2))\n",
    "model.add(layers.Activation('sigmoid'))\n",
    "model.add(layers.Conv2D(120, 5, activation='tanh'))\n",
    "model.add(layers.Flatten())\n",
    "model.add(layers.Dense(84, activation='tanh'))\n",
    "model.add(layers.Dense(10, activation='softmax'))\n",
    "model.summary()"
   ]
  },
  {
   "cell_type": "code",
   "execution_count": null,
   "metadata": {
    "id": "pOAJW5ByhYCl"
   },
   "outputs": [],
   "source": [
    "model.compile(optimizer='adam', loss=losses.sparse_categorical_crossentropy, metrics=['accuracy'])"
   ]
  },
  {
   "cell_type": "code",
   "execution_count": null,
   "metadata": {
    "colab": {
     "base_uri": "https://localhost:8080/"
    },
    "executionInfo": {
     "elapsed": 562929,
     "status": "ok",
     "timestamp": 1645043008364,
     "user": {
      "displayName": "Lea Cleary",
      "photoUrl": "https://lh3.googleusercontent.com/a-/AOh14GgzyTYobr3WBfcW_CbeVl1vthXNBKocBj7_WOpm=s64",
      "userId": "08012892845319420981"
     },
     "user_tz": 300
    },
    "id": "Xv-ml2R6hw_V",
    "outputId": "06c9a069-1d1b-4ad4-81f6-2d176de2be85"
   },
   "outputs": [
    {
     "name": "stdout",
     "output_type": "stream",
     "text": [
      "Epoch 1/40\n",
      "1892/1892 [==============================] - 24s 8ms/step - loss: 0.6668 - accuracy: 0.8520 - val_loss: 0.6643 - val_accuracy: 0.8524\n",
      "Epoch 2/40\n",
      "1892/1892 [==============================] - 13s 7ms/step - loss: 0.6637 - accuracy: 0.8525 - val_loss: 0.6627 - val_accuracy: 0.8524\n",
      "Epoch 3/40\n",
      "1892/1892 [==============================] - 14s 8ms/step - loss: 0.6633 - accuracy: 0.8525 - val_loss: 0.6619 - val_accuracy: 0.8524\n",
      "Epoch 4/40\n",
      "1892/1892 [==============================] - 13s 7ms/step - loss: 0.6636 - accuracy: 0.8525 - val_loss: 0.6631 - val_accuracy: 0.8524\n",
      "Epoch 5/40\n",
      "1892/1892 [==============================] - 14s 8ms/step - loss: 0.6557 - accuracy: 0.8536 - val_loss: 0.6611 - val_accuracy: 0.8524\n",
      "Epoch 6/40\n",
      "1892/1892 [==============================] - 14s 8ms/step - loss: 0.6637 - accuracy: 0.8525 - val_loss: 0.6615 - val_accuracy: 0.8524\n",
      "Epoch 7/40\n",
      "1892/1892 [==============================] - 13s 7ms/step - loss: 0.6637 - accuracy: 0.8525 - val_loss: 0.6628 - val_accuracy: 0.8524\n",
      "Epoch 8/40\n",
      "1892/1892 [==============================] - 13s 7ms/step - loss: 0.6636 - accuracy: 0.8525 - val_loss: 0.6624 - val_accuracy: 0.8524\n",
      "Epoch 9/40\n",
      "1892/1892 [==============================] - 13s 7ms/step - loss: 0.6634 - accuracy: 0.8525 - val_loss: 0.6616 - val_accuracy: 0.8524\n",
      "Epoch 10/40\n",
      "1892/1892 [==============================] - 14s 8ms/step - loss: 0.6633 - accuracy: 0.8525 - val_loss: 0.6636 - val_accuracy: 0.8524\n",
      "Epoch 11/40\n",
      "1892/1892 [==============================] - 15s 8ms/step - loss: 0.6608 - accuracy: 0.8529 - val_loss: 0.6645 - val_accuracy: 0.8524\n",
      "Epoch 12/40\n",
      "1892/1892 [==============================] - 14s 7ms/step - loss: 0.6636 - accuracy: 0.8525 - val_loss: 0.6633 - val_accuracy: 0.8524\n",
      "Epoch 13/40\n",
      "1892/1892 [==============================] - 13s 7ms/step - loss: 0.6635 - accuracy: 0.8525 - val_loss: 0.6622 - val_accuracy: 0.8524\n",
      "Epoch 14/40\n",
      "1892/1892 [==============================] - 13s 7ms/step - loss: 0.6634 - accuracy: 0.8525 - val_loss: 0.6626 - val_accuracy: 0.8524\n",
      "Epoch 15/40\n",
      "1892/1892 [==============================] - 14s 7ms/step - loss: 0.6633 - accuracy: 0.8525 - val_loss: 0.6674 - val_accuracy: 0.8524\n",
      "Epoch 16/40\n",
      "1892/1892 [==============================] - 13s 7ms/step - loss: 0.6639 - accuracy: 0.8525 - val_loss: 0.6624 - val_accuracy: 0.8524\n",
      "Epoch 17/40\n",
      "1892/1892 [==============================] - 13s 7ms/step - loss: 0.6636 - accuracy: 0.8525 - val_loss: 0.6652 - val_accuracy: 0.8524\n",
      "Epoch 18/40\n",
      "1892/1892 [==============================] - 13s 7ms/step - loss: 0.6635 - accuracy: 0.8525 - val_loss: 0.6622 - val_accuracy: 0.8524\n",
      "Epoch 19/40\n",
      "1892/1892 [==============================] - 14s 7ms/step - loss: 0.6635 - accuracy: 0.8525 - val_loss: 0.6674 - val_accuracy: 0.8524\n",
      "Epoch 20/40\n",
      "1892/1892 [==============================] - 13s 7ms/step - loss: 0.6631 - accuracy: 0.8525 - val_loss: 0.6662 - val_accuracy: 0.8524\n",
      "Epoch 21/40\n",
      "1892/1892 [==============================] - 13s 7ms/step - loss: 0.6634 - accuracy: 0.8525 - val_loss: 0.6642 - val_accuracy: 0.8524\n",
      "Epoch 22/40\n",
      "1892/1892 [==============================] - 13s 7ms/step - loss: 0.6636 - accuracy: 0.8525 - val_loss: 0.6649 - val_accuracy: 0.8524\n",
      "Epoch 23/40\n",
      "1892/1892 [==============================] - 13s 7ms/step - loss: 0.6637 - accuracy: 0.8525 - val_loss: 0.6629 - val_accuracy: 0.8524\n",
      "Epoch 24/40\n",
      "1892/1892 [==============================] - 14s 7ms/step - loss: 0.6638 - accuracy: 0.8525 - val_loss: 0.6628 - val_accuracy: 0.8524\n",
      "Epoch 25/40\n",
      "1892/1892 [==============================] - 13s 7ms/step - loss: 0.6637 - accuracy: 0.8525 - val_loss: 0.6632 - val_accuracy: 0.8524\n",
      "Epoch 26/40\n",
      "1892/1892 [==============================] - 14s 7ms/step - loss: 0.6637 - accuracy: 0.8525 - val_loss: 0.6677 - val_accuracy: 0.8524\n",
      "Epoch 27/40\n",
      "1892/1892 [==============================] - 14s 8ms/step - loss: 0.6634 - accuracy: 0.8525 - val_loss: 0.6634 - val_accuracy: 0.8524\n",
      "Epoch 28/40\n",
      "1892/1892 [==============================] - 14s 8ms/step - loss: 0.6637 - accuracy: 0.8525 - val_loss: 0.6614 - val_accuracy: 0.8524\n",
      "Epoch 29/40\n",
      "1892/1892 [==============================] - 14s 8ms/step - loss: 0.6633 - accuracy: 0.8525 - val_loss: 0.6676 - val_accuracy: 0.8524\n",
      "Epoch 30/40\n",
      "1892/1892 [==============================] - 14s 8ms/step - loss: 0.6637 - accuracy: 0.8525 - val_loss: 0.6665 - val_accuracy: 0.8524\n",
      "Epoch 31/40\n",
      "1892/1892 [==============================] - 14s 8ms/step - loss: 0.6636 - accuracy: 0.8525 - val_loss: 0.6620 - val_accuracy: 0.8524\n",
      "Epoch 32/40\n",
      "1892/1892 [==============================] - 14s 8ms/step - loss: 0.6635 - accuracy: 0.8525 - val_loss: 0.6641 - val_accuracy: 0.8524\n",
      "Epoch 33/40\n",
      "1892/1892 [==============================] - 14s 8ms/step - loss: 0.6638 - accuracy: 0.8525 - val_loss: 0.6610 - val_accuracy: 0.8524\n",
      "Epoch 34/40\n",
      "1892/1892 [==============================] - 15s 8ms/step - loss: 0.6636 - accuracy: 0.8525 - val_loss: 0.6662 - val_accuracy: 0.8524\n",
      "Epoch 35/40\n",
      "1892/1892 [==============================] - 13s 7ms/step - loss: 0.6637 - accuracy: 0.8525 - val_loss: 0.6625 - val_accuracy: 0.8524\n",
      "Epoch 36/40\n",
      "1892/1892 [==============================] - 14s 8ms/step - loss: 0.6637 - accuracy: 0.8525 - val_loss: 0.6633 - val_accuracy: 0.8524\n",
      "Epoch 37/40\n",
      "1892/1892 [==============================] - 13s 7ms/step - loss: 0.6638 - accuracy: 0.8525 - val_loss: 0.6635 - val_accuracy: 0.8524\n",
      "Epoch 38/40\n",
      "1892/1892 [==============================] - 14s 8ms/step - loss: 0.6637 - accuracy: 0.8525 - val_loss: 0.6647 - val_accuracy: 0.8524\n",
      "Epoch 39/40\n",
      "1892/1892 [==============================] - 13s 7ms/step - loss: 0.6634 - accuracy: 0.8525 - val_loss: 0.6624 - val_accuracy: 0.8524\n",
      "Epoch 40/40\n",
      "1892/1892 [==============================] - 13s 7ms/step - loss: 0.6639 - accuracy: 0.8525 - val_loss: 0.6613 - val_accuracy: 0.8524\n"
     ]
    }
   ],
   "source": [
    "history = model.fit(x_train, y_train, batch_size=64, epochs=40, validation_data=(x_val, y_val))"
   ]
  },
  {
   "cell_type": "code",
   "execution_count": null,
   "metadata": {
    "colab": {
     "base_uri": "https://localhost:8080/",
     "height": 896
    },
    "executionInfo": {
     "elapsed": 685,
     "status": "ok",
     "timestamp": 1645043009041,
     "user": {
      "displayName": "Lea Cleary",
      "photoUrl": "https://lh3.googleusercontent.com/a-/AOh14GgzyTYobr3WBfcW_CbeVl1vthXNBKocBj7_WOpm=s64",
      "userId": "08012892845319420981"
     },
     "user_tz": 300
    },
    "id": "AfX0d7zyocFw",
    "outputId": "422dea79-bb0b-4eae-826a-3f1b1d277634"
   },
   "outputs": [
    {
     "data": {
      "text/plain": [
       "<matplotlib.legend.Legend at 0x7f6097910fd0>"
      ]
     },
     "execution_count": 14,
     "metadata": {},
     "output_type": "execute_result"
    },
    {
     "data": {
      "image/png": "[encoded data removed]",
      "text/plain": [
       "<Figure size 1080x1080 with 2 Axes>"
      ]
     },
     "metadata": {
      "needs_background": "light"
     },
     "output_type": "display_data"
    }
   ],
   "source": [
    "fig, axs = plt.subplots(2, 1, figsize=(15,15))\n",
    "\n",
    "axs[0].plot(history.history['loss'])\n",
    "axs[0].plot(history.history['val_loss'])\n",
    "axs[0].title.set_text('Training Loss vs Validation Loss')\n",
    "axs[0].legend(['Train', 'Val'])\n",
    "\n",
    "axs[1].plot(history.history['accuracy'])\n",
    "axs[1].plot(history.history['val_accuracy'])\n",
    "axs[1].title.set_text('Training Accuracy vs Validation Accuracy')\n",
    "axs[1].legend(['Train', 'Val'])\n"
   ]
  },
  {
   "cell_type": "code",
   "execution_count": null,
   "metadata": {
    "colab": {
     "base_uri": "https://localhost:8080/"
    },
    "executionInfo": {
     "elapsed": 5240,
     "status": "ok",
     "timestamp": 1645043014275,
     "user": {
      "displayName": "Lea Cleary",
      "photoUrl": "https://lh3.googleusercontent.com/a-/AOh14GgzyTYobr3WBfcW_CbeVl1vthXNBKocBj7_WOpm=s64",
      "userId": "08012892845319420981"
     },
     "user_tz": 300
    },
    "id": "iLQqDljamZTV",
    "outputId": "484326fb-7723-4617-b7f2-76b799c686a4"
   },
   "outputs": [
    {
     "name": "stdout",
     "output_type": "stream",
     "text": [
      "811/811 [==============================] - 3s 4ms/step - loss: 0.6612 - accuracy: 0.8524\n"
     ]
    },
    {
     "data": {
      "text/plain": [
       "[0.6611590385437012, 0.8524457216262817]"
      ]
     },
     "execution_count": 15,
     "metadata": {},
     "output_type": "execute_result"
    }
   ],
   "source": [
    "model.evaluate(x_test, y_test)"
   ]
  }
 ],
 "metadata": {
  "accelerator": "GPU",
  "colab": {
   "collapsed_sections": [],
   "name": "colab_lenet_classify_all_filter7.ipynb",
   "provenance": [
    {
     "file_id": "https://gist.github.com/mrgrhn/c6d2a157ebfc883e462f2d6e2ce2e3ce#file-lenet_tensorflow-ipynb",
     "timestamp": 1645028600895
    }
   ]
  },
  "kernelspec": {
   "display_name": "Python 3",
   "language": "python",
   "name": "python3"
  },
  "language_info": {
   "codemirror_mode": {
    "name": "ipython",
    "version": 3
   },
   "file_extension": ".py",
   "mimetype": "text/x-python",
   "name": "python",
   "nbconvert_exporter": "python",
   "pygments_lexer": "ipython3",
   "version": "3.8.3"
  }
 },
 "nbformat": 4,
 "nbformat_minor": 1
}
