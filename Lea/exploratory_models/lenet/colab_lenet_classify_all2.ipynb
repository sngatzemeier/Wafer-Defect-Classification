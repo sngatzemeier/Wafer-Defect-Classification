{
 "cells": [
  {
   "cell_type": "code",
   "execution_count": null,
   "metadata": {
    "colab": {
     "base_uri": "https://localhost:8080/"
    },
    "executionInfo": {
     "elapsed": 17003,
     "status": "ok",
     "timestamp": 1645130034371,
     "user": {
      "displayName": "Lea Cleary",
      "photoUrl": "https://lh3.googleusercontent.com/a-/AOh14GgzyTYobr3WBfcW_CbeVl1vthXNBKocBj7_WOpm=s64",
      "userId": "08012892845319420981"
     },
     "user_tz": 300
    },
    "id": "MMcWUHT5-eVD",
    "outputId": "00111a49-0a3c-4392-f905-805f1030b923"
   },
   "outputs": [
    {
     "name": "stdout",
     "output_type": "stream",
     "text": [
      "Collecting pickle5\n",
      "  Downloading pickle5-0.0.12-cp37-cp37m-manylinux_2_5_x86_64.manylinux1_x86_64.whl (256 kB)\n",
      "\u001b[?25l\r",
      "\u001b[K     |█▎                              | 10 kB 21.1 MB/s eta 0:00:01\r",
      "\u001b[K     |██▋                             | 20 kB 11.8 MB/s eta 0:00:01\r",
      "\u001b[K     |███▉                            | 30 kB 6.6 MB/s eta 0:00:01\r",
      "\u001b[K     |█████▏                          | 40 kB 4.1 MB/s eta 0:00:01\r",
      "\u001b[K     |██████▍                         | 51 kB 4.4 MB/s eta 0:00:01\r",
      "\u001b[K     |███████▊                        | 61 kB 5.2 MB/s eta 0:00:01\r",
      "\u001b[K     |█████████                       | 71 kB 5.2 MB/s eta 0:00:01\r",
      "\u001b[K     |██████████▎                     | 81 kB 5.0 MB/s eta 0:00:01\r",
      "\u001b[K     |███████████▌                    | 92 kB 5.6 MB/s eta 0:00:01\r",
      "\u001b[K     |████████████▉                   | 102 kB 4.9 MB/s eta 0:00:01\r",
      "\u001b[K     |██████████████                  | 112 kB 4.9 MB/s eta 0:00:01\r",
      "\u001b[K     |███████████████▍                | 122 kB 4.9 MB/s eta 0:00:01\r",
      "\u001b[K     |████████████████▋               | 133 kB 4.9 MB/s eta 0:00:01\r",
      "\u001b[K     |██████████████████              | 143 kB 4.9 MB/s eta 0:00:01\r",
      "\u001b[K     |███████████████████▏            | 153 kB 4.9 MB/s eta 0:00:01\r",
      "\u001b[K     |████████████████████▌           | 163 kB 4.9 MB/s eta 0:00:01\r",
      "\u001b[K     |█████████████████████▊          | 174 kB 4.9 MB/s eta 0:00:01\r",
      "\u001b[K     |███████████████████████         | 184 kB 4.9 MB/s eta 0:00:01\r",
      "\u001b[K     |████████████████████████▎       | 194 kB 4.9 MB/s eta 0:00:01\r",
      "\u001b[K     |█████████████████████████▋      | 204 kB 4.9 MB/s eta 0:00:01\r",
      "\u001b[K     |██████████████████████████▉     | 215 kB 4.9 MB/s eta 0:00:01\r",
      "\u001b[K     |████████████████████████████▏   | 225 kB 4.9 MB/s eta 0:00:01\r",
      "\u001b[K     |█████████████████████████████▍  | 235 kB 4.9 MB/s eta 0:00:01\r",
      "\u001b[K     |██████████████████████████████▊ | 245 kB 4.9 MB/s eta 0:00:01\r",
      "\u001b[K     |████████████████████████████████| 256 kB 4.9 MB/s eta 0:00:01\r",
      "\u001b[K     |████████████████████████████████| 256 kB 4.9 MB/s \n",
      "\u001b[?25hInstalling collected packages: pickle5\n",
      "Successfully installed pickle5-0.0.12\n"
     ]
    }
   ],
   "source": [
    "# import libraries\n",
    "import tensorflow as tf\n",
    "import matplotlib.pyplot as plt\n",
    "from tensorflow.keras import datasets, layers, models, losses\n",
    "\n",
    "import os\n",
    "import numpy as np\n",
    "import pandas as pd\n",
    "!pip install pickle5\n",
    "import pickle5 as pickle\n",
    "from skimage.transform import resize as sk_resize"
   ]
  },
  {
   "cell_type": "code",
   "execution_count": null,
   "metadata": {
    "colab": {
     "base_uri": "https://localhost:8080/"
    },
    "executionInfo": {
     "elapsed": 48234,
     "status": "ok",
     "timestamp": 1645130082597,
     "user": {
      "displayName": "Lea Cleary",
      "photoUrl": "https://lh3.googleusercontent.com/a-/AOh14GgzyTYobr3WBfcW_CbeVl1vthXNBKocBj7_WOpm=s64",
      "userId": "08012892845319420981"
     },
     "user_tz": 300
    },
    "id": "fgEs_34dj5mz",
    "outputId": "a7020e50-c96d-4fd0-8832-beaef48bc75c"
   },
   "outputs": [
    {
     "name": "stdout",
     "output_type": "stream",
     "text": [
      "Mounted at /content/drive/\n"
     ]
    }
   ],
   "source": [
    "# connect Drive\n",
    "from google.colab import drive\n",
    "drive.mount('/content/drive/')"
   ]
  },
  {
   "cell_type": "code",
   "execution_count": null,
   "metadata": {
    "colab": {
     "base_uri": "https://localhost:8080/"
    },
    "executionInfo": {
     "elapsed": 4786,
     "status": "ok",
     "timestamp": 1645130087377,
     "user": {
      "displayName": "Lea Cleary",
      "photoUrl": "https://lh3.googleusercontent.com/a-/AOh14GgzyTYobr3WBfcW_CbeVl1vthXNBKocBj7_WOpm=s64",
      "userId": "08012892845319420981"
     },
     "user_tz": 300
    },
    "id": "qC9z2Ht7k0RL",
    "outputId": "ac8ff34e-ed80-4be2-c1ae-0ec44436d60d"
   },
   "outputs": [
    {
     "name": "stdout",
     "output_type": "stream",
     "text": [
      "Raw data shape: (172950, 11)\n"
     ]
    }
   ],
   "source": [
    "# load data\n",
    "path = '/content/drive/MyDrive/W210/Wafer-Defect-Classification'\n",
    "\n",
    "with open(f'{path}/WM-clean.pkl', \"rb\") as fh:\n",
    "    raw_data = pickle.load(fh)\n",
    "    \n",
    "print(f'Raw data shape: {raw_data.shape}')"
   ]
  },
  {
   "cell_type": "code",
   "execution_count": null,
   "metadata": {
    "colab": {
     "base_uri": "https://localhost:8080/",
     "height": 224
    },
    "executionInfo": {
     "elapsed": 735,
     "status": "ok",
     "timestamp": 1645130088109,
     "user": {
      "displayName": "Lea Cleary",
      "photoUrl": "https://lh3.googleusercontent.com/a-/AOh14GgzyTYobr3WBfcW_CbeVl1vthXNBKocBj7_WOpm=s64",
      "userId": "08012892845319420981"
     },
     "user_tz": 300
    },
    "id": "IEOzCNgvlFlo",
    "outputId": "887f0f09-095f-430f-b5b0-b0d9b77e8885"
   },
   "outputs": [
    {
     "name": "stdout",
     "output_type": "stream",
     "text": [
      "{'none': 0, 'Loc': 1, 'Edge-Loc': 2, 'Center': 3, 'Edge-Ring': 4, 'Scratch': 5, 'Random': 6, 'Near-full': 7, 'Donut': 8}\n"
     ]
    },
    {
     "data": {
      "text/html": [
       "\n",
       "  <div id=\"df-9d695151-4b23-4b01-bf0c-0bbf58921bc8\">\n",
       "    <div class=\"colab-df-container\">\n",
       "      <div>\n",
       "<style scoped>\n",
       "    .dataframe tbody tr th:only-of-type {\n",
       "        vertical-align: middle;\n",
       "    }\n",
       "\n",
       "    .dataframe tbody tr th {\n",
       "        vertical-align: top;\n",
       "    }\n",
       "\n",
       "    .dataframe thead th {\n",
       "        text-align: right;\n",
       "    }\n",
       "</style>\n",
       "<table border=\"1\" class=\"dataframe\">\n",
       "  <thead>\n",
       "    <tr style=\"text-align: right;\">\n",
       "      <th></th>\n",
       "      <th>waferMap</th>\n",
       "      <th>dieSize</th>\n",
       "      <th>lotName</th>\n",
       "      <th>waferIndex</th>\n",
       "      <th>failureType</th>\n",
       "      <th>encoding</th>\n",
       "      <th>x_</th>\n",
       "      <th>y_</th>\n",
       "      <th>shape</th>\n",
       "      <th>labels</th>\n",
       "      <th>dataset</th>\n",
       "      <th>classify_labels</th>\n",
       "    </tr>\n",
       "  </thead>\n",
       "  <tbody>\n",
       "    <tr>\n",
       "      <th>0</th>\n",
       "      <td>[[0, 0, 0, 0, 0, 0, 0, 0, 0, 0, 0, 0, 0, 0, 0,...</td>\n",
       "      <td>1683.0</td>\n",
       "      <td>lot1</td>\n",
       "      <td>1.0</td>\n",
       "      <td>none</td>\n",
       "      <td>1</td>\n",
       "      <td>45</td>\n",
       "      <td>48</td>\n",
       "      <td>(45, 48)</td>\n",
       "      <td>[1.0, 0.0, 0.0, 0.0, 0.0, 0.0, 0.0, 0.0, 0.0]</td>\n",
       "      <td>train</td>\n",
       "      <td>0</td>\n",
       "    </tr>\n",
       "    <tr>\n",
       "      <th>1</th>\n",
       "      <td>[[0, 0, 0, 0, 0, 0, 0, 0, 0, 0, 0, 0, 0, 0, 0,...</td>\n",
       "      <td>1683.0</td>\n",
       "      <td>lot1</td>\n",
       "      <td>2.0</td>\n",
       "      <td>none</td>\n",
       "      <td>1</td>\n",
       "      <td>45</td>\n",
       "      <td>48</td>\n",
       "      <td>(45, 48)</td>\n",
       "      <td>[1.0, 0.0, 0.0, 0.0, 0.0, 0.0, 0.0, 0.0, 0.0]</td>\n",
       "      <td>test</td>\n",
       "      <td>0</td>\n",
       "    </tr>\n",
       "    <tr>\n",
       "      <th>2</th>\n",
       "      <td>[[0, 0, 0, 0, 0, 0, 0, 0, 0, 0, 0, 0, 0, 0, 0,...</td>\n",
       "      <td>1683.0</td>\n",
       "      <td>lot1</td>\n",
       "      <td>3.0</td>\n",
       "      <td>none</td>\n",
       "      <td>1</td>\n",
       "      <td>45</td>\n",
       "      <td>48</td>\n",
       "      <td>(45, 48)</td>\n",
       "      <td>[1.0, 0.0, 0.0, 0.0, 0.0, 0.0, 0.0, 0.0, 0.0]</td>\n",
       "      <td>test</td>\n",
       "      <td>0</td>\n",
       "    </tr>\n",
       "    <tr>\n",
       "      <th>3</th>\n",
       "      <td>[[0, 0, 0, 0, 0, 0, 0, 0, 0, 0, 0, 0, 0, 0, 0,...</td>\n",
       "      <td>1683.0</td>\n",
       "      <td>lot1</td>\n",
       "      <td>4.0</td>\n",
       "      <td>none</td>\n",
       "      <td>1</td>\n",
       "      <td>45</td>\n",
       "      <td>48</td>\n",
       "      <td>(45, 48)</td>\n",
       "      <td>[1.0, 0.0, 0.0, 0.0, 0.0, 0.0, 0.0, 0.0, 0.0]</td>\n",
       "      <td>train</td>\n",
       "      <td>0</td>\n",
       "    </tr>\n",
       "    <tr>\n",
       "      <th>4</th>\n",
       "      <td>[[0, 0, 0, 0, 0, 0, 0, 0, 0, 0, 0, 0, 0, 0, 0,...</td>\n",
       "      <td>1683.0</td>\n",
       "      <td>lot1</td>\n",
       "      <td>5.0</td>\n",
       "      <td>none</td>\n",
       "      <td>1</td>\n",
       "      <td>45</td>\n",
       "      <td>48</td>\n",
       "      <td>(45, 48)</td>\n",
       "      <td>[1.0, 0.0, 0.0, 0.0, 0.0, 0.0, 0.0, 0.0, 0.0]</td>\n",
       "      <td>train</td>\n",
       "      <td>0</td>\n",
       "    </tr>\n",
       "  </tbody>\n",
       "</table>\n",
       "</div>\n",
       "      <button class=\"colab-df-convert\" onclick=\"convertToInteractive('df-9d695151-4b23-4b01-bf0c-0bbf58921bc8')\"\n",
       "              title=\"Convert this dataframe to an interactive table.\"\n",
       "              style=\"display:none;\">\n",
       "        \n",
       "  <svg xmlns=\"http://www.w3.org/2000/svg\" height=\"24px\"viewBox=\"0 0 24 24\"\n",
       "       width=\"24px\">\n",
       "    <path d=\"M0 0h24v24H0V0z\" fill=\"none\"/>\n",
       "    <path d=\"M18.56 5.44l.94 2.06.94-2.06 2.06-.94-2.06-.94-.94-2.06-.94 2.06-2.06.94zm-11 1L8.5 8.5l.94-2.06 2.06-.94-2.06-.94L8.5 2.5l-.94 2.06-2.06.94zm10 10l.94 2.06.94-2.06 2.06-.94-2.06-.94-.94-2.06-.94 2.06-2.06.94z\"/><path d=\"M17.41 7.96l-1.37-1.37c-.4-.4-.92-.59-1.43-.59-.52 0-1.04.2-1.43.59L10.3 9.45l-7.72 7.72c-.78.78-.78 2.05 0 2.83L4 21.41c.39.39.9.59 1.41.59.51 0 1.02-.2 1.41-.59l7.78-7.78 2.81-2.81c.8-.78.8-2.07 0-2.86zM5.41 20L4 18.59l7.72-7.72 1.47 1.35L5.41 20z\"/>\n",
       "  </svg>\n",
       "      </button>\n",
       "      \n",
       "  <style>\n",
       "    .colab-df-container {\n",
       "      display:flex;\n",
       "      flex-wrap:wrap;\n",
       "      gap: 12px;\n",
       "    }\n",
       "\n",
       "    .colab-df-convert {\n",
       "      background-color: #E8F0FE;\n",
       "      border: none;\n",
       "      border-radius: 50%;\n",
       "      cursor: pointer;\n",
       "      display: none;\n",
       "      fill: #1967D2;\n",
       "      height: 32px;\n",
       "      padding: 0 0 0 0;\n",
       "      width: 32px;\n",
       "    }\n",
       "\n",
       "    .colab-df-convert:hover {\n",
       "      background-color: #E2EBFA;\n",
       "      box-shadow: 0px 1px 2px rgba(60, 64, 67, 0.3), 0px 1px 3px 1px rgba(60, 64, 67, 0.15);\n",
       "      fill: #174EA6;\n",
       "    }\n",
       "\n",
       "    [theme=dark] .colab-df-convert {\n",
       "      background-color: #3B4455;\n",
       "      fill: #D2E3FC;\n",
       "    }\n",
       "\n",
       "    [theme=dark] .colab-df-convert:hover {\n",
       "      background-color: #434B5C;\n",
       "      box-shadow: 0px 1px 3px 1px rgba(0, 0, 0, 0.15);\n",
       "      filter: drop-shadow(0px 1px 2px rgba(0, 0, 0, 0.3));\n",
       "      fill: #FFFFFF;\n",
       "    }\n",
       "  </style>\n",
       "\n",
       "      <script>\n",
       "        const buttonEl =\n",
       "          document.querySelector('#df-9d695151-4b23-4b01-bf0c-0bbf58921bc8 button.colab-df-convert');\n",
       "        buttonEl.style.display =\n",
       "          google.colab.kernel.accessAllowed ? 'block' : 'none';\n",
       "\n",
       "        async function convertToInteractive(key) {\n",
       "          const element = document.querySelector('#df-9d695151-4b23-4b01-bf0c-0bbf58921bc8');\n",
       "          const dataTable =\n",
       "            await google.colab.kernel.invokeFunction('convertToInteractive',\n",
       "                                                     [key], {});\n",
       "          if (!dataTable) return;\n",
       "\n",
       "          const docLinkHtml = 'Like what you see? Visit the ' +\n",
       "            '<a target=\"_blank\" href=https://colab.research.google.com/notebooks/data_table.ipynb>data table notebook</a>'\n",
       "            + ' to learn more about interactive tables.';\n",
       "          element.innerHTML = '';\n",
       "          dataTable['output_type'] = 'display_data';\n",
       "          await google.colab.output.renderOutput(dataTable, element);\n",
       "          const docLink = document.createElement('div');\n",
       "          docLink.innerHTML = docLinkHtml;\n",
       "          element.appendChild(docLink);\n",
       "        }\n",
       "      </script>\n",
       "    </div>\n",
       "  </div>\n",
       "  "
      ],
      "text/plain": [
       "                                            waferMap  ...  classify_labels\n",
       "0  [[0, 0, 0, 0, 0, 0, 0, 0, 0, 0, 0, 0, 0, 0, 0,...  ...                0\n",
       "1  [[0, 0, 0, 0, 0, 0, 0, 0, 0, 0, 0, 0, 0, 0, 0,...  ...                0\n",
       "2  [[0, 0, 0, 0, 0, 0, 0, 0, 0, 0, 0, 0, 0, 0, 0,...  ...                0\n",
       "3  [[0, 0, 0, 0, 0, 0, 0, 0, 0, 0, 0, 0, 0, 0, 0,...  ...                0\n",
       "4  [[0, 0, 0, 0, 0, 0, 0, 0, 0, 0, 0, 0, 0, 0, 0,...  ...                0\n",
       "\n",
       "[5 rows x 12 columns]"
      ]
     },
     "execution_count": 4,
     "metadata": {},
     "output_type": "execute_result"
    }
   ],
   "source": [
    "# add classification model labels\n",
    "fail_types = raw_data.failureType.unique()\n",
    "fail_dict = {fail_types[i]:i for i in range(len(fail_types))}\n",
    "print(fail_dict)\n",
    "\n",
    "raw_data['classify_labels'] = raw_data['failureType'].apply(lambda x: fail_dict[x])\n",
    "raw_data.head()"
   ]
  },
  {
   "cell_type": "code",
   "execution_count": null,
   "metadata": {
    "id": "O7MCmXCS4Nin"
   },
   "outputs": [],
   "source": [
    "# resize images to 32x32\n",
    "# normalize values to range of [0,1]\n",
    "raw_data['resized_map'] = raw_data.waferMap.apply(lambda x: sk_resize(x/2, [32, 32], order=0, preserve_range=True, anti_aliasing=False))"
   ]
  },
  {
   "cell_type": "code",
   "execution_count": null,
   "metadata": {
    "colab": {
     "base_uri": "https://localhost:8080/"
    },
    "executionInfo": {
     "elapsed": 144,
     "status": "ok",
     "timestamp": 1645130309384,
     "user": {
      "displayName": "Lea Cleary",
      "photoUrl": "https://lh3.googleusercontent.com/a-/AOh14GgzyTYobr3WBfcW_CbeVl1vthXNBKocBj7_WOpm=s64",
      "userId": "08012892845319420981"
     },
     "user_tz": 300
    },
    "id": "PLTyT_q9lFaA",
    "outputId": "c8a9a96b-e5d2-4ae4-fea7-20fdbb6aab79"
   },
   "outputs": [
    {
     "name": "stdout",
     "output_type": "stream",
     "text": [
      "Train: 121065\n",
      "Dev: 25942\n",
      "Test: 25943\n"
     ]
    }
   ],
   "source": [
    "# split data into train, dev, and test sets\n",
    "train = raw_data[raw_data.dataset == 'train'].reset_index(drop=True)\n",
    "dev = raw_data[raw_data.dataset == 'dev'].reset_index(drop=True)\n",
    "test = raw_data[raw_data.dataset == 'test'].reset_index(drop=True)\n",
    "print(f\"Train: {len(train)}\")\n",
    "print(f\"Dev: {len(dev)}\")\n",
    "print(f\"Test: {len(test)}\")"
   ]
  },
  {
   "cell_type": "code",
   "execution_count": null,
   "metadata": {
    "colab": {
     "base_uri": "https://localhost:8080/"
    },
    "executionInfo": {
     "elapsed": 842,
     "status": "ok",
     "timestamp": 1645130310224,
     "user": {
      "displayName": "Lea Cleary",
      "photoUrl": "https://lh3.googleusercontent.com/a-/AOh14GgzyTYobr3WBfcW_CbeVl1vthXNBKocBj7_WOpm=s64",
      "userId": "08012892845319420981"
     },
     "user_tz": 300
    },
    "id": "poThmiyAoHSi",
    "outputId": "b93c01b0-692b-4344-ce11-61da3613f166"
   },
   "outputs": [
    {
     "data": {
      "text/plain": [
       "(121065, 32, 32)"
      ]
     },
     "execution_count": 7,
     "metadata": {},
     "output_type": "execute_result"
    }
   ],
   "source": [
    "x_train = np.stack(train['resized_map'])\n",
    "x_val = np.stack(dev['resized_map'])\n",
    "x_test = np.stack(test['resized_map'])\n",
    "x_train.shape"
   ]
  },
  {
   "cell_type": "code",
   "execution_count": null,
   "metadata": {
    "colab": {
     "base_uri": "https://localhost:8080/"
    },
    "executionInfo": {
     "elapsed": 2769,
     "status": "ok",
     "timestamp": 1645130312987,
     "user": {
      "displayName": "Lea Cleary",
      "photoUrl": "https://lh3.googleusercontent.com/a-/AOh14GgzyTYobr3WBfcW_CbeVl1vthXNBKocBj7_WOpm=s64",
      "userId": "08012892845319420981"
     },
     "user_tz": 300
    },
    "id": "hy_dVa44ZOLk",
    "outputId": "ffdd1312-46d9-44d7-bff5-083e7a5db085"
   },
   "outputs": [
    {
     "data": {
      "text/plain": [
       "TensorShape([121065, 32, 32, 1])"
      ]
     },
     "execution_count": 8,
     "metadata": {},
     "output_type": "execute_result"
    }
   ],
   "source": [
    "# expand tensor and create dummy dimension at axis 3\n",
    "# images in greyscale, so no channel dimension\n",
    "x_train = tf.expand_dims(x_train, axis=3, name=None)\n",
    "x_val = tf.expand_dims(x_val, axis=3, name=None)\n",
    "x_test = tf.expand_dims(x_test, axis=3, name=None)\n",
    "x_train.shape"
   ]
  },
  {
   "cell_type": "code",
   "execution_count": null,
   "metadata": {
    "id": "rIS8zJfn_aDO"
   },
   "outputs": [],
   "source": [
    "y_train = np.asarray(train['classify_labels'])\n",
    "y_val = np.asarray(dev['classify_labels'])\n",
    "y_test = np.asarray(test['classify_labels'])"
   ]
  },
  {
   "cell_type": "code",
   "execution_count": null,
   "metadata": {
    "colab": {
     "base_uri": "https://localhost:8080/"
    },
    "executionInfo": {
     "elapsed": 562,
     "status": "ok",
     "timestamp": 1645130313542,
     "user": {
      "displayName": "Lea Cleary",
      "photoUrl": "https://lh3.googleusercontent.com/a-/AOh14GgzyTYobr3WBfcW_CbeVl1vthXNBKocBj7_WOpm=s64",
      "userId": "08012892845319420981"
     },
     "user_tz": 300
    },
    "id": "UeaLkOM-XRZA",
    "outputId": "31d7455b-87b6-42d6-e2ac-00c598e47744"
   },
   "outputs": [
    {
     "name": "stdout",
     "output_type": "stream",
     "text": [
      "Model: \"sequential\"\n",
      "_________________________________________________________________\n",
      " Layer (type)                Output Shape              Param #   \n",
      "=================================================================\n",
      " conv2d (Conv2D)             (None, 28, 28, 6)         156       \n",
      "                                                                 \n",
      " average_pooling2d (AverageP  (None, 14, 14, 6)        0         \n",
      " ooling2D)                                                       \n",
      "                                                                 \n",
      " activation (Activation)     (None, 14, 14, 6)         0         \n",
      "                                                                 \n",
      " conv2d_1 (Conv2D)           (None, 10, 10, 16)        2416      \n",
      "                                                                 \n",
      " average_pooling2d_1 (Averag  (None, 5, 5, 16)         0         \n",
      " ePooling2D)                                                     \n",
      "                                                                 \n",
      " activation_1 (Activation)   (None, 5, 5, 16)          0         \n",
      "                                                                 \n",
      " conv2d_2 (Conv2D)           (None, 1, 1, 120)         48120     \n",
      "                                                                 \n",
      " flatten (Flatten)           (None, 120)               0         \n",
      "                                                                 \n",
      " dense (Dense)               (None, 84)                10164     \n",
      "                                                                 \n",
      " dense_1 (Dense)             (None, 9)                 765       \n",
      "                                                                 \n",
      "=================================================================\n",
      "Total params: 61,621\n",
      "Trainable params: 61,621\n",
      "Non-trainable params: 0\n",
      "_________________________________________________________________\n"
     ]
    }
   ],
   "source": [
    "model = models.Sequential()\n",
    "model.add(layers.Conv2D(6, 5, activation='tanh', input_shape=x_train.shape[1:]))\n",
    "model.add(layers.AveragePooling2D(2))\n",
    "model.add(layers.Activation('sigmoid'))\n",
    "model.add(layers.Conv2D(16, 5, activation='tanh'))\n",
    "model.add(layers.AveragePooling2D(2))\n",
    "model.add(layers.Activation('sigmoid'))\n",
    "model.add(layers.Conv2D(120, 5, activation='tanh'))\n",
    "model.add(layers.Flatten())\n",
    "model.add(layers.Dense(84, activation='tanh'))\n",
    "model.add(layers.Dense(9, activation='softmax'))\n",
    "model.summary()"
   ]
  },
  {
   "cell_type": "code",
   "execution_count": null,
   "metadata": {
    "id": "pOAJW5ByhYCl"
   },
   "outputs": [],
   "source": [
    "model.compile(optimizer='adam', loss=losses.sparse_categorical_crossentropy, metrics=['accuracy'])"
   ]
  },
  {
   "cell_type": "code",
   "execution_count": null,
   "metadata": {
    "colab": {
     "base_uri": "https://localhost:8080/"
    },
    "executionInfo": {
     "elapsed": 563005,
     "status": "ok",
     "timestamp": 1645130876544,
     "user": {
      "displayName": "Lea Cleary",
      "photoUrl": "https://lh3.googleusercontent.com/a-/AOh14GgzyTYobr3WBfcW_CbeVl1vthXNBKocBj7_WOpm=s64",
      "userId": "08012892845319420981"
     },
     "user_tz": 300
    },
    "id": "Xv-ml2R6hw_V",
    "outputId": "56c043e2-51de-43fa-a7ea-099fdbcfaf87"
   },
   "outputs": [
    {
     "name": "stdout",
     "output_type": "stream",
     "text": [
      "Epoch 1/40\n",
      "1892/1892 [==============================] - 23s 8ms/step - loss: 0.6662 - accuracy: 0.8520 - val_loss: 0.6631 - val_accuracy: 0.8524\n",
      "Epoch 2/40\n",
      "1892/1892 [==============================] - 14s 7ms/step - loss: 0.6632 - accuracy: 0.8525 - val_loss: 0.6661 - val_accuracy: 0.8524\n",
      "Epoch 3/40\n",
      "1892/1892 [==============================] - 12s 7ms/step - loss: 0.5523 - accuracy: 0.8651 - val_loss: 0.4787 - val_accuracy: 0.8749\n",
      "Epoch 4/40\n",
      "1892/1892 [==============================] - 14s 7ms/step - loss: 0.4511 - accuracy: 0.8808 - val_loss: 0.4398 - val_accuracy: 0.8849\n",
      "Epoch 5/40\n",
      "1892/1892 [==============================] - 14s 7ms/step - loss: 0.4274 - accuracy: 0.8879 - val_loss: 0.4407 - val_accuracy: 0.8770\n",
      "Epoch 6/40\n",
      "1892/1892 [==============================] - 12s 7ms/step - loss: 0.4097 - accuracy: 0.8924 - val_loss: 0.3956 - val_accuracy: 0.8959\n",
      "Epoch 7/40\n",
      "1892/1892 [==============================] - 12s 7ms/step - loss: 0.3927 - accuracy: 0.8971 - val_loss: 0.4058 - val_accuracy: 0.8923\n",
      "Epoch 8/40\n",
      "1892/1892 [==============================] - 12s 7ms/step - loss: 0.3864 - accuracy: 0.8996 - val_loss: 0.3858 - val_accuracy: 0.8975\n",
      "Epoch 9/40\n",
      "1892/1892 [==============================] - 13s 7ms/step - loss: 0.3758 - accuracy: 0.9025 - val_loss: 0.3952 - val_accuracy: 0.8946\n",
      "Epoch 10/40\n",
      "1892/1892 [==============================] - 12s 7ms/step - loss: 0.3637 - accuracy: 0.9056 - val_loss: 0.3570 - val_accuracy: 0.9084\n",
      "Epoch 11/40\n",
      "1892/1892 [==============================] - 12s 7ms/step - loss: 0.3516 - accuracy: 0.9086 - val_loss: 0.3377 - val_accuracy: 0.9122\n",
      "Epoch 12/40\n",
      "1892/1892 [==============================] - 12s 7ms/step - loss: 0.3392 - accuracy: 0.9113 - val_loss: 0.3359 - val_accuracy: 0.9128\n",
      "Epoch 13/40\n",
      "1892/1892 [==============================] - 14s 7ms/step - loss: 0.3326 - accuracy: 0.9126 - val_loss: 0.3221 - val_accuracy: 0.9151\n",
      "Epoch 14/40\n",
      "1892/1892 [==============================] - 14s 7ms/step - loss: 0.3243 - accuracy: 0.9151 - val_loss: 0.3083 - val_accuracy: 0.9216\n",
      "Epoch 15/40\n",
      "1892/1892 [==============================] - 14s 7ms/step - loss: 0.3184 - accuracy: 0.9177 - val_loss: 0.3083 - val_accuracy: 0.9224\n",
      "Epoch 16/40\n",
      "1892/1892 [==============================] - 12s 7ms/step - loss: 0.3117 - accuracy: 0.9188 - val_loss: 0.2945 - val_accuracy: 0.9235\n",
      "Epoch 17/40\n",
      "1892/1892 [==============================] - 14s 7ms/step - loss: 0.3064 - accuracy: 0.9202 - val_loss: 0.2940 - val_accuracy: 0.9247\n",
      "Epoch 18/40\n",
      "1892/1892 [==============================] - 12s 7ms/step - loss: 0.3013 - accuracy: 0.9217 - val_loss: 0.3045 - val_accuracy: 0.9213\n",
      "Epoch 19/40\n",
      "1892/1892 [==============================] - 14s 7ms/step - loss: 0.2963 - accuracy: 0.9233 - val_loss: 0.3155 - val_accuracy: 0.9177\n",
      "Epoch 20/40\n",
      "1892/1892 [==============================] - 12s 7ms/step - loss: 0.2939 - accuracy: 0.9236 - val_loss: 0.2837 - val_accuracy: 0.9265\n",
      "Epoch 21/40\n",
      "1892/1892 [==============================] - 14s 7ms/step - loss: 0.2908 - accuracy: 0.9245 - val_loss: 0.2827 - val_accuracy: 0.9277\n",
      "Epoch 22/40\n",
      "1892/1892 [==============================] - 12s 7ms/step - loss: 0.2874 - accuracy: 0.9252 - val_loss: 0.2818 - val_accuracy: 0.9276\n",
      "Epoch 23/40\n",
      "1892/1892 [==============================] - 14s 7ms/step - loss: 0.2812 - accuracy: 0.9269 - val_loss: 0.2710 - val_accuracy: 0.9310\n",
      "Epoch 24/40\n",
      "1892/1892 [==============================] - 13s 7ms/step - loss: 0.2810 - accuracy: 0.9270 - val_loss: 0.3402 - val_accuracy: 0.9104\n",
      "Epoch 25/40\n",
      "1892/1892 [==============================] - 13s 7ms/step - loss: 0.2744 - accuracy: 0.9287 - val_loss: 0.3778 - val_accuracy: 0.9101\n",
      "Epoch 26/40\n",
      "1892/1892 [==============================] - 14s 7ms/step - loss: 0.2737 - accuracy: 0.9291 - val_loss: 0.3085 - val_accuracy: 0.9207\n",
      "Epoch 27/40\n",
      "1892/1892 [==============================] - 12s 7ms/step - loss: 0.2744 - accuracy: 0.9291 - val_loss: 0.2748 - val_accuracy: 0.9312\n",
      "Epoch 28/40\n",
      "1892/1892 [==============================] - 14s 7ms/step - loss: 0.2699 - accuracy: 0.9300 - val_loss: 0.2598 - val_accuracy: 0.9327\n",
      "Epoch 29/40\n",
      "1892/1892 [==============================] - 14s 7ms/step - loss: 0.2639 - accuracy: 0.9316 - val_loss: 0.2807 - val_accuracy: 0.9307\n",
      "Epoch 30/40\n",
      "1892/1892 [==============================] - 12s 7ms/step - loss: 0.2639 - accuracy: 0.9314 - val_loss: 0.2556 - val_accuracy: 0.9336\n",
      "Epoch 31/40\n",
      "1892/1892 [==============================] - 13s 7ms/step - loss: 0.2611 - accuracy: 0.9322 - val_loss: 0.2677 - val_accuracy: 0.9332\n",
      "Epoch 32/40\n",
      "1892/1892 [==============================] - 14s 7ms/step - loss: 0.2590 - accuracy: 0.9328 - val_loss: 0.2500 - val_accuracy: 0.9353\n",
      "Epoch 33/40\n",
      "1892/1892 [==============================] - 13s 7ms/step - loss: 0.2581 - accuracy: 0.9330 - val_loss: 0.2789 - val_accuracy: 0.9325\n",
      "Epoch 34/40\n",
      "1892/1892 [==============================] - 14s 7ms/step - loss: 0.2561 - accuracy: 0.9332 - val_loss: 0.2467 - val_accuracy: 0.9354\n",
      "Epoch 35/40\n",
      "1892/1892 [==============================] - 13s 7ms/step - loss: 0.2545 - accuracy: 0.9339 - val_loss: 0.2586 - val_accuracy: 0.9350\n",
      "Epoch 36/40\n",
      "1892/1892 [==============================] - 14s 7ms/step - loss: 0.2519 - accuracy: 0.9343 - val_loss: 0.2464 - val_accuracy: 0.9365\n",
      "Epoch 37/40\n",
      "1892/1892 [==============================] - 13s 7ms/step - loss: 0.2474 - accuracy: 0.9352 - val_loss: 0.2565 - val_accuracy: 0.9355\n",
      "Epoch 38/40\n",
      "1892/1892 [==============================] - 14s 7ms/step - loss: 0.2481 - accuracy: 0.9355 - val_loss: 0.2658 - val_accuracy: 0.9342\n",
      "Epoch 39/40\n",
      "1892/1892 [==============================] - 13s 7ms/step - loss: 0.2482 - accuracy: 0.9351 - val_loss: 0.2662 - val_accuracy: 0.9331\n",
      "Epoch 40/40\n",
      "1892/1892 [==============================] - 13s 7ms/step - loss: 0.2426 - accuracy: 0.9366 - val_loss: 0.2393 - val_accuracy: 0.9382\n"
     ]
    }
   ],
   "source": [
    "history = model.fit(x_train, y_train, batch_size=64, epochs=40, validation_data=(x_val, y_val))"
   ]
  },
  {
   "cell_type": "code",
   "execution_count": null,
   "metadata": {
    "colab": {
     "base_uri": "https://localhost:8080/",
     "height": 896
    },
    "executionInfo": {
     "elapsed": 517,
     "status": "ok",
     "timestamp": 1645130877052,
     "user": {
      "displayName": "Lea Cleary",
      "photoUrl": "https://lh3.googleusercontent.com/a-/AOh14GgzyTYobr3WBfcW_CbeVl1vthXNBKocBj7_WOpm=s64",
      "userId": "08012892845319420981"
     },
     "user_tz": 300
    },
    "id": "AfX0d7zyocFw",
    "outputId": "6af8efe7-c57b-4b8e-d103-4334230e2663"
   },
   "outputs": [
    {
     "data": {
      "text/plain": [
       "<matplotlib.legend.Legend at 0x7f0edd8e7610>"
      ]
     },
     "execution_count": 13,
     "metadata": {},
     "output_type": "execute_result"
    },
    {
     "data": {
      "image/png": "[encoded data removed]",
      "text/plain": [
       "<Figure size 1080x1080 with 2 Axes>"
      ]
     },
     "metadata": {
      "needs_background": "light"
     },
     "output_type": "display_data"
    }
   ],
   "source": [
    "fig, axs = plt.subplots(2, 1, figsize=(15,15))\n",
    "\n",
    "axs[0].plot(history.history['loss'])\n",
    "axs[0].plot(history.history['val_loss'])\n",
    "axs[0].title.set_text('Training Loss vs Validation Loss')\n",
    "axs[0].legend(['Train', 'Val'])\n",
    "\n",
    "axs[1].plot(history.history['accuracy'])\n",
    "axs[1].plot(history.history['val_accuracy'])\n",
    "axs[1].title.set_text('Training Accuracy vs Validation Accuracy')\n",
    "axs[1].legend(['Train', 'Val'])\n"
   ]
  },
  {
   "cell_type": "code",
   "execution_count": null,
   "metadata": {
    "colab": {
     "base_uri": "https://localhost:8080/"
    },
    "executionInfo": {
     "elapsed": 5266,
     "status": "ok",
     "timestamp": 1645130882314,
     "user": {
      "displayName": "Lea Cleary",
      "photoUrl": "https://lh3.googleusercontent.com/a-/AOh14GgzyTYobr3WBfcW_CbeVl1vthXNBKocBj7_WOpm=s64",
      "userId": "08012892845319420981"
     },
     "user_tz": 300
    },
    "id": "iLQqDljamZTV",
    "outputId": "93e90021-8340-4f3d-a9f8-ca7fd6fdb56d"
   },
   "outputs": [
    {
     "name": "stdout",
     "output_type": "stream",
     "text": [
      "811/811 [==============================] - 3s 4ms/step - loss: 0.2415 - accuracy: 0.9363\n"
     ]
    },
    {
     "data": {
      "text/plain": [
       "[0.24148237705230713, 0.9362834095954895]"
      ]
     },
     "execution_count": 14,
     "metadata": {},
     "output_type": "execute_result"
    }
   ],
   "source": [
    "model.evaluate(x_test, y_test)"
   ]
  },
  {
   "cell_type": "code",
   "execution_count": null,
   "metadata": {
    "id": "x0_djoisO5ru"
   },
   "outputs": [],
   "source": [
    "y_pred = model.predict(x_test)\n",
    "y_pred = np.argmax(y_pred, axis=1)"
   ]
  },
  {
   "cell_type": "code",
   "execution_count": null,
   "metadata": {
    "colab": {
     "base_uri": "https://localhost:8080/",
     "height": 265
    },
    "executionInfo": {
     "elapsed": 979,
     "status": "ok",
     "timestamp": 1645130885036,
     "user": {
      "displayName": "Lea Cleary",
      "photoUrl": "https://lh3.googleusercontent.com/a-/AOh14GgzyTYobr3WBfcW_CbeVl1vthXNBKocBj7_WOpm=s64",
      "userId": "08012892845319420981"
     },
     "user_tz": 300
    },
    "id": "QLiPT3kwO8bW",
    "outputId": "f55ab491-8826-449f-f939-99a76a7a9927"
   },
   "outputs": [
    {
     "data": {
      "image/png": "[encoded data removed]",
      "text/plain": [
       "<Figure size 432x288 with 2 Axes>"
      ]
     },
     "metadata": {
      "needs_background": "light"
     },
     "output_type": "display_data"
    }
   ],
   "source": [
    "defects = ['N', 'L', 'EL', 'C', 'ER', 'S', 'R', 'NF', 'D']\n",
    "\n",
    "import seaborn as sns\n",
    "from sklearn.metrics import confusion_matrix\n",
    "\n",
    "cm = confusion_matrix(y_test, y_pred)\n",
    "f = sns.heatmap(cm, annot=True, fmt='d', xticklabels=defects, yticklabels=defects)"
   ]
  },
  {
   "cell_type": "code",
   "execution_count": null,
   "metadata": {
    "colab": {
     "base_uri": "https://localhost:8080/",
     "height": 265
    },
    "executionInfo": {
     "elapsed": 1641,
     "status": "ok",
     "timestamp": 1645130919262,
     "user": {
      "displayName": "Lea Cleary",
      "photoUrl": "https://lh3.googleusercontent.com/a-/AOh14GgzyTYobr3WBfcW_CbeVl1vthXNBKocBj7_WOpm=s64",
      "userId": "08012892845319420981"
     },
     "user_tz": 300
    },
    "id": "8EOjl_5wUo4m",
    "outputId": "18724693-6a00-457e-c980-a624511cda29"
   },
   "outputs": [
    {
     "data": {
      "image/png": "[encoded data removed]",
      "text/plain": [
       "<Figure size 432x288 with 2 Axes>"
      ]
     },
     "metadata": {
      "needs_background": "light"
     },
     "output_type": "display_data"
    }
   ],
   "source": [
    "cm2 = confusion_matrix(y_test, y_pred, normalize='true')\n",
    "f2 = sns.heatmap(cm2, annot=True, xticklabels=defects, yticklabels=defects)"
   ]
  },
  {
   "cell_type": "code",
   "execution_count": null,
   "metadata": {
    "colab": {
     "base_uri": "https://localhost:8080/"
    },
    "executionInfo": {
     "elapsed": 101,
     "status": "ok",
     "timestamp": 1645130924952,
     "user": {
      "displayName": "Lea Cleary",
      "photoUrl": "https://lh3.googleusercontent.com/a-/AOh14GgzyTYobr3WBfcW_CbeVl1vthXNBKocBj7_WOpm=s64",
      "userId": "08012892845319420981"
     },
     "user_tz": 300
    },
    "id": "WDQak4kDQzAW",
    "outputId": "b5d76dfa-bf70-441a-8073-7f9f1f9f221a"
   },
   "outputs": [
    {
     "name": "stdout",
     "output_type": "stream",
     "text": [
      "Baseline accuracy: 85.25%\n"
     ]
    }
   ],
   "source": [
    "# baseline accuracy\n",
    "nones = len(train[train.failureType == 'none'])\n",
    "total = len(train)\n",
    "print(f\"Baseline accuracy: {nones/total*100:.2f}%\")"
   ]
  }
 ],
 "metadata": {
  "accelerator": "GPU",
  "colab": {
   "collapsed_sections": [],
   "name": "colab_lenet_classify_all2.ipynb",
   "provenance": [
    {
     "file_id": "https://gist.github.com/mrgrhn/c6d2a157ebfc883e462f2d6e2ce2e3ce#file-lenet_tensorflow-ipynb",
     "timestamp": 1645028600895
    }
   ]
  },
  "kernelspec": {
   "display_name": "Python 3",
   "language": "python",
   "name": "python3"
  },
  "language_info": {
   "codemirror_mode": {
    "name": "ipython",
    "version": 3
   },
   "file_extension": ".py",
   "mimetype": "text/x-python",
   "name": "python",
   "nbconvert_exporter": "python",
   "pygments_lexer": "ipython3",
   "version": "3.8.3"
  }
 },
 "nbformat": 4,
 "nbformat_minor": 1
}
