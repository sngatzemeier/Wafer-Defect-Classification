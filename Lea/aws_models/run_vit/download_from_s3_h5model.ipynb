{
 "cells": [
  {
   "cell_type": "code",
   "execution_count": null,
   "id": "eb57a7f6",
   "metadata": {},
   "outputs": [],
   "source": [
    "fn = 'vit-l32-224thin-undersampled.h5'\n",
    "subfolder = 'models'\n",
    "\n",
    "orig_file = f'{subfolder}/{fn}'\n",
    "dest_file = f'{fn}'\n",
    "\n",
    "print(f'Copy - {orig_file}\\nDest - {dest_file}')"
   ]
  },
  {
   "cell_type": "code",
   "execution_count": null,
   "id": "dff0751a",
   "metadata": {},
   "outputs": [],
   "source": [
    "# Connect to S3 bucket and download file\n",
    "import boto3, os\n",
    "from sagemaker import get_execution_role\n",
    "\n",
    "role = get_execution_role()\n",
    "bucket = 'wafer-capstone'\n",
    "\n",
    "s3 = boto3.resource('s3')\n",
    "s3.Bucket(bucket).download_file(orig_file, dest_file)"
   ]
  },
  {
   "cell_type": "code",
   "execution_count": null,
   "id": "b40c69a9",
   "metadata": {},
   "outputs": [],
   "source": []
  },
  {
   "cell_type": "code",
   "execution_count": null,
   "id": "391ec282",
   "metadata": {},
   "outputs": [],
   "source": [
    "os.listdir()"
   ]
  }
 ],
 "metadata": {
  "kernelspec": {
   "display_name": "conda_amazonei_tensorflow2_p36",
   "language": "python",
   "name": "conda_amazonei_tensorflow2_p36"
  },
  "language_info": {
   "codemirror_mode": {
    "name": "ipython",
    "version": 3
   },
   "file_extension": ".py",
   "mimetype": "text/x-python",
   "name": "python",
   "nbconvert_exporter": "python",
   "pygments_lexer": "ipython3",
   "version": "3.6.13"
  }
 },
 "nbformat": 4,
 "nbformat_minor": 5
}
