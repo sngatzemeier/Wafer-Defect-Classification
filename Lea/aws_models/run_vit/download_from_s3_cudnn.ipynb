{
 "cells": [
  {
   "cell_type": "code",
   "execution_count": null,
   "id": "12812753",
   "metadata": {},
   "outputs": [],
   "source": [
    "import boto3, os\n",
    "from sagemaker import get_execution_role\n",
    "\n",
    "role = get_execution_role()\n",
    "bucket = 'wafer-capstone'\n",
    "#subfolder = 'data'\n",
    "\n",
    "conn = boto3.client('s3')\n",
    "#contents = conn.list_objects(Bucket=bucket, Prefix=subfolder)['Contents']\n",
    "contents = conn.list_objects(Bucket=bucket)['Contents']\n",
    "for i, f in enumerate(contents):\n",
    "    print(i, ' - ',f['Key'])"
   ]
  },
  {
   "cell_type": "code",
   "execution_count": null,
   "id": "8d0c4001",
   "metadata": {},
   "outputs": [],
   "source": [
    "fn = 'libcudnn8-8.0.5.39-1.cuda11.1.x86_64.rpm'\n",
    "orig_file = f'{fn}'\n",
    "dest_file = f'../home/ec2-user/{fn}'\n",
    "\n",
    "print(f'Copy - {orig_file}\\nDest - {dest_file}')"
   ]
  },
  {
   "cell_type": "code",
   "execution_count": null,
   "id": "dc2584fb",
   "metadata": {},
   "outputs": [],
   "source": [
    "# Connect to S3 bucket and download file\n",
    "s3 = boto3.resource('s3')\n",
    "s3.Bucket(bucket).download_file(orig_file, dest_file)"
   ]
  },
  {
   "cell_type": "code",
   "execution_count": null,
   "id": "f6a8d9e3",
   "metadata": {},
   "outputs": [],
   "source": []
  },
  {
   "cell_type": "code",
   "execution_count": null,
   "id": "be476f4b",
   "metadata": {},
   "outputs": [],
   "source": [
    "os.listdir()"
   ]
  }
 ],
 "metadata": {
  "kernelspec": {
   "display_name": "conda_amazonei_tensorflow2_p36",
   "language": "python",
   "name": "conda_amazonei_tensorflow2_p36"
  },
  "language_info": {
   "codemirror_mode": {
    "name": "ipython",
    "version": 3
   },
   "file_extension": ".py",
   "mimetype": "text/x-python",
   "name": "python",
   "nbconvert_exporter": "python",
   "pygments_lexer": "ipython3",
   "version": "3.6.13"
  }
 },
 "nbformat": 4,
 "nbformat_minor": 5
}
