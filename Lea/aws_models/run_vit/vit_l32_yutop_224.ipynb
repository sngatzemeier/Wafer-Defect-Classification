{
 "cells": [
  {
   "cell_type": "markdown",
   "metadata": {},
   "source": [
    "#### ViT Model for Classification of All Defects (including nones)\n",
    "ViT Model from Google [paper](https://arxiv.org/abs/2010.11929)\n",
    "using Keras implementation from faustomorales [GitHub](https://github.com/faustomorales/vit-keras)\n",
    "\n",
    "Data preprocessing:\n",
    "- Resized to 224x224 with no filters\n",
    "- None is randomly undersampled to 30,000.\n",
    "\n",
    "ViT model:\n",
    "- Size = Large (24 layers, D = 1024)\n",
    "- Patch size = 32\n",
    "- Using top similar to FC layers for yu classify model"
   ]
  },
  {
   "cell_type": "code",
   "execution_count": 1,
   "metadata": {},
   "outputs": [],
   "source": [
    "#### RUN VIT REQUIREMENTS NOTEBOOK FIRST ####\n",
    "# need to install required packages to environment before running the model"
   ]
  },
  {
   "cell_type": "code",
   "execution_count": 2,
   "metadata": {
    "colab": {
     "base_uri": "https://localhost:8080/"
    },
    "executionInfo": {
     "elapsed": 17003,
     "status": "ok",
     "timestamp": 1645130034371,
     "user": {
      "displayName": "Lea Cleary",
      "photoUrl": "https://lh3.googleusercontent.com/a-/AOh14GgzyTYobr3WBfcW_CbeVl1vthXNBKocBj7_WOpm=s64",
      "userId": "08012892845319420981"
     },
     "user_tz": 300
    },
    "id": "MMcWUHT5-eVD",
    "outputId": "00111a49-0a3c-4392-f905-805f1030b923"
   },
   "outputs": [],
   "source": [
    "# import libraries\n",
    "import tensorflow as tf\n",
    "import matplotlib.pyplot as plt\n",
    "from tensorflow import keras\n",
    "from tensorflow.keras import datasets, layers, models, losses, optimizers, regularizers, callbacks\n",
    "from vit_keras import vit, utils\n",
    "\n",
    "import os\n",
    "import time\n",
    "import numpy as np\n",
    "import pandas as pd\n",
    "import cv2\n",
    "from skimage.morphology import skeletonize, thin\n",
    "\n",
    "import helpers as helper\n",
    "from keras_model_s3_wrapper import *\n",
    "\n",
    "import boto3\n",
    "import pickle5 as pickle\n",
    "s3 = boto3.resource('s3')\n",
    "bucket_name = 'wafer-capstone'\n",
    "my_bucket = s3.Bucket(bucket_name)"
   ]
  },
  {
   "cell_type": "code",
   "execution_count": 3,
   "metadata": {},
   "outputs": [
    {
     "data": {
      "text/plain": [
       "'2.4.0'"
      ]
     },
     "execution_count": 3,
     "metadata": {},
     "output_type": "execute_result"
    }
   ],
   "source": [
    "tf.__version__"
   ]
  },
  {
   "cell_type": "code",
   "execution_count": 4,
   "metadata": {},
   "outputs": [],
   "source": [
    "config = tf.compat.v1.ConfigProto()\n",
    "config.gpu_options.allow_growth = True\n",
    "sess = tf.compat.v1.Session(config=config)"
   ]
  },
  {
   "cell_type": "code",
   "execution_count": 5,
   "metadata": {},
   "outputs": [
    {
     "data": {
      "text/plain": [
       "[PhysicalDevice(name='/physical_device:CPU:0', device_type='CPU'),\n",
       " PhysicalDevice(name='/physical_device:GPU:0', device_type='GPU'),\n",
       " PhysicalDevice(name='/physical_device:GPU:1', device_type='GPU'),\n",
       " PhysicalDevice(name='/physical_device:GPU:2', device_type='GPU'),\n",
       " PhysicalDevice(name='/physical_device:GPU:3', device_type='GPU')]"
      ]
     },
     "execution_count": 5,
     "metadata": {},
     "output_type": "execute_result"
    }
   ],
   "source": [
    "tf.config.list_physical_devices(device_type=None)"
   ]
  },
  {
   "cell_type": "code",
   "execution_count": 6,
   "metadata": {},
   "outputs": [],
   "source": [
    "# specify variables\n",
    "path = 'processed_data/vit'\n",
    "filename = 'WM-clean-vit224-undersampled'\n",
    "\n",
    "result_path = 'results_vit'\n",
    "model_id = 'vit-l32-yutop'\n",
    "data_id = '224-undersampled'\n",
    "note = '' # -optional"
   ]
  },
  {
   "cell_type": "code",
   "execution_count": 7,
   "metadata": {},
   "outputs": [
    {
     "name": "stdout",
     "output_type": "stream",
     "text": [
      "             total       used       free     shared    buffers     cached\n",
      "Mem:          240G        22G       217G        32M       1.8G        16G\n",
      "-/+ buffers/cache:       3.8G       236G\n",
      "Swap:           0B         0B         0B\n"
     ]
    }
   ],
   "source": [
    "!free -h"
   ]
  },
  {
   "cell_type": "code",
   "execution_count": 8,
   "metadata": {},
   "outputs": [
    {
     "name": "stdout",
     "output_type": "stream",
     "text": [
      "Wall time: 3.536 seconds\n"
     ]
    },
    {
     "data": {
      "text/plain": [
       "['ids', 'labels', 'dataset', 'wafermap']"
      ]
     },
     "execution_count": 8,
     "metadata": {},
     "output_type": "execute_result"
    }
   ],
   "source": [
    "# load dataset\n",
    "from io import BytesIO\n",
    "start = time.time()\n",
    "\n",
    "data_key = f'{path}/{filename}.npz'\n",
    "data_obj = my_bucket.Object(data_key).get()['Body'].read()\n",
    "data = np.load(BytesIO(data_obj), allow_pickle=True)\n",
    "\n",
    "print('Wall time: {:.3f} seconds'.format(time.time() - start))\n",
    "data.files"
   ]
  },
  {
   "cell_type": "code",
   "execution_count": 9,
   "metadata": {},
   "outputs": [
    {
     "name": "stdout",
     "output_type": "stream",
     "text": [
      "             total       used       free     shared    buffers     cached\n",
      "Mem:          240G        22G       217G        32M       1.8G        16G\n",
      "-/+ buffers/cache:       4.1G       236G\n",
      "Swap:           0B         0B         0B\n"
     ]
    }
   ],
   "source": [
    "!free -h"
   ]
  },
  {
   "cell_type": "markdown",
   "metadata": {},
   "source": [
    "#### Data set-up"
   ]
  },
  {
   "cell_type": "code",
   "execution_count": 10,
   "metadata": {},
   "outputs": [
    {
     "name": "stdout",
     "output_type": "stream",
     "text": [
      "Wall time: 128.042 seconds\n",
      "Train: (47863, 224, 224, 3)\n",
      "Dev: (25942, 224, 224, 3)\n",
      "Test: (25943, 224, 224, 3)\n"
     ]
    }
   ],
   "source": [
    "# prepare inputs\n",
    "start = time.time()\n",
    "\n",
    "x_train = data['wafermap'][data['dataset']=='train']\n",
    "x_val = data['wafermap'][data['dataset']=='dev']\n",
    "x_test = data['wafermap'][data['dataset']=='test']\n",
    "\n",
    "print('Wall time: {:.3f} seconds'.format(time.time() - start))\n",
    "print(f'Train: {x_train.shape}')\n",
    "print(f'Dev: {x_val.shape}')\n",
    "print(f'Test: {x_test.shape}')"
   ]
  },
  {
   "cell_type": "code",
   "execution_count": 11,
   "metadata": {
    "id": "rIS8zJfn_aDO"
   },
   "outputs": [
    {
     "name": "stdout",
     "output_type": "stream",
     "text": [
      "Wall time: 0.03 seconds\n",
      "<class 'numpy.uint8'>\n",
      "0 0 0\n",
      "8 8 8\n"
     ]
    }
   ],
   "source": [
    "# prepare labels for supervised learning\n",
    "# note: make sure labels are integers if using sparse categorical cross entropy\n",
    "start = time.time()\n",
    "\n",
    "y_train = data['labels'][data['dataset']=='train']\n",
    "y_val = data['labels'][data['dataset']=='dev']\n",
    "y_test = data['labels'][data['dataset']=='test']\n",
    "\n",
    "print(\"Wall time: {:.2f} seconds\".format(time.time() - start))\n",
    "# sanity check\n",
    "# expected: type = int, min = 0, max = 8\n",
    "print(type(y_train[0]))\n",
    "print(min(y_train), min(y_val), min(y_test))\n",
    "print(max(y_train), max(y_val), max(y_test))"
   ]
  },
  {
   "cell_type": "code",
   "execution_count": 12,
   "metadata": {},
   "outputs": [
    {
     "name": "stdout",
     "output_type": "stream",
     "text": [
      "             total       used       free     shared    buffers     cached\n",
      "Mem:          240G        36G       203G        32M       1.8G        16G\n",
      "-/+ buffers/cache:        18G       222G\n",
      "Swap:           0B         0B         0B\n"
     ]
    }
   ],
   "source": [
    "!free -h"
   ]
  },
  {
   "cell_type": "markdown",
   "metadata": {},
   "source": [
    "#### Model"
   ]
  },
  {
   "cell_type": "code",
   "execution_count": 13,
   "metadata": {
    "colab": {
     "base_uri": "https://localhost:8080/"
    },
    "executionInfo": {
     "elapsed": 562,
     "status": "ok",
     "timestamp": 1645130313542,
     "user": {
      "displayName": "Lea Cleary",
      "photoUrl": "https://lh3.googleusercontent.com/a-/AOh14GgzyTYobr3WBfcW_CbeVl1vthXNBKocBj7_WOpm=s64",
      "userId": "08012892845319420981"
     },
     "user_tz": 300
    },
    "id": "UeaLkOM-XRZA",
    "outputId": "31d7455b-87b6-42d6-e2ac-00c598e47744"
   },
   "outputs": [
    {
     "name": "stderr",
     "output_type": "stream",
     "text": [
      "/home/ec2-user/anaconda3/envs/amazonei_tensorflow2_p36/lib/python3.6/site-packages/vit_keras/utils.py:83: UserWarning: Resizing position embeddings from 12, 12 to 7, 7\n",
      "  UserWarning,\n"
     ]
    },
    {
     "name": "stdout",
     "output_type": "stream",
     "text": [
      "Model: \"sequential\"\n",
      "_________________________________________________________________\n",
      "Layer (type)                 Output Shape              Param #   \n",
      "=================================================================\n",
      "vit-l32 (Functional)         (None, 9)                 305519625 \n",
      "_________________________________________________________________\n",
      "dense (Dense)                (None, 512)               5120      \n",
      "_________________________________________________________________\n",
      "dense_1 (Dense)              (None, 128)               65664     \n",
      "_________________________________________________________________\n",
      "dropout (Dropout)            (None, 128)               0         \n",
      "_________________________________________________________________\n",
      "dense_2 (Dense)              (None, 9)                 1161      \n",
      "=================================================================\n",
      "Total params: 305,591,570\n",
      "Trainable params: 305,591,570\n",
      "Non-trainable params: 0\n",
      "_________________________________________________________________\n"
     ]
    }
   ],
   "source": [
    "# fine-tune using pre-trained vit model\n",
    "image_size = 224\n",
    "vit_model = vit.vit_l32(\n",
    "    image_size=image_size,\n",
    "    activation='softmax',\n",
    "    pretrained=True,\n",
    "    include_top=True,\n",
    "    pretrained_top=False,\n",
    "    classes=9\n",
    ")\n",
    "\n",
    "# classification head similar to yu classify model\n",
    "model = models.Sequential()\n",
    "model.add(vit_model)\n",
    "model.add(layers.Dense(512, activation='sigmoid', kernel_regularizer=regularizers.l2(0.000001)))\n",
    "model.add(layers.Dense(128, activation='sigmoid', kernel_regularizer=regularizers.l2(0.000001)))\n",
    "model.add(layers.Dropout(0.5))\n",
    "model.add(layers.Dense(9, activation='softmax'))\n",
    "\n",
    "model.summary()"
   ]
  },
  {
   "cell_type": "code",
   "execution_count": 14,
   "metadata": {
    "id": "pOAJW5ByhYCl"
   },
   "outputs": [],
   "source": [
    "# set model optimizer and metrics\n",
    "opt = optimizers.Adam(learning_rate=0.0001)\n",
    "model.compile(optimizer='adam', loss=losses.sparse_categorical_crossentropy, metrics=['accuracy'])"
   ]
  },
  {
   "cell_type": "code",
   "execution_count": 15,
   "metadata": {},
   "outputs": [
    {
     "name": "stdout",
     "output_type": "stream",
     "text": [
      "             total       used       free     shared    buffers     cached\n",
      "Mem:          240G        36G       203G        32M       1.8G        16G\n",
      "-/+ buffers/cache:        18G       221G\n",
      "Swap:           0B         0B         0B\n"
     ]
    }
   ],
   "source": [
    "!free -h"
   ]
  },
  {
   "cell_type": "code",
   "execution_count": 16,
   "metadata": {},
   "outputs": [
    {
     "name": "stdout",
     "output_type": "stream",
     "text": [
      "Epoch 1/15\n",
      "1496/1496 [==============================] - 692s 439ms/step - loss: 1.3498 - accuracy: 0.6138 - val_loss: 0.8538 - val_accuracy: 0.8524\n",
      "Epoch 2/15\n",
      "1496/1496 [==============================] - 648s 433ms/step - loss: 1.2860 - accuracy: 0.6298 - val_loss: 0.7836 - val_accuracy: 0.8524\n",
      "Epoch 3/15\n",
      "1496/1496 [==============================] - 648s 433ms/step - loss: 1.2958 - accuracy: 0.6227 - val_loss: 0.7638 - val_accuracy: 0.8524\n",
      "Epoch 4/15\n",
      "1496/1496 [==============================] - 648s 433ms/step - loss: 1.2864 - accuracy: 0.6280 - val_loss: 0.7991 - val_accuracy: 0.8524\n",
      "Epoch 5/15\n",
      "1496/1496 [==============================] - 648s 433ms/step - loss: 1.2862 - accuracy: 0.6282 - val_loss: 0.8040 - val_accuracy: 0.8524\n",
      "Epoch 6/15\n",
      "1496/1496 [==============================] - 648s 433ms/step - loss: 1.2799 - accuracy: 0.6258 - val_loss: 0.7736 - val_accuracy: 0.8524\n",
      "Epoch 7/15\n",
      "1496/1496 [==============================] - 648s 433ms/step - loss: 1.2834 - accuracy: 0.6271 - val_loss: 0.8025 - val_accuracy: 0.8524\n",
      "Epoch 8/15\n",
      "1496/1496 [==============================] - 648s 433ms/step - loss: 1.2788 - accuracy: 0.6275 - val_loss: 0.7817 - val_accuracy: 0.8524\n",
      "Epoch 9/15\n",
      "1496/1496 [==============================] - 649s 434ms/step - loss: 1.2825 - accuracy: 0.6263 - val_loss: 0.7825 - val_accuracy: 0.8524\n",
      "Epoch 10/15\n",
      "1496/1496 [==============================] - 649s 434ms/step - loss: 1.2852 - accuracy: 0.6241 - val_loss: 0.7775 - val_accuracy: 0.8524\n",
      "Epoch 11/15\n",
      "1496/1496 [==============================] - 648s 434ms/step - loss: 1.2781 - accuracy: 0.6259 - val_loss: 0.7780 - val_accuracy: 0.8524\n",
      "Epoch 12/15\n",
      "1496/1496 [==============================] - 648s 433ms/step - loss: 1.2757 - accuracy: 0.6273 - val_loss: 0.7829 - val_accuracy: 0.8524\n",
      "Epoch 13/15\n",
      "1496/1496 [==============================] - 649s 434ms/step - loss: 1.2724 - accuracy: 0.6287 - val_loss: 0.7931 - val_accuracy: 0.8524\n",
      "Epoch 14/15\n",
      "1496/1496 [==============================] - 648s 434ms/step - loss: 1.2869 - accuracy: 0.6217 - val_loss: 0.7717 - val_accuracy: 0.8524\n",
      "Epoch 15/15\n",
      "1496/1496 [==============================] - 649s 434ms/step - loss: 1.2703 - accuracy: 0.6296 - val_loss: 0.7890 - val_accuracy: 0.8524\n",
      "Wall time: 9775.14 seconds\n"
     ]
    }
   ],
   "source": [
    "# run model\n",
    "start = time.time()\n",
    "\n",
    "history = model.fit(x_train, y_train, validation_data=(x_val, y_val), batch_size=32, epochs=15)\n",
    "\n",
    "print(\"Wall time: {:.2f} seconds\".format(time.time() - start))"
   ]
  },
  {
   "cell_type": "code",
   "execution_count": 17,
   "metadata": {
    "colab": {
     "base_uri": "https://localhost:8080/",
     "height": 896
    },
    "executionInfo": {
     "elapsed": 517,
     "status": "ok",
     "timestamp": 1645130877052,
     "user": {
      "displayName": "Lea Cleary",
      "photoUrl": "https://lh3.googleusercontent.com/a-/AOh14GgzyTYobr3WBfcW_CbeVl1vthXNBKocBj7_WOpm=s64",
      "userId": "08012892845319420981"
     },
     "user_tz": 300
    },
    "id": "AfX0d7zyocFw",
    "outputId": "6af8efe7-c57b-4b8e-d103-4334230e2663"
   },
   "outputs": [
    {
     "data": {
      "text/plain": [
       "<matplotlib.legend.Legend at 0x7f4c60e98518>"
      ]
     },
     "execution_count": 17,
     "metadata": {},
     "output_type": "execute_result"
    },
    {
     "data": {
      "image/png": "[encoded data removed]",
      "text/plain": [
       "<Figure size 1080x1080 with 2 Axes>"
      ]
     },
     "metadata": {
      "needs_background": "light"
     },
     "output_type": "display_data"
    }
   ],
   "source": [
    "# visualize accuracy and loss history\n",
    "fig, axs = plt.subplots(2, 1, figsize=(15,15))\n",
    "\n",
    "axs[0].plot(history.history['loss'])\n",
    "axs[0].plot(history.history['val_loss'])\n",
    "axs[0].title.set_text('Training Loss vs Validation Loss')\n",
    "axs[0].legend(['Train', 'Val'])\n",
    "\n",
    "axs[1].plot(history.history['accuracy'])\n",
    "axs[1].plot(history.history['val_accuracy'])\n",
    "axs[1].title.set_text('Training Accuracy vs Validation Accuracy')\n",
    "axs[1].legend(['Train', 'Val'])"
   ]
  },
  {
   "cell_type": "markdown",
   "metadata": {},
   "source": [
    "#### Model results"
   ]
  },
  {
   "cell_type": "code",
   "execution_count": 18,
   "metadata": {},
   "outputs": [],
   "source": [
    "# save model to S3\n",
    "# s3_save_keras_model(model, f'{model_id}-{data_id}{note}')\n",
    "model.save(f'{model_id}-{data_id}{note}.h5')"
   ]
  },
  {
   "cell_type": "code",
   "execution_count": 19,
   "metadata": {
    "colab": {
     "base_uri": "https://localhost:8080/"
    },
    "executionInfo": {
     "elapsed": 5266,
     "status": "ok",
     "timestamp": 1645130882314,
     "user": {
      "displayName": "Lea Cleary",
      "photoUrl": "https://lh3.googleusercontent.com/a-/AOh14GgzyTYobr3WBfcW_CbeVl1vthXNBKocBj7_WOpm=s64",
      "userId": "08012892845319420981"
     },
     "user_tz": 300
    },
    "id": "iLQqDljamZTV",
    "outputId": "93e90021-8340-4f3d-a9f8-ca7fd6fdb56d"
   },
   "outputs": [
    {
     "name": "stdout",
     "output_type": "stream",
     "text": [
      "811/811 [==============================] - 109s 134ms/step - loss: 0.7889 - accuracy: 0.8524\n",
      "Wall time: 111.72 seconds\n",
      "[0.7888749837875366, 0.8524457216262817]\n"
     ]
    }
   ],
   "source": [
    "# compute model results on test set\n",
    "start = time.time()\n",
    "results = model.evaluate(x_test, y_test)\n",
    "print(\"Wall time: {:.2f} seconds\".format(time.time() - start))\n",
    "print(results)"
   ]
  },
  {
   "cell_type": "code",
   "execution_count": 20,
   "metadata": {
    "id": "x0_djoisO5ru"
   },
   "outputs": [
    {
     "name": "stdout",
     "output_type": "stream",
     "text": [
      "Wall time: 115.78 seconds\n"
     ]
    }
   ],
   "source": [
    "# generate predictions for model analysis\n",
    "start = time.time()\n",
    "y_pred = model.predict(x_test)\n",
    "y_max = np.argmax(y_pred, axis=1).astype(np.uint8)\n",
    "predictions = [y_max, y_pred]\n",
    "print(\"Wall time: {:.2f} seconds\".format(time.time() - start))"
   ]
  },
  {
   "cell_type": "code",
   "execution_count": 21,
   "metadata": {},
   "outputs": [],
   "source": [
    "# save predictions to local instance\n",
    "with open(f'{result_path}/{model_id}-{data_id}{note}.pkl', \"wb\") as f:\n",
    "    pickle.dump(predictions, f)"
   ]
  },
  {
   "cell_type": "code",
   "execution_count": 22,
   "metadata": {},
   "outputs": [
    {
     "data": {
      "image/png": "[encoded data removed]",
      "text/plain": [
       "<Figure size 504x360 with 2 Axes>"
      ]
     },
     "metadata": {
      "needs_background": "light"
     },
     "output_type": "display_data"
    }
   ],
   "source": [
    "# plot confusion matrix\n",
    "helper.plot_confusion_matrix(y_test, y_max, mode='all', normalize=True)"
   ]
  },
  {
   "cell_type": "code",
   "execution_count": 23,
   "metadata": {},
   "outputs": [
    {
     "data": {
      "image/png": "[encoded data removed]",
      "text/plain": [
       "<Figure size 504x360 with 2 Axes>"
      ]
     },
     "metadata": {
      "needs_background": "light"
     },
     "output_type": "display_data"
    }
   ],
   "source": [
    "# plot confusion matrix counts\n",
    "helper.plot_confusion_matrix(y_test, y_max, mode='all', normalize=False)"
   ]
  },
  {
   "cell_type": "code",
   "execution_count": null,
   "metadata": {},
   "outputs": [],
   "source": []
  }
 ],
 "metadata": {
  "accelerator": "GPU",
  "colab": {
   "collapsed_sections": [],
   "name": "colab_lenet_classify_all2.ipynb",
   "provenance": [
    {
     "file_id": "https://gist.github.com/mrgrhn/c6d2a157ebfc883e462f2d6e2ce2e3ce#file-lenet_tensorflow-ipynb",
     "timestamp": 1645028600895
    }
   ]
  },
  "kernelspec": {
   "display_name": "conda_amazonei_tensorflow2_p36",
   "language": "python",
   "name": "conda_amazonei_tensorflow2_p36"
  },
  "language_info": {
   "codemirror_mode": {
    "name": "ipython",
    "version": 3
   },
   "file_extension": ".py",
   "mimetype": "text/x-python",
   "name": "python",
   "nbconvert_exporter": "python",
   "pygments_lexer": "ipython3",
   "version": "3.6.13"
  }
 },
 "nbformat": 4,
 "nbformat_minor": 4
}
