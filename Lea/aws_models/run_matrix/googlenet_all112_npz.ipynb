{
 "cells": [
  {
   "cell_type": "markdown",
   "metadata": {},
   "source": [
    "#### Using GoogLeNet as a Classify All Model\n",
    "Following GoogLeNet implementation from this [blog](https://ai.plainenglish.io/googlenet-inceptionv1-with-tensorflow-9e7f3a161e87)\n",
    "\n",
    "Use GoogLeNet as a one-step classifier (all labels) for comparing with Yu paper models.  Data resized to 112x112 with no filters applied.  None type was undersampled randomly to 30,000 samples (same random seed as implemented Yu paper detect model)."
   ]
  },
  {
   "cell_type": "code",
   "execution_count": 1,
   "metadata": {},
   "outputs": [],
   "source": [
    "# !pip install pickle5"
   ]
  },
  {
   "cell_type": "code",
   "execution_count": 2,
   "metadata": {
    "colab": {
     "base_uri": "https://localhost:8080/"
    },
    "executionInfo": {
     "elapsed": 17709,
     "status": "ok",
     "timestamp": 1645132611467,
     "user": {
      "displayName": "Lea Cleary",
      "photoUrl": "https://lh3.googleusercontent.com/a-/AOh14GgzyTYobr3WBfcW_CbeVl1vthXNBKocBj7_WOpm=s64",
      "userId": "08012892845319420981"
     },
     "user_tz": 300
    },
    "id": "CXt05UtlLUcz",
    "outputId": "b11f0ff9-5b3e-4c8e-96f5-d1554a2330c0"
   },
   "outputs": [],
   "source": [
    "# import libraries\n",
    "import tensorflow as tf\n",
    "import matplotlib.pyplot as plt\n",
    "from tensorflow import keras\n",
    "from tensorflow.keras import datasets, layers, models, losses, optimizers, callbacks, Model\n",
    "\n",
    "import os\n",
    "import time\n",
    "import numpy as np\n",
    "import pandas as pd\n",
    "\n",
    "import helpers as helper\n",
    "from keras_model_s3_wrapper import *\n",
    "\n",
    "import boto3\n",
    "import pickle5 as pickle\n",
    "s3 = boto3.resource('s3')\n",
    "bucket_name = 'wafer-capstone'\n",
    "my_bucket = s3.Bucket(bucket_name)"
   ]
  },
  {
   "cell_type": "code",
   "execution_count": 3,
   "metadata": {},
   "outputs": [],
   "source": [
    "config = tf.compat.v1.ConfigProto()\n",
    "config.gpu_options.allow_growth = True\n",
    "sess = tf.compat.v1.Session(config=config)"
   ]
  },
  {
   "cell_type": "code",
   "execution_count": 4,
   "metadata": {},
   "outputs": [
    {
     "data": {
      "text/plain": [
       "'2.3.4'"
      ]
     },
     "execution_count": 4,
     "metadata": {},
     "output_type": "execute_result"
    }
   ],
   "source": [
    "tf.__version__"
   ]
  },
  {
   "cell_type": "code",
   "execution_count": 5,
   "metadata": {},
   "outputs": [
    {
     "data": {
      "text/plain": [
       "[PhysicalDevice(name='/physical_device:CPU:0', device_type='CPU'),\n",
       " PhysicalDevice(name='/physical_device:XLA_CPU:0', device_type='XLA_CPU'),\n",
       " PhysicalDevice(name='/physical_device:XLA_GPU:0', device_type='XLA_GPU'),\n",
       " PhysicalDevice(name='/physical_device:XLA_GPU:1', device_type='XLA_GPU'),\n",
       " PhysicalDevice(name='/physical_device:XLA_GPU:2', device_type='XLA_GPU'),\n",
       " PhysicalDevice(name='/physical_device:XLA_GPU:3', device_type='XLA_GPU'),\n",
       " PhysicalDevice(name='/physical_device:GPU:0', device_type='GPU'),\n",
       " PhysicalDevice(name='/physical_device:GPU:1', device_type='GPU'),\n",
       " PhysicalDevice(name='/physical_device:GPU:2', device_type='GPU'),\n",
       " PhysicalDevice(name='/physical_device:GPU:3', device_type='GPU')]"
      ]
     },
     "execution_count": 5,
     "metadata": {},
     "output_type": "execute_result"
    }
   ],
   "source": [
    "tf.config.list_physical_devices(device_type=None)"
   ]
  },
  {
   "cell_type": "code",
   "execution_count": 6,
   "metadata": {
    "colab": {
     "base_uri": "https://localhost:8080/"
    },
    "executionInfo": {
     "elapsed": 5182,
     "status": "ok",
     "timestamp": 1645132634411,
     "user": {
      "displayName": "Lea Cleary",
      "photoUrl": "https://lh3.googleusercontent.com/a-/AOh14GgzyTYobr3WBfcW_CbeVl1vthXNBKocBj7_WOpm=s64",
      "userId": "08012892845319420981"
     },
     "user_tz": 300
    },
    "id": "ihcdTQ1BL37k",
    "outputId": "3552479a-c162-49dd-d2aa-43e97da39ea3"
   },
   "outputs": [],
   "source": [
    "# specify variables\n",
    "path = 'processed_data/googlenet'\n",
    "filename = 'WM-clean-googlenet112'\n",
    "\n",
    "result_path = 'results_matrix'\n",
    "model_id = 'googlenet'\n",
    "data_id = 'all112'\n",
    "note = '' # -optional\n",
    "\n",
    "x = 112\n",
    "y = 112"
   ]
  },
  {
   "cell_type": "code",
   "execution_count": 7,
   "metadata": {},
   "outputs": [
    {
     "name": "stdout",
     "output_type": "stream",
     "text": [
      "Wall time: 0.697 seconds\n"
     ]
    },
    {
     "data": {
      "text/plain": [
       "['ids', 'labels', 'dataset', 'wafermap']"
      ]
     },
     "execution_count": 7,
     "metadata": {},
     "output_type": "execute_result"
    }
   ],
   "source": [
    "# load dataset\n",
    "from io import BytesIO\n",
    "start = time.time()\n",
    "\n",
    "data_key = f'{path}/{filename}.npz'\n",
    "data_obj = my_bucket.Object(data_key).get()['Body'].read()\n",
    "data = np.load(BytesIO(data_obj), allow_pickle=True)\n",
    "\n",
    "print('Wall time: {:.3f} seconds'.format(time.time() - start))\n",
    "data.files"
   ]
  },
  {
   "cell_type": "markdown",
   "metadata": {},
   "source": [
    "#### Data set-up"
   ]
  },
  {
   "cell_type": "code",
   "execution_count": 8,
   "metadata": {},
   "outputs": [
    {
     "name": "stdout",
     "output_type": "stream",
     "text": [
      "Wall time: 10.710 seconds\n",
      "Train: (47863, 112, 112, 1)\n",
      "Dev: (25942, 112, 112, 1)\n",
      "Test: (25943, 112, 112, 1)\n"
     ]
    }
   ],
   "source": [
    "# prepare inputs\n",
    "start = time.time()\n",
    "\n",
    "x_train = data['wafermap'][data['dataset']=='train']\n",
    "x_val = data['wafermap'][data['dataset']=='dev']\n",
    "x_test = data['wafermap'][data['dataset']=='test']\n",
    "\n",
    "print('Wall time: {:.3f} seconds'.format(time.time() - start))\n",
    "print(f'Train: {x_train.shape}')\n",
    "print(f'Dev: {x_val.shape}')\n",
    "print(f'Test: {x_test.shape}')"
   ]
  },
  {
   "cell_type": "code",
   "execution_count": 9,
   "metadata": {},
   "outputs": [
    {
     "name": "stdout",
     "output_type": "stream",
     "text": [
      "             total       used       free     shared    buffers     cached\n",
      "Mem:          240G       8.6G       231G        32M       1.8G       2.4G\n",
      "-/+ buffers/cache:       4.4G       235G\n",
      "Swap:           0B         0B         0B\n"
     ]
    }
   ],
   "source": [
    "!free -h"
   ]
  },
  {
   "cell_type": "code",
   "execution_count": 10,
   "metadata": {},
   "outputs": [
    {
     "name": "stdout",
     "output_type": "stream",
     "text": [
      "Wall time: 3.16 seconds\n",
      "Train: (47863, 112, 112, 3)\n",
      "Dev: (25942, 112, 112, 3)\n",
      "Test: (25943, 112, 112, 3)\n"
     ]
    }
   ],
   "source": [
    "# expand tensor and repeat 3 times\n",
    "# images in greyscale, so no channel dimension\n",
    "start = time.time()\n",
    "\n",
    "x_train = tf.repeat(x_train, 3, axis=3)\n",
    "x_val = tf.repeat(x_val, 3, axis=3)\n",
    "x_test = tf.repeat(x_test, 3, axis=3)\n",
    "\n",
    "print(\"Wall time: {:.2f} seconds\".format(time.time() - start))\n",
    "# sanity check\n",
    "# expected: TensorShape([#rows, xdim, ydim, 3])\n",
    "print(f'Train: {x_train.shape}')\n",
    "print(f'Dev: {x_val.shape}')\n",
    "print(f'Test: {x_test.shape}')"
   ]
  },
  {
   "cell_type": "code",
   "execution_count": 11,
   "metadata": {
    "executionInfo": {
     "elapsed": 6,
     "status": "ok",
     "timestamp": 1645132869398,
     "user": {
      "displayName": "Lea Cleary",
      "photoUrl": "https://lh3.googleusercontent.com/a-/AOh14GgzyTYobr3WBfcW_CbeVl1vthXNBKocBj7_WOpm=s64",
      "userId": "08012892845319420981"
     },
     "user_tz": 300
    },
    "id": "BWtyDAx8MTXN"
   },
   "outputs": [
    {
     "name": "stdout",
     "output_type": "stream",
     "text": [
      "Wall time: 0.03 seconds\n",
      "<class 'numpy.uint8'>\n",
      "0 0 0\n",
      "8 8 8\n"
     ]
    }
   ],
   "source": [
    "# prepare labels for supervised learning\n",
    "# note: make sure labels are integers if using sparse categorical cross entropy\n",
    "start = time.time()\n",
    "\n",
    "y_train = data['labels'][data['dataset']=='train']\n",
    "y_val = data['labels'][data['dataset']=='dev']\n",
    "y_test = data['labels'][data['dataset']=='test']\n",
    "\n",
    "print(\"Wall time: {:.2f} seconds\".format(time.time() - start))\n",
    "# sanity check\n",
    "# expected: type = int, min = 0, max = 8\n",
    "print(type(y_train[0]))\n",
    "print(min(y_train), min(y_val), min(y_test))\n",
    "print(max(y_train), max(y_val), max(y_test))"
   ]
  },
  {
   "cell_type": "markdown",
   "metadata": {},
   "source": [
    "#### Model"
   ]
  },
  {
   "cell_type": "code",
   "execution_count": 12,
   "metadata": {
    "executionInfo": {
     "elapsed": 5,
     "status": "ok",
     "timestamp": 1645132869398,
     "user": {
      "displayName": "Lea Cleary",
      "photoUrl": "https://lh3.googleusercontent.com/a-/AOh14GgzyTYobr3WBfcW_CbeVl1vthXNBKocBj7_WOpm=s64",
      "userId": "08012892845319420981"
     },
     "user_tz": 300
    },
    "id": "6wKcYCdaLcFU"
   },
   "outputs": [],
   "source": [
    "def inception(x,\n",
    "              filters_1x1,\n",
    "              filters_3x3_reduce,\n",
    "              filters_3x3,\n",
    "              filters_5x5_reduce,\n",
    "              filters_5x5,\n",
    "              filters_pool):\n",
    "  path1 = layers.Conv2D(filters_1x1, (1, 1), padding='same', activation='relu')(x)\n",
    "\n",
    "  path2 = layers.Conv2D(filters_3x3_reduce, (1, 1), padding='same', activation='relu')(x)\n",
    "  path2 = layers.Conv2D(filters_3x3, (1, 1), padding='same', activation='relu')(path2)\n",
    "\n",
    "  path3 = layers.Conv2D(filters_5x5_reduce, (1, 1), padding='same', activation='relu')(x)\n",
    "  path3 = layers.Conv2D(filters_5x5, (1, 1), padding='same', activation='relu')(path3)\n",
    "\n",
    "  path4 = layers.MaxPool2D((3, 3), strides=(1, 1), padding='same')(x)\n",
    "  path4 = layers.Conv2D(filters_pool, (1, 1), padding='same', activation='relu')(path4)\n",
    "\n",
    "  return tf.concat([path1, path2, path3, path4], axis=3)"
   ]
  },
  {
   "cell_type": "code",
   "execution_count": 13,
   "metadata": {
    "executionInfo": {
     "elapsed": 1164,
     "status": "ok",
     "timestamp": 1645132870558,
     "user": {
      "displayName": "Lea Cleary",
      "photoUrl": "https://lh3.googleusercontent.com/a-/AOh14GgzyTYobr3WBfcW_CbeVl1vthXNBKocBj7_WOpm=s64",
      "userId": "08012892845319420981"
     },
     "user_tz": 300
    },
    "id": "nDEI1TMtLcHq"
   },
   "outputs": [],
   "source": [
    "inp = layers.Input(shape=(x, y, 3))\n",
    "input_tensor = layers.experimental.preprocessing.Resizing(224, 224, interpolation=\"bilinear\", input_shape=x_train.shape[1:])(inp)\n",
    "\n",
    "x = layers.Conv2D(64, 7, strides=2, padding='same', activation='relu')(input_tensor)\n",
    "x = layers.MaxPooling2D(3, strides=2)(x)\n",
    "\n",
    "x = layers.Conv2D(64, 1, strides=1, padding='same', activation='relu')(x)\n",
    "x = layers.Conv2D(192, 3, strides=1, padding='same', activation='relu')(x)\n",
    "\n",
    "x = layers.MaxPooling2D(3, strides=2)(x)\n",
    "\n",
    "x = inception(x,\n",
    "              filters_1x1=64,\n",
    "              filters_3x3_reduce=96,\n",
    "              filters_3x3=128,\n",
    "              filters_5x5_reduce=16,\n",
    "              filters_5x5=32,\n",
    "              filters_pool=32)\n",
    "\n",
    "x = inception(x,\n",
    "              filters_1x1=128,\n",
    "              filters_3x3_reduce=128,\n",
    "              filters_3x3=192,\n",
    "              filters_5x5_reduce=32,\n",
    "              filters_5x5=96,\n",
    "              filters_pool=64)\n",
    "\n",
    "x = layers.MaxPooling2D(3, strides=2)(x)\n",
    "\n",
    "x = inception(x,\n",
    "              filters_1x1=192,\n",
    "              filters_3x3_reduce=96,\n",
    "              filters_3x3=208,\n",
    "              filters_5x5_reduce=16,\n",
    "              filters_5x5=48,\n",
    "              filters_pool=64)\n",
    "\n",
    "aux1 = layers.AveragePooling2D((5, 5), strides=3)(x)\n",
    "aux1 = layers.Conv2D(128, 1, padding='same', activation='relu')(aux1)\n",
    "aux1 = layers.Flatten()(aux1)\n",
    "aux1 = layers.Dense(1024, activation='relu')(aux1)\n",
    "aux1 = layers.Dropout(0.7)(aux1)\n",
    "aux1 = layers.Dense(10, activation='softmax')(aux1)\n",
    "\n",
    "x = inception(x,\n",
    "              filters_1x1=160,\n",
    "              filters_3x3_reduce=112,\n",
    "              filters_3x3=224,\n",
    "              filters_5x5_reduce=24,\n",
    "              filters_5x5=64,\n",
    "              filters_pool=64)\n",
    "\n",
    "x = inception(x,\n",
    "              filters_1x1=128,\n",
    "              filters_3x3_reduce=128,\n",
    "              filters_3x3=256,\n",
    "              filters_5x5_reduce=24,\n",
    "              filters_5x5=64,\n",
    "              filters_pool=64)\n",
    "\n",
    "x = inception(x,\n",
    "              filters_1x1=112,\n",
    "              filters_3x3_reduce=144,\n",
    "              filters_3x3=288,\n",
    "              filters_5x5_reduce=32,\n",
    "              filters_5x5=64,\n",
    "              filters_pool=64)\n",
    "\n",
    "aux2 = layers.AveragePooling2D((5, 5), strides=3)(x)\n",
    "aux2 = layers.Conv2D(128, 1, padding='same', activation='relu')(aux2)\n",
    "aux2 = layers.Flatten()(aux2)\n",
    "aux2 = layers.Dense(1024, activation='relu')(aux2)\n",
    "aux2 = layers.Dropout(0.7)(aux2)\n",
    "aux2 = layers.Dense(10, activation='softmax')(aux2)\n",
    "\n",
    "x = inception(x,\n",
    "              filters_1x1=256,\n",
    "              filters_3x3_reduce=160,\n",
    "              filters_3x3=320,\n",
    "              filters_5x5_reduce=32,\n",
    "              filters_5x5=128,\n",
    "              filters_pool=128)\n",
    "\n",
    "x = layers.MaxPooling2D(3, strides=2)(x)\n",
    "\n",
    "x = inception(x,\n",
    "              filters_1x1=256,\n",
    "              filters_3x3_reduce=160,\n",
    "              filters_3x3=320,\n",
    "              filters_5x5_reduce=32,\n",
    "              filters_5x5=128,\n",
    "              filters_pool=128)\n",
    "\n",
    "x = inception(x,\n",
    "              filters_1x1=384,\n",
    "              filters_3x3_reduce=192,\n",
    "              filters_3x3=384,\n",
    "              filters_5x5_reduce=48,\n",
    "              filters_5x5=128,\n",
    "              filters_pool=128)\n",
    "\n",
    "x = layers.GlobalAveragePooling2D()(x)\n",
    "\n",
    "x = layers.Dropout(0.4)(x)\n",
    "out = layers.Dense(9, activation='softmax')(x)"
   ]
  },
  {
   "cell_type": "code",
   "execution_count": 14,
   "metadata": {
    "executionInfo": {
     "elapsed": 5,
     "status": "ok",
     "timestamp": 1645132870559,
     "user": {
      "displayName": "Lea Cleary",
      "photoUrl": "https://lh3.googleusercontent.com/a-/AOh14GgzyTYobr3WBfcW_CbeVl1vthXNBKocBj7_WOpm=s64",
      "userId": "08012892845319420981"
     },
     "user_tz": 300
    },
    "id": "WzIFlLP9LcLQ"
   },
   "outputs": [],
   "source": [
    "model = Model(inputs = inp, outputs = [out, aux1, aux2])"
   ]
  },
  {
   "cell_type": "code",
   "execution_count": 15,
   "metadata": {
    "executionInfo": {
     "elapsed": 4,
     "status": "ok",
     "timestamp": 1645132870559,
     "user": {
      "displayName": "Lea Cleary",
      "photoUrl": "https://lh3.googleusercontent.com/a-/AOh14GgzyTYobr3WBfcW_CbeVl1vthXNBKocBj7_WOpm=s64",
      "userId": "08012892845319420981"
     },
     "user_tz": 300
    },
    "id": "wJjdIxC1aWwO"
   },
   "outputs": [],
   "source": [
    "model.compile(optimizer='adam', loss=[losses.sparse_categorical_crossentropy, losses.sparse_categorical_crossentropy, losses.sparse_categorical_crossentropy], loss_weights=[1, 0.3, 0.3], metrics=['accuracy'])"
   ]
  },
  {
   "cell_type": "code",
   "execution_count": 16,
   "metadata": {
    "colab": {
     "base_uri": "https://localhost:8080/"
    },
    "executionInfo": {
     "elapsed": 7528885,
     "status": "ok",
     "timestamp": 1645140399441,
     "user": {
      "displayName": "Lea Cleary",
      "photoUrl": "https://lh3.googleusercontent.com/a-/AOh14GgzyTYobr3WBfcW_CbeVl1vthXNBKocBj7_WOpm=s64",
      "userId": "08012892845319420981"
     },
     "user_tz": 300
    },
    "id": "VofnKKKoauYX",
    "outputId": "d026fd8d-1dfe-4c3d-8140-55ca20315a1b"
   },
   "outputs": [
    {
     "name": "stdout",
     "output_type": "stream",
     "text": [
      "Epoch 1/30\n",
      "748/748 [==============================] - 51s 68ms/step - loss: 1.4730 - dense_4_loss: 0.9127 - dense_1_loss: 0.9556 - dense_3_loss: 0.9121 - dense_4_accuracy: 0.7280 - dense_1_accuracy: 0.7201 - dense_3_accuracy: 0.7322 - val_loss: 0.6723 - val_dense_4_loss: 0.4413 - val_dense_1_loss: 0.3676 - val_dense_3_loss: 0.4024 - val_dense_4_accuracy: 0.8825 - val_dense_1_accuracy: 0.9184 - val_dense_3_accuracy: 0.8849\n",
      "Epoch 2/30\n",
      "748/748 [==============================] - 48s 65ms/step - loss: 0.7247 - dense_4_loss: 0.4286 - dense_1_loss: 0.5443 - dense_3_loss: 0.4428 - dense_4_accuracy: 0.8669 - dense_1_accuracy: 0.8417 - dense_3_accuracy: 0.8667 - val_loss: 0.3040 - val_dense_4_loss: 0.1883 - val_dense_1_loss: 0.2144 - val_dense_3_loss: 0.1713 - val_dense_4_accuracy: 0.9419 - val_dense_1_accuracy: 0.9426 - val_dense_3_accuracy: 0.9491\n",
      "Epoch 3/30\n",
      "748/748 [==============================] - 48s 65ms/step - loss: 0.5275 - dense_4_loss: 0.2990 - dense_1_loss: 0.4252 - dense_3_loss: 0.3362 - dense_4_accuracy: 0.9029 - dense_1_accuracy: 0.8710 - dense_3_accuracy: 0.8918 - val_loss: 0.2574 - val_dense_4_loss: 0.1481 - val_dense_1_loss: 0.2021 - val_dense_3_loss: 0.1623 - val_dense_4_accuracy: 0.9527 - val_dense_1_accuracy: 0.9440 - val_dense_3_accuracy: 0.9493\n",
      "Epoch 4/30\n",
      "748/748 [==============================] - 48s 64ms/step - loss: 0.4369 - dense_4_loss: 0.2436 - dense_1_loss: 0.3612 - dense_3_loss: 0.2831 - dense_4_accuracy: 0.9179 - dense_1_accuracy: 0.8883 - dense_3_accuracy: 0.9080 - val_loss: 0.2158 - val_dense_4_loss: 0.1352 - val_dense_1_loss: 0.1473 - val_dense_3_loss: 0.1214 - val_dense_4_accuracy: 0.9592 - val_dense_1_accuracy: 0.9547 - val_dense_3_accuracy: 0.9603\n",
      "Epoch 5/30\n",
      "748/748 [==============================] - 48s 65ms/step - loss: 0.3940 - dense_4_loss: 0.2224 - dense_1_loss: 0.3139 - dense_3_loss: 0.2581 - dense_4_accuracy: 0.9251 - dense_1_accuracy: 0.8998 - dense_3_accuracy: 0.9158 - val_loss: 0.2510 - val_dense_4_loss: 0.1632 - val_dense_1_loss: 0.1389 - val_dense_3_loss: 0.1539 - val_dense_4_accuracy: 0.9501 - val_dense_1_accuracy: 0.9558 - val_dense_3_accuracy: 0.9524\n",
      "Epoch 6/30\n",
      "748/748 [==============================] - 49s 65ms/step - loss: 0.3548 - dense_4_loss: 0.2005 - dense_1_loss: 0.2851 - dense_3_loss: 0.2291 - dense_4_accuracy: 0.9319 - dense_1_accuracy: 0.9078 - dense_3_accuracy: 0.9241 - val_loss: 0.2115 - val_dense_4_loss: 0.1324 - val_dense_1_loss: 0.1342 - val_dense_3_loss: 0.1297 - val_dense_4_accuracy: 0.9606 - val_dense_1_accuracy: 0.9605 - val_dense_3_accuracy: 0.9630\n",
      "Epoch 7/30\n",
      "748/748 [==============================] - 48s 65ms/step - loss: 0.3334 - dense_4_loss: 0.1875 - dense_1_loss: 0.2690 - dense_3_loss: 0.2173 - dense_4_accuracy: 0.9354 - dense_1_accuracy: 0.9122 - dense_3_accuracy: 0.9270 - val_loss: 0.1703 - val_dense_4_loss: 0.1004 - val_dense_1_loss: 0.1238 - val_dense_3_loss: 0.1091 - val_dense_4_accuracy: 0.9650 - val_dense_1_accuracy: 0.9587 - val_dense_3_accuracy: 0.9627\n",
      "Epoch 8/30\n",
      "748/748 [==============================] - 48s 65ms/step - loss: 0.3251 - dense_4_loss: 0.1842 - dense_1_loss: 0.2578 - dense_3_loss: 0.2119 - dense_4_accuracy: 0.9367 - dense_1_accuracy: 0.9138 - dense_3_accuracy: 0.9289 - val_loss: 0.1724 - val_dense_4_loss: 0.1054 - val_dense_1_loss: 0.1182 - val_dense_3_loss: 0.1054 - val_dense_4_accuracy: 0.9658 - val_dense_1_accuracy: 0.9626 - val_dense_3_accuracy: 0.9672\n",
      "Epoch 9/30\n",
      "748/748 [==============================] - 48s 64ms/step - loss: 0.2981 - dense_4_loss: 0.1678 - dense_1_loss: 0.2384 - dense_3_loss: 0.1959 - dense_4_accuracy: 0.9422 - dense_1_accuracy: 0.9208 - dense_3_accuracy: 0.9341 - val_loss: 0.1836 - val_dense_4_loss: 0.1073 - val_dense_1_loss: 0.1280 - val_dense_3_loss: 0.1263 - val_dense_4_accuracy: 0.9640 - val_dense_1_accuracy: 0.9571 - val_dense_3_accuracy: 0.9582\n",
      "Epoch 10/30\n",
      "748/748 [==============================] - 48s 64ms/step - loss: 0.2878 - dense_4_loss: 0.1620 - dense_1_loss: 0.2316 - dense_3_loss: 0.1877 - dense_4_accuracy: 0.9438 - dense_1_accuracy: 0.9218 - dense_3_accuracy: 0.9362 - val_loss: 0.1564 - val_dense_4_loss: 0.0919 - val_dense_1_loss: 0.1146 - val_dense_3_loss: 0.1005 - val_dense_4_accuracy: 0.9698 - val_dense_1_accuracy: 0.9642 - val_dense_3_accuracy: 0.9650\n",
      "Epoch 11/30\n",
      "748/748 [==============================] - 48s 64ms/step - loss: 0.2724 - dense_4_loss: 0.1536 - dense_1_loss: 0.2173 - dense_3_loss: 0.1785 - dense_4_accuracy: 0.9461 - dense_1_accuracy: 0.9271 - dense_3_accuracy: 0.9386 - val_loss: 0.2289 - val_dense_4_loss: 0.1507 - val_dense_1_loss: 0.1296 - val_dense_3_loss: 0.1313 - val_dense_4_accuracy: 0.9489 - val_dense_1_accuracy: 0.9560 - val_dense_3_accuracy: 0.9539\n",
      "Epoch 12/30\n",
      "748/748 [==============================] - 48s 65ms/step - loss: 0.2550 - dense_4_loss: 0.1438 - dense_1_loss: 0.2034 - dense_3_loss: 0.1674 - dense_4_accuracy: 0.9503 - dense_1_accuracy: 0.9317 - dense_3_accuracy: 0.9439 - val_loss: 0.1354 - val_dense_4_loss: 0.0814 - val_dense_1_loss: 0.0938 - val_dense_3_loss: 0.0861 - val_dense_4_accuracy: 0.9729 - val_dense_1_accuracy: 0.9699 - val_dense_3_accuracy: 0.9707\n",
      "Epoch 13/30\n",
      "748/748 [==============================] - 49s 66ms/step - loss: 0.2483 - dense_4_loss: 0.1413 - dense_1_loss: 0.1931 - dense_3_loss: 0.1634 - dense_4_accuracy: 0.9503 - dense_1_accuracy: 0.9338 - dense_3_accuracy: 0.9442 - val_loss: 0.1875 - val_dense_4_loss: 0.1140 - val_dense_1_loss: 0.1279 - val_dense_3_loss: 0.1172 - val_dense_4_accuracy: 0.9597 - val_dense_1_accuracy: 0.9586 - val_dense_3_accuracy: 0.9602\n",
      "Epoch 14/30\n",
      "748/748 [==============================] - 48s 65ms/step - loss: 0.2385 - dense_4_loss: 0.1354 - dense_1_loss: 0.1870 - dense_3_loss: 0.1565 - dense_4_accuracy: 0.9529 - dense_1_accuracy: 0.9377 - dense_3_accuracy: 0.9481 - val_loss: 0.1613 - val_dense_4_loss: 0.1001 - val_dense_1_loss: 0.1013 - val_dense_3_loss: 0.1028 - val_dense_4_accuracy: 0.9653 - val_dense_1_accuracy: 0.9667 - val_dense_3_accuracy: 0.9655\n",
      "Epoch 15/30\n",
      "748/748 [==============================] - 48s 64ms/step - loss: 0.2229 - dense_4_loss: 0.1260 - dense_1_loss: 0.1773 - dense_3_loss: 0.1458 - dense_4_accuracy: 0.9562 - dense_1_accuracy: 0.9400 - dense_3_accuracy: 0.9512 - val_loss: 0.1663 - val_dense_4_loss: 0.1047 - val_dense_1_loss: 0.0971 - val_dense_3_loss: 0.1083 - val_dense_4_accuracy: 0.9633 - val_dense_1_accuracy: 0.9674 - val_dense_3_accuracy: 0.9628\n",
      "Epoch 16/30\n",
      "748/748 [==============================] - 48s 65ms/step - loss: 0.2215 - dense_4_loss: 0.1254 - dense_1_loss: 0.1737 - dense_3_loss: 0.1468 - dense_4_accuracy: 0.9562 - dense_1_accuracy: 0.9430 - dense_3_accuracy: 0.9511 - val_loss: 0.1325 - val_dense_4_loss: 0.0784 - val_dense_1_loss: 0.0959 - val_dense_3_loss: 0.0846 - val_dense_4_accuracy: 0.9736 - val_dense_1_accuracy: 0.9683 - val_dense_3_accuracy: 0.9724\n",
      "Epoch 17/30\n",
      "748/748 [==============================] - 48s 65ms/step - loss: 0.2084 - dense_4_loss: 0.1180 - dense_1_loss: 0.1620 - dense_3_loss: 0.1394 - dense_4_accuracy: 0.9590 - dense_1_accuracy: 0.9459 - dense_3_accuracy: 0.9529 - val_loss: 0.2033 - val_dense_4_loss: 0.1289 - val_dense_1_loss: 0.1177 - val_dense_3_loss: 0.1302 - val_dense_4_accuracy: 0.9563 - val_dense_1_accuracy: 0.9616 - val_dense_3_accuracy: 0.9561\n",
      "Epoch 18/30\n",
      "748/748 [==============================] - 48s 64ms/step - loss: 0.2016 - dense_4_loss: 0.1140 - dense_1_loss: 0.1577 - dense_3_loss: 0.1343 - dense_4_accuracy: 0.9600 - dense_1_accuracy: 0.9472 - dense_3_accuracy: 0.9541 - val_loss: 0.1840 - val_dense_4_loss: 0.1120 - val_dense_1_loss: 0.1145 - val_dense_3_loss: 0.1255 - val_dense_4_accuracy: 0.9623 - val_dense_1_accuracy: 0.9606 - val_dense_3_accuracy: 0.9574\n",
      "Epoch 19/30\n",
      "748/748 [==============================] - 48s 65ms/step - loss: 0.1936 - dense_4_loss: 0.1087 - dense_1_loss: 0.1531 - dense_3_loss: 0.1299 - dense_4_accuracy: 0.9612 - dense_1_accuracy: 0.9479 - dense_3_accuracy: 0.9556 - val_loss: 0.1507 - val_dense_4_loss: 0.0867 - val_dense_1_loss: 0.1134 - val_dense_3_loss: 0.1000 - val_dense_4_accuracy: 0.9696 - val_dense_1_accuracy: 0.9624 - val_dense_3_accuracy: 0.9647\n",
      "Epoch 20/30\n",
      "748/748 [==============================] - 48s 65ms/step - loss: 0.1926 - dense_4_loss: 0.1102 - dense_1_loss: 0.1487 - dense_3_loss: 0.1261 - dense_4_accuracy: 0.9618 - dense_1_accuracy: 0.9501 - dense_3_accuracy: 0.9573 - val_loss: 0.1441 - val_dense_4_loss: 0.0886 - val_dense_1_loss: 0.0952 - val_dense_3_loss: 0.0897 - val_dense_4_accuracy: 0.9703 - val_dense_1_accuracy: 0.9692 - val_dense_3_accuracy: 0.9714\n",
      "Epoch 21/30\n",
      "748/748 [==============================] - 48s 64ms/step - loss: 0.1813 - dense_4_loss: 0.1022 - dense_1_loss: 0.1423 - dense_3_loss: 0.1212 - dense_4_accuracy: 0.9646 - dense_1_accuracy: 0.9527 - dense_3_accuracy: 0.9590 - val_loss: 0.1383 - val_dense_4_loss: 0.0855 - val_dense_1_loss: 0.0918 - val_dense_3_loss: 0.0840 - val_dense_4_accuracy: 0.9709 - val_dense_1_accuracy: 0.9709 - val_dense_3_accuracy: 0.9709\n",
      "Epoch 22/30\n",
      "748/748 [==============================] - 48s 65ms/step - loss: 0.1761 - dense_4_loss: 0.0997 - dense_1_loss: 0.1378 - dense_3_loss: 0.1168 - dense_4_accuracy: 0.9645 - dense_1_accuracy: 0.9529 - dense_3_accuracy: 0.9598 - val_loss: 0.1375 - val_dense_4_loss: 0.0849 - val_dense_1_loss: 0.0901 - val_dense_3_loss: 0.0853 - val_dense_4_accuracy: 0.9719 - val_dense_1_accuracy: 0.9724 - val_dense_3_accuracy: 0.9722\n",
      "Epoch 23/30\n",
      "748/748 [==============================] - 48s 65ms/step - loss: 0.1710 - dense_4_loss: 0.0955 - dense_1_loss: 0.1367 - dense_3_loss: 0.1151 - dense_4_accuracy: 0.9661 - dense_1_accuracy: 0.9524 - dense_3_accuracy: 0.9599 - val_loss: 0.1366 - val_dense_4_loss: 0.0834 - val_dense_1_loss: 0.0916 - val_dense_3_loss: 0.0856 - val_dense_4_accuracy: 0.9733 - val_dense_1_accuracy: 0.9708 - val_dense_3_accuracy: 0.9727\n",
      "Epoch 24/30\n",
      "748/748 [==============================] - 48s 65ms/step - loss: 0.1609 - dense_4_loss: 0.0898 - dense_1_loss: 0.1314 - dense_3_loss: 0.1053 - dense_4_accuracy: 0.9682 - dense_1_accuracy: 0.9551 - dense_3_accuracy: 0.9637 - val_loss: 0.1328 - val_dense_4_loss: 0.0820 - val_dense_1_loss: 0.0868 - val_dense_3_loss: 0.0826 - val_dense_4_accuracy: 0.9764 - val_dense_1_accuracy: 0.9736 - val_dense_3_accuracy: 0.9749\n",
      "Epoch 25/30\n",
      "748/748 [==============================] - 48s 64ms/step - loss: 0.1573 - dense_4_loss: 0.0880 - dense_1_loss: 0.1275 - dense_3_loss: 0.1037 - dense_4_accuracy: 0.9684 - dense_1_accuracy: 0.9574 - dense_3_accuracy: 0.9643 - val_loss: 0.1542 - val_dense_4_loss: 0.0959 - val_dense_1_loss: 0.1013 - val_dense_3_loss: 0.0930 - val_dense_4_accuracy: 0.9688 - val_dense_1_accuracy: 0.9669 - val_dense_3_accuracy: 0.9695\n",
      "Epoch 26/30\n",
      "748/748 [==============================] - 48s 65ms/step - loss: 0.1509 - dense_4_loss: 0.0834 - dense_1_loss: 0.1249 - dense_3_loss: 0.1002 - dense_4_accuracy: 0.9704 - dense_1_accuracy: 0.9576 - dense_3_accuracy: 0.9650 - val_loss: 0.1571 - val_dense_4_loss: 0.0959 - val_dense_1_loss: 0.1042 - val_dense_3_loss: 0.0998 - val_dense_4_accuracy: 0.9683 - val_dense_1_accuracy: 0.9658 - val_dense_3_accuracy: 0.9681\n",
      "Epoch 27/30\n",
      "748/748 [==============================] - 48s 65ms/step - loss: 0.1703 - dense_4_loss: 0.0968 - dense_1_loss: 0.1327 - dense_3_loss: 0.1123 - dense_4_accuracy: 0.9673 - dense_1_accuracy: 0.9543 - dense_3_accuracy: 0.9618 - val_loss: 0.1409 - val_dense_4_loss: 0.0843 - val_dense_1_loss: 0.0961 - val_dense_3_loss: 0.0926 - val_dense_4_accuracy: 0.9741 - val_dense_1_accuracy: 0.9732 - val_dense_3_accuracy: 0.9732\n",
      "Epoch 28/30\n",
      "748/748 [==============================] - 48s 64ms/step - loss: 0.1425 - dense_4_loss: 0.0785 - dense_1_loss: 0.1182 - dense_3_loss: 0.0951 - dense_4_accuracy: 0.9721 - dense_1_accuracy: 0.9589 - dense_3_accuracy: 0.9676 - val_loss: 0.1690 - val_dense_4_loss: 0.1037 - val_dense_1_loss: 0.1064 - val_dense_3_loss: 0.1114 - val_dense_4_accuracy: 0.9645 - val_dense_1_accuracy: 0.9670 - val_dense_3_accuracy: 0.9630\n",
      "Epoch 29/30\n",
      "748/748 [==============================] - 50s 67ms/step - loss: 0.1351 - dense_4_loss: 0.0736 - dense_1_loss: 0.1134 - dense_3_loss: 0.0915 - dense_4_accuracy: 0.9741 - dense_1_accuracy: 0.9607 - dense_3_accuracy: 0.9683 - val_loss: 0.1768 - val_dense_4_loss: 0.1096 - val_dense_1_loss: 0.1194 - val_dense_3_loss: 0.1049 - val_dense_4_accuracy: 0.9671 - val_dense_1_accuracy: 0.9620 - val_dense_3_accuracy: 0.9668\n",
      "Epoch 30/30\n",
      "748/748 [==============================] - 51s 68ms/step - loss: 0.1399 - dense_4_loss: 0.0771 - dense_1_loss: 0.1156 - dense_3_loss: 0.0937 - dense_4_accuracy: 0.9719 - dense_1_accuracy: 0.9604 - dense_3_accuracy: 0.9683 - val_loss: 0.1623 - val_dense_4_loss: 0.0986 - val_dense_1_loss: 0.1054 - val_dense_3_loss: 0.1069 - val_dense_4_accuracy: 0.9706 - val_dense_1_accuracy: 0.9700 - val_dense_3_accuracy: 0.9714\n"
     ]
    }
   ],
   "source": [
    "history = model.fit(x_train, [y_train, y_train, y_train], validation_data=(x_val, [y_val, y_val, y_val]), batch_size=64, epochs=30)"
   ]
  },
  {
   "cell_type": "code",
   "execution_count": 17,
   "metadata": {
    "colab": {
     "base_uri": "https://localhost:8080/",
     "height": 910
    },
    "executionInfo": {
     "elapsed": 677,
     "status": "ok",
     "timestamp": 1645140400109,
     "user": {
      "displayName": "Lea Cleary",
      "photoUrl": "https://lh3.googleusercontent.com/a-/AOh14GgzyTYobr3WBfcW_CbeVl1vthXNBKocBj7_WOpm=s64",
      "userId": "08012892845319420981"
     },
     "user_tz": 300
    },
    "id": "53UluuOE5TX_",
    "outputId": "ce8952a6-0b5c-4d20-f5a1-e77d8565eeab"
   },
   "outputs": [
    {
     "data": {
      "text/plain": [
       "<matplotlib.legend.Legend at 0x7fd6f145c5c0>"
      ]
     },
     "execution_count": 17,
     "metadata": {},
     "output_type": "execute_result"
    },
    {
     "data": {
      "image/png": "[encoded data removed]",
      "text/plain": [
       "<Figure size 1080x1080 with 2 Axes>"
      ]
     },
     "metadata": {
      "needs_background": "light"
     },
     "output_type": "display_data"
    }
   ],
   "source": [
    "fig, axs = plt.subplots(2, 1, figsize=(15,15))\n",
    "\n",
    "axs[0].plot(history.history['loss'])\n",
    "axs[0].plot(history.history['val_loss'])\n",
    "axs[0].title.set_text('Training Loss vs Validation Loss')\n",
    "axs[0].set_xlabel('Epochs')\n",
    "axs[0].set_ylabel('Loss')\n",
    "axs[0].legend(['Train','Val'])\n",
    "\n",
    "axs[1].plot(history.history['dense_4_accuracy'])\n",
    "axs[1].plot(history.history['val_dense_4_accuracy'])\n",
    "axs[1].title.set_text('Training Accuracy vs Validation Accuracy')\n",
    "axs[1].set_xlabel('Epochs')\n",
    "axs[1].set_ylabel('Accuracy')\n",
    "axs[1].legend(['Train', 'Val'])"
   ]
  },
  {
   "cell_type": "markdown",
   "metadata": {},
   "source": [
    "#### Model results"
   ]
  },
  {
   "cell_type": "code",
   "execution_count": 18,
   "metadata": {},
   "outputs": [
    {
     "name": "stdout",
     "output_type": "stream",
     "text": [
      "WARNING:tensorflow:From /home/ec2-user/anaconda3/envs/amazonei_tensorflow2_p36/lib/python3.6/site-packages/tensorflow/python/training/tracking/tracking.py:111: Model.state_updates (from tensorflow.python.keras.engine.training) is deprecated and will be removed in a future version.\n",
      "Instructions for updating:\n",
      "This property should not be used in TensorFlow 2.0, as updates are applied automatically.\n",
      "WARNING:tensorflow:From /home/ec2-user/anaconda3/envs/amazonei_tensorflow2_p36/lib/python3.6/site-packages/tensorflow/python/training/tracking/tracking.py:111: Layer.updates (from tensorflow.python.keras.engine.base_layer) is deprecated and will be removed in a future version.\n",
      "Instructions for updating:\n",
      "This property should not be used in TensorFlow 2.0, as updates are applied automatically.\n",
      "INFO:tensorflow:Assets written to: /tmp/tmpqxnwt5lj/googlenet-all112/assets\n"
     ]
    }
   ],
   "source": [
    "# save model to S3\n",
    "s3_save_keras_model(model, f'{model_id}-{data_id}{note}')"
   ]
  },
  {
   "cell_type": "code",
   "execution_count": 19,
   "metadata": {
    "colab": {
     "base_uri": "https://localhost:8080/"
    },
    "executionInfo": {
     "elapsed": 83193,
     "status": "ok",
     "timestamp": 1645140483298,
     "user": {
      "displayName": "Lea Cleary",
      "photoUrl": "https://lh3.googleusercontent.com/a-/AOh14GgzyTYobr3WBfcW_CbeVl1vthXNBKocBj7_WOpm=s64",
      "userId": "08012892845319420981"
     },
     "user_tz": 300
    },
    "id": "iNbFiTZW5dQ7",
    "outputId": "ed7deb4d-e490-4fad-df54-c790df902473"
   },
   "outputs": [
    {
     "name": "stdout",
     "output_type": "stream",
     "text": [
      "811/811 [==============================] - 10s 12ms/step - loss: 0.1503 - dense_4_loss: 0.0895 - dense_1_loss: 0.1036 - dense_3_loss: 0.0992 - dense_4_accuracy: 0.9732 - dense_1_accuracy: 0.9711 - dense_3_accuracy: 0.9725\n",
      "Wall time: 12.11 seconds\n",
      "[0.15028977394104004, 0.08945223689079285, 0.10355615615844727, 0.09923581779003143, 0.9732490181922913, 0.9710904955863953, 0.9724781513214111]\n"
     ]
    }
   ],
   "source": [
    "# compute model results on test set\n",
    "start = time.time()\n",
    "results = model.evaluate(x_test, y_test)\n",
    "print(\"Wall time: {:.2f} seconds\".format(time.time() - start))\n",
    "print(results)"
   ]
  },
  {
   "cell_type": "code",
   "execution_count": 20,
   "metadata": {},
   "outputs": [
    {
     "name": "stdout",
     "output_type": "stream",
     "text": [
      "Wall time: 7.999857425689697 seconds\n"
     ]
    }
   ],
   "source": [
    "# generate predictions for model analysis\n",
    "start = time.time()\n",
    "pred = model.predict(x_test)\n",
    "y_pred = np.argmax(pred[0], axis=1)\n",
    "predictions = [y_pred, pred]\n",
    "print(\"Wall time: {} seconds\".format(time.time() - start))"
   ]
  },
  {
   "cell_type": "code",
   "execution_count": 21,
   "metadata": {},
   "outputs": [],
   "source": [
    "# save predictions\n",
    "# save to local instance\n",
    "with open(f'{result_path}/{model_id}-{data_id}{note}.pkl', \"wb\") as f:\n",
    "    pickle.dump(predictions, f)"
   ]
  },
  {
   "cell_type": "code",
   "execution_count": 22,
   "metadata": {},
   "outputs": [
    {
     "data": {
      "image/png": "[encoded data removed]",
      "text/plain": [
       "<Figure size 504x360 with 2 Axes>"
      ]
     },
     "metadata": {
      "needs_background": "light"
     },
     "output_type": "display_data"
    }
   ],
   "source": [
    "# plot confusion matrix\n",
    "helper.plot_confusion_matrix(y_test, y_pred, mode='all', normalize=True)"
   ]
  },
  {
   "cell_type": "code",
   "execution_count": 23,
   "metadata": {},
   "outputs": [
    {
     "data": {
      "image/png": "[encoded data removed]",
      "text/plain": [
       "<Figure size 504x360 with 2 Axes>"
      ]
     },
     "metadata": {
      "needs_background": "light"
     },
     "output_type": "display_data"
    }
   ],
   "source": [
    "# plot confusion matrix counts\n",
    "helper.plot_confusion_matrix(y_test, y_pred, mode='all', normalize=False)"
   ]
  },
  {
   "cell_type": "code",
   "execution_count": null,
   "metadata": {},
   "outputs": [],
   "source": []
  }
 ],
 "metadata": {
  "accelerator": "GPU",
  "colab": {
   "collapsed_sections": [],
   "name": "colab_googlenet_classify_all.ipynb",
   "provenance": [
    {
     "file_id": "https://gist.github.com/mrgrhn/a6ad98dbc81f3ec8f73d39415452de9a#file-googlenet_tensorflow-ipynb",
     "timestamp": 1645042556321
    }
   ]
  },
  "kernelspec": {
   "display_name": "conda_amazonei_tensorflow2_p36",
   "language": "python",
   "name": "conda_amazonei_tensorflow2_p36"
  },
  "language_info": {
   "codemirror_mode": {
    "name": "ipython",
    "version": 3
   },
   "file_extension": ".py",
   "mimetype": "text/x-python",
   "name": "python",
   "nbconvert_exporter": "python",
   "pygments_lexer": "ipython3",
   "version": "3.6.13"
  }
 },
 "nbformat": 4,
 "nbformat_minor": 4
}
