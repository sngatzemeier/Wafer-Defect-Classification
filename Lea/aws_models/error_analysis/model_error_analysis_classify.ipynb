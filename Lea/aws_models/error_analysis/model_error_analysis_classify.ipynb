{
 "cells": [
  {
   "cell_type": "code",
   "execution_count": null,
   "metadata": {},
   "outputs": [],
   "source": [
    "# import libraries\n",
    "import os\n",
    "import time\n",
    "import math\n",
    "import random\n",
    "import numpy as np\n",
    "import pandas as pd\n",
    "import matplotlib.pyplot as plt\n",
    "import pickle5 as pickle\n",
    "from functools import reduce\n",
    "\n",
    "import helpers as helper"
   ]
  },
  {
   "cell_type": "markdown",
   "metadata": {},
   "source": [
    "#### Metadata from raw data file"
   ]
  },
  {
   "cell_type": "code",
   "execution_count": null,
   "metadata": {},
   "outputs": [],
   "source": [
    "# load data\n",
    "with open('../../data/WM-clean.pkl', \"rb\") as fh:\n",
    "    raw_data = pickle.load(fh)\n",
    "\n",
    "# add index column to identify specific wafers \n",
    "raw_data.reset_index(inplace=True)\n",
    "raw_data = raw_data.rename(columns={'index':'ID', 'shape': 'dims'})\n",
    "\n",
    "# add detection model labels\n",
    "raw_data['detectLabels'] = raw_data['failureType'].apply(lambda x: 0 if x == 'none' else 1)\n",
    "\n",
    "# add classification model labels\n",
    "fail_dict = {'none': 8, 'Loc': 0, 'Edge-Loc': 1, 'Center': 2, 'Edge-Ring': 3, \n",
    "             'Scratch': 4, 'Random': 5, 'Near-full': 6, 'Donut': 7}\n",
    "raw_data['classifyLabels'] = raw_data['failureType'].apply(lambda x: fail_dict[x])\n",
    "\n",
    "# keep only test set\n",
    "test = raw_data[raw_data.dataset == 'test'].reset_index(drop=True)\n",
    "\n",
    "# remove nones\n",
    "test = test[test.failureType != 'none'].reset_index(drop=True)\n",
    "\n",
    "# collect metadata\n",
    "metadata = test[['ID', 'waferMap', 'dieSize', 'lotName', 'dims', 'failureType', 'classifyLabels']]\n",
    "print(metadata.shape)\n",
    "metadata.head()"
   ]
  },
  {
   "cell_type": "markdown",
   "metadata": {},
   "source": [
    "#### Load results from all detect models"
   ]
  },
  {
   "cell_type": "code",
   "execution_count": null,
   "metadata": {},
   "outputs": [],
   "source": [
    "with open('../results/yuclassify-paper.pkl', \"rb\") as fh:\n",
    "    paper = pickle.load(fh)\n",
    "\n",
    "with open('../results/yuclassify-paper-short.pkl', \"rb\") as fh:\n",
    "    papersh = pickle.load(fh)\n",
    "\n",
    "with open('../results/yuclassify-paper-knn.pkl', \"rb\") as fh:\n",
    "    paperknn = pickle.load(fh)\n",
    "\n",
    "with open('../results/yuclassify-224.pkl', \"rb\") as fh:\n",
    "    c224 = pickle.load(fh)\n",
    "\n",
    "with open('../results/yuclassify-224-knn.pkl', \"rb\") as fh:\n",
    "    c224knn = pickle.load(fh)\n",
    "\n",
    "with open('../results/yuclassify-224thin2.pkl', \"rb\") as fh:\n",
    "    c224thin2 = pickle.load(fh)\n",
    "\n",
    "with open('../results/yuclassify-224thin4.pkl', \"rb\") as fh:\n",
    "    c224thin4 = pickle.load(fh)   \n",
    "    \n",
    "    \n",
    "with open('../results/yuclassify-60.pkl', \"rb\") as fh:\n",
    "    c60 = pickle.load(fh)\n",
    "\n",
    "with open('../results/yuclassify-60-mfilter3.pkl', \"rb\") as fh:\n",
    "    c60m3 = pickle.load(fh)\n",
    "\n",
    "with open('../results/yuclassify-60-thin2.pkl', \"rb\") as fh:\n",
    "    c60thin2 = pickle.load(fh)\n",
    "\n",
    "dfs = [paper, papersh, paperknn, c224, c224knn, c224thin2, c224thin4, c60, c60m3, c60thin2]\n",
    "df_names = ['paper', 'papersh', 'paperknn', 'c224', 'c224knn', 'c224thin2', 'c224thin4', 'c60', 'c60m3', 'c60thin2']"
   ]
  },
  {
   "cell_type": "code",
   "execution_count": null,
   "metadata": {},
   "outputs": [],
   "source": [
    "# collect metadata and predictions in one dataframe\n",
    "analysis = metadata.copy()\n",
    "\n",
    "for df, col in zip(dfs, df_names):\n",
    "    analysis[col] = df[0].tolist()\n",
    "    \n",
    "analysis.head()"
   ]
  },
  {
   "cell_type": "markdown",
   "metadata": {},
   "source": [
    "#### Explore paper mislabeled"
   ]
  },
  {
   "cell_type": "code",
   "execution_count": null,
   "metadata": {},
   "outputs": [],
   "source": [
    "# make list of IDs of misclassified wafers\n",
    "id_lists = [paperid:=[], papershid:=[], paperknnid:=[], c224id:=[], c224knnid:=[], c224thin2id:=[], c224thin4id:=[], \n",
    "            c60id:=[], c60m3id:=[], c60thin2id:=[]]\n",
    "\n",
    "for x, y in zip(id_lists, dfs):\n",
    "    x.extend([metadata.ID[i] for i in range(len(metadata)) if y[0][i] != metadata.classifyLabels[i]])\n",
    "    print(len(x))"
   ]
  },
  {
   "cell_type": "code",
   "execution_count": null,
   "metadata": {},
   "outputs": [],
   "source": [
    "# keep only subset of paper mislabeled wafers\n",
    "paper_indices = [analysis.index[analysis.ID == i][0] for i in paperid]\n",
    "paper_miss = analysis.loc[paper_indices].reset_index(drop=True)\n",
    "len(paper_miss)"
   ]
  },
  {
   "cell_type": "code",
   "execution_count": null,
   "metadata": {},
   "outputs": [],
   "source": [
    "paper_miss.groupby('failureType')['failureType'].count().sort_values(ascending=False)"
   ]
  },
  {
   "cell_type": "code",
   "execution_count": null,
   "metadata": {},
   "outputs": [],
   "source": [
    "mistakes = [i for i in range(len(paper_miss)) if paper_miss.iloc[i].failureType == 'Loc']\n",
    "random_n = random.sample(mistakes, 9)\n",
    "helper.plot_list(paper_miss, random_n, fig_size=(5,5), col='waferMap', cmap='inferno')"
   ]
  },
  {
   "cell_type": "code",
   "execution_count": null,
   "metadata": {},
   "outputs": [],
   "source": [
    "mistakes = [i for i in range(len(paper_miss)) if paper_miss.iloc[i].failureType == 'Edge-Loc']\n",
    "random_n = random.sample(mistakes, 9)\n",
    "helper.plot_list(paper_miss, random_n, fig_size=(5,5), col='waferMap', cmap='inferno')"
   ]
  },
  {
   "cell_type": "code",
   "execution_count": null,
   "metadata": {},
   "outputs": [],
   "source": [
    "mistakes = [i for i in range(len(paper_miss)) if paper_miss.iloc[i].failureType == 'Random']\n",
    "random_n = random.sample(mistakes, 9)\n",
    "helper.plot_list(paper_miss, random_n, fig_size=(5,5), col='waferMap', cmap='inferno')"
   ]
  },
  {
   "cell_type": "code",
   "execution_count": null,
   "metadata": {},
   "outputs": [],
   "source": [
    "mistakes = [i for i in range(len(paper_miss)) if paper_miss.iloc[i].failureType == 'Scratch']\n",
    "random_n = random.sample(mistakes, 9)\n",
    "helper.plot_list(paper_miss, random_n, fig_size=(5,5), col='waferMap', cmap='inferno')"
   ]
  },
  {
   "cell_type": "code",
   "execution_count": null,
   "metadata": {},
   "outputs": [],
   "source": [
    "paper_miss.groupby(['classifyLabels', 'paper'])['failureType'].count().sort_values(ascending=False)"
   ]
  },
  {
   "cell_type": "code",
   "execution_count": null,
   "metadata": {},
   "outputs": [],
   "source": [
    "paper_miss.groupby('paper')['failureType'].count().sort_values(ascending=False)"
   ]
  },
  {
   "cell_type": "markdown",
   "metadata": {},
   "source": [
    "#### Unfiltered"
   ]
  },
  {
   "cell_type": "code",
   "execution_count": null,
   "metadata": {},
   "outputs": [],
   "source": [
    "# keep only subset of unfiltered mislabeled wafers\n",
    "c224_indices = [analysis.index[analysis.ID == i][0] for i in c224id]\n",
    "c224_miss = analysis.loc[c224_indices].reset_index(drop=True)\n",
    "len(c224_miss)"
   ]
  },
  {
   "cell_type": "code",
   "execution_count": null,
   "metadata": {},
   "outputs": [],
   "source": [
    "c224_miss.groupby('failureType')['failureType'].count().sort_values(ascending=False)"
   ]
  },
  {
   "cell_type": "code",
   "execution_count": null,
   "metadata": {},
   "outputs": [],
   "source": [
    "mistakes = [i for i in range(len(c224_miss)) if c224_miss.iloc[i].failureType == 'Edge-Loc']\n",
    "random_n = random.sample(mistakes, 9)\n",
    "helper.plot_list(c224_miss, random_n, fig_size=(5,5), col='waferMap', cmap='inferno')"
   ]
  },
  {
   "cell_type": "code",
   "execution_count": null,
   "metadata": {},
   "outputs": [],
   "source": [
    "mistakes = [i for i in range(len(c224_miss)) if c224_miss.iloc[i].failureType == 'Loc']\n",
    "random_n = random.sample(mistakes, 9)\n",
    "helper.plot_list(c224_miss, random_n, fig_size=(5,5), col='waferMap', cmap='inferno')"
   ]
  },
  {
   "cell_type": "code",
   "execution_count": null,
   "metadata": {},
   "outputs": [],
   "source": [
    "mistakes = [i for i in range(len(c224_miss)) if c224_miss.iloc[i].failureType == 'Random']\n",
    "random_n = random.sample(mistakes, 9)\n",
    "helper.plot_list(c224_miss, random_n, fig_size=(5,5), col='waferMap', cmap='inferno')"
   ]
  },
  {
   "cell_type": "code",
   "execution_count": null,
   "metadata": {},
   "outputs": [],
   "source": [
    "mistakes = [i for i in range(len(c224_miss)) if c224_miss.iloc[i].failureType == 'Scratch']\n",
    "random_n = random.sample(mistakes, 9)\n",
    "helper.plot_list(c224_miss, random_n, fig_size=(5,5), col='waferMap', cmap='inferno')"
   ]
  },
  {
   "cell_type": "code",
   "execution_count": null,
   "metadata": {},
   "outputs": [],
   "source": [
    "c224_miss.groupby(['classifyLabels', 'c224'])['failureType'].count().sort_values(ascending=False)"
   ]
  },
  {
   "cell_type": "code",
   "execution_count": null,
   "metadata": {},
   "outputs": [],
   "source": [
    "c224_miss.groupby('c224')['failureType'].count().sort_values(ascending=False)"
   ]
  },
  {
   "cell_type": "markdown",
   "metadata": {},
   "source": [
    "#### Most mislabeled"
   ]
  },
  {
   "cell_type": "code",
   "execution_count": null,
   "metadata": {},
   "outputs": [],
   "source": [
    "# apply intersect1d to (a list of) multiple lists:\n",
    "intersection = reduce(np.intersect1d, id_lists[:6])\n",
    "len(intersection)"
   ]
  },
  {
   "cell_type": "code",
   "execution_count": null,
   "metadata": {},
   "outputs": [],
   "source": [
    "# keep only subset of most mislabeled wafers\n",
    "miss_indices = [analysis.index[analysis.ID == i][0] for i in intersection]\n",
    "misclassified = analysis.loc[miss_indices].reset_index(drop=True)\n",
    "len(misclassified)"
   ]
  },
  {
   "cell_type": "code",
   "execution_count": null,
   "metadata": {},
   "outputs": [],
   "source": [
    "misclassified.groupby('failureType')['failureType'].count().sort_values(ascending=False)"
   ]
  },
  {
   "cell_type": "code",
   "execution_count": null,
   "metadata": {},
   "outputs": [],
   "source": [
    "mistakes = [i for i in range(len(misclassified)) if misclassified.iloc[i].failureType == 'Loc']\n",
    "random_n = random.sample(mistakes, 9)\n",
    "helper.plot_list(misclassified, random_n, fig_size=(5,5), col='waferMap', cmap='inferno')"
   ]
  },
  {
   "cell_type": "code",
   "execution_count": null,
   "metadata": {},
   "outputs": [],
   "source": [
    "mistakes = [i for i in range(len(misclassified)) if misclassified.iloc[i].failureType == 'Edge-Loc']\n",
    "random_n = random.sample(mistakes, 9)\n",
    "helper.plot_list(misclassified, random_n, fig_size=(5,5), col='waferMap', cmap='inferno')"
   ]
  },
  {
   "cell_type": "code",
   "execution_count": null,
   "metadata": {},
   "outputs": [],
   "source": [
    "mistakes = [i for i in range(len(misclassified)) if misclassified.iloc[i].failureType == 'Scratch']\n",
    "random_n = random.sample(mistakes, 8)\n",
    "helper.plot_list(misclassified, random_n, fig_size=(5,5), col='waferMap', cmap='inferno')"
   ]
  },
  {
   "cell_type": "code",
   "execution_count": null,
   "metadata": {},
   "outputs": [],
   "source": [
    "mistakes = [i for i in range(len(misclassified)) if misclassified.iloc[i].failureType == 'Random']\n",
    "random_n = random.sample(mistakes, 7)\n",
    "helper.plot_list(misclassified, random_n, fig_size=(5,5), col='waferMap', cmap='inferno')"
   ]
  },
  {
   "cell_type": "code",
   "execution_count": null,
   "metadata": {},
   "outputs": [],
   "source": [
    "misclassified.groupby(['classifyLabels', 'paper'])['failureType'].count().sort_values(ascending=False)"
   ]
  },
  {
   "cell_type": "code",
   "execution_count": null,
   "metadata": {},
   "outputs": [],
   "source": [
    "misclassified.groupby('paper')['failureType'].count().sort_values(ascending=False)"
   ]
  },
  {
   "cell_type": "code",
   "execution_count": null,
   "metadata": {},
   "outputs": [],
   "source": []
  }
 ],
 "metadata": {
  "kernelspec": {
   "display_name": "Python 3",
   "language": "python",
   "name": "python3"
  },
  "language_info": {
   "codemirror_mode": {
    "name": "ipython",
    "version": 3
   },
   "file_extension": ".py",
   "mimetype": "text/x-python",
   "name": "python",
   "nbconvert_exporter": "python",
   "pygments_lexer": "ipython3",
   "version": "3.8.3"
  }
 },
 "nbformat": 4,
 "nbformat_minor": 4
}
