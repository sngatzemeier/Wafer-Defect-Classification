{
 "cells": [
  {
   "cell_type": "code",
   "execution_count": 1,
   "metadata": {},
   "outputs": [],
   "source": [
    "# import libraries\n",
    "import os\n",
    "import time\n",
    "import math\n",
    "import random\n",
    "import numpy as np\n",
    "import pandas as pd\n",
    "import matplotlib.pyplot as plt\n",
    "import pickle5 as pickle\n",
    "from functools import reduce\n",
    "\n",
    "import helpers as helper"
   ]
  },
  {
   "cell_type": "code",
   "execution_count": 2,
   "metadata": {},
   "outputs": [],
   "source": [
    "def plot_list(df1, wafer_list, fig_size=(10, 10), col='waferMap', cmap='viridis', mode='index'):\n",
    "    \"\"\"\n",
    "    Helper function to plot a list of indices from df1.\n",
    "    Lists must have >= 2 samples.\n",
    "    \n",
    "    :param wafer_list: -> list | list of indices or ids to be plotted\n",
    "    :param fig_size: -> tuple | size of plot\n",
    "    :param col: -> str | column that contains waferMap image\n",
    "    :param cmap: -> str | color scheme to use\n",
    "    :param mode: -> str | 'index' or 'id'\n",
    "    \"\"\"\n",
    "    fail_dict = {8:'none', 0:'Loc', 1:'Edge-Loc', 2:'Center', 3:'Edge-Ring', \n",
    "             4:'Scratch', 5:'Random', 6:'Near-full', 7:'Donut'}\n",
    "\n",
    "    if mode == 'index':\n",
    "        index_list = wafer_list\n",
    "    elif mode == 'id':\n",
    "        index_list = [df1.index[df1.ID == i][0] for i in wafer_list]\n",
    "    \n",
    "    list_df = df1.loc[index_list, :]\n",
    "    list_df.reset_index(inplace=True)\n",
    "\n",
    "    total_rows = len(list_df.index)\n",
    "    ax_cnt = int(math.ceil(total_rows**(1/2)))\n",
    "\n",
    "\n",
    "    fig, axs = plt.subplots(ax_cnt, ax_cnt, figsize=fig_size)\n",
    "    fig.tight_layout()\n",
    "\n",
    "    # Nested for loops to loop through all digits and number of examples input for plotting\n",
    "    for n_row in range(ax_cnt**2):\n",
    "        if n_row < total_rows:\n",
    "            img = list_df[col][n_row]\n",
    "            index = list_df[\"ID\"][n_row]\n",
    "            ftype = list_df.failureType[n_row]\n",
    "            pred = fail_dict[list_df.paper[n_row]]\n",
    "                \n",
    "        else:\n",
    "            img = np.zeros_like(list_df[col][0])\n",
    "            index = ''\n",
    "            ftype = ''\n",
    "\n",
    "        # imshow to plot image in axs i,j location in plot\n",
    "        i = n_row % ax_cnt\n",
    "        j = int(n_row/ax_cnt)\n",
    "        axs[i, j].imshow(img,\n",
    "                         interpolation='none',\n",
    "                         cmap=cmap)\n",
    "        axs[i, j].axis('off')\n",
    "\n",
    "        # label the figure with the index# and defect classification [for future reference]\n",
    "        axs[i, j].set_title(f'{index}: {ftype}\\n({pred})', fontsize=10)\n",
    "\n",
    "    plt.show()"
   ]
  },
  {
   "cell_type": "markdown",
   "metadata": {},
   "source": [
    "#### Metadata from raw data file"
   ]
  },
  {
   "cell_type": "code",
   "execution_count": 3,
   "metadata": {},
   "outputs": [
    {
     "name": "stdout",
     "output_type": "stream",
     "text": [
      "(25943, 7)\n"
     ]
    },
    {
     "data": {
      "text/html": [
       "<div>\n",
       "<style scoped>\n",
       "    .dataframe tbody tr th:only-of-type {\n",
       "        vertical-align: middle;\n",
       "    }\n",
       "\n",
       "    .dataframe tbody tr th {\n",
       "        vertical-align: top;\n",
       "    }\n",
       "\n",
       "    .dataframe thead th {\n",
       "        text-align: right;\n",
       "    }\n",
       "</style>\n",
       "<table border=\"1\" class=\"dataframe\">\n",
       "  <thead>\n",
       "    <tr style=\"text-align: right;\">\n",
       "      <th></th>\n",
       "      <th>ID</th>\n",
       "      <th>waferMap</th>\n",
       "      <th>dieSize</th>\n",
       "      <th>lotName</th>\n",
       "      <th>dims</th>\n",
       "      <th>failureType</th>\n",
       "      <th>classifyLabels</th>\n",
       "    </tr>\n",
       "  </thead>\n",
       "  <tbody>\n",
       "    <tr>\n",
       "      <th>0</th>\n",
       "      <td>1</td>\n",
       "      <td>[[0, 0, 0, 0, 0, 0, 0, 0, 0, 0, 0, 0, 0, 0, 0,...</td>\n",
       "      <td>1683.0</td>\n",
       "      <td>lot1</td>\n",
       "      <td>(45, 48)</td>\n",
       "      <td>none</td>\n",
       "      <td>8</td>\n",
       "    </tr>\n",
       "    <tr>\n",
       "      <th>1</th>\n",
       "      <td>2</td>\n",
       "      <td>[[0, 0, 0, 0, 0, 0, 0, 0, 0, 0, 0, 0, 0, 0, 0,...</td>\n",
       "      <td>1683.0</td>\n",
       "      <td>lot1</td>\n",
       "      <td>(45, 48)</td>\n",
       "      <td>none</td>\n",
       "      <td>8</td>\n",
       "    </tr>\n",
       "    <tr>\n",
       "      <th>2</th>\n",
       "      <td>5</td>\n",
       "      <td>[[0, 0, 0, 0, 0, 0, 0, 0, 0, 0, 0, 0, 0, 0, 0,...</td>\n",
       "      <td>1683.0</td>\n",
       "      <td>lot1</td>\n",
       "      <td>(45, 48)</td>\n",
       "      <td>none</td>\n",
       "      <td>8</td>\n",
       "    </tr>\n",
       "    <tr>\n",
       "      <th>3</th>\n",
       "      <td>10</td>\n",
       "      <td>[[0, 0, 0, 0, 0, 0, 0, 0, 0, 0, 0, 0, 0, 0, 0,...</td>\n",
       "      <td>1683.0</td>\n",
       "      <td>lot1</td>\n",
       "      <td>(45, 48)</td>\n",
       "      <td>none</td>\n",
       "      <td>8</td>\n",
       "    </tr>\n",
       "    <tr>\n",
       "      <th>4</th>\n",
       "      <td>11</td>\n",
       "      <td>[[0, 0, 0, 0, 0, 0, 0, 0, 0, 0, 0, 0, 0, 0, 0,...</td>\n",
       "      <td>1683.0</td>\n",
       "      <td>lot1</td>\n",
       "      <td>(45, 48)</td>\n",
       "      <td>none</td>\n",
       "      <td>8</td>\n",
       "    </tr>\n",
       "  </tbody>\n",
       "</table>\n",
       "</div>"
      ],
      "text/plain": [
       "   ID                                           waferMap  dieSize lotName  \\\n",
       "0   1  [[0, 0, 0, 0, 0, 0, 0, 0, 0, 0, 0, 0, 0, 0, 0,...   1683.0    lot1   \n",
       "1   2  [[0, 0, 0, 0, 0, 0, 0, 0, 0, 0, 0, 0, 0, 0, 0,...   1683.0    lot1   \n",
       "2   5  [[0, 0, 0, 0, 0, 0, 0, 0, 0, 0, 0, 0, 0, 0, 0,...   1683.0    lot1   \n",
       "3  10  [[0, 0, 0, 0, 0, 0, 0, 0, 0, 0, 0, 0, 0, 0, 0,...   1683.0    lot1   \n",
       "4  11  [[0, 0, 0, 0, 0, 0, 0, 0, 0, 0, 0, 0, 0, 0, 0,...   1683.0    lot1   \n",
       "\n",
       "       dims failureType  classifyLabels  \n",
       "0  (45, 48)        none               8  \n",
       "1  (45, 48)        none               8  \n",
       "2  (45, 48)        none               8  \n",
       "3  (45, 48)        none               8  \n",
       "4  (45, 48)        none               8  "
      ]
     },
     "execution_count": 3,
     "metadata": {},
     "output_type": "execute_result"
    }
   ],
   "source": [
    "# load data\n",
    "with open('../../data/WM-clean.pkl', \"rb\") as fh:\n",
    "    raw_data = pickle.load(fh)\n",
    "\n",
    "# add index column to identify specific wafers \n",
    "raw_data.reset_index(inplace=True)\n",
    "raw_data = raw_data.rename(columns={'index':'ID', 'shape': 'dims'})\n",
    "\n",
    "# add detection model labels\n",
    "raw_data['detectLabels'] = raw_data['failureType'].apply(lambda x: 0 if x == 'none' else 1)\n",
    "\n",
    "# add classification model labels\n",
    "fail_dict = {'none': 8, 'Loc': 0, 'Edge-Loc': 1, 'Center': 2, 'Edge-Ring': 3, \n",
    "             'Scratch': 4, 'Random': 5, 'Near-full': 6, 'Donut': 7}\n",
    "raw_data['classifyLabels'] = raw_data['failureType'].apply(lambda x: fail_dict[x])\n",
    "\n",
    "# keep only test set\n",
    "test = raw_data[raw_data.dataset == 'test'].reset_index(drop=True)\n",
    "\n",
    "# collect metadata\n",
    "metadata = test[['ID', 'waferMap', 'dieSize', 'lotName', 'dims', 'failureType', 'classifyLabels']]\n",
    "print(metadata.shape)\n",
    "metadata.head()"
   ]
  },
  {
   "cell_type": "markdown",
   "metadata": {},
   "source": [
    "#### Load results from all detect models"
   ]
  },
  {
   "cell_type": "code",
   "execution_count": 4,
   "metadata": {},
   "outputs": [],
   "source": [
    "with open('../results/yutandem-paper.pkl', \"rb\") as fh:\n",
    "    paper = pickle.load(fh)\n",
    "\n",
    "with open('../results/yutandem-224.pkl', \"rb\") as fh:\n",
    "    t224 = pickle.load(fh)\n",
    "\n",
    "with open('../results/yutandem-224-thin2.pkl', \"rb\") as fh:\n",
    "    t224thin2 = pickle.load(fh)\n",
    "\n",
    "with open('../results/yutandem-best.pkl', \"rb\") as fh:\n",
    "    t224best = pickle.load(fh)   \n",
    "    \n",
    "    \n",
    "with open('../results/yutandem-60.pkl', \"rb\") as fh:\n",
    "    t60 = pickle.load(fh)\n",
    "\n",
    "with open('../results/yutandem-60-mfilter3.pkl', \"rb\") as fh:\n",
    "    t60m3 = pickle.load(fh)\n",
    "\n",
    "with open('../results/yutandem-60-thin2.pkl', \"rb\") as fh:\n",
    "    t60thin2 = pickle.load(fh)\n",
    "    \n",
    "\n",
    "with open('../results/googlenet-all60.pkl', \"rb\") as fh:\n",
    "    gn60 = pickle.load(fh)\n",
    "\n",
    "with open('../results/googlenet-all60-mfilter3.pkl', \"rb\") as fh:\n",
    "    gn60m3 = pickle.load(fh)\n",
    "\n",
    "with open('../results/googlenet-all60-thin2.pkl', \"rb\") as fh:\n",
    "    gn60thin2 = pickle.load(fh)\n",
    "\n",
    "\n",
    "dfs = [paper[3], t224[3], t224thin2[3], t224best[3], t60[3], t60m3[3], t60thin2[3], gn60[0], gn60m3[0], gn60thin2[0]]\n",
    "df_names = ['paper', 't224', 't224thin2', 't224best', 't60', 't60m3', 't60thin2', 'gn60', 'gn60m3', 'gn60thin2']"
   ]
  },
  {
   "cell_type": "code",
   "execution_count": 5,
   "metadata": {},
   "outputs": [
    {
     "data": {
      "text/html": [
       "<div>\n",
       "<style scoped>\n",
       "    .dataframe tbody tr th:only-of-type {\n",
       "        vertical-align: middle;\n",
       "    }\n",
       "\n",
       "    .dataframe tbody tr th {\n",
       "        vertical-align: top;\n",
       "    }\n",
       "\n",
       "    .dataframe thead th {\n",
       "        text-align: right;\n",
       "    }\n",
       "</style>\n",
       "<table border=\"1\" class=\"dataframe\">\n",
       "  <thead>\n",
       "    <tr style=\"text-align: right;\">\n",
       "      <th></th>\n",
       "      <th>ID</th>\n",
       "      <th>waferMap</th>\n",
       "      <th>dieSize</th>\n",
       "      <th>lotName</th>\n",
       "      <th>dims</th>\n",
       "      <th>failureType</th>\n",
       "      <th>classifyLabels</th>\n",
       "      <th>paper</th>\n",
       "      <th>t224</th>\n",
       "      <th>t224thin2</th>\n",
       "      <th>t224best</th>\n",
       "      <th>t60</th>\n",
       "      <th>t60m3</th>\n",
       "      <th>t60thin2</th>\n",
       "      <th>gn60</th>\n",
       "      <th>gn60m3</th>\n",
       "      <th>gn60thin2</th>\n",
       "    </tr>\n",
       "  </thead>\n",
       "  <tbody>\n",
       "    <tr>\n",
       "      <th>0</th>\n",
       "      <td>1</td>\n",
       "      <td>[[0, 0, 0, 0, 0, 0, 0, 0, 0, 0, 0, 0, 0, 0, 0,...</td>\n",
       "      <td>1683.0</td>\n",
       "      <td>lot1</td>\n",
       "      <td>(45, 48)</td>\n",
       "      <td>none</td>\n",
       "      <td>8</td>\n",
       "      <td>8</td>\n",
       "      <td>8</td>\n",
       "      <td>8</td>\n",
       "      <td>8</td>\n",
       "      <td>8</td>\n",
       "      <td>8</td>\n",
       "      <td>8</td>\n",
       "      <td>8</td>\n",
       "      <td>8</td>\n",
       "      <td>8</td>\n",
       "    </tr>\n",
       "    <tr>\n",
       "      <th>1</th>\n",
       "      <td>2</td>\n",
       "      <td>[[0, 0, 0, 0, 0, 0, 0, 0, 0, 0, 0, 0, 0, 0, 0,...</td>\n",
       "      <td>1683.0</td>\n",
       "      <td>lot1</td>\n",
       "      <td>(45, 48)</td>\n",
       "      <td>none</td>\n",
       "      <td>8</td>\n",
       "      <td>8</td>\n",
       "      <td>8</td>\n",
       "      <td>8</td>\n",
       "      <td>8</td>\n",
       "      <td>8</td>\n",
       "      <td>8</td>\n",
       "      <td>8</td>\n",
       "      <td>8</td>\n",
       "      <td>8</td>\n",
       "      <td>8</td>\n",
       "    </tr>\n",
       "    <tr>\n",
       "      <th>2</th>\n",
       "      <td>5</td>\n",
       "      <td>[[0, 0, 0, 0, 0, 0, 0, 0, 0, 0, 0, 0, 0, 0, 0,...</td>\n",
       "      <td>1683.0</td>\n",
       "      <td>lot1</td>\n",
       "      <td>(45, 48)</td>\n",
       "      <td>none</td>\n",
       "      <td>8</td>\n",
       "      <td>8</td>\n",
       "      <td>8</td>\n",
       "      <td>8</td>\n",
       "      <td>8</td>\n",
       "      <td>8</td>\n",
       "      <td>8</td>\n",
       "      <td>8</td>\n",
       "      <td>8</td>\n",
       "      <td>8</td>\n",
       "      <td>8</td>\n",
       "    </tr>\n",
       "    <tr>\n",
       "      <th>3</th>\n",
       "      <td>10</td>\n",
       "      <td>[[0, 0, 0, 0, 0, 0, 0, 0, 0, 0, 0, 0, 0, 0, 0,...</td>\n",
       "      <td>1683.0</td>\n",
       "      <td>lot1</td>\n",
       "      <td>(45, 48)</td>\n",
       "      <td>none</td>\n",
       "      <td>8</td>\n",
       "      <td>8</td>\n",
       "      <td>8</td>\n",
       "      <td>8</td>\n",
       "      <td>8</td>\n",
       "      <td>8</td>\n",
       "      <td>8</td>\n",
       "      <td>8</td>\n",
       "      <td>8</td>\n",
       "      <td>8</td>\n",
       "      <td>8</td>\n",
       "    </tr>\n",
       "    <tr>\n",
       "      <th>4</th>\n",
       "      <td>11</td>\n",
       "      <td>[[0, 0, 0, 0, 0, 0, 0, 0, 0, 0, 0, 0, 0, 0, 0,...</td>\n",
       "      <td>1683.0</td>\n",
       "      <td>lot1</td>\n",
       "      <td>(45, 48)</td>\n",
       "      <td>none</td>\n",
       "      <td>8</td>\n",
       "      <td>8</td>\n",
       "      <td>8</td>\n",
       "      <td>8</td>\n",
       "      <td>8</td>\n",
       "      <td>8</td>\n",
       "      <td>8</td>\n",
       "      <td>8</td>\n",
       "      <td>0</td>\n",
       "      <td>8</td>\n",
       "      <td>8</td>\n",
       "    </tr>\n",
       "  </tbody>\n",
       "</table>\n",
       "</div>"
      ],
      "text/plain": [
       "   ID                                           waferMap  dieSize lotName  \\\n",
       "0   1  [[0, 0, 0, 0, 0, 0, 0, 0, 0, 0, 0, 0, 0, 0, 0,...   1683.0    lot1   \n",
       "1   2  [[0, 0, 0, 0, 0, 0, 0, 0, 0, 0, 0, 0, 0, 0, 0,...   1683.0    lot1   \n",
       "2   5  [[0, 0, 0, 0, 0, 0, 0, 0, 0, 0, 0, 0, 0, 0, 0,...   1683.0    lot1   \n",
       "3  10  [[0, 0, 0, 0, 0, 0, 0, 0, 0, 0, 0, 0, 0, 0, 0,...   1683.0    lot1   \n",
       "4  11  [[0, 0, 0, 0, 0, 0, 0, 0, 0, 0, 0, 0, 0, 0, 0,...   1683.0    lot1   \n",
       "\n",
       "       dims failureType  classifyLabels  paper  t224  t224thin2  t224best  \\\n",
       "0  (45, 48)        none               8      8     8          8         8   \n",
       "1  (45, 48)        none               8      8     8          8         8   \n",
       "2  (45, 48)        none               8      8     8          8         8   \n",
       "3  (45, 48)        none               8      8     8          8         8   \n",
       "4  (45, 48)        none               8      8     8          8         8   \n",
       "\n",
       "   t60  t60m3  t60thin2  gn60  gn60m3  gn60thin2  \n",
       "0    8      8         8     8       8          8  \n",
       "1    8      8         8     8       8          8  \n",
       "2    8      8         8     8       8          8  \n",
       "3    8      8         8     8       8          8  \n",
       "4    8      8         8     0       8          8  "
      ]
     },
     "execution_count": 5,
     "metadata": {},
     "output_type": "execute_result"
    }
   ],
   "source": [
    "# collect metadata and predictions in one dataframe\n",
    "analysis = metadata.copy()\n",
    "\n",
    "for df, col in zip(dfs, df_names):\n",
    "    analysis[col] = df\n",
    "    \n",
    "analysis.head()"
   ]
  },
  {
   "cell_type": "markdown",
   "metadata": {},
   "source": [
    "#### Explore paper mislabeled"
   ]
  },
  {
   "cell_type": "code",
   "execution_count": 6,
   "metadata": {},
   "outputs": [
    {
     "name": "stdout",
     "output_type": "stream",
     "text": [
      "750\n",
      "874\n",
      "715\n",
      "685\n",
      "1283\n",
      "1184\n",
      "1432\n",
      "921\n",
      "1082\n",
      "1742\n"
     ]
    }
   ],
   "source": [
    "# make list of IDs of misclassified wafers\n",
    "id_lists = [paperid:=[], t224id:=[], t224thin2id:=[], t224bestid:=[], \n",
    "            t60id:=[], t60m3id:=[], t60thin2id:=[], \n",
    "            gn60id:=[], gn60m3id:=[], gn60thin2id:=[]]\n",
    "\n",
    "for x, y in zip(id_lists, dfs):\n",
    "    x.extend([metadata.ID[i] for i in range(len(metadata)) if y[i] != metadata.classifyLabels[i]])\n",
    "    print(len(x))"
   ]
  },
  {
   "cell_type": "markdown",
   "metadata": {},
   "source": [
    "#### Most mislabeled by Yu 224 models"
   ]
  },
  {
   "cell_type": "code",
   "execution_count": 7,
   "metadata": {},
   "outputs": [
    {
     "data": {
      "text/plain": [
       "314"
      ]
     },
     "execution_count": 7,
     "metadata": {},
     "output_type": "execute_result"
    }
   ],
   "source": [
    "# apply intersect1d to (a list of) multiple lists:\n",
    "intersection = reduce(np.intersect1d, id_lists[:3])\n",
    "len(intersection)"
   ]
  },
  {
   "cell_type": "code",
   "execution_count": 8,
   "metadata": {},
   "outputs": [
    {
     "data": {
      "text/plain": [
       "314"
      ]
     },
     "execution_count": 8,
     "metadata": {},
     "output_type": "execute_result"
    }
   ],
   "source": [
    "# keep only subset of most mislabeled wafers\n",
    "miss_indices = [analysis.index[analysis.ID == i][0] for i in intersection]\n",
    "misclassified = analysis.loc[miss_indices].reset_index(drop=True)\n",
    "len(misclassified)"
   ]
  },
  {
   "cell_type": "code",
   "execution_count": 9,
   "metadata": {},
   "outputs": [
    {
     "data": {
      "text/plain": [
       "failureType\n",
       "none         90\n",
       "Loc          68\n",
       "Edge-Loc     55\n",
       "Scratch      42\n",
       "Center       26\n",
       "Random       17\n",
       "Edge-Ring    12\n",
       "Donut         4\n",
       "Name: failureType, dtype: int64"
      ]
     },
     "execution_count": 9,
     "metadata": {},
     "output_type": "execute_result"
    }
   ],
   "source": [
    "misclassified.groupby('failureType')['failureType'].count().sort_values(ascending=False)"
   ]
  },
  {
   "cell_type": "code",
   "execution_count": 10,
   "metadata": {},
   "outputs": [
    {
     "data": {
      "text/plain": [
       "251"
      ]
     },
     "execution_count": 10,
     "metadata": {},
     "output_type": "execute_result"
    }
   ],
   "source": [
    "same_label = [i for i in range(len(misclassified)) \n",
    "              if misclassified.paper[i] == misclassified.t224[i] \n",
    "              and misclassified.paper[i] == misclassified.t224thin2[i]]\n",
    "len(same_label)"
   ]
  },
  {
   "cell_type": "code",
   "execution_count": 11,
   "metadata": {},
   "outputs": [],
   "source": [
    "same_miss = misclassified.loc[same_label].reset_index(drop=True)"
   ]
  },
  {
   "cell_type": "code",
   "execution_count": 12,
   "metadata": {},
   "outputs": [
    {
     "data": {
      "text/plain": [
       "failureType\n",
       "none         62\n",
       "Loc          55\n",
       "Edge-Loc     49\n",
       "Scratch      35\n",
       "Center       22\n",
       "Random       13\n",
       "Edge-Ring    12\n",
       "Donut         3\n",
       "Name: failureType, dtype: int64"
      ]
     },
     "execution_count": 12,
     "metadata": {},
     "output_type": "execute_result"
    }
   ],
   "source": [
    "same_miss.groupby('failureType')['failureType'].count().sort_values(ascending=False)"
   ]
  },
  {
   "cell_type": "code",
   "execution_count": 13,
   "metadata": {},
   "outputs": [
    {
     "data": {
      "text/plain": [
       "paper\n",
       "1    29\n",
       "0    14\n",
       "3     7\n",
       "2     7\n",
       "5     2\n",
       "4     2\n",
       "7     1\n",
       "Name: paper, dtype: int64"
      ]
     },
     "execution_count": 13,
     "metadata": {},
     "output_type": "execute_result"
    }
   ],
   "source": [
    "# what are nones most misclassified as?\n",
    "same_miss[same_miss.failureType == 'none'].groupby('paper')['paper'].count().sort_values(ascending=False)"
   ]
  },
  {
   "cell_type": "code",
   "execution_count": 14,
   "metadata": {},
   "outputs": [
    {
     "data": {
      "text/plain": [
       "failureType\n",
       "Edge-Loc     36\n",
       "Scratch      33\n",
       "Loc          26\n",
       "Center       17\n",
       "Edge-Ring     8\n",
       "Name: failureType, dtype: int64"
      ]
     },
     "execution_count": 14,
     "metadata": {},
     "output_type": "execute_result"
    }
   ],
   "source": [
    "# what are most misclassified as none?\n",
    "same_miss[same_miss.paper == 8].groupby('failureType')['failureType'].count().sort_values(ascending=False)"
   ]
  },
  {
   "cell_type": "code",
   "execution_count": 15,
   "metadata": {},
   "outputs": [
    {
     "data": {
      "image/png": "[encoded data removed]",
      "text/plain": [
       "<Figure size 360x360 with 9 Axes>"
      ]
     },
     "metadata": {
      "needs_background": "light"
     },
     "output_type": "display_data"
    }
   ],
   "source": [
    "mistakes = [i for i in range(len(same_miss)) if same_miss.iloc[i].failureType == 'none']\n",
    "random_n = random.sample(mistakes, 9)\n",
    "plot_list(same_miss, random_n, fig_size=(5,5), col='waferMap', cmap='inferno')"
   ]
  },
  {
   "cell_type": "code",
   "execution_count": 22,
   "metadata": {},
   "outputs": [
    {
     "data": {
      "image/png": "[encoded data removed]",
      "text/plain": [
       "<Figure size 360x360 with 9 Axes>"
      ]
     },
     "metadata": {
      "needs_background": "light"
     },
     "output_type": "display_data"
    }
   ],
   "source": [
    "mistakes = [i for i in range(len(same_miss)) if same_miss.iloc[i].failureType == 'none']\n",
    "random_n = random.sample(mistakes, 9)\n",
    "plot_list(same_miss, random_n, fig_size=(5,5), col='waferMap', cmap='inferno')"
   ]
  },
  {
   "cell_type": "code",
   "execution_count": 23,
   "metadata": {},
   "outputs": [
    {
     "data": {
      "image/png": "[encoded data removed]",
      "text/plain": [
       "<Figure size 360x360 with 9 Axes>"
      ]
     },
     "metadata": {
      "needs_background": "light"
     },
     "output_type": "display_data"
    }
   ],
   "source": [
    "mistakes = [i for i in range(len(same_miss)) \n",
    "            if same_miss.iloc[i].failureType == 'Edge-Loc' and same_miss.iloc[i].paper == 8]\n",
    "random_n = random.sample(mistakes, 9)\n",
    "plot_list(same_miss, random_n, fig_size=(5,5), col='waferMap', cmap='inferno')"
   ]
  },
  {
   "cell_type": "code",
   "execution_count": 20,
   "metadata": {},
   "outputs": [
    {
     "data": {
      "image/png": "[encoded data removed]",
      "text/plain": [
       "<Figure size 360x360 with 9 Axes>"
      ]
     },
     "metadata": {
      "needs_background": "light"
     },
     "output_type": "display_data"
    }
   ],
   "source": [
    "mistakes = [i for i in range(len(same_miss)) \n",
    "            if same_miss.iloc[i].failureType == 'Scratch' and same_miss.iloc[i].paper == 8]\n",
    "random_n = random.sample(mistakes, 9)\n",
    "plot_list(same_miss, random_n, fig_size=(5,5), col='waferMap', cmap='inferno')"
   ]
  },
  {
   "cell_type": "code",
   "execution_count": 24,
   "metadata": {},
   "outputs": [
    {
     "data": {
      "image/png": "[encoded data removed]",
      "text/plain": [
       "<Figure size 360x360 with 9 Axes>"
      ]
     },
     "metadata": {
      "needs_background": "light"
     },
     "output_type": "display_data"
    }
   ],
   "source": [
    "mistakes = [i for i in range(len(same_miss)) \n",
    "            if same_miss.iloc[i].failureType == 'Loc' and same_miss.iloc[i].paper == 8]\n",
    "random_n = random.sample(mistakes, 9)\n",
    "plot_list(same_miss, random_n, fig_size=(5,5), col='waferMap', cmap='inferno')"
   ]
  },
  {
   "cell_type": "code",
   "execution_count": null,
   "metadata": {},
   "outputs": [],
   "source": []
  }
 ],
 "metadata": {
  "kernelspec": {
   "display_name": "Python 3",
   "language": "python",
   "name": "python3"
  },
  "language_info": {
   "codemirror_mode": {
    "name": "ipython",
    "version": 3
   },
   "file_extension": ".py",
   "mimetype": "text/x-python",
   "name": "python",
   "nbconvert_exporter": "python",
   "pygments_lexer": "ipython3",
   "version": "3.8.3"
  }
 },
 "nbformat": 4,
 "nbformat_minor": 4
}
