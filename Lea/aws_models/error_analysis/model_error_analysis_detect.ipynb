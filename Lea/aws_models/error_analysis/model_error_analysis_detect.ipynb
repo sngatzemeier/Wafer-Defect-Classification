{
 "cells": [
  {
   "cell_type": "code",
   "execution_count": null,
   "metadata": {},
   "outputs": [],
   "source": [
    "# import libraries\n",
    "import os\n",
    "import time\n",
    "import math\n",
    "import random\n",
    "import numpy as np\n",
    "import pandas as pd\n",
    "import matplotlib.pyplot as plt\n",
    "import pickle5 as pickle\n",
    "from functools import reduce\n",
    "\n",
    "import helpers as helper"
   ]
  },
  {
   "cell_type": "markdown",
   "metadata": {},
   "source": [
    "#### Metadata from raw data file"
   ]
  },
  {
   "cell_type": "code",
   "execution_count": null,
   "metadata": {},
   "outputs": [],
   "source": [
    "# load data\n",
    "with open('../../data/WM-clean.pkl', \"rb\") as fh:\n",
    "    raw_data = pickle.load(fh)\n",
    "\n",
    "# add index column to identify specific wafers \n",
    "raw_data.reset_index(inplace=True)\n",
    "raw_data = raw_data.rename(columns={'index':'ID', 'shape': 'dims'})\n",
    "\n",
    "# add detection model labels\n",
    "raw_data['detectLabels'] = raw_data['failureType'].apply(lambda x: 0 if x == 'none' else 1)\n",
    "\n",
    "# add classification model labels\n",
    "fail_dict = {'none': 8, 'Loc': 0, 'Edge-Loc': 1, 'Center': 2, 'Edge-Ring': 3, \n",
    "             'Scratch': 4, 'Random': 5, 'Near-full': 6, 'Donut': 7}\n",
    "raw_data['classifyLabels'] = raw_data['failureType'].apply(lambda x: fail_dict[x])\n",
    "\n",
    "# keep only test set\n",
    "test = raw_data[raw_data.dataset == 'test'].reset_index(drop=True)\n",
    "\n",
    "# collect metadata\n",
    "metadata = test[['ID', 'waferMap', 'dieSize', 'lotName', 'dims', 'failureType', 'detectLabels', 'classifyLabels']]\n",
    "print(metadata.shape)\n",
    "metadata.head()"
   ]
  },
  {
   "cell_type": "markdown",
   "metadata": {},
   "source": [
    "#### Load results from all detect models"
   ]
  },
  {
   "cell_type": "code",
   "execution_count": null,
   "metadata": {},
   "outputs": [],
   "source": [
    "with open('../results/yudetect-paper.pkl', \"rb\") as fh:\n",
    "    paper = pickle.load(fh)\n",
    "\n",
    "with open('../results/yudetect-224.pkl', \"rb\") as fh:\n",
    "    d224 = pickle.load(fh)\n",
    "\n",
    "with open('../results/yudetect-224-thin2.pkl', \"rb\") as fh:\n",
    "    d224thin2 = pickle.load(fh)\n",
    "\n",
    "with open('../results/yudetect-224-thin4.pkl', \"rb\") as fh:\n",
    "    d224thin4 = pickle.load(fh)\n",
    "    \n",
    "with open('../results/yudetect-60.pkl', \"rb\") as fh:\n",
    "    d60 = pickle.load(fh)\n",
    "\n",
    "with open('../results/yudetect-60-mfilter3.pkl', \"rb\") as fh:\n",
    "    d60m3 = pickle.load(fh)\n",
    "\n",
    "with open('../results/yudetect-60-thin2.pkl', \"rb\") as fh:\n",
    "    d60thin2 = pickle.load(fh)\n",
    "\n",
    "dfs = [paper, d224, d224thin2, d224thin4, d60, d60m3, d60thin2]\n",
    "df_names = ['paper', 'd224', 'd224thin2', 'd224thin4', 'd60', 'd60m3', 'd60thin2']"
   ]
  },
  {
   "cell_type": "code",
   "execution_count": null,
   "metadata": {},
   "outputs": [],
   "source": [
    "# collect metadata and predictions in one dataframe\n",
    "analysis = metadata.copy()\n",
    "\n",
    "for df, col in zip(dfs, df_names):\n",
    "    analysis[col] = df[0].tolist()\n",
    "    \n",
    "analysis.head()"
   ]
  },
  {
   "cell_type": "markdown",
   "metadata": {},
   "source": [
    "#### Explore paper mislabeled"
   ]
  },
  {
   "cell_type": "code",
   "execution_count": null,
   "metadata": {},
   "outputs": [],
   "source": [
    "# make list of IDs of misclassified wafers\n",
    "dfs = [paper, d224, d224thin2, d224thin4, d60, d60m3, d60thin2]\n",
    "id_lists = [paperid:=[], d224id:=[], d224thin2id:=[], d224thin4id:=[], d60id:=[], d60m3id:=[], d60thin2id:=[]]\n",
    "\n",
    "for x, y in zip(id_lists, dfs):\n",
    "    x.extend([metadata.ID[i] for i in range(len(metadata)) if y[0][i] != metadata.detectLabels[i]])\n",
    "    print(len(x))"
   ]
  },
  {
   "cell_type": "code",
   "execution_count": null,
   "metadata": {},
   "outputs": [],
   "source": [
    "# keep only subset of paper mislabeled wafers\n",
    "paper_indices = [analysis.index[analysis.ID == i][0] for i in paperid]\n",
    "paper_miss = analysis.loc[paper_indices].reset_index(drop=True)\n",
    "len(paper_miss)"
   ]
  },
  {
   "cell_type": "code",
   "execution_count": null,
   "metadata": {},
   "outputs": [],
   "source": [
    "paper_miss.groupby('failureType')['failureType'].count().sort_values(ascending=False)"
   ]
  },
  {
   "cell_type": "code",
   "execution_count": null,
   "metadata": {},
   "outputs": [],
   "source": [
    "mistakes = [i for i in range(len(paper_miss)) if paper_miss.iloc[i].failureType == 'none']\n",
    "random_n = random.sample(mistakes, 9)\n",
    "helper.plot_list(paper_miss, random_n, fig_size=(5,5), col='waferMap', cmap='inferno')"
   ]
  },
  {
   "cell_type": "code",
   "execution_count": null,
   "metadata": {},
   "outputs": [],
   "source": [
    "mistakes = [i for i in range(len(paper_miss)) if paper_miss.iloc[i].failureType == 'Edge-Loc']\n",
    "random_n = random.sample(mistakes, 9)\n",
    "helper.plot_list(paper_miss, random_n, fig_size=(5,5), col='waferMap', cmap='inferno')"
   ]
  },
  {
   "cell_type": "code",
   "execution_count": null,
   "metadata": {},
   "outputs": [],
   "source": [
    "mistakes = [i for i in range(len(paper_miss)) if paper_miss.iloc[i].failureType == 'Scratch']\n",
    "random_n = random.sample(mistakes, 9)\n",
    "helper.plot_list(paper_miss, random_n, fig_size=(5,5), col='waferMap', cmap='inferno')"
   ]
  },
  {
   "cell_type": "code",
   "execution_count": null,
   "metadata": {},
   "outputs": [],
   "source": [
    "mistakes = [i for i in range(len(paper_miss)) if paper_miss.iloc[i].failureType == 'Loc']\n",
    "random_n = random.sample(mistakes, 9)\n",
    "helper.plot_list(paper_miss, random_n, fig_size=(5,5), col='waferMap', cmap='inferno')"
   ]
  },
  {
   "cell_type": "markdown",
   "metadata": {},
   "source": [
    "#### Explore thinned mislabeled"
   ]
  },
  {
   "cell_type": "code",
   "execution_count": null,
   "metadata": {},
   "outputs": [],
   "source": [
    "# keep only subset of thinned mislabeled wafers\n",
    "thin_indices = [analysis.index[analysis.ID == i][0] for i in d224thin2id]\n",
    "thin_miss = analysis.loc[thin_indices].reset_index(drop=True)\n",
    "len(thin_miss)"
   ]
  },
  {
   "cell_type": "code",
   "execution_count": null,
   "metadata": {},
   "outputs": [],
   "source": [
    "thin_miss.groupby('failureType')['failureType'].count().sort_values(ascending=False)"
   ]
  },
  {
   "cell_type": "code",
   "execution_count": null,
   "metadata": {},
   "outputs": [],
   "source": [
    "mistakes = [i for i in range(len(thin_miss)) if thin_miss.iloc[i].failureType == 'none']\n",
    "random_n = random.sample(mistakes, 9)\n",
    "helper.plot_list(thin_miss, random_n, fig_size=(5,5), col='waferMap', cmap='inferno')"
   ]
  },
  {
   "cell_type": "code",
   "execution_count": null,
   "metadata": {},
   "outputs": [],
   "source": [
    "mistakes = [i for i in range(len(thin_miss)) if thin_miss.iloc[i].failureType == 'Edge-Loc']\n",
    "random_n = random.sample(mistakes, 9)\n",
    "helper.plot_list(thin_miss, random_n, fig_size=(5,5), col='waferMap', cmap='inferno')"
   ]
  },
  {
   "cell_type": "code",
   "execution_count": null,
   "metadata": {},
   "outputs": [],
   "source": [
    "mistakes = [i for i in range(len(thin_miss)) if thin_miss.iloc[i].failureType == 'Loc']\n",
    "random_n = random.sample(mistakes, 9)\n",
    "helper.plot_list(thin_miss, random_n, fig_size=(5,5), col='waferMap', cmap='inferno')"
   ]
  },
  {
   "cell_type": "code",
   "execution_count": null,
   "metadata": {},
   "outputs": [],
   "source": [
    "mistakes = [i for i in range(len(thin_miss)) if thin_miss.iloc[i].failureType == 'Scratch']\n",
    "random_n = random.sample(mistakes, 9)\n",
    "helper.plot_list(thin_miss, random_n, fig_size=(5,5), col='waferMap', cmap='inferno')"
   ]
  },
  {
   "cell_type": "markdown",
   "metadata": {},
   "source": [
    "#### Most mislabeled"
   ]
  },
  {
   "cell_type": "code",
   "execution_count": null,
   "metadata": {},
   "outputs": [],
   "source": [
    "# apply intersect1d to (a list of) multiple lists:\n",
    "intersection = reduce(np.intersect1d, id_lists[:3])\n",
    "len(intersection)"
   ]
  },
  {
   "cell_type": "code",
   "execution_count": null,
   "metadata": {},
   "outputs": [],
   "source": [
    "# keep only subset of most mislabeled wafers\n",
    "miss_indices = [analysis.index[analysis.ID == i][0] for i in intersection]\n",
    "misclassified = analysis.loc[miss_indices].reset_index(drop=True)\n",
    "len(misclassified)"
   ]
  },
  {
   "cell_type": "code",
   "execution_count": null,
   "metadata": {},
   "outputs": [],
   "source": [
    "misclassified.groupby('failureType')['failureType'].count().sort_values(ascending=False)"
   ]
  },
  {
   "cell_type": "code",
   "execution_count": null,
   "metadata": {},
   "outputs": [],
   "source": [
    "mistakes = [i for i in range(len(misclassified)) if misclassified.iloc[i].failureType == 'none']\n",
    "random_n = random.sample(mistakes, 9)\n",
    "helper.plot_list(misclassified, random_n, fig_size=(5,5), col='waferMap', cmap='inferno')"
   ]
  },
  {
   "cell_type": "code",
   "execution_count": null,
   "metadata": {},
   "outputs": [],
   "source": [
    "mistakes = [i for i in range(len(misclassified)) if misclassified.iloc[i].failureType == 'Loc']\n",
    "random_n = random.sample(mistakes, 9)\n",
    "helper.plot_list(misclassified, random_n, fig_size=(5,5), col='waferMap', cmap='inferno')"
   ]
  },
  {
   "cell_type": "code",
   "execution_count": null,
   "metadata": {},
   "outputs": [],
   "source": [
    "mistakes = [i for i in range(len(misclassified)) if misclassified.iloc[i].failureType == 'Edge-Loc']\n",
    "random_n = random.sample(mistakes, 9)\n",
    "helper.plot_list(misclassified, random_n, fig_size=(5,5), col='waferMap', cmap='inferno')"
   ]
  },
  {
   "cell_type": "code",
   "execution_count": null,
   "metadata": {},
   "outputs": [],
   "source": [
    "mistakes = [i for i in range(len(misclassified)) if misclassified.iloc[i].failureType == 'Scratch']\n",
    "random_n = random.sample(mistakes, 9)\n",
    "helper.plot_list(misclassified, random_n, fig_size=(5,5), col='waferMap', cmap='inferno')"
   ]
  },
  {
   "cell_type": "code",
   "execution_count": null,
   "metadata": {},
   "outputs": [],
   "source": []
  }
 ],
 "metadata": {
  "kernelspec": {
   "display_name": "Python 3",
   "language": "python",
   "name": "python3"
  },
  "language_info": {
   "codemirror_mode": {
    "name": "ipython",
    "version": 3
   },
   "file_extension": ".py",
   "mimetype": "text/x-python",
   "name": "python",
   "nbconvert_exporter": "python",
   "pygments_lexer": "ipython3",
   "version": "3.8.3"
  }
 },
 "nbformat": 4,
 "nbformat_minor": 4
}
