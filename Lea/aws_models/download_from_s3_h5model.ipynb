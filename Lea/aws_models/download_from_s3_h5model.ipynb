{
 "cells": [
  {
   "cell_type": "code",
   "execution_count": 5,
   "id": "01cb970d",
   "metadata": {},
   "outputs": [],
   "source": [
    "import boto3, os\n",
    "from sagemaker import get_execution_role\n",
    "\n",
    "role = get_execution_role()\n",
    "bucket = 'wafer-capstone'\n",
    "subfolder = 'models'\n",
    "\n",
    "conn = boto3.client('s3')\n",
    "contents = conn.list_objects(Bucket=bucket, Prefix=subfolder)['Contents']\n",
    "#contents = conn.list_objects(Bucket=bucket)['Contents']\n",
    "# for i, f in enumerate(contents):\n",
    "#     print(i, ' - ',f['Key'])"
   ]
  },
  {
   "cell_type": "code",
   "execution_count": 8,
   "id": "015c6a80",
   "metadata": {},
   "outputs": [
    {
     "name": "stdout",
     "output_type": "stream",
     "text": [
      "Copy - models/vit-b16-224-undersampled.h5\n",
      "Dest - vit-b16-224-undersampled.h5\n"
     ]
    }
   ],
   "source": [
    "fn = 'vit-b16-224-undersampled.h5'\n",
    "orig_file = f'{subfolder}/{fn}'\n",
    "dest_file = f'{fn}'\n",
    "\n",
    "print(f'Copy - {orig_file}\\nDest - {dest_file}')"
   ]
  },
  {
   "cell_type": "code",
   "execution_count": 9,
   "id": "c9f0882f",
   "metadata": {},
   "outputs": [],
   "source": [
    "# Connect to S3 bucket and download file\n",
    "s3 = boto3.resource('s3')\n",
    "s3.Bucket(bucket).download_file(orig_file, dest_file)"
   ]
  },
  {
   "cell_type": "code",
   "execution_count": null,
   "id": "2506e9fc",
   "metadata": {},
   "outputs": [],
   "source": []
  },
  {
   "cell_type": "code",
   "execution_count": null,
   "id": "15f3889b",
   "metadata": {},
   "outputs": [],
   "source": [
    "os.listdir()"
   ]
  }
 ],
 "metadata": {
  "kernelspec": {
   "display_name": "conda_amazonei_tensorflow2_p36",
   "language": "python",
   "name": "conda_amazonei_tensorflow2_p36"
  },
  "language_info": {
   "codemirror_mode": {
    "name": "ipython",
    "version": 3
   },
   "file_extension": ".py",
   "mimetype": "text/x-python",
   "name": "python",
   "nbconvert_exporter": "python",
   "pygments_lexer": "ipython3",
   "version": "3.6.13"
  }
 },
 "nbformat": 4,
 "nbformat_minor": 5
}
