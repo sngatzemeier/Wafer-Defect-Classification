{
 "cells": [
  {
   "cell_type": "markdown",
   "id": "abddc8bd",
   "metadata": {},
   "source": [
    "#### Confusion Matrix for Combined Defects"
   ]
  },
  {
   "cell_type": "code",
   "execution_count": null,
   "id": "ecd14949",
   "metadata": {},
   "outputs": [],
   "source": [
    "# !pip install pickle5"
   ]
  },
  {
   "cell_type": "code",
   "execution_count": 1,
   "id": "5dec93ac",
   "metadata": {},
   "outputs": [],
   "source": [
    "import numpy as np\n",
    "import pandas as pd\n",
    "\n",
    "import matplotlib.pyplot as plt\n",
    "from sklearn.metrics import confusion_matrix\n",
    "import seaborn as sns\n",
    "\n",
    "import boto3\n",
    "import pickle5 as pickle\n",
    "s3 = boto3.resource('s3')\n",
    "bucket_name = 'wafer-capstone'\n",
    "my_bucket = s3.Bucket(bucket_name)"
   ]
  },
  {
   "cell_type": "code",
   "execution_count": 2,
   "id": "21503be1",
   "metadata": {},
   "outputs": [
    {
     "name": "stdout",
     "output_type": "stream",
     "text": [
      "Test: 8015\n"
     ]
    }
   ],
   "source": [
    "# load test set(s) to be used\n",
    "# directly from S3 (using boto3 resource)\n",
    "test_key = f'processed_data/customer/MixedWM38-single.pkl'\n",
    "test = pickle.loads(my_bucket.Object(test_key).get()['Body'].read())\n",
    "#test = test.drop(['thinMap2', 'detectLabels'], axis=1)\n",
    "test = test[['ID', 'classifyLabels']]\n",
    "print(f\"Test: {len(test)}\")"
   ]
  },
  {
   "cell_type": "code",
   "execution_count": 4,
   "id": "737653d0",
   "metadata": {},
   "outputs": [
    {
     "data": {
      "text/html": [
       "<div>\n",
       "<style scoped>\n",
       "    .dataframe tbody tr th:only-of-type {\n",
       "        vertical-align: middle;\n",
       "    }\n",
       "\n",
       "    .dataframe tbody tr th {\n",
       "        vertical-align: top;\n",
       "    }\n",
       "\n",
       "    .dataframe thead th {\n",
       "        text-align: right;\n",
       "    }\n",
       "</style>\n",
       "<table border=\"1\" class=\"dataframe\">\n",
       "  <thead>\n",
       "    <tr style=\"text-align: right;\">\n",
       "      <th></th>\n",
       "      <th>ID</th>\n",
       "      <th>classifyLabels</th>\n",
       "      <th>y_pred</th>\n",
       "    </tr>\n",
       "  </thead>\n",
       "  <tbody>\n",
       "    <tr>\n",
       "      <th>0</th>\n",
       "      <td>0</td>\n",
       "      <td>2</td>\n",
       "      <td>0</td>\n",
       "    </tr>\n",
       "    <tr>\n",
       "      <th>1</th>\n",
       "      <td>1</td>\n",
       "      <td>2</td>\n",
       "      <td>2</td>\n",
       "    </tr>\n",
       "    <tr>\n",
       "      <th>2</th>\n",
       "      <td>2</td>\n",
       "      <td>2</td>\n",
       "      <td>0</td>\n",
       "    </tr>\n",
       "    <tr>\n",
       "      <th>3</th>\n",
       "      <td>3</td>\n",
       "      <td>2</td>\n",
       "      <td>2</td>\n",
       "    </tr>\n",
       "    <tr>\n",
       "      <th>4</th>\n",
       "      <td>4</td>\n",
       "      <td>2</td>\n",
       "      <td>2</td>\n",
       "    </tr>\n",
       "  </tbody>\n",
       "</table>\n",
       "</div>"
      ],
      "text/plain": [
       "   ID  classifyLabels  y_pred\n",
       "0   0               2       0\n",
       "1   1               2       2\n",
       "2   2               2       0\n",
       "3   3               2       2\n",
       "4   4               2       2"
      ]
     },
     "execution_count": 4,
     "metadata": {},
     "output_type": "execute_result"
    }
   ],
   "source": [
    "# load model results\n",
    "with open('../results_yureruns/yuclassify-all-224thin2-mixedwm38-single.pkl', \"rb\") as fh:\n",
    "    predictions = pickle.load(fh)\n",
    "y_pred = predictions[1]\n",
    "# print(len(y_pred))\n",
    "test['y_pred'] = y_pred\n",
    "test.head()"
   ]
  },
  {
   "cell_type": "code",
   "execution_count": 11,
   "id": "dd905a2f",
   "metadata": {},
   "outputs": [
    {
     "data": {
      "text/html": [
       "<div>\n",
       "<style scoped>\n",
       "    .dataframe tbody tr th:only-of-type {\n",
       "        vertical-align: middle;\n",
       "    }\n",
       "\n",
       "    .dataframe tbody tr th {\n",
       "        vertical-align: top;\n",
       "    }\n",
       "\n",
       "    .dataframe thead th {\n",
       "        text-align: right;\n",
       "    }\n",
       "</style>\n",
       "<table border=\"1\" class=\"dataframe\">\n",
       "  <thead>\n",
       "    <tr style=\"text-align: right;\">\n",
       "      <th></th>\n",
       "      <th>ID</th>\n",
       "      <th>classifyLabels</th>\n",
       "      <th>y_pred</th>\n",
       "      <th>y_test2</th>\n",
       "      <th>y_pred2</th>\n",
       "    </tr>\n",
       "  </thead>\n",
       "  <tbody>\n",
       "    <tr>\n",
       "      <th>0</th>\n",
       "      <td>0</td>\n",
       "      <td>2</td>\n",
       "      <td>0</td>\n",
       "      <td>0</td>\n",
       "      <td>0</td>\n",
       "    </tr>\n",
       "    <tr>\n",
       "      <th>1</th>\n",
       "      <td>1</td>\n",
       "      <td>2</td>\n",
       "      <td>2</td>\n",
       "      <td>0</td>\n",
       "      <td>0</td>\n",
       "    </tr>\n",
       "    <tr>\n",
       "      <th>2</th>\n",
       "      <td>2</td>\n",
       "      <td>2</td>\n",
       "      <td>0</td>\n",
       "      <td>0</td>\n",
       "      <td>0</td>\n",
       "    </tr>\n",
       "    <tr>\n",
       "      <th>3</th>\n",
       "      <td>3</td>\n",
       "      <td>2</td>\n",
       "      <td>2</td>\n",
       "      <td>0</td>\n",
       "      <td>0</td>\n",
       "    </tr>\n",
       "    <tr>\n",
       "      <th>4</th>\n",
       "      <td>4</td>\n",
       "      <td>2</td>\n",
       "      <td>2</td>\n",
       "      <td>0</td>\n",
       "      <td>0</td>\n",
       "    </tr>\n",
       "  </tbody>\n",
       "</table>\n",
       "</div>"
      ],
      "text/plain": [
       "   ID  classifyLabels  y_pred  y_test2  y_pred2\n",
       "0   0               2       0        0        0\n",
       "1   1               2       2        0        0\n",
       "2   2               2       0        0        0\n",
       "3   3               2       2        0        0\n",
       "4   4               2       2        0        0"
      ]
     },
     "execution_count": 11,
     "metadata": {},
     "output_type": "execute_result"
    }
   ],
   "source": [
    "# combine as one defect: E = EL + ER, L = L + C + D, R = R + NF\n",
    "newFailDict = {0: 'L', 1: 'E', 2: 'S', 3: 'R', 4: 'N'}\n",
    "translator = {0: 0, 1: 1, 2: 0, 3: 1, 4: 2, 5: 3, 6: 3, 7: 0, 8: 4}\n",
    "\n",
    "test['y_test2'] = test.classifyLabels.apply(lambda x: translator[x])\n",
    "test['y_pred2'] = test.y_pred.apply(lambda x: translator[x])\n",
    "\n",
    "test.head()"
   ]
  },
  {
   "cell_type": "code",
   "execution_count": 12,
   "id": "11503655",
   "metadata": {},
   "outputs": [],
   "source": [
    "def plot_confusion_matrix(y_test, y_pred, mode='classify', normalize=True, figsize=(7,5)):\n",
    "    \"\"\"Helper function for plotting confusion matrix of model results\n",
    "       Modes: detect, classify, all\n",
    "       For all, assumes that none is labeled as 8\"\"\"\n",
    "    \n",
    "    defects = ['L', 'E', 'S', 'R', 'N']   \n",
    "    fig, ax = plt.subplots(figsize=figsize)\n",
    "    \n",
    "    if normalize:\n",
    "        cm = confusion_matrix(y_test, y_pred, normalize='true')\n",
    "        f = sns.heatmap(cm, annot=True, xticklabels=defects, yticklabels=defects)\n",
    "    \n",
    "    else:\n",
    "        cm = confusion_matrix(y_test, y_pred, normalize=None)\n",
    "        f = sns.heatmap(cm, annot=True, xticklabels=defects, yticklabels=defects, fmt='d')\n",
    "        \n",
    "    f.set(xlabel='Predicted Label', ylabel='True Label')"
   ]
  },
  {
   "cell_type": "code",
   "execution_count": 13,
   "id": "bdf93857",
   "metadata": {},
   "outputs": [
    {
     "data": {
      "image/png": "[encoded data removed]",
      "text/plain": [
       "<Figure size 504x360 with 2 Axes>"
      ]
     },
     "metadata": {
      "needs_background": "light"
     },
     "output_type": "display_data"
    }
   ],
   "source": [
    "# plot confusion matrix\n",
    "y_test = test['y_test2'].tolist()\n",
    "tandem_pred = test['y_pred2'].tolist()\n",
    "plot_confusion_matrix(y_test, tandem_pred, mode='all', normalize=True)"
   ]
  },
  {
   "cell_type": "code",
   "execution_count": 14,
   "id": "ac2dec28",
   "metadata": {},
   "outputs": [
    {
     "data": {
      "image/png": "[encoded data removed]",
      "text/plain": [
       "<Figure size 504x360 with 2 Axes>"
      ]
     },
     "metadata": {
      "needs_background": "light"
     },
     "output_type": "display_data"
    }
   ],
   "source": [
    "# plot confusion matrix counts\n",
    "plot_confusion_matrix(y_test, tandem_pred, mode='all', normalize=False)"
   ]
  },
  {
   "cell_type": "code",
   "execution_count": 16,
   "id": "d465a3d1",
   "metadata": {},
   "outputs": [
    {
     "name": "stdout",
     "output_type": "stream",
     "text": [
      "Overall Model Accuracy: 96.18%\n"
     ]
    }
   ],
   "source": [
    "# manually compute overall accuracy\n",
    "tandem_cm = confusion_matrix(y_test, tandem_pred)\n",
    "\n",
    "tandem_num = 0\n",
    "for i in range(5):\n",
    "    tandem_num += tandem_cm[i][i]\n",
    "\n",
    "overall_accuracy = tandem_num / len(y_test) * 100\n",
    "print(f'Overall Model Accuracy: {overall_accuracy:.2f}%') "
   ]
  },
  {
   "cell_type": "code",
   "execution_count": null,
   "id": "db7b49ce",
   "metadata": {},
   "outputs": [],
   "source": []
  }
 ],
 "metadata": {
  "kernelspec": {
   "display_name": "conda_amazonei_tensorflow2_p36",
   "language": "python",
   "name": "conda_amazonei_tensorflow2_p36"
  },
  "language_info": {
   "codemirror_mode": {
    "name": "ipython",
    "version": 3
   },
   "file_extension": ".py",
   "mimetype": "text/x-python",
   "name": "python",
   "nbconvert_exporter": "python",
   "pygments_lexer": "ipython3",
   "version": "3.6.13"
  }
 },
 "nbformat": 4,
 "nbformat_minor": 5
}
