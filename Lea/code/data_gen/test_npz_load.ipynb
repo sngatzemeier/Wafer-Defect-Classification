{
 "cells": [
  {
   "cell_type": "code",
   "execution_count": 1,
   "metadata": {},
   "outputs": [
    {
     "name": "stdout",
     "output_type": "stream",
     "text": [
      "121065\n",
      "Wall time: 44.445 seconds\n"
     ]
    }
   ],
   "source": [
    "import numpy as np\n",
    "import time\n",
    "start = time.time()\n",
    "\n",
    "with np.load('vit/WM-clean-vit224.npz', allow_pickle=True) as data:\n",
    "    ids = data['ids']\n",
    "    labels = data['labels']\n",
    "    dataset = data['dataset']\n",
    "    wafermap = data['wafermap']\n",
    "    \n",
    "train = wafermap[dataset=='train']\n",
    "print(len(train))\n",
    "\n",
    "print('Wall time: {:.3f} seconds'.format(time.time() - start))"
   ]
  },
  {
   "cell_type": "code",
   "execution_count": 1,
   "metadata": {},
   "outputs": [
    {
     "name": "stdout",
     "output_type": "stream",
     "text": [
      "121065\n",
      "Wall time: 45.932 seconds\n"
     ]
    }
   ],
   "source": [
    "import numpy as np\n",
    "import time\n",
    "start = time.time()\n",
    "\n",
    "# load dataset\n",
    "data = np.load('vit/WM-clean-vit224.npz', allow_pickle=True)\n",
    "\n",
    "# unpack numpy arrays\n",
    "ids = data['ids']\n",
    "labels = data['labels']\n",
    "dataset = data['dataset']\n",
    "wafermap = data['wafermap']\n",
    "\n",
    "train = wafermap[dataset=='train']\n",
    "print(len(train))\n",
    "\n",
    "print('Wall time: {:.3f} seconds'.format(time.time() - start))"
   ]
  },
  {
   "cell_type": "code",
   "execution_count": 1,
   "metadata": {},
   "outputs": [
    {
     "name": "stdout",
     "output_type": "stream",
     "text": [
      "121065\n",
      "Wall time: 41.031 seconds\n"
     ]
    }
   ],
   "source": [
    "import numpy as np\n",
    "import time\n",
    "start = time.time()\n",
    "\n",
    "data = np.load('vit/WM-clean-vit224.npz', allow_pickle=True)\n",
    "\n",
    "train = data['wafermap'][data['dataset']=='train']\n",
    "print(len(train))\n",
    "\n",
    "print('Wall time: {:.3f} seconds'.format(time.time() - start))"
   ]
  },
  {
   "cell_type": "code",
   "execution_count": null,
   "metadata": {},
   "outputs": [],
   "source": []
  },
  {
   "cell_type": "code",
   "execution_count": 1,
   "metadata": {},
   "outputs": [
    {
     "name": "stdout",
     "output_type": "stream",
     "text": [
      "121065\n",
      "Wall time: 112.303 seconds\n"
     ]
    }
   ],
   "source": [
    "import numpy as np\n",
    "import time\n",
    "start = time.time()\n",
    "\n",
    "data = np.load('vit/WM-clean-vit224.npz', allow_pickle=True)\n",
    "\n",
    "train = data['wafermap'][data['dataset']=='train']\n",
    "print(len(train))\n",
    "\n",
    "print('Wall time: {:.3f} seconds'.format(time.time() - start))"
   ]
  },
  {
   "cell_type": "code",
   "execution_count": 2,
   "metadata": {},
   "outputs": [
    {
     "data": {
      "text/plain": [
       "(121065, 224, 224, 3)"
      ]
     },
     "execution_count": 2,
     "metadata": {},
     "output_type": "execute_result"
    }
   ],
   "source": [
    "# check if needs stacking\n",
    "train.shape"
   ]
  },
  {
   "cell_type": "code",
   "execution_count": 3,
   "metadata": {},
   "outputs": [
    {
     "data": {
      "text/plain": [
       "array([  0, 127, 255], dtype=uint8)"
      ]
     },
     "execution_count": 3,
     "metadata": {},
     "output_type": "execute_result"
    }
   ],
   "source": [
    "np.unique(train)"
   ]
  },
  {
   "cell_type": "code",
   "execution_count": 4,
   "metadata": {},
   "outputs": [
    {
     "name": "stdout",
     "output_type": "stream",
     "text": [
      "<class 'numpy.uint8'>\n",
      "0\n",
      "8\n"
     ]
    }
   ],
   "source": [
    "y_train = data['labels'][data['dataset']=='train']\n",
    "print(type(y_train[0]))\n",
    "print(min(y_train))\n",
    "print(max(y_train))"
   ]
  },
  {
   "cell_type": "code",
   "execution_count": null,
   "metadata": {},
   "outputs": [],
   "source": []
  },
  {
   "cell_type": "code",
   "execution_count": null,
   "metadata": {},
   "outputs": [],
   "source": [
    "# load train, dev, test sets\n",
    "start = time.time()\n",
    "\n",
    "data = np.load(data_obj, allow_pickle=True)\n",
    "\n",
    "x_train = data['wafermap'][data['dataset']=='train']\n",
    "x_val = data['wafermap'][data['dataset']=='dev']\n",
    "x_test = data['wafermap'][data['dataset']=='test']\n",
    "\n",
    "print('Wall time: {:.3f} seconds'.format(time.time() - start))\n",
    "print(f'Train: {x_train.shape}')\n",
    "print(f'Dev: {x_val.shape}')\n",
    "print(f'Test: {x_test.shape}')"
   ]
  },
  {
   "cell_type": "code",
   "execution_count": null,
   "metadata": {},
   "outputs": [],
   "source": [
    "# prepare labels for supervised learning\n",
    "# note: make sure labels are integers if using sparse categorical cross entropy\n",
    "start = time.time()\n",
    "\n",
    "y_train = data['labels'][data['dataset']=='train']\n",
    "y_train = data['labels'][data['dataset']=='dev']\n",
    "y_train = data['labels'][data['dataset']=='test']\n",
    "\n",
    "print(\"Wall time: {:.2f} seconds\".format(time.time() - start))\n",
    "# sanity check\n",
    "# expected: type = int, min = 0, max = 8\n",
    "print(type(y_train[0]))\n",
    "print(min(y_train), min(y_val), min(y_test))\n",
    "print(max(y_train), max(y_val), max(y_test))"
   ]
  }
 ],
 "metadata": {
  "kernelspec": {
   "display_name": "Python 3",
   "language": "python",
   "name": "python3"
  },
  "language_info": {
   "codemirror_mode": {
    "name": "ipython",
    "version": 3
   },
   "file_extension": ".py",
   "mimetype": "text/x-python",
   "name": "python",
   "nbconvert_exporter": "python",
   "pygments_lexer": "ipython3",
   "version": "3.8.3"
  }
 },
 "nbformat": 4,
 "nbformat_minor": 4
}
