{
 "cells": [
  {
   "cell_type": "code",
   "execution_count": 1,
   "metadata": {},
   "outputs": [],
   "source": [
    "# import libraries\n",
    "import pandas as pd\n",
    "import numpy as np\n",
    "import pickle5 as pickle\n",
    "import math\n",
    "import matplotlib.pyplot as plt\n",
    "from matplotlib import colors\n",
    "from skimage.transform import resize as sk_resize\n",
    "\n",
    "from scipy import ndimage\n",
    "import cv2\n",
    "\n",
    "from helpers import *"
   ]
  },
  {
   "cell_type": "markdown",
   "metadata": {},
   "source": [
    "#### Create Dataset for Detect Model\n",
    "- Undersample train dataset that has been resized to 224x224 and median filtered 7x7\n",
    "- Keep only 30,000 none samples randomly"
   ]
  },
  {
   "cell_type": "code",
   "execution_count": null,
   "metadata": {},
   "outputs": [],
   "source": [
    "# load data\n",
    "data = load('WM-clean-id224filter7-train.zip')\n",
    "print(data.shape)\n",
    "data.head()"
   ]
  },
  {
   "cell_type": "code",
   "execution_count": null,
   "metadata": {},
   "outputs": [],
   "source": [
    "# make list of none indices\n",
    "none_df = data[data.detectLabels == 0]\n",
    "none_list = none_df.index.tolist()\n",
    "print(f'None count: {len(none_list)}')\n",
    "\n",
    "# make list of defect indices\n",
    "def_df = data[data.detectLabels == 1]\n",
    "def_list = def_df.index.tolist()\n",
    "print(f'Defect count: {len(def_list)}')"
   ]
  },
  {
   "cell_type": "code",
   "execution_count": null,
   "metadata": {},
   "outputs": [],
   "source": [
    "# randomly undersample none list\n",
    "from random import sample\n",
    "under_none = sample(none_list, 30000)\n",
    "\n",
    "# sanity check\n",
    "len(under_none)"
   ]
  },
  {
   "cell_type": "code",
   "execution_count": null,
   "metadata": {},
   "outputs": [],
   "source": [
    "# recombine defect indices with undersampled none indices\n",
    "new_list = sorted(under_none + def_list)\n",
    "print(f'Undersampled dataset count: {len(new_list)}')"
   ]
  },
  {
   "cell_type": "code",
   "execution_count": null,
   "metadata": {},
   "outputs": [],
   "source": [
    "# undersample data\n",
    "undersampled = data.iloc[new_list].reset_index(drop=True)\n",
    "print(undersampled.shape)\n",
    "undersampled.head()"
   ]
  },
  {
   "cell_type": "code",
   "execution_count": null,
   "metadata": {},
   "outputs": [],
   "source": [
    "# save undersampled dataset\n",
    "# save(undersampled, 'WM-clean-id224filter7-train-detect.zip')"
   ]
  },
  {
   "cell_type": "markdown",
   "metadata": {},
   "source": [
    "#### Create Dataset for Classify Model\n",
    "Two approaches: \n",
    "- Random transformations on dataset as-is\n",
    "- Random transformations on train set correctly classified by KNN"
   ]
  },
  {
   "cell_type": "markdown",
   "metadata": {},
   "source": [
    "##### As-is (Filtered)"
   ]
  },
  {
   "cell_type": "code",
   "execution_count": 2,
   "metadata": {},
   "outputs": [
    {
     "name": "stdout",
     "output_type": "stream",
     "text": [
      "17863\n"
     ]
    },
    {
     "data": {
      "text/html": [
       "<div>\n",
       "<style scoped>\n",
       "    .dataframe tbody tr th:only-of-type {\n",
       "        vertical-align: middle;\n",
       "    }\n",
       "\n",
       "    .dataframe tbody tr th {\n",
       "        vertical-align: top;\n",
       "    }\n",
       "\n",
       "    .dataframe thead th {\n",
       "        text-align: right;\n",
       "    }\n",
       "</style>\n",
       "<table border=\"1\" class=\"dataframe\">\n",
       "  <thead>\n",
       "    <tr style=\"text-align: right;\">\n",
       "      <th></th>\n",
       "      <th>ID</th>\n",
       "      <th>dieSize</th>\n",
       "      <th>lotName</th>\n",
       "      <th>failureType</th>\n",
       "      <th>dataset</th>\n",
       "      <th>detectLabels</th>\n",
       "      <th>classifyLabels</th>\n",
       "      <th>filterMap7</th>\n",
       "    </tr>\n",
       "  </thead>\n",
       "  <tbody>\n",
       "    <tr>\n",
       "      <th>25</th>\n",
       "      <td>36</td>\n",
       "      <td>2460.0</td>\n",
       "      <td>lot2</td>\n",
       "      <td>Edge-Loc</td>\n",
       "      <td>train</td>\n",
       "      <td>1</td>\n",
       "      <td>2</td>\n",
       "      <td>[[0.0, 0.0, 0.0, 0.0, 0.0, 0.0, 0.0, 0.0, 0.0,...</td>\n",
       "    </tr>\n",
       "    <tr>\n",
       "      <th>26</th>\n",
       "      <td>37</td>\n",
       "      <td>2460.0</td>\n",
       "      <td>lot2</td>\n",
       "      <td>Edge-Loc</td>\n",
       "      <td>train</td>\n",
       "      <td>1</td>\n",
       "      <td>2</td>\n",
       "      <td>[[0.0, 0.0, 0.0, 0.0, 0.0, 0.0, 0.0, 0.0, 0.0,...</td>\n",
       "    </tr>\n",
       "    <tr>\n",
       "      <th>27</th>\n",
       "      <td>38</td>\n",
       "      <td>2460.0</td>\n",
       "      <td>lot2</td>\n",
       "      <td>Edge-Loc</td>\n",
       "      <td>train</td>\n",
       "      <td>1</td>\n",
       "      <td>2</td>\n",
       "      <td>[[0.0, 0.0, 0.0, 0.0, 0.0, 0.0, 0.0, 0.0, 0.0,...</td>\n",
       "    </tr>\n",
       "    <tr>\n",
       "      <th>28</th>\n",
       "      <td>39</td>\n",
       "      <td>2460.0</td>\n",
       "      <td>lot2</td>\n",
       "      <td>Loc</td>\n",
       "      <td>train</td>\n",
       "      <td>1</td>\n",
       "      <td>1</td>\n",
       "      <td>[[0.0, 0.0, 0.0, 0.0, 0.0, 0.0, 0.0, 0.0, 0.0,...</td>\n",
       "    </tr>\n",
       "    <tr>\n",
       "      <th>29</th>\n",
       "      <td>41</td>\n",
       "      <td>2460.0</td>\n",
       "      <td>lot2</td>\n",
       "      <td>Edge-Loc</td>\n",
       "      <td>train</td>\n",
       "      <td>1</td>\n",
       "      <td>2</td>\n",
       "      <td>[[0.0, 0.0, 0.0, 0.0, 0.0, 0.0, 0.0, 0.0, 0.0,...</td>\n",
       "    </tr>\n",
       "  </tbody>\n",
       "</table>\n",
       "</div>"
      ],
      "text/plain": [
       "    ID  dieSize lotName failureType dataset  detectLabels  classifyLabels  \\\n",
       "25  36   2460.0    lot2    Edge-Loc   train             1               2   \n",
       "26  37   2460.0    lot2    Edge-Loc   train             1               2   \n",
       "27  38   2460.0    lot2    Edge-Loc   train             1               2   \n",
       "28  39   2460.0    lot2         Loc   train             1               1   \n",
       "29  41   2460.0    lot2    Edge-Loc   train             1               2   \n",
       "\n",
       "                                           filterMap7  \n",
       "25  [[0.0, 0.0, 0.0, 0.0, 0.0, 0.0, 0.0, 0.0, 0.0,...  \n",
       "26  [[0.0, 0.0, 0.0, 0.0, 0.0, 0.0, 0.0, 0.0, 0.0,...  \n",
       "27  [[0.0, 0.0, 0.0, 0.0, 0.0, 0.0, 0.0, 0.0, 0.0,...  \n",
       "28  [[0.0, 0.0, 0.0, 0.0, 0.0, 0.0, 0.0, 0.0, 0.0,...  \n",
       "29  [[0.0, 0.0, 0.0, 0.0, 0.0, 0.0, 0.0, 0.0, 0.0,...  "
      ]
     },
     "execution_count": 2,
     "metadata": {},
     "output_type": "execute_result"
    }
   ],
   "source": [
    "# load data\n",
    "data = load('WM-clean-id224filter7-train.zip')\n",
    "\n",
    "# df for classification model\n",
    "def_df = data[data.detectLabels == 1]\n",
    "print(len(def_df))\n",
    "def_df.head()"
   ]
  },
  {
   "cell_type": "code",
   "execution_count": 3,
   "metadata": {},
   "outputs": [
    {
     "name": "stdout",
     "output_type": "stream",
     "text": [
      "Augmenting class label 1 (Loc) with 4261 samples\n",
      "Starting count: 2515\n",
      "Samples created: 4261\n",
      "New count: 6776\n",
      "Total augmented df: 6776\n",
      "Augmenting class label 2 (Edge-Loc) with 3144 samples\n",
      "Starting count: 3632\n",
      "Samples created: 3144\n",
      "New count: 6776\n",
      "Total augmented df: 13552\n",
      "Augmenting class label 3 (Center) with 3770 samples\n",
      "Starting count: 3006\n",
      "Samples created: 3770\n",
      "New count: 6776\n",
      "Total augmented df: 20328\n",
      "Augmenting class label 4 (Edge-Ring) with 0 samples\n",
      "Starting count: 6776\n",
      "Total augmented df: 27104\n",
      "Augmenting class label 5 (Scratch) with 5941 samples\n",
      "Starting count: 835\n",
      "Samples created: 5941\n",
      "New count: 6776\n",
      "Total augmented df: 33880\n",
      "Augmenting class label 6 (Random) with 6170 samples\n",
      "Starting count: 606\n",
      "Samples created: 6170\n",
      "New count: 6776\n",
      "Total augmented df: 40656\n",
      "Augmenting class label 7 (Near-full) with 6672 samples\n",
      "Starting count: 104\n",
      "Samples created: 6672\n",
      "New count: 6776\n",
      "Total augmented df: 47432\n",
      "Augmenting class label 8 (Donut) with 6387 samples\n",
      "Starting count: 389\n",
      "Samples created: 6387\n",
      "New count: 6776\n",
      "Total augmented df: 54208\n"
     ]
    }
   ],
   "source": [
    "# figure out max count for balancing\n",
    "max_count = max(def_df.groupby('classifyLabels')['ID'].count().tolist())\n",
    "\n",
    "# dataframe for collecting all samples\n",
    "aug_df = pd.DataFrame()\n",
    "\n",
    "for i in range(8):\n",
    "    labels = def_df[def_df.classifyLabels == (i+1)].index.tolist()\n",
    "    label_df = def_df[def_df.classifyLabels == (i+1)][['ID', 'failureType', 'classifyLabels', 'filterMap7']]\n",
    "    defect = label_df.failureType.unique()[0]\n",
    "    \n",
    "    # calculate how many samples are needed to balance with max class\n",
    "    n = max_count - len(label_df)\n",
    "    \n",
    "    print(f'Augmenting class label {i+1} ({defect}) with {n} samples')\n",
    "    print(f'Starting count: {len(label_df)}')\n",
    "    \n",
    "    if n > 0:\n",
    "        \n",
    "        # create new samples by flipping and rotating\n",
    "        # using helper function from helpers\n",
    "        new_df = flip_rotate(df=label_df, col='filterMap7', defect=defect, classLabel=(i+1), labels=labels, number=n)\n",
    "        print(f'Samples created: {len(new_df)}')\n",
    "        \n",
    "        # concatenate augmented samples with original samples\n",
    "        new_df2 = pd.concat([new_df, label_df], ignore_index=True, axis=0)\n",
    "        print(f'New count: {len(new_df2)}')\n",
    "        \n",
    "        # collect with samples from other labels\n",
    "        aug_df = pd.concat([aug_df, new_df2], ignore_index=True, axis=0)\n",
    "        print(f'Total augmented df: {len(aug_df)}')\n",
    "    \n",
    "    else:\n",
    "        \n",
    "        # collect max class with samples from other labels without augmentation\n",
    "        aug_df = pd.concat([aug_df, label_df], ignore_index=True, axis=0)\n",
    "        print(f'Total augmented df: {len(aug_df)}')"
   ]
  },
  {
   "cell_type": "code",
   "execution_count": 4,
   "metadata": {},
   "outputs": [
    {
     "name": "stdout",
     "output_type": "stream",
     "text": [
      "(54208, 4)\n"
     ]
    },
    {
     "data": {
      "text/html": [
       "<div>\n",
       "<style scoped>\n",
       "    .dataframe tbody tr th:only-of-type {\n",
       "        vertical-align: middle;\n",
       "    }\n",
       "\n",
       "    .dataframe tbody tr th {\n",
       "        vertical-align: top;\n",
       "    }\n",
       "\n",
       "    .dataframe thead th {\n",
       "        text-align: right;\n",
       "    }\n",
       "</style>\n",
       "<table border=\"1\" class=\"dataframe\">\n",
       "  <thead>\n",
       "    <tr style=\"text-align: right;\">\n",
       "      <th></th>\n",
       "      <th>ID</th>\n",
       "      <th>classifyLabels</th>\n",
       "      <th>failureType</th>\n",
       "      <th>filterMap7</th>\n",
       "    </tr>\n",
       "  </thead>\n",
       "  <tbody>\n",
       "    <tr>\n",
       "      <th>0</th>\n",
       "      <td>A</td>\n",
       "      <td>2.0</td>\n",
       "      <td>Edge-Loc</td>\n",
       "      <td>[[0.0, 0.0, 0.0, 0.0, 0.0, 0.0, 0.0, 0.0, 0.0,...</td>\n",
       "    </tr>\n",
       "    <tr>\n",
       "      <th>1</th>\n",
       "      <td>A</td>\n",
       "      <td>5.0</td>\n",
       "      <td>Scratch</td>\n",
       "      <td>[[0.0, 0.0, 0.0, 0.0, 0.0, 0.0, 0.0, 0.0, 0.0,...</td>\n",
       "    </tr>\n",
       "    <tr>\n",
       "      <th>2</th>\n",
       "      <td>A</td>\n",
       "      <td>8.0</td>\n",
       "      <td>Donut</td>\n",
       "      <td>[[0.0, 0.0, 0.0, 0.0, 0.0, 0.0, 0.0, 0.0, 0.0,...</td>\n",
       "    </tr>\n",
       "    <tr>\n",
       "      <th>3</th>\n",
       "      <td>19365</td>\n",
       "      <td>3.0</td>\n",
       "      <td>Center</td>\n",
       "      <td>[[0.0, 0.0, 0.0, 0.0, 0.0, 0.0, 0.0, 0.0, 0.0,...</td>\n",
       "    </tr>\n",
       "    <tr>\n",
       "      <th>4</th>\n",
       "      <td>11288</td>\n",
       "      <td>4.0</td>\n",
       "      <td>Edge-Ring</td>\n",
       "      <td>[[0.0, 0.0, 0.0, 0.0, 0.0, 0.0, 0.0, 0.0, 0.0,...</td>\n",
       "    </tr>\n",
       "  </tbody>\n",
       "</table>\n",
       "</div>"
      ],
      "text/plain": [
       "      ID  classifyLabels failureType  \\\n",
       "0      A             2.0    Edge-Loc   \n",
       "1      A             5.0     Scratch   \n",
       "2      A             8.0       Donut   \n",
       "3  19365             3.0      Center   \n",
       "4  11288             4.0   Edge-Ring   \n",
       "\n",
       "                                          filterMap7  \n",
       "0  [[0.0, 0.0, 0.0, 0.0, 0.0, 0.0, 0.0, 0.0, 0.0,...  \n",
       "1  [[0.0, 0.0, 0.0, 0.0, 0.0, 0.0, 0.0, 0.0, 0.0,...  \n",
       "2  [[0.0, 0.0, 0.0, 0.0, 0.0, 0.0, 0.0, 0.0, 0.0,...  \n",
       "3  [[0.0, 0.0, 0.0, 0.0, 0.0, 0.0, 0.0, 0.0, 0.0,...  \n",
       "4  [[0.0, 0.0, 0.0, 0.0, 0.0, 0.0, 0.0, 0.0, 0.0,...  "
      ]
     },
     "execution_count": 4,
     "metadata": {},
     "output_type": "execute_result"
    }
   ],
   "source": [
    "# randomly shuffle augmented df\n",
    "shuffled_df = aug_df.sample(frac=1).reset_index(drop=True)\n",
    "print(shuffled_df.shape)\n",
    "shuffled_df.head()"
   ]
  },
  {
   "cell_type": "code",
   "execution_count": 5,
   "metadata": {},
   "outputs": [],
   "source": [
    "# save(shuffled_df, 'WM-clean-id224filter7-train-classify-aug.zip')"
   ]
  },
  {
   "cell_type": "code",
   "execution_count": 2,
   "metadata": {},
   "outputs": [
    {
     "data": {
      "image/png": "[encoded data removed]",
      "text/plain": [
       "<Figure size 432x288 with 1 Axes>"
      ]
     },
     "metadata": {
      "needs_background": "light"
     },
     "output_type": "display_data"
    }
   ],
   "source": [
    "# sanity check\n",
    "check = load('WM-clean-id224filter7-train-classify-aug.zip')\n",
    "defect_distribution(check, when='after')"
   ]
  },
  {
   "cell_type": "markdown",
   "metadata": {},
   "source": [
    "##### As-is (unfiltered)"
   ]
  },
  {
   "cell_type": "code",
   "execution_count": 2,
   "metadata": {},
   "outputs": [
    {
     "name": "stdout",
     "output_type": "stream",
     "text": [
      "17863\n"
     ]
    },
    {
     "data": {
      "text/html": [
       "<div>\n",
       "<style scoped>\n",
       "    .dataframe tbody tr th:only-of-type {\n",
       "        vertical-align: middle;\n",
       "    }\n",
       "\n",
       "    .dataframe tbody tr th {\n",
       "        vertical-align: top;\n",
       "    }\n",
       "\n",
       "    .dataframe thead th {\n",
       "        text-align: right;\n",
       "    }\n",
       "</style>\n",
       "<table border=\"1\" class=\"dataframe\">\n",
       "  <thead>\n",
       "    <tr style=\"text-align: right;\">\n",
       "      <th></th>\n",
       "      <th>ID</th>\n",
       "      <th>waferMap224</th>\n",
       "      <th>dieSize</th>\n",
       "      <th>lotName</th>\n",
       "      <th>failureType</th>\n",
       "      <th>dataset</th>\n",
       "      <th>detectLabels</th>\n",
       "      <th>classifyLabels</th>\n",
       "    </tr>\n",
       "  </thead>\n",
       "  <tbody>\n",
       "    <tr>\n",
       "      <th>25</th>\n",
       "      <td>36</td>\n",
       "      <td>[[0.0, 0.0, 0.0, 0.0, 0.0, 0.0, 0.0, 0.0, 0.0,...</td>\n",
       "      <td>2460.0</td>\n",
       "      <td>lot2</td>\n",
       "      <td>Edge-Loc</td>\n",
       "      <td>train</td>\n",
       "      <td>1</td>\n",
       "      <td>2</td>\n",
       "    </tr>\n",
       "    <tr>\n",
       "      <th>26</th>\n",
       "      <td>37</td>\n",
       "      <td>[[0.0, 0.0, 0.0, 0.0, 0.0, 0.0, 0.0, 0.0, 0.0,...</td>\n",
       "      <td>2460.0</td>\n",
       "      <td>lot2</td>\n",
       "      <td>Edge-Loc</td>\n",
       "      <td>train</td>\n",
       "      <td>1</td>\n",
       "      <td>2</td>\n",
       "    </tr>\n",
       "    <tr>\n",
       "      <th>27</th>\n",
       "      <td>38</td>\n",
       "      <td>[[0.0, 0.0, 0.0, 0.0, 0.0, 0.0, 0.0, 0.0, 0.0,...</td>\n",
       "      <td>2460.0</td>\n",
       "      <td>lot2</td>\n",
       "      <td>Edge-Loc</td>\n",
       "      <td>train</td>\n",
       "      <td>1</td>\n",
       "      <td>2</td>\n",
       "    </tr>\n",
       "    <tr>\n",
       "      <th>28</th>\n",
       "      <td>39</td>\n",
       "      <td>[[0.0, 0.0, 0.0, 0.0, 0.0, 0.0, 0.0, 0.0, 0.0,...</td>\n",
       "      <td>2460.0</td>\n",
       "      <td>lot2</td>\n",
       "      <td>Loc</td>\n",
       "      <td>train</td>\n",
       "      <td>1</td>\n",
       "      <td>1</td>\n",
       "    </tr>\n",
       "    <tr>\n",
       "      <th>29</th>\n",
       "      <td>41</td>\n",
       "      <td>[[0.0, 0.0, 0.0, 0.0, 0.0, 0.0, 0.0, 0.0, 0.0,...</td>\n",
       "      <td>2460.0</td>\n",
       "      <td>lot2</td>\n",
       "      <td>Edge-Loc</td>\n",
       "      <td>train</td>\n",
       "      <td>1</td>\n",
       "      <td>2</td>\n",
       "    </tr>\n",
       "  </tbody>\n",
       "</table>\n",
       "</div>"
      ],
      "text/plain": [
       "    ID                                        waferMap224  dieSize lotName  \\\n",
       "25  36  [[0.0, 0.0, 0.0, 0.0, 0.0, 0.0, 0.0, 0.0, 0.0,...   2460.0    lot2   \n",
       "26  37  [[0.0, 0.0, 0.0, 0.0, 0.0, 0.0, 0.0, 0.0, 0.0,...   2460.0    lot2   \n",
       "27  38  [[0.0, 0.0, 0.0, 0.0, 0.0, 0.0, 0.0, 0.0, 0.0,...   2460.0    lot2   \n",
       "28  39  [[0.0, 0.0, 0.0, 0.0, 0.0, 0.0, 0.0, 0.0, 0.0,...   2460.0    lot2   \n",
       "29  41  [[0.0, 0.0, 0.0, 0.0, 0.0, 0.0, 0.0, 0.0, 0.0,...   2460.0    lot2   \n",
       "\n",
       "   failureType dataset  detectLabels  classifyLabels  \n",
       "25    Edge-Loc   train             1               2  \n",
       "26    Edge-Loc   train             1               2  \n",
       "27    Edge-Loc   train             1               2  \n",
       "28         Loc   train             1               1  \n",
       "29    Edge-Loc   train             1               2  "
      ]
     },
     "execution_count": 2,
     "metadata": {},
     "output_type": "execute_result"
    }
   ],
   "source": [
    "# load data\n",
    "data = load('WM-clean-id224-train.zip')\n",
    "\n",
    "# df for classification model\n",
    "def_df = data[data.detectLabels == 1]\n",
    "print(len(def_df))\n",
    "def_df.head()"
   ]
  },
  {
   "cell_type": "code",
   "execution_count": 3,
   "metadata": {},
   "outputs": [
    {
     "name": "stdout",
     "output_type": "stream",
     "text": [
      "Augmenting class label 1 (Loc) with 4261 samples\n",
      "Starting count: 2515\n",
      "Samples created: 4261\n",
      "New count: 6776\n",
      "Total augmented df: 6776\n",
      "Augmenting class label 2 (Edge-Loc) with 3144 samples\n",
      "Starting count: 3632\n",
      "Samples created: 3144\n",
      "New count: 6776\n",
      "Total augmented df: 13552\n",
      "Augmenting class label 3 (Center) with 3770 samples\n",
      "Starting count: 3006\n",
      "Samples created: 3770\n",
      "New count: 6776\n",
      "Total augmented df: 20328\n",
      "Augmenting class label 4 (Edge-Ring) with 0 samples\n",
      "Starting count: 6776\n",
      "Total augmented df: 27104\n",
      "Augmenting class label 5 (Scratch) with 5941 samples\n",
      "Starting count: 835\n",
      "Samples created: 5941\n",
      "New count: 6776\n",
      "Total augmented df: 33880\n",
      "Augmenting class label 6 (Random) with 6170 samples\n",
      "Starting count: 606\n",
      "Samples created: 6170\n",
      "New count: 6776\n",
      "Total augmented df: 40656\n",
      "Augmenting class label 7 (Near-full) with 6672 samples\n",
      "Starting count: 104\n",
      "Samples created: 6672\n",
      "New count: 6776\n",
      "Total augmented df: 47432\n",
      "Augmenting class label 8 (Donut) with 6387 samples\n",
      "Starting count: 389\n",
      "Samples created: 6387\n",
      "New count: 6776\n",
      "Total augmented df: 54208\n"
     ]
    }
   ],
   "source": [
    "# figure out max count for balancing\n",
    "max_count = max(def_df.groupby('classifyLabels')['ID'].count().tolist())\n",
    "\n",
    "# dataframe for collecting all samples\n",
    "aug_df = pd.DataFrame()\n",
    "\n",
    "for i in range(8):\n",
    "    labels = def_df[def_df.classifyLabels == (i+1)].index.tolist()\n",
    "    label_df = def_df[def_df.classifyLabels == (i+1)][['ID', 'failureType', 'classifyLabels', 'waferMap224']]\n",
    "    defect = label_df.failureType.unique()[0]\n",
    "    \n",
    "    # calculate how many samples are needed to balance with max class\n",
    "    n = max_count - len(label_df)\n",
    "    \n",
    "    print(f'Augmenting class label {i+1} ({defect}) with {n} samples')\n",
    "    print(f'Starting count: {len(label_df)}')\n",
    "    \n",
    "    if n > 0:\n",
    "        \n",
    "        # create new samples by flipping and rotating\n",
    "        # using helper function from helpers\n",
    "        new_df = flip_rotate(df=label_df, col='waferMap224', defect=defect, classLabel=(i+1), labels=labels, number=n)\n",
    "        print(f'Samples created: {len(new_df)}')\n",
    "        \n",
    "        # concatenate augmented samples with original samples\n",
    "        new_df2 = pd.concat([new_df, label_df], ignore_index=True, axis=0)\n",
    "        print(f'New count: {len(new_df2)}')\n",
    "        \n",
    "        # collect with samples from other labels\n",
    "        aug_df = pd.concat([aug_df, new_df2], ignore_index=True, axis=0)\n",
    "        print(f'Total augmented df: {len(aug_df)}')\n",
    "    \n",
    "    else:\n",
    "        \n",
    "        # collect max class with samples from other labels without augmentation\n",
    "        aug_df = pd.concat([aug_df, label_df], ignore_index=True, axis=0)\n",
    "        print(f'Total augmented df: {len(aug_df)}')"
   ]
  },
  {
   "cell_type": "code",
   "execution_count": 4,
   "metadata": {},
   "outputs": [
    {
     "name": "stdout",
     "output_type": "stream",
     "text": [
      "(54208, 4)\n"
     ]
    },
    {
     "data": {
      "text/html": [
       "<div>\n",
       "<style scoped>\n",
       "    .dataframe tbody tr th:only-of-type {\n",
       "        vertical-align: middle;\n",
       "    }\n",
       "\n",
       "    .dataframe tbody tr th {\n",
       "        vertical-align: top;\n",
       "    }\n",
       "\n",
       "    .dataframe thead th {\n",
       "        text-align: right;\n",
       "    }\n",
       "</style>\n",
       "<table border=\"1\" class=\"dataframe\">\n",
       "  <thead>\n",
       "    <tr style=\"text-align: right;\">\n",
       "      <th></th>\n",
       "      <th>ID</th>\n",
       "      <th>classifyLabels</th>\n",
       "      <th>failureType</th>\n",
       "      <th>waferMap224</th>\n",
       "    </tr>\n",
       "  </thead>\n",
       "  <tbody>\n",
       "    <tr>\n",
       "      <th>0</th>\n",
       "      <td>A</td>\n",
       "      <td>2.0</td>\n",
       "      <td>Edge-Loc</td>\n",
       "      <td>[[0.0, 0.0, 0.0, 0.0, 0.0, 0.0, 0.0, 0.0, 0.0,...</td>\n",
       "    </tr>\n",
       "    <tr>\n",
       "      <th>1</th>\n",
       "      <td>A</td>\n",
       "      <td>8.0</td>\n",
       "      <td>Donut</td>\n",
       "      <td>[[0.0, 0.0, 0.0, 0.0, 0.0, 0.0, 0.0, 0.0, 0.0,...</td>\n",
       "    </tr>\n",
       "    <tr>\n",
       "      <th>2</th>\n",
       "      <td>A</td>\n",
       "      <td>2.0</td>\n",
       "      <td>Edge-Loc</td>\n",
       "      <td>[[0.0, 0.0, 0.0, 0.0, 0.0, 0.0, 0.0, 0.0, 0.0,...</td>\n",
       "    </tr>\n",
       "    <tr>\n",
       "      <th>3</th>\n",
       "      <td>20497</td>\n",
       "      <td>8.0</td>\n",
       "      <td>Donut</td>\n",
       "      <td>[[0.0, 0.0, 0.0, 0.0, 0.0, 0.0, 0.0, 0.0, 0.0,...</td>\n",
       "    </tr>\n",
       "    <tr>\n",
       "      <th>4</th>\n",
       "      <td>95773</td>\n",
       "      <td>4.0</td>\n",
       "      <td>Edge-Ring</td>\n",
       "      <td>[[0.0, 0.0, 0.0, 0.0, 0.0, 0.0, 0.0, 0.0, 0.0,...</td>\n",
       "    </tr>\n",
       "  </tbody>\n",
       "</table>\n",
       "</div>"
      ],
      "text/plain": [
       "      ID  classifyLabels failureType  \\\n",
       "0      A             2.0    Edge-Loc   \n",
       "1      A             8.0       Donut   \n",
       "2      A             2.0    Edge-Loc   \n",
       "3  20497             8.0       Donut   \n",
       "4  95773             4.0   Edge-Ring   \n",
       "\n",
       "                                         waferMap224  \n",
       "0  [[0.0, 0.0, 0.0, 0.0, 0.0, 0.0, 0.0, 0.0, 0.0,...  \n",
       "1  [[0.0, 0.0, 0.0, 0.0, 0.0, 0.0, 0.0, 0.0, 0.0,...  \n",
       "2  [[0.0, 0.0, 0.0, 0.0, 0.0, 0.0, 0.0, 0.0, 0.0,...  \n",
       "3  [[0.0, 0.0, 0.0, 0.0, 0.0, 0.0, 0.0, 0.0, 0.0,...  \n",
       "4  [[0.0, 0.0, 0.0, 0.0, 0.0, 0.0, 0.0, 0.0, 0.0,...  "
      ]
     },
     "execution_count": 4,
     "metadata": {},
     "output_type": "execute_result"
    }
   ],
   "source": [
    "# randomly shuffle augmented df\n",
    "shuffled_df = aug_df.sample(frac=1).reset_index(drop=True)\n",
    "print(shuffled_df.shape)\n",
    "shuffled_df.head()"
   ]
  },
  {
   "cell_type": "code",
   "execution_count": 5,
   "metadata": {},
   "outputs": [
    {
     "data": {
      "image/png": "[encoded data removed]",
      "text/plain": [
       "<Figure size 432x288 with 1 Axes>"
      ]
     },
     "metadata": {
      "needs_background": "light"
     },
     "output_type": "display_data"
    }
   ],
   "source": [
    "# sanity check\n",
    "defect_distribution(shuffled_df, when='after')"
   ]
  },
  {
   "cell_type": "code",
   "execution_count": 6,
   "metadata": {},
   "outputs": [],
   "source": [
    "# save(shuffled_df, 'WM-clean-id224-train-classify-aug.zip')"
   ]
  },
  {
   "cell_type": "code",
   "execution_count": null,
   "metadata": {},
   "outputs": [],
   "source": []
  }
 ],
 "metadata": {
  "kernelspec": {
   "display_name": "Python 3",
   "language": "python",
   "name": "python3"
  },
  "language_info": {
   "codemirror_mode": {
    "name": "ipython",
    "version": 3
   },
   "file_extension": ".py",
   "mimetype": "text/x-python",
   "name": "python",
   "nbconvert_exporter": "python",
   "pygments_lexer": "ipython3",
   "version": "3.8.3"
  }
 },
 "nbformat": 4,
 "nbformat_minor": 4
}
