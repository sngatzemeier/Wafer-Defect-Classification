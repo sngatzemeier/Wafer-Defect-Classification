{
 "cells": [
  {
   "cell_type": "code",
   "execution_count": 3,
   "id": "340753fd",
   "metadata": {},
   "outputs": [
    {
     "name": "stdout",
     "output_type": "stream",
     "text": [
      "Collecting pickle5\n",
      "  Downloading pickle5-0.0.12-cp36-cp36m-manylinux_2_5_x86_64.manylinux1_x86_64.whl (259 kB)\n",
      "     |████████████████████████████████| 259 kB 6.9 MB/s            \n",
      "\u001b[?25hInstalling collected packages: pickle5\n",
      "Successfully installed pickle5-0.0.12\n"
     ]
    }
   ],
   "source": [
    "!pip install pickle5"
   ]
  },
  {
   "cell_type": "code",
   "execution_count": 4,
   "id": "ceacc251",
   "metadata": {},
   "outputs": [],
   "source": [
    "import boto3\n",
    "import pickle5 as pickle"
   ]
  },
  {
   "cell_type": "code",
   "execution_count": 5,
   "id": "9207afd1",
   "metadata": {},
   "outputs": [],
   "source": [
    "# Establish our connection with s3 (simple storage service)\n",
    "s3 = boto3.client('s3')"
   ]
  },
  {
   "cell_type": "code",
   "execution_count": 6,
   "id": "fe187bd3",
   "metadata": {},
   "outputs": [
    {
     "name": "stdout",
     "output_type": "stream",
     "text": [
      "Existing buckets:\n",
      "sagemaker-studio-295283782738-ct084qna3w\n",
      "wafer-capstone\n"
     ]
    }
   ],
   "source": [
    "# Get existing buckets\n",
    "response = s3.list_buckets()\n",
    "\n",
    "# Print out buckets - should have wafer-capstone bucket\n",
    "print(\"Existing buckets:\")\n",
    "for bucket in response['Buckets']:\n",
    "    print(bucket['Name'])\n",
    "    \n",
    "    if bucket['Name'].endswith(\"wafer-capstone\"):\n",
    "        bucket_name = bucket['Name']"
   ]
  },
  {
   "cell_type": "code",
   "execution_count": 7,
   "id": "d922fb08",
   "metadata": {},
   "outputs": [
    {
     "name": "stdout",
     "output_type": "stream",
     "text": [
      "Content in existing buckets:\n",
      "data/\n",
      "data/WM-72k-224.zip\n",
      "data/WM-clean.pkl\n",
      "data/WM224_Yu.hdf5\n",
      "data/WM224_Yu_medianBlur.hdf5\n",
      "data/Wafer_Map_Datasets.npz\n",
      "models/\n",
      "processed_data/\n",
      "processed_data/WM-clean-paper/\n",
      "processed_data/WM-clean-paper/WM-clean-paper-dev.pkl\n",
      "processed_data/WM-clean-paper/WM-clean-paper-test.pkl\n",
      "processed_data/WM-clean-paper/WM-clean-paper-train-classify.pkl\n",
      "processed_data/WM-clean-paper/WM-clean-paper-train-detund.pkl\n",
      "processed_data/WM-clean-paper/WM-clean-paper-train-knn.pkl\n",
      "processed_data/WM-clean224-thin2/\n",
      "processed_data/WM-clean224-thin2/WM-clean224-thin2-dev.pkl\n",
      "processed_data/WM-clean224-thin2/WM-clean224-thin2-test.pkl\n",
      "processed_data/WM-clean224-thin2/WM-clean224-thin2-train-classify.pkl\n",
      "processed_data/WM-clean224-thin2/WM-clean224-thin2-train-detund.pkl\n",
      "processed_data/WM-clean224-thin2/WM-clean224-thin2-train-knn.pkl\n",
      "processed_data/WM-clean224-thin4/\n",
      "processed_data/WM-clean224-thin4/WM-clean224-thin4-dev.pkl\n",
      "processed_data/WM-clean224-thin4/WM-clean224-thin4-test.pkl\n",
      "processed_data/WM-clean224-thin4/WM-clean224-thin4-train-classify.pkl\n",
      "processed_data/WM-clean224-thin4/WM-clean224-thin4-train-detund.pkl\n",
      "processed_data/WM-clean224-thin4/WM-clean224-thin4-train-knn.pkl\n",
      "processed_data/WM-clean224/\n",
      "processed_data/WM-clean224/WM-clean224-dev.pkl\n",
      "processed_data/WM-clean224/WM-clean224-test.pkl\n",
      "processed_data/WM-clean224/WM-clean224-train-classify.pkl\n",
      "processed_data/WM-clean224/WM-clean224-train-detund.pkl\n",
      "processed_data/WM-clean224/WM-clean224-train-knn.pkl\n",
      "processed_data/WM-clean60-mfilter3/\n",
      "processed_data/WM-clean60-mfilter3/WM-clean60-mfilter3-dev.pkl\n",
      "processed_data/WM-clean60-mfilter3/WM-clean60-mfilter3-test.pkl\n",
      "processed_data/WM-clean60-mfilter3/WM-clean60-mfilter3-train-classify.pkl\n",
      "processed_data/WM-clean60-mfilter3/WM-clean60-mfilter3-train-detund.pkl\n",
      "processed_data/WM-clean60-mfilter3/WM-clean60-mfilter3-train-knn.pkl\n",
      "processed_data/WM-clean60-thin2/\n",
      "processed_data/WM-clean60-thin2/WM-clean60-thin2-dev.pkl\n",
      "processed_data/WM-clean60-thin2/WM-clean60-thin2-test.pkl\n",
      "processed_data/WM-clean60-thin2/WM-clean60-thin2-train-classify.pkl\n",
      "processed_data/WM-clean60-thin2/WM-clean60-thin2-train-detund.pkl\n",
      "processed_data/WM-clean60-thin2/WM-clean60-thin2-train-knn.pkl\n",
      "processed_data/WM-clean60/\n",
      "processed_data/WM-clean60/WM-clean60-dev.pkl\n",
      "processed_data/WM-clean60/WM-clean60-test.pkl\n",
      "processed_data/WM-clean60/WM-clean60-train-classify.pkl\n",
      "processed_data/WM-clean60/WM-clean60-train-detund.pkl\n",
      "processed_data/WM-clean60/WM-clean60-train-knn.pkl\n",
      "results/\n"
     ]
    }
   ],
   "source": [
    "# List out objects in bucket\n",
    "response = s3.list_objects_v2(Bucket= bucket['Name'])\n",
    "\n",
    "# Print out contents - shoud print out two things:\n",
    "    # data/\n",
    "    # data/WM-clean.pkl\n",
    "print(\"Content in existing buckets:\")\n",
    "for content in response['Contents']:\n",
    "    print(content['Key'])\n",
    "    \n",
    "    if content['Key'].endswith(\"WM-clean.pkl\"):\n",
    "        data_path = content['Key']"
   ]
  },
  {
   "cell_type": "code",
   "execution_count": null,
   "id": "912478bf",
   "metadata": {},
   "outputs": [],
   "source": []
  }
 ],
 "metadata": {
  "kernelspec": {
   "display_name": "conda_tensorflow2_p36",
   "language": "python",
   "name": "conda_tensorflow2_p36"
  },
  "language_info": {
   "codemirror_mode": {
    "name": "ipython",
    "version": 3
   },
   "file_extension": ".py",
   "mimetype": "text/x-python",
   "name": "python",
   "nbconvert_exporter": "python",
   "pygments_lexer": "ipython3",
   "version": "3.6.13"
  }
 },
 "nbformat": 4,
 "nbformat_minor": 5
}
