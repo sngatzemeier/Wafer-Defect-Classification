{
 "cells": [
  {
   "cell_type": "code",
   "execution_count": null,
   "metadata": {},
   "outputs": [],
   "source": [
    "# import libraries\n",
    "import os\n",
    "import time\n",
    "import math\n",
    "import random\n",
    "import numpy as np\n",
    "import pandas as pd\n",
    "import pickle5 as pickle\n",
    "import matplotlib.pyplot as plt\n",
    "\n",
    "import dashboard as dash"
   ]
  },
  {
   "cell_type": "code",
   "execution_count": null,
   "metadata": {},
   "outputs": [],
   "source": [
    "data_path = '../../data/customer/WM-unlabeled-random50-314.pkl'\n",
    "predictions_path = '../results/yutandem-224thin2-unlabeled-random314.pkl'\n",
    "\n",
    "data, lot_count = dash.generate_dashboard_data(data_path=data_path, predictions_path=predictions_path)\n",
    "data.head()"
   ]
  },
  {
   "cell_type": "code",
   "execution_count": null,
   "metadata": {},
   "outputs": [],
   "source": [
    "# per wafer statistics\n",
    "pct_none = len(data[data.pred_labels == 8]) / len(data) * 100\n",
    "print(f'Percent of wafers predicted with no defects: {pct_none:.2f}%')\n",
    "\n",
    "pct_def = len(data[data.pred_labels != 8]) / len(data) * 100\n",
    "print(f'Percent of wafers predicted with defects: {pct_def:.2f}%')"
   ]
  },
  {
   "cell_type": "code",
   "execution_count": null,
   "metadata": {},
   "outputs": [],
   "source": [
    "# lot statistics\n",
    "pct_none_lot = len([x for x, y in lot_count.items() if y == 0]) / len(lot_count) * 100\n",
    "print(f'Percent of lots predicted with no defective wafers: {pct_none_lot:.0f}%')\n",
    "\n",
    "pct_def_lot = len([x for x, y in lot_count.items() if y > 0]) / len(lot_count) * 100\n",
    "print(f'Percent of lots predicted with at least one defective wafer: {pct_def_lot:.0f}%')\n",
    "\n",
    "pct_all_lot = len([x for x, y in lot_count.items() if y == 25]) / len(lot_count) * 100\n",
    "print(f'Percent of lots predicted to be all defective: {pct_all_lot:.0f}%')"
   ]
  },
  {
   "cell_type": "code",
   "execution_count": null,
   "metadata": {},
   "outputs": [],
   "source": [
    "# distribution of labels\n",
    "dash.defect_distribution(data, note='Random Unlabeled Seed 314', mode='detect', color='#440154FF')"
   ]
  },
  {
   "cell_type": "code",
   "execution_count": null,
   "metadata": {},
   "outputs": [],
   "source": [
    "# distribution of labels\n",
    "dash.defect_distribution(data, note='Random Unlabeled Seed 314', mode='classify', color='#33638DFF')"
   ]
  },
  {
   "cell_type": "code",
   "execution_count": null,
   "metadata": {},
   "outputs": [],
   "source": [
    "dash.visualize_defective_lots(lot_count)"
   ]
  },
  {
   "cell_type": "code",
   "execution_count": null,
   "metadata": {},
   "outputs": [],
   "source": [
    "dash.plot_lot(data, 'lot15386', resize=False)"
   ]
  },
  {
   "cell_type": "code",
   "execution_count": null,
   "metadata": {},
   "outputs": [],
   "source": [
    "dash.plot_lot(data, 'lot20759', resize=False)"
   ]
  },
  {
   "cell_type": "code",
   "execution_count": null,
   "metadata": {},
   "outputs": [],
   "source": [
    "dash.plot_lot(data, 'lot34809')"
   ]
  },
  {
   "cell_type": "code",
   "execution_count": null,
   "metadata": {},
   "outputs": [],
   "source": [
    "dash.plot_lot(data, 'lot21946')"
   ]
  },
  {
   "cell_type": "code",
   "execution_count": null,
   "metadata": {},
   "outputs": [],
   "source": [
    "# plot specific waferMap by ID\n",
    "i = data[data.ID == 229544].index[0]\n",
    "plt.imshow(data.waferMap[i], interpolation='none', cmap='gray_r')\n",
    "plt.axis('off')\n",
    "\n",
    "fail_dict = {8:'None', 0:'Loc', 1:'Edge-Loc', 2:'Center', 3:'Edge-Ring', \n",
    "             4:'Scratch', 5:'Random', 6:'Near-full', 7:'Donut'}\n",
    "\n",
    "print(f'Wafer ID: {data.ID[i]}')\n",
    "print(f'Predicted label: {fail_dict[data.pred_labels[i]]} ({data.pred_prob[i]:.2f}%)')\n",
    "print(f'Second Prediction: {fail_dict[data.pred2_labels[i]]} ({data.pred2_prob[i]:.2f}%)')\n",
    "pass"
   ]
  },
  {
   "cell_type": "code",
   "execution_count": null,
   "metadata": {},
   "outputs": [],
   "source": [
    "# random samples of defect types\n",
    "defects = [i for i in range(len(data)) if data.iloc[i].pred_labels == 1]\n",
    "random_n = random.sample(defects, 25)\n",
    "dash.plot_list(data, random_n)"
   ]
  },
  {
   "cell_type": "code",
   "execution_count": null,
   "metadata": {},
   "outputs": [],
   "source": []
  }
 ],
 "metadata": {
  "kernelspec": {
   "display_name": "conda_amazonei_tensorflow2_p36",
   "language": "python",
   "name": "conda_amazonei_tensorflow2_p36"
  },
  "language_info": {
   "codemirror_mode": {
    "name": "ipython",
    "version": 3
   },
   "file_extension": ".py",
   "mimetype": "text/x-python",
   "name": "python",
   "nbconvert_exporter": "python",
   "pygments_lexer": "ipython3",
   "version": "3.6.13"
  }
 },
 "nbformat": 4,
 "nbformat_minor": 4
}
