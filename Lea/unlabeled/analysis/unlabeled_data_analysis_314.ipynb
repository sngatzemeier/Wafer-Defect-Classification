{
 "cells": [
  {
   "cell_type": "code",
   "execution_count": 1,
   "metadata": {},
   "outputs": [],
   "source": [
    "# import libraries\n",
    "import os\n",
    "import time\n",
    "import math\n",
    "import random\n",
    "import numpy as np\n",
    "import pandas as pd\n",
    "import matplotlib.pyplot as plt\n",
    "import pickle5 as pickle\n",
    "\n",
    "import helpers as helper"
   ]
  },
  {
   "cell_type": "code",
   "execution_count": 2,
   "metadata": {},
   "outputs": [
    {
     "name": "stdout",
     "output_type": "stream",
     "text": [
      "(1250, 5)\n"
     ]
    },
    {
     "data": {
      "text/html": [
       "<div>\n",
       "<style scoped>\n",
       "    .dataframe tbody tr th:only-of-type {\n",
       "        vertical-align: middle;\n",
       "    }\n",
       "\n",
       "    .dataframe tbody tr th {\n",
       "        vertical-align: top;\n",
       "    }\n",
       "\n",
       "    .dataframe thead th {\n",
       "        text-align: right;\n",
       "    }\n",
       "</style>\n",
       "<table border=\"1\" class=\"dataframe\">\n",
       "  <thead>\n",
       "    <tr style=\"text-align: right;\">\n",
       "      <th></th>\n",
       "      <th>ID</th>\n",
       "      <th>waferMap</th>\n",
       "      <th>dieSize</th>\n",
       "      <th>lotName</th>\n",
       "      <th>waferIndex</th>\n",
       "    </tr>\n",
       "  </thead>\n",
       "  <tbody>\n",
       "    <tr>\n",
       "      <th>0</th>\n",
       "      <td>29288</td>\n",
       "      <td>[[0, 0, 0, 0, 0, 0, 0, 0, 0, 0, 0, 0, 0, 0, 0,...</td>\n",
       "      <td>3031</td>\n",
       "      <td>lot3405</td>\n",
       "      <td>1</td>\n",
       "    </tr>\n",
       "    <tr>\n",
       "      <th>1</th>\n",
       "      <td>29289</td>\n",
       "      <td>[[0, 0, 0, 0, 0, 0, 0, 0, 0, 0, 0, 0, 0, 0, 0,...</td>\n",
       "      <td>3031</td>\n",
       "      <td>lot3405</td>\n",
       "      <td>2</td>\n",
       "    </tr>\n",
       "    <tr>\n",
       "      <th>2</th>\n",
       "      <td>29290</td>\n",
       "      <td>[[0, 0, 0, 0, 0, 0, 0, 0, 0, 0, 0, 0, 0, 0, 0,...</td>\n",
       "      <td>3030</td>\n",
       "      <td>lot3405</td>\n",
       "      <td>3</td>\n",
       "    </tr>\n",
       "    <tr>\n",
       "      <th>3</th>\n",
       "      <td>29291</td>\n",
       "      <td>[[0, 0, 0, 0, 0, 0, 0, 0, 0, 0, 0, 0, 0, 0, 0,...</td>\n",
       "      <td>3030</td>\n",
       "      <td>lot3405</td>\n",
       "      <td>4</td>\n",
       "    </tr>\n",
       "    <tr>\n",
       "      <th>4</th>\n",
       "      <td>29292</td>\n",
       "      <td>[[0, 0, 0, 0, 0, 0, 0, 0, 0, 0, 0, 0, 0, 0, 0,...</td>\n",
       "      <td>3031</td>\n",
       "      <td>lot3405</td>\n",
       "      <td>5</td>\n",
       "    </tr>\n",
       "  </tbody>\n",
       "</table>\n",
       "</div>"
      ],
      "text/plain": [
       "      ID                                           waferMap  dieSize  lotName  \\\n",
       "0  29288  [[0, 0, 0, 0, 0, 0, 0, 0, 0, 0, 0, 0, 0, 0, 0,...     3031  lot3405   \n",
       "1  29289  [[0, 0, 0, 0, 0, 0, 0, 0, 0, 0, 0, 0, 0, 0, 0,...     3031  lot3405   \n",
       "2  29290  [[0, 0, 0, 0, 0, 0, 0, 0, 0, 0, 0, 0, 0, 0, 0,...     3030  lot3405   \n",
       "3  29291  [[0, 0, 0, 0, 0, 0, 0, 0, 0, 0, 0, 0, 0, 0, 0,...     3030  lot3405   \n",
       "4  29292  [[0, 0, 0, 0, 0, 0, 0, 0, 0, 0, 0, 0, 0, 0, 0,...     3031  lot3405   \n",
       "\n",
       "   waferIndex  \n",
       "0           1  \n",
       "1           2  \n",
       "2           3  \n",
       "3           4  \n",
       "4           5  "
      ]
     },
     "execution_count": 2,
     "metadata": {},
     "output_type": "execute_result"
    }
   ],
   "source": [
    "# load data\n",
    "with open('../../data/customer/WM-unlabeled-random50-314.pkl', \"rb\") as fh:\n",
    "    data = pickle.load(fh)\n",
    "\n",
    "print(data.shape)\n",
    "data.head()"
   ]
  },
  {
   "cell_type": "code",
   "execution_count": 3,
   "metadata": {},
   "outputs": [
    {
     "name": "stdout",
     "output_type": "stream",
     "text": [
      "Detected defective wafers: 126\n",
      "Detect probabilities length: 1250\n",
      "Classify probabilities length: 126\n",
      "Labels length: 1250\n"
     ]
    }
   ],
   "source": [
    "# load predictions\n",
    "with open('../results/yutandem-224thin2-unlabeled-random314.pkl', \"rb\") as fh:\n",
    "    predictions = pickle.load(fh)\n",
    "\n",
    "defect_ids = predictions[0]\n",
    "detect_probs = predictions[1]\n",
    "classify_probs = predictions[2]\n",
    "labels = predictions[3]\n",
    "    \n",
    "# sanity check\n",
    "print(f'Detected defective wafers: {len(defect_ids)}')\n",
    "print(f'Detect probabilities length: {len(detect_probs)}')\n",
    "print(f'Classify probabilities length: {len(classify_probs)}')\n",
    "print(f'Labels length: {len(labels)}')"
   ]
  },
  {
   "cell_type": "code",
   "execution_count": 4,
   "metadata": {},
   "outputs": [],
   "source": [
    "# probabilities for the highest class for each model\n",
    "detect_max_prob = [max(x) for x in detect_probs]\n",
    "classify_max_prob = [max(x) for x in classify_probs]\n",
    "\n",
    "# second highest class for defective sample\n",
    "classify_label2 = [x.argsort()[-2] for x in classify_probs]\n",
    "\n",
    "# second highest class probability\n",
    "classify_max_prob2 = [x[i] for x, i in zip(classify_probs, classify_label2)]"
   ]
  },
  {
   "cell_type": "code",
   "execution_count": 5,
   "metadata": {},
   "outputs": [
    {
     "data": {
      "text/html": [
       "<div>\n",
       "<style scoped>\n",
       "    .dataframe tbody tr th:only-of-type {\n",
       "        vertical-align: middle;\n",
       "    }\n",
       "\n",
       "    .dataframe tbody tr th {\n",
       "        vertical-align: top;\n",
       "    }\n",
       "\n",
       "    .dataframe thead th {\n",
       "        text-align: right;\n",
       "    }\n",
       "</style>\n",
       "<table border=\"1\" class=\"dataframe\">\n",
       "  <thead>\n",
       "    <tr style=\"text-align: right;\">\n",
       "      <th></th>\n",
       "      <th>ID</th>\n",
       "      <th>waferMap</th>\n",
       "      <th>dieSize</th>\n",
       "      <th>lotName</th>\n",
       "      <th>waferIndex</th>\n",
       "      <th>pred_labels</th>\n",
       "      <th>pred_prob</th>\n",
       "      <th>pred2_labels</th>\n",
       "      <th>pred2_prob</th>\n",
       "    </tr>\n",
       "  </thead>\n",
       "  <tbody>\n",
       "    <tr>\n",
       "      <th>0</th>\n",
       "      <td>29288</td>\n",
       "      <td>[[0, 0, 0, 0, 0, 0, 0, 0, 0, 0, 0, 0, 0, 0, 0,...</td>\n",
       "      <td>3031</td>\n",
       "      <td>lot3405</td>\n",
       "      <td>1</td>\n",
       "      <td>8</td>\n",
       "      <td>99.913067</td>\n",
       "      <td>8</td>\n",
       "      <td>0.0</td>\n",
       "    </tr>\n",
       "    <tr>\n",
       "      <th>1</th>\n",
       "      <td>29289</td>\n",
       "      <td>[[0, 0, 0, 0, 0, 0, 0, 0, 0, 0, 0, 0, 0, 0, 0,...</td>\n",
       "      <td>3031</td>\n",
       "      <td>lot3405</td>\n",
       "      <td>2</td>\n",
       "      <td>8</td>\n",
       "      <td>99.999774</td>\n",
       "      <td>8</td>\n",
       "      <td>0.0</td>\n",
       "    </tr>\n",
       "    <tr>\n",
       "      <th>2</th>\n",
       "      <td>29290</td>\n",
       "      <td>[[0, 0, 0, 0, 0, 0, 0, 0, 0, 0, 0, 0, 0, 0, 0,...</td>\n",
       "      <td>3030</td>\n",
       "      <td>lot3405</td>\n",
       "      <td>3</td>\n",
       "      <td>8</td>\n",
       "      <td>99.999964</td>\n",
       "      <td>8</td>\n",
       "      <td>0.0</td>\n",
       "    </tr>\n",
       "    <tr>\n",
       "      <th>3</th>\n",
       "      <td>29291</td>\n",
       "      <td>[[0, 0, 0, 0, 0, 0, 0, 0, 0, 0, 0, 0, 0, 0, 0,...</td>\n",
       "      <td>3030</td>\n",
       "      <td>lot3405</td>\n",
       "      <td>4</td>\n",
       "      <td>8</td>\n",
       "      <td>99.999976</td>\n",
       "      <td>8</td>\n",
       "      <td>0.0</td>\n",
       "    </tr>\n",
       "    <tr>\n",
       "      <th>4</th>\n",
       "      <td>29292</td>\n",
       "      <td>[[0, 0, 0, 0, 0, 0, 0, 0, 0, 0, 0, 0, 0, 0, 0,...</td>\n",
       "      <td>3031</td>\n",
       "      <td>lot3405</td>\n",
       "      <td>5</td>\n",
       "      <td>8</td>\n",
       "      <td>95.409411</td>\n",
       "      <td>8</td>\n",
       "      <td>0.0</td>\n",
       "    </tr>\n",
       "  </tbody>\n",
       "</table>\n",
       "</div>"
      ],
      "text/plain": [
       "      ID                                           waferMap  dieSize  lotName  \\\n",
       "0  29288  [[0, 0, 0, 0, 0, 0, 0, 0, 0, 0, 0, 0, 0, 0, 0,...     3031  lot3405   \n",
       "1  29289  [[0, 0, 0, 0, 0, 0, 0, 0, 0, 0, 0, 0, 0, 0, 0,...     3031  lot3405   \n",
       "2  29290  [[0, 0, 0, 0, 0, 0, 0, 0, 0, 0, 0, 0, 0, 0, 0,...     3030  lot3405   \n",
       "3  29291  [[0, 0, 0, 0, 0, 0, 0, 0, 0, 0, 0, 0, 0, 0, 0,...     3030  lot3405   \n",
       "4  29292  [[0, 0, 0, 0, 0, 0, 0, 0, 0, 0, 0, 0, 0, 0, 0,...     3031  lot3405   \n",
       "\n",
       "   waferIndex  pred_labels  pred_prob  pred2_labels  pred2_prob  \n",
       "0           1            8  99.913067             8         0.0  \n",
       "1           2            8  99.999774             8         0.0  \n",
       "2           3            8  99.999964             8         0.0  \n",
       "3           4            8  99.999976             8         0.0  \n",
       "4           5            8  95.409411             8         0.0  "
      ]
     },
     "execution_count": 5,
     "metadata": {},
     "output_type": "execute_result"
    }
   ],
   "source": [
    "# add columns to dataframe\n",
    "data['pred_labels'] = labels\n",
    "\n",
    "# add column of probabilities predicted class \n",
    "def add_max_prob(row):\n",
    "    i = row.name\n",
    "    if row['pred_labels'] == 8:\n",
    "        return detect_max_prob[i] * 100\n",
    "    else:\n",
    "        j = defect_ids.index(data.ID[i])\n",
    "        return (detect_max_prob[i] * classify_max_prob[j]) * 100\n",
    "\n",
    "data['pred_prob'] = data.apply(lambda row: add_max_prob(row), axis=1)\n",
    "\n",
    "# add column for second prediction, if defective\n",
    "# if not defective, second prediction = 8\n",
    "def second_prediction(row):\n",
    "    i = row.name\n",
    "    if row['pred_labels'] == 8:\n",
    "        return 8\n",
    "    else:\n",
    "        j = defect_ids.index(data.ID[i])\n",
    "        return classify_label2[j]\n",
    "\n",
    "data['pred2_labels'] = data.apply(lambda row: second_prediction(row), axis=1)\n",
    "\n",
    "# add column of probabilities for second highest class, if defective\n",
    "# if not defective, second probability = 0\n",
    "def add_second_prob(row):\n",
    "    i = row.name\n",
    "    if row['pred_labels'] == 8:\n",
    "        return 0\n",
    "    else:\n",
    "        j = defect_ids.index(data.ID[i])\n",
    "        return (detect_max_prob[i] * classify_max_prob2[j]) * 100\n",
    "\n",
    "data['pred2_prob'] = data.apply(lambda row: add_second_prob(row), axis=1)\n",
    "\n",
    "data.head()"
   ]
  },
  {
   "cell_type": "code",
   "execution_count": 6,
   "metadata": {},
   "outputs": [],
   "source": [
    "def defect_distribution(data, note=''):\n",
    "    \"\"\"Helper function to visualize distribution of defects\n",
    "       :param mode -> str | classify or detect\"\"\"\n",
    "    \n",
    "    # count how many of each defect is present\n",
    "    dist = data.groupby('pred_labels')['pred_labels'].count().sort_values()\n",
    "    y = dist.tolist()\n",
    "\n",
    "    fail_dict = {8: 'none', 0: 'Loc', 1: 'Edge-Loc', 2: 'Center', 3: 'Edge-Ring', \n",
    "                 4: 'Scratch', 5: 'Random', 6: 'Near-full', 7: 'Donut'}\n",
    "    indices = dist.index.tolist()\n",
    "    x = [fail_dict[i] for i in indices]\n",
    "      \n",
    "    # bar plot\n",
    "    plt.barh(x, y)\n",
    "    xlim = math.ceil(max(y)*1.15)\n",
    "    plt.xlim(0, xlim)\n",
    "    plt.title(f'Failure Type Distribution\\n({note})')\n",
    "\n",
    "    for index, value in enumerate(y):\n",
    "        plt.text(value, index,\n",
    "                 str(value))\n",
    "\n",
    "    plt.show()"
   ]
  },
  {
   "cell_type": "code",
   "execution_count": 7,
   "metadata": {},
   "outputs": [
    {
     "data": {
      "image/png": "[encoded data removed]",
      "text/plain": [
       "<Figure size 432x288 with 1 Axes>"
      ]
     },
     "metadata": {
      "needs_background": "light"
     },
     "output_type": "display_data"
    }
   ],
   "source": [
    "# distribution of labels\n",
    "defect_distribution(data, note='Random Unlabeled Seed 0')"
   ]
  },
  {
   "cell_type": "code",
   "execution_count": 8,
   "metadata": {},
   "outputs": [
    {
     "data": {
      "text/html": [
       "<div>\n",
       "<style scoped>\n",
       "    .dataframe tbody tr th:only-of-type {\n",
       "        vertical-align: middle;\n",
       "    }\n",
       "\n",
       "    .dataframe tbody tr th {\n",
       "        vertical-align: top;\n",
       "    }\n",
       "\n",
       "    .dataframe thead th {\n",
       "        text-align: right;\n",
       "    }\n",
       "</style>\n",
       "<table border=\"1\" class=\"dataframe\">\n",
       "  <thead>\n",
       "    <tr style=\"text-align: right;\">\n",
       "      <th></th>\n",
       "      <th>ID</th>\n",
       "      <th>waferMap</th>\n",
       "      <th>dieSize</th>\n",
       "      <th>lotName</th>\n",
       "      <th>waferIndex</th>\n",
       "      <th>pred_labels</th>\n",
       "      <th>pred_prob</th>\n",
       "      <th>pred2_labels</th>\n",
       "      <th>pred2_prob</th>\n",
       "      <th>lot_defect_ct</th>\n",
       "    </tr>\n",
       "  </thead>\n",
       "  <tbody>\n",
       "    <tr>\n",
       "      <th>0</th>\n",
       "      <td>29288</td>\n",
       "      <td>[[0, 0, 0, 0, 0, 0, 0, 0, 0, 0, 0, 0, 0, 0, 0,...</td>\n",
       "      <td>3031</td>\n",
       "      <td>lot3405</td>\n",
       "      <td>1</td>\n",
       "      <td>8</td>\n",
       "      <td>99.913067</td>\n",
       "      <td>8</td>\n",
       "      <td>0.0</td>\n",
       "      <td>1</td>\n",
       "    </tr>\n",
       "    <tr>\n",
       "      <th>1</th>\n",
       "      <td>29289</td>\n",
       "      <td>[[0, 0, 0, 0, 0, 0, 0, 0, 0, 0, 0, 0, 0, 0, 0,...</td>\n",
       "      <td>3031</td>\n",
       "      <td>lot3405</td>\n",
       "      <td>2</td>\n",
       "      <td>8</td>\n",
       "      <td>99.999774</td>\n",
       "      <td>8</td>\n",
       "      <td>0.0</td>\n",
       "      <td>1</td>\n",
       "    </tr>\n",
       "    <tr>\n",
       "      <th>2</th>\n",
       "      <td>29290</td>\n",
       "      <td>[[0, 0, 0, 0, 0, 0, 0, 0, 0, 0, 0, 0, 0, 0, 0,...</td>\n",
       "      <td>3030</td>\n",
       "      <td>lot3405</td>\n",
       "      <td>3</td>\n",
       "      <td>8</td>\n",
       "      <td>99.999964</td>\n",
       "      <td>8</td>\n",
       "      <td>0.0</td>\n",
       "      <td>1</td>\n",
       "    </tr>\n",
       "    <tr>\n",
       "      <th>3</th>\n",
       "      <td>29291</td>\n",
       "      <td>[[0, 0, 0, 0, 0, 0, 0, 0, 0, 0, 0, 0, 0, 0, 0,...</td>\n",
       "      <td>3030</td>\n",
       "      <td>lot3405</td>\n",
       "      <td>4</td>\n",
       "      <td>8</td>\n",
       "      <td>99.999976</td>\n",
       "      <td>8</td>\n",
       "      <td>0.0</td>\n",
       "      <td>1</td>\n",
       "    </tr>\n",
       "    <tr>\n",
       "      <th>4</th>\n",
       "      <td>29292</td>\n",
       "      <td>[[0, 0, 0, 0, 0, 0, 0, 0, 0, 0, 0, 0, 0, 0, 0,...</td>\n",
       "      <td>3031</td>\n",
       "      <td>lot3405</td>\n",
       "      <td>5</td>\n",
       "      <td>8</td>\n",
       "      <td>95.409411</td>\n",
       "      <td>8</td>\n",
       "      <td>0.0</td>\n",
       "      <td>1</td>\n",
       "    </tr>\n",
       "  </tbody>\n",
       "</table>\n",
       "</div>"
      ],
      "text/plain": [
       "      ID                                           waferMap  dieSize  lotName  \\\n",
       "0  29288  [[0, 0, 0, 0, 0, 0, 0, 0, 0, 0, 0, 0, 0, 0, 0,...     3031  lot3405   \n",
       "1  29289  [[0, 0, 0, 0, 0, 0, 0, 0, 0, 0, 0, 0, 0, 0, 0,...     3031  lot3405   \n",
       "2  29290  [[0, 0, 0, 0, 0, 0, 0, 0, 0, 0, 0, 0, 0, 0, 0,...     3030  lot3405   \n",
       "3  29291  [[0, 0, 0, 0, 0, 0, 0, 0, 0, 0, 0, 0, 0, 0, 0,...     3030  lot3405   \n",
       "4  29292  [[0, 0, 0, 0, 0, 0, 0, 0, 0, 0, 0, 0, 0, 0, 0,...     3031  lot3405   \n",
       "\n",
       "   waferIndex  pred_labels  pred_prob  pred2_labels  pred2_prob  lot_defect_ct  \n",
       "0           1            8  99.913067             8         0.0              1  \n",
       "1           2            8  99.999774             8         0.0              1  \n",
       "2           3            8  99.999964             8         0.0              1  \n",
       "3           4            8  99.999976             8         0.0              1  \n",
       "4           5            8  95.409411             8         0.0              1  "
      ]
     },
     "execution_count": 8,
     "metadata": {},
     "output_type": "execute_result"
    }
   ],
   "source": [
    "# count how many defective wafers in each lot\n",
    "# list of unique lots\n",
    "unique_lots = data.lotName.unique()\n",
    "\n",
    "lot_count = {x:0 for x in unique_lots}\n",
    "for i in range(len(data)):\n",
    "    if data.pred_labels[i] != 8:\n",
    "        lot_count[data.lotName[i]] += 1\n",
    "\n",
    "data['lot_defect_ct'] = data.lotName.apply(lambda x: lot_count[x])\n",
    "data.head()"
   ]
  },
  {
   "cell_type": "code",
   "execution_count": 9,
   "metadata": {},
   "outputs": [
    {
     "data": {
      "image/png": "[encoded data removed]",
      "text/plain": [
       "<Figure size 432x288 with 1 Axes>"
      ]
     },
     "metadata": {
      "needs_background": "light"
     },
     "output_type": "display_data"
    }
   ],
   "source": [
    "plt.hist(lot_count.values(), 50)\n",
    "pass"
   ]
  },
  {
   "cell_type": "code",
   "execution_count": 24,
   "metadata": {},
   "outputs": [],
   "source": [
    "def plot_lot(df1, lot, fig_size=(10, 10), col='waferMap', cmap='viridis'):\n",
    "    \"\"\"\n",
    "    Helper function to plot entire lot of wafers from df1.\n",
    "    Lots must have >= 2 samples.\n",
    "    \n",
    "    :param lot: -> str | lotName that will be plotted e.g. 'lot1'\n",
    "    :param fig_size: -> tuple | size of plot\n",
    "    :param col: -> str | column that contains waferMap image\n",
    "    :param cmap: -> str | color scheme to use\n",
    "    \"\"\"\n",
    "    \n",
    "    lot_df = df1[df1['lotName'] == lot]\n",
    "    lot_df.reset_index(inplace=True)\n",
    "\n",
    "    total_rows = len(lot_df.index)\n",
    "    ax_cnt = 5\n",
    "    \n",
    "    print(f'{lot}')\n",
    "    \n",
    "    fail_dict = {8:'None', 0:'Loc', 1:'Edge-Loc', 2:'Center', 3:'Edge-Ring', \n",
    "             4:'Scratch', 5:'Random', 6:'Near-full', 7:'Donut'}\n",
    "\n",
    "    fig, axs = plt.subplots(ax_cnt, ax_cnt, figsize=fig_size)\n",
    "    fig.tight_layout()\n",
    "\n",
    "    # Nested for loops to loop through all digits and number of examples input for plotting\n",
    "    for n_row in range(25):\n",
    "        if n_row < total_rows:\n",
    "            img = lot_df[col][n_row]\n",
    "            index = lot_df[\"ID\"][n_row]\n",
    "            ftype = fail_dict[lot_df.pred_labels[n_row]]\n",
    "            pct = lot_df.pred_prob[n_row]\n",
    "                \n",
    "        else:\n",
    "            img = np.zeros_like(lot_df[col][0])\n",
    "            index = ''\n",
    "            ftype = ''\n",
    "            pct = ''\n",
    "\n",
    "        # imshow to plot image in axs i,j location in plot\n",
    "        i = n_row % ax_cnt\n",
    "        j = int(n_row/ax_cnt)\n",
    "        axs[i, j].imshow(img,\n",
    "                         interpolation='none',\n",
    "                         cmap=cmap, vmax=2)\n",
    "        axs[i, j].axis('off')\n",
    "\n",
    "        # label the figure with the index# and defect classification [for future reference]\n",
    "        if ftype != 'None':\n",
    "            axs[i, j].set_title(f'{index}: {ftype}\\n{pct:.2f}%', fontsize=10, color='red')\n",
    "        else:\n",
    "            axs[i, j].set_title(f'{index}: {ftype}\\n{pct:.2f}%', fontsize=10)\n",
    "\n",
    "    plt.show()"
   ]
  },
  {
   "cell_type": "code",
   "execution_count": 25,
   "metadata": {},
   "outputs": [
    {
     "data": {
      "text/plain": [
       "{'lot3405': 1,\n",
       " 'lot3562': 0,\n",
       " 'lot3968': 0,\n",
       " 'lot4001': 3,\n",
       " 'lot7124': 0,\n",
       " 'lot7473': 1,\n",
       " 'lot10097': 1,\n",
       " 'lot11007': 2,\n",
       " 'lot12090': 0,\n",
       " 'lot12097': 0,\n",
       " 'lot12394': 0,\n",
       " 'lot14362': 1,\n",
       " 'lot14519': 0,\n",
       " 'lot15386': 25,\n",
       " 'lot15926': 2,\n",
       " 'lot16087': 0,\n",
       " 'lot16995': 15,\n",
       " 'lot17070': 0,\n",
       " 'lot17758': 0,\n",
       " 'lot18188': 0,\n",
       " 'lot18254': 0,\n",
       " 'lot18534': 0,\n",
       " 'lot19173': 1,\n",
       " 'lot19257': 0,\n",
       " 'lot19382': 0,\n",
       " 'lot19680': 0,\n",
       " 'lot20759': 0,\n",
       " 'lot21687': 4,\n",
       " 'lot21946': 25,\n",
       " 'lot22354': 0,\n",
       " 'lot22484': 0,\n",
       " 'lot23142': 0,\n",
       " 'lot24621': 1,\n",
       " 'lot25286': 0,\n",
       " 'lot25429': 0,\n",
       " 'lot27659': 0,\n",
       " 'lot27754': 2,\n",
       " 'lot28465': 0,\n",
       " 'lot28705': 3,\n",
       " 'lot30022': 0,\n",
       " 'lot32703': 9,\n",
       " 'lot33532': 3,\n",
       " 'lot34809': 14,\n",
       " 'lot35791': 4,\n",
       " 'lot38687': 0,\n",
       " 'lot38785': 1,\n",
       " 'lot39671': 5,\n",
       " 'lot39886': 0,\n",
       " 'lot39893': 0,\n",
       " 'lot41583': 3}"
      ]
     },
     "execution_count": 25,
     "metadata": {},
     "output_type": "execute_result"
    }
   ],
   "source": [
    "lot_count"
   ]
  },
  {
   "cell_type": "code",
   "execution_count": 26,
   "metadata": {},
   "outputs": [
    {
     "name": "stdout",
     "output_type": "stream",
     "text": [
      "lot12097\n"
     ]
    },
    {
     "data": {
      "image/png": "[encoded data removed]",
      "text/plain": [
       "<Figure size 576x576 with 25 Axes>"
      ]
     },
     "metadata": {
      "needs_background": "light"
     },
     "output_type": "display_data"
    }
   ],
   "source": [
    "plot_lot(data, 'lot12097', fig_size=(8,8))"
   ]
  },
  {
   "cell_type": "code",
   "execution_count": 27,
   "metadata": {},
   "outputs": [
    {
     "name": "stdout",
     "output_type": "stream",
     "text": [
      "lot12090\n"
     ]
    },
    {
     "data": {
      "image/png": "[encoded data removed]",
      "text/plain": [
       "<Figure size 576x576 with 25 Axes>"
      ]
     },
     "metadata": {
      "needs_background": "light"
     },
     "output_type": "display_data"
    }
   ],
   "source": [
    "plot_lot(data, 'lot12090', fig_size=(8,8))"
   ]
  },
  {
   "cell_type": "code",
   "execution_count": 29,
   "metadata": {},
   "outputs": [
    {
     "name": "stdout",
     "output_type": "stream",
     "text": [
      "lot34809\n"
     ]
    },
    {
     "data": {
      "image/png": "[encoded data removed]",
      "text/plain": [
       "<Figure size 576x576 with 25 Axes>"
      ]
     },
     "metadata": {
      "needs_background": "light"
     },
     "output_type": "display_data"
    }
   ],
   "source": [
    "plot_lot(data, 'lot34809', fig_size=(8,8))"
   ]
  },
  {
   "cell_type": "code",
   "execution_count": 30,
   "metadata": {},
   "outputs": [
    {
     "data": {
      "text/html": [
       "<div>\n",
       "<style scoped>\n",
       "    .dataframe tbody tr th:only-of-type {\n",
       "        vertical-align: middle;\n",
       "    }\n",
       "\n",
       "    .dataframe tbody tr th {\n",
       "        vertical-align: top;\n",
       "    }\n",
       "\n",
       "    .dataframe thead th {\n",
       "        text-align: right;\n",
       "    }\n",
       "</style>\n",
       "<table border=\"1\" class=\"dataframe\">\n",
       "  <thead>\n",
       "    <tr style=\"text-align: right;\">\n",
       "      <th></th>\n",
       "      <th>ID</th>\n",
       "      <th>waferMap</th>\n",
       "      <th>dieSize</th>\n",
       "      <th>lotName</th>\n",
       "      <th>waferIndex</th>\n",
       "      <th>pred_labels</th>\n",
       "      <th>pred_prob</th>\n",
       "      <th>pred2_labels</th>\n",
       "      <th>pred2_prob</th>\n",
       "      <th>lot_defect_ct</th>\n",
       "    </tr>\n",
       "  </thead>\n",
       "  <tbody>\n",
       "    <tr>\n",
       "      <th>1069</th>\n",
       "      <td>528961</td>\n",
       "      <td>[[0, 0, 0, 0, 0, 0, 0, 0, 0, 0, 0, 2, 2, 1, 2,...</td>\n",
       "      <td>515</td>\n",
       "      <td>lot34809</td>\n",
       "      <td>20</td>\n",
       "      <td>2</td>\n",
       "      <td>52.441221</td>\n",
       "      <td>0</td>\n",
       "      <td>0.079533</td>\n",
       "      <td>14</td>\n",
       "    </tr>\n",
       "  </tbody>\n",
       "</table>\n",
       "</div>"
      ],
      "text/plain": [
       "          ID                                           waferMap  dieSize  \\\n",
       "1069  528961  [[0, 0, 0, 0, 0, 0, 0, 0, 0, 0, 0, 2, 2, 1, 2,...      515   \n",
       "\n",
       "       lotName  waferIndex  pred_labels  pred_prob  pred2_labels  pred2_prob  \\\n",
       "1069  lot34809          20            2  52.441221             0    0.079533   \n",
       "\n",
       "      lot_defect_ct  \n",
       "1069             14  "
      ]
     },
     "execution_count": 30,
     "metadata": {},
     "output_type": "execute_result"
    }
   ],
   "source": [
    "data.loc[data.ID == 528961]"
   ]
  },
  {
   "cell_type": "code",
   "execution_count": null,
   "metadata": {},
   "outputs": [],
   "source": []
  },
  {
   "cell_type": "code",
   "execution_count": null,
   "metadata": {},
   "outputs": [],
   "source": []
  }
 ],
 "metadata": {
  "kernelspec": {
   "display_name": "Python 3",
   "language": "python",
   "name": "python3"
  },
  "language_info": {
   "codemirror_mode": {
    "name": "ipython",
    "version": 3
   },
   "file_extension": ".py",
   "mimetype": "text/x-python",
   "name": "python",
   "nbconvert_exporter": "python",
   "pygments_lexer": "ipython3",
   "version": "3.8.3"
  }
 },
 "nbformat": 4,
 "nbformat_minor": 4
}
