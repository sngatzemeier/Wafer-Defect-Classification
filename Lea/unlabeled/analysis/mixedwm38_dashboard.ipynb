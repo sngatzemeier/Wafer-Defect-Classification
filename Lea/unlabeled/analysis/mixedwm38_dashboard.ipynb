{
 "cells": [
  {
   "cell_type": "code",
   "execution_count": 2,
   "metadata": {},
   "outputs": [],
   "source": [
    "# import libraries\n",
    "import os\n",
    "import time\n",
    "import math\n",
    "import random\n",
    "import numpy as np\n",
    "import pandas as pd\n",
    "import pickle5 as pickle\n",
    "import matplotlib.pyplot as plt\n",
    "\n",
    "import dashboard as dash"
   ]
  },
  {
   "cell_type": "code",
   "execution_count": 4,
   "metadata": {},
   "outputs": [
    {
     "name": "stdout",
     "output_type": "stream",
     "text": [
      "(8015, 7)\n"
     ]
    },
    {
     "data": {
      "text/html": [
       "<div>\n",
       "<style scoped>\n",
       "    .dataframe tbody tr th:only-of-type {\n",
       "        vertical-align: middle;\n",
       "    }\n",
       "\n",
       "    .dataframe tbody tr th {\n",
       "        vertical-align: top;\n",
       "    }\n",
       "\n",
       "    .dataframe thead th {\n",
       "        text-align: right;\n",
       "    }\n",
       "</style>\n",
       "<table border=\"1\" class=\"dataframe\">\n",
       "  <thead>\n",
       "    <tr style=\"text-align: right;\">\n",
       "      <th></th>\n",
       "      <th>ID</th>\n",
       "      <th>waferMap</th>\n",
       "      <th>labels</th>\n",
       "      <th>label_total</th>\n",
       "      <th>failureType</th>\n",
       "      <th>detectLabels</th>\n",
       "      <th>classifyLabels</th>\n",
       "    </tr>\n",
       "  </thead>\n",
       "  <tbody>\n",
       "    <tr>\n",
       "      <th>0</th>\n",
       "      <td>0</td>\n",
       "      <td>[[0, 0, 0, 0, 0, 0, 0, 0, 0, 0, 0, 0, 0, 0, 0,...</td>\n",
       "      <td>[1, 0, 0, 0, 0, 0, 0, 0]</td>\n",
       "      <td>1</td>\n",
       "      <td>Center</td>\n",
       "      <td>1</td>\n",
       "      <td>2</td>\n",
       "    </tr>\n",
       "    <tr>\n",
       "      <th>1</th>\n",
       "      <td>1</td>\n",
       "      <td>[[0, 0, 0, 0, 0, 0, 0, 0, 0, 0, 0, 0, 0, 0, 0,...</td>\n",
       "      <td>[1, 0, 0, 0, 0, 0, 0, 0]</td>\n",
       "      <td>1</td>\n",
       "      <td>Center</td>\n",
       "      <td>1</td>\n",
       "      <td>2</td>\n",
       "    </tr>\n",
       "    <tr>\n",
       "      <th>2</th>\n",
       "      <td>2</td>\n",
       "      <td>[[0, 0, 0, 0, 0, 0, 0, 0, 0, 0, 0, 0, 0, 0, 0,...</td>\n",
       "      <td>[1, 0, 0, 0, 0, 0, 0, 0]</td>\n",
       "      <td>1</td>\n",
       "      <td>Center</td>\n",
       "      <td>1</td>\n",
       "      <td>2</td>\n",
       "    </tr>\n",
       "    <tr>\n",
       "      <th>3</th>\n",
       "      <td>3</td>\n",
       "      <td>[[0, 0, 0, 0, 0, 0, 0, 0, 0, 0, 0, 0, 0, 0, 0,...</td>\n",
       "      <td>[1, 0, 0, 0, 0, 0, 0, 0]</td>\n",
       "      <td>1</td>\n",
       "      <td>Center</td>\n",
       "      <td>1</td>\n",
       "      <td>2</td>\n",
       "    </tr>\n",
       "    <tr>\n",
       "      <th>4</th>\n",
       "      <td>4</td>\n",
       "      <td>[[0, 0, 0, 0, 0, 0, 0, 0, 0, 0, 0, 0, 0, 0, 0,...</td>\n",
       "      <td>[1, 0, 0, 0, 0, 0, 0, 0]</td>\n",
       "      <td>1</td>\n",
       "      <td>Center</td>\n",
       "      <td>1</td>\n",
       "      <td>2</td>\n",
       "    </tr>\n",
       "  </tbody>\n",
       "</table>\n",
       "</div>"
      ],
      "text/plain": [
       "   ID                                           waferMap  \\\n",
       "0   0  [[0, 0, 0, 0, 0, 0, 0, 0, 0, 0, 0, 0, 0, 0, 0,...   \n",
       "1   1  [[0, 0, 0, 0, 0, 0, 0, 0, 0, 0, 0, 0, 0, 0, 0,...   \n",
       "2   2  [[0, 0, 0, 0, 0, 0, 0, 0, 0, 0, 0, 0, 0, 0, 0,...   \n",
       "3   3  [[0, 0, 0, 0, 0, 0, 0, 0, 0, 0, 0, 0, 0, 0, 0,...   \n",
       "4   4  [[0, 0, 0, 0, 0, 0, 0, 0, 0, 0, 0, 0, 0, 0, 0,...   \n",
       "\n",
       "                     labels  label_total failureType  detectLabels  \\\n",
       "0  [1, 0, 0, 0, 0, 0, 0, 0]            1      Center             1   \n",
       "1  [1, 0, 0, 0, 0, 0, 0, 0]            1      Center             1   \n",
       "2  [1, 0, 0, 0, 0, 0, 0, 0]            1      Center             1   \n",
       "3  [1, 0, 0, 0, 0, 0, 0, 0]            1      Center             1   \n",
       "4  [1, 0, 0, 0, 0, 0, 0, 0]            1      Center             1   \n",
       "\n",
       "   classifyLabels  \n",
       "0               2  \n",
       "1               2  \n",
       "2               2  \n",
       "3               2  \n",
       "4               2  "
      ]
     },
     "execution_count": 4,
     "metadata": {},
     "output_type": "execute_result"
    }
   ],
   "source": [
    "data_path = '../../data/customer/MixedWM38-single.pkl'\n",
    "df = pd.read_pickle(data_path)\n",
    "print(df.shape)\n",
    "df.head()"
   ]
  },
  {
   "cell_type": "code",
   "execution_count": 2,
   "metadata": {},
   "outputs": [
    {
     "name": "stdout",
     "output_type": "stream",
     "text": [
      "Dataset shape: (5000, 13)\n",
      "Number of lots in lot count dictionary: 200\n"
     ]
    },
    {
     "data": {
      "text/html": [
       "<div>\n",
       "<style scoped>\n",
       "    .dataframe tbody tr th:only-of-type {\n",
       "        vertical-align: middle;\n",
       "    }\n",
       "\n",
       "    .dataframe tbody tr th {\n",
       "        vertical-align: top;\n",
       "    }\n",
       "\n",
       "    .dataframe thead th {\n",
       "        text-align: right;\n",
       "    }\n",
       "</style>\n",
       "<table border=\"1\" class=\"dataframe\">\n",
       "  <thead>\n",
       "    <tr style=\"text-align: right;\">\n",
       "      <th></th>\n",
       "      <th>ID</th>\n",
       "      <th>waferMap</th>\n",
       "      <th>dieSize</th>\n",
       "      <th>lotName</th>\n",
       "      <th>waferIndex</th>\n",
       "      <th>x_</th>\n",
       "      <th>y_</th>\n",
       "      <th>density</th>\n",
       "      <th>is_corrupted</th>\n",
       "      <th>pred_labels</th>\n",
       "      <th>pred_prob</th>\n",
       "      <th>pred2_labels</th>\n",
       "      <th>pred2_prob</th>\n",
       "    </tr>\n",
       "  </thead>\n",
       "  <tbody>\n",
       "    <tr>\n",
       "      <th>0</th>\n",
       "      <td>3820</td>\n",
       "      <td>[[0, 0, 0, 0, 0, 0, 0, 0, 0, 0, 0, 0, 2, 2, 2,...</td>\n",
       "      <td>635</td>\n",
       "      <td>lot1940</td>\n",
       "      <td>1</td>\n",
       "      <td>29</td>\n",
       "      <td>29</td>\n",
       "      <td>0.755054</td>\n",
       "      <td>0</td>\n",
       "      <td>1</td>\n",
       "      <td>99.208575</td>\n",
       "      <td>0</td>\n",
       "      <td>0.295329</td>\n",
       "    </tr>\n",
       "    <tr>\n",
       "      <th>1</th>\n",
       "      <td>3821</td>\n",
       "      <td>[[0, 0, 0, 0, 0, 0, 0, 0, 0, 0, 0, 0, 2, 2, 2,...</td>\n",
       "      <td>635</td>\n",
       "      <td>lot1940</td>\n",
       "      <td>2</td>\n",
       "      <td>29</td>\n",
       "      <td>29</td>\n",
       "      <td>0.755054</td>\n",
       "      <td>0</td>\n",
       "      <td>1</td>\n",
       "      <td>96.306860</td>\n",
       "      <td>8</td>\n",
       "      <td>1.543140</td>\n",
       "    </tr>\n",
       "    <tr>\n",
       "      <th>2</th>\n",
       "      <td>3822</td>\n",
       "      <td>[[0, 0, 0, 0, 0, 0, 0, 0, 0, 0, 0, 0, 2, 2, 2,...</td>\n",
       "      <td>635</td>\n",
       "      <td>lot1940</td>\n",
       "      <td>3</td>\n",
       "      <td>29</td>\n",
       "      <td>29</td>\n",
       "      <td>0.755054</td>\n",
       "      <td>0</td>\n",
       "      <td>1</td>\n",
       "      <td>98.905385</td>\n",
       "      <td>0</td>\n",
       "      <td>0.391878</td>\n",
       "    </tr>\n",
       "    <tr>\n",
       "      <th>3</th>\n",
       "      <td>3823</td>\n",
       "      <td>[[0, 0, 0, 0, 0, 0, 0, 0, 0, 0, 0, 0, 2, 2, 2,...</td>\n",
       "      <td>635</td>\n",
       "      <td>lot1940</td>\n",
       "      <td>4</td>\n",
       "      <td>29</td>\n",
       "      <td>29</td>\n",
       "      <td>0.755054</td>\n",
       "      <td>0</td>\n",
       "      <td>8</td>\n",
       "      <td>99.364072</td>\n",
       "      <td>3</td>\n",
       "      <td>0.470104</td>\n",
       "    </tr>\n",
       "    <tr>\n",
       "      <th>4</th>\n",
       "      <td>3824</td>\n",
       "      <td>[[0, 0, 0, 0, 0, 0, 0, 0, 0, 0, 0, 0, 2, 2, 2,...</td>\n",
       "      <td>635</td>\n",
       "      <td>lot1940</td>\n",
       "      <td>5</td>\n",
       "      <td>29</td>\n",
       "      <td>29</td>\n",
       "      <td>0.755054</td>\n",
       "      <td>0</td>\n",
       "      <td>3</td>\n",
       "      <td>50.034326</td>\n",
       "      <td>1</td>\n",
       "      <td>48.723727</td>\n",
       "    </tr>\n",
       "  </tbody>\n",
       "</table>\n",
       "</div>"
      ],
      "text/plain": [
       "     ID                                           waferMap  dieSize  lotName  \\\n",
       "0  3820  [[0, 0, 0, 0, 0, 0, 0, 0, 0, 0, 0, 0, 2, 2, 2,...      635  lot1940   \n",
       "1  3821  [[0, 0, 0, 0, 0, 0, 0, 0, 0, 0, 0, 0, 2, 2, 2,...      635  lot1940   \n",
       "2  3822  [[0, 0, 0, 0, 0, 0, 0, 0, 0, 0, 0, 0, 2, 2, 2,...      635  lot1940   \n",
       "3  3823  [[0, 0, 0, 0, 0, 0, 0, 0, 0, 0, 0, 0, 2, 2, 2,...      635  lot1940   \n",
       "4  3824  [[0, 0, 0, 0, 0, 0, 0, 0, 0, 0, 0, 0, 2, 2, 2,...      635  lot1940   \n",
       "\n",
       "   waferIndex  x_  y_   density  is_corrupted  pred_labels  pred_prob  \\\n",
       "0           1  29  29  0.755054             0            1  99.208575   \n",
       "1           2  29  29  0.755054             0            1  96.306860   \n",
       "2           3  29  29  0.755054             0            1  98.905385   \n",
       "3           4  29  29  0.755054             0            8  99.364072   \n",
       "4           5  29  29  0.755054             0            3  50.034326   \n",
       "\n",
       "   pred2_labels  pred2_prob  \n",
       "0             0    0.295329  \n",
       "1             8    1.543140  \n",
       "2             0    0.391878  \n",
       "3             3    0.470104  \n",
       "4             1   48.723727  "
      ]
     },
     "execution_count": 2,
     "metadata": {},
     "output_type": "execute_result"
    }
   ],
   "source": [
    "predictions_path = '../../aws_models/results_yureruns/yuclassify-all-224thin2-mixedwm38-single.pkl'\n",
    "\n",
    "data, lot_count = dash.generate_dashboard_data(data_path=data_path, predictions_path=predictions_path)\n",
    "data.head()"
   ]
  },
  {
   "cell_type": "code",
   "execution_count": 3,
   "metadata": {},
   "outputs": [
    {
     "name": "stdout",
     "output_type": "stream",
     "text": [
      "Percent of wafers predicted with no defects: 82.10%\n",
      "Percent of wafers predicted with defects: 17.90%\n"
     ]
    }
   ],
   "source": [
    "# per wafer statistics\n",
    "pct_none = len(data[data.pred_labels == 8]) / len(data) * 100\n",
    "print(f'Percent of wafers predicted with no defects: {pct_none:.2f}%')\n",
    "\n",
    "pct_def = len(data[data.pred_labels != 8]) / len(data) * 100\n",
    "print(f'Percent of wafers predicted with defects: {pct_def:.2f}%')"
   ]
  },
  {
   "cell_type": "code",
   "execution_count": 4,
   "metadata": {},
   "outputs": [
    {
     "name": "stdout",
     "output_type": "stream",
     "text": [
      "Percent of lots predicted with no defective wafers: 38%\n",
      "Percent of lots predicted with at least one defective wafer: 62%\n",
      "Percent of lots predicted to be all defective: 2%\n"
     ]
    }
   ],
   "source": [
    "# lot statistics\n",
    "pct_none_lot = len([x for x, y in lot_count.items() if y == 0]) / len(lot_count) * 100\n",
    "print(f'Percent of lots predicted with no defective wafers: {pct_none_lot:.0f}%')\n",
    "\n",
    "pct_def_lot = len([x for x, y in lot_count.items() if y > 0]) / len(lot_count) * 100\n",
    "print(f'Percent of lots predicted with at least one defective wafer: {pct_def_lot:.0f}%')\n",
    "\n",
    "pct_all_lot = len([x for x, y in lot_count.items() if y == 25]) / len(lot_count) * 100\n",
    "print(f'Percent of lots predicted to be all defective: {pct_all_lot:.0f}%')"
   ]
  },
  {
   "cell_type": "code",
   "execution_count": 5,
   "metadata": {},
   "outputs": [
    {
     "data": {
      "image/png": "[encoded data removed]",
      "text/plain": [
       "<Figure size 432x288 with 1 Axes>"
      ]
     },
     "metadata": {
      "needs_background": "light"
     },
     "output_type": "display_data"
    }
   ],
   "source": [
    "# distribution of labels\n",
    "dash.defect_distribution(data, mode='detect', color='#440154FF')"
   ]
  },
  {
   "cell_type": "code",
   "execution_count": 6,
   "metadata": {},
   "outputs": [
    {
     "data": {
      "image/png": "[encoded data removed]",
      "text/plain": [
       "<Figure size 432x288 with 1 Axes>"
      ]
     },
     "metadata": {
      "needs_background": "light"
     },
     "output_type": "display_data"
    }
   ],
   "source": [
    "# distribution of labels\n",
    "dash.defect_distribution(data, mode='classify', color='#33638DFF')"
   ]
  },
  {
   "cell_type": "code",
   "execution_count": 7,
   "metadata": {},
   "outputs": [
    {
     "data": {
      "image/png": "[encoded data removed]",
      "text/plain": [
       "<Figure size 432x288 with 1 Axes>"
      ]
     },
     "metadata": {},
     "output_type": "display_data"
    }
   ],
   "source": [
    "dash.visualize_defective_lots(lot_count)"
   ]
  },
  {
   "cell_type": "code",
   "execution_count": 8,
   "metadata": {},
   "outputs": [],
   "source": [
    "# data.groupby('pred_labels').get_group(4)"
   ]
  },
  {
   "cell_type": "code",
   "execution_count": 9,
   "metadata": {},
   "outputs": [
    {
     "data": {
      "text/plain": [
       "{'lot1940': 16,\n",
       " 'lot1961': 12,\n",
       " 'lot2424': 1,\n",
       " 'lot2694': 25,\n",
       " 'lot2697': 25,\n",
       " 'lot3245': 25,\n",
       " 'lot4631': 25,\n",
       " 'lot5228': 16,\n",
       " 'lot5260': 10,\n",
       " 'lot5320': 10,\n",
       " 'lot5329': 1,\n",
       " 'lot5337': 3,\n",
       " 'lot5438': 15,\n",
       " 'lot5442': 5,\n",
       " 'lot5455': 9,\n",
       " 'lot5481': 2,\n",
       " 'lot5525': 0,\n",
       " 'lot5590': 17,\n",
       " 'lot5591': 5,\n",
       " 'lot5611': 10,\n",
       " 'lot5618': 2,\n",
       " 'lot5739': 0,\n",
       " 'lot5741': 0,\n",
       " 'lot6997': 0,\n",
       " 'lot7002': 1,\n",
       " 'lot7009': 1,\n",
       " 'lot7028': 0,\n",
       " 'lot7042': 1,\n",
       " 'lot7046': 2,\n",
       " 'lot7052': 1,\n",
       " 'lot7063': 0,\n",
       " 'lot7071': 1,\n",
       " 'lot7076': 1,\n",
       " 'lot7119': 0,\n",
       " 'lot7322': 1,\n",
       " 'lot7323': 15,\n",
       " 'lot7350': 18,\n",
       " 'lot7351': 4,\n",
       " 'lot7358': 12,\n",
       " 'lot7553': 21,\n",
       " 'lot7575': 22,\n",
       " 'lot7576': 0,\n",
       " 'lot7579': 0,\n",
       " 'lot7588': 0,\n",
       " 'lot7597': 4,\n",
       " 'lot7616': 0,\n",
       " 'lot7639': 0,\n",
       " 'lot7673': 2,\n",
       " 'lot7735': 25,\n",
       " 'lot8178': 0,\n",
       " 'lot8180': 0,\n",
       " 'lot8184': 0,\n",
       " 'lot8249': 3,\n",
       " 'lot8257': 3,\n",
       " 'lot8314': 21,\n",
       " 'lot8346': 0,\n",
       " 'lot8520': 0,\n",
       " 'lot8521': 2,\n",
       " 'lot8535': 7,\n",
       " 'lot8537': 1,\n",
       " 'lot10535': 1,\n",
       " 'lot10565': 2,\n",
       " 'lot10567': 1,\n",
       " 'lot10572': 2,\n",
       " 'lot10578': 24,\n",
       " 'lot10589': 24,\n",
       " 'lot10611': 0,\n",
       " 'lot10619': 0,\n",
       " 'lot10630': 0,\n",
       " 'lot10631': 0,\n",
       " 'lot10843': 12,\n",
       " 'lot10845': 10,\n",
       " 'lot10950': 1,\n",
       " 'lot10969': 23,\n",
       " 'lot11262': 0,\n",
       " 'lot11558': 0,\n",
       " 'lot11562': 2,\n",
       " 'lot11568': 0,\n",
       " 'lot11579': 0,\n",
       " 'lot12032': 24,\n",
       " 'lot12035': 1,\n",
       " 'lot12041': 0,\n",
       " 'lot12052': 23,\n",
       " 'lot12053': 2,\n",
       " 'lot12086': 22,\n",
       " 'lot13025': 0,\n",
       " 'lot13057': 1,\n",
       " 'lot13059': 0,\n",
       " 'lot13075': 0,\n",
       " 'lot13096': 0,\n",
       " 'lot13118': 0,\n",
       " 'lot13696': 0,\n",
       " 'lot13755': 0,\n",
       " 'lot13894': 0,\n",
       " 'lot13908': 0,\n",
       " 'lot13911': 0,\n",
       " 'lot14022': 1,\n",
       " 'lot14039': 0,\n",
       " 'lot14055': 2,\n",
       " 'lot14059': 1,\n",
       " 'lot14063': 0,\n",
       " 'lot14736': 0,\n",
       " 'lot15691': 4,\n",
       " 'lot16621': 0,\n",
       " 'lot16639': 1,\n",
       " 'lot16707': 1,\n",
       " 'lot16712': 1,\n",
       " 'lot16782': 1,\n",
       " 'lot16880': 0,\n",
       " 'lot16892': 1,\n",
       " 'lot16914': 1,\n",
       " 'lot16934': 1,\n",
       " 'lot16953': 2,\n",
       " 'lot17088': 2,\n",
       " 'lot17200': 0,\n",
       " 'lot17427': 0,\n",
       " 'lot17434': 0,\n",
       " 'lot17440': 1,\n",
       " 'lot17451': 0,\n",
       " 'lot17453': 1,\n",
       " 'lot17455': 0,\n",
       " 'lot17460': 0,\n",
       " 'lot17785': 0,\n",
       " 'lot17987': 1,\n",
       " 'lot17989': 1,\n",
       " 'lot17994': 1,\n",
       " 'lot18443': 0,\n",
       " 'lot18455': 0,\n",
       " 'lot18460': 1,\n",
       " 'lot18547': 0,\n",
       " 'lot18555': 0,\n",
       " 'lot18571': 0,\n",
       " 'lot18584': 0,\n",
       " 'lot18602': 1,\n",
       " 'lot18614': 2,\n",
       " 'lot18643': 0,\n",
       " 'lot18647': 0,\n",
       " 'lot18648': 0,\n",
       " 'lot18654': 0,\n",
       " 'lot18663': 0,\n",
       " 'lot18783': 0,\n",
       " 'lot18814': 1,\n",
       " 'lot18818': 0,\n",
       " 'lot18824': 0,\n",
       " 'lot18840': 0,\n",
       " 'lot18860': 0,\n",
       " 'lot19116': 1,\n",
       " 'lot20063': 0,\n",
       " 'lot20078': 2,\n",
       " 'lot20152': 1,\n",
       " 'lot20529': 0,\n",
       " 'lot20534': 0,\n",
       " 'lot20582': 0,\n",
       " 'lot20712': 1,\n",
       " 'lot20804': 1,\n",
       " 'lot21371': 1,\n",
       " 'lot21382': 1,\n",
       " 'lot21981': 0,\n",
       " 'lot22400': 1,\n",
       " 'lot22431': 0,\n",
       " 'lot23001': 0,\n",
       " 'lot23615': 3,\n",
       " 'lot23617': 0,\n",
       " 'lot23649': 1,\n",
       " 'lot23652': 2,\n",
       " 'lot23847': 3,\n",
       " 'lot24528': 0,\n",
       " 'lot24535': 2,\n",
       " 'lot24689': 7,\n",
       " 'lot29758': 9,\n",
       " 'lot29791': 13,\n",
       " 'lot29953': 3,\n",
       " 'lot29965': 4,\n",
       " 'lot31535': 7,\n",
       " 'lot33873': 2,\n",
       " 'lot33884': 17,\n",
       " 'lot33928': 13,\n",
       " 'lot35143': 22,\n",
       " 'lot36082': 22,\n",
       " 'lot36084': 19,\n",
       " 'lot36122': 6,\n",
       " 'lot36135': 6,\n",
       " 'lot36137': 9,\n",
       " 'lot36187': 0,\n",
       " 'lot36201': 5,\n",
       " 'lot36225': 14,\n",
       " 'lot36243': 6,\n",
       " 'lot36298': 12,\n",
       " 'lot36424': 2,\n",
       " 'lot36435': 2,\n",
       " 'lot36473': 10,\n",
       " 'lot36488': 0,\n",
       " 'lot36541': 2,\n",
       " 'lot38781': 3,\n",
       " 'lot38787': 0,\n",
       " 'lot38791': 3,\n",
       " 'lot38792': 16,\n",
       " 'lot38809': 3,\n",
       " 'lot38813': 14,\n",
       " 'lot40146': 17}"
      ]
     },
     "execution_count": 9,
     "metadata": {},
     "output_type": "execute_result"
    }
   ],
   "source": [
    "lot_count"
   ]
  },
  {
   "cell_type": "code",
   "execution_count": null,
   "metadata": {},
   "outputs": [],
   "source": [
    "# from IPython.display import clear_output\n",
    "# def show_lots(test_lots):\n",
    "#     for lot in test_lots: \n",
    "#         dash.plot_lot(data, lot, resize=False)\n",
    "#         input('Press enter to see next lot')\n",
    "#         clear_output(wait=True)\n",
    "        \n",
    "# lots = list(lot_count.keys())\n",
    "# show_lots(lots)"
   ]
  },
  {
   "cell_type": "code",
   "execution_count": 20,
   "metadata": {},
   "outputs": [
    {
     "name": "stdout",
     "output_type": "stream",
     "text": [
      "lot7046\n"
     ]
    },
    {
     "data": {
      "image/png": "[encoded data removed]",
      "text/plain": [
       "<Figure size 720x720 with 25 Axes>"
      ]
     },
     "metadata": {
      "needs_background": "light"
     },
     "output_type": "display_data"
    }
   ],
   "source": [
    "dash.plot_lot(data, 'lot7046', resize=False, cmap_img='gray_r')"
   ]
  },
  {
   "cell_type": "code",
   "execution_count": null,
   "metadata": {},
   "outputs": [],
   "source": []
  },
  {
   "cell_type": "code",
   "execution_count": null,
   "metadata": {},
   "outputs": [],
   "source": [
    "# plot specific waferMap by ID\n",
    "i = data[data.ID == 229544].index[0]\n",
    "plt.imshow(data.waferMap[i], interpolation='none', cmap='gray_r')\n",
    "plt.axis('off')\n",
    "\n",
    "fail_dict = {8:'None', 0:'Loc', 1:'Edge-Loc', 2:'Center', 3:'Edge-Ring', \n",
    "             4:'Scratch', 5:'Random', 6:'Near-full', 7:'Donut'}\n",
    "\n",
    "print(f'Wafer ID: {data.ID[i]}')\n",
    "print(f'Predicted label: {fail_dict[data.pred_labels[i]]} ({data.pred_prob[i]:.2f}%)')\n",
    "print(f'Second Prediction: {fail_dict[data.pred2_labels[i]]} ({data.pred2_prob[i]:.2f}%)')\n",
    "pass"
   ]
  },
  {
   "cell_type": "code",
   "execution_count": null,
   "metadata": {},
   "outputs": [],
   "source": [
    "# random samples of defect types\n",
    "defects = [i for i in range(len(data)) if data.iloc[i].pred_labels == 1]\n",
    "random_n = random.sample(defects, 25)\n",
    "dash.plot_list(data, random_n)"
   ]
  },
  {
   "cell_type": "code",
   "execution_count": null,
   "metadata": {},
   "outputs": [],
   "source": []
  }
 ],
 "metadata": {
  "kernelspec": {
   "display_name": "Python 3",
   "language": "python",
   "name": "python3"
  },
  "language_info": {
   "codemirror_mode": {
    "name": "ipython",
    "version": 3
   },
   "file_extension": ".py",
   "mimetype": "text/x-python",
   "name": "python",
   "nbconvert_exporter": "python",
   "pygments_lexer": "ipython3",
   "version": "3.8.3"
  }
 },
 "nbformat": 4,
 "nbformat_minor": 4
}
