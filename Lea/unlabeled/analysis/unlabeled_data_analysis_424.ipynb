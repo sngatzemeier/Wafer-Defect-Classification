{
 "cells": [
  {
   "cell_type": "code",
   "execution_count": 1,
   "metadata": {},
   "outputs": [],
   "source": [
    "# import libraries\n",
    "import os\n",
    "import time\n",
    "import math\n",
    "import random\n",
    "import numpy as np\n",
    "import pandas as pd\n",
    "import matplotlib.pyplot as plt\n",
    "import pickle5 as pickle\n",
    "\n",
    "import helpers as helper"
   ]
  },
  {
   "cell_type": "code",
   "execution_count": 2,
   "metadata": {},
   "outputs": [
    {
     "name": "stdout",
     "output_type": "stream",
     "text": [
      "(1250, 5)\n"
     ]
    },
    {
     "data": {
      "text/html": [
       "<div>\n",
       "<style scoped>\n",
       "    .dataframe tbody tr th:only-of-type {\n",
       "        vertical-align: middle;\n",
       "    }\n",
       "\n",
       "    .dataframe tbody tr th {\n",
       "        vertical-align: top;\n",
       "    }\n",
       "\n",
       "    .dataframe thead th {\n",
       "        text-align: right;\n",
       "    }\n",
       "</style>\n",
       "<table border=\"1\" class=\"dataframe\">\n",
       "  <thead>\n",
       "    <tr style=\"text-align: right;\">\n",
       "      <th></th>\n",
       "      <th>ID</th>\n",
       "      <th>waferMap</th>\n",
       "      <th>dieSize</th>\n",
       "      <th>lotName</th>\n",
       "      <th>waferIndex</th>\n",
       "    </tr>\n",
       "  </thead>\n",
       "  <tbody>\n",
       "    <tr>\n",
       "      <th>0</th>\n",
       "      <td>19770</td>\n",
       "      <td>[[0, 0, 0, 0, 0, 0, 0, 0, 0, 0, 0, 0, 1, 2, 1,...</td>\n",
       "      <td>741</td>\n",
       "      <td>lot2938</td>\n",
       "      <td>1</td>\n",
       "    </tr>\n",
       "    <tr>\n",
       "      <th>1</th>\n",
       "      <td>19771</td>\n",
       "      <td>[[0, 0, 0, 0, 0, 0, 0, 0, 0, 0, 0, 0, 2, 2, 1,...</td>\n",
       "      <td>741</td>\n",
       "      <td>lot2938</td>\n",
       "      <td>2</td>\n",
       "    </tr>\n",
       "    <tr>\n",
       "      <th>2</th>\n",
       "      <td>19772</td>\n",
       "      <td>[[0, 0, 0, 0, 0, 0, 0, 0, 0, 0, 0, 0, 1, 1, 1,...</td>\n",
       "      <td>741</td>\n",
       "      <td>lot2938</td>\n",
       "      <td>3</td>\n",
       "    </tr>\n",
       "    <tr>\n",
       "      <th>3</th>\n",
       "      <td>19773</td>\n",
       "      <td>[[0, 0, 0, 0, 0, 0, 0, 0, 0, 0, 0, 0, 1, 2, 1,...</td>\n",
       "      <td>741</td>\n",
       "      <td>lot2938</td>\n",
       "      <td>4</td>\n",
       "    </tr>\n",
       "    <tr>\n",
       "      <th>4</th>\n",
       "      <td>19774</td>\n",
       "      <td>[[0, 0, 0, 0, 0, 0, 0, 0, 0, 0, 0, 0, 2, 1, 2,...</td>\n",
       "      <td>741</td>\n",
       "      <td>lot2938</td>\n",
       "      <td>5</td>\n",
       "    </tr>\n",
       "  </tbody>\n",
       "</table>\n",
       "</div>"
      ],
      "text/plain": [
       "      ID                                           waferMap  dieSize  lotName  \\\n",
       "0  19770  [[0, 0, 0, 0, 0, 0, 0, 0, 0, 0, 0, 0, 1, 2, 1,...      741  lot2938   \n",
       "1  19771  [[0, 0, 0, 0, 0, 0, 0, 0, 0, 0, 0, 0, 2, 2, 1,...      741  lot2938   \n",
       "2  19772  [[0, 0, 0, 0, 0, 0, 0, 0, 0, 0, 0, 0, 1, 1, 1,...      741  lot2938   \n",
       "3  19773  [[0, 0, 0, 0, 0, 0, 0, 0, 0, 0, 0, 0, 1, 2, 1,...      741  lot2938   \n",
       "4  19774  [[0, 0, 0, 0, 0, 0, 0, 0, 0, 0, 0, 0, 2, 1, 2,...      741  lot2938   \n",
       "\n",
       "   waferIndex  \n",
       "0           1  \n",
       "1           2  \n",
       "2           3  \n",
       "3           4  \n",
       "4           5  "
      ]
     },
     "execution_count": 2,
     "metadata": {},
     "output_type": "execute_result"
    }
   ],
   "source": [
    "# load data\n",
    "with open('../../data/customer/WM-unlabeled-random50-424.pkl', \"rb\") as fh:\n",
    "    data = pickle.load(fh)\n",
    "\n",
    "print(data.shape)\n",
    "data.head()"
   ]
  },
  {
   "cell_type": "code",
   "execution_count": 3,
   "metadata": {},
   "outputs": [
    {
     "name": "stdout",
     "output_type": "stream",
     "text": [
      "Detected defective wafers: 74\n",
      "Detect probabilities length: 1250\n",
      "Classify probabilities length: 74\n",
      "Labels length: 1250\n"
     ]
    }
   ],
   "source": [
    "# load predictions\n",
    "with open('../results/yutandem-224thin2-unlabeled-random424.pkl', \"rb\") as fh:\n",
    "    predictions = pickle.load(fh)\n",
    "\n",
    "defect_ids = predictions[0]\n",
    "detect_probs = predictions[1]\n",
    "classify_probs = predictions[2]\n",
    "labels = predictions[3]\n",
    "    \n",
    "# sanity check\n",
    "print(f'Detected defective wafers: {len(defect_ids)}')\n",
    "print(f'Detect probabilities length: {len(detect_probs)}')\n",
    "print(f'Classify probabilities length: {len(classify_probs)}')\n",
    "print(f'Labels length: {len(labels)}')"
   ]
  },
  {
   "cell_type": "code",
   "execution_count": 4,
   "metadata": {},
   "outputs": [],
   "source": [
    "# probabilities for the highest class for each model\n",
    "detect_max_prob = [max(x) for x in detect_probs]\n",
    "classify_max_prob = [max(x) for x in classify_probs]\n",
    "\n",
    "# second highest class for defective sample\n",
    "classify_label2 = [x.argsort()[-2] for x in classify_probs]\n",
    "\n",
    "# second highest class probability\n",
    "classify_max_prob2 = [x[i] for x, i in zip(classify_probs, classify_label2)]"
   ]
  },
  {
   "cell_type": "code",
   "execution_count": 5,
   "metadata": {},
   "outputs": [
    {
     "data": {
      "text/html": [
       "<div>\n",
       "<style scoped>\n",
       "    .dataframe tbody tr th:only-of-type {\n",
       "        vertical-align: middle;\n",
       "    }\n",
       "\n",
       "    .dataframe tbody tr th {\n",
       "        vertical-align: top;\n",
       "    }\n",
       "\n",
       "    .dataframe thead th {\n",
       "        text-align: right;\n",
       "    }\n",
       "</style>\n",
       "<table border=\"1\" class=\"dataframe\">\n",
       "  <thead>\n",
       "    <tr style=\"text-align: right;\">\n",
       "      <th></th>\n",
       "      <th>ID</th>\n",
       "      <th>waferMap</th>\n",
       "      <th>dieSize</th>\n",
       "      <th>lotName</th>\n",
       "      <th>waferIndex</th>\n",
       "      <th>pred_labels</th>\n",
       "      <th>pred_prob</th>\n",
       "      <th>pred2_labels</th>\n",
       "      <th>pred2_prob</th>\n",
       "    </tr>\n",
       "  </thead>\n",
       "  <tbody>\n",
       "    <tr>\n",
       "      <th>0</th>\n",
       "      <td>19770</td>\n",
       "      <td>[[0, 0, 0, 0, 0, 0, 0, 0, 0, 0, 0, 0, 1, 2, 1,...</td>\n",
       "      <td>741</td>\n",
       "      <td>lot2938</td>\n",
       "      <td>1</td>\n",
       "      <td>8</td>\n",
       "      <td>99.999988</td>\n",
       "      <td>8</td>\n",
       "      <td>0.0</td>\n",
       "    </tr>\n",
       "    <tr>\n",
       "      <th>1</th>\n",
       "      <td>19771</td>\n",
       "      <td>[[0, 0, 0, 0, 0, 0, 0, 0, 0, 0, 0, 0, 2, 2, 1,...</td>\n",
       "      <td>741</td>\n",
       "      <td>lot2938</td>\n",
       "      <td>2</td>\n",
       "      <td>8</td>\n",
       "      <td>100.000000</td>\n",
       "      <td>8</td>\n",
       "      <td>0.0</td>\n",
       "    </tr>\n",
       "    <tr>\n",
       "      <th>2</th>\n",
       "      <td>19772</td>\n",
       "      <td>[[0, 0, 0, 0, 0, 0, 0, 0, 0, 0, 0, 0, 1, 1, 1,...</td>\n",
       "      <td>741</td>\n",
       "      <td>lot2938</td>\n",
       "      <td>3</td>\n",
       "      <td>8</td>\n",
       "      <td>99.999690</td>\n",
       "      <td>8</td>\n",
       "      <td>0.0</td>\n",
       "    </tr>\n",
       "    <tr>\n",
       "      <th>3</th>\n",
       "      <td>19773</td>\n",
       "      <td>[[0, 0, 0, 0, 0, 0, 0, 0, 0, 0, 0, 0, 1, 2, 1,...</td>\n",
       "      <td>741</td>\n",
       "      <td>lot2938</td>\n",
       "      <td>4</td>\n",
       "      <td>8</td>\n",
       "      <td>100.000000</td>\n",
       "      <td>8</td>\n",
       "      <td>0.0</td>\n",
       "    </tr>\n",
       "    <tr>\n",
       "      <th>4</th>\n",
       "      <td>19774</td>\n",
       "      <td>[[0, 0, 0, 0, 0, 0, 0, 0, 0, 0, 0, 0, 2, 1, 2,...</td>\n",
       "      <td>741</td>\n",
       "      <td>lot2938</td>\n",
       "      <td>5</td>\n",
       "      <td>8</td>\n",
       "      <td>99.999905</td>\n",
       "      <td>8</td>\n",
       "      <td>0.0</td>\n",
       "    </tr>\n",
       "  </tbody>\n",
       "</table>\n",
       "</div>"
      ],
      "text/plain": [
       "      ID                                           waferMap  dieSize  lotName  \\\n",
       "0  19770  [[0, 0, 0, 0, 0, 0, 0, 0, 0, 0, 0, 0, 1, 2, 1,...      741  lot2938   \n",
       "1  19771  [[0, 0, 0, 0, 0, 0, 0, 0, 0, 0, 0, 0, 2, 2, 1,...      741  lot2938   \n",
       "2  19772  [[0, 0, 0, 0, 0, 0, 0, 0, 0, 0, 0, 0, 1, 1, 1,...      741  lot2938   \n",
       "3  19773  [[0, 0, 0, 0, 0, 0, 0, 0, 0, 0, 0, 0, 1, 2, 1,...      741  lot2938   \n",
       "4  19774  [[0, 0, 0, 0, 0, 0, 0, 0, 0, 0, 0, 0, 2, 1, 2,...      741  lot2938   \n",
       "\n",
       "   waferIndex  pred_labels   pred_prob  pred2_labels  pred2_prob  \n",
       "0           1            8   99.999988             8         0.0  \n",
       "1           2            8  100.000000             8         0.0  \n",
       "2           3            8   99.999690             8         0.0  \n",
       "3           4            8  100.000000             8         0.0  \n",
       "4           5            8   99.999905             8         0.0  "
      ]
     },
     "execution_count": 5,
     "metadata": {},
     "output_type": "execute_result"
    }
   ],
   "source": [
    "# add columns to dataframe\n",
    "data['pred_labels'] = labels\n",
    "\n",
    "# add column of probabilities predicted class \n",
    "def add_max_prob(row):\n",
    "    i = row.name\n",
    "    if row['pred_labels'] == 8:\n",
    "        return detect_max_prob[i] * 100\n",
    "    else:\n",
    "        j = defect_ids.index(data.ID[i])\n",
    "        return (detect_max_prob[i] * classify_max_prob[j]) * 100\n",
    "\n",
    "data['pred_prob'] = data.apply(lambda row: add_max_prob(row), axis=1)\n",
    "\n",
    "# add column for second prediction, if defective\n",
    "# if not defective, second prediction = 8\n",
    "def second_prediction(row):\n",
    "    i = row.name\n",
    "    if row['pred_labels'] == 8:\n",
    "        return 8\n",
    "    else:\n",
    "        j = defect_ids.index(data.ID[i])\n",
    "        return classify_label2[j]\n",
    "\n",
    "data['pred2_labels'] = data.apply(lambda row: second_prediction(row), axis=1)\n",
    "\n",
    "# add column of probabilities for second highest class, if defective\n",
    "# if not defective, second probability = 0\n",
    "def add_second_prob(row):\n",
    "    i = row.name\n",
    "    if row['pred_labels'] == 8:\n",
    "        return 0\n",
    "    else:\n",
    "        j = defect_ids.index(data.ID[i])\n",
    "        return (detect_max_prob[i] * classify_max_prob2[j]) * 100\n",
    "\n",
    "data['pred2_prob'] = data.apply(lambda row: add_second_prob(row), axis=1)\n",
    "\n",
    "data.head()"
   ]
  },
  {
   "cell_type": "code",
   "execution_count": 6,
   "metadata": {},
   "outputs": [],
   "source": [
    "def defect_distribution(data, note=''):\n",
    "    \"\"\"Helper function to visualize distribution of defects\n",
    "       :param mode -> str | classify or detect\"\"\"\n",
    "    \n",
    "    # count how many of each defect is present\n",
    "    dist = data.groupby('pred_labels')['pred_labels'].count().sort_values()\n",
    "    y = dist.tolist()\n",
    "\n",
    "    fail_dict = {8: 'none', 0: 'Loc', 1: 'Edge-Loc', 2: 'Center', 3: 'Edge-Ring', \n",
    "                 4: 'Scratch', 5: 'Random', 6: 'Near-full', 7: 'Donut'}\n",
    "    indices = dist.index.tolist()\n",
    "    x = [fail_dict[i] for i in indices]\n",
    "      \n",
    "    # bar plot\n",
    "    plt.barh(x, y)\n",
    "    xlim = math.ceil(max(y)*1.15)\n",
    "    plt.xlim(0, xlim)\n",
    "    plt.title(f'Failure Type Distribution\\n({note})')\n",
    "\n",
    "    for index, value in enumerate(y):\n",
    "        plt.text(value, index,\n",
    "                 str(value))\n",
    "\n",
    "    plt.show()"
   ]
  },
  {
   "cell_type": "code",
   "execution_count": 7,
   "metadata": {},
   "outputs": [
    {
     "data": {
      "image/png": "[encoded data removed]",
      "text/plain": [
       "<Figure size 432x288 with 1 Axes>"
      ]
     },
     "metadata": {
      "needs_background": "light"
     },
     "output_type": "display_data"
    }
   ],
   "source": [
    "# distribution of labels\n",
    "defect_distribution(data, note='Random Unlabeled Seed 0')"
   ]
  },
  {
   "cell_type": "code",
   "execution_count": 8,
   "metadata": {},
   "outputs": [
    {
     "data": {
      "text/html": [
       "<div>\n",
       "<style scoped>\n",
       "    .dataframe tbody tr th:only-of-type {\n",
       "        vertical-align: middle;\n",
       "    }\n",
       "\n",
       "    .dataframe tbody tr th {\n",
       "        vertical-align: top;\n",
       "    }\n",
       "\n",
       "    .dataframe thead th {\n",
       "        text-align: right;\n",
       "    }\n",
       "</style>\n",
       "<table border=\"1\" class=\"dataframe\">\n",
       "  <thead>\n",
       "    <tr style=\"text-align: right;\">\n",
       "      <th></th>\n",
       "      <th>ID</th>\n",
       "      <th>waferMap</th>\n",
       "      <th>dieSize</th>\n",
       "      <th>lotName</th>\n",
       "      <th>waferIndex</th>\n",
       "      <th>pred_labels</th>\n",
       "      <th>pred_prob</th>\n",
       "      <th>pred2_labels</th>\n",
       "      <th>pred2_prob</th>\n",
       "      <th>lot_defect_ct</th>\n",
       "    </tr>\n",
       "  </thead>\n",
       "  <tbody>\n",
       "    <tr>\n",
       "      <th>0</th>\n",
       "      <td>19770</td>\n",
       "      <td>[[0, 0, 0, 0, 0, 0, 0, 0, 0, 0, 0, 0, 1, 2, 1,...</td>\n",
       "      <td>741</td>\n",
       "      <td>lot2938</td>\n",
       "      <td>1</td>\n",
       "      <td>8</td>\n",
       "      <td>99.999988</td>\n",
       "      <td>8</td>\n",
       "      <td>0.0</td>\n",
       "      <td>0</td>\n",
       "    </tr>\n",
       "    <tr>\n",
       "      <th>1</th>\n",
       "      <td>19771</td>\n",
       "      <td>[[0, 0, 0, 0, 0, 0, 0, 0, 0, 0, 0, 0, 2, 2, 1,...</td>\n",
       "      <td>741</td>\n",
       "      <td>lot2938</td>\n",
       "      <td>2</td>\n",
       "      <td>8</td>\n",
       "      <td>100.000000</td>\n",
       "      <td>8</td>\n",
       "      <td>0.0</td>\n",
       "      <td>0</td>\n",
       "    </tr>\n",
       "    <tr>\n",
       "      <th>2</th>\n",
       "      <td>19772</td>\n",
       "      <td>[[0, 0, 0, 0, 0, 0, 0, 0, 0, 0, 0, 0, 1, 1, 1,...</td>\n",
       "      <td>741</td>\n",
       "      <td>lot2938</td>\n",
       "      <td>3</td>\n",
       "      <td>8</td>\n",
       "      <td>99.999690</td>\n",
       "      <td>8</td>\n",
       "      <td>0.0</td>\n",
       "      <td>0</td>\n",
       "    </tr>\n",
       "    <tr>\n",
       "      <th>3</th>\n",
       "      <td>19773</td>\n",
       "      <td>[[0, 0, 0, 0, 0, 0, 0, 0, 0, 0, 0, 0, 1, 2, 1,...</td>\n",
       "      <td>741</td>\n",
       "      <td>lot2938</td>\n",
       "      <td>4</td>\n",
       "      <td>8</td>\n",
       "      <td>100.000000</td>\n",
       "      <td>8</td>\n",
       "      <td>0.0</td>\n",
       "      <td>0</td>\n",
       "    </tr>\n",
       "    <tr>\n",
       "      <th>4</th>\n",
       "      <td>19774</td>\n",
       "      <td>[[0, 0, 0, 0, 0, 0, 0, 0, 0, 0, 0, 0, 2, 1, 2,...</td>\n",
       "      <td>741</td>\n",
       "      <td>lot2938</td>\n",
       "      <td>5</td>\n",
       "      <td>8</td>\n",
       "      <td>99.999905</td>\n",
       "      <td>8</td>\n",
       "      <td>0.0</td>\n",
       "      <td>0</td>\n",
       "    </tr>\n",
       "  </tbody>\n",
       "</table>\n",
       "</div>"
      ],
      "text/plain": [
       "      ID                                           waferMap  dieSize  lotName  \\\n",
       "0  19770  [[0, 0, 0, 0, 0, 0, 0, 0, 0, 0, 0, 0, 1, 2, 1,...      741  lot2938   \n",
       "1  19771  [[0, 0, 0, 0, 0, 0, 0, 0, 0, 0, 0, 0, 2, 2, 1,...      741  lot2938   \n",
       "2  19772  [[0, 0, 0, 0, 0, 0, 0, 0, 0, 0, 0, 0, 1, 1, 1,...      741  lot2938   \n",
       "3  19773  [[0, 0, 0, 0, 0, 0, 0, 0, 0, 0, 0, 0, 1, 2, 1,...      741  lot2938   \n",
       "4  19774  [[0, 0, 0, 0, 0, 0, 0, 0, 0, 0, 0, 0, 2, 1, 2,...      741  lot2938   \n",
       "\n",
       "   waferIndex  pred_labels   pred_prob  pred2_labels  pred2_prob  \\\n",
       "0           1            8   99.999988             8         0.0   \n",
       "1           2            8  100.000000             8         0.0   \n",
       "2           3            8   99.999690             8         0.0   \n",
       "3           4            8  100.000000             8         0.0   \n",
       "4           5            8   99.999905             8         0.0   \n",
       "\n",
       "   lot_defect_ct  \n",
       "0              0  \n",
       "1              0  \n",
       "2              0  \n",
       "3              0  \n",
       "4              0  "
      ]
     },
     "execution_count": 8,
     "metadata": {},
     "output_type": "execute_result"
    }
   ],
   "source": [
    "# count how many defective wafers in each lot\n",
    "# list of unique lots\n",
    "unique_lots = data.lotName.unique()\n",
    "\n",
    "lot_count = {x:0 for x in unique_lots}\n",
    "for i in range(len(data)):\n",
    "    if data.pred_labels[i] != 8:\n",
    "        lot_count[data.lotName[i]] += 1\n",
    "\n",
    "data['lot_defect_ct'] = data.lotName.apply(lambda x: lot_count[x])\n",
    "data.head()"
   ]
  },
  {
   "cell_type": "code",
   "execution_count": 9,
   "metadata": {},
   "outputs": [
    {
     "data": {
      "image/png": "[encoded data removed]",
      "text/plain": [
       "<Figure size 432x288 with 1 Axes>"
      ]
     },
     "metadata": {
      "needs_background": "light"
     },
     "output_type": "display_data"
    }
   ],
   "source": [
    "plt.hist(lot_count.values(), 50)\n",
    "pass"
   ]
  },
  {
   "cell_type": "code",
   "execution_count": 10,
   "metadata": {},
   "outputs": [],
   "source": [
    "def plot_lot(df1, lot, fig_size=(10, 10), col='waferMap', cmap='viridis'):\n",
    "    \"\"\"\n",
    "    Helper function to plot entire lot of wafers from df1.\n",
    "    Lots must have >= 2 samples.\n",
    "    \n",
    "    :param lot: -> str | lotName that will be plotted e.g. 'lot1'\n",
    "    :param fig_size: -> tuple | size of plot\n",
    "    :param col: -> str | column that contains waferMap image\n",
    "    :param cmap: -> str | color scheme to use\n",
    "    \"\"\"\n",
    "    \n",
    "    lot_df = df1[df1['lotName'] == lot]\n",
    "    lot_df.reset_index(inplace=True)\n",
    "\n",
    "    total_rows = len(lot_df.index)\n",
    "    ax_cnt = 5\n",
    "    \n",
    "    print(f'{lot}')\n",
    "    \n",
    "    fail_dict = {8:'None', 0:'Loc', 1:'Edge-Loc', 2:'Center', 3:'Edge-Ring', \n",
    "             4:'Scratch', 5:'Random', 6:'Near-full', 7:'Donut'}\n",
    "\n",
    "    fig, axs = plt.subplots(ax_cnt, ax_cnt, figsize=fig_size)\n",
    "    fig.tight_layout()\n",
    "\n",
    "    # Nested for loops to loop through all digits and number of examples input for plotting\n",
    "    for n_row in range(25):\n",
    "        if n_row < total_rows:\n",
    "            img = lot_df[col][n_row]\n",
    "            index = lot_df[\"ID\"][n_row]\n",
    "            ftype = fail_dict[lot_df.pred_labels[n_row]]\n",
    "            pct = lot_df.pred_prob[n_row]\n",
    "                \n",
    "        else:\n",
    "            img = np.zeros_like(lot_df[col][0])\n",
    "            index = ''\n",
    "            ftype = ''\n",
    "            pct = ''\n",
    "\n",
    "        # imshow to plot image in axs i,j location in plot\n",
    "        i = n_row % ax_cnt\n",
    "        j = int(n_row/ax_cnt)\n",
    "        axs[i, j].imshow(img,\n",
    "                         interpolation='none',\n",
    "                         cmap=cmap, vmax=2)\n",
    "        axs[i, j].axis('off')\n",
    "\n",
    "        # label the figure with the index# and defect classification [for future reference]\n",
    "        if ftype != 'None':\n",
    "            axs[i, j].set_title(f'{index}: {ftype}\\n{pct:.2f}%', fontsize=10, color='red')\n",
    "        else:\n",
    "            axs[i, j].set_title(f'{index}: {ftype}\\n{pct:.2f}%', fontsize=10)\n",
    "\n",
    "    plt.show()"
   ]
  },
  {
   "cell_type": "code",
   "execution_count": 11,
   "metadata": {},
   "outputs": [
    {
     "data": {
      "text/plain": [
       "{'lot2938': 0,\n",
       " 'lot3963': 0,\n",
       " 'lot4079': 1,\n",
       " 'lot4106': 0,\n",
       " 'lot4920': 0,\n",
       " 'lot5129': 0,\n",
       " 'lot5152': 1,\n",
       " 'lot6606': 1,\n",
       " 'lot6711': 7,\n",
       " 'lot6884': 2,\n",
       " 'lot7491': 3,\n",
       " 'lot9505': 0,\n",
       " 'lot10434': 2,\n",
       " 'lot12462': 0,\n",
       " 'lot13074': 0,\n",
       " 'lot14297': 5,\n",
       " 'lot14908': 0,\n",
       " 'lot15667': 4,\n",
       " 'lot16432': 25,\n",
       " 'lot17250': 1,\n",
       " 'lot17490': 0,\n",
       " 'lot17919': 0,\n",
       " 'lot18095': 0,\n",
       " 'lot18773': 0,\n",
       " 'lot18896': 1,\n",
       " 'lot19094': 0,\n",
       " 'lot19756': 0,\n",
       " 'lot19791': 0,\n",
       " 'lot20103': 1,\n",
       " 'lot20324': 1,\n",
       " 'lot22432': 0,\n",
       " 'lot23547': 0,\n",
       " 'lot24351': 1,\n",
       " 'lot24495': 0,\n",
       " 'lot24500': 0,\n",
       " 'lot25325': 1,\n",
       " 'lot26125': 0,\n",
       " 'lot26446': 2,\n",
       " 'lot26466': 0,\n",
       " 'lot28311': 3,\n",
       " 'lot28629': 0,\n",
       " 'lot28956': 2,\n",
       " 'lot32049': 0,\n",
       " 'lot33539': 1,\n",
       " 'lot35509': 1,\n",
       " 'lot35640': 0,\n",
       " 'lot36091': 0,\n",
       " 'lot38240': 1,\n",
       " 'lot39932': 0,\n",
       " 'lot41885': 7}"
      ]
     },
     "execution_count": 11,
     "metadata": {},
     "output_type": "execute_result"
    }
   ],
   "source": [
    "lot_count"
   ]
  },
  {
   "cell_type": "code",
   "execution_count": 12,
   "metadata": {},
   "outputs": [
    {
     "name": "stdout",
     "output_type": "stream",
     "text": [
      "lot2938\n"
     ]
    },
    {
     "data": {
      "image/png": "[encoded data removed]",
      "text/plain": [
       "<Figure size 576x576 with 25 Axes>"
      ]
     },
     "metadata": {
      "needs_background": "light"
     },
     "output_type": "display_data"
    }
   ],
   "source": [
    "plot_lot(data, 'lot2938', fig_size=(8,8))"
   ]
  },
  {
   "cell_type": "code",
   "execution_count": 13,
   "metadata": {},
   "outputs": [
    {
     "name": "stdout",
     "output_type": "stream",
     "text": [
      "lot15667\n"
     ]
    },
    {
     "data": {
      "image/png": "[encoded data removed]",
      "text/plain": [
       "<Figure size 576x576 with 25 Axes>"
      ]
     },
     "metadata": {
      "needs_background": "light"
     },
     "output_type": "display_data"
    }
   ],
   "source": [
    "plot_lot(data, 'lot15667', fig_size=(8,8))"
   ]
  },
  {
   "cell_type": "code",
   "execution_count": 14,
   "metadata": {},
   "outputs": [
    {
     "name": "stdout",
     "output_type": "stream",
     "text": [
      "lot16432\n"
     ]
    },
    {
     "data": {
      "image/png": "[encoded data removed]",
      "text/plain": [
       "<Figure size 576x576 with 25 Axes>"
      ]
     },
     "metadata": {
      "needs_background": "light"
     },
     "output_type": "display_data"
    }
   ],
   "source": [
    "plot_lot(data, 'lot16432', fig_size=(8,8))"
   ]
  },
  {
   "cell_type": "code",
   "execution_count": 16,
   "metadata": {},
   "outputs": [
    {
     "data": {
      "text/html": [
       "<div>\n",
       "<style scoped>\n",
       "    .dataframe tbody tr th:only-of-type {\n",
       "        vertical-align: middle;\n",
       "    }\n",
       "\n",
       "    .dataframe tbody tr th {\n",
       "        vertical-align: top;\n",
       "    }\n",
       "\n",
       "    .dataframe thead th {\n",
       "        text-align: right;\n",
       "    }\n",
       "</style>\n",
       "<table border=\"1\" class=\"dataframe\">\n",
       "  <thead>\n",
       "    <tr style=\"text-align: right;\">\n",
       "      <th></th>\n",
       "      <th>ID</th>\n",
       "      <th>waferMap</th>\n",
       "      <th>dieSize</th>\n",
       "      <th>lotName</th>\n",
       "      <th>waferIndex</th>\n",
       "      <th>pred_labels</th>\n",
       "      <th>pred_prob</th>\n",
       "      <th>pred2_labels</th>\n",
       "      <th>pred2_prob</th>\n",
       "      <th>lot_defect_ct</th>\n",
       "    </tr>\n",
       "  </thead>\n",
       "  <tbody>\n",
       "    <tr>\n",
       "      <th>425</th>\n",
       "      <td>233962</td>\n",
       "      <td>[[0, 0, 0, 0, 0, 0, 0, 0, 0, 0, 0, 0, 0, 0, 2,...</td>\n",
       "      <td>1139</td>\n",
       "      <td>lot15667</td>\n",
       "      <td>1</td>\n",
       "      <td>4</td>\n",
       "      <td>97.597265</td>\n",
       "      <td>0</td>\n",
       "      <td>2.348446</td>\n",
       "      <td>4</td>\n",
       "    </tr>\n",
       "  </tbody>\n",
       "</table>\n",
       "</div>"
      ],
      "text/plain": [
       "         ID                                           waferMap  dieSize  \\\n",
       "425  233962  [[0, 0, 0, 0, 0, 0, 0, 0, 0, 0, 0, 0, 0, 0, 2,...     1139   \n",
       "\n",
       "      lotName  waferIndex  pred_labels  pred_prob  pred2_labels  pred2_prob  \\\n",
       "425  lot15667           1            4  97.597265             0    2.348446   \n",
       "\n",
       "     lot_defect_ct  \n",
       "425              4  "
      ]
     },
     "execution_count": 16,
     "metadata": {},
     "output_type": "execute_result"
    }
   ],
   "source": [
    "data.loc[data.ID == 233962]"
   ]
  },
  {
   "cell_type": "code",
   "execution_count": null,
   "metadata": {},
   "outputs": [],
   "source": []
  },
  {
   "cell_type": "code",
   "execution_count": null,
   "metadata": {},
   "outputs": [],
   "source": []
  }
 ],
 "metadata": {
  "kernelspec": {
   "display_name": "Python 3",
   "language": "python",
   "name": "python3"
  },
  "language_info": {
   "codemirror_mode": {
    "name": "ipython",
    "version": 3
   },
   "file_extension": ".py",
   "mimetype": "text/x-python",
   "name": "python",
   "nbconvert_exporter": "python",
   "pygments_lexer": "ipython3",
   "version": "3.8.3"
  }
 },
 "nbformat": 4,
 "nbformat_minor": 4
}
